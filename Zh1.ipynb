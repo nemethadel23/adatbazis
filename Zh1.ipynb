{
    "metadata": {
        "kernelspec": {
            "name": "SQL",
            "display_name": "SQL",
            "language": "sql"
        },
        "language_info": {
            "name": "sql",
            "version": ""
        }
    },
    "nbformat_minor": 2,
    "nbformat": 4,
    "cells": [
        {
            "cell_type": "code",
            "source": [
                "SELECT COUNT(*) AS 'Azonos évben, de különböző hónapban történt foglalások száma'\r\n",
                "FROM Foglalas\r\n",
                "WHERE YEAR(METTOL) =YEAR(MEDDIG) AND MONTH(METTOL) <> MONTH(MEDDIG)"
            ],
            "metadata": {
                "azdata_cell_guid": "8aa7531f-73da-434f-aba2-61041ca8e5e0",
                "language": "sql"
            },
            "outputs": [
                {
                    "output_type": "display_data",
                    "data": {
                        "text/html": "(1 row affected)"
                    },
                    "metadata": {}
                },
                {
                    "output_type": "display_data",
                    "data": {
                        "text/html": "Total execution time: 00:00:00.013"
                    },
                    "metadata": {}
                },
                {
                    "output_type": "execute_result",
                    "metadata": {},
                    "execution_count": 1,
                    "data": {
                        "application/vnd.dataresource+json": {
                            "schema": {
                                "fields": [
                                    {
                                        "name": "(No column name)"
                                    }
                                ]
                            },
                            "data": [
                                {
                                    "(No column name)": "131"
                                }
                            ]
                        },
                        "text/html": [
                            "<table>",
                            "<tr><th>(No column name)</th></tr>",
                            "<tr><td>131</td></tr>",
                            "</table>"
                        ]
                    }
                }
            ],
            "execution_count": 1
        },
        {
            "cell_type": "code",
            "source": [
                "SELECT szh.SZALLAS_ID, \r\n",
                "        szh.SZALLAS_NEV,\r\n",
                "        COUNT(*) AS 'Klímás szobák száma'\r\n",
                "FROM Szallashely szh JOIN Szoba sz ON szh.SZALLAS_ID=sz.SZALLAS_FK\r\n",
                "WHERE KLIMAS IS NOT NULL\r\n",
                "GROUP BY szh.SZALLAS_NEV, szh.SZALLAS_ID "
            ],
            "metadata": {
                "azdata_cell_guid": "eb252ac0-77b6-4066-82e8-0940203544f4",
                "language": "sql",
                "tags": [
                    "hide_input"
                ]
            },
            "outputs": [
                {
                    "output_type": "display_data",
                    "data": {
                        "text/html": "(20 rows affected)"
                    },
                    "metadata": {}
                },
                {
                    "output_type": "display_data",
                    "data": {
                        "text/html": "Total execution time: 00:00:00.010"
                    },
                    "metadata": {}
                },
                {
                    "output_type": "execute_result",
                    "metadata": {},
                    "execution_count": 6,
                    "data": {
                        "application/vnd.dataresource+json": {
                            "schema": {
                                "fields": [
                                    {
                                        "name": "SZALLAS_ID"
                                    },
                                    {
                                        "name": "SZALLAS_NEV"
                                    },
                                    {
                                        "name": "Klímás szobák száma"
                                    }
                                ]
                            },
                            "data": [
                                {
                                    "SZALLAS_ID": "1",
                                    "SZALLAS_NEV": "Sába-Ház",
                                    "Klímás szobák száma": "12"
                                },
                                {
                                    "SZALLAS_ID": "2",
                                    "SZALLAS_NEV": "Családi Ház",
                                    "Klímás szobák száma": "4"
                                },
                                {
                                    "SZALLAS_ID": "3",
                                    "SZALLAS_NEV": "Fortuna Apartman",
                                    "Klímás szobák száma": "8"
                                },
                                {
                                    "SZALLAS_ID": "4",
                                    "SZALLAS_NEV": "Fortuna panzió",
                                    "Klímás szobák száma": "15"
                                },
                                {
                                    "SZALLAS_ID": "5",
                                    "SZALLAS_NEV": "Fortuna Panzió",
                                    "Klímás szobák száma": "10"
                                },
                                {
                                    "SZALLAS_ID": "6",
                                    "SZALLAS_NEV": "Kentaur Hotel",
                                    "Klímás szobák száma": "35"
                                },
                                {
                                    "SZALLAS_ID": "7",
                                    "SZALLAS_NEV": "Szieszta Apartmanház",
                                    "Klímás szobák száma": "6"
                                },
                                {
                                    "SZALLAS_ID": "8",
                                    "SZALLAS_NEV": "Hotel Három Hattyú",
                                    "Klímás szobák száma": "39"
                                },
                                {
                                    "SZALLAS_ID": "9",
                                    "SZALLAS_NEV": "Jáde panzió",
                                    "Klímás szobák száma": "5"
                                },
                                {
                                    "SZALLAS_ID": "10",
                                    "SZALLAS_NEV": "Lagúna Hotel",
                                    "Klímás szobák száma": "25"
                                },
                                {
                                    "SZALLAS_ID": "11",
                                    "SZALLAS_NEV": "Partiszél Vendégház",
                                    "Klímás szobák száma": "5"
                                },
                                {
                                    "SZALLAS_ID": "12",
                                    "SZALLAS_NEV": "Gold Hotel",
                                    "Klímás szobák száma": "50"
                                },
                                {
                                    "SZALLAS_ID": "13",
                                    "SZALLAS_NEV": "Riviéra Panzió",
                                    "Klímás szobák száma": "12"
                                },
                                {
                                    "SZALLAS_ID": "14",
                                    "SZALLAS_NEV": "Nyárfás Vendégház",
                                    "Klímás szobák száma": "4"
                                },
                                {
                                    "SZALLAS_ID": "15",
                                    "SZALLAS_NEV": "Tímárház Panzió",
                                    "Klímás szobák száma": "12"
                                },
                                {
                                    "SZALLAS_ID": "16",
                                    "SZALLAS_NEV": "Bagoly Hotel",
                                    "Klímás szobák száma": "20"
                                },
                                {
                                    "SZALLAS_ID": "17",
                                    "SZALLAS_NEV": "Szarvas Hotel",
                                    "Klímás szobák száma": "15"
                                },
                                {
                                    "SZALLAS_ID": "18",
                                    "SZALLAS_NEV": "Fortuna Apartman",
                                    "Klímás szobák száma": "3"
                                },
                                {
                                    "SZALLAS_ID": "19",
                                    "SZALLAS_NEV": "Nyárfás Vendégház",
                                    "Klímás szobák száma": "4"
                                },
                                {
                                    "SZALLAS_ID": "20",
                                    "SZALLAS_NEV": "Kollégium",
                                    "Klímás szobák száma": "10"
                                }
                            ]
                        },
                        "text/html": [
                            "<table>",
                            "<tr><th>SZALLAS_ID</th><th>SZALLAS_NEV</th><th>Klímás szobák száma</th></tr>",
                            "<tr><td>1</td><td>Sába-Ház</td><td>12</td></tr>",
                            "<tr><td>2</td><td>Családi Ház</td><td>4</td></tr>",
                            "<tr><td>3</td><td>Fortuna Apartman</td><td>8</td></tr>",
                            "<tr><td>4</td><td>Fortuna panzió</td><td>15</td></tr>",
                            "<tr><td>5</td><td>Fortuna Panzió</td><td>10</td></tr>",
                            "<tr><td>6</td><td>Kentaur Hotel</td><td>35</td></tr>",
                            "<tr><td>7</td><td>Szieszta Apartmanház</td><td>6</td></tr>",
                            "<tr><td>8</td><td>Hotel Három Hattyú</td><td>39</td></tr>",
                            "<tr><td>9</td><td>Jáde panzió</td><td>5</td></tr>",
                            "<tr><td>10</td><td>Lagúna Hotel</td><td>25</td></tr>",
                            "<tr><td>11</td><td>Partiszél Vendégház</td><td>5</td></tr>",
                            "<tr><td>12</td><td>Gold Hotel</td><td>50</td></tr>",
                            "<tr><td>13</td><td>Riviéra Panzió</td><td>12</td></tr>",
                            "<tr><td>14</td><td>Nyárfás Vendégház</td><td>4</td></tr>",
                            "<tr><td>15</td><td>Tímárház Panzió</td><td>12</td></tr>",
                            "<tr><td>16</td><td>Bagoly Hotel</td><td>20</td></tr>",
                            "<tr><td>17</td><td>Szarvas Hotel</td><td>15</td></tr>",
                            "<tr><td>18</td><td>Fortuna Apartman</td><td>3</td></tr>",
                            "<tr><td>19</td><td>Nyárfás Vendégház</td><td>4</td></tr>",
                            "<tr><td>20</td><td>Kollégium</td><td>10</td></tr>",
                            "</table>"
                        ]
                    }
                }
            ],
            "execution_count": 6
        },
        {
            "cell_type": "code",
            "source": [
                "SELECT szh.SZALLAS_NEV,\r\n",
                "        sz.SZOBA_ID,\r\n",
                "        sz.SZOBA_SZAMA,\r\n",
                "        sz.FEROHELY,\r\n",
                "        f.FOGLALAS_PK,\r\n",
                "        IIF(szh.TIPUS='panzió', 'Igen', 'Nem') AS 'Panzió?'\r\n",
                "FROM Szoba sz LEFT JOIN Foglalas f ON sz.SZALLAS_FK=f.SZOBA_FK\r\n",
                "                    JOIN Szallashely szh ON sz.SZALLAS_FK=szh.SZALLAS_ID\r\n",
                "WHERE FOGLALAS_PK IS NOT NULL\r\n",
                ""
            ],
            "metadata": {
                "language": "sql",
                "azdata_cell_guid": "151a10b2-565e-4892-947a-b8aa362e8fe0"
            },
            "outputs": [
                {
                    "output_type": "display_data",
                    "data": {
                        "text/html": "(1761 rows affected)"
                    },
                    "metadata": {}
                },
                {
                    "output_type": "display_data",
                    "data": {
                        "text/html": "Total execution time: 00:00:00.059"
                    },
                    "metadata": {}
                },
                {
                    "output_type": "execute_result",
                    "metadata": {},
                    "execution_count": 16,
                    "data": {
                        "application/vnd.dataresource+json": {
                            "schema": {
                                "fields": [
                                    {
                                        "name": "SZALLAS_NEV"
                                    },
                                    {
                                        "name": "SZOBA_ID"
                                    },
                                    {
                                        "name": "SZOBA_SZAMA"
                                    },
                                    {
                                        "name": "FEROHELY"
                                    },
                                    {
                                        "name": "FOGLALAS_PK"
                                    },
                                    {
                                        "name": "Panzió?"
                                    }
                                ]
                            },
                            "data": [
                                {
                                    "SZALLAS_NEV": "Sába-Ház",
                                    "SZOBA_ID": "1",
                                    "SZOBA_SZAMA": "1",
                                    "FEROHELY": "3",
                                    "FOGLALAS_PK": "620",
                                    "Panzió?": "Nem"
                                },
                                {
                                    "SZALLAS_NEV": "Sába-Ház",
                                    "SZOBA_ID": "1",
                                    "SZOBA_SZAMA": "1",
                                    "FEROHELY": "3",
                                    "FOGLALAS_PK": "738",
                                    "Panzió?": "Nem"
                                },
                                {
                                    "SZALLAS_NEV": "Sába-Ház",
                                    "SZOBA_ID": "1",
                                    "SZOBA_SZAMA": "1",
                                    "FEROHELY": "3",
                                    "FOGLALAS_PK": "803",
                                    "Panzió?": "Nem"
                                },
                                {
                                    "SZALLAS_NEV": "Sába-Ház",
                                    "SZOBA_ID": "1",
                                    "SZOBA_SZAMA": "1",
                                    "FEROHELY": "3",
                                    "FOGLALAS_PK": "949",
                                    "Panzió?": "Nem"
                                },
                                {
                                    "SZALLAS_NEV": "Sába-Ház",
                                    "SZOBA_ID": "1",
                                    "SZOBA_SZAMA": "1",
                                    "FEROHELY": "3",
                                    "FOGLALAS_PK": "1137",
                                    "Panzió?": "Nem"
                                },
                                {
                                    "SZALLAS_NEV": "Sába-Ház",
                                    "SZOBA_ID": "1",
                                    "SZOBA_SZAMA": "1",
                                    "FEROHELY": "3",
                                    "FOGLALAS_PK": "1152",
                                    "Panzió?": "Nem"
                                },
                                {
                                    "SZALLAS_NEV": "Sába-Ház",
                                    "SZOBA_ID": "1",
                                    "SZOBA_SZAMA": "1",
                                    "FEROHELY": "3",
                                    "FOGLALAS_PK": "1274",
                                    "Panzió?": "Nem"
                                },
                                {
                                    "SZALLAS_NEV": "Sába-Ház",
                                    "SZOBA_ID": "1",
                                    "SZOBA_SZAMA": "1",
                                    "FEROHELY": "3",
                                    "FOGLALAS_PK": "1334",
                                    "Panzió?": "Nem"
                                },
                                {
                                    "SZALLAS_NEV": "Sába-Ház",
                                    "SZOBA_ID": "2",
                                    "SZOBA_SZAMA": "2",
                                    "FEROHELY": "3",
                                    "FOGLALAS_PK": "620",
                                    "Panzió?": "Nem"
                                },
                                {
                                    "SZALLAS_NEV": "Sába-Ház",
                                    "SZOBA_ID": "2",
                                    "SZOBA_SZAMA": "2",
                                    "FEROHELY": "3",
                                    "FOGLALAS_PK": "738",
                                    "Panzió?": "Nem"
                                },
                                {
                                    "SZALLAS_NEV": "Sába-Ház",
                                    "SZOBA_ID": "2",
                                    "SZOBA_SZAMA": "2",
                                    "FEROHELY": "3",
                                    "FOGLALAS_PK": "803",
                                    "Panzió?": "Nem"
                                },
                                {
                                    "SZALLAS_NEV": "Sába-Ház",
                                    "SZOBA_ID": "2",
                                    "SZOBA_SZAMA": "2",
                                    "FEROHELY": "3",
                                    "FOGLALAS_PK": "949",
                                    "Panzió?": "Nem"
                                },
                                {
                                    "SZALLAS_NEV": "Sába-Ház",
                                    "SZOBA_ID": "2",
                                    "SZOBA_SZAMA": "2",
                                    "FEROHELY": "3",
                                    "FOGLALAS_PK": "1137",
                                    "Panzió?": "Nem"
                                },
                                {
                                    "SZALLAS_NEV": "Sába-Ház",
                                    "SZOBA_ID": "2",
                                    "SZOBA_SZAMA": "2",
                                    "FEROHELY": "3",
                                    "FOGLALAS_PK": "1152",
                                    "Panzió?": "Nem"
                                },
                                {
                                    "SZALLAS_NEV": "Sába-Ház",
                                    "SZOBA_ID": "2",
                                    "SZOBA_SZAMA": "2",
                                    "FEROHELY": "3",
                                    "FOGLALAS_PK": "1274",
                                    "Panzió?": "Nem"
                                },
                                {
                                    "SZALLAS_NEV": "Sába-Ház",
                                    "SZOBA_ID": "2",
                                    "SZOBA_SZAMA": "2",
                                    "FEROHELY": "3",
                                    "FOGLALAS_PK": "1334",
                                    "Panzió?": "Nem"
                                },
                                {
                                    "SZALLAS_NEV": "Sába-Ház",
                                    "SZOBA_ID": "3",
                                    "SZOBA_SZAMA": "3",
                                    "FEROHELY": "3",
                                    "FOGLALAS_PK": "620",
                                    "Panzió?": "Nem"
                                },
                                {
                                    "SZALLAS_NEV": "Sába-Ház",
                                    "SZOBA_ID": "3",
                                    "SZOBA_SZAMA": "3",
                                    "FEROHELY": "3",
                                    "FOGLALAS_PK": "738",
                                    "Panzió?": "Nem"
                                },
                                {
                                    "SZALLAS_NEV": "Sába-Ház",
                                    "SZOBA_ID": "3",
                                    "SZOBA_SZAMA": "3",
                                    "FEROHELY": "3",
                                    "FOGLALAS_PK": "803",
                                    "Panzió?": "Nem"
                                },
                                {
                                    "SZALLAS_NEV": "Sába-Ház",
                                    "SZOBA_ID": "3",
                                    "SZOBA_SZAMA": "3",
                                    "FEROHELY": "3",
                                    "FOGLALAS_PK": "949",
                                    "Panzió?": "Nem"
                                },
                                {
                                    "SZALLAS_NEV": "Sába-Ház",
                                    "SZOBA_ID": "3",
                                    "SZOBA_SZAMA": "3",
                                    "FEROHELY": "3",
                                    "FOGLALAS_PK": "1137",
                                    "Panzió?": "Nem"
                                },
                                {
                                    "SZALLAS_NEV": "Sába-Ház",
                                    "SZOBA_ID": "3",
                                    "SZOBA_SZAMA": "3",
                                    "FEROHELY": "3",
                                    "FOGLALAS_PK": "1152",
                                    "Panzió?": "Nem"
                                },
                                {
                                    "SZALLAS_NEV": "Sába-Ház",
                                    "SZOBA_ID": "3",
                                    "SZOBA_SZAMA": "3",
                                    "FEROHELY": "3",
                                    "FOGLALAS_PK": "1274",
                                    "Panzió?": "Nem"
                                },
                                {
                                    "SZALLAS_NEV": "Sába-Ház",
                                    "SZOBA_ID": "3",
                                    "SZOBA_SZAMA": "3",
                                    "FEROHELY": "3",
                                    "FOGLALAS_PK": "1334",
                                    "Panzió?": "Nem"
                                },
                                {
                                    "SZALLAS_NEV": "Sába-Ház",
                                    "SZOBA_ID": "4",
                                    "SZOBA_SZAMA": "4",
                                    "FEROHELY": "2",
                                    "FOGLALAS_PK": "620",
                                    "Panzió?": "Nem"
                                },
                                {
                                    "SZALLAS_NEV": "Sába-Ház",
                                    "SZOBA_ID": "4",
                                    "SZOBA_SZAMA": "4",
                                    "FEROHELY": "2",
                                    "FOGLALAS_PK": "738",
                                    "Panzió?": "Nem"
                                },
                                {
                                    "SZALLAS_NEV": "Sába-Ház",
                                    "SZOBA_ID": "4",
                                    "SZOBA_SZAMA": "4",
                                    "FEROHELY": "2",
                                    "FOGLALAS_PK": "803",
                                    "Panzió?": "Nem"
                                },
                                {
                                    "SZALLAS_NEV": "Sába-Ház",
                                    "SZOBA_ID": "4",
                                    "SZOBA_SZAMA": "4",
                                    "FEROHELY": "2",
                                    "FOGLALAS_PK": "949",
                                    "Panzió?": "Nem"
                                },
                                {
                                    "SZALLAS_NEV": "Sába-Ház",
                                    "SZOBA_ID": "4",
                                    "SZOBA_SZAMA": "4",
                                    "FEROHELY": "2",
                                    "FOGLALAS_PK": "1137",
                                    "Panzió?": "Nem"
                                },
                                {
                                    "SZALLAS_NEV": "Sába-Ház",
                                    "SZOBA_ID": "4",
                                    "SZOBA_SZAMA": "4",
                                    "FEROHELY": "2",
                                    "FOGLALAS_PK": "1152",
                                    "Panzió?": "Nem"
                                },
                                {
                                    "SZALLAS_NEV": "Sába-Ház",
                                    "SZOBA_ID": "4",
                                    "SZOBA_SZAMA": "4",
                                    "FEROHELY": "2",
                                    "FOGLALAS_PK": "1274",
                                    "Panzió?": "Nem"
                                },
                                {
                                    "SZALLAS_NEV": "Sába-Ház",
                                    "SZOBA_ID": "4",
                                    "SZOBA_SZAMA": "4",
                                    "FEROHELY": "2",
                                    "FOGLALAS_PK": "1334",
                                    "Panzió?": "Nem"
                                },
                                {
                                    "SZALLAS_NEV": "Sába-Ház",
                                    "SZOBA_ID": "5",
                                    "SZOBA_SZAMA": "5",
                                    "FEROHELY": "2",
                                    "FOGLALAS_PK": "620",
                                    "Panzió?": "Nem"
                                },
                                {
                                    "SZALLAS_NEV": "Sába-Ház",
                                    "SZOBA_ID": "5",
                                    "SZOBA_SZAMA": "5",
                                    "FEROHELY": "2",
                                    "FOGLALAS_PK": "738",
                                    "Panzió?": "Nem"
                                },
                                {
                                    "SZALLAS_NEV": "Sába-Ház",
                                    "SZOBA_ID": "5",
                                    "SZOBA_SZAMA": "5",
                                    "FEROHELY": "2",
                                    "FOGLALAS_PK": "803",
                                    "Panzió?": "Nem"
                                },
                                {
                                    "SZALLAS_NEV": "Sába-Ház",
                                    "SZOBA_ID": "5",
                                    "SZOBA_SZAMA": "5",
                                    "FEROHELY": "2",
                                    "FOGLALAS_PK": "949",
                                    "Panzió?": "Nem"
                                },
                                {
                                    "SZALLAS_NEV": "Sába-Ház",
                                    "SZOBA_ID": "5",
                                    "SZOBA_SZAMA": "5",
                                    "FEROHELY": "2",
                                    "FOGLALAS_PK": "1137",
                                    "Panzió?": "Nem"
                                },
                                {
                                    "SZALLAS_NEV": "Sába-Ház",
                                    "SZOBA_ID": "5",
                                    "SZOBA_SZAMA": "5",
                                    "FEROHELY": "2",
                                    "FOGLALAS_PK": "1152",
                                    "Panzió?": "Nem"
                                },
                                {
                                    "SZALLAS_NEV": "Sába-Ház",
                                    "SZOBA_ID": "5",
                                    "SZOBA_SZAMA": "5",
                                    "FEROHELY": "2",
                                    "FOGLALAS_PK": "1274",
                                    "Panzió?": "Nem"
                                },
                                {
                                    "SZALLAS_NEV": "Sába-Ház",
                                    "SZOBA_ID": "5",
                                    "SZOBA_SZAMA": "5",
                                    "FEROHELY": "2",
                                    "FOGLALAS_PK": "1334",
                                    "Panzió?": "Nem"
                                },
                                {
                                    "SZALLAS_NEV": "Sába-Ház",
                                    "SZOBA_ID": "6",
                                    "SZOBA_SZAMA": "6",
                                    "FEROHELY": "3",
                                    "FOGLALAS_PK": "620",
                                    "Panzió?": "Nem"
                                },
                                {
                                    "SZALLAS_NEV": "Sába-Ház",
                                    "SZOBA_ID": "6",
                                    "SZOBA_SZAMA": "6",
                                    "FEROHELY": "3",
                                    "FOGLALAS_PK": "738",
                                    "Panzió?": "Nem"
                                },
                                {
                                    "SZALLAS_NEV": "Sába-Ház",
                                    "SZOBA_ID": "6",
                                    "SZOBA_SZAMA": "6",
                                    "FEROHELY": "3",
                                    "FOGLALAS_PK": "803",
                                    "Panzió?": "Nem"
                                },
                                {
                                    "SZALLAS_NEV": "Sába-Ház",
                                    "SZOBA_ID": "6",
                                    "SZOBA_SZAMA": "6",
                                    "FEROHELY": "3",
                                    "FOGLALAS_PK": "949",
                                    "Panzió?": "Nem"
                                },
                                {
                                    "SZALLAS_NEV": "Sába-Ház",
                                    "SZOBA_ID": "6",
                                    "SZOBA_SZAMA": "6",
                                    "FEROHELY": "3",
                                    "FOGLALAS_PK": "1137",
                                    "Panzió?": "Nem"
                                },
                                {
                                    "SZALLAS_NEV": "Sába-Ház",
                                    "SZOBA_ID": "6",
                                    "SZOBA_SZAMA": "6",
                                    "FEROHELY": "3",
                                    "FOGLALAS_PK": "1152",
                                    "Panzió?": "Nem"
                                },
                                {
                                    "SZALLAS_NEV": "Sába-Ház",
                                    "SZOBA_ID": "6",
                                    "SZOBA_SZAMA": "6",
                                    "FEROHELY": "3",
                                    "FOGLALAS_PK": "1274",
                                    "Panzió?": "Nem"
                                },
                                {
                                    "SZALLAS_NEV": "Sába-Ház",
                                    "SZOBA_ID": "6",
                                    "SZOBA_SZAMA": "6",
                                    "FEROHELY": "3",
                                    "FOGLALAS_PK": "1334",
                                    "Panzió?": "Nem"
                                },
                                {
                                    "SZALLAS_NEV": "Sába-Ház",
                                    "SZOBA_ID": "7",
                                    "SZOBA_SZAMA": "7",
                                    "FEROHELY": "2",
                                    "FOGLALAS_PK": "620",
                                    "Panzió?": "Nem"
                                },
                                {
                                    "SZALLAS_NEV": "Sába-Ház",
                                    "SZOBA_ID": "7",
                                    "SZOBA_SZAMA": "7",
                                    "FEROHELY": "2",
                                    "FOGLALAS_PK": "738",
                                    "Panzió?": "Nem"
                                },
                                {
                                    "SZALLAS_NEV": "Sába-Ház",
                                    "SZOBA_ID": "7",
                                    "SZOBA_SZAMA": "7",
                                    "FEROHELY": "2",
                                    "FOGLALAS_PK": "803",
                                    "Panzió?": "Nem"
                                },
                                {
                                    "SZALLAS_NEV": "Sába-Ház",
                                    "SZOBA_ID": "7",
                                    "SZOBA_SZAMA": "7",
                                    "FEROHELY": "2",
                                    "FOGLALAS_PK": "949",
                                    "Panzió?": "Nem"
                                },
                                {
                                    "SZALLAS_NEV": "Sába-Ház",
                                    "SZOBA_ID": "7",
                                    "SZOBA_SZAMA": "7",
                                    "FEROHELY": "2",
                                    "FOGLALAS_PK": "1137",
                                    "Panzió?": "Nem"
                                },
                                {
                                    "SZALLAS_NEV": "Sába-Ház",
                                    "SZOBA_ID": "7",
                                    "SZOBA_SZAMA": "7",
                                    "FEROHELY": "2",
                                    "FOGLALAS_PK": "1152",
                                    "Panzió?": "Nem"
                                },
                                {
                                    "SZALLAS_NEV": "Sába-Ház",
                                    "SZOBA_ID": "7",
                                    "SZOBA_SZAMA": "7",
                                    "FEROHELY": "2",
                                    "FOGLALAS_PK": "1274",
                                    "Panzió?": "Nem"
                                },
                                {
                                    "SZALLAS_NEV": "Sába-Ház",
                                    "SZOBA_ID": "7",
                                    "SZOBA_SZAMA": "7",
                                    "FEROHELY": "2",
                                    "FOGLALAS_PK": "1334",
                                    "Panzió?": "Nem"
                                },
                                {
                                    "SZALLAS_NEV": "Sába-Ház",
                                    "SZOBA_ID": "8",
                                    "SZOBA_SZAMA": "8",
                                    "FEROHELY": "3",
                                    "FOGLALAS_PK": "620",
                                    "Panzió?": "Nem"
                                },
                                {
                                    "SZALLAS_NEV": "Sába-Ház",
                                    "SZOBA_ID": "8",
                                    "SZOBA_SZAMA": "8",
                                    "FEROHELY": "3",
                                    "FOGLALAS_PK": "738",
                                    "Panzió?": "Nem"
                                },
                                {
                                    "SZALLAS_NEV": "Sába-Ház",
                                    "SZOBA_ID": "8",
                                    "SZOBA_SZAMA": "8",
                                    "FEROHELY": "3",
                                    "FOGLALAS_PK": "803",
                                    "Panzió?": "Nem"
                                },
                                {
                                    "SZALLAS_NEV": "Sába-Ház",
                                    "SZOBA_ID": "8",
                                    "SZOBA_SZAMA": "8",
                                    "FEROHELY": "3",
                                    "FOGLALAS_PK": "949",
                                    "Panzió?": "Nem"
                                },
                                {
                                    "SZALLAS_NEV": "Sába-Ház",
                                    "SZOBA_ID": "8",
                                    "SZOBA_SZAMA": "8",
                                    "FEROHELY": "3",
                                    "FOGLALAS_PK": "1137",
                                    "Panzió?": "Nem"
                                },
                                {
                                    "SZALLAS_NEV": "Sába-Ház",
                                    "SZOBA_ID": "8",
                                    "SZOBA_SZAMA": "8",
                                    "FEROHELY": "3",
                                    "FOGLALAS_PK": "1152",
                                    "Panzió?": "Nem"
                                },
                                {
                                    "SZALLAS_NEV": "Sába-Ház",
                                    "SZOBA_ID": "8",
                                    "SZOBA_SZAMA": "8",
                                    "FEROHELY": "3",
                                    "FOGLALAS_PK": "1274",
                                    "Panzió?": "Nem"
                                },
                                {
                                    "SZALLAS_NEV": "Sába-Ház",
                                    "SZOBA_ID": "8",
                                    "SZOBA_SZAMA": "8",
                                    "FEROHELY": "3",
                                    "FOGLALAS_PK": "1334",
                                    "Panzió?": "Nem"
                                },
                                {
                                    "SZALLAS_NEV": "Sába-Ház",
                                    "SZOBA_ID": "9",
                                    "SZOBA_SZAMA": "9",
                                    "FEROHELY": "3",
                                    "FOGLALAS_PK": "620",
                                    "Panzió?": "Nem"
                                },
                                {
                                    "SZALLAS_NEV": "Sába-Ház",
                                    "SZOBA_ID": "9",
                                    "SZOBA_SZAMA": "9",
                                    "FEROHELY": "3",
                                    "FOGLALAS_PK": "738",
                                    "Panzió?": "Nem"
                                },
                                {
                                    "SZALLAS_NEV": "Sába-Ház",
                                    "SZOBA_ID": "9",
                                    "SZOBA_SZAMA": "9",
                                    "FEROHELY": "3",
                                    "FOGLALAS_PK": "803",
                                    "Panzió?": "Nem"
                                },
                                {
                                    "SZALLAS_NEV": "Sába-Ház",
                                    "SZOBA_ID": "9",
                                    "SZOBA_SZAMA": "9",
                                    "FEROHELY": "3",
                                    "FOGLALAS_PK": "949",
                                    "Panzió?": "Nem"
                                },
                                {
                                    "SZALLAS_NEV": "Sába-Ház",
                                    "SZOBA_ID": "9",
                                    "SZOBA_SZAMA": "9",
                                    "FEROHELY": "3",
                                    "FOGLALAS_PK": "1137",
                                    "Panzió?": "Nem"
                                },
                                {
                                    "SZALLAS_NEV": "Sába-Ház",
                                    "SZOBA_ID": "9",
                                    "SZOBA_SZAMA": "9",
                                    "FEROHELY": "3",
                                    "FOGLALAS_PK": "1152",
                                    "Panzió?": "Nem"
                                },
                                {
                                    "SZALLAS_NEV": "Sába-Ház",
                                    "SZOBA_ID": "9",
                                    "SZOBA_SZAMA": "9",
                                    "FEROHELY": "3",
                                    "FOGLALAS_PK": "1274",
                                    "Panzió?": "Nem"
                                },
                                {
                                    "SZALLAS_NEV": "Sába-Ház",
                                    "SZOBA_ID": "9",
                                    "SZOBA_SZAMA": "9",
                                    "FEROHELY": "3",
                                    "FOGLALAS_PK": "1334",
                                    "Panzió?": "Nem"
                                },
                                {
                                    "SZALLAS_NEV": "Sába-Ház",
                                    "SZOBA_ID": "10",
                                    "SZOBA_SZAMA": "10",
                                    "FEROHELY": "3",
                                    "FOGLALAS_PK": "620",
                                    "Panzió?": "Nem"
                                },
                                {
                                    "SZALLAS_NEV": "Sába-Ház",
                                    "SZOBA_ID": "10",
                                    "SZOBA_SZAMA": "10",
                                    "FEROHELY": "3",
                                    "FOGLALAS_PK": "738",
                                    "Panzió?": "Nem"
                                },
                                {
                                    "SZALLAS_NEV": "Sába-Ház",
                                    "SZOBA_ID": "10",
                                    "SZOBA_SZAMA": "10",
                                    "FEROHELY": "3",
                                    "FOGLALAS_PK": "803",
                                    "Panzió?": "Nem"
                                },
                                {
                                    "SZALLAS_NEV": "Sába-Ház",
                                    "SZOBA_ID": "10",
                                    "SZOBA_SZAMA": "10",
                                    "FEROHELY": "3",
                                    "FOGLALAS_PK": "949",
                                    "Panzió?": "Nem"
                                },
                                {
                                    "SZALLAS_NEV": "Sába-Ház",
                                    "SZOBA_ID": "10",
                                    "SZOBA_SZAMA": "10",
                                    "FEROHELY": "3",
                                    "FOGLALAS_PK": "1137",
                                    "Panzió?": "Nem"
                                },
                                {
                                    "SZALLAS_NEV": "Sába-Ház",
                                    "SZOBA_ID": "10",
                                    "SZOBA_SZAMA": "10",
                                    "FEROHELY": "3",
                                    "FOGLALAS_PK": "1152",
                                    "Panzió?": "Nem"
                                },
                                {
                                    "SZALLAS_NEV": "Sába-Ház",
                                    "SZOBA_ID": "10",
                                    "SZOBA_SZAMA": "10",
                                    "FEROHELY": "3",
                                    "FOGLALAS_PK": "1274",
                                    "Panzió?": "Nem"
                                },
                                {
                                    "SZALLAS_NEV": "Sába-Ház",
                                    "SZOBA_ID": "10",
                                    "SZOBA_SZAMA": "10",
                                    "FEROHELY": "3",
                                    "FOGLALAS_PK": "1334",
                                    "Panzió?": "Nem"
                                },
                                {
                                    "SZALLAS_NEV": "Sába-Ház",
                                    "SZOBA_ID": "11",
                                    "SZOBA_SZAMA": "11",
                                    "FEROHELY": "2",
                                    "FOGLALAS_PK": "620",
                                    "Panzió?": "Nem"
                                },
                                {
                                    "SZALLAS_NEV": "Sába-Ház",
                                    "SZOBA_ID": "11",
                                    "SZOBA_SZAMA": "11",
                                    "FEROHELY": "2",
                                    "FOGLALAS_PK": "738",
                                    "Panzió?": "Nem"
                                },
                                {
                                    "SZALLAS_NEV": "Sába-Ház",
                                    "SZOBA_ID": "11",
                                    "SZOBA_SZAMA": "11",
                                    "FEROHELY": "2",
                                    "FOGLALAS_PK": "803",
                                    "Panzió?": "Nem"
                                },
                                {
                                    "SZALLAS_NEV": "Sába-Ház",
                                    "SZOBA_ID": "11",
                                    "SZOBA_SZAMA": "11",
                                    "FEROHELY": "2",
                                    "FOGLALAS_PK": "949",
                                    "Panzió?": "Nem"
                                },
                                {
                                    "SZALLAS_NEV": "Sába-Ház",
                                    "SZOBA_ID": "11",
                                    "SZOBA_SZAMA": "11",
                                    "FEROHELY": "2",
                                    "FOGLALAS_PK": "1137",
                                    "Panzió?": "Nem"
                                },
                                {
                                    "SZALLAS_NEV": "Sába-Ház",
                                    "SZOBA_ID": "11",
                                    "SZOBA_SZAMA": "11",
                                    "FEROHELY": "2",
                                    "FOGLALAS_PK": "1152",
                                    "Panzió?": "Nem"
                                },
                                {
                                    "SZALLAS_NEV": "Sába-Ház",
                                    "SZOBA_ID": "11",
                                    "SZOBA_SZAMA": "11",
                                    "FEROHELY": "2",
                                    "FOGLALAS_PK": "1274",
                                    "Panzió?": "Nem"
                                },
                                {
                                    "SZALLAS_NEV": "Sába-Ház",
                                    "SZOBA_ID": "11",
                                    "SZOBA_SZAMA": "11",
                                    "FEROHELY": "2",
                                    "FOGLALAS_PK": "1334",
                                    "Panzió?": "Nem"
                                },
                                {
                                    "SZALLAS_NEV": "Sába-Ház",
                                    "SZOBA_ID": "12",
                                    "SZOBA_SZAMA": "12",
                                    "FEROHELY": "2",
                                    "FOGLALAS_PK": "620",
                                    "Panzió?": "Nem"
                                },
                                {
                                    "SZALLAS_NEV": "Sába-Ház",
                                    "SZOBA_ID": "12",
                                    "SZOBA_SZAMA": "12",
                                    "FEROHELY": "2",
                                    "FOGLALAS_PK": "738",
                                    "Panzió?": "Nem"
                                },
                                {
                                    "SZALLAS_NEV": "Sába-Ház",
                                    "SZOBA_ID": "12",
                                    "SZOBA_SZAMA": "12",
                                    "FEROHELY": "2",
                                    "FOGLALAS_PK": "803",
                                    "Panzió?": "Nem"
                                },
                                {
                                    "SZALLAS_NEV": "Sába-Ház",
                                    "SZOBA_ID": "12",
                                    "SZOBA_SZAMA": "12",
                                    "FEROHELY": "2",
                                    "FOGLALAS_PK": "949",
                                    "Panzió?": "Nem"
                                },
                                {
                                    "SZALLAS_NEV": "Sába-Ház",
                                    "SZOBA_ID": "12",
                                    "SZOBA_SZAMA": "12",
                                    "FEROHELY": "2",
                                    "FOGLALAS_PK": "1137",
                                    "Panzió?": "Nem"
                                },
                                {
                                    "SZALLAS_NEV": "Sába-Ház",
                                    "SZOBA_ID": "12",
                                    "SZOBA_SZAMA": "12",
                                    "FEROHELY": "2",
                                    "FOGLALAS_PK": "1152",
                                    "Panzió?": "Nem"
                                },
                                {
                                    "SZALLAS_NEV": "Sába-Ház",
                                    "SZOBA_ID": "12",
                                    "SZOBA_SZAMA": "12",
                                    "FEROHELY": "2",
                                    "FOGLALAS_PK": "1274",
                                    "Panzió?": "Nem"
                                },
                                {
                                    "SZALLAS_NEV": "Sába-Ház",
                                    "SZOBA_ID": "12",
                                    "SZOBA_SZAMA": "12",
                                    "FEROHELY": "2",
                                    "FOGLALAS_PK": "1334",
                                    "Panzió?": "Nem"
                                },
                                {
                                    "SZALLAS_NEV": "Családi Ház",
                                    "SZOBA_ID": "13",
                                    "SZOBA_SZAMA": "1",
                                    "FEROHELY": "3",
                                    "FOGLALAS_PK": "828",
                                    "Panzió?": "Nem"
                                },
                                {
                                    "SZALLAS_NEV": "Családi Ház",
                                    "SZOBA_ID": "13",
                                    "SZOBA_SZAMA": "1",
                                    "FEROHELY": "3",
                                    "FOGLALAS_PK": "1051",
                                    "Panzió?": "Nem"
                                },
                                {
                                    "SZALLAS_NEV": "Családi Ház",
                                    "SZOBA_ID": "13",
                                    "SZOBA_SZAMA": "1",
                                    "FEROHELY": "3",
                                    "FOGLALAS_PK": "1069",
                                    "Panzió?": "Nem"
                                },
                                {
                                    "SZALLAS_NEV": "Családi Ház",
                                    "SZOBA_ID": "13",
                                    "SZOBA_SZAMA": "1",
                                    "FEROHELY": "3",
                                    "FOGLALAS_PK": "1311",
                                    "Panzió?": "Nem"
                                },
                                {
                                    "SZALLAS_NEV": "Családi Ház",
                                    "SZOBA_ID": "14",
                                    "SZOBA_SZAMA": "2",
                                    "FEROHELY": "3",
                                    "FOGLALAS_PK": "828",
                                    "Panzió?": "Nem"
                                },
                                {
                                    "SZALLAS_NEV": "Családi Ház",
                                    "SZOBA_ID": "14",
                                    "SZOBA_SZAMA": "2",
                                    "FEROHELY": "3",
                                    "FOGLALAS_PK": "1051",
                                    "Panzió?": "Nem"
                                },
                                {
                                    "SZALLAS_NEV": "Családi Ház",
                                    "SZOBA_ID": "14",
                                    "SZOBA_SZAMA": "2",
                                    "FEROHELY": "3",
                                    "FOGLALAS_PK": "1069",
                                    "Panzió?": "Nem"
                                },
                                {
                                    "SZALLAS_NEV": "Családi Ház",
                                    "SZOBA_ID": "14",
                                    "SZOBA_SZAMA": "2",
                                    "FEROHELY": "3",
                                    "FOGLALAS_PK": "1311",
                                    "Panzió?": "Nem"
                                },
                                {
                                    "SZALLAS_NEV": "Családi Ház",
                                    "SZOBA_ID": "15",
                                    "SZOBA_SZAMA": "3",
                                    "FEROHELY": "2",
                                    "FOGLALAS_PK": "828",
                                    "Panzió?": "Nem"
                                },
                                {
                                    "SZALLAS_NEV": "Családi Ház",
                                    "SZOBA_ID": "15",
                                    "SZOBA_SZAMA": "3",
                                    "FEROHELY": "2",
                                    "FOGLALAS_PK": "1051",
                                    "Panzió?": "Nem"
                                },
                                {
                                    "SZALLAS_NEV": "Családi Ház",
                                    "SZOBA_ID": "15",
                                    "SZOBA_SZAMA": "3",
                                    "FEROHELY": "2",
                                    "FOGLALAS_PK": "1069",
                                    "Panzió?": "Nem"
                                },
                                {
                                    "SZALLAS_NEV": "Családi Ház",
                                    "SZOBA_ID": "15",
                                    "SZOBA_SZAMA": "3",
                                    "FEROHELY": "2",
                                    "FOGLALAS_PK": "1311",
                                    "Panzió?": "Nem"
                                },
                                {
                                    "SZALLAS_NEV": "Családi Ház",
                                    "SZOBA_ID": "16",
                                    "SZOBA_SZAMA": "4",
                                    "FEROHELY": "3",
                                    "FOGLALAS_PK": "828",
                                    "Panzió?": "Nem"
                                },
                                {
                                    "SZALLAS_NEV": "Családi Ház",
                                    "SZOBA_ID": "16",
                                    "SZOBA_SZAMA": "4",
                                    "FEROHELY": "3",
                                    "FOGLALAS_PK": "1051",
                                    "Panzió?": "Nem"
                                },
                                {
                                    "SZALLAS_NEV": "Családi Ház",
                                    "SZOBA_ID": "16",
                                    "SZOBA_SZAMA": "4",
                                    "FEROHELY": "3",
                                    "FOGLALAS_PK": "1069",
                                    "Panzió?": "Nem"
                                },
                                {
                                    "SZALLAS_NEV": "Családi Ház",
                                    "SZOBA_ID": "16",
                                    "SZOBA_SZAMA": "4",
                                    "FEROHELY": "3",
                                    "FOGLALAS_PK": "1311",
                                    "Panzió?": "Nem"
                                },
                                {
                                    "SZALLAS_NEV": "Fortuna Apartman",
                                    "SZOBA_ID": "17",
                                    "SZOBA_SZAMA": "1",
                                    "FEROHELY": "3",
                                    "FOGLALAS_PK": "629",
                                    "Panzió?": "Nem"
                                },
                                {
                                    "SZALLAS_NEV": "Fortuna Apartman",
                                    "SZOBA_ID": "17",
                                    "SZOBA_SZAMA": "1",
                                    "FEROHELY": "3",
                                    "FOGLALAS_PK": "666",
                                    "Panzió?": "Nem"
                                },
                                {
                                    "SZALLAS_NEV": "Fortuna Apartman",
                                    "SZOBA_ID": "17",
                                    "SZOBA_SZAMA": "1",
                                    "FEROHELY": "3",
                                    "FOGLALAS_PK": "788",
                                    "Panzió?": "Nem"
                                },
                                {
                                    "SZALLAS_NEV": "Fortuna Apartman",
                                    "SZOBA_ID": "17",
                                    "SZOBA_SZAMA": "1",
                                    "FEROHELY": "3",
                                    "FOGLALAS_PK": "1038",
                                    "Panzió?": "Nem"
                                },
                                {
                                    "SZALLAS_NEV": "Fortuna Apartman",
                                    "SZOBA_ID": "17",
                                    "SZOBA_SZAMA": "1",
                                    "FEROHELY": "3",
                                    "FOGLALAS_PK": "1110",
                                    "Panzió?": "Nem"
                                },
                                {
                                    "SZALLAS_NEV": "Fortuna Apartman",
                                    "SZOBA_ID": "17",
                                    "SZOBA_SZAMA": "1",
                                    "FEROHELY": "3",
                                    "FOGLALAS_PK": "1151",
                                    "Panzió?": "Nem"
                                },
                                {
                                    "SZALLAS_NEV": "Fortuna Apartman",
                                    "SZOBA_ID": "17",
                                    "SZOBA_SZAMA": "1",
                                    "FEROHELY": "3",
                                    "FOGLALAS_PK": "1434",
                                    "Panzió?": "Nem"
                                },
                                {
                                    "SZALLAS_NEV": "Fortuna Apartman",
                                    "SZOBA_ID": "17",
                                    "SZOBA_SZAMA": "1",
                                    "FEROHELY": "3",
                                    "FOGLALAS_PK": "1544",
                                    "Panzió?": "Nem"
                                },
                                {
                                    "SZALLAS_NEV": "Fortuna Apartman",
                                    "SZOBA_ID": "18",
                                    "SZOBA_SZAMA": "2",
                                    "FEROHELY": "3",
                                    "FOGLALAS_PK": "629",
                                    "Panzió?": "Nem"
                                },
                                {
                                    "SZALLAS_NEV": "Fortuna Apartman",
                                    "SZOBA_ID": "18",
                                    "SZOBA_SZAMA": "2",
                                    "FEROHELY": "3",
                                    "FOGLALAS_PK": "666",
                                    "Panzió?": "Nem"
                                },
                                {
                                    "SZALLAS_NEV": "Fortuna Apartman",
                                    "SZOBA_ID": "18",
                                    "SZOBA_SZAMA": "2",
                                    "FEROHELY": "3",
                                    "FOGLALAS_PK": "788",
                                    "Panzió?": "Nem"
                                },
                                {
                                    "SZALLAS_NEV": "Fortuna Apartman",
                                    "SZOBA_ID": "18",
                                    "SZOBA_SZAMA": "2",
                                    "FEROHELY": "3",
                                    "FOGLALAS_PK": "1038",
                                    "Panzió?": "Nem"
                                },
                                {
                                    "SZALLAS_NEV": "Fortuna Apartman",
                                    "SZOBA_ID": "18",
                                    "SZOBA_SZAMA": "2",
                                    "FEROHELY": "3",
                                    "FOGLALAS_PK": "1110",
                                    "Panzió?": "Nem"
                                },
                                {
                                    "SZALLAS_NEV": "Fortuna Apartman",
                                    "SZOBA_ID": "18",
                                    "SZOBA_SZAMA": "2",
                                    "FEROHELY": "3",
                                    "FOGLALAS_PK": "1151",
                                    "Panzió?": "Nem"
                                },
                                {
                                    "SZALLAS_NEV": "Fortuna Apartman",
                                    "SZOBA_ID": "18",
                                    "SZOBA_SZAMA": "2",
                                    "FEROHELY": "3",
                                    "FOGLALAS_PK": "1434",
                                    "Panzió?": "Nem"
                                },
                                {
                                    "SZALLAS_NEV": "Fortuna Apartman",
                                    "SZOBA_ID": "18",
                                    "SZOBA_SZAMA": "2",
                                    "FEROHELY": "3",
                                    "FOGLALAS_PK": "1544",
                                    "Panzió?": "Nem"
                                },
                                {
                                    "SZALLAS_NEV": "Fortuna Apartman",
                                    "SZOBA_ID": "19",
                                    "SZOBA_SZAMA": "3",
                                    "FEROHELY": "2",
                                    "FOGLALAS_PK": "629",
                                    "Panzió?": "Nem"
                                },
                                {
                                    "SZALLAS_NEV": "Fortuna Apartman",
                                    "SZOBA_ID": "19",
                                    "SZOBA_SZAMA": "3",
                                    "FEROHELY": "2",
                                    "FOGLALAS_PK": "666",
                                    "Panzió?": "Nem"
                                },
                                {
                                    "SZALLAS_NEV": "Fortuna Apartman",
                                    "SZOBA_ID": "19",
                                    "SZOBA_SZAMA": "3",
                                    "FEROHELY": "2",
                                    "FOGLALAS_PK": "788",
                                    "Panzió?": "Nem"
                                },
                                {
                                    "SZALLAS_NEV": "Fortuna Apartman",
                                    "SZOBA_ID": "19",
                                    "SZOBA_SZAMA": "3",
                                    "FEROHELY": "2",
                                    "FOGLALAS_PK": "1038",
                                    "Panzió?": "Nem"
                                },
                                {
                                    "SZALLAS_NEV": "Fortuna Apartman",
                                    "SZOBA_ID": "19",
                                    "SZOBA_SZAMA": "3",
                                    "FEROHELY": "2",
                                    "FOGLALAS_PK": "1110",
                                    "Panzió?": "Nem"
                                },
                                {
                                    "SZALLAS_NEV": "Fortuna Apartman",
                                    "SZOBA_ID": "19",
                                    "SZOBA_SZAMA": "3",
                                    "FEROHELY": "2",
                                    "FOGLALAS_PK": "1151",
                                    "Panzió?": "Nem"
                                },
                                {
                                    "SZALLAS_NEV": "Fortuna Apartman",
                                    "SZOBA_ID": "19",
                                    "SZOBA_SZAMA": "3",
                                    "FEROHELY": "2",
                                    "FOGLALAS_PK": "1434",
                                    "Panzió?": "Nem"
                                },
                                {
                                    "SZALLAS_NEV": "Fortuna Apartman",
                                    "SZOBA_ID": "19",
                                    "SZOBA_SZAMA": "3",
                                    "FEROHELY": "2",
                                    "FOGLALAS_PK": "1544",
                                    "Panzió?": "Nem"
                                },
                                {
                                    "SZALLAS_NEV": "Fortuna Apartman",
                                    "SZOBA_ID": "20",
                                    "SZOBA_SZAMA": "4",
                                    "FEROHELY": "3",
                                    "FOGLALAS_PK": "629",
                                    "Panzió?": "Nem"
                                },
                                {
                                    "SZALLAS_NEV": "Fortuna Apartman",
                                    "SZOBA_ID": "20",
                                    "SZOBA_SZAMA": "4",
                                    "FEROHELY": "3",
                                    "FOGLALAS_PK": "666",
                                    "Panzió?": "Nem"
                                },
                                {
                                    "SZALLAS_NEV": "Fortuna Apartman",
                                    "SZOBA_ID": "20",
                                    "SZOBA_SZAMA": "4",
                                    "FEROHELY": "3",
                                    "FOGLALAS_PK": "788",
                                    "Panzió?": "Nem"
                                },
                                {
                                    "SZALLAS_NEV": "Fortuna Apartman",
                                    "SZOBA_ID": "20",
                                    "SZOBA_SZAMA": "4",
                                    "FEROHELY": "3",
                                    "FOGLALAS_PK": "1038",
                                    "Panzió?": "Nem"
                                },
                                {
                                    "SZALLAS_NEV": "Fortuna Apartman",
                                    "SZOBA_ID": "20",
                                    "SZOBA_SZAMA": "4",
                                    "FEROHELY": "3",
                                    "FOGLALAS_PK": "1110",
                                    "Panzió?": "Nem"
                                },
                                {
                                    "SZALLAS_NEV": "Fortuna Apartman",
                                    "SZOBA_ID": "20",
                                    "SZOBA_SZAMA": "4",
                                    "FEROHELY": "3",
                                    "FOGLALAS_PK": "1151",
                                    "Panzió?": "Nem"
                                },
                                {
                                    "SZALLAS_NEV": "Fortuna Apartman",
                                    "SZOBA_ID": "20",
                                    "SZOBA_SZAMA": "4",
                                    "FEROHELY": "3",
                                    "FOGLALAS_PK": "1434",
                                    "Panzió?": "Nem"
                                },
                                {
                                    "SZALLAS_NEV": "Fortuna Apartman",
                                    "SZOBA_ID": "20",
                                    "SZOBA_SZAMA": "4",
                                    "FEROHELY": "3",
                                    "FOGLALAS_PK": "1544",
                                    "Panzió?": "Nem"
                                },
                                {
                                    "SZALLAS_NEV": "Fortuna Apartman",
                                    "SZOBA_ID": "21",
                                    "SZOBA_SZAMA": "5",
                                    "FEROHELY": "2",
                                    "FOGLALAS_PK": "629",
                                    "Panzió?": "Nem"
                                },
                                {
                                    "SZALLAS_NEV": "Fortuna Apartman",
                                    "SZOBA_ID": "21",
                                    "SZOBA_SZAMA": "5",
                                    "FEROHELY": "2",
                                    "FOGLALAS_PK": "666",
                                    "Panzió?": "Nem"
                                },
                                {
                                    "SZALLAS_NEV": "Fortuna Apartman",
                                    "SZOBA_ID": "21",
                                    "SZOBA_SZAMA": "5",
                                    "FEROHELY": "2",
                                    "FOGLALAS_PK": "788",
                                    "Panzió?": "Nem"
                                },
                                {
                                    "SZALLAS_NEV": "Fortuna Apartman",
                                    "SZOBA_ID": "21",
                                    "SZOBA_SZAMA": "5",
                                    "FEROHELY": "2",
                                    "FOGLALAS_PK": "1038",
                                    "Panzió?": "Nem"
                                },
                                {
                                    "SZALLAS_NEV": "Fortuna Apartman",
                                    "SZOBA_ID": "21",
                                    "SZOBA_SZAMA": "5",
                                    "FEROHELY": "2",
                                    "FOGLALAS_PK": "1110",
                                    "Panzió?": "Nem"
                                },
                                {
                                    "SZALLAS_NEV": "Fortuna Apartman",
                                    "SZOBA_ID": "21",
                                    "SZOBA_SZAMA": "5",
                                    "FEROHELY": "2",
                                    "FOGLALAS_PK": "1151",
                                    "Panzió?": "Nem"
                                },
                                {
                                    "SZALLAS_NEV": "Fortuna Apartman",
                                    "SZOBA_ID": "21",
                                    "SZOBA_SZAMA": "5",
                                    "FEROHELY": "2",
                                    "FOGLALAS_PK": "1434",
                                    "Panzió?": "Nem"
                                },
                                {
                                    "SZALLAS_NEV": "Fortuna Apartman",
                                    "SZOBA_ID": "21",
                                    "SZOBA_SZAMA": "5",
                                    "FEROHELY": "2",
                                    "FOGLALAS_PK": "1544",
                                    "Panzió?": "Nem"
                                },
                                {
                                    "SZALLAS_NEV": "Fortuna Apartman",
                                    "SZOBA_ID": "22",
                                    "SZOBA_SZAMA": "6",
                                    "FEROHELY": "3",
                                    "FOGLALAS_PK": "629",
                                    "Panzió?": "Nem"
                                },
                                {
                                    "SZALLAS_NEV": "Fortuna Apartman",
                                    "SZOBA_ID": "22",
                                    "SZOBA_SZAMA": "6",
                                    "FEROHELY": "3",
                                    "FOGLALAS_PK": "666",
                                    "Panzió?": "Nem"
                                },
                                {
                                    "SZALLAS_NEV": "Fortuna Apartman",
                                    "SZOBA_ID": "22",
                                    "SZOBA_SZAMA": "6",
                                    "FEROHELY": "3",
                                    "FOGLALAS_PK": "788",
                                    "Panzió?": "Nem"
                                },
                                {
                                    "SZALLAS_NEV": "Fortuna Apartman",
                                    "SZOBA_ID": "22",
                                    "SZOBA_SZAMA": "6",
                                    "FEROHELY": "3",
                                    "FOGLALAS_PK": "1038",
                                    "Panzió?": "Nem"
                                },
                                {
                                    "SZALLAS_NEV": "Fortuna Apartman",
                                    "SZOBA_ID": "22",
                                    "SZOBA_SZAMA": "6",
                                    "FEROHELY": "3",
                                    "FOGLALAS_PK": "1110",
                                    "Panzió?": "Nem"
                                },
                                {
                                    "SZALLAS_NEV": "Fortuna Apartman",
                                    "SZOBA_ID": "22",
                                    "SZOBA_SZAMA": "6",
                                    "FEROHELY": "3",
                                    "FOGLALAS_PK": "1151",
                                    "Panzió?": "Nem"
                                },
                                {
                                    "SZALLAS_NEV": "Fortuna Apartman",
                                    "SZOBA_ID": "22",
                                    "SZOBA_SZAMA": "6",
                                    "FEROHELY": "3",
                                    "FOGLALAS_PK": "1434",
                                    "Panzió?": "Nem"
                                },
                                {
                                    "SZALLAS_NEV": "Fortuna Apartman",
                                    "SZOBA_ID": "22",
                                    "SZOBA_SZAMA": "6",
                                    "FEROHELY": "3",
                                    "FOGLALAS_PK": "1544",
                                    "Panzió?": "Nem"
                                },
                                {
                                    "SZALLAS_NEV": "Fortuna Apartman",
                                    "SZOBA_ID": "23",
                                    "SZOBA_SZAMA": "7",
                                    "FEROHELY": "2",
                                    "FOGLALAS_PK": "629",
                                    "Panzió?": "Nem"
                                },
                                {
                                    "SZALLAS_NEV": "Fortuna Apartman",
                                    "SZOBA_ID": "23",
                                    "SZOBA_SZAMA": "7",
                                    "FEROHELY": "2",
                                    "FOGLALAS_PK": "666",
                                    "Panzió?": "Nem"
                                },
                                {
                                    "SZALLAS_NEV": "Fortuna Apartman",
                                    "SZOBA_ID": "23",
                                    "SZOBA_SZAMA": "7",
                                    "FEROHELY": "2",
                                    "FOGLALAS_PK": "788",
                                    "Panzió?": "Nem"
                                },
                                {
                                    "SZALLAS_NEV": "Fortuna Apartman",
                                    "SZOBA_ID": "23",
                                    "SZOBA_SZAMA": "7",
                                    "FEROHELY": "2",
                                    "FOGLALAS_PK": "1038",
                                    "Panzió?": "Nem"
                                },
                                {
                                    "SZALLAS_NEV": "Fortuna Apartman",
                                    "SZOBA_ID": "23",
                                    "SZOBA_SZAMA": "7",
                                    "FEROHELY": "2",
                                    "FOGLALAS_PK": "1110",
                                    "Panzió?": "Nem"
                                },
                                {
                                    "SZALLAS_NEV": "Fortuna Apartman",
                                    "SZOBA_ID": "23",
                                    "SZOBA_SZAMA": "7",
                                    "FEROHELY": "2",
                                    "FOGLALAS_PK": "1151",
                                    "Panzió?": "Nem"
                                },
                                {
                                    "SZALLAS_NEV": "Fortuna Apartman",
                                    "SZOBA_ID": "23",
                                    "SZOBA_SZAMA": "7",
                                    "FEROHELY": "2",
                                    "FOGLALAS_PK": "1434",
                                    "Panzió?": "Nem"
                                },
                                {
                                    "SZALLAS_NEV": "Fortuna Apartman",
                                    "SZOBA_ID": "23",
                                    "SZOBA_SZAMA": "7",
                                    "FEROHELY": "2",
                                    "FOGLALAS_PK": "1544",
                                    "Panzió?": "Nem"
                                },
                                {
                                    "SZALLAS_NEV": "Fortuna Apartman",
                                    "SZOBA_ID": "24",
                                    "SZOBA_SZAMA": "8",
                                    "FEROHELY": "4",
                                    "FOGLALAS_PK": "629",
                                    "Panzió?": "Nem"
                                },
                                {
                                    "SZALLAS_NEV": "Fortuna Apartman",
                                    "SZOBA_ID": "24",
                                    "SZOBA_SZAMA": "8",
                                    "FEROHELY": "4",
                                    "FOGLALAS_PK": "666",
                                    "Panzió?": "Nem"
                                },
                                {
                                    "SZALLAS_NEV": "Fortuna Apartman",
                                    "SZOBA_ID": "24",
                                    "SZOBA_SZAMA": "8",
                                    "FEROHELY": "4",
                                    "FOGLALAS_PK": "788",
                                    "Panzió?": "Nem"
                                },
                                {
                                    "SZALLAS_NEV": "Fortuna Apartman",
                                    "SZOBA_ID": "24",
                                    "SZOBA_SZAMA": "8",
                                    "FEROHELY": "4",
                                    "FOGLALAS_PK": "1038",
                                    "Panzió?": "Nem"
                                },
                                {
                                    "SZALLAS_NEV": "Fortuna Apartman",
                                    "SZOBA_ID": "24",
                                    "SZOBA_SZAMA": "8",
                                    "FEROHELY": "4",
                                    "FOGLALAS_PK": "1110",
                                    "Panzió?": "Nem"
                                },
                                {
                                    "SZALLAS_NEV": "Fortuna Apartman",
                                    "SZOBA_ID": "24",
                                    "SZOBA_SZAMA": "8",
                                    "FEROHELY": "4",
                                    "FOGLALAS_PK": "1151",
                                    "Panzió?": "Nem"
                                },
                                {
                                    "SZALLAS_NEV": "Fortuna Apartman",
                                    "SZOBA_ID": "24",
                                    "SZOBA_SZAMA": "8",
                                    "FEROHELY": "4",
                                    "FOGLALAS_PK": "1434",
                                    "Panzió?": "Nem"
                                },
                                {
                                    "SZALLAS_NEV": "Fortuna Apartman",
                                    "SZOBA_ID": "24",
                                    "SZOBA_SZAMA": "8",
                                    "FEROHELY": "4",
                                    "FOGLALAS_PK": "1544",
                                    "Panzió?": "Nem"
                                },
                                {
                                    "SZALLAS_NEV": "Fortuna panzió",
                                    "SZOBA_ID": "25",
                                    "SZOBA_SZAMA": "1",
                                    "FEROHELY": "3",
                                    "FOGLALAS_PK": "651",
                                    "Panzió?": "Igen"
                                },
                                {
                                    "SZALLAS_NEV": "Fortuna panzió",
                                    "SZOBA_ID": "25",
                                    "SZOBA_SZAMA": "1",
                                    "FEROHELY": "3",
                                    "FOGLALAS_PK": "946",
                                    "Panzió?": "Igen"
                                },
                                {
                                    "SZALLAS_NEV": "Fortuna panzió",
                                    "SZOBA_ID": "25",
                                    "SZOBA_SZAMA": "1",
                                    "FEROHELY": "3",
                                    "FOGLALAS_PK": "1001",
                                    "Panzió?": "Igen"
                                },
                                {
                                    "SZALLAS_NEV": "Fortuna panzió",
                                    "SZOBA_ID": "25",
                                    "SZOBA_SZAMA": "1",
                                    "FEROHELY": "3",
                                    "FOGLALAS_PK": "1127",
                                    "Panzió?": "Igen"
                                },
                                {
                                    "SZALLAS_NEV": "Fortuna panzió",
                                    "SZOBA_ID": "25",
                                    "SZOBA_SZAMA": "1",
                                    "FEROHELY": "3",
                                    "FOGLALAS_PK": "1132",
                                    "Panzió?": "Igen"
                                },
                                {
                                    "SZALLAS_NEV": "Fortuna panzió",
                                    "SZOBA_ID": "25",
                                    "SZOBA_SZAMA": "1",
                                    "FEROHELY": "3",
                                    "FOGLALAS_PK": "1492",
                                    "Panzió?": "Igen"
                                },
                                {
                                    "SZALLAS_NEV": "Fortuna panzió",
                                    "SZOBA_ID": "26",
                                    "SZOBA_SZAMA": "2",
                                    "FEROHELY": "2",
                                    "FOGLALAS_PK": "651",
                                    "Panzió?": "Igen"
                                },
                                {
                                    "SZALLAS_NEV": "Fortuna panzió",
                                    "SZOBA_ID": "26",
                                    "SZOBA_SZAMA": "2",
                                    "FEROHELY": "2",
                                    "FOGLALAS_PK": "946",
                                    "Panzió?": "Igen"
                                },
                                {
                                    "SZALLAS_NEV": "Fortuna panzió",
                                    "SZOBA_ID": "26",
                                    "SZOBA_SZAMA": "2",
                                    "FEROHELY": "2",
                                    "FOGLALAS_PK": "1001",
                                    "Panzió?": "Igen"
                                },
                                {
                                    "SZALLAS_NEV": "Fortuna panzió",
                                    "SZOBA_ID": "26",
                                    "SZOBA_SZAMA": "2",
                                    "FEROHELY": "2",
                                    "FOGLALAS_PK": "1127",
                                    "Panzió?": "Igen"
                                },
                                {
                                    "SZALLAS_NEV": "Fortuna panzió",
                                    "SZOBA_ID": "26",
                                    "SZOBA_SZAMA": "2",
                                    "FEROHELY": "2",
                                    "FOGLALAS_PK": "1132",
                                    "Panzió?": "Igen"
                                },
                                {
                                    "SZALLAS_NEV": "Fortuna panzió",
                                    "SZOBA_ID": "26",
                                    "SZOBA_SZAMA": "2",
                                    "FEROHELY": "2",
                                    "FOGLALAS_PK": "1492",
                                    "Panzió?": "Igen"
                                },
                                {
                                    "SZALLAS_NEV": "Fortuna panzió",
                                    "SZOBA_ID": "27",
                                    "SZOBA_SZAMA": "3",
                                    "FEROHELY": "3",
                                    "FOGLALAS_PK": "651",
                                    "Panzió?": "Igen"
                                },
                                {
                                    "SZALLAS_NEV": "Fortuna panzió",
                                    "SZOBA_ID": "27",
                                    "SZOBA_SZAMA": "3",
                                    "FEROHELY": "3",
                                    "FOGLALAS_PK": "946",
                                    "Panzió?": "Igen"
                                },
                                {
                                    "SZALLAS_NEV": "Fortuna panzió",
                                    "SZOBA_ID": "27",
                                    "SZOBA_SZAMA": "3",
                                    "FEROHELY": "3",
                                    "FOGLALAS_PK": "1001",
                                    "Panzió?": "Igen"
                                },
                                {
                                    "SZALLAS_NEV": "Fortuna panzió",
                                    "SZOBA_ID": "27",
                                    "SZOBA_SZAMA": "3",
                                    "FEROHELY": "3",
                                    "FOGLALAS_PK": "1127",
                                    "Panzió?": "Igen"
                                },
                                {
                                    "SZALLAS_NEV": "Fortuna panzió",
                                    "SZOBA_ID": "27",
                                    "SZOBA_SZAMA": "3",
                                    "FEROHELY": "3",
                                    "FOGLALAS_PK": "1132",
                                    "Panzió?": "Igen"
                                },
                                {
                                    "SZALLAS_NEV": "Fortuna panzió",
                                    "SZOBA_ID": "27",
                                    "SZOBA_SZAMA": "3",
                                    "FEROHELY": "3",
                                    "FOGLALAS_PK": "1492",
                                    "Panzió?": "Igen"
                                },
                                {
                                    "SZALLAS_NEV": "Fortuna panzió",
                                    "SZOBA_ID": "28",
                                    "SZOBA_SZAMA": "4",
                                    "FEROHELY": "2",
                                    "FOGLALAS_PK": "651",
                                    "Panzió?": "Igen"
                                },
                                {
                                    "SZALLAS_NEV": "Fortuna panzió",
                                    "SZOBA_ID": "28",
                                    "SZOBA_SZAMA": "4",
                                    "FEROHELY": "2",
                                    "FOGLALAS_PK": "946",
                                    "Panzió?": "Igen"
                                },
                                {
                                    "SZALLAS_NEV": "Fortuna panzió",
                                    "SZOBA_ID": "28",
                                    "SZOBA_SZAMA": "4",
                                    "FEROHELY": "2",
                                    "FOGLALAS_PK": "1001",
                                    "Panzió?": "Igen"
                                },
                                {
                                    "SZALLAS_NEV": "Fortuna panzió",
                                    "SZOBA_ID": "28",
                                    "SZOBA_SZAMA": "4",
                                    "FEROHELY": "2",
                                    "FOGLALAS_PK": "1127",
                                    "Panzió?": "Igen"
                                },
                                {
                                    "SZALLAS_NEV": "Fortuna panzió",
                                    "SZOBA_ID": "28",
                                    "SZOBA_SZAMA": "4",
                                    "FEROHELY": "2",
                                    "FOGLALAS_PK": "1132",
                                    "Panzió?": "Igen"
                                },
                                {
                                    "SZALLAS_NEV": "Fortuna panzió",
                                    "SZOBA_ID": "28",
                                    "SZOBA_SZAMA": "4",
                                    "FEROHELY": "2",
                                    "FOGLALAS_PK": "1492",
                                    "Panzió?": "Igen"
                                },
                                {
                                    "SZALLAS_NEV": "Fortuna panzió",
                                    "SZOBA_ID": "29",
                                    "SZOBA_SZAMA": "5",
                                    "FEROHELY": "2",
                                    "FOGLALAS_PK": "651",
                                    "Panzió?": "Igen"
                                },
                                {
                                    "SZALLAS_NEV": "Fortuna panzió",
                                    "SZOBA_ID": "29",
                                    "SZOBA_SZAMA": "5",
                                    "FEROHELY": "2",
                                    "FOGLALAS_PK": "946",
                                    "Panzió?": "Igen"
                                },
                                {
                                    "SZALLAS_NEV": "Fortuna panzió",
                                    "SZOBA_ID": "29",
                                    "SZOBA_SZAMA": "5",
                                    "FEROHELY": "2",
                                    "FOGLALAS_PK": "1001",
                                    "Panzió?": "Igen"
                                },
                                {
                                    "SZALLAS_NEV": "Fortuna panzió",
                                    "SZOBA_ID": "29",
                                    "SZOBA_SZAMA": "5",
                                    "FEROHELY": "2",
                                    "FOGLALAS_PK": "1127",
                                    "Panzió?": "Igen"
                                },
                                {
                                    "SZALLAS_NEV": "Fortuna panzió",
                                    "SZOBA_ID": "29",
                                    "SZOBA_SZAMA": "5",
                                    "FEROHELY": "2",
                                    "FOGLALAS_PK": "1132",
                                    "Panzió?": "Igen"
                                },
                                {
                                    "SZALLAS_NEV": "Fortuna panzió",
                                    "SZOBA_ID": "29",
                                    "SZOBA_SZAMA": "5",
                                    "FEROHELY": "2",
                                    "FOGLALAS_PK": "1492",
                                    "Panzió?": "Igen"
                                },
                                {
                                    "SZALLAS_NEV": "Fortuna panzió",
                                    "SZOBA_ID": "30",
                                    "SZOBA_SZAMA": "6",
                                    "FEROHELY": "3",
                                    "FOGLALAS_PK": "651",
                                    "Panzió?": "Igen"
                                },
                                {
                                    "SZALLAS_NEV": "Fortuna panzió",
                                    "SZOBA_ID": "30",
                                    "SZOBA_SZAMA": "6",
                                    "FEROHELY": "3",
                                    "FOGLALAS_PK": "946",
                                    "Panzió?": "Igen"
                                },
                                {
                                    "SZALLAS_NEV": "Fortuna panzió",
                                    "SZOBA_ID": "30",
                                    "SZOBA_SZAMA": "6",
                                    "FEROHELY": "3",
                                    "FOGLALAS_PK": "1001",
                                    "Panzió?": "Igen"
                                },
                                {
                                    "SZALLAS_NEV": "Fortuna panzió",
                                    "SZOBA_ID": "30",
                                    "SZOBA_SZAMA": "6",
                                    "FEROHELY": "3",
                                    "FOGLALAS_PK": "1127",
                                    "Panzió?": "Igen"
                                },
                                {
                                    "SZALLAS_NEV": "Fortuna panzió",
                                    "SZOBA_ID": "30",
                                    "SZOBA_SZAMA": "6",
                                    "FEROHELY": "3",
                                    "FOGLALAS_PK": "1132",
                                    "Panzió?": "Igen"
                                },
                                {
                                    "SZALLAS_NEV": "Fortuna panzió",
                                    "SZOBA_ID": "30",
                                    "SZOBA_SZAMA": "6",
                                    "FEROHELY": "3",
                                    "FOGLALAS_PK": "1492",
                                    "Panzió?": "Igen"
                                },
                                {
                                    "SZALLAS_NEV": "Fortuna panzió",
                                    "SZOBA_ID": "31",
                                    "SZOBA_SZAMA": "7",
                                    "FEROHELY": "3",
                                    "FOGLALAS_PK": "651",
                                    "Panzió?": "Igen"
                                },
                                {
                                    "SZALLAS_NEV": "Fortuna panzió",
                                    "SZOBA_ID": "31",
                                    "SZOBA_SZAMA": "7",
                                    "FEROHELY": "3",
                                    "FOGLALAS_PK": "946",
                                    "Panzió?": "Igen"
                                },
                                {
                                    "SZALLAS_NEV": "Fortuna panzió",
                                    "SZOBA_ID": "31",
                                    "SZOBA_SZAMA": "7",
                                    "FEROHELY": "3",
                                    "FOGLALAS_PK": "1001",
                                    "Panzió?": "Igen"
                                },
                                {
                                    "SZALLAS_NEV": "Fortuna panzió",
                                    "SZOBA_ID": "31",
                                    "SZOBA_SZAMA": "7",
                                    "FEROHELY": "3",
                                    "FOGLALAS_PK": "1127",
                                    "Panzió?": "Igen"
                                },
                                {
                                    "SZALLAS_NEV": "Fortuna panzió",
                                    "SZOBA_ID": "31",
                                    "SZOBA_SZAMA": "7",
                                    "FEROHELY": "3",
                                    "FOGLALAS_PK": "1132",
                                    "Panzió?": "Igen"
                                },
                                {
                                    "SZALLAS_NEV": "Fortuna panzió",
                                    "SZOBA_ID": "31",
                                    "SZOBA_SZAMA": "7",
                                    "FEROHELY": "3",
                                    "FOGLALAS_PK": "1492",
                                    "Panzió?": "Igen"
                                },
                                {
                                    "SZALLAS_NEV": "Fortuna panzió",
                                    "SZOBA_ID": "32",
                                    "SZOBA_SZAMA": "8",
                                    "FEROHELY": "2",
                                    "FOGLALAS_PK": "651",
                                    "Panzió?": "Igen"
                                },
                                {
                                    "SZALLAS_NEV": "Fortuna panzió",
                                    "SZOBA_ID": "32",
                                    "SZOBA_SZAMA": "8",
                                    "FEROHELY": "2",
                                    "FOGLALAS_PK": "946",
                                    "Panzió?": "Igen"
                                },
                                {
                                    "SZALLAS_NEV": "Fortuna panzió",
                                    "SZOBA_ID": "32",
                                    "SZOBA_SZAMA": "8",
                                    "FEROHELY": "2",
                                    "FOGLALAS_PK": "1001",
                                    "Panzió?": "Igen"
                                },
                                {
                                    "SZALLAS_NEV": "Fortuna panzió",
                                    "SZOBA_ID": "32",
                                    "SZOBA_SZAMA": "8",
                                    "FEROHELY": "2",
                                    "FOGLALAS_PK": "1127",
                                    "Panzió?": "Igen"
                                },
                                {
                                    "SZALLAS_NEV": "Fortuna panzió",
                                    "SZOBA_ID": "32",
                                    "SZOBA_SZAMA": "8",
                                    "FEROHELY": "2",
                                    "FOGLALAS_PK": "1132",
                                    "Panzió?": "Igen"
                                },
                                {
                                    "SZALLAS_NEV": "Fortuna panzió",
                                    "SZOBA_ID": "32",
                                    "SZOBA_SZAMA": "8",
                                    "FEROHELY": "2",
                                    "FOGLALAS_PK": "1492",
                                    "Panzió?": "Igen"
                                },
                                {
                                    "SZALLAS_NEV": "Fortuna panzió",
                                    "SZOBA_ID": "33",
                                    "SZOBA_SZAMA": "9",
                                    "FEROHELY": "2",
                                    "FOGLALAS_PK": "651",
                                    "Panzió?": "Igen"
                                },
                                {
                                    "SZALLAS_NEV": "Fortuna panzió",
                                    "SZOBA_ID": "33",
                                    "SZOBA_SZAMA": "9",
                                    "FEROHELY": "2",
                                    "FOGLALAS_PK": "946",
                                    "Panzió?": "Igen"
                                },
                                {
                                    "SZALLAS_NEV": "Fortuna panzió",
                                    "SZOBA_ID": "33",
                                    "SZOBA_SZAMA": "9",
                                    "FEROHELY": "2",
                                    "FOGLALAS_PK": "1001",
                                    "Panzió?": "Igen"
                                },
                                {
                                    "SZALLAS_NEV": "Fortuna panzió",
                                    "SZOBA_ID": "33",
                                    "SZOBA_SZAMA": "9",
                                    "FEROHELY": "2",
                                    "FOGLALAS_PK": "1127",
                                    "Panzió?": "Igen"
                                },
                                {
                                    "SZALLAS_NEV": "Fortuna panzió",
                                    "SZOBA_ID": "33",
                                    "SZOBA_SZAMA": "9",
                                    "FEROHELY": "2",
                                    "FOGLALAS_PK": "1132",
                                    "Panzió?": "Igen"
                                },
                                {
                                    "SZALLAS_NEV": "Fortuna panzió",
                                    "SZOBA_ID": "33",
                                    "SZOBA_SZAMA": "9",
                                    "FEROHELY": "2",
                                    "FOGLALAS_PK": "1492",
                                    "Panzió?": "Igen"
                                },
                                {
                                    "SZALLAS_NEV": "Fortuna panzió",
                                    "SZOBA_ID": "34",
                                    "SZOBA_SZAMA": "10",
                                    "FEROHELY": "3",
                                    "FOGLALAS_PK": "651",
                                    "Panzió?": "Igen"
                                },
                                {
                                    "SZALLAS_NEV": "Fortuna panzió",
                                    "SZOBA_ID": "34",
                                    "SZOBA_SZAMA": "10",
                                    "FEROHELY": "3",
                                    "FOGLALAS_PK": "946",
                                    "Panzió?": "Igen"
                                },
                                {
                                    "SZALLAS_NEV": "Fortuna panzió",
                                    "SZOBA_ID": "34",
                                    "SZOBA_SZAMA": "10",
                                    "FEROHELY": "3",
                                    "FOGLALAS_PK": "1001",
                                    "Panzió?": "Igen"
                                },
                                {
                                    "SZALLAS_NEV": "Fortuna panzió",
                                    "SZOBA_ID": "34",
                                    "SZOBA_SZAMA": "10",
                                    "FEROHELY": "3",
                                    "FOGLALAS_PK": "1127",
                                    "Panzió?": "Igen"
                                },
                                {
                                    "SZALLAS_NEV": "Fortuna panzió",
                                    "SZOBA_ID": "34",
                                    "SZOBA_SZAMA": "10",
                                    "FEROHELY": "3",
                                    "FOGLALAS_PK": "1132",
                                    "Panzió?": "Igen"
                                },
                                {
                                    "SZALLAS_NEV": "Fortuna panzió",
                                    "SZOBA_ID": "34",
                                    "SZOBA_SZAMA": "10",
                                    "FEROHELY": "3",
                                    "FOGLALAS_PK": "1492",
                                    "Panzió?": "Igen"
                                },
                                {
                                    "SZALLAS_NEV": "Fortuna panzió",
                                    "SZOBA_ID": "35",
                                    "SZOBA_SZAMA": "11",
                                    "FEROHELY": "3",
                                    "FOGLALAS_PK": "651",
                                    "Panzió?": "Igen"
                                },
                                {
                                    "SZALLAS_NEV": "Fortuna panzió",
                                    "SZOBA_ID": "35",
                                    "SZOBA_SZAMA": "11",
                                    "FEROHELY": "3",
                                    "FOGLALAS_PK": "946",
                                    "Panzió?": "Igen"
                                },
                                {
                                    "SZALLAS_NEV": "Fortuna panzió",
                                    "SZOBA_ID": "35",
                                    "SZOBA_SZAMA": "11",
                                    "FEROHELY": "3",
                                    "FOGLALAS_PK": "1001",
                                    "Panzió?": "Igen"
                                },
                                {
                                    "SZALLAS_NEV": "Fortuna panzió",
                                    "SZOBA_ID": "35",
                                    "SZOBA_SZAMA": "11",
                                    "FEROHELY": "3",
                                    "FOGLALAS_PK": "1127",
                                    "Panzió?": "Igen"
                                },
                                {
                                    "SZALLAS_NEV": "Fortuna panzió",
                                    "SZOBA_ID": "35",
                                    "SZOBA_SZAMA": "11",
                                    "FEROHELY": "3",
                                    "FOGLALAS_PK": "1132",
                                    "Panzió?": "Igen"
                                },
                                {
                                    "SZALLAS_NEV": "Fortuna panzió",
                                    "SZOBA_ID": "35",
                                    "SZOBA_SZAMA": "11",
                                    "FEROHELY": "3",
                                    "FOGLALAS_PK": "1492",
                                    "Panzió?": "Igen"
                                },
                                {
                                    "SZALLAS_NEV": "Fortuna panzió",
                                    "SZOBA_ID": "36",
                                    "SZOBA_SZAMA": "12",
                                    "FEROHELY": "3",
                                    "FOGLALAS_PK": "651",
                                    "Panzió?": "Igen"
                                },
                                {
                                    "SZALLAS_NEV": "Fortuna panzió",
                                    "SZOBA_ID": "36",
                                    "SZOBA_SZAMA": "12",
                                    "FEROHELY": "3",
                                    "FOGLALAS_PK": "946",
                                    "Panzió?": "Igen"
                                },
                                {
                                    "SZALLAS_NEV": "Fortuna panzió",
                                    "SZOBA_ID": "36",
                                    "SZOBA_SZAMA": "12",
                                    "FEROHELY": "3",
                                    "FOGLALAS_PK": "1001",
                                    "Panzió?": "Igen"
                                },
                                {
                                    "SZALLAS_NEV": "Fortuna panzió",
                                    "SZOBA_ID": "36",
                                    "SZOBA_SZAMA": "12",
                                    "FEROHELY": "3",
                                    "FOGLALAS_PK": "1127",
                                    "Panzió?": "Igen"
                                },
                                {
                                    "SZALLAS_NEV": "Fortuna panzió",
                                    "SZOBA_ID": "36",
                                    "SZOBA_SZAMA": "12",
                                    "FEROHELY": "3",
                                    "FOGLALAS_PK": "1132",
                                    "Panzió?": "Igen"
                                },
                                {
                                    "SZALLAS_NEV": "Fortuna panzió",
                                    "SZOBA_ID": "36",
                                    "SZOBA_SZAMA": "12",
                                    "FEROHELY": "3",
                                    "FOGLALAS_PK": "1492",
                                    "Panzió?": "Igen"
                                },
                                {
                                    "SZALLAS_NEV": "Fortuna panzió",
                                    "SZOBA_ID": "37",
                                    "SZOBA_SZAMA": "13",
                                    "FEROHELY": "2",
                                    "FOGLALAS_PK": "651",
                                    "Panzió?": "Igen"
                                },
                                {
                                    "SZALLAS_NEV": "Fortuna panzió",
                                    "SZOBA_ID": "37",
                                    "SZOBA_SZAMA": "13",
                                    "FEROHELY": "2",
                                    "FOGLALAS_PK": "946",
                                    "Panzió?": "Igen"
                                },
                                {
                                    "SZALLAS_NEV": "Fortuna panzió",
                                    "SZOBA_ID": "37",
                                    "SZOBA_SZAMA": "13",
                                    "FEROHELY": "2",
                                    "FOGLALAS_PK": "1001",
                                    "Panzió?": "Igen"
                                },
                                {
                                    "SZALLAS_NEV": "Fortuna panzió",
                                    "SZOBA_ID": "37",
                                    "SZOBA_SZAMA": "13",
                                    "FEROHELY": "2",
                                    "FOGLALAS_PK": "1127",
                                    "Panzió?": "Igen"
                                },
                                {
                                    "SZALLAS_NEV": "Fortuna panzió",
                                    "SZOBA_ID": "37",
                                    "SZOBA_SZAMA": "13",
                                    "FEROHELY": "2",
                                    "FOGLALAS_PK": "1132",
                                    "Panzió?": "Igen"
                                },
                                {
                                    "SZALLAS_NEV": "Fortuna panzió",
                                    "SZOBA_ID": "37",
                                    "SZOBA_SZAMA": "13",
                                    "FEROHELY": "2",
                                    "FOGLALAS_PK": "1492",
                                    "Panzió?": "Igen"
                                },
                                {
                                    "SZALLAS_NEV": "Fortuna panzió",
                                    "SZOBA_ID": "38",
                                    "SZOBA_SZAMA": "14",
                                    "FEROHELY": "2",
                                    "FOGLALAS_PK": "651",
                                    "Panzió?": "Igen"
                                },
                                {
                                    "SZALLAS_NEV": "Fortuna panzió",
                                    "SZOBA_ID": "38",
                                    "SZOBA_SZAMA": "14",
                                    "FEROHELY": "2",
                                    "FOGLALAS_PK": "946",
                                    "Panzió?": "Igen"
                                },
                                {
                                    "SZALLAS_NEV": "Fortuna panzió",
                                    "SZOBA_ID": "38",
                                    "SZOBA_SZAMA": "14",
                                    "FEROHELY": "2",
                                    "FOGLALAS_PK": "1001",
                                    "Panzió?": "Igen"
                                },
                                {
                                    "SZALLAS_NEV": "Fortuna panzió",
                                    "SZOBA_ID": "38",
                                    "SZOBA_SZAMA": "14",
                                    "FEROHELY": "2",
                                    "FOGLALAS_PK": "1127",
                                    "Panzió?": "Igen"
                                },
                                {
                                    "SZALLAS_NEV": "Fortuna panzió",
                                    "SZOBA_ID": "38",
                                    "SZOBA_SZAMA": "14",
                                    "FEROHELY": "2",
                                    "FOGLALAS_PK": "1132",
                                    "Panzió?": "Igen"
                                },
                                {
                                    "SZALLAS_NEV": "Fortuna panzió",
                                    "SZOBA_ID": "38",
                                    "SZOBA_SZAMA": "14",
                                    "FEROHELY": "2",
                                    "FOGLALAS_PK": "1492",
                                    "Panzió?": "Igen"
                                },
                                {
                                    "SZALLAS_NEV": "Fortuna panzió",
                                    "SZOBA_ID": "39",
                                    "SZOBA_SZAMA": "15",
                                    "FEROHELY": "2",
                                    "FOGLALAS_PK": "651",
                                    "Panzió?": "Igen"
                                },
                                {
                                    "SZALLAS_NEV": "Fortuna panzió",
                                    "SZOBA_ID": "39",
                                    "SZOBA_SZAMA": "15",
                                    "FEROHELY": "2",
                                    "FOGLALAS_PK": "946",
                                    "Panzió?": "Igen"
                                },
                                {
                                    "SZALLAS_NEV": "Fortuna panzió",
                                    "SZOBA_ID": "39",
                                    "SZOBA_SZAMA": "15",
                                    "FEROHELY": "2",
                                    "FOGLALAS_PK": "1001",
                                    "Panzió?": "Igen"
                                },
                                {
                                    "SZALLAS_NEV": "Fortuna panzió",
                                    "SZOBA_ID": "39",
                                    "SZOBA_SZAMA": "15",
                                    "FEROHELY": "2",
                                    "FOGLALAS_PK": "1127",
                                    "Panzió?": "Igen"
                                },
                                {
                                    "SZALLAS_NEV": "Fortuna panzió",
                                    "SZOBA_ID": "39",
                                    "SZOBA_SZAMA": "15",
                                    "FEROHELY": "2",
                                    "FOGLALAS_PK": "1132",
                                    "Panzió?": "Igen"
                                },
                                {
                                    "SZALLAS_NEV": "Fortuna panzió",
                                    "SZOBA_ID": "39",
                                    "SZOBA_SZAMA": "15",
                                    "FEROHELY": "2",
                                    "FOGLALAS_PK": "1492",
                                    "Panzió?": "Igen"
                                },
                                {
                                    "SZALLAS_NEV": "Fortuna Panzió",
                                    "SZOBA_ID": "40",
                                    "SZOBA_SZAMA": "1",
                                    "FEROHELY": "3",
                                    "FOGLALAS_PK": "564",
                                    "Panzió?": "Igen"
                                },
                                {
                                    "SZALLAS_NEV": "Fortuna Panzió",
                                    "SZOBA_ID": "40",
                                    "SZOBA_SZAMA": "1",
                                    "FEROHELY": "3",
                                    "FOGLALAS_PK": "965",
                                    "Panzió?": "Igen"
                                },
                                {
                                    "SZALLAS_NEV": "Fortuna Panzió",
                                    "SZOBA_ID": "40",
                                    "SZOBA_SZAMA": "1",
                                    "FEROHELY": "3",
                                    "FOGLALAS_PK": "1073",
                                    "Panzió?": "Igen"
                                },
                                {
                                    "SZALLAS_NEV": "Fortuna Panzió",
                                    "SZOBA_ID": "40",
                                    "SZOBA_SZAMA": "1",
                                    "FEROHELY": "3",
                                    "FOGLALAS_PK": "1257",
                                    "Panzió?": "Igen"
                                },
                                {
                                    "SZALLAS_NEV": "Fortuna Panzió",
                                    "SZOBA_ID": "41",
                                    "SZOBA_SZAMA": "2",
                                    "FEROHELY": "3",
                                    "FOGLALAS_PK": "564",
                                    "Panzió?": "Igen"
                                },
                                {
                                    "SZALLAS_NEV": "Fortuna Panzió",
                                    "SZOBA_ID": "41",
                                    "SZOBA_SZAMA": "2",
                                    "FEROHELY": "3",
                                    "FOGLALAS_PK": "965",
                                    "Panzió?": "Igen"
                                },
                                {
                                    "SZALLAS_NEV": "Fortuna Panzió",
                                    "SZOBA_ID": "41",
                                    "SZOBA_SZAMA": "2",
                                    "FEROHELY": "3",
                                    "FOGLALAS_PK": "1073",
                                    "Panzió?": "Igen"
                                },
                                {
                                    "SZALLAS_NEV": "Fortuna Panzió",
                                    "SZOBA_ID": "41",
                                    "SZOBA_SZAMA": "2",
                                    "FEROHELY": "3",
                                    "FOGLALAS_PK": "1257",
                                    "Panzió?": "Igen"
                                },
                                {
                                    "SZALLAS_NEV": "Fortuna Panzió",
                                    "SZOBA_ID": "42",
                                    "SZOBA_SZAMA": "3",
                                    "FEROHELY": "2",
                                    "FOGLALAS_PK": "564",
                                    "Panzió?": "Igen"
                                },
                                {
                                    "SZALLAS_NEV": "Fortuna Panzió",
                                    "SZOBA_ID": "42",
                                    "SZOBA_SZAMA": "3",
                                    "FEROHELY": "2",
                                    "FOGLALAS_PK": "965",
                                    "Panzió?": "Igen"
                                },
                                {
                                    "SZALLAS_NEV": "Fortuna Panzió",
                                    "SZOBA_ID": "42",
                                    "SZOBA_SZAMA": "3",
                                    "FEROHELY": "2",
                                    "FOGLALAS_PK": "1073",
                                    "Panzió?": "Igen"
                                },
                                {
                                    "SZALLAS_NEV": "Fortuna Panzió",
                                    "SZOBA_ID": "42",
                                    "SZOBA_SZAMA": "3",
                                    "FEROHELY": "2",
                                    "FOGLALAS_PK": "1257",
                                    "Panzió?": "Igen"
                                },
                                {
                                    "SZALLAS_NEV": "Fortuna Panzió",
                                    "SZOBA_ID": "43",
                                    "SZOBA_SZAMA": "4",
                                    "FEROHELY": "3",
                                    "FOGLALAS_PK": "564",
                                    "Panzió?": "Igen"
                                },
                                {
                                    "SZALLAS_NEV": "Fortuna Panzió",
                                    "SZOBA_ID": "43",
                                    "SZOBA_SZAMA": "4",
                                    "FEROHELY": "3",
                                    "FOGLALAS_PK": "965",
                                    "Panzió?": "Igen"
                                },
                                {
                                    "SZALLAS_NEV": "Fortuna Panzió",
                                    "SZOBA_ID": "43",
                                    "SZOBA_SZAMA": "4",
                                    "FEROHELY": "3",
                                    "FOGLALAS_PK": "1073",
                                    "Panzió?": "Igen"
                                },
                                {
                                    "SZALLAS_NEV": "Fortuna Panzió",
                                    "SZOBA_ID": "43",
                                    "SZOBA_SZAMA": "4",
                                    "FEROHELY": "3",
                                    "FOGLALAS_PK": "1257",
                                    "Panzió?": "Igen"
                                },
                                {
                                    "SZALLAS_NEV": "Fortuna Panzió",
                                    "SZOBA_ID": "44",
                                    "SZOBA_SZAMA": "5",
                                    "FEROHELY": "3",
                                    "FOGLALAS_PK": "564",
                                    "Panzió?": "Igen"
                                },
                                {
                                    "SZALLAS_NEV": "Fortuna Panzió",
                                    "SZOBA_ID": "44",
                                    "SZOBA_SZAMA": "5",
                                    "FEROHELY": "3",
                                    "FOGLALAS_PK": "965",
                                    "Panzió?": "Igen"
                                },
                                {
                                    "SZALLAS_NEV": "Fortuna Panzió",
                                    "SZOBA_ID": "44",
                                    "SZOBA_SZAMA": "5",
                                    "FEROHELY": "3",
                                    "FOGLALAS_PK": "1073",
                                    "Panzió?": "Igen"
                                },
                                {
                                    "SZALLAS_NEV": "Fortuna Panzió",
                                    "SZOBA_ID": "44",
                                    "SZOBA_SZAMA": "5",
                                    "FEROHELY": "3",
                                    "FOGLALAS_PK": "1257",
                                    "Panzió?": "Igen"
                                },
                                {
                                    "SZALLAS_NEV": "Fortuna Panzió",
                                    "SZOBA_ID": "45",
                                    "SZOBA_SZAMA": "6",
                                    "FEROHELY": "2",
                                    "FOGLALAS_PK": "564",
                                    "Panzió?": "Igen"
                                },
                                {
                                    "SZALLAS_NEV": "Fortuna Panzió",
                                    "SZOBA_ID": "45",
                                    "SZOBA_SZAMA": "6",
                                    "FEROHELY": "2",
                                    "FOGLALAS_PK": "965",
                                    "Panzió?": "Igen"
                                },
                                {
                                    "SZALLAS_NEV": "Fortuna Panzió",
                                    "SZOBA_ID": "45",
                                    "SZOBA_SZAMA": "6",
                                    "FEROHELY": "2",
                                    "FOGLALAS_PK": "1073",
                                    "Panzió?": "Igen"
                                },
                                {
                                    "SZALLAS_NEV": "Fortuna Panzió",
                                    "SZOBA_ID": "45",
                                    "SZOBA_SZAMA": "6",
                                    "FEROHELY": "2",
                                    "FOGLALAS_PK": "1257",
                                    "Panzió?": "Igen"
                                },
                                {
                                    "SZALLAS_NEV": "Fortuna Panzió",
                                    "SZOBA_ID": "46",
                                    "SZOBA_SZAMA": "7",
                                    "FEROHELY": "3",
                                    "FOGLALAS_PK": "564",
                                    "Panzió?": "Igen"
                                },
                                {
                                    "SZALLAS_NEV": "Fortuna Panzió",
                                    "SZOBA_ID": "46",
                                    "SZOBA_SZAMA": "7",
                                    "FEROHELY": "3",
                                    "FOGLALAS_PK": "965",
                                    "Panzió?": "Igen"
                                },
                                {
                                    "SZALLAS_NEV": "Fortuna Panzió",
                                    "SZOBA_ID": "46",
                                    "SZOBA_SZAMA": "7",
                                    "FEROHELY": "3",
                                    "FOGLALAS_PK": "1073",
                                    "Panzió?": "Igen"
                                },
                                {
                                    "SZALLAS_NEV": "Fortuna Panzió",
                                    "SZOBA_ID": "46",
                                    "SZOBA_SZAMA": "7",
                                    "FEROHELY": "3",
                                    "FOGLALAS_PK": "1257",
                                    "Panzió?": "Igen"
                                },
                                {
                                    "SZALLAS_NEV": "Fortuna Panzió",
                                    "SZOBA_ID": "47",
                                    "SZOBA_SZAMA": "8",
                                    "FEROHELY": "2",
                                    "FOGLALAS_PK": "564",
                                    "Panzió?": "Igen"
                                },
                                {
                                    "SZALLAS_NEV": "Fortuna Panzió",
                                    "SZOBA_ID": "47",
                                    "SZOBA_SZAMA": "8",
                                    "FEROHELY": "2",
                                    "FOGLALAS_PK": "965",
                                    "Panzió?": "Igen"
                                },
                                {
                                    "SZALLAS_NEV": "Fortuna Panzió",
                                    "SZOBA_ID": "47",
                                    "SZOBA_SZAMA": "8",
                                    "FEROHELY": "2",
                                    "FOGLALAS_PK": "1073",
                                    "Panzió?": "Igen"
                                },
                                {
                                    "SZALLAS_NEV": "Fortuna Panzió",
                                    "SZOBA_ID": "47",
                                    "SZOBA_SZAMA": "8",
                                    "FEROHELY": "2",
                                    "FOGLALAS_PK": "1257",
                                    "Panzió?": "Igen"
                                },
                                {
                                    "SZALLAS_NEV": "Fortuna Panzió",
                                    "SZOBA_ID": "48",
                                    "SZOBA_SZAMA": "9",
                                    "FEROHELY": "3",
                                    "FOGLALAS_PK": "564",
                                    "Panzió?": "Igen"
                                },
                                {
                                    "SZALLAS_NEV": "Fortuna Panzió",
                                    "SZOBA_ID": "48",
                                    "SZOBA_SZAMA": "9",
                                    "FEROHELY": "3",
                                    "FOGLALAS_PK": "965",
                                    "Panzió?": "Igen"
                                },
                                {
                                    "SZALLAS_NEV": "Fortuna Panzió",
                                    "SZOBA_ID": "48",
                                    "SZOBA_SZAMA": "9",
                                    "FEROHELY": "3",
                                    "FOGLALAS_PK": "1073",
                                    "Panzió?": "Igen"
                                },
                                {
                                    "SZALLAS_NEV": "Fortuna Panzió",
                                    "SZOBA_ID": "48",
                                    "SZOBA_SZAMA": "9",
                                    "FEROHELY": "3",
                                    "FOGLALAS_PK": "1257",
                                    "Panzió?": "Igen"
                                },
                                {
                                    "SZALLAS_NEV": "Fortuna Panzió",
                                    "SZOBA_ID": "49",
                                    "SZOBA_SZAMA": "10",
                                    "FEROHELY": "3",
                                    "FOGLALAS_PK": "564",
                                    "Panzió?": "Igen"
                                },
                                {
                                    "SZALLAS_NEV": "Fortuna Panzió",
                                    "SZOBA_ID": "49",
                                    "SZOBA_SZAMA": "10",
                                    "FEROHELY": "3",
                                    "FOGLALAS_PK": "965",
                                    "Panzió?": "Igen"
                                },
                                {
                                    "SZALLAS_NEV": "Fortuna Panzió",
                                    "SZOBA_ID": "49",
                                    "SZOBA_SZAMA": "10",
                                    "FEROHELY": "3",
                                    "FOGLALAS_PK": "1073",
                                    "Panzió?": "Igen"
                                },
                                {
                                    "SZALLAS_NEV": "Fortuna Panzió",
                                    "SZOBA_ID": "49",
                                    "SZOBA_SZAMA": "10",
                                    "FEROHELY": "3",
                                    "FOGLALAS_PK": "1257",
                                    "Panzió?": "Igen"
                                },
                                {
                                    "SZALLAS_NEV": "Kentaur Hotel",
                                    "SZOBA_ID": "50",
                                    "SZOBA_SZAMA": "1",
                                    "FEROHELY": "2",
                                    "FOGLALAS_PK": "560",
                                    "Panzió?": "Nem"
                                },
                                {
                                    "SZALLAS_NEV": "Kentaur Hotel",
                                    "SZOBA_ID": "50",
                                    "SZOBA_SZAMA": "1",
                                    "FEROHELY": "2",
                                    "FOGLALAS_PK": "772",
                                    "Panzió?": "Nem"
                                },
                                {
                                    "SZALLAS_NEV": "Kentaur Hotel",
                                    "SZOBA_ID": "50",
                                    "SZOBA_SZAMA": "1",
                                    "FEROHELY": "2",
                                    "FOGLALAS_PK": "850",
                                    "Panzió?": "Nem"
                                },
                                {
                                    "SZALLAS_NEV": "Kentaur Hotel",
                                    "SZOBA_ID": "50",
                                    "SZOBA_SZAMA": "1",
                                    "FEROHELY": "2",
                                    "FOGLALAS_PK": "873",
                                    "Panzió?": "Nem"
                                },
                                {
                                    "SZALLAS_NEV": "Kentaur Hotel",
                                    "SZOBA_ID": "50",
                                    "SZOBA_SZAMA": "1",
                                    "FEROHELY": "2",
                                    "FOGLALAS_PK": "990",
                                    "Panzió?": "Nem"
                                },
                                {
                                    "SZALLAS_NEV": "Kentaur Hotel",
                                    "SZOBA_ID": "50",
                                    "SZOBA_SZAMA": "1",
                                    "FEROHELY": "2",
                                    "FOGLALAS_PK": "1099",
                                    "Panzió?": "Nem"
                                },
                                {
                                    "SZALLAS_NEV": "Kentaur Hotel",
                                    "SZOBA_ID": "51",
                                    "SZOBA_SZAMA": "2",
                                    "FEROHELY": "3",
                                    "FOGLALAS_PK": "560",
                                    "Panzió?": "Nem"
                                },
                                {
                                    "SZALLAS_NEV": "Kentaur Hotel",
                                    "SZOBA_ID": "51",
                                    "SZOBA_SZAMA": "2",
                                    "FEROHELY": "3",
                                    "FOGLALAS_PK": "772",
                                    "Panzió?": "Nem"
                                },
                                {
                                    "SZALLAS_NEV": "Kentaur Hotel",
                                    "SZOBA_ID": "51",
                                    "SZOBA_SZAMA": "2",
                                    "FEROHELY": "3",
                                    "FOGLALAS_PK": "850",
                                    "Panzió?": "Nem"
                                },
                                {
                                    "SZALLAS_NEV": "Kentaur Hotel",
                                    "SZOBA_ID": "51",
                                    "SZOBA_SZAMA": "2",
                                    "FEROHELY": "3",
                                    "FOGLALAS_PK": "873",
                                    "Panzió?": "Nem"
                                },
                                {
                                    "SZALLAS_NEV": "Kentaur Hotel",
                                    "SZOBA_ID": "51",
                                    "SZOBA_SZAMA": "2",
                                    "FEROHELY": "3",
                                    "FOGLALAS_PK": "990",
                                    "Panzió?": "Nem"
                                },
                                {
                                    "SZALLAS_NEV": "Kentaur Hotel",
                                    "SZOBA_ID": "51",
                                    "SZOBA_SZAMA": "2",
                                    "FEROHELY": "3",
                                    "FOGLALAS_PK": "1099",
                                    "Panzió?": "Nem"
                                },
                                {
                                    "SZALLAS_NEV": "Kentaur Hotel",
                                    "SZOBA_ID": "52",
                                    "SZOBA_SZAMA": "3",
                                    "FEROHELY": "2",
                                    "FOGLALAS_PK": "560",
                                    "Panzió?": "Nem"
                                },
                                {
                                    "SZALLAS_NEV": "Kentaur Hotel",
                                    "SZOBA_ID": "52",
                                    "SZOBA_SZAMA": "3",
                                    "FEROHELY": "2",
                                    "FOGLALAS_PK": "772",
                                    "Panzió?": "Nem"
                                },
                                {
                                    "SZALLAS_NEV": "Kentaur Hotel",
                                    "SZOBA_ID": "52",
                                    "SZOBA_SZAMA": "3",
                                    "FEROHELY": "2",
                                    "FOGLALAS_PK": "850",
                                    "Panzió?": "Nem"
                                },
                                {
                                    "SZALLAS_NEV": "Kentaur Hotel",
                                    "SZOBA_ID": "52",
                                    "SZOBA_SZAMA": "3",
                                    "FEROHELY": "2",
                                    "FOGLALAS_PK": "873",
                                    "Panzió?": "Nem"
                                },
                                {
                                    "SZALLAS_NEV": "Kentaur Hotel",
                                    "SZOBA_ID": "52",
                                    "SZOBA_SZAMA": "3",
                                    "FEROHELY": "2",
                                    "FOGLALAS_PK": "990",
                                    "Panzió?": "Nem"
                                },
                                {
                                    "SZALLAS_NEV": "Kentaur Hotel",
                                    "SZOBA_ID": "52",
                                    "SZOBA_SZAMA": "3",
                                    "FEROHELY": "2",
                                    "FOGLALAS_PK": "1099",
                                    "Panzió?": "Nem"
                                },
                                {
                                    "SZALLAS_NEV": "Kentaur Hotel",
                                    "SZOBA_ID": "53",
                                    "SZOBA_SZAMA": "4",
                                    "FEROHELY": "2",
                                    "FOGLALAS_PK": "560",
                                    "Panzió?": "Nem"
                                },
                                {
                                    "SZALLAS_NEV": "Kentaur Hotel",
                                    "SZOBA_ID": "53",
                                    "SZOBA_SZAMA": "4",
                                    "FEROHELY": "2",
                                    "FOGLALAS_PK": "772",
                                    "Panzió?": "Nem"
                                },
                                {
                                    "SZALLAS_NEV": "Kentaur Hotel",
                                    "SZOBA_ID": "53",
                                    "SZOBA_SZAMA": "4",
                                    "FEROHELY": "2",
                                    "FOGLALAS_PK": "850",
                                    "Panzió?": "Nem"
                                },
                                {
                                    "SZALLAS_NEV": "Kentaur Hotel",
                                    "SZOBA_ID": "53",
                                    "SZOBA_SZAMA": "4",
                                    "FEROHELY": "2",
                                    "FOGLALAS_PK": "873",
                                    "Panzió?": "Nem"
                                },
                                {
                                    "SZALLAS_NEV": "Kentaur Hotel",
                                    "SZOBA_ID": "53",
                                    "SZOBA_SZAMA": "4",
                                    "FEROHELY": "2",
                                    "FOGLALAS_PK": "990",
                                    "Panzió?": "Nem"
                                },
                                {
                                    "SZALLAS_NEV": "Kentaur Hotel",
                                    "SZOBA_ID": "53",
                                    "SZOBA_SZAMA": "4",
                                    "FEROHELY": "2",
                                    "FOGLALAS_PK": "1099",
                                    "Panzió?": "Nem"
                                },
                                {
                                    "SZALLAS_NEV": "Kentaur Hotel",
                                    "SZOBA_ID": "54",
                                    "SZOBA_SZAMA": "5",
                                    "FEROHELY": "3",
                                    "FOGLALAS_PK": "560",
                                    "Panzió?": "Nem"
                                },
                                {
                                    "SZALLAS_NEV": "Kentaur Hotel",
                                    "SZOBA_ID": "54",
                                    "SZOBA_SZAMA": "5",
                                    "FEROHELY": "3",
                                    "FOGLALAS_PK": "772",
                                    "Panzió?": "Nem"
                                },
                                {
                                    "SZALLAS_NEV": "Kentaur Hotel",
                                    "SZOBA_ID": "54",
                                    "SZOBA_SZAMA": "5",
                                    "FEROHELY": "3",
                                    "FOGLALAS_PK": "850",
                                    "Panzió?": "Nem"
                                },
                                {
                                    "SZALLAS_NEV": "Kentaur Hotel",
                                    "SZOBA_ID": "54",
                                    "SZOBA_SZAMA": "5",
                                    "FEROHELY": "3",
                                    "FOGLALAS_PK": "873",
                                    "Panzió?": "Nem"
                                },
                                {
                                    "SZALLAS_NEV": "Kentaur Hotel",
                                    "SZOBA_ID": "54",
                                    "SZOBA_SZAMA": "5",
                                    "FEROHELY": "3",
                                    "FOGLALAS_PK": "990",
                                    "Panzió?": "Nem"
                                },
                                {
                                    "SZALLAS_NEV": "Kentaur Hotel",
                                    "SZOBA_ID": "54",
                                    "SZOBA_SZAMA": "5",
                                    "FEROHELY": "3",
                                    "FOGLALAS_PK": "1099",
                                    "Panzió?": "Nem"
                                },
                                {
                                    "SZALLAS_NEV": "Kentaur Hotel",
                                    "SZOBA_ID": "55",
                                    "SZOBA_SZAMA": "6",
                                    "FEROHELY": "2",
                                    "FOGLALAS_PK": "560",
                                    "Panzió?": "Nem"
                                },
                                {
                                    "SZALLAS_NEV": "Kentaur Hotel",
                                    "SZOBA_ID": "55",
                                    "SZOBA_SZAMA": "6",
                                    "FEROHELY": "2",
                                    "FOGLALAS_PK": "772",
                                    "Panzió?": "Nem"
                                },
                                {
                                    "SZALLAS_NEV": "Kentaur Hotel",
                                    "SZOBA_ID": "55",
                                    "SZOBA_SZAMA": "6",
                                    "FEROHELY": "2",
                                    "FOGLALAS_PK": "850",
                                    "Panzió?": "Nem"
                                },
                                {
                                    "SZALLAS_NEV": "Kentaur Hotel",
                                    "SZOBA_ID": "55",
                                    "SZOBA_SZAMA": "6",
                                    "FEROHELY": "2",
                                    "FOGLALAS_PK": "873",
                                    "Panzió?": "Nem"
                                },
                                {
                                    "SZALLAS_NEV": "Kentaur Hotel",
                                    "SZOBA_ID": "55",
                                    "SZOBA_SZAMA": "6",
                                    "FEROHELY": "2",
                                    "FOGLALAS_PK": "990",
                                    "Panzió?": "Nem"
                                },
                                {
                                    "SZALLAS_NEV": "Kentaur Hotel",
                                    "SZOBA_ID": "55",
                                    "SZOBA_SZAMA": "6",
                                    "FEROHELY": "2",
                                    "FOGLALAS_PK": "1099",
                                    "Panzió?": "Nem"
                                },
                                {
                                    "SZALLAS_NEV": "Kentaur Hotel",
                                    "SZOBA_ID": "56",
                                    "SZOBA_SZAMA": "7",
                                    "FEROHELY": "2",
                                    "FOGLALAS_PK": "560",
                                    "Panzió?": "Nem"
                                },
                                {
                                    "SZALLAS_NEV": "Kentaur Hotel",
                                    "SZOBA_ID": "56",
                                    "SZOBA_SZAMA": "7",
                                    "FEROHELY": "2",
                                    "FOGLALAS_PK": "772",
                                    "Panzió?": "Nem"
                                },
                                {
                                    "SZALLAS_NEV": "Kentaur Hotel",
                                    "SZOBA_ID": "56",
                                    "SZOBA_SZAMA": "7",
                                    "FEROHELY": "2",
                                    "FOGLALAS_PK": "850",
                                    "Panzió?": "Nem"
                                },
                                {
                                    "SZALLAS_NEV": "Kentaur Hotel",
                                    "SZOBA_ID": "56",
                                    "SZOBA_SZAMA": "7",
                                    "FEROHELY": "2",
                                    "FOGLALAS_PK": "873",
                                    "Panzió?": "Nem"
                                },
                                {
                                    "SZALLAS_NEV": "Kentaur Hotel",
                                    "SZOBA_ID": "56",
                                    "SZOBA_SZAMA": "7",
                                    "FEROHELY": "2",
                                    "FOGLALAS_PK": "990",
                                    "Panzió?": "Nem"
                                },
                                {
                                    "SZALLAS_NEV": "Kentaur Hotel",
                                    "SZOBA_ID": "56",
                                    "SZOBA_SZAMA": "7",
                                    "FEROHELY": "2",
                                    "FOGLALAS_PK": "1099",
                                    "Panzió?": "Nem"
                                },
                                {
                                    "SZALLAS_NEV": "Kentaur Hotel",
                                    "SZOBA_ID": "57",
                                    "SZOBA_SZAMA": "8",
                                    "FEROHELY": "2",
                                    "FOGLALAS_PK": "560",
                                    "Panzió?": "Nem"
                                },
                                {
                                    "SZALLAS_NEV": "Kentaur Hotel",
                                    "SZOBA_ID": "57",
                                    "SZOBA_SZAMA": "8",
                                    "FEROHELY": "2",
                                    "FOGLALAS_PK": "772",
                                    "Panzió?": "Nem"
                                },
                                {
                                    "SZALLAS_NEV": "Kentaur Hotel",
                                    "SZOBA_ID": "57",
                                    "SZOBA_SZAMA": "8",
                                    "FEROHELY": "2",
                                    "FOGLALAS_PK": "850",
                                    "Panzió?": "Nem"
                                },
                                {
                                    "SZALLAS_NEV": "Kentaur Hotel",
                                    "SZOBA_ID": "57",
                                    "SZOBA_SZAMA": "8",
                                    "FEROHELY": "2",
                                    "FOGLALAS_PK": "873",
                                    "Panzió?": "Nem"
                                },
                                {
                                    "SZALLAS_NEV": "Kentaur Hotel",
                                    "SZOBA_ID": "57",
                                    "SZOBA_SZAMA": "8",
                                    "FEROHELY": "2",
                                    "FOGLALAS_PK": "990",
                                    "Panzió?": "Nem"
                                },
                                {
                                    "SZALLAS_NEV": "Kentaur Hotel",
                                    "SZOBA_ID": "57",
                                    "SZOBA_SZAMA": "8",
                                    "FEROHELY": "2",
                                    "FOGLALAS_PK": "1099",
                                    "Panzió?": "Nem"
                                },
                                {
                                    "SZALLAS_NEV": "Kentaur Hotel",
                                    "SZOBA_ID": "58",
                                    "SZOBA_SZAMA": "9",
                                    "FEROHELY": "2",
                                    "FOGLALAS_PK": "560",
                                    "Panzió?": "Nem"
                                },
                                {
                                    "SZALLAS_NEV": "Kentaur Hotel",
                                    "SZOBA_ID": "58",
                                    "SZOBA_SZAMA": "9",
                                    "FEROHELY": "2",
                                    "FOGLALAS_PK": "772",
                                    "Panzió?": "Nem"
                                },
                                {
                                    "SZALLAS_NEV": "Kentaur Hotel",
                                    "SZOBA_ID": "58",
                                    "SZOBA_SZAMA": "9",
                                    "FEROHELY": "2",
                                    "FOGLALAS_PK": "850",
                                    "Panzió?": "Nem"
                                },
                                {
                                    "SZALLAS_NEV": "Kentaur Hotel",
                                    "SZOBA_ID": "58",
                                    "SZOBA_SZAMA": "9",
                                    "FEROHELY": "2",
                                    "FOGLALAS_PK": "873",
                                    "Panzió?": "Nem"
                                },
                                {
                                    "SZALLAS_NEV": "Kentaur Hotel",
                                    "SZOBA_ID": "58",
                                    "SZOBA_SZAMA": "9",
                                    "FEROHELY": "2",
                                    "FOGLALAS_PK": "990",
                                    "Panzió?": "Nem"
                                },
                                {
                                    "SZALLAS_NEV": "Kentaur Hotel",
                                    "SZOBA_ID": "58",
                                    "SZOBA_SZAMA": "9",
                                    "FEROHELY": "2",
                                    "FOGLALAS_PK": "1099",
                                    "Panzió?": "Nem"
                                },
                                {
                                    "SZALLAS_NEV": "Kentaur Hotel",
                                    "SZOBA_ID": "59",
                                    "SZOBA_SZAMA": "10",
                                    "FEROHELY": "2",
                                    "FOGLALAS_PK": "560",
                                    "Panzió?": "Nem"
                                },
                                {
                                    "SZALLAS_NEV": "Kentaur Hotel",
                                    "SZOBA_ID": "59",
                                    "SZOBA_SZAMA": "10",
                                    "FEROHELY": "2",
                                    "FOGLALAS_PK": "772",
                                    "Panzió?": "Nem"
                                },
                                {
                                    "SZALLAS_NEV": "Kentaur Hotel",
                                    "SZOBA_ID": "59",
                                    "SZOBA_SZAMA": "10",
                                    "FEROHELY": "2",
                                    "FOGLALAS_PK": "850",
                                    "Panzió?": "Nem"
                                },
                                {
                                    "SZALLAS_NEV": "Kentaur Hotel",
                                    "SZOBA_ID": "59",
                                    "SZOBA_SZAMA": "10",
                                    "FEROHELY": "2",
                                    "FOGLALAS_PK": "873",
                                    "Panzió?": "Nem"
                                },
                                {
                                    "SZALLAS_NEV": "Kentaur Hotel",
                                    "SZOBA_ID": "59",
                                    "SZOBA_SZAMA": "10",
                                    "FEROHELY": "2",
                                    "FOGLALAS_PK": "990",
                                    "Panzió?": "Nem"
                                },
                                {
                                    "SZALLAS_NEV": "Kentaur Hotel",
                                    "SZOBA_ID": "59",
                                    "SZOBA_SZAMA": "10",
                                    "FEROHELY": "2",
                                    "FOGLALAS_PK": "1099",
                                    "Panzió?": "Nem"
                                },
                                {
                                    "SZALLAS_NEV": "Kentaur Hotel",
                                    "SZOBA_ID": "60",
                                    "SZOBA_SZAMA": "11",
                                    "FEROHELY": "3",
                                    "FOGLALAS_PK": "560",
                                    "Panzió?": "Nem"
                                },
                                {
                                    "SZALLAS_NEV": "Kentaur Hotel",
                                    "SZOBA_ID": "60",
                                    "SZOBA_SZAMA": "11",
                                    "FEROHELY": "3",
                                    "FOGLALAS_PK": "772",
                                    "Panzió?": "Nem"
                                },
                                {
                                    "SZALLAS_NEV": "Kentaur Hotel",
                                    "SZOBA_ID": "60",
                                    "SZOBA_SZAMA": "11",
                                    "FEROHELY": "3",
                                    "FOGLALAS_PK": "850",
                                    "Panzió?": "Nem"
                                },
                                {
                                    "SZALLAS_NEV": "Kentaur Hotel",
                                    "SZOBA_ID": "60",
                                    "SZOBA_SZAMA": "11",
                                    "FEROHELY": "3",
                                    "FOGLALAS_PK": "873",
                                    "Panzió?": "Nem"
                                },
                                {
                                    "SZALLAS_NEV": "Kentaur Hotel",
                                    "SZOBA_ID": "60",
                                    "SZOBA_SZAMA": "11",
                                    "FEROHELY": "3",
                                    "FOGLALAS_PK": "990",
                                    "Panzió?": "Nem"
                                },
                                {
                                    "SZALLAS_NEV": "Kentaur Hotel",
                                    "SZOBA_ID": "60",
                                    "SZOBA_SZAMA": "11",
                                    "FEROHELY": "3",
                                    "FOGLALAS_PK": "1099",
                                    "Panzió?": "Nem"
                                },
                                {
                                    "SZALLAS_NEV": "Kentaur Hotel",
                                    "SZOBA_ID": "61",
                                    "SZOBA_SZAMA": "12",
                                    "FEROHELY": "3",
                                    "FOGLALAS_PK": "560",
                                    "Panzió?": "Nem"
                                },
                                {
                                    "SZALLAS_NEV": "Kentaur Hotel",
                                    "SZOBA_ID": "61",
                                    "SZOBA_SZAMA": "12",
                                    "FEROHELY": "3",
                                    "FOGLALAS_PK": "772",
                                    "Panzió?": "Nem"
                                },
                                {
                                    "SZALLAS_NEV": "Kentaur Hotel",
                                    "SZOBA_ID": "61",
                                    "SZOBA_SZAMA": "12",
                                    "FEROHELY": "3",
                                    "FOGLALAS_PK": "850",
                                    "Panzió?": "Nem"
                                },
                                {
                                    "SZALLAS_NEV": "Kentaur Hotel",
                                    "SZOBA_ID": "61",
                                    "SZOBA_SZAMA": "12",
                                    "FEROHELY": "3",
                                    "FOGLALAS_PK": "873",
                                    "Panzió?": "Nem"
                                },
                                {
                                    "SZALLAS_NEV": "Kentaur Hotel",
                                    "SZOBA_ID": "61",
                                    "SZOBA_SZAMA": "12",
                                    "FEROHELY": "3",
                                    "FOGLALAS_PK": "990",
                                    "Panzió?": "Nem"
                                },
                                {
                                    "SZALLAS_NEV": "Kentaur Hotel",
                                    "SZOBA_ID": "61",
                                    "SZOBA_SZAMA": "12",
                                    "FEROHELY": "3",
                                    "FOGLALAS_PK": "1099",
                                    "Panzió?": "Nem"
                                },
                                {
                                    "SZALLAS_NEV": "Kentaur Hotel",
                                    "SZOBA_ID": "62",
                                    "SZOBA_SZAMA": "13",
                                    "FEROHELY": "2",
                                    "FOGLALAS_PK": "560",
                                    "Panzió?": "Nem"
                                },
                                {
                                    "SZALLAS_NEV": "Kentaur Hotel",
                                    "SZOBA_ID": "62",
                                    "SZOBA_SZAMA": "13",
                                    "FEROHELY": "2",
                                    "FOGLALAS_PK": "772",
                                    "Panzió?": "Nem"
                                },
                                {
                                    "SZALLAS_NEV": "Kentaur Hotel",
                                    "SZOBA_ID": "62",
                                    "SZOBA_SZAMA": "13",
                                    "FEROHELY": "2",
                                    "FOGLALAS_PK": "850",
                                    "Panzió?": "Nem"
                                },
                                {
                                    "SZALLAS_NEV": "Kentaur Hotel",
                                    "SZOBA_ID": "62",
                                    "SZOBA_SZAMA": "13",
                                    "FEROHELY": "2",
                                    "FOGLALAS_PK": "873",
                                    "Panzió?": "Nem"
                                },
                                {
                                    "SZALLAS_NEV": "Kentaur Hotel",
                                    "SZOBA_ID": "62",
                                    "SZOBA_SZAMA": "13",
                                    "FEROHELY": "2",
                                    "FOGLALAS_PK": "990",
                                    "Panzió?": "Nem"
                                },
                                {
                                    "SZALLAS_NEV": "Kentaur Hotel",
                                    "SZOBA_ID": "62",
                                    "SZOBA_SZAMA": "13",
                                    "FEROHELY": "2",
                                    "FOGLALAS_PK": "1099",
                                    "Panzió?": "Nem"
                                },
                                {
                                    "SZALLAS_NEV": "Kentaur Hotel",
                                    "SZOBA_ID": "63",
                                    "SZOBA_SZAMA": "14",
                                    "FEROHELY": "2",
                                    "FOGLALAS_PK": "560",
                                    "Panzió?": "Nem"
                                },
                                {
                                    "SZALLAS_NEV": "Kentaur Hotel",
                                    "SZOBA_ID": "63",
                                    "SZOBA_SZAMA": "14",
                                    "FEROHELY": "2",
                                    "FOGLALAS_PK": "772",
                                    "Panzió?": "Nem"
                                },
                                {
                                    "SZALLAS_NEV": "Kentaur Hotel",
                                    "SZOBA_ID": "63",
                                    "SZOBA_SZAMA": "14",
                                    "FEROHELY": "2",
                                    "FOGLALAS_PK": "850",
                                    "Panzió?": "Nem"
                                },
                                {
                                    "SZALLAS_NEV": "Kentaur Hotel",
                                    "SZOBA_ID": "63",
                                    "SZOBA_SZAMA": "14",
                                    "FEROHELY": "2",
                                    "FOGLALAS_PK": "873",
                                    "Panzió?": "Nem"
                                },
                                {
                                    "SZALLAS_NEV": "Kentaur Hotel",
                                    "SZOBA_ID": "63",
                                    "SZOBA_SZAMA": "14",
                                    "FEROHELY": "2",
                                    "FOGLALAS_PK": "990",
                                    "Panzió?": "Nem"
                                },
                                {
                                    "SZALLAS_NEV": "Kentaur Hotel",
                                    "SZOBA_ID": "63",
                                    "SZOBA_SZAMA": "14",
                                    "FEROHELY": "2",
                                    "FOGLALAS_PK": "1099",
                                    "Panzió?": "Nem"
                                },
                                {
                                    "SZALLAS_NEV": "Kentaur Hotel",
                                    "SZOBA_ID": "64",
                                    "SZOBA_SZAMA": "15",
                                    "FEROHELY": "2",
                                    "FOGLALAS_PK": "560",
                                    "Panzió?": "Nem"
                                },
                                {
                                    "SZALLAS_NEV": "Kentaur Hotel",
                                    "SZOBA_ID": "64",
                                    "SZOBA_SZAMA": "15",
                                    "FEROHELY": "2",
                                    "FOGLALAS_PK": "772",
                                    "Panzió?": "Nem"
                                },
                                {
                                    "SZALLAS_NEV": "Kentaur Hotel",
                                    "SZOBA_ID": "64",
                                    "SZOBA_SZAMA": "15",
                                    "FEROHELY": "2",
                                    "FOGLALAS_PK": "850",
                                    "Panzió?": "Nem"
                                },
                                {
                                    "SZALLAS_NEV": "Kentaur Hotel",
                                    "SZOBA_ID": "64",
                                    "SZOBA_SZAMA": "15",
                                    "FEROHELY": "2",
                                    "FOGLALAS_PK": "873",
                                    "Panzió?": "Nem"
                                },
                                {
                                    "SZALLAS_NEV": "Kentaur Hotel",
                                    "SZOBA_ID": "64",
                                    "SZOBA_SZAMA": "15",
                                    "FEROHELY": "2",
                                    "FOGLALAS_PK": "990",
                                    "Panzió?": "Nem"
                                },
                                {
                                    "SZALLAS_NEV": "Kentaur Hotel",
                                    "SZOBA_ID": "64",
                                    "SZOBA_SZAMA": "15",
                                    "FEROHELY": "2",
                                    "FOGLALAS_PK": "1099",
                                    "Panzió?": "Nem"
                                },
                                {
                                    "SZALLAS_NEV": "Kentaur Hotel",
                                    "SZOBA_ID": "65",
                                    "SZOBA_SZAMA": "16",
                                    "FEROHELY": "2",
                                    "FOGLALAS_PK": "560",
                                    "Panzió?": "Nem"
                                },
                                {
                                    "SZALLAS_NEV": "Kentaur Hotel",
                                    "SZOBA_ID": "65",
                                    "SZOBA_SZAMA": "16",
                                    "FEROHELY": "2",
                                    "FOGLALAS_PK": "772",
                                    "Panzió?": "Nem"
                                },
                                {
                                    "SZALLAS_NEV": "Kentaur Hotel",
                                    "SZOBA_ID": "65",
                                    "SZOBA_SZAMA": "16",
                                    "FEROHELY": "2",
                                    "FOGLALAS_PK": "850",
                                    "Panzió?": "Nem"
                                },
                                {
                                    "SZALLAS_NEV": "Kentaur Hotel",
                                    "SZOBA_ID": "65",
                                    "SZOBA_SZAMA": "16",
                                    "FEROHELY": "2",
                                    "FOGLALAS_PK": "873",
                                    "Panzió?": "Nem"
                                },
                                {
                                    "SZALLAS_NEV": "Kentaur Hotel",
                                    "SZOBA_ID": "65",
                                    "SZOBA_SZAMA": "16",
                                    "FEROHELY": "2",
                                    "FOGLALAS_PK": "990",
                                    "Panzió?": "Nem"
                                },
                                {
                                    "SZALLAS_NEV": "Kentaur Hotel",
                                    "SZOBA_ID": "65",
                                    "SZOBA_SZAMA": "16",
                                    "FEROHELY": "2",
                                    "FOGLALAS_PK": "1099",
                                    "Panzió?": "Nem"
                                },
                                {
                                    "SZALLAS_NEV": "Kentaur Hotel",
                                    "SZOBA_ID": "66",
                                    "SZOBA_SZAMA": "17",
                                    "FEROHELY": "3",
                                    "FOGLALAS_PK": "560",
                                    "Panzió?": "Nem"
                                },
                                {
                                    "SZALLAS_NEV": "Kentaur Hotel",
                                    "SZOBA_ID": "66",
                                    "SZOBA_SZAMA": "17",
                                    "FEROHELY": "3",
                                    "FOGLALAS_PK": "772",
                                    "Panzió?": "Nem"
                                },
                                {
                                    "SZALLAS_NEV": "Kentaur Hotel",
                                    "SZOBA_ID": "66",
                                    "SZOBA_SZAMA": "17",
                                    "FEROHELY": "3",
                                    "FOGLALAS_PK": "850",
                                    "Panzió?": "Nem"
                                },
                                {
                                    "SZALLAS_NEV": "Kentaur Hotel",
                                    "SZOBA_ID": "66",
                                    "SZOBA_SZAMA": "17",
                                    "FEROHELY": "3",
                                    "FOGLALAS_PK": "873",
                                    "Panzió?": "Nem"
                                },
                                {
                                    "SZALLAS_NEV": "Kentaur Hotel",
                                    "SZOBA_ID": "66",
                                    "SZOBA_SZAMA": "17",
                                    "FEROHELY": "3",
                                    "FOGLALAS_PK": "990",
                                    "Panzió?": "Nem"
                                },
                                {
                                    "SZALLAS_NEV": "Kentaur Hotel",
                                    "SZOBA_ID": "66",
                                    "SZOBA_SZAMA": "17",
                                    "FEROHELY": "3",
                                    "FOGLALAS_PK": "1099",
                                    "Panzió?": "Nem"
                                },
                                {
                                    "SZALLAS_NEV": "Kentaur Hotel",
                                    "SZOBA_ID": "67",
                                    "SZOBA_SZAMA": "18",
                                    "FEROHELY": "2",
                                    "FOGLALAS_PK": "560",
                                    "Panzió?": "Nem"
                                },
                                {
                                    "SZALLAS_NEV": "Kentaur Hotel",
                                    "SZOBA_ID": "67",
                                    "SZOBA_SZAMA": "18",
                                    "FEROHELY": "2",
                                    "FOGLALAS_PK": "772",
                                    "Panzió?": "Nem"
                                },
                                {
                                    "SZALLAS_NEV": "Kentaur Hotel",
                                    "SZOBA_ID": "67",
                                    "SZOBA_SZAMA": "18",
                                    "FEROHELY": "2",
                                    "FOGLALAS_PK": "850",
                                    "Panzió?": "Nem"
                                },
                                {
                                    "SZALLAS_NEV": "Kentaur Hotel",
                                    "SZOBA_ID": "67",
                                    "SZOBA_SZAMA": "18",
                                    "FEROHELY": "2",
                                    "FOGLALAS_PK": "873",
                                    "Panzió?": "Nem"
                                },
                                {
                                    "SZALLAS_NEV": "Kentaur Hotel",
                                    "SZOBA_ID": "67",
                                    "SZOBA_SZAMA": "18",
                                    "FEROHELY": "2",
                                    "FOGLALAS_PK": "990",
                                    "Panzió?": "Nem"
                                },
                                {
                                    "SZALLAS_NEV": "Kentaur Hotel",
                                    "SZOBA_ID": "67",
                                    "SZOBA_SZAMA": "18",
                                    "FEROHELY": "2",
                                    "FOGLALAS_PK": "1099",
                                    "Panzió?": "Nem"
                                },
                                {
                                    "SZALLAS_NEV": "Kentaur Hotel",
                                    "SZOBA_ID": "68",
                                    "SZOBA_SZAMA": "19",
                                    "FEROHELY": "2",
                                    "FOGLALAS_PK": "560",
                                    "Panzió?": "Nem"
                                },
                                {
                                    "SZALLAS_NEV": "Kentaur Hotel",
                                    "SZOBA_ID": "68",
                                    "SZOBA_SZAMA": "19",
                                    "FEROHELY": "2",
                                    "FOGLALAS_PK": "772",
                                    "Panzió?": "Nem"
                                },
                                {
                                    "SZALLAS_NEV": "Kentaur Hotel",
                                    "SZOBA_ID": "68",
                                    "SZOBA_SZAMA": "19",
                                    "FEROHELY": "2",
                                    "FOGLALAS_PK": "850",
                                    "Panzió?": "Nem"
                                },
                                {
                                    "SZALLAS_NEV": "Kentaur Hotel",
                                    "SZOBA_ID": "68",
                                    "SZOBA_SZAMA": "19",
                                    "FEROHELY": "2",
                                    "FOGLALAS_PK": "873",
                                    "Panzió?": "Nem"
                                },
                                {
                                    "SZALLAS_NEV": "Kentaur Hotel",
                                    "SZOBA_ID": "68",
                                    "SZOBA_SZAMA": "19",
                                    "FEROHELY": "2",
                                    "FOGLALAS_PK": "990",
                                    "Panzió?": "Nem"
                                },
                                {
                                    "SZALLAS_NEV": "Kentaur Hotel",
                                    "SZOBA_ID": "68",
                                    "SZOBA_SZAMA": "19",
                                    "FEROHELY": "2",
                                    "FOGLALAS_PK": "1099",
                                    "Panzió?": "Nem"
                                },
                                {
                                    "SZALLAS_NEV": "Kentaur Hotel",
                                    "SZOBA_ID": "69",
                                    "SZOBA_SZAMA": "20",
                                    "FEROHELY": "3",
                                    "FOGLALAS_PK": "560",
                                    "Panzió?": "Nem"
                                },
                                {
                                    "SZALLAS_NEV": "Kentaur Hotel",
                                    "SZOBA_ID": "69",
                                    "SZOBA_SZAMA": "20",
                                    "FEROHELY": "3",
                                    "FOGLALAS_PK": "772",
                                    "Panzió?": "Nem"
                                },
                                {
                                    "SZALLAS_NEV": "Kentaur Hotel",
                                    "SZOBA_ID": "69",
                                    "SZOBA_SZAMA": "20",
                                    "FEROHELY": "3",
                                    "FOGLALAS_PK": "850",
                                    "Panzió?": "Nem"
                                },
                                {
                                    "SZALLAS_NEV": "Kentaur Hotel",
                                    "SZOBA_ID": "69",
                                    "SZOBA_SZAMA": "20",
                                    "FEROHELY": "3",
                                    "FOGLALAS_PK": "873",
                                    "Panzió?": "Nem"
                                },
                                {
                                    "SZALLAS_NEV": "Kentaur Hotel",
                                    "SZOBA_ID": "69",
                                    "SZOBA_SZAMA": "20",
                                    "FEROHELY": "3",
                                    "FOGLALAS_PK": "990",
                                    "Panzió?": "Nem"
                                },
                                {
                                    "SZALLAS_NEV": "Kentaur Hotel",
                                    "SZOBA_ID": "69",
                                    "SZOBA_SZAMA": "20",
                                    "FEROHELY": "3",
                                    "FOGLALAS_PK": "1099",
                                    "Panzió?": "Nem"
                                },
                                {
                                    "SZALLAS_NEV": "Kentaur Hotel",
                                    "SZOBA_ID": "70",
                                    "SZOBA_SZAMA": "21",
                                    "FEROHELY": "2",
                                    "FOGLALAS_PK": "560",
                                    "Panzió?": "Nem"
                                },
                                {
                                    "SZALLAS_NEV": "Kentaur Hotel",
                                    "SZOBA_ID": "70",
                                    "SZOBA_SZAMA": "21",
                                    "FEROHELY": "2",
                                    "FOGLALAS_PK": "772",
                                    "Panzió?": "Nem"
                                },
                                {
                                    "SZALLAS_NEV": "Kentaur Hotel",
                                    "SZOBA_ID": "70",
                                    "SZOBA_SZAMA": "21",
                                    "FEROHELY": "2",
                                    "FOGLALAS_PK": "850",
                                    "Panzió?": "Nem"
                                },
                                {
                                    "SZALLAS_NEV": "Kentaur Hotel",
                                    "SZOBA_ID": "70",
                                    "SZOBA_SZAMA": "21",
                                    "FEROHELY": "2",
                                    "FOGLALAS_PK": "873",
                                    "Panzió?": "Nem"
                                },
                                {
                                    "SZALLAS_NEV": "Kentaur Hotel",
                                    "SZOBA_ID": "70",
                                    "SZOBA_SZAMA": "21",
                                    "FEROHELY": "2",
                                    "FOGLALAS_PK": "990",
                                    "Panzió?": "Nem"
                                },
                                {
                                    "SZALLAS_NEV": "Kentaur Hotel",
                                    "SZOBA_ID": "70",
                                    "SZOBA_SZAMA": "21",
                                    "FEROHELY": "2",
                                    "FOGLALAS_PK": "1099",
                                    "Panzió?": "Nem"
                                },
                                {
                                    "SZALLAS_NEV": "Kentaur Hotel",
                                    "SZOBA_ID": "71",
                                    "SZOBA_SZAMA": "22",
                                    "FEROHELY": "3",
                                    "FOGLALAS_PK": "560",
                                    "Panzió?": "Nem"
                                },
                                {
                                    "SZALLAS_NEV": "Kentaur Hotel",
                                    "SZOBA_ID": "71",
                                    "SZOBA_SZAMA": "22",
                                    "FEROHELY": "3",
                                    "FOGLALAS_PK": "772",
                                    "Panzió?": "Nem"
                                },
                                {
                                    "SZALLAS_NEV": "Kentaur Hotel",
                                    "SZOBA_ID": "71",
                                    "SZOBA_SZAMA": "22",
                                    "FEROHELY": "3",
                                    "FOGLALAS_PK": "850",
                                    "Panzió?": "Nem"
                                },
                                {
                                    "SZALLAS_NEV": "Kentaur Hotel",
                                    "SZOBA_ID": "71",
                                    "SZOBA_SZAMA": "22",
                                    "FEROHELY": "3",
                                    "FOGLALAS_PK": "873",
                                    "Panzió?": "Nem"
                                },
                                {
                                    "SZALLAS_NEV": "Kentaur Hotel",
                                    "SZOBA_ID": "71",
                                    "SZOBA_SZAMA": "22",
                                    "FEROHELY": "3",
                                    "FOGLALAS_PK": "990",
                                    "Panzió?": "Nem"
                                },
                                {
                                    "SZALLAS_NEV": "Kentaur Hotel",
                                    "SZOBA_ID": "71",
                                    "SZOBA_SZAMA": "22",
                                    "FEROHELY": "3",
                                    "FOGLALAS_PK": "1099",
                                    "Panzió?": "Nem"
                                },
                                {
                                    "SZALLAS_NEV": "Kentaur Hotel",
                                    "SZOBA_ID": "72",
                                    "SZOBA_SZAMA": "23",
                                    "FEROHELY": "2",
                                    "FOGLALAS_PK": "560",
                                    "Panzió?": "Nem"
                                },
                                {
                                    "SZALLAS_NEV": "Kentaur Hotel",
                                    "SZOBA_ID": "72",
                                    "SZOBA_SZAMA": "23",
                                    "FEROHELY": "2",
                                    "FOGLALAS_PK": "772",
                                    "Panzió?": "Nem"
                                },
                                {
                                    "SZALLAS_NEV": "Kentaur Hotel",
                                    "SZOBA_ID": "72",
                                    "SZOBA_SZAMA": "23",
                                    "FEROHELY": "2",
                                    "FOGLALAS_PK": "850",
                                    "Panzió?": "Nem"
                                },
                                {
                                    "SZALLAS_NEV": "Kentaur Hotel",
                                    "SZOBA_ID": "72",
                                    "SZOBA_SZAMA": "23",
                                    "FEROHELY": "2",
                                    "FOGLALAS_PK": "873",
                                    "Panzió?": "Nem"
                                },
                                {
                                    "SZALLAS_NEV": "Kentaur Hotel",
                                    "SZOBA_ID": "72",
                                    "SZOBA_SZAMA": "23",
                                    "FEROHELY": "2",
                                    "FOGLALAS_PK": "990",
                                    "Panzió?": "Nem"
                                },
                                {
                                    "SZALLAS_NEV": "Kentaur Hotel",
                                    "SZOBA_ID": "72",
                                    "SZOBA_SZAMA": "23",
                                    "FEROHELY": "2",
                                    "FOGLALAS_PK": "1099",
                                    "Panzió?": "Nem"
                                },
                                {
                                    "SZALLAS_NEV": "Kentaur Hotel",
                                    "SZOBA_ID": "73",
                                    "SZOBA_SZAMA": "24",
                                    "FEROHELY": "2",
                                    "FOGLALAS_PK": "560",
                                    "Panzió?": "Nem"
                                },
                                {
                                    "SZALLAS_NEV": "Kentaur Hotel",
                                    "SZOBA_ID": "73",
                                    "SZOBA_SZAMA": "24",
                                    "FEROHELY": "2",
                                    "FOGLALAS_PK": "772",
                                    "Panzió?": "Nem"
                                },
                                {
                                    "SZALLAS_NEV": "Kentaur Hotel",
                                    "SZOBA_ID": "73",
                                    "SZOBA_SZAMA": "24",
                                    "FEROHELY": "2",
                                    "FOGLALAS_PK": "850",
                                    "Panzió?": "Nem"
                                },
                                {
                                    "SZALLAS_NEV": "Kentaur Hotel",
                                    "SZOBA_ID": "73",
                                    "SZOBA_SZAMA": "24",
                                    "FEROHELY": "2",
                                    "FOGLALAS_PK": "873",
                                    "Panzió?": "Nem"
                                },
                                {
                                    "SZALLAS_NEV": "Kentaur Hotel",
                                    "SZOBA_ID": "73",
                                    "SZOBA_SZAMA": "24",
                                    "FEROHELY": "2",
                                    "FOGLALAS_PK": "990",
                                    "Panzió?": "Nem"
                                },
                                {
                                    "SZALLAS_NEV": "Kentaur Hotel",
                                    "SZOBA_ID": "73",
                                    "SZOBA_SZAMA": "24",
                                    "FEROHELY": "2",
                                    "FOGLALAS_PK": "1099",
                                    "Panzió?": "Nem"
                                },
                                {
                                    "SZALLAS_NEV": "Kentaur Hotel",
                                    "SZOBA_ID": "74",
                                    "SZOBA_SZAMA": "25",
                                    "FEROHELY": "3",
                                    "FOGLALAS_PK": "560",
                                    "Panzió?": "Nem"
                                },
                                {
                                    "SZALLAS_NEV": "Kentaur Hotel",
                                    "SZOBA_ID": "74",
                                    "SZOBA_SZAMA": "25",
                                    "FEROHELY": "3",
                                    "FOGLALAS_PK": "772",
                                    "Panzió?": "Nem"
                                },
                                {
                                    "SZALLAS_NEV": "Kentaur Hotel",
                                    "SZOBA_ID": "74",
                                    "SZOBA_SZAMA": "25",
                                    "FEROHELY": "3",
                                    "FOGLALAS_PK": "850",
                                    "Panzió?": "Nem"
                                },
                                {
                                    "SZALLAS_NEV": "Kentaur Hotel",
                                    "SZOBA_ID": "74",
                                    "SZOBA_SZAMA": "25",
                                    "FEROHELY": "3",
                                    "FOGLALAS_PK": "873",
                                    "Panzió?": "Nem"
                                },
                                {
                                    "SZALLAS_NEV": "Kentaur Hotel",
                                    "SZOBA_ID": "74",
                                    "SZOBA_SZAMA": "25",
                                    "FEROHELY": "3",
                                    "FOGLALAS_PK": "990",
                                    "Panzió?": "Nem"
                                },
                                {
                                    "SZALLAS_NEV": "Kentaur Hotel",
                                    "SZOBA_ID": "74",
                                    "SZOBA_SZAMA": "25",
                                    "FEROHELY": "3",
                                    "FOGLALAS_PK": "1099",
                                    "Panzió?": "Nem"
                                },
                                {
                                    "SZALLAS_NEV": "Kentaur Hotel",
                                    "SZOBA_ID": "75",
                                    "SZOBA_SZAMA": "26",
                                    "FEROHELY": "2",
                                    "FOGLALAS_PK": "560",
                                    "Panzió?": "Nem"
                                },
                                {
                                    "SZALLAS_NEV": "Kentaur Hotel",
                                    "SZOBA_ID": "75",
                                    "SZOBA_SZAMA": "26",
                                    "FEROHELY": "2",
                                    "FOGLALAS_PK": "772",
                                    "Panzió?": "Nem"
                                },
                                {
                                    "SZALLAS_NEV": "Kentaur Hotel",
                                    "SZOBA_ID": "75",
                                    "SZOBA_SZAMA": "26",
                                    "FEROHELY": "2",
                                    "FOGLALAS_PK": "850",
                                    "Panzió?": "Nem"
                                },
                                {
                                    "SZALLAS_NEV": "Kentaur Hotel",
                                    "SZOBA_ID": "75",
                                    "SZOBA_SZAMA": "26",
                                    "FEROHELY": "2",
                                    "FOGLALAS_PK": "873",
                                    "Panzió?": "Nem"
                                },
                                {
                                    "SZALLAS_NEV": "Kentaur Hotel",
                                    "SZOBA_ID": "75",
                                    "SZOBA_SZAMA": "26",
                                    "FEROHELY": "2",
                                    "FOGLALAS_PK": "990",
                                    "Panzió?": "Nem"
                                },
                                {
                                    "SZALLAS_NEV": "Kentaur Hotel",
                                    "SZOBA_ID": "75",
                                    "SZOBA_SZAMA": "26",
                                    "FEROHELY": "2",
                                    "FOGLALAS_PK": "1099",
                                    "Panzió?": "Nem"
                                },
                                {
                                    "SZALLAS_NEV": "Kentaur Hotel",
                                    "SZOBA_ID": "76",
                                    "SZOBA_SZAMA": "27",
                                    "FEROHELY": "2",
                                    "FOGLALAS_PK": "560",
                                    "Panzió?": "Nem"
                                },
                                {
                                    "SZALLAS_NEV": "Kentaur Hotel",
                                    "SZOBA_ID": "76",
                                    "SZOBA_SZAMA": "27",
                                    "FEROHELY": "2",
                                    "FOGLALAS_PK": "772",
                                    "Panzió?": "Nem"
                                },
                                {
                                    "SZALLAS_NEV": "Kentaur Hotel",
                                    "SZOBA_ID": "76",
                                    "SZOBA_SZAMA": "27",
                                    "FEROHELY": "2",
                                    "FOGLALAS_PK": "850",
                                    "Panzió?": "Nem"
                                },
                                {
                                    "SZALLAS_NEV": "Kentaur Hotel",
                                    "SZOBA_ID": "76",
                                    "SZOBA_SZAMA": "27",
                                    "FEROHELY": "2",
                                    "FOGLALAS_PK": "873",
                                    "Panzió?": "Nem"
                                },
                                {
                                    "SZALLAS_NEV": "Kentaur Hotel",
                                    "SZOBA_ID": "76",
                                    "SZOBA_SZAMA": "27",
                                    "FEROHELY": "2",
                                    "FOGLALAS_PK": "990",
                                    "Panzió?": "Nem"
                                },
                                {
                                    "SZALLAS_NEV": "Kentaur Hotel",
                                    "SZOBA_ID": "76",
                                    "SZOBA_SZAMA": "27",
                                    "FEROHELY": "2",
                                    "FOGLALAS_PK": "1099",
                                    "Panzió?": "Nem"
                                },
                                {
                                    "SZALLAS_NEV": "Kentaur Hotel",
                                    "SZOBA_ID": "77",
                                    "SZOBA_SZAMA": "28",
                                    "FEROHELY": "3",
                                    "FOGLALAS_PK": "560",
                                    "Panzió?": "Nem"
                                },
                                {
                                    "SZALLAS_NEV": "Kentaur Hotel",
                                    "SZOBA_ID": "77",
                                    "SZOBA_SZAMA": "28",
                                    "FEROHELY": "3",
                                    "FOGLALAS_PK": "772",
                                    "Panzió?": "Nem"
                                },
                                {
                                    "SZALLAS_NEV": "Kentaur Hotel",
                                    "SZOBA_ID": "77",
                                    "SZOBA_SZAMA": "28",
                                    "FEROHELY": "3",
                                    "FOGLALAS_PK": "850",
                                    "Panzió?": "Nem"
                                },
                                {
                                    "SZALLAS_NEV": "Kentaur Hotel",
                                    "SZOBA_ID": "77",
                                    "SZOBA_SZAMA": "28",
                                    "FEROHELY": "3",
                                    "FOGLALAS_PK": "873",
                                    "Panzió?": "Nem"
                                },
                                {
                                    "SZALLAS_NEV": "Kentaur Hotel",
                                    "SZOBA_ID": "77",
                                    "SZOBA_SZAMA": "28",
                                    "FEROHELY": "3",
                                    "FOGLALAS_PK": "990",
                                    "Panzió?": "Nem"
                                },
                                {
                                    "SZALLAS_NEV": "Kentaur Hotel",
                                    "SZOBA_ID": "77",
                                    "SZOBA_SZAMA": "28",
                                    "FEROHELY": "3",
                                    "FOGLALAS_PK": "1099",
                                    "Panzió?": "Nem"
                                },
                                {
                                    "SZALLAS_NEV": "Kentaur Hotel",
                                    "SZOBA_ID": "78",
                                    "SZOBA_SZAMA": "29",
                                    "FEROHELY": "2",
                                    "FOGLALAS_PK": "560",
                                    "Panzió?": "Nem"
                                },
                                {
                                    "SZALLAS_NEV": "Kentaur Hotel",
                                    "SZOBA_ID": "78",
                                    "SZOBA_SZAMA": "29",
                                    "FEROHELY": "2",
                                    "FOGLALAS_PK": "772",
                                    "Panzió?": "Nem"
                                },
                                {
                                    "SZALLAS_NEV": "Kentaur Hotel",
                                    "SZOBA_ID": "78",
                                    "SZOBA_SZAMA": "29",
                                    "FEROHELY": "2",
                                    "FOGLALAS_PK": "850",
                                    "Panzió?": "Nem"
                                },
                                {
                                    "SZALLAS_NEV": "Kentaur Hotel",
                                    "SZOBA_ID": "78",
                                    "SZOBA_SZAMA": "29",
                                    "FEROHELY": "2",
                                    "FOGLALAS_PK": "873",
                                    "Panzió?": "Nem"
                                },
                                {
                                    "SZALLAS_NEV": "Kentaur Hotel",
                                    "SZOBA_ID": "78",
                                    "SZOBA_SZAMA": "29",
                                    "FEROHELY": "2",
                                    "FOGLALAS_PK": "990",
                                    "Panzió?": "Nem"
                                },
                                {
                                    "SZALLAS_NEV": "Kentaur Hotel",
                                    "SZOBA_ID": "78",
                                    "SZOBA_SZAMA": "29",
                                    "FEROHELY": "2",
                                    "FOGLALAS_PK": "1099",
                                    "Panzió?": "Nem"
                                },
                                {
                                    "SZALLAS_NEV": "Kentaur Hotel",
                                    "SZOBA_ID": "79",
                                    "SZOBA_SZAMA": "30",
                                    "FEROHELY": "3",
                                    "FOGLALAS_PK": "560",
                                    "Panzió?": "Nem"
                                },
                                {
                                    "SZALLAS_NEV": "Kentaur Hotel",
                                    "SZOBA_ID": "79",
                                    "SZOBA_SZAMA": "30",
                                    "FEROHELY": "3",
                                    "FOGLALAS_PK": "772",
                                    "Panzió?": "Nem"
                                },
                                {
                                    "SZALLAS_NEV": "Kentaur Hotel",
                                    "SZOBA_ID": "79",
                                    "SZOBA_SZAMA": "30",
                                    "FEROHELY": "3",
                                    "FOGLALAS_PK": "850",
                                    "Panzió?": "Nem"
                                },
                                {
                                    "SZALLAS_NEV": "Kentaur Hotel",
                                    "SZOBA_ID": "79",
                                    "SZOBA_SZAMA": "30",
                                    "FEROHELY": "3",
                                    "FOGLALAS_PK": "873",
                                    "Panzió?": "Nem"
                                },
                                {
                                    "SZALLAS_NEV": "Kentaur Hotel",
                                    "SZOBA_ID": "79",
                                    "SZOBA_SZAMA": "30",
                                    "FEROHELY": "3",
                                    "FOGLALAS_PK": "990",
                                    "Panzió?": "Nem"
                                },
                                {
                                    "SZALLAS_NEV": "Kentaur Hotel",
                                    "SZOBA_ID": "79",
                                    "SZOBA_SZAMA": "30",
                                    "FEROHELY": "3",
                                    "FOGLALAS_PK": "1099",
                                    "Panzió?": "Nem"
                                },
                                {
                                    "SZALLAS_NEV": "Kentaur Hotel",
                                    "SZOBA_ID": "80",
                                    "SZOBA_SZAMA": "31",
                                    "FEROHELY": "2",
                                    "FOGLALAS_PK": "560",
                                    "Panzió?": "Nem"
                                },
                                {
                                    "SZALLAS_NEV": "Kentaur Hotel",
                                    "SZOBA_ID": "80",
                                    "SZOBA_SZAMA": "31",
                                    "FEROHELY": "2",
                                    "FOGLALAS_PK": "772",
                                    "Panzió?": "Nem"
                                },
                                {
                                    "SZALLAS_NEV": "Kentaur Hotel",
                                    "SZOBA_ID": "80",
                                    "SZOBA_SZAMA": "31",
                                    "FEROHELY": "2",
                                    "FOGLALAS_PK": "850",
                                    "Panzió?": "Nem"
                                },
                                {
                                    "SZALLAS_NEV": "Kentaur Hotel",
                                    "SZOBA_ID": "80",
                                    "SZOBA_SZAMA": "31",
                                    "FEROHELY": "2",
                                    "FOGLALAS_PK": "873",
                                    "Panzió?": "Nem"
                                },
                                {
                                    "SZALLAS_NEV": "Kentaur Hotel",
                                    "SZOBA_ID": "80",
                                    "SZOBA_SZAMA": "31",
                                    "FEROHELY": "2",
                                    "FOGLALAS_PK": "990",
                                    "Panzió?": "Nem"
                                },
                                {
                                    "SZALLAS_NEV": "Kentaur Hotel",
                                    "SZOBA_ID": "80",
                                    "SZOBA_SZAMA": "31",
                                    "FEROHELY": "2",
                                    "FOGLALAS_PK": "1099",
                                    "Panzió?": "Nem"
                                },
                                {
                                    "SZALLAS_NEV": "Kentaur Hotel",
                                    "SZOBA_ID": "81",
                                    "SZOBA_SZAMA": "32",
                                    "FEROHELY": "2",
                                    "FOGLALAS_PK": "560",
                                    "Panzió?": "Nem"
                                },
                                {
                                    "SZALLAS_NEV": "Kentaur Hotel",
                                    "SZOBA_ID": "81",
                                    "SZOBA_SZAMA": "32",
                                    "FEROHELY": "2",
                                    "FOGLALAS_PK": "772",
                                    "Panzió?": "Nem"
                                },
                                {
                                    "SZALLAS_NEV": "Kentaur Hotel",
                                    "SZOBA_ID": "81",
                                    "SZOBA_SZAMA": "32",
                                    "FEROHELY": "2",
                                    "FOGLALAS_PK": "850",
                                    "Panzió?": "Nem"
                                },
                                {
                                    "SZALLAS_NEV": "Kentaur Hotel",
                                    "SZOBA_ID": "81",
                                    "SZOBA_SZAMA": "32",
                                    "FEROHELY": "2",
                                    "FOGLALAS_PK": "873",
                                    "Panzió?": "Nem"
                                },
                                {
                                    "SZALLAS_NEV": "Kentaur Hotel",
                                    "SZOBA_ID": "81",
                                    "SZOBA_SZAMA": "32",
                                    "FEROHELY": "2",
                                    "FOGLALAS_PK": "990",
                                    "Panzió?": "Nem"
                                },
                                {
                                    "SZALLAS_NEV": "Kentaur Hotel",
                                    "SZOBA_ID": "81",
                                    "SZOBA_SZAMA": "32",
                                    "FEROHELY": "2",
                                    "FOGLALAS_PK": "1099",
                                    "Panzió?": "Nem"
                                },
                                {
                                    "SZALLAS_NEV": "Kentaur Hotel",
                                    "SZOBA_ID": "82",
                                    "SZOBA_SZAMA": "33",
                                    "FEROHELY": "3",
                                    "FOGLALAS_PK": "560",
                                    "Panzió?": "Nem"
                                },
                                {
                                    "SZALLAS_NEV": "Kentaur Hotel",
                                    "SZOBA_ID": "82",
                                    "SZOBA_SZAMA": "33",
                                    "FEROHELY": "3",
                                    "FOGLALAS_PK": "772",
                                    "Panzió?": "Nem"
                                },
                                {
                                    "SZALLAS_NEV": "Kentaur Hotel",
                                    "SZOBA_ID": "82",
                                    "SZOBA_SZAMA": "33",
                                    "FEROHELY": "3",
                                    "FOGLALAS_PK": "850",
                                    "Panzió?": "Nem"
                                },
                                {
                                    "SZALLAS_NEV": "Kentaur Hotel",
                                    "SZOBA_ID": "82",
                                    "SZOBA_SZAMA": "33",
                                    "FEROHELY": "3",
                                    "FOGLALAS_PK": "873",
                                    "Panzió?": "Nem"
                                },
                                {
                                    "SZALLAS_NEV": "Kentaur Hotel",
                                    "SZOBA_ID": "82",
                                    "SZOBA_SZAMA": "33",
                                    "FEROHELY": "3",
                                    "FOGLALAS_PK": "990",
                                    "Panzió?": "Nem"
                                },
                                {
                                    "SZALLAS_NEV": "Kentaur Hotel",
                                    "SZOBA_ID": "82",
                                    "SZOBA_SZAMA": "33",
                                    "FEROHELY": "3",
                                    "FOGLALAS_PK": "1099",
                                    "Panzió?": "Nem"
                                },
                                {
                                    "SZALLAS_NEV": "Kentaur Hotel",
                                    "SZOBA_ID": "83",
                                    "SZOBA_SZAMA": "34",
                                    "FEROHELY": "3",
                                    "FOGLALAS_PK": "560",
                                    "Panzió?": "Nem"
                                },
                                {
                                    "SZALLAS_NEV": "Kentaur Hotel",
                                    "SZOBA_ID": "83",
                                    "SZOBA_SZAMA": "34",
                                    "FEROHELY": "3",
                                    "FOGLALAS_PK": "772",
                                    "Panzió?": "Nem"
                                },
                                {
                                    "SZALLAS_NEV": "Kentaur Hotel",
                                    "SZOBA_ID": "83",
                                    "SZOBA_SZAMA": "34",
                                    "FEROHELY": "3",
                                    "FOGLALAS_PK": "850",
                                    "Panzió?": "Nem"
                                },
                                {
                                    "SZALLAS_NEV": "Kentaur Hotel",
                                    "SZOBA_ID": "83",
                                    "SZOBA_SZAMA": "34",
                                    "FEROHELY": "3",
                                    "FOGLALAS_PK": "873",
                                    "Panzió?": "Nem"
                                },
                                {
                                    "SZALLAS_NEV": "Kentaur Hotel",
                                    "SZOBA_ID": "83",
                                    "SZOBA_SZAMA": "34",
                                    "FEROHELY": "3",
                                    "FOGLALAS_PK": "990",
                                    "Panzió?": "Nem"
                                },
                                {
                                    "SZALLAS_NEV": "Kentaur Hotel",
                                    "SZOBA_ID": "83",
                                    "SZOBA_SZAMA": "34",
                                    "FEROHELY": "3",
                                    "FOGLALAS_PK": "1099",
                                    "Panzió?": "Nem"
                                },
                                {
                                    "SZALLAS_NEV": "Kentaur Hotel",
                                    "SZOBA_ID": "84",
                                    "SZOBA_SZAMA": "35",
                                    "FEROHELY": "3",
                                    "FOGLALAS_PK": "560",
                                    "Panzió?": "Nem"
                                },
                                {
                                    "SZALLAS_NEV": "Kentaur Hotel",
                                    "SZOBA_ID": "84",
                                    "SZOBA_SZAMA": "35",
                                    "FEROHELY": "3",
                                    "FOGLALAS_PK": "772",
                                    "Panzió?": "Nem"
                                },
                                {
                                    "SZALLAS_NEV": "Kentaur Hotel",
                                    "SZOBA_ID": "84",
                                    "SZOBA_SZAMA": "35",
                                    "FEROHELY": "3",
                                    "FOGLALAS_PK": "850",
                                    "Panzió?": "Nem"
                                },
                                {
                                    "SZALLAS_NEV": "Kentaur Hotel",
                                    "SZOBA_ID": "84",
                                    "SZOBA_SZAMA": "35",
                                    "FEROHELY": "3",
                                    "FOGLALAS_PK": "873",
                                    "Panzió?": "Nem"
                                },
                                {
                                    "SZALLAS_NEV": "Kentaur Hotel",
                                    "SZOBA_ID": "84",
                                    "SZOBA_SZAMA": "35",
                                    "FEROHELY": "3",
                                    "FOGLALAS_PK": "990",
                                    "Panzió?": "Nem"
                                },
                                {
                                    "SZALLAS_NEV": "Kentaur Hotel",
                                    "SZOBA_ID": "84",
                                    "SZOBA_SZAMA": "35",
                                    "FEROHELY": "3",
                                    "FOGLALAS_PK": "1099",
                                    "Panzió?": "Nem"
                                },
                                {
                                    "SZALLAS_NEV": "Szieszta Apartmanház",
                                    "SZOBA_ID": "85",
                                    "SZOBA_SZAMA": "1",
                                    "FEROHELY": "2",
                                    "FOGLALAS_PK": "562",
                                    "Panzió?": "Nem"
                                },
                                {
                                    "SZALLAS_NEV": "Szieszta Apartmanház",
                                    "SZOBA_ID": "85",
                                    "SZOBA_SZAMA": "1",
                                    "FEROHELY": "2",
                                    "FOGLALAS_PK": "759",
                                    "Panzió?": "Nem"
                                },
                                {
                                    "SZALLAS_NEV": "Szieszta Apartmanház",
                                    "SZOBA_ID": "85",
                                    "SZOBA_SZAMA": "1",
                                    "FEROHELY": "2",
                                    "FOGLALAS_PK": "1131",
                                    "Panzió?": "Nem"
                                },
                                {
                                    "SZALLAS_NEV": "Szieszta Apartmanház",
                                    "SZOBA_ID": "85",
                                    "SZOBA_SZAMA": "1",
                                    "FEROHELY": "2",
                                    "FOGLALAS_PK": "1175",
                                    "Panzió?": "Nem"
                                },
                                {
                                    "SZALLAS_NEV": "Szieszta Apartmanház",
                                    "SZOBA_ID": "85",
                                    "SZOBA_SZAMA": "1",
                                    "FEROHELY": "2",
                                    "FOGLALAS_PK": "1182",
                                    "Panzió?": "Nem"
                                },
                                {
                                    "SZALLAS_NEV": "Szieszta Apartmanház",
                                    "SZOBA_ID": "85",
                                    "SZOBA_SZAMA": "1",
                                    "FEROHELY": "2",
                                    "FOGLALAS_PK": "1252",
                                    "Panzió?": "Nem"
                                },
                                {
                                    "SZALLAS_NEV": "Szieszta Apartmanház",
                                    "SZOBA_ID": "86",
                                    "SZOBA_SZAMA": "2",
                                    "FEROHELY": "2",
                                    "FOGLALAS_PK": "562",
                                    "Panzió?": "Nem"
                                },
                                {
                                    "SZALLAS_NEV": "Szieszta Apartmanház",
                                    "SZOBA_ID": "86",
                                    "SZOBA_SZAMA": "2",
                                    "FEROHELY": "2",
                                    "FOGLALAS_PK": "759",
                                    "Panzió?": "Nem"
                                },
                                {
                                    "SZALLAS_NEV": "Szieszta Apartmanház",
                                    "SZOBA_ID": "86",
                                    "SZOBA_SZAMA": "2",
                                    "FEROHELY": "2",
                                    "FOGLALAS_PK": "1131",
                                    "Panzió?": "Nem"
                                },
                                {
                                    "SZALLAS_NEV": "Szieszta Apartmanház",
                                    "SZOBA_ID": "86",
                                    "SZOBA_SZAMA": "2",
                                    "FEROHELY": "2",
                                    "FOGLALAS_PK": "1175",
                                    "Panzió?": "Nem"
                                },
                                {
                                    "SZALLAS_NEV": "Szieszta Apartmanház",
                                    "SZOBA_ID": "86",
                                    "SZOBA_SZAMA": "2",
                                    "FEROHELY": "2",
                                    "FOGLALAS_PK": "1182",
                                    "Panzió?": "Nem"
                                },
                                {
                                    "SZALLAS_NEV": "Szieszta Apartmanház",
                                    "SZOBA_ID": "86",
                                    "SZOBA_SZAMA": "2",
                                    "FEROHELY": "2",
                                    "FOGLALAS_PK": "1252",
                                    "Panzió?": "Nem"
                                },
                                {
                                    "SZALLAS_NEV": "Szieszta Apartmanház",
                                    "SZOBA_ID": "87",
                                    "SZOBA_SZAMA": "3",
                                    "FEROHELY": "3",
                                    "FOGLALAS_PK": "562",
                                    "Panzió?": "Nem"
                                },
                                {
                                    "SZALLAS_NEV": "Szieszta Apartmanház",
                                    "SZOBA_ID": "87",
                                    "SZOBA_SZAMA": "3",
                                    "FEROHELY": "3",
                                    "FOGLALAS_PK": "759",
                                    "Panzió?": "Nem"
                                },
                                {
                                    "SZALLAS_NEV": "Szieszta Apartmanház",
                                    "SZOBA_ID": "87",
                                    "SZOBA_SZAMA": "3",
                                    "FEROHELY": "3",
                                    "FOGLALAS_PK": "1131",
                                    "Panzió?": "Nem"
                                },
                                {
                                    "SZALLAS_NEV": "Szieszta Apartmanház",
                                    "SZOBA_ID": "87",
                                    "SZOBA_SZAMA": "3",
                                    "FEROHELY": "3",
                                    "FOGLALAS_PK": "1175",
                                    "Panzió?": "Nem"
                                },
                                {
                                    "SZALLAS_NEV": "Szieszta Apartmanház",
                                    "SZOBA_ID": "87",
                                    "SZOBA_SZAMA": "3",
                                    "FEROHELY": "3",
                                    "FOGLALAS_PK": "1182",
                                    "Panzió?": "Nem"
                                },
                                {
                                    "SZALLAS_NEV": "Szieszta Apartmanház",
                                    "SZOBA_ID": "87",
                                    "SZOBA_SZAMA": "3",
                                    "FEROHELY": "3",
                                    "FOGLALAS_PK": "1252",
                                    "Panzió?": "Nem"
                                },
                                {
                                    "SZALLAS_NEV": "Szieszta Apartmanház",
                                    "SZOBA_ID": "88",
                                    "SZOBA_SZAMA": "4",
                                    "FEROHELY": "3",
                                    "FOGLALAS_PK": "562",
                                    "Panzió?": "Nem"
                                },
                                {
                                    "SZALLAS_NEV": "Szieszta Apartmanház",
                                    "SZOBA_ID": "88",
                                    "SZOBA_SZAMA": "4",
                                    "FEROHELY": "3",
                                    "FOGLALAS_PK": "759",
                                    "Panzió?": "Nem"
                                },
                                {
                                    "SZALLAS_NEV": "Szieszta Apartmanház",
                                    "SZOBA_ID": "88",
                                    "SZOBA_SZAMA": "4",
                                    "FEROHELY": "3",
                                    "FOGLALAS_PK": "1131",
                                    "Panzió?": "Nem"
                                },
                                {
                                    "SZALLAS_NEV": "Szieszta Apartmanház",
                                    "SZOBA_ID": "88",
                                    "SZOBA_SZAMA": "4",
                                    "FEROHELY": "3",
                                    "FOGLALAS_PK": "1175",
                                    "Panzió?": "Nem"
                                },
                                {
                                    "SZALLAS_NEV": "Szieszta Apartmanház",
                                    "SZOBA_ID": "88",
                                    "SZOBA_SZAMA": "4",
                                    "FEROHELY": "3",
                                    "FOGLALAS_PK": "1182",
                                    "Panzió?": "Nem"
                                },
                                {
                                    "SZALLAS_NEV": "Szieszta Apartmanház",
                                    "SZOBA_ID": "88",
                                    "SZOBA_SZAMA": "4",
                                    "FEROHELY": "3",
                                    "FOGLALAS_PK": "1252",
                                    "Panzió?": "Nem"
                                },
                                {
                                    "SZALLAS_NEV": "Szieszta Apartmanház",
                                    "SZOBA_ID": "89",
                                    "SZOBA_SZAMA": "5",
                                    "FEROHELY": "3",
                                    "FOGLALAS_PK": "562",
                                    "Panzió?": "Nem"
                                },
                                {
                                    "SZALLAS_NEV": "Szieszta Apartmanház",
                                    "SZOBA_ID": "89",
                                    "SZOBA_SZAMA": "5",
                                    "FEROHELY": "3",
                                    "FOGLALAS_PK": "759",
                                    "Panzió?": "Nem"
                                },
                                {
                                    "SZALLAS_NEV": "Szieszta Apartmanház",
                                    "SZOBA_ID": "89",
                                    "SZOBA_SZAMA": "5",
                                    "FEROHELY": "3",
                                    "FOGLALAS_PK": "1131",
                                    "Panzió?": "Nem"
                                },
                                {
                                    "SZALLAS_NEV": "Szieszta Apartmanház",
                                    "SZOBA_ID": "89",
                                    "SZOBA_SZAMA": "5",
                                    "FEROHELY": "3",
                                    "FOGLALAS_PK": "1175",
                                    "Panzió?": "Nem"
                                },
                                {
                                    "SZALLAS_NEV": "Szieszta Apartmanház",
                                    "SZOBA_ID": "89",
                                    "SZOBA_SZAMA": "5",
                                    "FEROHELY": "3",
                                    "FOGLALAS_PK": "1182",
                                    "Panzió?": "Nem"
                                },
                                {
                                    "SZALLAS_NEV": "Szieszta Apartmanház",
                                    "SZOBA_ID": "89",
                                    "SZOBA_SZAMA": "5",
                                    "FEROHELY": "3",
                                    "FOGLALAS_PK": "1252",
                                    "Panzió?": "Nem"
                                },
                                {
                                    "SZALLAS_NEV": "Szieszta Apartmanház",
                                    "SZOBA_ID": "90",
                                    "SZOBA_SZAMA": "6",
                                    "FEROHELY": "3",
                                    "FOGLALAS_PK": "562",
                                    "Panzió?": "Nem"
                                },
                                {
                                    "SZALLAS_NEV": "Szieszta Apartmanház",
                                    "SZOBA_ID": "90",
                                    "SZOBA_SZAMA": "6",
                                    "FEROHELY": "3",
                                    "FOGLALAS_PK": "759",
                                    "Panzió?": "Nem"
                                },
                                {
                                    "SZALLAS_NEV": "Szieszta Apartmanház",
                                    "SZOBA_ID": "90",
                                    "SZOBA_SZAMA": "6",
                                    "FEROHELY": "3",
                                    "FOGLALAS_PK": "1131",
                                    "Panzió?": "Nem"
                                },
                                {
                                    "SZALLAS_NEV": "Szieszta Apartmanház",
                                    "SZOBA_ID": "90",
                                    "SZOBA_SZAMA": "6",
                                    "FEROHELY": "3",
                                    "FOGLALAS_PK": "1175",
                                    "Panzió?": "Nem"
                                },
                                {
                                    "SZALLAS_NEV": "Szieszta Apartmanház",
                                    "SZOBA_ID": "90",
                                    "SZOBA_SZAMA": "6",
                                    "FEROHELY": "3",
                                    "FOGLALAS_PK": "1182",
                                    "Panzió?": "Nem"
                                },
                                {
                                    "SZALLAS_NEV": "Szieszta Apartmanház",
                                    "SZOBA_ID": "90",
                                    "SZOBA_SZAMA": "6",
                                    "FEROHELY": "3",
                                    "FOGLALAS_PK": "1252",
                                    "Panzió?": "Nem"
                                },
                                {
                                    "SZALLAS_NEV": "Hotel Három Hattyú",
                                    "SZOBA_ID": "91",
                                    "SZOBA_SZAMA": "1",
                                    "FEROHELY": "2",
                                    "FOGLALAS_PK": "694",
                                    "Panzió?": "Nem"
                                },
                                {
                                    "SZALLAS_NEV": "Hotel Három Hattyú",
                                    "SZOBA_ID": "91",
                                    "SZOBA_SZAMA": "1",
                                    "FEROHELY": "2",
                                    "FOGLALAS_PK": "818",
                                    "Panzió?": "Nem"
                                },
                                {
                                    "SZALLAS_NEV": "Hotel Három Hattyú",
                                    "SZOBA_ID": "91",
                                    "SZOBA_SZAMA": "1",
                                    "FEROHELY": "2",
                                    "FOGLALAS_PK": "832",
                                    "Panzió?": "Nem"
                                },
                                {
                                    "SZALLAS_NEV": "Hotel Három Hattyú",
                                    "SZOBA_ID": "91",
                                    "SZOBA_SZAMA": "1",
                                    "FEROHELY": "2",
                                    "FOGLALAS_PK": "882",
                                    "Panzió?": "Nem"
                                },
                                {
                                    "SZALLAS_NEV": "Hotel Három Hattyú",
                                    "SZOBA_ID": "91",
                                    "SZOBA_SZAMA": "1",
                                    "FEROHELY": "2",
                                    "FOGLALAS_PK": "947",
                                    "Panzió?": "Nem"
                                },
                                {
                                    "SZALLAS_NEV": "Hotel Három Hattyú",
                                    "SZOBA_ID": "92",
                                    "SZOBA_SZAMA": "2",
                                    "FEROHELY": "3",
                                    "FOGLALAS_PK": "694",
                                    "Panzió?": "Nem"
                                },
                                {
                                    "SZALLAS_NEV": "Hotel Három Hattyú",
                                    "SZOBA_ID": "92",
                                    "SZOBA_SZAMA": "2",
                                    "FEROHELY": "3",
                                    "FOGLALAS_PK": "818",
                                    "Panzió?": "Nem"
                                },
                                {
                                    "SZALLAS_NEV": "Hotel Három Hattyú",
                                    "SZOBA_ID": "92",
                                    "SZOBA_SZAMA": "2",
                                    "FEROHELY": "3",
                                    "FOGLALAS_PK": "832",
                                    "Panzió?": "Nem"
                                },
                                {
                                    "SZALLAS_NEV": "Hotel Három Hattyú",
                                    "SZOBA_ID": "92",
                                    "SZOBA_SZAMA": "2",
                                    "FEROHELY": "3",
                                    "FOGLALAS_PK": "882",
                                    "Panzió?": "Nem"
                                },
                                {
                                    "SZALLAS_NEV": "Hotel Három Hattyú",
                                    "SZOBA_ID": "92",
                                    "SZOBA_SZAMA": "2",
                                    "FEROHELY": "3",
                                    "FOGLALAS_PK": "947",
                                    "Panzió?": "Nem"
                                },
                                {
                                    "SZALLAS_NEV": "Hotel Három Hattyú",
                                    "SZOBA_ID": "93",
                                    "SZOBA_SZAMA": "3",
                                    "FEROHELY": "3",
                                    "FOGLALAS_PK": "694",
                                    "Panzió?": "Nem"
                                },
                                {
                                    "SZALLAS_NEV": "Hotel Három Hattyú",
                                    "SZOBA_ID": "93",
                                    "SZOBA_SZAMA": "3",
                                    "FEROHELY": "3",
                                    "FOGLALAS_PK": "818",
                                    "Panzió?": "Nem"
                                },
                                {
                                    "SZALLAS_NEV": "Hotel Három Hattyú",
                                    "SZOBA_ID": "93",
                                    "SZOBA_SZAMA": "3",
                                    "FEROHELY": "3",
                                    "FOGLALAS_PK": "832",
                                    "Panzió?": "Nem"
                                },
                                {
                                    "SZALLAS_NEV": "Hotel Három Hattyú",
                                    "SZOBA_ID": "93",
                                    "SZOBA_SZAMA": "3",
                                    "FEROHELY": "3",
                                    "FOGLALAS_PK": "882",
                                    "Panzió?": "Nem"
                                },
                                {
                                    "SZALLAS_NEV": "Hotel Három Hattyú",
                                    "SZOBA_ID": "93",
                                    "SZOBA_SZAMA": "3",
                                    "FEROHELY": "3",
                                    "FOGLALAS_PK": "947",
                                    "Panzió?": "Nem"
                                },
                                {
                                    "SZALLAS_NEV": "Hotel Három Hattyú",
                                    "SZOBA_ID": "94",
                                    "SZOBA_SZAMA": "4",
                                    "FEROHELY": "2",
                                    "FOGLALAS_PK": "694",
                                    "Panzió?": "Nem"
                                },
                                {
                                    "SZALLAS_NEV": "Hotel Három Hattyú",
                                    "SZOBA_ID": "94",
                                    "SZOBA_SZAMA": "4",
                                    "FEROHELY": "2",
                                    "FOGLALAS_PK": "818",
                                    "Panzió?": "Nem"
                                },
                                {
                                    "SZALLAS_NEV": "Hotel Három Hattyú",
                                    "SZOBA_ID": "94",
                                    "SZOBA_SZAMA": "4",
                                    "FEROHELY": "2",
                                    "FOGLALAS_PK": "832",
                                    "Panzió?": "Nem"
                                },
                                {
                                    "SZALLAS_NEV": "Hotel Három Hattyú",
                                    "SZOBA_ID": "94",
                                    "SZOBA_SZAMA": "4",
                                    "FEROHELY": "2",
                                    "FOGLALAS_PK": "882",
                                    "Panzió?": "Nem"
                                },
                                {
                                    "SZALLAS_NEV": "Hotel Három Hattyú",
                                    "SZOBA_ID": "94",
                                    "SZOBA_SZAMA": "4",
                                    "FEROHELY": "2",
                                    "FOGLALAS_PK": "947",
                                    "Panzió?": "Nem"
                                },
                                {
                                    "SZALLAS_NEV": "Hotel Három Hattyú",
                                    "SZOBA_ID": "95",
                                    "SZOBA_SZAMA": "5",
                                    "FEROHELY": "3",
                                    "FOGLALAS_PK": "694",
                                    "Panzió?": "Nem"
                                },
                                {
                                    "SZALLAS_NEV": "Hotel Három Hattyú",
                                    "SZOBA_ID": "95",
                                    "SZOBA_SZAMA": "5",
                                    "FEROHELY": "3",
                                    "FOGLALAS_PK": "818",
                                    "Panzió?": "Nem"
                                },
                                {
                                    "SZALLAS_NEV": "Hotel Három Hattyú",
                                    "SZOBA_ID": "95",
                                    "SZOBA_SZAMA": "5",
                                    "FEROHELY": "3",
                                    "FOGLALAS_PK": "832",
                                    "Panzió?": "Nem"
                                },
                                {
                                    "SZALLAS_NEV": "Hotel Három Hattyú",
                                    "SZOBA_ID": "95",
                                    "SZOBA_SZAMA": "5",
                                    "FEROHELY": "3",
                                    "FOGLALAS_PK": "882",
                                    "Panzió?": "Nem"
                                },
                                {
                                    "SZALLAS_NEV": "Hotel Három Hattyú",
                                    "SZOBA_ID": "95",
                                    "SZOBA_SZAMA": "5",
                                    "FEROHELY": "3",
                                    "FOGLALAS_PK": "947",
                                    "Panzió?": "Nem"
                                },
                                {
                                    "SZALLAS_NEV": "Hotel Három Hattyú",
                                    "SZOBA_ID": "96",
                                    "SZOBA_SZAMA": "6",
                                    "FEROHELY": "3",
                                    "FOGLALAS_PK": "694",
                                    "Panzió?": "Nem"
                                },
                                {
                                    "SZALLAS_NEV": "Hotel Három Hattyú",
                                    "SZOBA_ID": "96",
                                    "SZOBA_SZAMA": "6",
                                    "FEROHELY": "3",
                                    "FOGLALAS_PK": "818",
                                    "Panzió?": "Nem"
                                },
                                {
                                    "SZALLAS_NEV": "Hotel Három Hattyú",
                                    "SZOBA_ID": "96",
                                    "SZOBA_SZAMA": "6",
                                    "FEROHELY": "3",
                                    "FOGLALAS_PK": "832",
                                    "Panzió?": "Nem"
                                },
                                {
                                    "SZALLAS_NEV": "Hotel Három Hattyú",
                                    "SZOBA_ID": "96",
                                    "SZOBA_SZAMA": "6",
                                    "FEROHELY": "3",
                                    "FOGLALAS_PK": "882",
                                    "Panzió?": "Nem"
                                },
                                {
                                    "SZALLAS_NEV": "Hotel Három Hattyú",
                                    "SZOBA_ID": "96",
                                    "SZOBA_SZAMA": "6",
                                    "FEROHELY": "3",
                                    "FOGLALAS_PK": "947",
                                    "Panzió?": "Nem"
                                },
                                {
                                    "SZALLAS_NEV": "Hotel Három Hattyú",
                                    "SZOBA_ID": "97",
                                    "SZOBA_SZAMA": "7",
                                    "FEROHELY": "3",
                                    "FOGLALAS_PK": "694",
                                    "Panzió?": "Nem"
                                },
                                {
                                    "SZALLAS_NEV": "Hotel Három Hattyú",
                                    "SZOBA_ID": "97",
                                    "SZOBA_SZAMA": "7",
                                    "FEROHELY": "3",
                                    "FOGLALAS_PK": "818",
                                    "Panzió?": "Nem"
                                },
                                {
                                    "SZALLAS_NEV": "Hotel Három Hattyú",
                                    "SZOBA_ID": "97",
                                    "SZOBA_SZAMA": "7",
                                    "FEROHELY": "3",
                                    "FOGLALAS_PK": "832",
                                    "Panzió?": "Nem"
                                },
                                {
                                    "SZALLAS_NEV": "Hotel Három Hattyú",
                                    "SZOBA_ID": "97",
                                    "SZOBA_SZAMA": "7",
                                    "FEROHELY": "3",
                                    "FOGLALAS_PK": "882",
                                    "Panzió?": "Nem"
                                },
                                {
                                    "SZALLAS_NEV": "Hotel Három Hattyú",
                                    "SZOBA_ID": "97",
                                    "SZOBA_SZAMA": "7",
                                    "FEROHELY": "3",
                                    "FOGLALAS_PK": "947",
                                    "Panzió?": "Nem"
                                },
                                {
                                    "SZALLAS_NEV": "Hotel Három Hattyú",
                                    "SZOBA_ID": "98",
                                    "SZOBA_SZAMA": "8",
                                    "FEROHELY": "2",
                                    "FOGLALAS_PK": "694",
                                    "Panzió?": "Nem"
                                },
                                {
                                    "SZALLAS_NEV": "Hotel Három Hattyú",
                                    "SZOBA_ID": "98",
                                    "SZOBA_SZAMA": "8",
                                    "FEROHELY": "2",
                                    "FOGLALAS_PK": "818",
                                    "Panzió?": "Nem"
                                },
                                {
                                    "SZALLAS_NEV": "Hotel Három Hattyú",
                                    "SZOBA_ID": "98",
                                    "SZOBA_SZAMA": "8",
                                    "FEROHELY": "2",
                                    "FOGLALAS_PK": "832",
                                    "Panzió?": "Nem"
                                },
                                {
                                    "SZALLAS_NEV": "Hotel Három Hattyú",
                                    "SZOBA_ID": "98",
                                    "SZOBA_SZAMA": "8",
                                    "FEROHELY": "2",
                                    "FOGLALAS_PK": "882",
                                    "Panzió?": "Nem"
                                },
                                {
                                    "SZALLAS_NEV": "Hotel Három Hattyú",
                                    "SZOBA_ID": "98",
                                    "SZOBA_SZAMA": "8",
                                    "FEROHELY": "2",
                                    "FOGLALAS_PK": "947",
                                    "Panzió?": "Nem"
                                },
                                {
                                    "SZALLAS_NEV": "Hotel Három Hattyú",
                                    "SZOBA_ID": "99",
                                    "SZOBA_SZAMA": "9",
                                    "FEROHELY": "2",
                                    "FOGLALAS_PK": "694",
                                    "Panzió?": "Nem"
                                },
                                {
                                    "SZALLAS_NEV": "Hotel Három Hattyú",
                                    "SZOBA_ID": "99",
                                    "SZOBA_SZAMA": "9",
                                    "FEROHELY": "2",
                                    "FOGLALAS_PK": "818",
                                    "Panzió?": "Nem"
                                },
                                {
                                    "SZALLAS_NEV": "Hotel Három Hattyú",
                                    "SZOBA_ID": "99",
                                    "SZOBA_SZAMA": "9",
                                    "FEROHELY": "2",
                                    "FOGLALAS_PK": "832",
                                    "Panzió?": "Nem"
                                },
                                {
                                    "SZALLAS_NEV": "Hotel Három Hattyú",
                                    "SZOBA_ID": "99",
                                    "SZOBA_SZAMA": "9",
                                    "FEROHELY": "2",
                                    "FOGLALAS_PK": "882",
                                    "Panzió?": "Nem"
                                },
                                {
                                    "SZALLAS_NEV": "Hotel Három Hattyú",
                                    "SZOBA_ID": "99",
                                    "SZOBA_SZAMA": "9",
                                    "FEROHELY": "2",
                                    "FOGLALAS_PK": "947",
                                    "Panzió?": "Nem"
                                },
                                {
                                    "SZALLAS_NEV": "Hotel Három Hattyú",
                                    "SZOBA_ID": "100",
                                    "SZOBA_SZAMA": "10",
                                    "FEROHELY": "2",
                                    "FOGLALAS_PK": "694",
                                    "Panzió?": "Nem"
                                },
                                {
                                    "SZALLAS_NEV": "Hotel Három Hattyú",
                                    "SZOBA_ID": "100",
                                    "SZOBA_SZAMA": "10",
                                    "FEROHELY": "2",
                                    "FOGLALAS_PK": "818",
                                    "Panzió?": "Nem"
                                },
                                {
                                    "SZALLAS_NEV": "Hotel Három Hattyú",
                                    "SZOBA_ID": "100",
                                    "SZOBA_SZAMA": "10",
                                    "FEROHELY": "2",
                                    "FOGLALAS_PK": "832",
                                    "Panzió?": "Nem"
                                },
                                {
                                    "SZALLAS_NEV": "Hotel Három Hattyú",
                                    "SZOBA_ID": "100",
                                    "SZOBA_SZAMA": "10",
                                    "FEROHELY": "2",
                                    "FOGLALAS_PK": "882",
                                    "Panzió?": "Nem"
                                },
                                {
                                    "SZALLAS_NEV": "Hotel Három Hattyú",
                                    "SZOBA_ID": "100",
                                    "SZOBA_SZAMA": "10",
                                    "FEROHELY": "2",
                                    "FOGLALAS_PK": "947",
                                    "Panzió?": "Nem"
                                },
                                {
                                    "SZALLAS_NEV": "Hotel Három Hattyú",
                                    "SZOBA_ID": "101",
                                    "SZOBA_SZAMA": "11",
                                    "FEROHELY": "2",
                                    "FOGLALAS_PK": "694",
                                    "Panzió?": "Nem"
                                },
                                {
                                    "SZALLAS_NEV": "Hotel Három Hattyú",
                                    "SZOBA_ID": "101",
                                    "SZOBA_SZAMA": "11",
                                    "FEROHELY": "2",
                                    "FOGLALAS_PK": "818",
                                    "Panzió?": "Nem"
                                },
                                {
                                    "SZALLAS_NEV": "Hotel Három Hattyú",
                                    "SZOBA_ID": "101",
                                    "SZOBA_SZAMA": "11",
                                    "FEROHELY": "2",
                                    "FOGLALAS_PK": "832",
                                    "Panzió?": "Nem"
                                },
                                {
                                    "SZALLAS_NEV": "Hotel Három Hattyú",
                                    "SZOBA_ID": "101",
                                    "SZOBA_SZAMA": "11",
                                    "FEROHELY": "2",
                                    "FOGLALAS_PK": "882",
                                    "Panzió?": "Nem"
                                },
                                {
                                    "SZALLAS_NEV": "Hotel Három Hattyú",
                                    "SZOBA_ID": "101",
                                    "SZOBA_SZAMA": "11",
                                    "FEROHELY": "2",
                                    "FOGLALAS_PK": "947",
                                    "Panzió?": "Nem"
                                },
                                {
                                    "SZALLAS_NEV": "Hotel Három Hattyú",
                                    "SZOBA_ID": "102",
                                    "SZOBA_SZAMA": "12",
                                    "FEROHELY": "2",
                                    "FOGLALAS_PK": "694",
                                    "Panzió?": "Nem"
                                },
                                {
                                    "SZALLAS_NEV": "Hotel Három Hattyú",
                                    "SZOBA_ID": "102",
                                    "SZOBA_SZAMA": "12",
                                    "FEROHELY": "2",
                                    "FOGLALAS_PK": "818",
                                    "Panzió?": "Nem"
                                },
                                {
                                    "SZALLAS_NEV": "Hotel Három Hattyú",
                                    "SZOBA_ID": "102",
                                    "SZOBA_SZAMA": "12",
                                    "FEROHELY": "2",
                                    "FOGLALAS_PK": "832",
                                    "Panzió?": "Nem"
                                },
                                {
                                    "SZALLAS_NEV": "Hotel Három Hattyú",
                                    "SZOBA_ID": "102",
                                    "SZOBA_SZAMA": "12",
                                    "FEROHELY": "2",
                                    "FOGLALAS_PK": "882",
                                    "Panzió?": "Nem"
                                },
                                {
                                    "SZALLAS_NEV": "Hotel Három Hattyú",
                                    "SZOBA_ID": "102",
                                    "SZOBA_SZAMA": "12",
                                    "FEROHELY": "2",
                                    "FOGLALAS_PK": "947",
                                    "Panzió?": "Nem"
                                },
                                {
                                    "SZALLAS_NEV": "Hotel Három Hattyú",
                                    "SZOBA_ID": "103",
                                    "SZOBA_SZAMA": "13",
                                    "FEROHELY": "2",
                                    "FOGLALAS_PK": "694",
                                    "Panzió?": "Nem"
                                },
                                {
                                    "SZALLAS_NEV": "Hotel Három Hattyú",
                                    "SZOBA_ID": "103",
                                    "SZOBA_SZAMA": "13",
                                    "FEROHELY": "2",
                                    "FOGLALAS_PK": "818",
                                    "Panzió?": "Nem"
                                },
                                {
                                    "SZALLAS_NEV": "Hotel Három Hattyú",
                                    "SZOBA_ID": "103",
                                    "SZOBA_SZAMA": "13",
                                    "FEROHELY": "2",
                                    "FOGLALAS_PK": "832",
                                    "Panzió?": "Nem"
                                },
                                {
                                    "SZALLAS_NEV": "Hotel Három Hattyú",
                                    "SZOBA_ID": "103",
                                    "SZOBA_SZAMA": "13",
                                    "FEROHELY": "2",
                                    "FOGLALAS_PK": "882",
                                    "Panzió?": "Nem"
                                },
                                {
                                    "SZALLAS_NEV": "Hotel Három Hattyú",
                                    "SZOBA_ID": "103",
                                    "SZOBA_SZAMA": "13",
                                    "FEROHELY": "2",
                                    "FOGLALAS_PK": "947",
                                    "Panzió?": "Nem"
                                },
                                {
                                    "SZALLAS_NEV": "Hotel Három Hattyú",
                                    "SZOBA_ID": "104",
                                    "SZOBA_SZAMA": "14",
                                    "FEROHELY": "3",
                                    "FOGLALAS_PK": "694",
                                    "Panzió?": "Nem"
                                },
                                {
                                    "SZALLAS_NEV": "Hotel Három Hattyú",
                                    "SZOBA_ID": "104",
                                    "SZOBA_SZAMA": "14",
                                    "FEROHELY": "3",
                                    "FOGLALAS_PK": "818",
                                    "Panzió?": "Nem"
                                },
                                {
                                    "SZALLAS_NEV": "Hotel Három Hattyú",
                                    "SZOBA_ID": "104",
                                    "SZOBA_SZAMA": "14",
                                    "FEROHELY": "3",
                                    "FOGLALAS_PK": "832",
                                    "Panzió?": "Nem"
                                },
                                {
                                    "SZALLAS_NEV": "Hotel Három Hattyú",
                                    "SZOBA_ID": "104",
                                    "SZOBA_SZAMA": "14",
                                    "FEROHELY": "3",
                                    "FOGLALAS_PK": "882",
                                    "Panzió?": "Nem"
                                },
                                {
                                    "SZALLAS_NEV": "Hotel Három Hattyú",
                                    "SZOBA_ID": "104",
                                    "SZOBA_SZAMA": "14",
                                    "FEROHELY": "3",
                                    "FOGLALAS_PK": "947",
                                    "Panzió?": "Nem"
                                },
                                {
                                    "SZALLAS_NEV": "Hotel Három Hattyú",
                                    "SZOBA_ID": "105",
                                    "SZOBA_SZAMA": "15",
                                    "FEROHELY": "2",
                                    "FOGLALAS_PK": "694",
                                    "Panzió?": "Nem"
                                },
                                {
                                    "SZALLAS_NEV": "Hotel Három Hattyú",
                                    "SZOBA_ID": "105",
                                    "SZOBA_SZAMA": "15",
                                    "FEROHELY": "2",
                                    "FOGLALAS_PK": "818",
                                    "Panzió?": "Nem"
                                },
                                {
                                    "SZALLAS_NEV": "Hotel Három Hattyú",
                                    "SZOBA_ID": "105",
                                    "SZOBA_SZAMA": "15",
                                    "FEROHELY": "2",
                                    "FOGLALAS_PK": "832",
                                    "Panzió?": "Nem"
                                },
                                {
                                    "SZALLAS_NEV": "Hotel Három Hattyú",
                                    "SZOBA_ID": "105",
                                    "SZOBA_SZAMA": "15",
                                    "FEROHELY": "2",
                                    "FOGLALAS_PK": "882",
                                    "Panzió?": "Nem"
                                },
                                {
                                    "SZALLAS_NEV": "Hotel Három Hattyú",
                                    "SZOBA_ID": "105",
                                    "SZOBA_SZAMA": "15",
                                    "FEROHELY": "2",
                                    "FOGLALAS_PK": "947",
                                    "Panzió?": "Nem"
                                },
                                {
                                    "SZALLAS_NEV": "Hotel Három Hattyú",
                                    "SZOBA_ID": "106",
                                    "SZOBA_SZAMA": "16",
                                    "FEROHELY": "2",
                                    "FOGLALAS_PK": "694",
                                    "Panzió?": "Nem"
                                },
                                {
                                    "SZALLAS_NEV": "Hotel Három Hattyú",
                                    "SZOBA_ID": "106",
                                    "SZOBA_SZAMA": "16",
                                    "FEROHELY": "2",
                                    "FOGLALAS_PK": "818",
                                    "Panzió?": "Nem"
                                },
                                {
                                    "SZALLAS_NEV": "Hotel Három Hattyú",
                                    "SZOBA_ID": "106",
                                    "SZOBA_SZAMA": "16",
                                    "FEROHELY": "2",
                                    "FOGLALAS_PK": "832",
                                    "Panzió?": "Nem"
                                },
                                {
                                    "SZALLAS_NEV": "Hotel Három Hattyú",
                                    "SZOBA_ID": "106",
                                    "SZOBA_SZAMA": "16",
                                    "FEROHELY": "2",
                                    "FOGLALAS_PK": "882",
                                    "Panzió?": "Nem"
                                },
                                {
                                    "SZALLAS_NEV": "Hotel Három Hattyú",
                                    "SZOBA_ID": "106",
                                    "SZOBA_SZAMA": "16",
                                    "FEROHELY": "2",
                                    "FOGLALAS_PK": "947",
                                    "Panzió?": "Nem"
                                },
                                {
                                    "SZALLAS_NEV": "Hotel Három Hattyú",
                                    "SZOBA_ID": "107",
                                    "SZOBA_SZAMA": "17",
                                    "FEROHELY": "2",
                                    "FOGLALAS_PK": "694",
                                    "Panzió?": "Nem"
                                },
                                {
                                    "SZALLAS_NEV": "Hotel Három Hattyú",
                                    "SZOBA_ID": "107",
                                    "SZOBA_SZAMA": "17",
                                    "FEROHELY": "2",
                                    "FOGLALAS_PK": "818",
                                    "Panzió?": "Nem"
                                },
                                {
                                    "SZALLAS_NEV": "Hotel Három Hattyú",
                                    "SZOBA_ID": "107",
                                    "SZOBA_SZAMA": "17",
                                    "FEROHELY": "2",
                                    "FOGLALAS_PK": "832",
                                    "Panzió?": "Nem"
                                },
                                {
                                    "SZALLAS_NEV": "Hotel Három Hattyú",
                                    "SZOBA_ID": "107",
                                    "SZOBA_SZAMA": "17",
                                    "FEROHELY": "2",
                                    "FOGLALAS_PK": "882",
                                    "Panzió?": "Nem"
                                },
                                {
                                    "SZALLAS_NEV": "Hotel Három Hattyú",
                                    "SZOBA_ID": "107",
                                    "SZOBA_SZAMA": "17",
                                    "FEROHELY": "2",
                                    "FOGLALAS_PK": "947",
                                    "Panzió?": "Nem"
                                },
                                {
                                    "SZALLAS_NEV": "Hotel Három Hattyú",
                                    "SZOBA_ID": "108",
                                    "SZOBA_SZAMA": "18",
                                    "FEROHELY": "2",
                                    "FOGLALAS_PK": "694",
                                    "Panzió?": "Nem"
                                },
                                {
                                    "SZALLAS_NEV": "Hotel Három Hattyú",
                                    "SZOBA_ID": "108",
                                    "SZOBA_SZAMA": "18",
                                    "FEROHELY": "2",
                                    "FOGLALAS_PK": "818",
                                    "Panzió?": "Nem"
                                },
                                {
                                    "SZALLAS_NEV": "Hotel Három Hattyú",
                                    "SZOBA_ID": "108",
                                    "SZOBA_SZAMA": "18",
                                    "FEROHELY": "2",
                                    "FOGLALAS_PK": "832",
                                    "Panzió?": "Nem"
                                },
                                {
                                    "SZALLAS_NEV": "Hotel Három Hattyú",
                                    "SZOBA_ID": "108",
                                    "SZOBA_SZAMA": "18",
                                    "FEROHELY": "2",
                                    "FOGLALAS_PK": "882",
                                    "Panzió?": "Nem"
                                },
                                {
                                    "SZALLAS_NEV": "Hotel Három Hattyú",
                                    "SZOBA_ID": "108",
                                    "SZOBA_SZAMA": "18",
                                    "FEROHELY": "2",
                                    "FOGLALAS_PK": "947",
                                    "Panzió?": "Nem"
                                },
                                {
                                    "SZALLAS_NEV": "Hotel Három Hattyú",
                                    "SZOBA_ID": "109",
                                    "SZOBA_SZAMA": "19",
                                    "FEROHELY": "2",
                                    "FOGLALAS_PK": "694",
                                    "Panzió?": "Nem"
                                },
                                {
                                    "SZALLAS_NEV": "Hotel Három Hattyú",
                                    "SZOBA_ID": "109",
                                    "SZOBA_SZAMA": "19",
                                    "FEROHELY": "2",
                                    "FOGLALAS_PK": "818",
                                    "Panzió?": "Nem"
                                },
                                {
                                    "SZALLAS_NEV": "Hotel Három Hattyú",
                                    "SZOBA_ID": "109",
                                    "SZOBA_SZAMA": "19",
                                    "FEROHELY": "2",
                                    "FOGLALAS_PK": "832",
                                    "Panzió?": "Nem"
                                },
                                {
                                    "SZALLAS_NEV": "Hotel Három Hattyú",
                                    "SZOBA_ID": "109",
                                    "SZOBA_SZAMA": "19",
                                    "FEROHELY": "2",
                                    "FOGLALAS_PK": "882",
                                    "Panzió?": "Nem"
                                },
                                {
                                    "SZALLAS_NEV": "Hotel Három Hattyú",
                                    "SZOBA_ID": "109",
                                    "SZOBA_SZAMA": "19",
                                    "FEROHELY": "2",
                                    "FOGLALAS_PK": "947",
                                    "Panzió?": "Nem"
                                },
                                {
                                    "SZALLAS_NEV": "Hotel Három Hattyú",
                                    "SZOBA_ID": "110",
                                    "SZOBA_SZAMA": "20",
                                    "FEROHELY": "2",
                                    "FOGLALAS_PK": "694",
                                    "Panzió?": "Nem"
                                },
                                {
                                    "SZALLAS_NEV": "Hotel Három Hattyú",
                                    "SZOBA_ID": "110",
                                    "SZOBA_SZAMA": "20",
                                    "FEROHELY": "2",
                                    "FOGLALAS_PK": "818",
                                    "Panzió?": "Nem"
                                },
                                {
                                    "SZALLAS_NEV": "Hotel Három Hattyú",
                                    "SZOBA_ID": "110",
                                    "SZOBA_SZAMA": "20",
                                    "FEROHELY": "2",
                                    "FOGLALAS_PK": "832",
                                    "Panzió?": "Nem"
                                },
                                {
                                    "SZALLAS_NEV": "Hotel Három Hattyú",
                                    "SZOBA_ID": "110",
                                    "SZOBA_SZAMA": "20",
                                    "FEROHELY": "2",
                                    "FOGLALAS_PK": "882",
                                    "Panzió?": "Nem"
                                },
                                {
                                    "SZALLAS_NEV": "Hotel Három Hattyú",
                                    "SZOBA_ID": "110",
                                    "SZOBA_SZAMA": "20",
                                    "FEROHELY": "2",
                                    "FOGLALAS_PK": "947",
                                    "Panzió?": "Nem"
                                },
                                {
                                    "SZALLAS_NEV": "Hotel Három Hattyú",
                                    "SZOBA_ID": "111",
                                    "SZOBA_SZAMA": "21",
                                    "FEROHELY": "2",
                                    "FOGLALAS_PK": "694",
                                    "Panzió?": "Nem"
                                },
                                {
                                    "SZALLAS_NEV": "Hotel Három Hattyú",
                                    "SZOBA_ID": "111",
                                    "SZOBA_SZAMA": "21",
                                    "FEROHELY": "2",
                                    "FOGLALAS_PK": "818",
                                    "Panzió?": "Nem"
                                },
                                {
                                    "SZALLAS_NEV": "Hotel Három Hattyú",
                                    "SZOBA_ID": "111",
                                    "SZOBA_SZAMA": "21",
                                    "FEROHELY": "2",
                                    "FOGLALAS_PK": "832",
                                    "Panzió?": "Nem"
                                },
                                {
                                    "SZALLAS_NEV": "Hotel Három Hattyú",
                                    "SZOBA_ID": "111",
                                    "SZOBA_SZAMA": "21",
                                    "FEROHELY": "2",
                                    "FOGLALAS_PK": "882",
                                    "Panzió?": "Nem"
                                },
                                {
                                    "SZALLAS_NEV": "Hotel Három Hattyú",
                                    "SZOBA_ID": "111",
                                    "SZOBA_SZAMA": "21",
                                    "FEROHELY": "2",
                                    "FOGLALAS_PK": "947",
                                    "Panzió?": "Nem"
                                },
                                {
                                    "SZALLAS_NEV": "Hotel Három Hattyú",
                                    "SZOBA_ID": "112",
                                    "SZOBA_SZAMA": "22",
                                    "FEROHELY": "3",
                                    "FOGLALAS_PK": "694",
                                    "Panzió?": "Nem"
                                },
                                {
                                    "SZALLAS_NEV": "Hotel Három Hattyú",
                                    "SZOBA_ID": "112",
                                    "SZOBA_SZAMA": "22",
                                    "FEROHELY": "3",
                                    "FOGLALAS_PK": "818",
                                    "Panzió?": "Nem"
                                },
                                {
                                    "SZALLAS_NEV": "Hotel Három Hattyú",
                                    "SZOBA_ID": "112",
                                    "SZOBA_SZAMA": "22",
                                    "FEROHELY": "3",
                                    "FOGLALAS_PK": "832",
                                    "Panzió?": "Nem"
                                },
                                {
                                    "SZALLAS_NEV": "Hotel Három Hattyú",
                                    "SZOBA_ID": "112",
                                    "SZOBA_SZAMA": "22",
                                    "FEROHELY": "3",
                                    "FOGLALAS_PK": "882",
                                    "Panzió?": "Nem"
                                },
                                {
                                    "SZALLAS_NEV": "Hotel Három Hattyú",
                                    "SZOBA_ID": "112",
                                    "SZOBA_SZAMA": "22",
                                    "FEROHELY": "3",
                                    "FOGLALAS_PK": "947",
                                    "Panzió?": "Nem"
                                },
                                {
                                    "SZALLAS_NEV": "Hotel Három Hattyú",
                                    "SZOBA_ID": "113",
                                    "SZOBA_SZAMA": "23",
                                    "FEROHELY": "3",
                                    "FOGLALAS_PK": "694",
                                    "Panzió?": "Nem"
                                },
                                {
                                    "SZALLAS_NEV": "Hotel Három Hattyú",
                                    "SZOBA_ID": "113",
                                    "SZOBA_SZAMA": "23",
                                    "FEROHELY": "3",
                                    "FOGLALAS_PK": "818",
                                    "Panzió?": "Nem"
                                },
                                {
                                    "SZALLAS_NEV": "Hotel Három Hattyú",
                                    "SZOBA_ID": "113",
                                    "SZOBA_SZAMA": "23",
                                    "FEROHELY": "3",
                                    "FOGLALAS_PK": "832",
                                    "Panzió?": "Nem"
                                },
                                {
                                    "SZALLAS_NEV": "Hotel Három Hattyú",
                                    "SZOBA_ID": "113",
                                    "SZOBA_SZAMA": "23",
                                    "FEROHELY": "3",
                                    "FOGLALAS_PK": "882",
                                    "Panzió?": "Nem"
                                },
                                {
                                    "SZALLAS_NEV": "Hotel Három Hattyú",
                                    "SZOBA_ID": "113",
                                    "SZOBA_SZAMA": "23",
                                    "FEROHELY": "3",
                                    "FOGLALAS_PK": "947",
                                    "Panzió?": "Nem"
                                },
                                {
                                    "SZALLAS_NEV": "Hotel Három Hattyú",
                                    "SZOBA_ID": "114",
                                    "SZOBA_SZAMA": "24",
                                    "FEROHELY": "2",
                                    "FOGLALAS_PK": "694",
                                    "Panzió?": "Nem"
                                },
                                {
                                    "SZALLAS_NEV": "Hotel Három Hattyú",
                                    "SZOBA_ID": "114",
                                    "SZOBA_SZAMA": "24",
                                    "FEROHELY": "2",
                                    "FOGLALAS_PK": "818",
                                    "Panzió?": "Nem"
                                },
                                {
                                    "SZALLAS_NEV": "Hotel Három Hattyú",
                                    "SZOBA_ID": "114",
                                    "SZOBA_SZAMA": "24",
                                    "FEROHELY": "2",
                                    "FOGLALAS_PK": "832",
                                    "Panzió?": "Nem"
                                },
                                {
                                    "SZALLAS_NEV": "Hotel Három Hattyú",
                                    "SZOBA_ID": "114",
                                    "SZOBA_SZAMA": "24",
                                    "FEROHELY": "2",
                                    "FOGLALAS_PK": "882",
                                    "Panzió?": "Nem"
                                },
                                {
                                    "SZALLAS_NEV": "Hotel Három Hattyú",
                                    "SZOBA_ID": "114",
                                    "SZOBA_SZAMA": "24",
                                    "FEROHELY": "2",
                                    "FOGLALAS_PK": "947",
                                    "Panzió?": "Nem"
                                },
                                {
                                    "SZALLAS_NEV": "Hotel Három Hattyú",
                                    "SZOBA_ID": "115",
                                    "SZOBA_SZAMA": "25",
                                    "FEROHELY": "3",
                                    "FOGLALAS_PK": "694",
                                    "Panzió?": "Nem"
                                },
                                {
                                    "SZALLAS_NEV": "Hotel Három Hattyú",
                                    "SZOBA_ID": "115",
                                    "SZOBA_SZAMA": "25",
                                    "FEROHELY": "3",
                                    "FOGLALAS_PK": "818",
                                    "Panzió?": "Nem"
                                },
                                {
                                    "SZALLAS_NEV": "Hotel Három Hattyú",
                                    "SZOBA_ID": "115",
                                    "SZOBA_SZAMA": "25",
                                    "FEROHELY": "3",
                                    "FOGLALAS_PK": "832",
                                    "Panzió?": "Nem"
                                },
                                {
                                    "SZALLAS_NEV": "Hotel Három Hattyú",
                                    "SZOBA_ID": "115",
                                    "SZOBA_SZAMA": "25",
                                    "FEROHELY": "3",
                                    "FOGLALAS_PK": "882",
                                    "Panzió?": "Nem"
                                },
                                {
                                    "SZALLAS_NEV": "Hotel Három Hattyú",
                                    "SZOBA_ID": "115",
                                    "SZOBA_SZAMA": "25",
                                    "FEROHELY": "3",
                                    "FOGLALAS_PK": "947",
                                    "Panzió?": "Nem"
                                },
                                {
                                    "SZALLAS_NEV": "Hotel Három Hattyú",
                                    "SZOBA_ID": "116",
                                    "SZOBA_SZAMA": "26",
                                    "FEROHELY": "3",
                                    "FOGLALAS_PK": "694",
                                    "Panzió?": "Nem"
                                },
                                {
                                    "SZALLAS_NEV": "Hotel Három Hattyú",
                                    "SZOBA_ID": "116",
                                    "SZOBA_SZAMA": "26",
                                    "FEROHELY": "3",
                                    "FOGLALAS_PK": "818",
                                    "Panzió?": "Nem"
                                },
                                {
                                    "SZALLAS_NEV": "Hotel Három Hattyú",
                                    "SZOBA_ID": "116",
                                    "SZOBA_SZAMA": "26",
                                    "FEROHELY": "3",
                                    "FOGLALAS_PK": "832",
                                    "Panzió?": "Nem"
                                },
                                {
                                    "SZALLAS_NEV": "Hotel Három Hattyú",
                                    "SZOBA_ID": "116",
                                    "SZOBA_SZAMA": "26",
                                    "FEROHELY": "3",
                                    "FOGLALAS_PK": "882",
                                    "Panzió?": "Nem"
                                },
                                {
                                    "SZALLAS_NEV": "Hotel Három Hattyú",
                                    "SZOBA_ID": "116",
                                    "SZOBA_SZAMA": "26",
                                    "FEROHELY": "3",
                                    "FOGLALAS_PK": "947",
                                    "Panzió?": "Nem"
                                },
                                {
                                    "SZALLAS_NEV": "Hotel Három Hattyú",
                                    "SZOBA_ID": "117",
                                    "SZOBA_SZAMA": "27",
                                    "FEROHELY": "3",
                                    "FOGLALAS_PK": "694",
                                    "Panzió?": "Nem"
                                },
                                {
                                    "SZALLAS_NEV": "Hotel Három Hattyú",
                                    "SZOBA_ID": "117",
                                    "SZOBA_SZAMA": "27",
                                    "FEROHELY": "3",
                                    "FOGLALAS_PK": "818",
                                    "Panzió?": "Nem"
                                },
                                {
                                    "SZALLAS_NEV": "Hotel Három Hattyú",
                                    "SZOBA_ID": "117",
                                    "SZOBA_SZAMA": "27",
                                    "FEROHELY": "3",
                                    "FOGLALAS_PK": "832",
                                    "Panzió?": "Nem"
                                },
                                {
                                    "SZALLAS_NEV": "Hotel Három Hattyú",
                                    "SZOBA_ID": "117",
                                    "SZOBA_SZAMA": "27",
                                    "FEROHELY": "3",
                                    "FOGLALAS_PK": "882",
                                    "Panzió?": "Nem"
                                },
                                {
                                    "SZALLAS_NEV": "Hotel Három Hattyú",
                                    "SZOBA_ID": "117",
                                    "SZOBA_SZAMA": "27",
                                    "FEROHELY": "3",
                                    "FOGLALAS_PK": "947",
                                    "Panzió?": "Nem"
                                },
                                {
                                    "SZALLAS_NEV": "Hotel Három Hattyú",
                                    "SZOBA_ID": "118",
                                    "SZOBA_SZAMA": "28",
                                    "FEROHELY": "2",
                                    "FOGLALAS_PK": "694",
                                    "Panzió?": "Nem"
                                },
                                {
                                    "SZALLAS_NEV": "Hotel Három Hattyú",
                                    "SZOBA_ID": "118",
                                    "SZOBA_SZAMA": "28",
                                    "FEROHELY": "2",
                                    "FOGLALAS_PK": "818",
                                    "Panzió?": "Nem"
                                },
                                {
                                    "SZALLAS_NEV": "Hotel Három Hattyú",
                                    "SZOBA_ID": "118",
                                    "SZOBA_SZAMA": "28",
                                    "FEROHELY": "2",
                                    "FOGLALAS_PK": "832",
                                    "Panzió?": "Nem"
                                },
                                {
                                    "SZALLAS_NEV": "Hotel Három Hattyú",
                                    "SZOBA_ID": "118",
                                    "SZOBA_SZAMA": "28",
                                    "FEROHELY": "2",
                                    "FOGLALAS_PK": "882",
                                    "Panzió?": "Nem"
                                },
                                {
                                    "SZALLAS_NEV": "Hotel Három Hattyú",
                                    "SZOBA_ID": "118",
                                    "SZOBA_SZAMA": "28",
                                    "FEROHELY": "2",
                                    "FOGLALAS_PK": "947",
                                    "Panzió?": "Nem"
                                },
                                {
                                    "SZALLAS_NEV": "Hotel Három Hattyú",
                                    "SZOBA_ID": "119",
                                    "SZOBA_SZAMA": "29",
                                    "FEROHELY": "2",
                                    "FOGLALAS_PK": "694",
                                    "Panzió?": "Nem"
                                },
                                {
                                    "SZALLAS_NEV": "Hotel Három Hattyú",
                                    "SZOBA_ID": "119",
                                    "SZOBA_SZAMA": "29",
                                    "FEROHELY": "2",
                                    "FOGLALAS_PK": "818",
                                    "Panzió?": "Nem"
                                },
                                {
                                    "SZALLAS_NEV": "Hotel Három Hattyú",
                                    "SZOBA_ID": "119",
                                    "SZOBA_SZAMA": "29",
                                    "FEROHELY": "2",
                                    "FOGLALAS_PK": "832",
                                    "Panzió?": "Nem"
                                },
                                {
                                    "SZALLAS_NEV": "Hotel Három Hattyú",
                                    "SZOBA_ID": "119",
                                    "SZOBA_SZAMA": "29",
                                    "FEROHELY": "2",
                                    "FOGLALAS_PK": "882",
                                    "Panzió?": "Nem"
                                },
                                {
                                    "SZALLAS_NEV": "Hotel Három Hattyú",
                                    "SZOBA_ID": "119",
                                    "SZOBA_SZAMA": "29",
                                    "FEROHELY": "2",
                                    "FOGLALAS_PK": "947",
                                    "Panzió?": "Nem"
                                },
                                {
                                    "SZALLAS_NEV": "Hotel Három Hattyú",
                                    "SZOBA_ID": "120",
                                    "SZOBA_SZAMA": "30",
                                    "FEROHELY": "3",
                                    "FOGLALAS_PK": "694",
                                    "Panzió?": "Nem"
                                },
                                {
                                    "SZALLAS_NEV": "Hotel Három Hattyú",
                                    "SZOBA_ID": "120",
                                    "SZOBA_SZAMA": "30",
                                    "FEROHELY": "3",
                                    "FOGLALAS_PK": "818",
                                    "Panzió?": "Nem"
                                },
                                {
                                    "SZALLAS_NEV": "Hotel Három Hattyú",
                                    "SZOBA_ID": "120",
                                    "SZOBA_SZAMA": "30",
                                    "FEROHELY": "3",
                                    "FOGLALAS_PK": "832",
                                    "Panzió?": "Nem"
                                },
                                {
                                    "SZALLAS_NEV": "Hotel Három Hattyú",
                                    "SZOBA_ID": "120",
                                    "SZOBA_SZAMA": "30",
                                    "FEROHELY": "3",
                                    "FOGLALAS_PK": "882",
                                    "Panzió?": "Nem"
                                },
                                {
                                    "SZALLAS_NEV": "Hotel Három Hattyú",
                                    "SZOBA_ID": "120",
                                    "SZOBA_SZAMA": "30",
                                    "FEROHELY": "3",
                                    "FOGLALAS_PK": "947",
                                    "Panzió?": "Nem"
                                },
                                {
                                    "SZALLAS_NEV": "Hotel Három Hattyú",
                                    "SZOBA_ID": "121",
                                    "SZOBA_SZAMA": "31",
                                    "FEROHELY": "2",
                                    "FOGLALAS_PK": "694",
                                    "Panzió?": "Nem"
                                },
                                {
                                    "SZALLAS_NEV": "Hotel Három Hattyú",
                                    "SZOBA_ID": "121",
                                    "SZOBA_SZAMA": "31",
                                    "FEROHELY": "2",
                                    "FOGLALAS_PK": "818",
                                    "Panzió?": "Nem"
                                },
                                {
                                    "SZALLAS_NEV": "Hotel Három Hattyú",
                                    "SZOBA_ID": "121",
                                    "SZOBA_SZAMA": "31",
                                    "FEROHELY": "2",
                                    "FOGLALAS_PK": "832",
                                    "Panzió?": "Nem"
                                },
                                {
                                    "SZALLAS_NEV": "Hotel Három Hattyú",
                                    "SZOBA_ID": "121",
                                    "SZOBA_SZAMA": "31",
                                    "FEROHELY": "2",
                                    "FOGLALAS_PK": "882",
                                    "Panzió?": "Nem"
                                },
                                {
                                    "SZALLAS_NEV": "Hotel Három Hattyú",
                                    "SZOBA_ID": "121",
                                    "SZOBA_SZAMA": "31",
                                    "FEROHELY": "2",
                                    "FOGLALAS_PK": "947",
                                    "Panzió?": "Nem"
                                },
                                {
                                    "SZALLAS_NEV": "Hotel Három Hattyú",
                                    "SZOBA_ID": "122",
                                    "SZOBA_SZAMA": "32",
                                    "FEROHELY": "3",
                                    "FOGLALAS_PK": "694",
                                    "Panzió?": "Nem"
                                },
                                {
                                    "SZALLAS_NEV": "Hotel Három Hattyú",
                                    "SZOBA_ID": "122",
                                    "SZOBA_SZAMA": "32",
                                    "FEROHELY": "3",
                                    "FOGLALAS_PK": "818",
                                    "Panzió?": "Nem"
                                },
                                {
                                    "SZALLAS_NEV": "Hotel Három Hattyú",
                                    "SZOBA_ID": "122",
                                    "SZOBA_SZAMA": "32",
                                    "FEROHELY": "3",
                                    "FOGLALAS_PK": "832",
                                    "Panzió?": "Nem"
                                },
                                {
                                    "SZALLAS_NEV": "Hotel Három Hattyú",
                                    "SZOBA_ID": "122",
                                    "SZOBA_SZAMA": "32",
                                    "FEROHELY": "3",
                                    "FOGLALAS_PK": "882",
                                    "Panzió?": "Nem"
                                },
                                {
                                    "SZALLAS_NEV": "Hotel Három Hattyú",
                                    "SZOBA_ID": "122",
                                    "SZOBA_SZAMA": "32",
                                    "FEROHELY": "3",
                                    "FOGLALAS_PK": "947",
                                    "Panzió?": "Nem"
                                },
                                {
                                    "SZALLAS_NEV": "Hotel Három Hattyú",
                                    "SZOBA_ID": "123",
                                    "SZOBA_SZAMA": "33",
                                    "FEROHELY": "3",
                                    "FOGLALAS_PK": "694",
                                    "Panzió?": "Nem"
                                },
                                {
                                    "SZALLAS_NEV": "Hotel Három Hattyú",
                                    "SZOBA_ID": "123",
                                    "SZOBA_SZAMA": "33",
                                    "FEROHELY": "3",
                                    "FOGLALAS_PK": "818",
                                    "Panzió?": "Nem"
                                },
                                {
                                    "SZALLAS_NEV": "Hotel Három Hattyú",
                                    "SZOBA_ID": "123",
                                    "SZOBA_SZAMA": "33",
                                    "FEROHELY": "3",
                                    "FOGLALAS_PK": "832",
                                    "Panzió?": "Nem"
                                },
                                {
                                    "SZALLAS_NEV": "Hotel Három Hattyú",
                                    "SZOBA_ID": "123",
                                    "SZOBA_SZAMA": "33",
                                    "FEROHELY": "3",
                                    "FOGLALAS_PK": "882",
                                    "Panzió?": "Nem"
                                },
                                {
                                    "SZALLAS_NEV": "Hotel Három Hattyú",
                                    "SZOBA_ID": "123",
                                    "SZOBA_SZAMA": "33",
                                    "FEROHELY": "3",
                                    "FOGLALAS_PK": "947",
                                    "Panzió?": "Nem"
                                },
                                {
                                    "SZALLAS_NEV": "Hotel Három Hattyú",
                                    "SZOBA_ID": "124",
                                    "SZOBA_SZAMA": "34",
                                    "FEROHELY": "3",
                                    "FOGLALAS_PK": "694",
                                    "Panzió?": "Nem"
                                },
                                {
                                    "SZALLAS_NEV": "Hotel Három Hattyú",
                                    "SZOBA_ID": "124",
                                    "SZOBA_SZAMA": "34",
                                    "FEROHELY": "3",
                                    "FOGLALAS_PK": "818",
                                    "Panzió?": "Nem"
                                },
                                {
                                    "SZALLAS_NEV": "Hotel Három Hattyú",
                                    "SZOBA_ID": "124",
                                    "SZOBA_SZAMA": "34",
                                    "FEROHELY": "3",
                                    "FOGLALAS_PK": "832",
                                    "Panzió?": "Nem"
                                },
                                {
                                    "SZALLAS_NEV": "Hotel Három Hattyú",
                                    "SZOBA_ID": "124",
                                    "SZOBA_SZAMA": "34",
                                    "FEROHELY": "3",
                                    "FOGLALAS_PK": "882",
                                    "Panzió?": "Nem"
                                },
                                {
                                    "SZALLAS_NEV": "Hotel Három Hattyú",
                                    "SZOBA_ID": "124",
                                    "SZOBA_SZAMA": "34",
                                    "FEROHELY": "3",
                                    "FOGLALAS_PK": "947",
                                    "Panzió?": "Nem"
                                },
                                {
                                    "SZALLAS_NEV": "Hotel Három Hattyú",
                                    "SZOBA_ID": "125",
                                    "SZOBA_SZAMA": "35",
                                    "FEROHELY": "2",
                                    "FOGLALAS_PK": "694",
                                    "Panzió?": "Nem"
                                },
                                {
                                    "SZALLAS_NEV": "Hotel Három Hattyú",
                                    "SZOBA_ID": "125",
                                    "SZOBA_SZAMA": "35",
                                    "FEROHELY": "2",
                                    "FOGLALAS_PK": "818",
                                    "Panzió?": "Nem"
                                },
                                {
                                    "SZALLAS_NEV": "Hotel Három Hattyú",
                                    "SZOBA_ID": "125",
                                    "SZOBA_SZAMA": "35",
                                    "FEROHELY": "2",
                                    "FOGLALAS_PK": "832",
                                    "Panzió?": "Nem"
                                },
                                {
                                    "SZALLAS_NEV": "Hotel Három Hattyú",
                                    "SZOBA_ID": "125",
                                    "SZOBA_SZAMA": "35",
                                    "FEROHELY": "2",
                                    "FOGLALAS_PK": "882",
                                    "Panzió?": "Nem"
                                },
                                {
                                    "SZALLAS_NEV": "Hotel Három Hattyú",
                                    "SZOBA_ID": "125",
                                    "SZOBA_SZAMA": "35",
                                    "FEROHELY": "2",
                                    "FOGLALAS_PK": "947",
                                    "Panzió?": "Nem"
                                },
                                {
                                    "SZALLAS_NEV": "Hotel Három Hattyú",
                                    "SZOBA_ID": "126",
                                    "SZOBA_SZAMA": "36",
                                    "FEROHELY": "2",
                                    "FOGLALAS_PK": "694",
                                    "Panzió?": "Nem"
                                },
                                {
                                    "SZALLAS_NEV": "Hotel Három Hattyú",
                                    "SZOBA_ID": "126",
                                    "SZOBA_SZAMA": "36",
                                    "FEROHELY": "2",
                                    "FOGLALAS_PK": "818",
                                    "Panzió?": "Nem"
                                },
                                {
                                    "SZALLAS_NEV": "Hotel Három Hattyú",
                                    "SZOBA_ID": "126",
                                    "SZOBA_SZAMA": "36",
                                    "FEROHELY": "2",
                                    "FOGLALAS_PK": "832",
                                    "Panzió?": "Nem"
                                },
                                {
                                    "SZALLAS_NEV": "Hotel Három Hattyú",
                                    "SZOBA_ID": "126",
                                    "SZOBA_SZAMA": "36",
                                    "FEROHELY": "2",
                                    "FOGLALAS_PK": "882",
                                    "Panzió?": "Nem"
                                },
                                {
                                    "SZALLAS_NEV": "Hotel Három Hattyú",
                                    "SZOBA_ID": "126",
                                    "SZOBA_SZAMA": "36",
                                    "FEROHELY": "2",
                                    "FOGLALAS_PK": "947",
                                    "Panzió?": "Nem"
                                },
                                {
                                    "SZALLAS_NEV": "Hotel Három Hattyú",
                                    "SZOBA_ID": "127",
                                    "SZOBA_SZAMA": "37",
                                    "FEROHELY": "2",
                                    "FOGLALAS_PK": "694",
                                    "Panzió?": "Nem"
                                },
                                {
                                    "SZALLAS_NEV": "Hotel Három Hattyú",
                                    "SZOBA_ID": "127",
                                    "SZOBA_SZAMA": "37",
                                    "FEROHELY": "2",
                                    "FOGLALAS_PK": "818",
                                    "Panzió?": "Nem"
                                },
                                {
                                    "SZALLAS_NEV": "Hotel Három Hattyú",
                                    "SZOBA_ID": "127",
                                    "SZOBA_SZAMA": "37",
                                    "FEROHELY": "2",
                                    "FOGLALAS_PK": "832",
                                    "Panzió?": "Nem"
                                },
                                {
                                    "SZALLAS_NEV": "Hotel Három Hattyú",
                                    "SZOBA_ID": "127",
                                    "SZOBA_SZAMA": "37",
                                    "FEROHELY": "2",
                                    "FOGLALAS_PK": "882",
                                    "Panzió?": "Nem"
                                },
                                {
                                    "SZALLAS_NEV": "Hotel Három Hattyú",
                                    "SZOBA_ID": "127",
                                    "SZOBA_SZAMA": "37",
                                    "FEROHELY": "2",
                                    "FOGLALAS_PK": "947",
                                    "Panzió?": "Nem"
                                },
                                {
                                    "SZALLAS_NEV": "Hotel Három Hattyú",
                                    "SZOBA_ID": "128",
                                    "SZOBA_SZAMA": "38",
                                    "FEROHELY": "2",
                                    "FOGLALAS_PK": "694",
                                    "Panzió?": "Nem"
                                },
                                {
                                    "SZALLAS_NEV": "Hotel Három Hattyú",
                                    "SZOBA_ID": "128",
                                    "SZOBA_SZAMA": "38",
                                    "FEROHELY": "2",
                                    "FOGLALAS_PK": "818",
                                    "Panzió?": "Nem"
                                },
                                {
                                    "SZALLAS_NEV": "Hotel Három Hattyú",
                                    "SZOBA_ID": "128",
                                    "SZOBA_SZAMA": "38",
                                    "FEROHELY": "2",
                                    "FOGLALAS_PK": "832",
                                    "Panzió?": "Nem"
                                },
                                {
                                    "SZALLAS_NEV": "Hotel Három Hattyú",
                                    "SZOBA_ID": "128",
                                    "SZOBA_SZAMA": "38",
                                    "FEROHELY": "2",
                                    "FOGLALAS_PK": "882",
                                    "Panzió?": "Nem"
                                },
                                {
                                    "SZALLAS_NEV": "Hotel Három Hattyú",
                                    "SZOBA_ID": "128",
                                    "SZOBA_SZAMA": "38",
                                    "FEROHELY": "2",
                                    "FOGLALAS_PK": "947",
                                    "Panzió?": "Nem"
                                },
                                {
                                    "SZALLAS_NEV": "Hotel Három Hattyú",
                                    "SZOBA_ID": "129",
                                    "SZOBA_SZAMA": "39",
                                    "FEROHELY": "2",
                                    "FOGLALAS_PK": "694",
                                    "Panzió?": "Nem"
                                },
                                {
                                    "SZALLAS_NEV": "Hotel Három Hattyú",
                                    "SZOBA_ID": "129",
                                    "SZOBA_SZAMA": "39",
                                    "FEROHELY": "2",
                                    "FOGLALAS_PK": "818",
                                    "Panzió?": "Nem"
                                },
                                {
                                    "SZALLAS_NEV": "Hotel Három Hattyú",
                                    "SZOBA_ID": "129",
                                    "SZOBA_SZAMA": "39",
                                    "FEROHELY": "2",
                                    "FOGLALAS_PK": "832",
                                    "Panzió?": "Nem"
                                },
                                {
                                    "SZALLAS_NEV": "Hotel Három Hattyú",
                                    "SZOBA_ID": "129",
                                    "SZOBA_SZAMA": "39",
                                    "FEROHELY": "2",
                                    "FOGLALAS_PK": "882",
                                    "Panzió?": "Nem"
                                },
                                {
                                    "SZALLAS_NEV": "Hotel Három Hattyú",
                                    "SZOBA_ID": "129",
                                    "SZOBA_SZAMA": "39",
                                    "FEROHELY": "2",
                                    "FOGLALAS_PK": "947",
                                    "Panzió?": "Nem"
                                },
                                {
                                    "SZALLAS_NEV": "Jáde panzió",
                                    "SZOBA_ID": "130",
                                    "SZOBA_SZAMA": "1",
                                    "FEROHELY": "2",
                                    "FOGLALAS_PK": "609",
                                    "Panzió?": "Igen"
                                },
                                {
                                    "SZALLAS_NEV": "Jáde panzió",
                                    "SZOBA_ID": "130",
                                    "SZOBA_SZAMA": "1",
                                    "FEROHELY": "2",
                                    "FOGLALAS_PK": "1157",
                                    "Panzió?": "Igen"
                                },
                                {
                                    "SZALLAS_NEV": "Jáde panzió",
                                    "SZOBA_ID": "130",
                                    "SZOBA_SZAMA": "1",
                                    "FEROHELY": "2",
                                    "FOGLALAS_PK": "1220",
                                    "Panzió?": "Igen"
                                },
                                {
                                    "SZALLAS_NEV": "Jáde panzió",
                                    "SZOBA_ID": "130",
                                    "SZOBA_SZAMA": "1",
                                    "FEROHELY": "2",
                                    "FOGLALAS_PK": "1260",
                                    "Panzió?": "Igen"
                                },
                                {
                                    "SZALLAS_NEV": "Jáde panzió",
                                    "SZOBA_ID": "130",
                                    "SZOBA_SZAMA": "1",
                                    "FEROHELY": "2",
                                    "FOGLALAS_PK": "1423",
                                    "Panzió?": "Igen"
                                },
                                {
                                    "SZALLAS_NEV": "Jáde panzió",
                                    "SZOBA_ID": "130",
                                    "SZOBA_SZAMA": "1",
                                    "FEROHELY": "2",
                                    "FOGLALAS_PK": "1537",
                                    "Panzió?": "Igen"
                                },
                                {
                                    "SZALLAS_NEV": "Jáde panzió",
                                    "SZOBA_ID": "131",
                                    "SZOBA_SZAMA": "2",
                                    "FEROHELY": "2",
                                    "FOGLALAS_PK": "609",
                                    "Panzió?": "Igen"
                                },
                                {
                                    "SZALLAS_NEV": "Jáde panzió",
                                    "SZOBA_ID": "131",
                                    "SZOBA_SZAMA": "2",
                                    "FEROHELY": "2",
                                    "FOGLALAS_PK": "1157",
                                    "Panzió?": "Igen"
                                },
                                {
                                    "SZALLAS_NEV": "Jáde panzió",
                                    "SZOBA_ID": "131",
                                    "SZOBA_SZAMA": "2",
                                    "FEROHELY": "2",
                                    "FOGLALAS_PK": "1220",
                                    "Panzió?": "Igen"
                                },
                                {
                                    "SZALLAS_NEV": "Jáde panzió",
                                    "SZOBA_ID": "131",
                                    "SZOBA_SZAMA": "2",
                                    "FEROHELY": "2",
                                    "FOGLALAS_PK": "1260",
                                    "Panzió?": "Igen"
                                },
                                {
                                    "SZALLAS_NEV": "Jáde panzió",
                                    "SZOBA_ID": "131",
                                    "SZOBA_SZAMA": "2",
                                    "FEROHELY": "2",
                                    "FOGLALAS_PK": "1423",
                                    "Panzió?": "Igen"
                                },
                                {
                                    "SZALLAS_NEV": "Jáde panzió",
                                    "SZOBA_ID": "131",
                                    "SZOBA_SZAMA": "2",
                                    "FEROHELY": "2",
                                    "FOGLALAS_PK": "1537",
                                    "Panzió?": "Igen"
                                },
                                {
                                    "SZALLAS_NEV": "Jáde panzió",
                                    "SZOBA_ID": "132",
                                    "SZOBA_SZAMA": "3",
                                    "FEROHELY": "3",
                                    "FOGLALAS_PK": "609",
                                    "Panzió?": "Igen"
                                },
                                {
                                    "SZALLAS_NEV": "Jáde panzió",
                                    "SZOBA_ID": "132",
                                    "SZOBA_SZAMA": "3",
                                    "FEROHELY": "3",
                                    "FOGLALAS_PK": "1157",
                                    "Panzió?": "Igen"
                                },
                                {
                                    "SZALLAS_NEV": "Jáde panzió",
                                    "SZOBA_ID": "132",
                                    "SZOBA_SZAMA": "3",
                                    "FEROHELY": "3",
                                    "FOGLALAS_PK": "1220",
                                    "Panzió?": "Igen"
                                },
                                {
                                    "SZALLAS_NEV": "Jáde panzió",
                                    "SZOBA_ID": "132",
                                    "SZOBA_SZAMA": "3",
                                    "FEROHELY": "3",
                                    "FOGLALAS_PK": "1260",
                                    "Panzió?": "Igen"
                                },
                                {
                                    "SZALLAS_NEV": "Jáde panzió",
                                    "SZOBA_ID": "132",
                                    "SZOBA_SZAMA": "3",
                                    "FEROHELY": "3",
                                    "FOGLALAS_PK": "1423",
                                    "Panzió?": "Igen"
                                },
                                {
                                    "SZALLAS_NEV": "Jáde panzió",
                                    "SZOBA_ID": "132",
                                    "SZOBA_SZAMA": "3",
                                    "FEROHELY": "3",
                                    "FOGLALAS_PK": "1537",
                                    "Panzió?": "Igen"
                                },
                                {
                                    "SZALLAS_NEV": "Jáde panzió",
                                    "SZOBA_ID": "133",
                                    "SZOBA_SZAMA": "4",
                                    "FEROHELY": "3",
                                    "FOGLALAS_PK": "609",
                                    "Panzió?": "Igen"
                                },
                                {
                                    "SZALLAS_NEV": "Jáde panzió",
                                    "SZOBA_ID": "133",
                                    "SZOBA_SZAMA": "4",
                                    "FEROHELY": "3",
                                    "FOGLALAS_PK": "1157",
                                    "Panzió?": "Igen"
                                },
                                {
                                    "SZALLAS_NEV": "Jáde panzió",
                                    "SZOBA_ID": "133",
                                    "SZOBA_SZAMA": "4",
                                    "FEROHELY": "3",
                                    "FOGLALAS_PK": "1220",
                                    "Panzió?": "Igen"
                                },
                                {
                                    "SZALLAS_NEV": "Jáde panzió",
                                    "SZOBA_ID": "133",
                                    "SZOBA_SZAMA": "4",
                                    "FEROHELY": "3",
                                    "FOGLALAS_PK": "1260",
                                    "Panzió?": "Igen"
                                },
                                {
                                    "SZALLAS_NEV": "Jáde panzió",
                                    "SZOBA_ID": "133",
                                    "SZOBA_SZAMA": "4",
                                    "FEROHELY": "3",
                                    "FOGLALAS_PK": "1423",
                                    "Panzió?": "Igen"
                                },
                                {
                                    "SZALLAS_NEV": "Jáde panzió",
                                    "SZOBA_ID": "133",
                                    "SZOBA_SZAMA": "4",
                                    "FEROHELY": "3",
                                    "FOGLALAS_PK": "1537",
                                    "Panzió?": "Igen"
                                },
                                {
                                    "SZALLAS_NEV": "Jáde panzió",
                                    "SZOBA_ID": "134",
                                    "SZOBA_SZAMA": "5",
                                    "FEROHELY": "3",
                                    "FOGLALAS_PK": "609",
                                    "Panzió?": "Igen"
                                },
                                {
                                    "SZALLAS_NEV": "Jáde panzió",
                                    "SZOBA_ID": "134",
                                    "SZOBA_SZAMA": "5",
                                    "FEROHELY": "3",
                                    "FOGLALAS_PK": "1157",
                                    "Panzió?": "Igen"
                                },
                                {
                                    "SZALLAS_NEV": "Jáde panzió",
                                    "SZOBA_ID": "134",
                                    "SZOBA_SZAMA": "5",
                                    "FEROHELY": "3",
                                    "FOGLALAS_PK": "1220",
                                    "Panzió?": "Igen"
                                },
                                {
                                    "SZALLAS_NEV": "Jáde panzió",
                                    "SZOBA_ID": "134",
                                    "SZOBA_SZAMA": "5",
                                    "FEROHELY": "3",
                                    "FOGLALAS_PK": "1260",
                                    "Panzió?": "Igen"
                                },
                                {
                                    "SZALLAS_NEV": "Jáde panzió",
                                    "SZOBA_ID": "134",
                                    "SZOBA_SZAMA": "5",
                                    "FEROHELY": "3",
                                    "FOGLALAS_PK": "1423",
                                    "Panzió?": "Igen"
                                },
                                {
                                    "SZALLAS_NEV": "Jáde panzió",
                                    "SZOBA_ID": "134",
                                    "SZOBA_SZAMA": "5",
                                    "FEROHELY": "3",
                                    "FOGLALAS_PK": "1537",
                                    "Panzió?": "Igen"
                                },
                                {
                                    "SZALLAS_NEV": "Lagúna Hotel",
                                    "SZOBA_ID": "135",
                                    "SZOBA_SZAMA": "1",
                                    "FEROHELY": "3",
                                    "FOGLALAS_PK": "569",
                                    "Panzió?": "Nem"
                                },
                                {
                                    "SZALLAS_NEV": "Lagúna Hotel",
                                    "SZOBA_ID": "135",
                                    "SZOBA_SZAMA": "1",
                                    "FEROHELY": "3",
                                    "FOGLALAS_PK": "790",
                                    "Panzió?": "Nem"
                                },
                                {
                                    "SZALLAS_NEV": "Lagúna Hotel",
                                    "SZOBA_ID": "135",
                                    "SZOBA_SZAMA": "1",
                                    "FEROHELY": "3",
                                    "FOGLALAS_PK": "795",
                                    "Panzió?": "Nem"
                                },
                                {
                                    "SZALLAS_NEV": "Lagúna Hotel",
                                    "SZOBA_ID": "135",
                                    "SZOBA_SZAMA": "1",
                                    "FEROHELY": "3",
                                    "FOGLALAS_PK": "1319",
                                    "Panzió?": "Nem"
                                },
                                {
                                    "SZALLAS_NEV": "Lagúna Hotel",
                                    "SZOBA_ID": "136",
                                    "SZOBA_SZAMA": "2",
                                    "FEROHELY": "2",
                                    "FOGLALAS_PK": "569",
                                    "Panzió?": "Nem"
                                },
                                {
                                    "SZALLAS_NEV": "Lagúna Hotel",
                                    "SZOBA_ID": "136",
                                    "SZOBA_SZAMA": "2",
                                    "FEROHELY": "2",
                                    "FOGLALAS_PK": "790",
                                    "Panzió?": "Nem"
                                },
                                {
                                    "SZALLAS_NEV": "Lagúna Hotel",
                                    "SZOBA_ID": "136",
                                    "SZOBA_SZAMA": "2",
                                    "FEROHELY": "2",
                                    "FOGLALAS_PK": "795",
                                    "Panzió?": "Nem"
                                },
                                {
                                    "SZALLAS_NEV": "Lagúna Hotel",
                                    "SZOBA_ID": "136",
                                    "SZOBA_SZAMA": "2",
                                    "FEROHELY": "2",
                                    "FOGLALAS_PK": "1319",
                                    "Panzió?": "Nem"
                                },
                                {
                                    "SZALLAS_NEV": "Lagúna Hotel",
                                    "SZOBA_ID": "137",
                                    "SZOBA_SZAMA": "3",
                                    "FEROHELY": "2",
                                    "FOGLALAS_PK": "569",
                                    "Panzió?": "Nem"
                                },
                                {
                                    "SZALLAS_NEV": "Lagúna Hotel",
                                    "SZOBA_ID": "137",
                                    "SZOBA_SZAMA": "3",
                                    "FEROHELY": "2",
                                    "FOGLALAS_PK": "790",
                                    "Panzió?": "Nem"
                                },
                                {
                                    "SZALLAS_NEV": "Lagúna Hotel",
                                    "SZOBA_ID": "137",
                                    "SZOBA_SZAMA": "3",
                                    "FEROHELY": "2",
                                    "FOGLALAS_PK": "795",
                                    "Panzió?": "Nem"
                                },
                                {
                                    "SZALLAS_NEV": "Lagúna Hotel",
                                    "SZOBA_ID": "137",
                                    "SZOBA_SZAMA": "3",
                                    "FEROHELY": "2",
                                    "FOGLALAS_PK": "1319",
                                    "Panzió?": "Nem"
                                },
                                {
                                    "SZALLAS_NEV": "Lagúna Hotel",
                                    "SZOBA_ID": "138",
                                    "SZOBA_SZAMA": "4",
                                    "FEROHELY": "3",
                                    "FOGLALAS_PK": "569",
                                    "Panzió?": "Nem"
                                },
                                {
                                    "SZALLAS_NEV": "Lagúna Hotel",
                                    "SZOBA_ID": "138",
                                    "SZOBA_SZAMA": "4",
                                    "FEROHELY": "3",
                                    "FOGLALAS_PK": "790",
                                    "Panzió?": "Nem"
                                },
                                {
                                    "SZALLAS_NEV": "Lagúna Hotel",
                                    "SZOBA_ID": "138",
                                    "SZOBA_SZAMA": "4",
                                    "FEROHELY": "3",
                                    "FOGLALAS_PK": "795",
                                    "Panzió?": "Nem"
                                },
                                {
                                    "SZALLAS_NEV": "Lagúna Hotel",
                                    "SZOBA_ID": "138",
                                    "SZOBA_SZAMA": "4",
                                    "FEROHELY": "3",
                                    "FOGLALAS_PK": "1319",
                                    "Panzió?": "Nem"
                                },
                                {
                                    "SZALLAS_NEV": "Lagúna Hotel",
                                    "SZOBA_ID": "139",
                                    "SZOBA_SZAMA": "5",
                                    "FEROHELY": "2",
                                    "FOGLALAS_PK": "569",
                                    "Panzió?": "Nem"
                                },
                                {
                                    "SZALLAS_NEV": "Lagúna Hotel",
                                    "SZOBA_ID": "139",
                                    "SZOBA_SZAMA": "5",
                                    "FEROHELY": "2",
                                    "FOGLALAS_PK": "790",
                                    "Panzió?": "Nem"
                                },
                                {
                                    "SZALLAS_NEV": "Lagúna Hotel",
                                    "SZOBA_ID": "139",
                                    "SZOBA_SZAMA": "5",
                                    "FEROHELY": "2",
                                    "FOGLALAS_PK": "795",
                                    "Panzió?": "Nem"
                                },
                                {
                                    "SZALLAS_NEV": "Lagúna Hotel",
                                    "SZOBA_ID": "139",
                                    "SZOBA_SZAMA": "5",
                                    "FEROHELY": "2",
                                    "FOGLALAS_PK": "1319",
                                    "Panzió?": "Nem"
                                },
                                {
                                    "SZALLAS_NEV": "Lagúna Hotel",
                                    "SZOBA_ID": "140",
                                    "SZOBA_SZAMA": "6",
                                    "FEROHELY": "2",
                                    "FOGLALAS_PK": "569",
                                    "Panzió?": "Nem"
                                },
                                {
                                    "SZALLAS_NEV": "Lagúna Hotel",
                                    "SZOBA_ID": "140",
                                    "SZOBA_SZAMA": "6",
                                    "FEROHELY": "2",
                                    "FOGLALAS_PK": "790",
                                    "Panzió?": "Nem"
                                },
                                {
                                    "SZALLAS_NEV": "Lagúna Hotel",
                                    "SZOBA_ID": "140",
                                    "SZOBA_SZAMA": "6",
                                    "FEROHELY": "2",
                                    "FOGLALAS_PK": "795",
                                    "Panzió?": "Nem"
                                },
                                {
                                    "SZALLAS_NEV": "Lagúna Hotel",
                                    "SZOBA_ID": "140",
                                    "SZOBA_SZAMA": "6",
                                    "FEROHELY": "2",
                                    "FOGLALAS_PK": "1319",
                                    "Panzió?": "Nem"
                                },
                                {
                                    "SZALLAS_NEV": "Lagúna Hotel",
                                    "SZOBA_ID": "141",
                                    "SZOBA_SZAMA": "7",
                                    "FEROHELY": "2",
                                    "FOGLALAS_PK": "569",
                                    "Panzió?": "Nem"
                                },
                                {
                                    "SZALLAS_NEV": "Lagúna Hotel",
                                    "SZOBA_ID": "141",
                                    "SZOBA_SZAMA": "7",
                                    "FEROHELY": "2",
                                    "FOGLALAS_PK": "790",
                                    "Panzió?": "Nem"
                                },
                                {
                                    "SZALLAS_NEV": "Lagúna Hotel",
                                    "SZOBA_ID": "141",
                                    "SZOBA_SZAMA": "7",
                                    "FEROHELY": "2",
                                    "FOGLALAS_PK": "795",
                                    "Panzió?": "Nem"
                                },
                                {
                                    "SZALLAS_NEV": "Lagúna Hotel",
                                    "SZOBA_ID": "141",
                                    "SZOBA_SZAMA": "7",
                                    "FEROHELY": "2",
                                    "FOGLALAS_PK": "1319",
                                    "Panzió?": "Nem"
                                },
                                {
                                    "SZALLAS_NEV": "Lagúna Hotel",
                                    "SZOBA_ID": "142",
                                    "SZOBA_SZAMA": "8",
                                    "FEROHELY": "3",
                                    "FOGLALAS_PK": "569",
                                    "Panzió?": "Nem"
                                },
                                {
                                    "SZALLAS_NEV": "Lagúna Hotel",
                                    "SZOBA_ID": "142",
                                    "SZOBA_SZAMA": "8",
                                    "FEROHELY": "3",
                                    "FOGLALAS_PK": "790",
                                    "Panzió?": "Nem"
                                },
                                {
                                    "SZALLAS_NEV": "Lagúna Hotel",
                                    "SZOBA_ID": "142",
                                    "SZOBA_SZAMA": "8",
                                    "FEROHELY": "3",
                                    "FOGLALAS_PK": "795",
                                    "Panzió?": "Nem"
                                },
                                {
                                    "SZALLAS_NEV": "Lagúna Hotel",
                                    "SZOBA_ID": "142",
                                    "SZOBA_SZAMA": "8",
                                    "FEROHELY": "3",
                                    "FOGLALAS_PK": "1319",
                                    "Panzió?": "Nem"
                                },
                                {
                                    "SZALLAS_NEV": "Lagúna Hotel",
                                    "SZOBA_ID": "143",
                                    "SZOBA_SZAMA": "9",
                                    "FEROHELY": "3",
                                    "FOGLALAS_PK": "569",
                                    "Panzió?": "Nem"
                                },
                                {
                                    "SZALLAS_NEV": "Lagúna Hotel",
                                    "SZOBA_ID": "143",
                                    "SZOBA_SZAMA": "9",
                                    "FEROHELY": "3",
                                    "FOGLALAS_PK": "790",
                                    "Panzió?": "Nem"
                                },
                                {
                                    "SZALLAS_NEV": "Lagúna Hotel",
                                    "SZOBA_ID": "143",
                                    "SZOBA_SZAMA": "9",
                                    "FEROHELY": "3",
                                    "FOGLALAS_PK": "795",
                                    "Panzió?": "Nem"
                                },
                                {
                                    "SZALLAS_NEV": "Lagúna Hotel",
                                    "SZOBA_ID": "143",
                                    "SZOBA_SZAMA": "9",
                                    "FEROHELY": "3",
                                    "FOGLALAS_PK": "1319",
                                    "Panzió?": "Nem"
                                },
                                {
                                    "SZALLAS_NEV": "Lagúna Hotel",
                                    "SZOBA_ID": "144",
                                    "SZOBA_SZAMA": "10",
                                    "FEROHELY": "3",
                                    "FOGLALAS_PK": "569",
                                    "Panzió?": "Nem"
                                },
                                {
                                    "SZALLAS_NEV": "Lagúna Hotel",
                                    "SZOBA_ID": "144",
                                    "SZOBA_SZAMA": "10",
                                    "FEROHELY": "3",
                                    "FOGLALAS_PK": "790",
                                    "Panzió?": "Nem"
                                },
                                {
                                    "SZALLAS_NEV": "Lagúna Hotel",
                                    "SZOBA_ID": "144",
                                    "SZOBA_SZAMA": "10",
                                    "FEROHELY": "3",
                                    "FOGLALAS_PK": "795",
                                    "Panzió?": "Nem"
                                },
                                {
                                    "SZALLAS_NEV": "Lagúna Hotel",
                                    "SZOBA_ID": "144",
                                    "SZOBA_SZAMA": "10",
                                    "FEROHELY": "3",
                                    "FOGLALAS_PK": "1319",
                                    "Panzió?": "Nem"
                                },
                                {
                                    "SZALLAS_NEV": "Lagúna Hotel",
                                    "SZOBA_ID": "145",
                                    "SZOBA_SZAMA": "11",
                                    "FEROHELY": "2",
                                    "FOGLALAS_PK": "569",
                                    "Panzió?": "Nem"
                                },
                                {
                                    "SZALLAS_NEV": "Lagúna Hotel",
                                    "SZOBA_ID": "145",
                                    "SZOBA_SZAMA": "11",
                                    "FEROHELY": "2",
                                    "FOGLALAS_PK": "790",
                                    "Panzió?": "Nem"
                                },
                                {
                                    "SZALLAS_NEV": "Lagúna Hotel",
                                    "SZOBA_ID": "145",
                                    "SZOBA_SZAMA": "11",
                                    "FEROHELY": "2",
                                    "FOGLALAS_PK": "795",
                                    "Panzió?": "Nem"
                                },
                                {
                                    "SZALLAS_NEV": "Lagúna Hotel",
                                    "SZOBA_ID": "145",
                                    "SZOBA_SZAMA": "11",
                                    "FEROHELY": "2",
                                    "FOGLALAS_PK": "1319",
                                    "Panzió?": "Nem"
                                },
                                {
                                    "SZALLAS_NEV": "Lagúna Hotel",
                                    "SZOBA_ID": "146",
                                    "SZOBA_SZAMA": "12",
                                    "FEROHELY": "3",
                                    "FOGLALAS_PK": "569",
                                    "Panzió?": "Nem"
                                },
                                {
                                    "SZALLAS_NEV": "Lagúna Hotel",
                                    "SZOBA_ID": "146",
                                    "SZOBA_SZAMA": "12",
                                    "FEROHELY": "3",
                                    "FOGLALAS_PK": "790",
                                    "Panzió?": "Nem"
                                },
                                {
                                    "SZALLAS_NEV": "Lagúna Hotel",
                                    "SZOBA_ID": "146",
                                    "SZOBA_SZAMA": "12",
                                    "FEROHELY": "3",
                                    "FOGLALAS_PK": "795",
                                    "Panzió?": "Nem"
                                },
                                {
                                    "SZALLAS_NEV": "Lagúna Hotel",
                                    "SZOBA_ID": "146",
                                    "SZOBA_SZAMA": "12",
                                    "FEROHELY": "3",
                                    "FOGLALAS_PK": "1319",
                                    "Panzió?": "Nem"
                                },
                                {
                                    "SZALLAS_NEV": "Lagúna Hotel",
                                    "SZOBA_ID": "147",
                                    "SZOBA_SZAMA": "13",
                                    "FEROHELY": "2",
                                    "FOGLALAS_PK": "569",
                                    "Panzió?": "Nem"
                                },
                                {
                                    "SZALLAS_NEV": "Lagúna Hotel",
                                    "SZOBA_ID": "147",
                                    "SZOBA_SZAMA": "13",
                                    "FEROHELY": "2",
                                    "FOGLALAS_PK": "790",
                                    "Panzió?": "Nem"
                                },
                                {
                                    "SZALLAS_NEV": "Lagúna Hotel",
                                    "SZOBA_ID": "147",
                                    "SZOBA_SZAMA": "13",
                                    "FEROHELY": "2",
                                    "FOGLALAS_PK": "795",
                                    "Panzió?": "Nem"
                                },
                                {
                                    "SZALLAS_NEV": "Lagúna Hotel",
                                    "SZOBA_ID": "147",
                                    "SZOBA_SZAMA": "13",
                                    "FEROHELY": "2",
                                    "FOGLALAS_PK": "1319",
                                    "Panzió?": "Nem"
                                },
                                {
                                    "SZALLAS_NEV": "Lagúna Hotel",
                                    "SZOBA_ID": "148",
                                    "SZOBA_SZAMA": "14",
                                    "FEROHELY": "2",
                                    "FOGLALAS_PK": "569",
                                    "Panzió?": "Nem"
                                },
                                {
                                    "SZALLAS_NEV": "Lagúna Hotel",
                                    "SZOBA_ID": "148",
                                    "SZOBA_SZAMA": "14",
                                    "FEROHELY": "2",
                                    "FOGLALAS_PK": "790",
                                    "Panzió?": "Nem"
                                },
                                {
                                    "SZALLAS_NEV": "Lagúna Hotel",
                                    "SZOBA_ID": "148",
                                    "SZOBA_SZAMA": "14",
                                    "FEROHELY": "2",
                                    "FOGLALAS_PK": "795",
                                    "Panzió?": "Nem"
                                },
                                {
                                    "SZALLAS_NEV": "Lagúna Hotel",
                                    "SZOBA_ID": "148",
                                    "SZOBA_SZAMA": "14",
                                    "FEROHELY": "2",
                                    "FOGLALAS_PK": "1319",
                                    "Panzió?": "Nem"
                                },
                                {
                                    "SZALLAS_NEV": "Lagúna Hotel",
                                    "SZOBA_ID": "149",
                                    "SZOBA_SZAMA": "15",
                                    "FEROHELY": "2",
                                    "FOGLALAS_PK": "569",
                                    "Panzió?": "Nem"
                                },
                                {
                                    "SZALLAS_NEV": "Lagúna Hotel",
                                    "SZOBA_ID": "149",
                                    "SZOBA_SZAMA": "15",
                                    "FEROHELY": "2",
                                    "FOGLALAS_PK": "790",
                                    "Panzió?": "Nem"
                                },
                                {
                                    "SZALLAS_NEV": "Lagúna Hotel",
                                    "SZOBA_ID": "149",
                                    "SZOBA_SZAMA": "15",
                                    "FEROHELY": "2",
                                    "FOGLALAS_PK": "795",
                                    "Panzió?": "Nem"
                                },
                                {
                                    "SZALLAS_NEV": "Lagúna Hotel",
                                    "SZOBA_ID": "149",
                                    "SZOBA_SZAMA": "15",
                                    "FEROHELY": "2",
                                    "FOGLALAS_PK": "1319",
                                    "Panzió?": "Nem"
                                },
                                {
                                    "SZALLAS_NEV": "Lagúna Hotel",
                                    "SZOBA_ID": "150",
                                    "SZOBA_SZAMA": "16",
                                    "FEROHELY": "2",
                                    "FOGLALAS_PK": "569",
                                    "Panzió?": "Nem"
                                },
                                {
                                    "SZALLAS_NEV": "Lagúna Hotel",
                                    "SZOBA_ID": "150",
                                    "SZOBA_SZAMA": "16",
                                    "FEROHELY": "2",
                                    "FOGLALAS_PK": "790",
                                    "Panzió?": "Nem"
                                },
                                {
                                    "SZALLAS_NEV": "Lagúna Hotel",
                                    "SZOBA_ID": "150",
                                    "SZOBA_SZAMA": "16",
                                    "FEROHELY": "2",
                                    "FOGLALAS_PK": "795",
                                    "Panzió?": "Nem"
                                },
                                {
                                    "SZALLAS_NEV": "Lagúna Hotel",
                                    "SZOBA_ID": "150",
                                    "SZOBA_SZAMA": "16",
                                    "FEROHELY": "2",
                                    "FOGLALAS_PK": "1319",
                                    "Panzió?": "Nem"
                                },
                                {
                                    "SZALLAS_NEV": "Lagúna Hotel",
                                    "SZOBA_ID": "151",
                                    "SZOBA_SZAMA": "17",
                                    "FEROHELY": "2",
                                    "FOGLALAS_PK": "569",
                                    "Panzió?": "Nem"
                                },
                                {
                                    "SZALLAS_NEV": "Lagúna Hotel",
                                    "SZOBA_ID": "151",
                                    "SZOBA_SZAMA": "17",
                                    "FEROHELY": "2",
                                    "FOGLALAS_PK": "790",
                                    "Panzió?": "Nem"
                                },
                                {
                                    "SZALLAS_NEV": "Lagúna Hotel",
                                    "SZOBA_ID": "151",
                                    "SZOBA_SZAMA": "17",
                                    "FEROHELY": "2",
                                    "FOGLALAS_PK": "795",
                                    "Panzió?": "Nem"
                                },
                                {
                                    "SZALLAS_NEV": "Lagúna Hotel",
                                    "SZOBA_ID": "151",
                                    "SZOBA_SZAMA": "17",
                                    "FEROHELY": "2",
                                    "FOGLALAS_PK": "1319",
                                    "Panzió?": "Nem"
                                },
                                {
                                    "SZALLAS_NEV": "Lagúna Hotel",
                                    "SZOBA_ID": "152",
                                    "SZOBA_SZAMA": "18",
                                    "FEROHELY": "2",
                                    "FOGLALAS_PK": "569",
                                    "Panzió?": "Nem"
                                },
                                {
                                    "SZALLAS_NEV": "Lagúna Hotel",
                                    "SZOBA_ID": "152",
                                    "SZOBA_SZAMA": "18",
                                    "FEROHELY": "2",
                                    "FOGLALAS_PK": "790",
                                    "Panzió?": "Nem"
                                },
                                {
                                    "SZALLAS_NEV": "Lagúna Hotel",
                                    "SZOBA_ID": "152",
                                    "SZOBA_SZAMA": "18",
                                    "FEROHELY": "2",
                                    "FOGLALAS_PK": "795",
                                    "Panzió?": "Nem"
                                },
                                {
                                    "SZALLAS_NEV": "Lagúna Hotel",
                                    "SZOBA_ID": "152",
                                    "SZOBA_SZAMA": "18",
                                    "FEROHELY": "2",
                                    "FOGLALAS_PK": "1319",
                                    "Panzió?": "Nem"
                                },
                                {
                                    "SZALLAS_NEV": "Lagúna Hotel",
                                    "SZOBA_ID": "153",
                                    "SZOBA_SZAMA": "19",
                                    "FEROHELY": "3",
                                    "FOGLALAS_PK": "569",
                                    "Panzió?": "Nem"
                                },
                                {
                                    "SZALLAS_NEV": "Lagúna Hotel",
                                    "SZOBA_ID": "153",
                                    "SZOBA_SZAMA": "19",
                                    "FEROHELY": "3",
                                    "FOGLALAS_PK": "790",
                                    "Panzió?": "Nem"
                                },
                                {
                                    "SZALLAS_NEV": "Lagúna Hotel",
                                    "SZOBA_ID": "153",
                                    "SZOBA_SZAMA": "19",
                                    "FEROHELY": "3",
                                    "FOGLALAS_PK": "795",
                                    "Panzió?": "Nem"
                                },
                                {
                                    "SZALLAS_NEV": "Lagúna Hotel",
                                    "SZOBA_ID": "153",
                                    "SZOBA_SZAMA": "19",
                                    "FEROHELY": "3",
                                    "FOGLALAS_PK": "1319",
                                    "Panzió?": "Nem"
                                },
                                {
                                    "SZALLAS_NEV": "Lagúna Hotel",
                                    "SZOBA_ID": "154",
                                    "SZOBA_SZAMA": "20",
                                    "FEROHELY": "2",
                                    "FOGLALAS_PK": "569",
                                    "Panzió?": "Nem"
                                },
                                {
                                    "SZALLAS_NEV": "Lagúna Hotel",
                                    "SZOBA_ID": "154",
                                    "SZOBA_SZAMA": "20",
                                    "FEROHELY": "2",
                                    "FOGLALAS_PK": "790",
                                    "Panzió?": "Nem"
                                },
                                {
                                    "SZALLAS_NEV": "Lagúna Hotel",
                                    "SZOBA_ID": "154",
                                    "SZOBA_SZAMA": "20",
                                    "FEROHELY": "2",
                                    "FOGLALAS_PK": "795",
                                    "Panzió?": "Nem"
                                },
                                {
                                    "SZALLAS_NEV": "Lagúna Hotel",
                                    "SZOBA_ID": "154",
                                    "SZOBA_SZAMA": "20",
                                    "FEROHELY": "2",
                                    "FOGLALAS_PK": "1319",
                                    "Panzió?": "Nem"
                                },
                                {
                                    "SZALLAS_NEV": "Lagúna Hotel",
                                    "SZOBA_ID": "155",
                                    "SZOBA_SZAMA": "21",
                                    "FEROHELY": "3",
                                    "FOGLALAS_PK": "569",
                                    "Panzió?": "Nem"
                                },
                                {
                                    "SZALLAS_NEV": "Lagúna Hotel",
                                    "SZOBA_ID": "155",
                                    "SZOBA_SZAMA": "21",
                                    "FEROHELY": "3",
                                    "FOGLALAS_PK": "790",
                                    "Panzió?": "Nem"
                                },
                                {
                                    "SZALLAS_NEV": "Lagúna Hotel",
                                    "SZOBA_ID": "155",
                                    "SZOBA_SZAMA": "21",
                                    "FEROHELY": "3",
                                    "FOGLALAS_PK": "795",
                                    "Panzió?": "Nem"
                                },
                                {
                                    "SZALLAS_NEV": "Lagúna Hotel",
                                    "SZOBA_ID": "155",
                                    "SZOBA_SZAMA": "21",
                                    "FEROHELY": "3",
                                    "FOGLALAS_PK": "1319",
                                    "Panzió?": "Nem"
                                },
                                {
                                    "SZALLAS_NEV": "Lagúna Hotel",
                                    "SZOBA_ID": "156",
                                    "SZOBA_SZAMA": "22",
                                    "FEROHELY": "2",
                                    "FOGLALAS_PK": "569",
                                    "Panzió?": "Nem"
                                },
                                {
                                    "SZALLAS_NEV": "Lagúna Hotel",
                                    "SZOBA_ID": "156",
                                    "SZOBA_SZAMA": "22",
                                    "FEROHELY": "2",
                                    "FOGLALAS_PK": "790",
                                    "Panzió?": "Nem"
                                },
                                {
                                    "SZALLAS_NEV": "Lagúna Hotel",
                                    "SZOBA_ID": "156",
                                    "SZOBA_SZAMA": "22",
                                    "FEROHELY": "2",
                                    "FOGLALAS_PK": "795",
                                    "Panzió?": "Nem"
                                },
                                {
                                    "SZALLAS_NEV": "Lagúna Hotel",
                                    "SZOBA_ID": "156",
                                    "SZOBA_SZAMA": "22",
                                    "FEROHELY": "2",
                                    "FOGLALAS_PK": "1319",
                                    "Panzió?": "Nem"
                                },
                                {
                                    "SZALLAS_NEV": "Lagúna Hotel",
                                    "SZOBA_ID": "157",
                                    "SZOBA_SZAMA": "23",
                                    "FEROHELY": "2",
                                    "FOGLALAS_PK": "569",
                                    "Panzió?": "Nem"
                                },
                                {
                                    "SZALLAS_NEV": "Lagúna Hotel",
                                    "SZOBA_ID": "157",
                                    "SZOBA_SZAMA": "23",
                                    "FEROHELY": "2",
                                    "FOGLALAS_PK": "790",
                                    "Panzió?": "Nem"
                                },
                                {
                                    "SZALLAS_NEV": "Lagúna Hotel",
                                    "SZOBA_ID": "157",
                                    "SZOBA_SZAMA": "23",
                                    "FEROHELY": "2",
                                    "FOGLALAS_PK": "795",
                                    "Panzió?": "Nem"
                                },
                                {
                                    "SZALLAS_NEV": "Lagúna Hotel",
                                    "SZOBA_ID": "157",
                                    "SZOBA_SZAMA": "23",
                                    "FEROHELY": "2",
                                    "FOGLALAS_PK": "1319",
                                    "Panzió?": "Nem"
                                },
                                {
                                    "SZALLAS_NEV": "Lagúna Hotel",
                                    "SZOBA_ID": "158",
                                    "SZOBA_SZAMA": "24",
                                    "FEROHELY": "2",
                                    "FOGLALAS_PK": "569",
                                    "Panzió?": "Nem"
                                },
                                {
                                    "SZALLAS_NEV": "Lagúna Hotel",
                                    "SZOBA_ID": "158",
                                    "SZOBA_SZAMA": "24",
                                    "FEROHELY": "2",
                                    "FOGLALAS_PK": "790",
                                    "Panzió?": "Nem"
                                },
                                {
                                    "SZALLAS_NEV": "Lagúna Hotel",
                                    "SZOBA_ID": "158",
                                    "SZOBA_SZAMA": "24",
                                    "FEROHELY": "2",
                                    "FOGLALAS_PK": "795",
                                    "Panzió?": "Nem"
                                },
                                {
                                    "SZALLAS_NEV": "Lagúna Hotel",
                                    "SZOBA_ID": "158",
                                    "SZOBA_SZAMA": "24",
                                    "FEROHELY": "2",
                                    "FOGLALAS_PK": "1319",
                                    "Panzió?": "Nem"
                                },
                                {
                                    "SZALLAS_NEV": "Lagúna Hotel",
                                    "SZOBA_ID": "159",
                                    "SZOBA_SZAMA": "25",
                                    "FEROHELY": "3",
                                    "FOGLALAS_PK": "569",
                                    "Panzió?": "Nem"
                                },
                                {
                                    "SZALLAS_NEV": "Lagúna Hotel",
                                    "SZOBA_ID": "159",
                                    "SZOBA_SZAMA": "25",
                                    "FEROHELY": "3",
                                    "FOGLALAS_PK": "790",
                                    "Panzió?": "Nem"
                                },
                                {
                                    "SZALLAS_NEV": "Lagúna Hotel",
                                    "SZOBA_ID": "159",
                                    "SZOBA_SZAMA": "25",
                                    "FEROHELY": "3",
                                    "FOGLALAS_PK": "795",
                                    "Panzió?": "Nem"
                                },
                                {
                                    "SZALLAS_NEV": "Lagúna Hotel",
                                    "SZOBA_ID": "159",
                                    "SZOBA_SZAMA": "25",
                                    "FEROHELY": "3",
                                    "FOGLALAS_PK": "1319",
                                    "Panzió?": "Nem"
                                },
                                {
                                    "SZALLAS_NEV": "Partiszél Vendégház",
                                    "SZOBA_ID": "160",
                                    "SZOBA_SZAMA": "1",
                                    "FEROHELY": "3",
                                    "FOGLALAS_PK": "918",
                                    "Panzió?": "Nem"
                                },
                                {
                                    "SZALLAS_NEV": "Partiszél Vendégház",
                                    "SZOBA_ID": "160",
                                    "SZOBA_SZAMA": "1",
                                    "FEROHELY": "3",
                                    "FOGLALAS_PK": "1123",
                                    "Panzió?": "Nem"
                                },
                                {
                                    "SZALLAS_NEV": "Partiszél Vendégház",
                                    "SZOBA_ID": "160",
                                    "SZOBA_SZAMA": "1",
                                    "FEROHELY": "3",
                                    "FOGLALAS_PK": "1236",
                                    "Panzió?": "Nem"
                                },
                                {
                                    "SZALLAS_NEV": "Partiszél Vendégház",
                                    "SZOBA_ID": "160",
                                    "SZOBA_SZAMA": "1",
                                    "FEROHELY": "3",
                                    "FOGLALAS_PK": "1523",
                                    "Panzió?": "Nem"
                                },
                                {
                                    "SZALLAS_NEV": "Partiszél Vendégház",
                                    "SZOBA_ID": "161",
                                    "SZOBA_SZAMA": "2",
                                    "FEROHELY": "2",
                                    "FOGLALAS_PK": "918",
                                    "Panzió?": "Nem"
                                },
                                {
                                    "SZALLAS_NEV": "Partiszél Vendégház",
                                    "SZOBA_ID": "161",
                                    "SZOBA_SZAMA": "2",
                                    "FEROHELY": "2",
                                    "FOGLALAS_PK": "1123",
                                    "Panzió?": "Nem"
                                },
                                {
                                    "SZALLAS_NEV": "Partiszél Vendégház",
                                    "SZOBA_ID": "161",
                                    "SZOBA_SZAMA": "2",
                                    "FEROHELY": "2",
                                    "FOGLALAS_PK": "1236",
                                    "Panzió?": "Nem"
                                },
                                {
                                    "SZALLAS_NEV": "Partiszél Vendégház",
                                    "SZOBA_ID": "161",
                                    "SZOBA_SZAMA": "2",
                                    "FEROHELY": "2",
                                    "FOGLALAS_PK": "1523",
                                    "Panzió?": "Nem"
                                },
                                {
                                    "SZALLAS_NEV": "Partiszél Vendégház",
                                    "SZOBA_ID": "162",
                                    "SZOBA_SZAMA": "3",
                                    "FEROHELY": "3",
                                    "FOGLALAS_PK": "918",
                                    "Panzió?": "Nem"
                                },
                                {
                                    "SZALLAS_NEV": "Partiszél Vendégház",
                                    "SZOBA_ID": "162",
                                    "SZOBA_SZAMA": "3",
                                    "FEROHELY": "3",
                                    "FOGLALAS_PK": "1123",
                                    "Panzió?": "Nem"
                                },
                                {
                                    "SZALLAS_NEV": "Partiszél Vendégház",
                                    "SZOBA_ID": "162",
                                    "SZOBA_SZAMA": "3",
                                    "FEROHELY": "3",
                                    "FOGLALAS_PK": "1236",
                                    "Panzió?": "Nem"
                                },
                                {
                                    "SZALLAS_NEV": "Partiszél Vendégház",
                                    "SZOBA_ID": "162",
                                    "SZOBA_SZAMA": "3",
                                    "FEROHELY": "3",
                                    "FOGLALAS_PK": "1523",
                                    "Panzió?": "Nem"
                                },
                                {
                                    "SZALLAS_NEV": "Partiszél Vendégház",
                                    "SZOBA_ID": "163",
                                    "SZOBA_SZAMA": "4",
                                    "FEROHELY": "2",
                                    "FOGLALAS_PK": "918",
                                    "Panzió?": "Nem"
                                },
                                {
                                    "SZALLAS_NEV": "Partiszél Vendégház",
                                    "SZOBA_ID": "163",
                                    "SZOBA_SZAMA": "4",
                                    "FEROHELY": "2",
                                    "FOGLALAS_PK": "1123",
                                    "Panzió?": "Nem"
                                },
                                {
                                    "SZALLAS_NEV": "Partiszél Vendégház",
                                    "SZOBA_ID": "163",
                                    "SZOBA_SZAMA": "4",
                                    "FEROHELY": "2",
                                    "FOGLALAS_PK": "1236",
                                    "Panzió?": "Nem"
                                },
                                {
                                    "SZALLAS_NEV": "Partiszél Vendégház",
                                    "SZOBA_ID": "163",
                                    "SZOBA_SZAMA": "4",
                                    "FEROHELY": "2",
                                    "FOGLALAS_PK": "1523",
                                    "Panzió?": "Nem"
                                },
                                {
                                    "SZALLAS_NEV": "Partiszél Vendégház",
                                    "SZOBA_ID": "164",
                                    "SZOBA_SZAMA": "5",
                                    "FEROHELY": "2",
                                    "FOGLALAS_PK": "918",
                                    "Panzió?": "Nem"
                                },
                                {
                                    "SZALLAS_NEV": "Partiszél Vendégház",
                                    "SZOBA_ID": "164",
                                    "SZOBA_SZAMA": "5",
                                    "FEROHELY": "2",
                                    "FOGLALAS_PK": "1123",
                                    "Panzió?": "Nem"
                                },
                                {
                                    "SZALLAS_NEV": "Partiszél Vendégház",
                                    "SZOBA_ID": "164",
                                    "SZOBA_SZAMA": "5",
                                    "FEROHELY": "2",
                                    "FOGLALAS_PK": "1236",
                                    "Panzió?": "Nem"
                                },
                                {
                                    "SZALLAS_NEV": "Partiszél Vendégház",
                                    "SZOBA_ID": "164",
                                    "SZOBA_SZAMA": "5",
                                    "FEROHELY": "2",
                                    "FOGLALAS_PK": "1523",
                                    "Panzió?": "Nem"
                                },
                                {
                                    "SZALLAS_NEV": "Gold Hotel",
                                    "SZOBA_ID": "165",
                                    "SZOBA_SZAMA": "1",
                                    "FEROHELY": "2",
                                    "FOGLALAS_PK": "697",
                                    "Panzió?": "Nem"
                                },
                                {
                                    "SZALLAS_NEV": "Gold Hotel",
                                    "SZOBA_ID": "165",
                                    "SZOBA_SZAMA": "1",
                                    "FEROHELY": "2",
                                    "FOGLALAS_PK": "775",
                                    "Panzió?": "Nem"
                                },
                                {
                                    "SZALLAS_NEV": "Gold Hotel",
                                    "SZOBA_ID": "165",
                                    "SZOBA_SZAMA": "1",
                                    "FEROHELY": "2",
                                    "FOGLALAS_PK": "876",
                                    "Panzió?": "Nem"
                                },
                                {
                                    "SZALLAS_NEV": "Gold Hotel",
                                    "SZOBA_ID": "165",
                                    "SZOBA_SZAMA": "1",
                                    "FEROHELY": "2",
                                    "FOGLALAS_PK": "951",
                                    "Panzió?": "Nem"
                                },
                                {
                                    "SZALLAS_NEV": "Gold Hotel",
                                    "SZOBA_ID": "165",
                                    "SZOBA_SZAMA": "1",
                                    "FEROHELY": "2",
                                    "FOGLALAS_PK": "970",
                                    "Panzió?": "Nem"
                                },
                                {
                                    "SZALLAS_NEV": "Gold Hotel",
                                    "SZOBA_ID": "165",
                                    "SZOBA_SZAMA": "1",
                                    "FEROHELY": "2",
                                    "FOGLALAS_PK": "1020",
                                    "Panzió?": "Nem"
                                },
                                {
                                    "SZALLAS_NEV": "Gold Hotel",
                                    "SZOBA_ID": "165",
                                    "SZOBA_SZAMA": "1",
                                    "FEROHELY": "2",
                                    "FOGLALAS_PK": "1140",
                                    "Panzió?": "Nem"
                                },
                                {
                                    "SZALLAS_NEV": "Gold Hotel",
                                    "SZOBA_ID": "165",
                                    "SZOBA_SZAMA": "1",
                                    "FEROHELY": "2",
                                    "FOGLALAS_PK": "1164",
                                    "Panzió?": "Nem"
                                },
                                {
                                    "SZALLAS_NEV": "Gold Hotel",
                                    "SZOBA_ID": "165",
                                    "SZOBA_SZAMA": "1",
                                    "FEROHELY": "2",
                                    "FOGLALAS_PK": "1430",
                                    "Panzió?": "Nem"
                                },
                                {
                                    "SZALLAS_NEV": "Gold Hotel",
                                    "SZOBA_ID": "166",
                                    "SZOBA_SZAMA": "2",
                                    "FEROHELY": "2",
                                    "FOGLALAS_PK": "697",
                                    "Panzió?": "Nem"
                                },
                                {
                                    "SZALLAS_NEV": "Gold Hotel",
                                    "SZOBA_ID": "166",
                                    "SZOBA_SZAMA": "2",
                                    "FEROHELY": "2",
                                    "FOGLALAS_PK": "775",
                                    "Panzió?": "Nem"
                                },
                                {
                                    "SZALLAS_NEV": "Gold Hotel",
                                    "SZOBA_ID": "166",
                                    "SZOBA_SZAMA": "2",
                                    "FEROHELY": "2",
                                    "FOGLALAS_PK": "876",
                                    "Panzió?": "Nem"
                                },
                                {
                                    "SZALLAS_NEV": "Gold Hotel",
                                    "SZOBA_ID": "166",
                                    "SZOBA_SZAMA": "2",
                                    "FEROHELY": "2",
                                    "FOGLALAS_PK": "951",
                                    "Panzió?": "Nem"
                                },
                                {
                                    "SZALLAS_NEV": "Gold Hotel",
                                    "SZOBA_ID": "166",
                                    "SZOBA_SZAMA": "2",
                                    "FEROHELY": "2",
                                    "FOGLALAS_PK": "970",
                                    "Panzió?": "Nem"
                                },
                                {
                                    "SZALLAS_NEV": "Gold Hotel",
                                    "SZOBA_ID": "166",
                                    "SZOBA_SZAMA": "2",
                                    "FEROHELY": "2",
                                    "FOGLALAS_PK": "1020",
                                    "Panzió?": "Nem"
                                },
                                {
                                    "SZALLAS_NEV": "Gold Hotel",
                                    "SZOBA_ID": "166",
                                    "SZOBA_SZAMA": "2",
                                    "FEROHELY": "2",
                                    "FOGLALAS_PK": "1140",
                                    "Panzió?": "Nem"
                                },
                                {
                                    "SZALLAS_NEV": "Gold Hotel",
                                    "SZOBA_ID": "166",
                                    "SZOBA_SZAMA": "2",
                                    "FEROHELY": "2",
                                    "FOGLALAS_PK": "1164",
                                    "Panzió?": "Nem"
                                },
                                {
                                    "SZALLAS_NEV": "Gold Hotel",
                                    "SZOBA_ID": "166",
                                    "SZOBA_SZAMA": "2",
                                    "FEROHELY": "2",
                                    "FOGLALAS_PK": "1430",
                                    "Panzió?": "Nem"
                                },
                                {
                                    "SZALLAS_NEV": "Gold Hotel",
                                    "SZOBA_ID": "167",
                                    "SZOBA_SZAMA": "3",
                                    "FEROHELY": "3",
                                    "FOGLALAS_PK": "697",
                                    "Panzió?": "Nem"
                                },
                                {
                                    "SZALLAS_NEV": "Gold Hotel",
                                    "SZOBA_ID": "167",
                                    "SZOBA_SZAMA": "3",
                                    "FEROHELY": "3",
                                    "FOGLALAS_PK": "775",
                                    "Panzió?": "Nem"
                                },
                                {
                                    "SZALLAS_NEV": "Gold Hotel",
                                    "SZOBA_ID": "167",
                                    "SZOBA_SZAMA": "3",
                                    "FEROHELY": "3",
                                    "FOGLALAS_PK": "876",
                                    "Panzió?": "Nem"
                                },
                                {
                                    "SZALLAS_NEV": "Gold Hotel",
                                    "SZOBA_ID": "167",
                                    "SZOBA_SZAMA": "3",
                                    "FEROHELY": "3",
                                    "FOGLALAS_PK": "951",
                                    "Panzió?": "Nem"
                                },
                                {
                                    "SZALLAS_NEV": "Gold Hotel",
                                    "SZOBA_ID": "167",
                                    "SZOBA_SZAMA": "3",
                                    "FEROHELY": "3",
                                    "FOGLALAS_PK": "970",
                                    "Panzió?": "Nem"
                                },
                                {
                                    "SZALLAS_NEV": "Gold Hotel",
                                    "SZOBA_ID": "167",
                                    "SZOBA_SZAMA": "3",
                                    "FEROHELY": "3",
                                    "FOGLALAS_PK": "1020",
                                    "Panzió?": "Nem"
                                },
                                {
                                    "SZALLAS_NEV": "Gold Hotel",
                                    "SZOBA_ID": "167",
                                    "SZOBA_SZAMA": "3",
                                    "FEROHELY": "3",
                                    "FOGLALAS_PK": "1140",
                                    "Panzió?": "Nem"
                                },
                                {
                                    "SZALLAS_NEV": "Gold Hotel",
                                    "SZOBA_ID": "167",
                                    "SZOBA_SZAMA": "3",
                                    "FEROHELY": "3",
                                    "FOGLALAS_PK": "1164",
                                    "Panzió?": "Nem"
                                },
                                {
                                    "SZALLAS_NEV": "Gold Hotel",
                                    "SZOBA_ID": "167",
                                    "SZOBA_SZAMA": "3",
                                    "FEROHELY": "3",
                                    "FOGLALAS_PK": "1430",
                                    "Panzió?": "Nem"
                                },
                                {
                                    "SZALLAS_NEV": "Gold Hotel",
                                    "SZOBA_ID": "168",
                                    "SZOBA_SZAMA": "4",
                                    "FEROHELY": "2",
                                    "FOGLALAS_PK": "697",
                                    "Panzió?": "Nem"
                                },
                                {
                                    "SZALLAS_NEV": "Gold Hotel",
                                    "SZOBA_ID": "168",
                                    "SZOBA_SZAMA": "4",
                                    "FEROHELY": "2",
                                    "FOGLALAS_PK": "775",
                                    "Panzió?": "Nem"
                                },
                                {
                                    "SZALLAS_NEV": "Gold Hotel",
                                    "SZOBA_ID": "168",
                                    "SZOBA_SZAMA": "4",
                                    "FEROHELY": "2",
                                    "FOGLALAS_PK": "876",
                                    "Panzió?": "Nem"
                                },
                                {
                                    "SZALLAS_NEV": "Gold Hotel",
                                    "SZOBA_ID": "168",
                                    "SZOBA_SZAMA": "4",
                                    "FEROHELY": "2",
                                    "FOGLALAS_PK": "951",
                                    "Panzió?": "Nem"
                                },
                                {
                                    "SZALLAS_NEV": "Gold Hotel",
                                    "SZOBA_ID": "168",
                                    "SZOBA_SZAMA": "4",
                                    "FEROHELY": "2",
                                    "FOGLALAS_PK": "970",
                                    "Panzió?": "Nem"
                                },
                                {
                                    "SZALLAS_NEV": "Gold Hotel",
                                    "SZOBA_ID": "168",
                                    "SZOBA_SZAMA": "4",
                                    "FEROHELY": "2",
                                    "FOGLALAS_PK": "1020",
                                    "Panzió?": "Nem"
                                },
                                {
                                    "SZALLAS_NEV": "Gold Hotel",
                                    "SZOBA_ID": "168",
                                    "SZOBA_SZAMA": "4",
                                    "FEROHELY": "2",
                                    "FOGLALAS_PK": "1140",
                                    "Panzió?": "Nem"
                                },
                                {
                                    "SZALLAS_NEV": "Gold Hotel",
                                    "SZOBA_ID": "168",
                                    "SZOBA_SZAMA": "4",
                                    "FEROHELY": "2",
                                    "FOGLALAS_PK": "1164",
                                    "Panzió?": "Nem"
                                },
                                {
                                    "SZALLAS_NEV": "Gold Hotel",
                                    "SZOBA_ID": "168",
                                    "SZOBA_SZAMA": "4",
                                    "FEROHELY": "2",
                                    "FOGLALAS_PK": "1430",
                                    "Panzió?": "Nem"
                                },
                                {
                                    "SZALLAS_NEV": "Gold Hotel",
                                    "SZOBA_ID": "169",
                                    "SZOBA_SZAMA": "5",
                                    "FEROHELY": "2",
                                    "FOGLALAS_PK": "697",
                                    "Panzió?": "Nem"
                                },
                                {
                                    "SZALLAS_NEV": "Gold Hotel",
                                    "SZOBA_ID": "169",
                                    "SZOBA_SZAMA": "5",
                                    "FEROHELY": "2",
                                    "FOGLALAS_PK": "775",
                                    "Panzió?": "Nem"
                                },
                                {
                                    "SZALLAS_NEV": "Gold Hotel",
                                    "SZOBA_ID": "169",
                                    "SZOBA_SZAMA": "5",
                                    "FEROHELY": "2",
                                    "FOGLALAS_PK": "876",
                                    "Panzió?": "Nem"
                                },
                                {
                                    "SZALLAS_NEV": "Gold Hotel",
                                    "SZOBA_ID": "169",
                                    "SZOBA_SZAMA": "5",
                                    "FEROHELY": "2",
                                    "FOGLALAS_PK": "951",
                                    "Panzió?": "Nem"
                                },
                                {
                                    "SZALLAS_NEV": "Gold Hotel",
                                    "SZOBA_ID": "169",
                                    "SZOBA_SZAMA": "5",
                                    "FEROHELY": "2",
                                    "FOGLALAS_PK": "970",
                                    "Panzió?": "Nem"
                                },
                                {
                                    "SZALLAS_NEV": "Gold Hotel",
                                    "SZOBA_ID": "169",
                                    "SZOBA_SZAMA": "5",
                                    "FEROHELY": "2",
                                    "FOGLALAS_PK": "1020",
                                    "Panzió?": "Nem"
                                },
                                {
                                    "SZALLAS_NEV": "Gold Hotel",
                                    "SZOBA_ID": "169",
                                    "SZOBA_SZAMA": "5",
                                    "FEROHELY": "2",
                                    "FOGLALAS_PK": "1140",
                                    "Panzió?": "Nem"
                                },
                                {
                                    "SZALLAS_NEV": "Gold Hotel",
                                    "SZOBA_ID": "169",
                                    "SZOBA_SZAMA": "5",
                                    "FEROHELY": "2",
                                    "FOGLALAS_PK": "1164",
                                    "Panzió?": "Nem"
                                },
                                {
                                    "SZALLAS_NEV": "Gold Hotel",
                                    "SZOBA_ID": "169",
                                    "SZOBA_SZAMA": "5",
                                    "FEROHELY": "2",
                                    "FOGLALAS_PK": "1430",
                                    "Panzió?": "Nem"
                                },
                                {
                                    "SZALLAS_NEV": "Gold Hotel",
                                    "SZOBA_ID": "170",
                                    "SZOBA_SZAMA": "6",
                                    "FEROHELY": "2",
                                    "FOGLALAS_PK": "697",
                                    "Panzió?": "Nem"
                                },
                                {
                                    "SZALLAS_NEV": "Gold Hotel",
                                    "SZOBA_ID": "170",
                                    "SZOBA_SZAMA": "6",
                                    "FEROHELY": "2",
                                    "FOGLALAS_PK": "775",
                                    "Panzió?": "Nem"
                                },
                                {
                                    "SZALLAS_NEV": "Gold Hotel",
                                    "SZOBA_ID": "170",
                                    "SZOBA_SZAMA": "6",
                                    "FEROHELY": "2",
                                    "FOGLALAS_PK": "876",
                                    "Panzió?": "Nem"
                                },
                                {
                                    "SZALLAS_NEV": "Gold Hotel",
                                    "SZOBA_ID": "170",
                                    "SZOBA_SZAMA": "6",
                                    "FEROHELY": "2",
                                    "FOGLALAS_PK": "951",
                                    "Panzió?": "Nem"
                                },
                                {
                                    "SZALLAS_NEV": "Gold Hotel",
                                    "SZOBA_ID": "170",
                                    "SZOBA_SZAMA": "6",
                                    "FEROHELY": "2",
                                    "FOGLALAS_PK": "970",
                                    "Panzió?": "Nem"
                                },
                                {
                                    "SZALLAS_NEV": "Gold Hotel",
                                    "SZOBA_ID": "170",
                                    "SZOBA_SZAMA": "6",
                                    "FEROHELY": "2",
                                    "FOGLALAS_PK": "1020",
                                    "Panzió?": "Nem"
                                },
                                {
                                    "SZALLAS_NEV": "Gold Hotel",
                                    "SZOBA_ID": "170",
                                    "SZOBA_SZAMA": "6",
                                    "FEROHELY": "2",
                                    "FOGLALAS_PK": "1140",
                                    "Panzió?": "Nem"
                                },
                                {
                                    "SZALLAS_NEV": "Gold Hotel",
                                    "SZOBA_ID": "170",
                                    "SZOBA_SZAMA": "6",
                                    "FEROHELY": "2",
                                    "FOGLALAS_PK": "1164",
                                    "Panzió?": "Nem"
                                },
                                {
                                    "SZALLAS_NEV": "Gold Hotel",
                                    "SZOBA_ID": "170",
                                    "SZOBA_SZAMA": "6",
                                    "FEROHELY": "2",
                                    "FOGLALAS_PK": "1430",
                                    "Panzió?": "Nem"
                                },
                                {
                                    "SZALLAS_NEV": "Gold Hotel",
                                    "SZOBA_ID": "171",
                                    "SZOBA_SZAMA": "7",
                                    "FEROHELY": "2",
                                    "FOGLALAS_PK": "697",
                                    "Panzió?": "Nem"
                                },
                                {
                                    "SZALLAS_NEV": "Gold Hotel",
                                    "SZOBA_ID": "171",
                                    "SZOBA_SZAMA": "7",
                                    "FEROHELY": "2",
                                    "FOGLALAS_PK": "775",
                                    "Panzió?": "Nem"
                                },
                                {
                                    "SZALLAS_NEV": "Gold Hotel",
                                    "SZOBA_ID": "171",
                                    "SZOBA_SZAMA": "7",
                                    "FEROHELY": "2",
                                    "FOGLALAS_PK": "876",
                                    "Panzió?": "Nem"
                                },
                                {
                                    "SZALLAS_NEV": "Gold Hotel",
                                    "SZOBA_ID": "171",
                                    "SZOBA_SZAMA": "7",
                                    "FEROHELY": "2",
                                    "FOGLALAS_PK": "951",
                                    "Panzió?": "Nem"
                                },
                                {
                                    "SZALLAS_NEV": "Gold Hotel",
                                    "SZOBA_ID": "171",
                                    "SZOBA_SZAMA": "7",
                                    "FEROHELY": "2",
                                    "FOGLALAS_PK": "970",
                                    "Panzió?": "Nem"
                                },
                                {
                                    "SZALLAS_NEV": "Gold Hotel",
                                    "SZOBA_ID": "171",
                                    "SZOBA_SZAMA": "7",
                                    "FEROHELY": "2",
                                    "FOGLALAS_PK": "1020",
                                    "Panzió?": "Nem"
                                },
                                {
                                    "SZALLAS_NEV": "Gold Hotel",
                                    "SZOBA_ID": "171",
                                    "SZOBA_SZAMA": "7",
                                    "FEROHELY": "2",
                                    "FOGLALAS_PK": "1140",
                                    "Panzió?": "Nem"
                                },
                                {
                                    "SZALLAS_NEV": "Gold Hotel",
                                    "SZOBA_ID": "171",
                                    "SZOBA_SZAMA": "7",
                                    "FEROHELY": "2",
                                    "FOGLALAS_PK": "1164",
                                    "Panzió?": "Nem"
                                },
                                {
                                    "SZALLAS_NEV": "Gold Hotel",
                                    "SZOBA_ID": "171",
                                    "SZOBA_SZAMA": "7",
                                    "FEROHELY": "2",
                                    "FOGLALAS_PK": "1430",
                                    "Panzió?": "Nem"
                                },
                                {
                                    "SZALLAS_NEV": "Gold Hotel",
                                    "SZOBA_ID": "172",
                                    "SZOBA_SZAMA": "8",
                                    "FEROHELY": "2",
                                    "FOGLALAS_PK": "697",
                                    "Panzió?": "Nem"
                                },
                                {
                                    "SZALLAS_NEV": "Gold Hotel",
                                    "SZOBA_ID": "172",
                                    "SZOBA_SZAMA": "8",
                                    "FEROHELY": "2",
                                    "FOGLALAS_PK": "775",
                                    "Panzió?": "Nem"
                                },
                                {
                                    "SZALLAS_NEV": "Gold Hotel",
                                    "SZOBA_ID": "172",
                                    "SZOBA_SZAMA": "8",
                                    "FEROHELY": "2",
                                    "FOGLALAS_PK": "876",
                                    "Panzió?": "Nem"
                                },
                                {
                                    "SZALLAS_NEV": "Gold Hotel",
                                    "SZOBA_ID": "172",
                                    "SZOBA_SZAMA": "8",
                                    "FEROHELY": "2",
                                    "FOGLALAS_PK": "951",
                                    "Panzió?": "Nem"
                                },
                                {
                                    "SZALLAS_NEV": "Gold Hotel",
                                    "SZOBA_ID": "172",
                                    "SZOBA_SZAMA": "8",
                                    "FEROHELY": "2",
                                    "FOGLALAS_PK": "970",
                                    "Panzió?": "Nem"
                                },
                                {
                                    "SZALLAS_NEV": "Gold Hotel",
                                    "SZOBA_ID": "172",
                                    "SZOBA_SZAMA": "8",
                                    "FEROHELY": "2",
                                    "FOGLALAS_PK": "1020",
                                    "Panzió?": "Nem"
                                },
                                {
                                    "SZALLAS_NEV": "Gold Hotel",
                                    "SZOBA_ID": "172",
                                    "SZOBA_SZAMA": "8",
                                    "FEROHELY": "2",
                                    "FOGLALAS_PK": "1140",
                                    "Panzió?": "Nem"
                                },
                                {
                                    "SZALLAS_NEV": "Gold Hotel",
                                    "SZOBA_ID": "172",
                                    "SZOBA_SZAMA": "8",
                                    "FEROHELY": "2",
                                    "FOGLALAS_PK": "1164",
                                    "Panzió?": "Nem"
                                },
                                {
                                    "SZALLAS_NEV": "Gold Hotel",
                                    "SZOBA_ID": "172",
                                    "SZOBA_SZAMA": "8",
                                    "FEROHELY": "2",
                                    "FOGLALAS_PK": "1430",
                                    "Panzió?": "Nem"
                                },
                                {
                                    "SZALLAS_NEV": "Gold Hotel",
                                    "SZOBA_ID": "173",
                                    "SZOBA_SZAMA": "9",
                                    "FEROHELY": "2",
                                    "FOGLALAS_PK": "697",
                                    "Panzió?": "Nem"
                                },
                                {
                                    "SZALLAS_NEV": "Gold Hotel",
                                    "SZOBA_ID": "173",
                                    "SZOBA_SZAMA": "9",
                                    "FEROHELY": "2",
                                    "FOGLALAS_PK": "775",
                                    "Panzió?": "Nem"
                                },
                                {
                                    "SZALLAS_NEV": "Gold Hotel",
                                    "SZOBA_ID": "173",
                                    "SZOBA_SZAMA": "9",
                                    "FEROHELY": "2",
                                    "FOGLALAS_PK": "876",
                                    "Panzió?": "Nem"
                                },
                                {
                                    "SZALLAS_NEV": "Gold Hotel",
                                    "SZOBA_ID": "173",
                                    "SZOBA_SZAMA": "9",
                                    "FEROHELY": "2",
                                    "FOGLALAS_PK": "951",
                                    "Panzió?": "Nem"
                                },
                                {
                                    "SZALLAS_NEV": "Gold Hotel",
                                    "SZOBA_ID": "173",
                                    "SZOBA_SZAMA": "9",
                                    "FEROHELY": "2",
                                    "FOGLALAS_PK": "970",
                                    "Panzió?": "Nem"
                                },
                                {
                                    "SZALLAS_NEV": "Gold Hotel",
                                    "SZOBA_ID": "173",
                                    "SZOBA_SZAMA": "9",
                                    "FEROHELY": "2",
                                    "FOGLALAS_PK": "1020",
                                    "Panzió?": "Nem"
                                },
                                {
                                    "SZALLAS_NEV": "Gold Hotel",
                                    "SZOBA_ID": "173",
                                    "SZOBA_SZAMA": "9",
                                    "FEROHELY": "2",
                                    "FOGLALAS_PK": "1140",
                                    "Panzió?": "Nem"
                                },
                                {
                                    "SZALLAS_NEV": "Gold Hotel",
                                    "SZOBA_ID": "173",
                                    "SZOBA_SZAMA": "9",
                                    "FEROHELY": "2",
                                    "FOGLALAS_PK": "1164",
                                    "Panzió?": "Nem"
                                },
                                {
                                    "SZALLAS_NEV": "Gold Hotel",
                                    "SZOBA_ID": "173",
                                    "SZOBA_SZAMA": "9",
                                    "FEROHELY": "2",
                                    "FOGLALAS_PK": "1430",
                                    "Panzió?": "Nem"
                                },
                                {
                                    "SZALLAS_NEV": "Gold Hotel",
                                    "SZOBA_ID": "174",
                                    "SZOBA_SZAMA": "10",
                                    "FEROHELY": "2",
                                    "FOGLALAS_PK": "697",
                                    "Panzió?": "Nem"
                                },
                                {
                                    "SZALLAS_NEV": "Gold Hotel",
                                    "SZOBA_ID": "174",
                                    "SZOBA_SZAMA": "10",
                                    "FEROHELY": "2",
                                    "FOGLALAS_PK": "775",
                                    "Panzió?": "Nem"
                                },
                                {
                                    "SZALLAS_NEV": "Gold Hotel",
                                    "SZOBA_ID": "174",
                                    "SZOBA_SZAMA": "10",
                                    "FEROHELY": "2",
                                    "FOGLALAS_PK": "876",
                                    "Panzió?": "Nem"
                                },
                                {
                                    "SZALLAS_NEV": "Gold Hotel",
                                    "SZOBA_ID": "174",
                                    "SZOBA_SZAMA": "10",
                                    "FEROHELY": "2",
                                    "FOGLALAS_PK": "951",
                                    "Panzió?": "Nem"
                                },
                                {
                                    "SZALLAS_NEV": "Gold Hotel",
                                    "SZOBA_ID": "174",
                                    "SZOBA_SZAMA": "10",
                                    "FEROHELY": "2",
                                    "FOGLALAS_PK": "970",
                                    "Panzió?": "Nem"
                                },
                                {
                                    "SZALLAS_NEV": "Gold Hotel",
                                    "SZOBA_ID": "174",
                                    "SZOBA_SZAMA": "10",
                                    "FEROHELY": "2",
                                    "FOGLALAS_PK": "1020",
                                    "Panzió?": "Nem"
                                },
                                {
                                    "SZALLAS_NEV": "Gold Hotel",
                                    "SZOBA_ID": "174",
                                    "SZOBA_SZAMA": "10",
                                    "FEROHELY": "2",
                                    "FOGLALAS_PK": "1140",
                                    "Panzió?": "Nem"
                                },
                                {
                                    "SZALLAS_NEV": "Gold Hotel",
                                    "SZOBA_ID": "174",
                                    "SZOBA_SZAMA": "10",
                                    "FEROHELY": "2",
                                    "FOGLALAS_PK": "1164",
                                    "Panzió?": "Nem"
                                },
                                {
                                    "SZALLAS_NEV": "Gold Hotel",
                                    "SZOBA_ID": "174",
                                    "SZOBA_SZAMA": "10",
                                    "FEROHELY": "2",
                                    "FOGLALAS_PK": "1430",
                                    "Panzió?": "Nem"
                                },
                                {
                                    "SZALLAS_NEV": "Gold Hotel",
                                    "SZOBA_ID": "175",
                                    "SZOBA_SZAMA": "11",
                                    "FEROHELY": "2",
                                    "FOGLALAS_PK": "697",
                                    "Panzió?": "Nem"
                                },
                                {
                                    "SZALLAS_NEV": "Gold Hotel",
                                    "SZOBA_ID": "175",
                                    "SZOBA_SZAMA": "11",
                                    "FEROHELY": "2",
                                    "FOGLALAS_PK": "775",
                                    "Panzió?": "Nem"
                                },
                                {
                                    "SZALLAS_NEV": "Gold Hotel",
                                    "SZOBA_ID": "175",
                                    "SZOBA_SZAMA": "11",
                                    "FEROHELY": "2",
                                    "FOGLALAS_PK": "876",
                                    "Panzió?": "Nem"
                                },
                                {
                                    "SZALLAS_NEV": "Gold Hotel",
                                    "SZOBA_ID": "175",
                                    "SZOBA_SZAMA": "11",
                                    "FEROHELY": "2",
                                    "FOGLALAS_PK": "951",
                                    "Panzió?": "Nem"
                                },
                                {
                                    "SZALLAS_NEV": "Gold Hotel",
                                    "SZOBA_ID": "175",
                                    "SZOBA_SZAMA": "11",
                                    "FEROHELY": "2",
                                    "FOGLALAS_PK": "970",
                                    "Panzió?": "Nem"
                                },
                                {
                                    "SZALLAS_NEV": "Gold Hotel",
                                    "SZOBA_ID": "175",
                                    "SZOBA_SZAMA": "11",
                                    "FEROHELY": "2",
                                    "FOGLALAS_PK": "1020",
                                    "Panzió?": "Nem"
                                },
                                {
                                    "SZALLAS_NEV": "Gold Hotel",
                                    "SZOBA_ID": "175",
                                    "SZOBA_SZAMA": "11",
                                    "FEROHELY": "2",
                                    "FOGLALAS_PK": "1140",
                                    "Panzió?": "Nem"
                                },
                                {
                                    "SZALLAS_NEV": "Gold Hotel",
                                    "SZOBA_ID": "175",
                                    "SZOBA_SZAMA": "11",
                                    "FEROHELY": "2",
                                    "FOGLALAS_PK": "1164",
                                    "Panzió?": "Nem"
                                },
                                {
                                    "SZALLAS_NEV": "Gold Hotel",
                                    "SZOBA_ID": "175",
                                    "SZOBA_SZAMA": "11",
                                    "FEROHELY": "2",
                                    "FOGLALAS_PK": "1430",
                                    "Panzió?": "Nem"
                                },
                                {
                                    "SZALLAS_NEV": "Gold Hotel",
                                    "SZOBA_ID": "176",
                                    "SZOBA_SZAMA": "12",
                                    "FEROHELY": "3",
                                    "FOGLALAS_PK": "697",
                                    "Panzió?": "Nem"
                                },
                                {
                                    "SZALLAS_NEV": "Gold Hotel",
                                    "SZOBA_ID": "176",
                                    "SZOBA_SZAMA": "12",
                                    "FEROHELY": "3",
                                    "FOGLALAS_PK": "775",
                                    "Panzió?": "Nem"
                                },
                                {
                                    "SZALLAS_NEV": "Gold Hotel",
                                    "SZOBA_ID": "176",
                                    "SZOBA_SZAMA": "12",
                                    "FEROHELY": "3",
                                    "FOGLALAS_PK": "876",
                                    "Panzió?": "Nem"
                                },
                                {
                                    "SZALLAS_NEV": "Gold Hotel",
                                    "SZOBA_ID": "176",
                                    "SZOBA_SZAMA": "12",
                                    "FEROHELY": "3",
                                    "FOGLALAS_PK": "951",
                                    "Panzió?": "Nem"
                                },
                                {
                                    "SZALLAS_NEV": "Gold Hotel",
                                    "SZOBA_ID": "176",
                                    "SZOBA_SZAMA": "12",
                                    "FEROHELY": "3",
                                    "FOGLALAS_PK": "970",
                                    "Panzió?": "Nem"
                                },
                                {
                                    "SZALLAS_NEV": "Gold Hotel",
                                    "SZOBA_ID": "176",
                                    "SZOBA_SZAMA": "12",
                                    "FEROHELY": "3",
                                    "FOGLALAS_PK": "1020",
                                    "Panzió?": "Nem"
                                },
                                {
                                    "SZALLAS_NEV": "Gold Hotel",
                                    "SZOBA_ID": "176",
                                    "SZOBA_SZAMA": "12",
                                    "FEROHELY": "3",
                                    "FOGLALAS_PK": "1140",
                                    "Panzió?": "Nem"
                                },
                                {
                                    "SZALLAS_NEV": "Gold Hotel",
                                    "SZOBA_ID": "176",
                                    "SZOBA_SZAMA": "12",
                                    "FEROHELY": "3",
                                    "FOGLALAS_PK": "1164",
                                    "Panzió?": "Nem"
                                },
                                {
                                    "SZALLAS_NEV": "Gold Hotel",
                                    "SZOBA_ID": "176",
                                    "SZOBA_SZAMA": "12",
                                    "FEROHELY": "3",
                                    "FOGLALAS_PK": "1430",
                                    "Panzió?": "Nem"
                                },
                                {
                                    "SZALLAS_NEV": "Gold Hotel",
                                    "SZOBA_ID": "177",
                                    "SZOBA_SZAMA": "13",
                                    "FEROHELY": "3",
                                    "FOGLALAS_PK": "697",
                                    "Panzió?": "Nem"
                                },
                                {
                                    "SZALLAS_NEV": "Gold Hotel",
                                    "SZOBA_ID": "177",
                                    "SZOBA_SZAMA": "13",
                                    "FEROHELY": "3",
                                    "FOGLALAS_PK": "775",
                                    "Panzió?": "Nem"
                                },
                                {
                                    "SZALLAS_NEV": "Gold Hotel",
                                    "SZOBA_ID": "177",
                                    "SZOBA_SZAMA": "13",
                                    "FEROHELY": "3",
                                    "FOGLALAS_PK": "876",
                                    "Panzió?": "Nem"
                                },
                                {
                                    "SZALLAS_NEV": "Gold Hotel",
                                    "SZOBA_ID": "177",
                                    "SZOBA_SZAMA": "13",
                                    "FEROHELY": "3",
                                    "FOGLALAS_PK": "951",
                                    "Panzió?": "Nem"
                                },
                                {
                                    "SZALLAS_NEV": "Gold Hotel",
                                    "SZOBA_ID": "177",
                                    "SZOBA_SZAMA": "13",
                                    "FEROHELY": "3",
                                    "FOGLALAS_PK": "970",
                                    "Panzió?": "Nem"
                                },
                                {
                                    "SZALLAS_NEV": "Gold Hotel",
                                    "SZOBA_ID": "177",
                                    "SZOBA_SZAMA": "13",
                                    "FEROHELY": "3",
                                    "FOGLALAS_PK": "1020",
                                    "Panzió?": "Nem"
                                },
                                {
                                    "SZALLAS_NEV": "Gold Hotel",
                                    "SZOBA_ID": "177",
                                    "SZOBA_SZAMA": "13",
                                    "FEROHELY": "3",
                                    "FOGLALAS_PK": "1140",
                                    "Panzió?": "Nem"
                                },
                                {
                                    "SZALLAS_NEV": "Gold Hotel",
                                    "SZOBA_ID": "177",
                                    "SZOBA_SZAMA": "13",
                                    "FEROHELY": "3",
                                    "FOGLALAS_PK": "1164",
                                    "Panzió?": "Nem"
                                },
                                {
                                    "SZALLAS_NEV": "Gold Hotel",
                                    "SZOBA_ID": "177",
                                    "SZOBA_SZAMA": "13",
                                    "FEROHELY": "3",
                                    "FOGLALAS_PK": "1430",
                                    "Panzió?": "Nem"
                                },
                                {
                                    "SZALLAS_NEV": "Gold Hotel",
                                    "SZOBA_ID": "178",
                                    "SZOBA_SZAMA": "14",
                                    "FEROHELY": "3",
                                    "FOGLALAS_PK": "697",
                                    "Panzió?": "Nem"
                                },
                                {
                                    "SZALLAS_NEV": "Gold Hotel",
                                    "SZOBA_ID": "178",
                                    "SZOBA_SZAMA": "14",
                                    "FEROHELY": "3",
                                    "FOGLALAS_PK": "775",
                                    "Panzió?": "Nem"
                                },
                                {
                                    "SZALLAS_NEV": "Gold Hotel",
                                    "SZOBA_ID": "178",
                                    "SZOBA_SZAMA": "14",
                                    "FEROHELY": "3",
                                    "FOGLALAS_PK": "876",
                                    "Panzió?": "Nem"
                                },
                                {
                                    "SZALLAS_NEV": "Gold Hotel",
                                    "SZOBA_ID": "178",
                                    "SZOBA_SZAMA": "14",
                                    "FEROHELY": "3",
                                    "FOGLALAS_PK": "951",
                                    "Panzió?": "Nem"
                                },
                                {
                                    "SZALLAS_NEV": "Gold Hotel",
                                    "SZOBA_ID": "178",
                                    "SZOBA_SZAMA": "14",
                                    "FEROHELY": "3",
                                    "FOGLALAS_PK": "970",
                                    "Panzió?": "Nem"
                                },
                                {
                                    "SZALLAS_NEV": "Gold Hotel",
                                    "SZOBA_ID": "178",
                                    "SZOBA_SZAMA": "14",
                                    "FEROHELY": "3",
                                    "FOGLALAS_PK": "1020",
                                    "Panzió?": "Nem"
                                },
                                {
                                    "SZALLAS_NEV": "Gold Hotel",
                                    "SZOBA_ID": "178",
                                    "SZOBA_SZAMA": "14",
                                    "FEROHELY": "3",
                                    "FOGLALAS_PK": "1140",
                                    "Panzió?": "Nem"
                                },
                                {
                                    "SZALLAS_NEV": "Gold Hotel",
                                    "SZOBA_ID": "178",
                                    "SZOBA_SZAMA": "14",
                                    "FEROHELY": "3",
                                    "FOGLALAS_PK": "1164",
                                    "Panzió?": "Nem"
                                },
                                {
                                    "SZALLAS_NEV": "Gold Hotel",
                                    "SZOBA_ID": "178",
                                    "SZOBA_SZAMA": "14",
                                    "FEROHELY": "3",
                                    "FOGLALAS_PK": "1430",
                                    "Panzió?": "Nem"
                                },
                                {
                                    "SZALLAS_NEV": "Gold Hotel",
                                    "SZOBA_ID": "179",
                                    "SZOBA_SZAMA": "15",
                                    "FEROHELY": "3",
                                    "FOGLALAS_PK": "697",
                                    "Panzió?": "Nem"
                                },
                                {
                                    "SZALLAS_NEV": "Gold Hotel",
                                    "SZOBA_ID": "179",
                                    "SZOBA_SZAMA": "15",
                                    "FEROHELY": "3",
                                    "FOGLALAS_PK": "775",
                                    "Panzió?": "Nem"
                                },
                                {
                                    "SZALLAS_NEV": "Gold Hotel",
                                    "SZOBA_ID": "179",
                                    "SZOBA_SZAMA": "15",
                                    "FEROHELY": "3",
                                    "FOGLALAS_PK": "876",
                                    "Panzió?": "Nem"
                                },
                                {
                                    "SZALLAS_NEV": "Gold Hotel",
                                    "SZOBA_ID": "179",
                                    "SZOBA_SZAMA": "15",
                                    "FEROHELY": "3",
                                    "FOGLALAS_PK": "951",
                                    "Panzió?": "Nem"
                                },
                                {
                                    "SZALLAS_NEV": "Gold Hotel",
                                    "SZOBA_ID": "179",
                                    "SZOBA_SZAMA": "15",
                                    "FEROHELY": "3",
                                    "FOGLALAS_PK": "970",
                                    "Panzió?": "Nem"
                                },
                                {
                                    "SZALLAS_NEV": "Gold Hotel",
                                    "SZOBA_ID": "179",
                                    "SZOBA_SZAMA": "15",
                                    "FEROHELY": "3",
                                    "FOGLALAS_PK": "1020",
                                    "Panzió?": "Nem"
                                },
                                {
                                    "SZALLAS_NEV": "Gold Hotel",
                                    "SZOBA_ID": "179",
                                    "SZOBA_SZAMA": "15",
                                    "FEROHELY": "3",
                                    "FOGLALAS_PK": "1140",
                                    "Panzió?": "Nem"
                                },
                                {
                                    "SZALLAS_NEV": "Gold Hotel",
                                    "SZOBA_ID": "179",
                                    "SZOBA_SZAMA": "15",
                                    "FEROHELY": "3",
                                    "FOGLALAS_PK": "1164",
                                    "Panzió?": "Nem"
                                },
                                {
                                    "SZALLAS_NEV": "Gold Hotel",
                                    "SZOBA_ID": "179",
                                    "SZOBA_SZAMA": "15",
                                    "FEROHELY": "3",
                                    "FOGLALAS_PK": "1430",
                                    "Panzió?": "Nem"
                                },
                                {
                                    "SZALLAS_NEV": "Gold Hotel",
                                    "SZOBA_ID": "180",
                                    "SZOBA_SZAMA": "16",
                                    "FEROHELY": "2",
                                    "FOGLALAS_PK": "697",
                                    "Panzió?": "Nem"
                                },
                                {
                                    "SZALLAS_NEV": "Gold Hotel",
                                    "SZOBA_ID": "180",
                                    "SZOBA_SZAMA": "16",
                                    "FEROHELY": "2",
                                    "FOGLALAS_PK": "775",
                                    "Panzió?": "Nem"
                                },
                                {
                                    "SZALLAS_NEV": "Gold Hotel",
                                    "SZOBA_ID": "180",
                                    "SZOBA_SZAMA": "16",
                                    "FEROHELY": "2",
                                    "FOGLALAS_PK": "876",
                                    "Panzió?": "Nem"
                                },
                                {
                                    "SZALLAS_NEV": "Gold Hotel",
                                    "SZOBA_ID": "180",
                                    "SZOBA_SZAMA": "16",
                                    "FEROHELY": "2",
                                    "FOGLALAS_PK": "951",
                                    "Panzió?": "Nem"
                                },
                                {
                                    "SZALLAS_NEV": "Gold Hotel",
                                    "SZOBA_ID": "180",
                                    "SZOBA_SZAMA": "16",
                                    "FEROHELY": "2",
                                    "FOGLALAS_PK": "970",
                                    "Panzió?": "Nem"
                                },
                                {
                                    "SZALLAS_NEV": "Gold Hotel",
                                    "SZOBA_ID": "180",
                                    "SZOBA_SZAMA": "16",
                                    "FEROHELY": "2",
                                    "FOGLALAS_PK": "1020",
                                    "Panzió?": "Nem"
                                },
                                {
                                    "SZALLAS_NEV": "Gold Hotel",
                                    "SZOBA_ID": "180",
                                    "SZOBA_SZAMA": "16",
                                    "FEROHELY": "2",
                                    "FOGLALAS_PK": "1140",
                                    "Panzió?": "Nem"
                                },
                                {
                                    "SZALLAS_NEV": "Gold Hotel",
                                    "SZOBA_ID": "180",
                                    "SZOBA_SZAMA": "16",
                                    "FEROHELY": "2",
                                    "FOGLALAS_PK": "1164",
                                    "Panzió?": "Nem"
                                },
                                {
                                    "SZALLAS_NEV": "Gold Hotel",
                                    "SZOBA_ID": "180",
                                    "SZOBA_SZAMA": "16",
                                    "FEROHELY": "2",
                                    "FOGLALAS_PK": "1430",
                                    "Panzió?": "Nem"
                                },
                                {
                                    "SZALLAS_NEV": "Gold Hotel",
                                    "SZOBA_ID": "181",
                                    "SZOBA_SZAMA": "17",
                                    "FEROHELY": "3",
                                    "FOGLALAS_PK": "697",
                                    "Panzió?": "Nem"
                                },
                                {
                                    "SZALLAS_NEV": "Gold Hotel",
                                    "SZOBA_ID": "181",
                                    "SZOBA_SZAMA": "17",
                                    "FEROHELY": "3",
                                    "FOGLALAS_PK": "775",
                                    "Panzió?": "Nem"
                                },
                                {
                                    "SZALLAS_NEV": "Gold Hotel",
                                    "SZOBA_ID": "181",
                                    "SZOBA_SZAMA": "17",
                                    "FEROHELY": "3",
                                    "FOGLALAS_PK": "876",
                                    "Panzió?": "Nem"
                                },
                                {
                                    "SZALLAS_NEV": "Gold Hotel",
                                    "SZOBA_ID": "181",
                                    "SZOBA_SZAMA": "17",
                                    "FEROHELY": "3",
                                    "FOGLALAS_PK": "951",
                                    "Panzió?": "Nem"
                                },
                                {
                                    "SZALLAS_NEV": "Gold Hotel",
                                    "SZOBA_ID": "181",
                                    "SZOBA_SZAMA": "17",
                                    "FEROHELY": "3",
                                    "FOGLALAS_PK": "970",
                                    "Panzió?": "Nem"
                                },
                                {
                                    "SZALLAS_NEV": "Gold Hotel",
                                    "SZOBA_ID": "181",
                                    "SZOBA_SZAMA": "17",
                                    "FEROHELY": "3",
                                    "FOGLALAS_PK": "1020",
                                    "Panzió?": "Nem"
                                },
                                {
                                    "SZALLAS_NEV": "Gold Hotel",
                                    "SZOBA_ID": "181",
                                    "SZOBA_SZAMA": "17",
                                    "FEROHELY": "3",
                                    "FOGLALAS_PK": "1140",
                                    "Panzió?": "Nem"
                                },
                                {
                                    "SZALLAS_NEV": "Gold Hotel",
                                    "SZOBA_ID": "181",
                                    "SZOBA_SZAMA": "17",
                                    "FEROHELY": "3",
                                    "FOGLALAS_PK": "1164",
                                    "Panzió?": "Nem"
                                },
                                {
                                    "SZALLAS_NEV": "Gold Hotel",
                                    "SZOBA_ID": "181",
                                    "SZOBA_SZAMA": "17",
                                    "FEROHELY": "3",
                                    "FOGLALAS_PK": "1430",
                                    "Panzió?": "Nem"
                                },
                                {
                                    "SZALLAS_NEV": "Gold Hotel",
                                    "SZOBA_ID": "182",
                                    "SZOBA_SZAMA": "18",
                                    "FEROHELY": "2",
                                    "FOGLALAS_PK": "697",
                                    "Panzió?": "Nem"
                                },
                                {
                                    "SZALLAS_NEV": "Gold Hotel",
                                    "SZOBA_ID": "182",
                                    "SZOBA_SZAMA": "18",
                                    "FEROHELY": "2",
                                    "FOGLALAS_PK": "775",
                                    "Panzió?": "Nem"
                                },
                                {
                                    "SZALLAS_NEV": "Gold Hotel",
                                    "SZOBA_ID": "182",
                                    "SZOBA_SZAMA": "18",
                                    "FEROHELY": "2",
                                    "FOGLALAS_PK": "876",
                                    "Panzió?": "Nem"
                                },
                                {
                                    "SZALLAS_NEV": "Gold Hotel",
                                    "SZOBA_ID": "182",
                                    "SZOBA_SZAMA": "18",
                                    "FEROHELY": "2",
                                    "FOGLALAS_PK": "951",
                                    "Panzió?": "Nem"
                                },
                                {
                                    "SZALLAS_NEV": "Gold Hotel",
                                    "SZOBA_ID": "182",
                                    "SZOBA_SZAMA": "18",
                                    "FEROHELY": "2",
                                    "FOGLALAS_PK": "970",
                                    "Panzió?": "Nem"
                                },
                                {
                                    "SZALLAS_NEV": "Gold Hotel",
                                    "SZOBA_ID": "182",
                                    "SZOBA_SZAMA": "18",
                                    "FEROHELY": "2",
                                    "FOGLALAS_PK": "1020",
                                    "Panzió?": "Nem"
                                },
                                {
                                    "SZALLAS_NEV": "Gold Hotel",
                                    "SZOBA_ID": "182",
                                    "SZOBA_SZAMA": "18",
                                    "FEROHELY": "2",
                                    "FOGLALAS_PK": "1140",
                                    "Panzió?": "Nem"
                                },
                                {
                                    "SZALLAS_NEV": "Gold Hotel",
                                    "SZOBA_ID": "182",
                                    "SZOBA_SZAMA": "18",
                                    "FEROHELY": "2",
                                    "FOGLALAS_PK": "1164",
                                    "Panzió?": "Nem"
                                },
                                {
                                    "SZALLAS_NEV": "Gold Hotel",
                                    "SZOBA_ID": "182",
                                    "SZOBA_SZAMA": "18",
                                    "FEROHELY": "2",
                                    "FOGLALAS_PK": "1430",
                                    "Panzió?": "Nem"
                                },
                                {
                                    "SZALLAS_NEV": "Gold Hotel",
                                    "SZOBA_ID": "183",
                                    "SZOBA_SZAMA": "19",
                                    "FEROHELY": "3",
                                    "FOGLALAS_PK": "697",
                                    "Panzió?": "Nem"
                                },
                                {
                                    "SZALLAS_NEV": "Gold Hotel",
                                    "SZOBA_ID": "183",
                                    "SZOBA_SZAMA": "19",
                                    "FEROHELY": "3",
                                    "FOGLALAS_PK": "775",
                                    "Panzió?": "Nem"
                                },
                                {
                                    "SZALLAS_NEV": "Gold Hotel",
                                    "SZOBA_ID": "183",
                                    "SZOBA_SZAMA": "19",
                                    "FEROHELY": "3",
                                    "FOGLALAS_PK": "876",
                                    "Panzió?": "Nem"
                                },
                                {
                                    "SZALLAS_NEV": "Gold Hotel",
                                    "SZOBA_ID": "183",
                                    "SZOBA_SZAMA": "19",
                                    "FEROHELY": "3",
                                    "FOGLALAS_PK": "951",
                                    "Panzió?": "Nem"
                                },
                                {
                                    "SZALLAS_NEV": "Gold Hotel",
                                    "SZOBA_ID": "183",
                                    "SZOBA_SZAMA": "19",
                                    "FEROHELY": "3",
                                    "FOGLALAS_PK": "970",
                                    "Panzió?": "Nem"
                                },
                                {
                                    "SZALLAS_NEV": "Gold Hotel",
                                    "SZOBA_ID": "183",
                                    "SZOBA_SZAMA": "19",
                                    "FEROHELY": "3",
                                    "FOGLALAS_PK": "1020",
                                    "Panzió?": "Nem"
                                },
                                {
                                    "SZALLAS_NEV": "Gold Hotel",
                                    "SZOBA_ID": "183",
                                    "SZOBA_SZAMA": "19",
                                    "FEROHELY": "3",
                                    "FOGLALAS_PK": "1140",
                                    "Panzió?": "Nem"
                                },
                                {
                                    "SZALLAS_NEV": "Gold Hotel",
                                    "SZOBA_ID": "183",
                                    "SZOBA_SZAMA": "19",
                                    "FEROHELY": "3",
                                    "FOGLALAS_PK": "1164",
                                    "Panzió?": "Nem"
                                },
                                {
                                    "SZALLAS_NEV": "Gold Hotel",
                                    "SZOBA_ID": "183",
                                    "SZOBA_SZAMA": "19",
                                    "FEROHELY": "3",
                                    "FOGLALAS_PK": "1430",
                                    "Panzió?": "Nem"
                                },
                                {
                                    "SZALLAS_NEV": "Gold Hotel",
                                    "SZOBA_ID": "184",
                                    "SZOBA_SZAMA": "20",
                                    "FEROHELY": "2",
                                    "FOGLALAS_PK": "697",
                                    "Panzió?": "Nem"
                                },
                                {
                                    "SZALLAS_NEV": "Gold Hotel",
                                    "SZOBA_ID": "184",
                                    "SZOBA_SZAMA": "20",
                                    "FEROHELY": "2",
                                    "FOGLALAS_PK": "775",
                                    "Panzió?": "Nem"
                                },
                                {
                                    "SZALLAS_NEV": "Gold Hotel",
                                    "SZOBA_ID": "184",
                                    "SZOBA_SZAMA": "20",
                                    "FEROHELY": "2",
                                    "FOGLALAS_PK": "876",
                                    "Panzió?": "Nem"
                                },
                                {
                                    "SZALLAS_NEV": "Gold Hotel",
                                    "SZOBA_ID": "184",
                                    "SZOBA_SZAMA": "20",
                                    "FEROHELY": "2",
                                    "FOGLALAS_PK": "951",
                                    "Panzió?": "Nem"
                                },
                                {
                                    "SZALLAS_NEV": "Gold Hotel",
                                    "SZOBA_ID": "184",
                                    "SZOBA_SZAMA": "20",
                                    "FEROHELY": "2",
                                    "FOGLALAS_PK": "970",
                                    "Panzió?": "Nem"
                                },
                                {
                                    "SZALLAS_NEV": "Gold Hotel",
                                    "SZOBA_ID": "184",
                                    "SZOBA_SZAMA": "20",
                                    "FEROHELY": "2",
                                    "FOGLALAS_PK": "1020",
                                    "Panzió?": "Nem"
                                },
                                {
                                    "SZALLAS_NEV": "Gold Hotel",
                                    "SZOBA_ID": "184",
                                    "SZOBA_SZAMA": "20",
                                    "FEROHELY": "2",
                                    "FOGLALAS_PK": "1140",
                                    "Panzió?": "Nem"
                                },
                                {
                                    "SZALLAS_NEV": "Gold Hotel",
                                    "SZOBA_ID": "184",
                                    "SZOBA_SZAMA": "20",
                                    "FEROHELY": "2",
                                    "FOGLALAS_PK": "1164",
                                    "Panzió?": "Nem"
                                },
                                {
                                    "SZALLAS_NEV": "Gold Hotel",
                                    "SZOBA_ID": "184",
                                    "SZOBA_SZAMA": "20",
                                    "FEROHELY": "2",
                                    "FOGLALAS_PK": "1430",
                                    "Panzió?": "Nem"
                                },
                                {
                                    "SZALLAS_NEV": "Gold Hotel",
                                    "SZOBA_ID": "185",
                                    "SZOBA_SZAMA": "21",
                                    "FEROHELY": "3",
                                    "FOGLALAS_PK": "697",
                                    "Panzió?": "Nem"
                                },
                                {
                                    "SZALLAS_NEV": "Gold Hotel",
                                    "SZOBA_ID": "185",
                                    "SZOBA_SZAMA": "21",
                                    "FEROHELY": "3",
                                    "FOGLALAS_PK": "775",
                                    "Panzió?": "Nem"
                                },
                                {
                                    "SZALLAS_NEV": "Gold Hotel",
                                    "SZOBA_ID": "185",
                                    "SZOBA_SZAMA": "21",
                                    "FEROHELY": "3",
                                    "FOGLALAS_PK": "876",
                                    "Panzió?": "Nem"
                                },
                                {
                                    "SZALLAS_NEV": "Gold Hotel",
                                    "SZOBA_ID": "185",
                                    "SZOBA_SZAMA": "21",
                                    "FEROHELY": "3",
                                    "FOGLALAS_PK": "951",
                                    "Panzió?": "Nem"
                                },
                                {
                                    "SZALLAS_NEV": "Gold Hotel",
                                    "SZOBA_ID": "185",
                                    "SZOBA_SZAMA": "21",
                                    "FEROHELY": "3",
                                    "FOGLALAS_PK": "970",
                                    "Panzió?": "Nem"
                                },
                                {
                                    "SZALLAS_NEV": "Gold Hotel",
                                    "SZOBA_ID": "185",
                                    "SZOBA_SZAMA": "21",
                                    "FEROHELY": "3",
                                    "FOGLALAS_PK": "1020",
                                    "Panzió?": "Nem"
                                },
                                {
                                    "SZALLAS_NEV": "Gold Hotel",
                                    "SZOBA_ID": "185",
                                    "SZOBA_SZAMA": "21",
                                    "FEROHELY": "3",
                                    "FOGLALAS_PK": "1140",
                                    "Panzió?": "Nem"
                                },
                                {
                                    "SZALLAS_NEV": "Gold Hotel",
                                    "SZOBA_ID": "185",
                                    "SZOBA_SZAMA": "21",
                                    "FEROHELY": "3",
                                    "FOGLALAS_PK": "1164",
                                    "Panzió?": "Nem"
                                },
                                {
                                    "SZALLAS_NEV": "Gold Hotel",
                                    "SZOBA_ID": "185",
                                    "SZOBA_SZAMA": "21",
                                    "FEROHELY": "3",
                                    "FOGLALAS_PK": "1430",
                                    "Panzió?": "Nem"
                                },
                                {
                                    "SZALLAS_NEV": "Gold Hotel",
                                    "SZOBA_ID": "186",
                                    "SZOBA_SZAMA": "22",
                                    "FEROHELY": "2",
                                    "FOGLALAS_PK": "697",
                                    "Panzió?": "Nem"
                                },
                                {
                                    "SZALLAS_NEV": "Gold Hotel",
                                    "SZOBA_ID": "186",
                                    "SZOBA_SZAMA": "22",
                                    "FEROHELY": "2",
                                    "FOGLALAS_PK": "775",
                                    "Panzió?": "Nem"
                                },
                                {
                                    "SZALLAS_NEV": "Gold Hotel",
                                    "SZOBA_ID": "186",
                                    "SZOBA_SZAMA": "22",
                                    "FEROHELY": "2",
                                    "FOGLALAS_PK": "876",
                                    "Panzió?": "Nem"
                                },
                                {
                                    "SZALLAS_NEV": "Gold Hotel",
                                    "SZOBA_ID": "186",
                                    "SZOBA_SZAMA": "22",
                                    "FEROHELY": "2",
                                    "FOGLALAS_PK": "951",
                                    "Panzió?": "Nem"
                                },
                                {
                                    "SZALLAS_NEV": "Gold Hotel",
                                    "SZOBA_ID": "186",
                                    "SZOBA_SZAMA": "22",
                                    "FEROHELY": "2",
                                    "FOGLALAS_PK": "970",
                                    "Panzió?": "Nem"
                                },
                                {
                                    "SZALLAS_NEV": "Gold Hotel",
                                    "SZOBA_ID": "186",
                                    "SZOBA_SZAMA": "22",
                                    "FEROHELY": "2",
                                    "FOGLALAS_PK": "1020",
                                    "Panzió?": "Nem"
                                },
                                {
                                    "SZALLAS_NEV": "Gold Hotel",
                                    "SZOBA_ID": "186",
                                    "SZOBA_SZAMA": "22",
                                    "FEROHELY": "2",
                                    "FOGLALAS_PK": "1140",
                                    "Panzió?": "Nem"
                                },
                                {
                                    "SZALLAS_NEV": "Gold Hotel",
                                    "SZOBA_ID": "186",
                                    "SZOBA_SZAMA": "22",
                                    "FEROHELY": "2",
                                    "FOGLALAS_PK": "1164",
                                    "Panzió?": "Nem"
                                },
                                {
                                    "SZALLAS_NEV": "Gold Hotel",
                                    "SZOBA_ID": "186",
                                    "SZOBA_SZAMA": "22",
                                    "FEROHELY": "2",
                                    "FOGLALAS_PK": "1430",
                                    "Panzió?": "Nem"
                                },
                                {
                                    "SZALLAS_NEV": "Gold Hotel",
                                    "SZOBA_ID": "187",
                                    "SZOBA_SZAMA": "23",
                                    "FEROHELY": "3",
                                    "FOGLALAS_PK": "697",
                                    "Panzió?": "Nem"
                                },
                                {
                                    "SZALLAS_NEV": "Gold Hotel",
                                    "SZOBA_ID": "187",
                                    "SZOBA_SZAMA": "23",
                                    "FEROHELY": "3",
                                    "FOGLALAS_PK": "775",
                                    "Panzió?": "Nem"
                                },
                                {
                                    "SZALLAS_NEV": "Gold Hotel",
                                    "SZOBA_ID": "187",
                                    "SZOBA_SZAMA": "23",
                                    "FEROHELY": "3",
                                    "FOGLALAS_PK": "876",
                                    "Panzió?": "Nem"
                                },
                                {
                                    "SZALLAS_NEV": "Gold Hotel",
                                    "SZOBA_ID": "187",
                                    "SZOBA_SZAMA": "23",
                                    "FEROHELY": "3",
                                    "FOGLALAS_PK": "951",
                                    "Panzió?": "Nem"
                                },
                                {
                                    "SZALLAS_NEV": "Gold Hotel",
                                    "SZOBA_ID": "187",
                                    "SZOBA_SZAMA": "23",
                                    "FEROHELY": "3",
                                    "FOGLALAS_PK": "970",
                                    "Panzió?": "Nem"
                                },
                                {
                                    "SZALLAS_NEV": "Gold Hotel",
                                    "SZOBA_ID": "187",
                                    "SZOBA_SZAMA": "23",
                                    "FEROHELY": "3",
                                    "FOGLALAS_PK": "1020",
                                    "Panzió?": "Nem"
                                },
                                {
                                    "SZALLAS_NEV": "Gold Hotel",
                                    "SZOBA_ID": "187",
                                    "SZOBA_SZAMA": "23",
                                    "FEROHELY": "3",
                                    "FOGLALAS_PK": "1140",
                                    "Panzió?": "Nem"
                                },
                                {
                                    "SZALLAS_NEV": "Gold Hotel",
                                    "SZOBA_ID": "187",
                                    "SZOBA_SZAMA": "23",
                                    "FEROHELY": "3",
                                    "FOGLALAS_PK": "1164",
                                    "Panzió?": "Nem"
                                },
                                {
                                    "SZALLAS_NEV": "Gold Hotel",
                                    "SZOBA_ID": "187",
                                    "SZOBA_SZAMA": "23",
                                    "FEROHELY": "3",
                                    "FOGLALAS_PK": "1430",
                                    "Panzió?": "Nem"
                                },
                                {
                                    "SZALLAS_NEV": "Gold Hotel",
                                    "SZOBA_ID": "188",
                                    "SZOBA_SZAMA": "24",
                                    "FEROHELY": "3",
                                    "FOGLALAS_PK": "697",
                                    "Panzió?": "Nem"
                                },
                                {
                                    "SZALLAS_NEV": "Gold Hotel",
                                    "SZOBA_ID": "188",
                                    "SZOBA_SZAMA": "24",
                                    "FEROHELY": "3",
                                    "FOGLALAS_PK": "775",
                                    "Panzió?": "Nem"
                                },
                                {
                                    "SZALLAS_NEV": "Gold Hotel",
                                    "SZOBA_ID": "188",
                                    "SZOBA_SZAMA": "24",
                                    "FEROHELY": "3",
                                    "FOGLALAS_PK": "876",
                                    "Panzió?": "Nem"
                                },
                                {
                                    "SZALLAS_NEV": "Gold Hotel",
                                    "SZOBA_ID": "188",
                                    "SZOBA_SZAMA": "24",
                                    "FEROHELY": "3",
                                    "FOGLALAS_PK": "951",
                                    "Panzió?": "Nem"
                                },
                                {
                                    "SZALLAS_NEV": "Gold Hotel",
                                    "SZOBA_ID": "188",
                                    "SZOBA_SZAMA": "24",
                                    "FEROHELY": "3",
                                    "FOGLALAS_PK": "970",
                                    "Panzió?": "Nem"
                                },
                                {
                                    "SZALLAS_NEV": "Gold Hotel",
                                    "SZOBA_ID": "188",
                                    "SZOBA_SZAMA": "24",
                                    "FEROHELY": "3",
                                    "FOGLALAS_PK": "1020",
                                    "Panzió?": "Nem"
                                },
                                {
                                    "SZALLAS_NEV": "Gold Hotel",
                                    "SZOBA_ID": "188",
                                    "SZOBA_SZAMA": "24",
                                    "FEROHELY": "3",
                                    "FOGLALAS_PK": "1140",
                                    "Panzió?": "Nem"
                                },
                                {
                                    "SZALLAS_NEV": "Gold Hotel",
                                    "SZOBA_ID": "188",
                                    "SZOBA_SZAMA": "24",
                                    "FEROHELY": "3",
                                    "FOGLALAS_PK": "1164",
                                    "Panzió?": "Nem"
                                },
                                {
                                    "SZALLAS_NEV": "Gold Hotel",
                                    "SZOBA_ID": "188",
                                    "SZOBA_SZAMA": "24",
                                    "FEROHELY": "3",
                                    "FOGLALAS_PK": "1430",
                                    "Panzió?": "Nem"
                                },
                                {
                                    "SZALLAS_NEV": "Gold Hotel",
                                    "SZOBA_ID": "189",
                                    "SZOBA_SZAMA": "25",
                                    "FEROHELY": "2",
                                    "FOGLALAS_PK": "697",
                                    "Panzió?": "Nem"
                                },
                                {
                                    "SZALLAS_NEV": "Gold Hotel",
                                    "SZOBA_ID": "189",
                                    "SZOBA_SZAMA": "25",
                                    "FEROHELY": "2",
                                    "FOGLALAS_PK": "775",
                                    "Panzió?": "Nem"
                                },
                                {
                                    "SZALLAS_NEV": "Gold Hotel",
                                    "SZOBA_ID": "189",
                                    "SZOBA_SZAMA": "25",
                                    "FEROHELY": "2",
                                    "FOGLALAS_PK": "876",
                                    "Panzió?": "Nem"
                                },
                                {
                                    "SZALLAS_NEV": "Gold Hotel",
                                    "SZOBA_ID": "189",
                                    "SZOBA_SZAMA": "25",
                                    "FEROHELY": "2",
                                    "FOGLALAS_PK": "951",
                                    "Panzió?": "Nem"
                                },
                                {
                                    "SZALLAS_NEV": "Gold Hotel",
                                    "SZOBA_ID": "189",
                                    "SZOBA_SZAMA": "25",
                                    "FEROHELY": "2",
                                    "FOGLALAS_PK": "970",
                                    "Panzió?": "Nem"
                                },
                                {
                                    "SZALLAS_NEV": "Gold Hotel",
                                    "SZOBA_ID": "189",
                                    "SZOBA_SZAMA": "25",
                                    "FEROHELY": "2",
                                    "FOGLALAS_PK": "1020",
                                    "Panzió?": "Nem"
                                },
                                {
                                    "SZALLAS_NEV": "Gold Hotel",
                                    "SZOBA_ID": "189",
                                    "SZOBA_SZAMA": "25",
                                    "FEROHELY": "2",
                                    "FOGLALAS_PK": "1140",
                                    "Panzió?": "Nem"
                                },
                                {
                                    "SZALLAS_NEV": "Gold Hotel",
                                    "SZOBA_ID": "189",
                                    "SZOBA_SZAMA": "25",
                                    "FEROHELY": "2",
                                    "FOGLALAS_PK": "1164",
                                    "Panzió?": "Nem"
                                },
                                {
                                    "SZALLAS_NEV": "Gold Hotel",
                                    "SZOBA_ID": "189",
                                    "SZOBA_SZAMA": "25",
                                    "FEROHELY": "2",
                                    "FOGLALAS_PK": "1430",
                                    "Panzió?": "Nem"
                                },
                                {
                                    "SZALLAS_NEV": "Gold Hotel",
                                    "SZOBA_ID": "190",
                                    "SZOBA_SZAMA": "26",
                                    "FEROHELY": "2",
                                    "FOGLALAS_PK": "697",
                                    "Panzió?": "Nem"
                                },
                                {
                                    "SZALLAS_NEV": "Gold Hotel",
                                    "SZOBA_ID": "190",
                                    "SZOBA_SZAMA": "26",
                                    "FEROHELY": "2",
                                    "FOGLALAS_PK": "775",
                                    "Panzió?": "Nem"
                                },
                                {
                                    "SZALLAS_NEV": "Gold Hotel",
                                    "SZOBA_ID": "190",
                                    "SZOBA_SZAMA": "26",
                                    "FEROHELY": "2",
                                    "FOGLALAS_PK": "876",
                                    "Panzió?": "Nem"
                                },
                                {
                                    "SZALLAS_NEV": "Gold Hotel",
                                    "SZOBA_ID": "190",
                                    "SZOBA_SZAMA": "26",
                                    "FEROHELY": "2",
                                    "FOGLALAS_PK": "951",
                                    "Panzió?": "Nem"
                                },
                                {
                                    "SZALLAS_NEV": "Gold Hotel",
                                    "SZOBA_ID": "190",
                                    "SZOBA_SZAMA": "26",
                                    "FEROHELY": "2",
                                    "FOGLALAS_PK": "970",
                                    "Panzió?": "Nem"
                                },
                                {
                                    "SZALLAS_NEV": "Gold Hotel",
                                    "SZOBA_ID": "190",
                                    "SZOBA_SZAMA": "26",
                                    "FEROHELY": "2",
                                    "FOGLALAS_PK": "1020",
                                    "Panzió?": "Nem"
                                },
                                {
                                    "SZALLAS_NEV": "Gold Hotel",
                                    "SZOBA_ID": "190",
                                    "SZOBA_SZAMA": "26",
                                    "FEROHELY": "2",
                                    "FOGLALAS_PK": "1140",
                                    "Panzió?": "Nem"
                                },
                                {
                                    "SZALLAS_NEV": "Gold Hotel",
                                    "SZOBA_ID": "190",
                                    "SZOBA_SZAMA": "26",
                                    "FEROHELY": "2",
                                    "FOGLALAS_PK": "1164",
                                    "Panzió?": "Nem"
                                },
                                {
                                    "SZALLAS_NEV": "Gold Hotel",
                                    "SZOBA_ID": "190",
                                    "SZOBA_SZAMA": "26",
                                    "FEROHELY": "2",
                                    "FOGLALAS_PK": "1430",
                                    "Panzió?": "Nem"
                                },
                                {
                                    "SZALLAS_NEV": "Gold Hotel",
                                    "SZOBA_ID": "191",
                                    "SZOBA_SZAMA": "27",
                                    "FEROHELY": "2",
                                    "FOGLALAS_PK": "697",
                                    "Panzió?": "Nem"
                                },
                                {
                                    "SZALLAS_NEV": "Gold Hotel",
                                    "SZOBA_ID": "191",
                                    "SZOBA_SZAMA": "27",
                                    "FEROHELY": "2",
                                    "FOGLALAS_PK": "775",
                                    "Panzió?": "Nem"
                                },
                                {
                                    "SZALLAS_NEV": "Gold Hotel",
                                    "SZOBA_ID": "191",
                                    "SZOBA_SZAMA": "27",
                                    "FEROHELY": "2",
                                    "FOGLALAS_PK": "876",
                                    "Panzió?": "Nem"
                                },
                                {
                                    "SZALLAS_NEV": "Gold Hotel",
                                    "SZOBA_ID": "191",
                                    "SZOBA_SZAMA": "27",
                                    "FEROHELY": "2",
                                    "FOGLALAS_PK": "951",
                                    "Panzió?": "Nem"
                                },
                                {
                                    "SZALLAS_NEV": "Gold Hotel",
                                    "SZOBA_ID": "191",
                                    "SZOBA_SZAMA": "27",
                                    "FEROHELY": "2",
                                    "FOGLALAS_PK": "970",
                                    "Panzió?": "Nem"
                                },
                                {
                                    "SZALLAS_NEV": "Gold Hotel",
                                    "SZOBA_ID": "191",
                                    "SZOBA_SZAMA": "27",
                                    "FEROHELY": "2",
                                    "FOGLALAS_PK": "1020",
                                    "Panzió?": "Nem"
                                },
                                {
                                    "SZALLAS_NEV": "Gold Hotel",
                                    "SZOBA_ID": "191",
                                    "SZOBA_SZAMA": "27",
                                    "FEROHELY": "2",
                                    "FOGLALAS_PK": "1140",
                                    "Panzió?": "Nem"
                                },
                                {
                                    "SZALLAS_NEV": "Gold Hotel",
                                    "SZOBA_ID": "191",
                                    "SZOBA_SZAMA": "27",
                                    "FEROHELY": "2",
                                    "FOGLALAS_PK": "1164",
                                    "Panzió?": "Nem"
                                },
                                {
                                    "SZALLAS_NEV": "Gold Hotel",
                                    "SZOBA_ID": "191",
                                    "SZOBA_SZAMA": "27",
                                    "FEROHELY": "2",
                                    "FOGLALAS_PK": "1430",
                                    "Panzió?": "Nem"
                                },
                                {
                                    "SZALLAS_NEV": "Gold Hotel",
                                    "SZOBA_ID": "192",
                                    "SZOBA_SZAMA": "28",
                                    "FEROHELY": "2",
                                    "FOGLALAS_PK": "697",
                                    "Panzió?": "Nem"
                                },
                                {
                                    "SZALLAS_NEV": "Gold Hotel",
                                    "SZOBA_ID": "192",
                                    "SZOBA_SZAMA": "28",
                                    "FEROHELY": "2",
                                    "FOGLALAS_PK": "775",
                                    "Panzió?": "Nem"
                                },
                                {
                                    "SZALLAS_NEV": "Gold Hotel",
                                    "SZOBA_ID": "192",
                                    "SZOBA_SZAMA": "28",
                                    "FEROHELY": "2",
                                    "FOGLALAS_PK": "876",
                                    "Panzió?": "Nem"
                                },
                                {
                                    "SZALLAS_NEV": "Gold Hotel",
                                    "SZOBA_ID": "192",
                                    "SZOBA_SZAMA": "28",
                                    "FEROHELY": "2",
                                    "FOGLALAS_PK": "951",
                                    "Panzió?": "Nem"
                                },
                                {
                                    "SZALLAS_NEV": "Gold Hotel",
                                    "SZOBA_ID": "192",
                                    "SZOBA_SZAMA": "28",
                                    "FEROHELY": "2",
                                    "FOGLALAS_PK": "970",
                                    "Panzió?": "Nem"
                                },
                                {
                                    "SZALLAS_NEV": "Gold Hotel",
                                    "SZOBA_ID": "192",
                                    "SZOBA_SZAMA": "28",
                                    "FEROHELY": "2",
                                    "FOGLALAS_PK": "1020",
                                    "Panzió?": "Nem"
                                },
                                {
                                    "SZALLAS_NEV": "Gold Hotel",
                                    "SZOBA_ID": "192",
                                    "SZOBA_SZAMA": "28",
                                    "FEROHELY": "2",
                                    "FOGLALAS_PK": "1140",
                                    "Panzió?": "Nem"
                                },
                                {
                                    "SZALLAS_NEV": "Gold Hotel",
                                    "SZOBA_ID": "192",
                                    "SZOBA_SZAMA": "28",
                                    "FEROHELY": "2",
                                    "FOGLALAS_PK": "1164",
                                    "Panzió?": "Nem"
                                },
                                {
                                    "SZALLAS_NEV": "Gold Hotel",
                                    "SZOBA_ID": "192",
                                    "SZOBA_SZAMA": "28",
                                    "FEROHELY": "2",
                                    "FOGLALAS_PK": "1430",
                                    "Panzió?": "Nem"
                                },
                                {
                                    "SZALLAS_NEV": "Gold Hotel",
                                    "SZOBA_ID": "193",
                                    "SZOBA_SZAMA": "29",
                                    "FEROHELY": "3",
                                    "FOGLALAS_PK": "697",
                                    "Panzió?": "Nem"
                                },
                                {
                                    "SZALLAS_NEV": "Gold Hotel",
                                    "SZOBA_ID": "193",
                                    "SZOBA_SZAMA": "29",
                                    "FEROHELY": "3",
                                    "FOGLALAS_PK": "775",
                                    "Panzió?": "Nem"
                                },
                                {
                                    "SZALLAS_NEV": "Gold Hotel",
                                    "SZOBA_ID": "193",
                                    "SZOBA_SZAMA": "29",
                                    "FEROHELY": "3",
                                    "FOGLALAS_PK": "876",
                                    "Panzió?": "Nem"
                                },
                                {
                                    "SZALLAS_NEV": "Gold Hotel",
                                    "SZOBA_ID": "193",
                                    "SZOBA_SZAMA": "29",
                                    "FEROHELY": "3",
                                    "FOGLALAS_PK": "951",
                                    "Panzió?": "Nem"
                                },
                                {
                                    "SZALLAS_NEV": "Gold Hotel",
                                    "SZOBA_ID": "193",
                                    "SZOBA_SZAMA": "29",
                                    "FEROHELY": "3",
                                    "FOGLALAS_PK": "970",
                                    "Panzió?": "Nem"
                                },
                                {
                                    "SZALLAS_NEV": "Gold Hotel",
                                    "SZOBA_ID": "193",
                                    "SZOBA_SZAMA": "29",
                                    "FEROHELY": "3",
                                    "FOGLALAS_PK": "1020",
                                    "Panzió?": "Nem"
                                },
                                {
                                    "SZALLAS_NEV": "Gold Hotel",
                                    "SZOBA_ID": "193",
                                    "SZOBA_SZAMA": "29",
                                    "FEROHELY": "3",
                                    "FOGLALAS_PK": "1140",
                                    "Panzió?": "Nem"
                                },
                                {
                                    "SZALLAS_NEV": "Gold Hotel",
                                    "SZOBA_ID": "193",
                                    "SZOBA_SZAMA": "29",
                                    "FEROHELY": "3",
                                    "FOGLALAS_PK": "1164",
                                    "Panzió?": "Nem"
                                },
                                {
                                    "SZALLAS_NEV": "Gold Hotel",
                                    "SZOBA_ID": "193",
                                    "SZOBA_SZAMA": "29",
                                    "FEROHELY": "3",
                                    "FOGLALAS_PK": "1430",
                                    "Panzió?": "Nem"
                                },
                                {
                                    "SZALLAS_NEV": "Gold Hotel",
                                    "SZOBA_ID": "194",
                                    "SZOBA_SZAMA": "30",
                                    "FEROHELY": "2",
                                    "FOGLALAS_PK": "697",
                                    "Panzió?": "Nem"
                                },
                                {
                                    "SZALLAS_NEV": "Gold Hotel",
                                    "SZOBA_ID": "194",
                                    "SZOBA_SZAMA": "30",
                                    "FEROHELY": "2",
                                    "FOGLALAS_PK": "775",
                                    "Panzió?": "Nem"
                                },
                                {
                                    "SZALLAS_NEV": "Gold Hotel",
                                    "SZOBA_ID": "194",
                                    "SZOBA_SZAMA": "30",
                                    "FEROHELY": "2",
                                    "FOGLALAS_PK": "876",
                                    "Panzió?": "Nem"
                                },
                                {
                                    "SZALLAS_NEV": "Gold Hotel",
                                    "SZOBA_ID": "194",
                                    "SZOBA_SZAMA": "30",
                                    "FEROHELY": "2",
                                    "FOGLALAS_PK": "951",
                                    "Panzió?": "Nem"
                                },
                                {
                                    "SZALLAS_NEV": "Gold Hotel",
                                    "SZOBA_ID": "194",
                                    "SZOBA_SZAMA": "30",
                                    "FEROHELY": "2",
                                    "FOGLALAS_PK": "970",
                                    "Panzió?": "Nem"
                                },
                                {
                                    "SZALLAS_NEV": "Gold Hotel",
                                    "SZOBA_ID": "194",
                                    "SZOBA_SZAMA": "30",
                                    "FEROHELY": "2",
                                    "FOGLALAS_PK": "1020",
                                    "Panzió?": "Nem"
                                },
                                {
                                    "SZALLAS_NEV": "Gold Hotel",
                                    "SZOBA_ID": "194",
                                    "SZOBA_SZAMA": "30",
                                    "FEROHELY": "2",
                                    "FOGLALAS_PK": "1140",
                                    "Panzió?": "Nem"
                                },
                                {
                                    "SZALLAS_NEV": "Gold Hotel",
                                    "SZOBA_ID": "194",
                                    "SZOBA_SZAMA": "30",
                                    "FEROHELY": "2",
                                    "FOGLALAS_PK": "1164",
                                    "Panzió?": "Nem"
                                },
                                {
                                    "SZALLAS_NEV": "Gold Hotel",
                                    "SZOBA_ID": "194",
                                    "SZOBA_SZAMA": "30",
                                    "FEROHELY": "2",
                                    "FOGLALAS_PK": "1430",
                                    "Panzió?": "Nem"
                                },
                                {
                                    "SZALLAS_NEV": "Gold Hotel",
                                    "SZOBA_ID": "195",
                                    "SZOBA_SZAMA": "31",
                                    "FEROHELY": "2",
                                    "FOGLALAS_PK": "697",
                                    "Panzió?": "Nem"
                                },
                                {
                                    "SZALLAS_NEV": "Gold Hotel",
                                    "SZOBA_ID": "195",
                                    "SZOBA_SZAMA": "31",
                                    "FEROHELY": "2",
                                    "FOGLALAS_PK": "775",
                                    "Panzió?": "Nem"
                                },
                                {
                                    "SZALLAS_NEV": "Gold Hotel",
                                    "SZOBA_ID": "195",
                                    "SZOBA_SZAMA": "31",
                                    "FEROHELY": "2",
                                    "FOGLALAS_PK": "876",
                                    "Panzió?": "Nem"
                                },
                                {
                                    "SZALLAS_NEV": "Gold Hotel",
                                    "SZOBA_ID": "195",
                                    "SZOBA_SZAMA": "31",
                                    "FEROHELY": "2",
                                    "FOGLALAS_PK": "951",
                                    "Panzió?": "Nem"
                                },
                                {
                                    "SZALLAS_NEV": "Gold Hotel",
                                    "SZOBA_ID": "195",
                                    "SZOBA_SZAMA": "31",
                                    "FEROHELY": "2",
                                    "FOGLALAS_PK": "970",
                                    "Panzió?": "Nem"
                                },
                                {
                                    "SZALLAS_NEV": "Gold Hotel",
                                    "SZOBA_ID": "195",
                                    "SZOBA_SZAMA": "31",
                                    "FEROHELY": "2",
                                    "FOGLALAS_PK": "1020",
                                    "Panzió?": "Nem"
                                },
                                {
                                    "SZALLAS_NEV": "Gold Hotel",
                                    "SZOBA_ID": "195",
                                    "SZOBA_SZAMA": "31",
                                    "FEROHELY": "2",
                                    "FOGLALAS_PK": "1140",
                                    "Panzió?": "Nem"
                                },
                                {
                                    "SZALLAS_NEV": "Gold Hotel",
                                    "SZOBA_ID": "195",
                                    "SZOBA_SZAMA": "31",
                                    "FEROHELY": "2",
                                    "FOGLALAS_PK": "1164",
                                    "Panzió?": "Nem"
                                },
                                {
                                    "SZALLAS_NEV": "Gold Hotel",
                                    "SZOBA_ID": "195",
                                    "SZOBA_SZAMA": "31",
                                    "FEROHELY": "2",
                                    "FOGLALAS_PK": "1430",
                                    "Panzió?": "Nem"
                                },
                                {
                                    "SZALLAS_NEV": "Gold Hotel",
                                    "SZOBA_ID": "196",
                                    "SZOBA_SZAMA": "32",
                                    "FEROHELY": "2",
                                    "FOGLALAS_PK": "697",
                                    "Panzió?": "Nem"
                                },
                                {
                                    "SZALLAS_NEV": "Gold Hotel",
                                    "SZOBA_ID": "196",
                                    "SZOBA_SZAMA": "32",
                                    "FEROHELY": "2",
                                    "FOGLALAS_PK": "775",
                                    "Panzió?": "Nem"
                                },
                                {
                                    "SZALLAS_NEV": "Gold Hotel",
                                    "SZOBA_ID": "196",
                                    "SZOBA_SZAMA": "32",
                                    "FEROHELY": "2",
                                    "FOGLALAS_PK": "876",
                                    "Panzió?": "Nem"
                                },
                                {
                                    "SZALLAS_NEV": "Gold Hotel",
                                    "SZOBA_ID": "196",
                                    "SZOBA_SZAMA": "32",
                                    "FEROHELY": "2",
                                    "FOGLALAS_PK": "951",
                                    "Panzió?": "Nem"
                                },
                                {
                                    "SZALLAS_NEV": "Gold Hotel",
                                    "SZOBA_ID": "196",
                                    "SZOBA_SZAMA": "32",
                                    "FEROHELY": "2",
                                    "FOGLALAS_PK": "970",
                                    "Panzió?": "Nem"
                                },
                                {
                                    "SZALLAS_NEV": "Gold Hotel",
                                    "SZOBA_ID": "196",
                                    "SZOBA_SZAMA": "32",
                                    "FEROHELY": "2",
                                    "FOGLALAS_PK": "1020",
                                    "Panzió?": "Nem"
                                },
                                {
                                    "SZALLAS_NEV": "Gold Hotel",
                                    "SZOBA_ID": "196",
                                    "SZOBA_SZAMA": "32",
                                    "FEROHELY": "2",
                                    "FOGLALAS_PK": "1140",
                                    "Panzió?": "Nem"
                                },
                                {
                                    "SZALLAS_NEV": "Gold Hotel",
                                    "SZOBA_ID": "196",
                                    "SZOBA_SZAMA": "32",
                                    "FEROHELY": "2",
                                    "FOGLALAS_PK": "1164",
                                    "Panzió?": "Nem"
                                },
                                {
                                    "SZALLAS_NEV": "Gold Hotel",
                                    "SZOBA_ID": "196",
                                    "SZOBA_SZAMA": "32",
                                    "FEROHELY": "2",
                                    "FOGLALAS_PK": "1430",
                                    "Panzió?": "Nem"
                                },
                                {
                                    "SZALLAS_NEV": "Gold Hotel",
                                    "SZOBA_ID": "197",
                                    "SZOBA_SZAMA": "33",
                                    "FEROHELY": "3",
                                    "FOGLALAS_PK": "697",
                                    "Panzió?": "Nem"
                                },
                                {
                                    "SZALLAS_NEV": "Gold Hotel",
                                    "SZOBA_ID": "197",
                                    "SZOBA_SZAMA": "33",
                                    "FEROHELY": "3",
                                    "FOGLALAS_PK": "775",
                                    "Panzió?": "Nem"
                                },
                                {
                                    "SZALLAS_NEV": "Gold Hotel",
                                    "SZOBA_ID": "197",
                                    "SZOBA_SZAMA": "33",
                                    "FEROHELY": "3",
                                    "FOGLALAS_PK": "876",
                                    "Panzió?": "Nem"
                                },
                                {
                                    "SZALLAS_NEV": "Gold Hotel",
                                    "SZOBA_ID": "197",
                                    "SZOBA_SZAMA": "33",
                                    "FEROHELY": "3",
                                    "FOGLALAS_PK": "951",
                                    "Panzió?": "Nem"
                                },
                                {
                                    "SZALLAS_NEV": "Gold Hotel",
                                    "SZOBA_ID": "197",
                                    "SZOBA_SZAMA": "33",
                                    "FEROHELY": "3",
                                    "FOGLALAS_PK": "970",
                                    "Panzió?": "Nem"
                                },
                                {
                                    "SZALLAS_NEV": "Gold Hotel",
                                    "SZOBA_ID": "197",
                                    "SZOBA_SZAMA": "33",
                                    "FEROHELY": "3",
                                    "FOGLALAS_PK": "1020",
                                    "Panzió?": "Nem"
                                },
                                {
                                    "SZALLAS_NEV": "Gold Hotel",
                                    "SZOBA_ID": "197",
                                    "SZOBA_SZAMA": "33",
                                    "FEROHELY": "3",
                                    "FOGLALAS_PK": "1140",
                                    "Panzió?": "Nem"
                                },
                                {
                                    "SZALLAS_NEV": "Gold Hotel",
                                    "SZOBA_ID": "197",
                                    "SZOBA_SZAMA": "33",
                                    "FEROHELY": "3",
                                    "FOGLALAS_PK": "1164",
                                    "Panzió?": "Nem"
                                },
                                {
                                    "SZALLAS_NEV": "Gold Hotel",
                                    "SZOBA_ID": "197",
                                    "SZOBA_SZAMA": "33",
                                    "FEROHELY": "3",
                                    "FOGLALAS_PK": "1430",
                                    "Panzió?": "Nem"
                                },
                                {
                                    "SZALLAS_NEV": "Gold Hotel",
                                    "SZOBA_ID": "198",
                                    "SZOBA_SZAMA": "34",
                                    "FEROHELY": "3",
                                    "FOGLALAS_PK": "697",
                                    "Panzió?": "Nem"
                                },
                                {
                                    "SZALLAS_NEV": "Gold Hotel",
                                    "SZOBA_ID": "198",
                                    "SZOBA_SZAMA": "34",
                                    "FEROHELY": "3",
                                    "FOGLALAS_PK": "775",
                                    "Panzió?": "Nem"
                                },
                                {
                                    "SZALLAS_NEV": "Gold Hotel",
                                    "SZOBA_ID": "198",
                                    "SZOBA_SZAMA": "34",
                                    "FEROHELY": "3",
                                    "FOGLALAS_PK": "876",
                                    "Panzió?": "Nem"
                                },
                                {
                                    "SZALLAS_NEV": "Gold Hotel",
                                    "SZOBA_ID": "198",
                                    "SZOBA_SZAMA": "34",
                                    "FEROHELY": "3",
                                    "FOGLALAS_PK": "951",
                                    "Panzió?": "Nem"
                                },
                                {
                                    "SZALLAS_NEV": "Gold Hotel",
                                    "SZOBA_ID": "198",
                                    "SZOBA_SZAMA": "34",
                                    "FEROHELY": "3",
                                    "FOGLALAS_PK": "970",
                                    "Panzió?": "Nem"
                                },
                                {
                                    "SZALLAS_NEV": "Gold Hotel",
                                    "SZOBA_ID": "198",
                                    "SZOBA_SZAMA": "34",
                                    "FEROHELY": "3",
                                    "FOGLALAS_PK": "1020",
                                    "Panzió?": "Nem"
                                },
                                {
                                    "SZALLAS_NEV": "Gold Hotel",
                                    "SZOBA_ID": "198",
                                    "SZOBA_SZAMA": "34",
                                    "FEROHELY": "3",
                                    "FOGLALAS_PK": "1140",
                                    "Panzió?": "Nem"
                                },
                                {
                                    "SZALLAS_NEV": "Gold Hotel",
                                    "SZOBA_ID": "198",
                                    "SZOBA_SZAMA": "34",
                                    "FEROHELY": "3",
                                    "FOGLALAS_PK": "1164",
                                    "Panzió?": "Nem"
                                },
                                {
                                    "SZALLAS_NEV": "Gold Hotel",
                                    "SZOBA_ID": "198",
                                    "SZOBA_SZAMA": "34",
                                    "FEROHELY": "3",
                                    "FOGLALAS_PK": "1430",
                                    "Panzió?": "Nem"
                                },
                                {
                                    "SZALLAS_NEV": "Gold Hotel",
                                    "SZOBA_ID": "199",
                                    "SZOBA_SZAMA": "35",
                                    "FEROHELY": "3",
                                    "FOGLALAS_PK": "697",
                                    "Panzió?": "Nem"
                                },
                                {
                                    "SZALLAS_NEV": "Gold Hotel",
                                    "SZOBA_ID": "199",
                                    "SZOBA_SZAMA": "35",
                                    "FEROHELY": "3",
                                    "FOGLALAS_PK": "775",
                                    "Panzió?": "Nem"
                                },
                                {
                                    "SZALLAS_NEV": "Gold Hotel",
                                    "SZOBA_ID": "199",
                                    "SZOBA_SZAMA": "35",
                                    "FEROHELY": "3",
                                    "FOGLALAS_PK": "876",
                                    "Panzió?": "Nem"
                                },
                                {
                                    "SZALLAS_NEV": "Gold Hotel",
                                    "SZOBA_ID": "199",
                                    "SZOBA_SZAMA": "35",
                                    "FEROHELY": "3",
                                    "FOGLALAS_PK": "951",
                                    "Panzió?": "Nem"
                                },
                                {
                                    "SZALLAS_NEV": "Gold Hotel",
                                    "SZOBA_ID": "199",
                                    "SZOBA_SZAMA": "35",
                                    "FEROHELY": "3",
                                    "FOGLALAS_PK": "970",
                                    "Panzió?": "Nem"
                                },
                                {
                                    "SZALLAS_NEV": "Gold Hotel",
                                    "SZOBA_ID": "199",
                                    "SZOBA_SZAMA": "35",
                                    "FEROHELY": "3",
                                    "FOGLALAS_PK": "1020",
                                    "Panzió?": "Nem"
                                },
                                {
                                    "SZALLAS_NEV": "Gold Hotel",
                                    "SZOBA_ID": "199",
                                    "SZOBA_SZAMA": "35",
                                    "FEROHELY": "3",
                                    "FOGLALAS_PK": "1140",
                                    "Panzió?": "Nem"
                                },
                                {
                                    "SZALLAS_NEV": "Gold Hotel",
                                    "SZOBA_ID": "199",
                                    "SZOBA_SZAMA": "35",
                                    "FEROHELY": "3",
                                    "FOGLALAS_PK": "1164",
                                    "Panzió?": "Nem"
                                },
                                {
                                    "SZALLAS_NEV": "Gold Hotel",
                                    "SZOBA_ID": "199",
                                    "SZOBA_SZAMA": "35",
                                    "FEROHELY": "3",
                                    "FOGLALAS_PK": "1430",
                                    "Panzió?": "Nem"
                                },
                                {
                                    "SZALLAS_NEV": "Gold Hotel",
                                    "SZOBA_ID": "200",
                                    "SZOBA_SZAMA": "36",
                                    "FEROHELY": "2",
                                    "FOGLALAS_PK": "697",
                                    "Panzió?": "Nem"
                                },
                                {
                                    "SZALLAS_NEV": "Gold Hotel",
                                    "SZOBA_ID": "200",
                                    "SZOBA_SZAMA": "36",
                                    "FEROHELY": "2",
                                    "FOGLALAS_PK": "775",
                                    "Panzió?": "Nem"
                                },
                                {
                                    "SZALLAS_NEV": "Gold Hotel",
                                    "SZOBA_ID": "200",
                                    "SZOBA_SZAMA": "36",
                                    "FEROHELY": "2",
                                    "FOGLALAS_PK": "876",
                                    "Panzió?": "Nem"
                                },
                                {
                                    "SZALLAS_NEV": "Gold Hotel",
                                    "SZOBA_ID": "200",
                                    "SZOBA_SZAMA": "36",
                                    "FEROHELY": "2",
                                    "FOGLALAS_PK": "951",
                                    "Panzió?": "Nem"
                                },
                                {
                                    "SZALLAS_NEV": "Gold Hotel",
                                    "SZOBA_ID": "200",
                                    "SZOBA_SZAMA": "36",
                                    "FEROHELY": "2",
                                    "FOGLALAS_PK": "970",
                                    "Panzió?": "Nem"
                                },
                                {
                                    "SZALLAS_NEV": "Gold Hotel",
                                    "SZOBA_ID": "200",
                                    "SZOBA_SZAMA": "36",
                                    "FEROHELY": "2",
                                    "FOGLALAS_PK": "1020",
                                    "Panzió?": "Nem"
                                },
                                {
                                    "SZALLAS_NEV": "Gold Hotel",
                                    "SZOBA_ID": "200",
                                    "SZOBA_SZAMA": "36",
                                    "FEROHELY": "2",
                                    "FOGLALAS_PK": "1140",
                                    "Panzió?": "Nem"
                                },
                                {
                                    "SZALLAS_NEV": "Gold Hotel",
                                    "SZOBA_ID": "200",
                                    "SZOBA_SZAMA": "36",
                                    "FEROHELY": "2",
                                    "FOGLALAS_PK": "1164",
                                    "Panzió?": "Nem"
                                },
                                {
                                    "SZALLAS_NEV": "Gold Hotel",
                                    "SZOBA_ID": "200",
                                    "SZOBA_SZAMA": "36",
                                    "FEROHELY": "2",
                                    "FOGLALAS_PK": "1430",
                                    "Panzió?": "Nem"
                                },
                                {
                                    "SZALLAS_NEV": "Gold Hotel",
                                    "SZOBA_ID": "201",
                                    "SZOBA_SZAMA": "37",
                                    "FEROHELY": "3",
                                    "FOGLALAS_PK": "697",
                                    "Panzió?": "Nem"
                                },
                                {
                                    "SZALLAS_NEV": "Gold Hotel",
                                    "SZOBA_ID": "201",
                                    "SZOBA_SZAMA": "37",
                                    "FEROHELY": "3",
                                    "FOGLALAS_PK": "775",
                                    "Panzió?": "Nem"
                                },
                                {
                                    "SZALLAS_NEV": "Gold Hotel",
                                    "SZOBA_ID": "201",
                                    "SZOBA_SZAMA": "37",
                                    "FEROHELY": "3",
                                    "FOGLALAS_PK": "876",
                                    "Panzió?": "Nem"
                                },
                                {
                                    "SZALLAS_NEV": "Gold Hotel",
                                    "SZOBA_ID": "201",
                                    "SZOBA_SZAMA": "37",
                                    "FEROHELY": "3",
                                    "FOGLALAS_PK": "951",
                                    "Panzió?": "Nem"
                                },
                                {
                                    "SZALLAS_NEV": "Gold Hotel",
                                    "SZOBA_ID": "201",
                                    "SZOBA_SZAMA": "37",
                                    "FEROHELY": "3",
                                    "FOGLALAS_PK": "970",
                                    "Panzió?": "Nem"
                                },
                                {
                                    "SZALLAS_NEV": "Gold Hotel",
                                    "SZOBA_ID": "201",
                                    "SZOBA_SZAMA": "37",
                                    "FEROHELY": "3",
                                    "FOGLALAS_PK": "1020",
                                    "Panzió?": "Nem"
                                },
                                {
                                    "SZALLAS_NEV": "Gold Hotel",
                                    "SZOBA_ID": "201",
                                    "SZOBA_SZAMA": "37",
                                    "FEROHELY": "3",
                                    "FOGLALAS_PK": "1140",
                                    "Panzió?": "Nem"
                                },
                                {
                                    "SZALLAS_NEV": "Gold Hotel",
                                    "SZOBA_ID": "201",
                                    "SZOBA_SZAMA": "37",
                                    "FEROHELY": "3",
                                    "FOGLALAS_PK": "1164",
                                    "Panzió?": "Nem"
                                },
                                {
                                    "SZALLAS_NEV": "Gold Hotel",
                                    "SZOBA_ID": "201",
                                    "SZOBA_SZAMA": "37",
                                    "FEROHELY": "3",
                                    "FOGLALAS_PK": "1430",
                                    "Panzió?": "Nem"
                                },
                                {
                                    "SZALLAS_NEV": "Gold Hotel",
                                    "SZOBA_ID": "202",
                                    "SZOBA_SZAMA": "38",
                                    "FEROHELY": "3",
                                    "FOGLALAS_PK": "697",
                                    "Panzió?": "Nem"
                                },
                                {
                                    "SZALLAS_NEV": "Gold Hotel",
                                    "SZOBA_ID": "202",
                                    "SZOBA_SZAMA": "38",
                                    "FEROHELY": "3",
                                    "FOGLALAS_PK": "775",
                                    "Panzió?": "Nem"
                                },
                                {
                                    "SZALLAS_NEV": "Gold Hotel",
                                    "SZOBA_ID": "202",
                                    "SZOBA_SZAMA": "38",
                                    "FEROHELY": "3",
                                    "FOGLALAS_PK": "876",
                                    "Panzió?": "Nem"
                                },
                                {
                                    "SZALLAS_NEV": "Gold Hotel",
                                    "SZOBA_ID": "202",
                                    "SZOBA_SZAMA": "38",
                                    "FEROHELY": "3",
                                    "FOGLALAS_PK": "951",
                                    "Panzió?": "Nem"
                                },
                                {
                                    "SZALLAS_NEV": "Gold Hotel",
                                    "SZOBA_ID": "202",
                                    "SZOBA_SZAMA": "38",
                                    "FEROHELY": "3",
                                    "FOGLALAS_PK": "970",
                                    "Panzió?": "Nem"
                                },
                                {
                                    "SZALLAS_NEV": "Gold Hotel",
                                    "SZOBA_ID": "202",
                                    "SZOBA_SZAMA": "38",
                                    "FEROHELY": "3",
                                    "FOGLALAS_PK": "1020",
                                    "Panzió?": "Nem"
                                },
                                {
                                    "SZALLAS_NEV": "Gold Hotel",
                                    "SZOBA_ID": "202",
                                    "SZOBA_SZAMA": "38",
                                    "FEROHELY": "3",
                                    "FOGLALAS_PK": "1140",
                                    "Panzió?": "Nem"
                                },
                                {
                                    "SZALLAS_NEV": "Gold Hotel",
                                    "SZOBA_ID": "202",
                                    "SZOBA_SZAMA": "38",
                                    "FEROHELY": "3",
                                    "FOGLALAS_PK": "1164",
                                    "Panzió?": "Nem"
                                },
                                {
                                    "SZALLAS_NEV": "Gold Hotel",
                                    "SZOBA_ID": "202",
                                    "SZOBA_SZAMA": "38",
                                    "FEROHELY": "3",
                                    "FOGLALAS_PK": "1430",
                                    "Panzió?": "Nem"
                                },
                                {
                                    "SZALLAS_NEV": "Gold Hotel",
                                    "SZOBA_ID": "203",
                                    "SZOBA_SZAMA": "39",
                                    "FEROHELY": "3",
                                    "FOGLALAS_PK": "697",
                                    "Panzió?": "Nem"
                                },
                                {
                                    "SZALLAS_NEV": "Gold Hotel",
                                    "SZOBA_ID": "203",
                                    "SZOBA_SZAMA": "39",
                                    "FEROHELY": "3",
                                    "FOGLALAS_PK": "775",
                                    "Panzió?": "Nem"
                                },
                                {
                                    "SZALLAS_NEV": "Gold Hotel",
                                    "SZOBA_ID": "203",
                                    "SZOBA_SZAMA": "39",
                                    "FEROHELY": "3",
                                    "FOGLALAS_PK": "876",
                                    "Panzió?": "Nem"
                                },
                                {
                                    "SZALLAS_NEV": "Gold Hotel",
                                    "SZOBA_ID": "203",
                                    "SZOBA_SZAMA": "39",
                                    "FEROHELY": "3",
                                    "FOGLALAS_PK": "951",
                                    "Panzió?": "Nem"
                                },
                                {
                                    "SZALLAS_NEV": "Gold Hotel",
                                    "SZOBA_ID": "203",
                                    "SZOBA_SZAMA": "39",
                                    "FEROHELY": "3",
                                    "FOGLALAS_PK": "970",
                                    "Panzió?": "Nem"
                                },
                                {
                                    "SZALLAS_NEV": "Gold Hotel",
                                    "SZOBA_ID": "203",
                                    "SZOBA_SZAMA": "39",
                                    "FEROHELY": "3",
                                    "FOGLALAS_PK": "1020",
                                    "Panzió?": "Nem"
                                },
                                {
                                    "SZALLAS_NEV": "Gold Hotel",
                                    "SZOBA_ID": "203",
                                    "SZOBA_SZAMA": "39",
                                    "FEROHELY": "3",
                                    "FOGLALAS_PK": "1140",
                                    "Panzió?": "Nem"
                                },
                                {
                                    "SZALLAS_NEV": "Gold Hotel",
                                    "SZOBA_ID": "203",
                                    "SZOBA_SZAMA": "39",
                                    "FEROHELY": "3",
                                    "FOGLALAS_PK": "1164",
                                    "Panzió?": "Nem"
                                },
                                {
                                    "SZALLAS_NEV": "Gold Hotel",
                                    "SZOBA_ID": "203",
                                    "SZOBA_SZAMA": "39",
                                    "FEROHELY": "3",
                                    "FOGLALAS_PK": "1430",
                                    "Panzió?": "Nem"
                                },
                                {
                                    "SZALLAS_NEV": "Gold Hotel",
                                    "SZOBA_ID": "204",
                                    "SZOBA_SZAMA": "40",
                                    "FEROHELY": "3",
                                    "FOGLALAS_PK": "697",
                                    "Panzió?": "Nem"
                                },
                                {
                                    "SZALLAS_NEV": "Gold Hotel",
                                    "SZOBA_ID": "204",
                                    "SZOBA_SZAMA": "40",
                                    "FEROHELY": "3",
                                    "FOGLALAS_PK": "775",
                                    "Panzió?": "Nem"
                                },
                                {
                                    "SZALLAS_NEV": "Gold Hotel",
                                    "SZOBA_ID": "204",
                                    "SZOBA_SZAMA": "40",
                                    "FEROHELY": "3",
                                    "FOGLALAS_PK": "876",
                                    "Panzió?": "Nem"
                                },
                                {
                                    "SZALLAS_NEV": "Gold Hotel",
                                    "SZOBA_ID": "204",
                                    "SZOBA_SZAMA": "40",
                                    "FEROHELY": "3",
                                    "FOGLALAS_PK": "951",
                                    "Panzió?": "Nem"
                                },
                                {
                                    "SZALLAS_NEV": "Gold Hotel",
                                    "SZOBA_ID": "204",
                                    "SZOBA_SZAMA": "40",
                                    "FEROHELY": "3",
                                    "FOGLALAS_PK": "970",
                                    "Panzió?": "Nem"
                                },
                                {
                                    "SZALLAS_NEV": "Gold Hotel",
                                    "SZOBA_ID": "204",
                                    "SZOBA_SZAMA": "40",
                                    "FEROHELY": "3",
                                    "FOGLALAS_PK": "1020",
                                    "Panzió?": "Nem"
                                },
                                {
                                    "SZALLAS_NEV": "Gold Hotel",
                                    "SZOBA_ID": "204",
                                    "SZOBA_SZAMA": "40",
                                    "FEROHELY": "3",
                                    "FOGLALAS_PK": "1140",
                                    "Panzió?": "Nem"
                                },
                                {
                                    "SZALLAS_NEV": "Gold Hotel",
                                    "SZOBA_ID": "204",
                                    "SZOBA_SZAMA": "40",
                                    "FEROHELY": "3",
                                    "FOGLALAS_PK": "1164",
                                    "Panzió?": "Nem"
                                },
                                {
                                    "SZALLAS_NEV": "Gold Hotel",
                                    "SZOBA_ID": "204",
                                    "SZOBA_SZAMA": "40",
                                    "FEROHELY": "3",
                                    "FOGLALAS_PK": "1430",
                                    "Panzió?": "Nem"
                                },
                                {
                                    "SZALLAS_NEV": "Gold Hotel",
                                    "SZOBA_ID": "205",
                                    "SZOBA_SZAMA": "41",
                                    "FEROHELY": "3",
                                    "FOGLALAS_PK": "697",
                                    "Panzió?": "Nem"
                                },
                                {
                                    "SZALLAS_NEV": "Gold Hotel",
                                    "SZOBA_ID": "205",
                                    "SZOBA_SZAMA": "41",
                                    "FEROHELY": "3",
                                    "FOGLALAS_PK": "775",
                                    "Panzió?": "Nem"
                                },
                                {
                                    "SZALLAS_NEV": "Gold Hotel",
                                    "SZOBA_ID": "205",
                                    "SZOBA_SZAMA": "41",
                                    "FEROHELY": "3",
                                    "FOGLALAS_PK": "876",
                                    "Panzió?": "Nem"
                                },
                                {
                                    "SZALLAS_NEV": "Gold Hotel",
                                    "SZOBA_ID": "205",
                                    "SZOBA_SZAMA": "41",
                                    "FEROHELY": "3",
                                    "FOGLALAS_PK": "951",
                                    "Panzió?": "Nem"
                                },
                                {
                                    "SZALLAS_NEV": "Gold Hotel",
                                    "SZOBA_ID": "205",
                                    "SZOBA_SZAMA": "41",
                                    "FEROHELY": "3",
                                    "FOGLALAS_PK": "970",
                                    "Panzió?": "Nem"
                                },
                                {
                                    "SZALLAS_NEV": "Gold Hotel",
                                    "SZOBA_ID": "205",
                                    "SZOBA_SZAMA": "41",
                                    "FEROHELY": "3",
                                    "FOGLALAS_PK": "1020",
                                    "Panzió?": "Nem"
                                },
                                {
                                    "SZALLAS_NEV": "Gold Hotel",
                                    "SZOBA_ID": "205",
                                    "SZOBA_SZAMA": "41",
                                    "FEROHELY": "3",
                                    "FOGLALAS_PK": "1140",
                                    "Panzió?": "Nem"
                                },
                                {
                                    "SZALLAS_NEV": "Gold Hotel",
                                    "SZOBA_ID": "205",
                                    "SZOBA_SZAMA": "41",
                                    "FEROHELY": "3",
                                    "FOGLALAS_PK": "1164",
                                    "Panzió?": "Nem"
                                },
                                {
                                    "SZALLAS_NEV": "Gold Hotel",
                                    "SZOBA_ID": "205",
                                    "SZOBA_SZAMA": "41",
                                    "FEROHELY": "3",
                                    "FOGLALAS_PK": "1430",
                                    "Panzió?": "Nem"
                                },
                                {
                                    "SZALLAS_NEV": "Gold Hotel",
                                    "SZOBA_ID": "206",
                                    "SZOBA_SZAMA": "42",
                                    "FEROHELY": "2",
                                    "FOGLALAS_PK": "697",
                                    "Panzió?": "Nem"
                                },
                                {
                                    "SZALLAS_NEV": "Gold Hotel",
                                    "SZOBA_ID": "206",
                                    "SZOBA_SZAMA": "42",
                                    "FEROHELY": "2",
                                    "FOGLALAS_PK": "775",
                                    "Panzió?": "Nem"
                                },
                                {
                                    "SZALLAS_NEV": "Gold Hotel",
                                    "SZOBA_ID": "206",
                                    "SZOBA_SZAMA": "42",
                                    "FEROHELY": "2",
                                    "FOGLALAS_PK": "876",
                                    "Panzió?": "Nem"
                                },
                                {
                                    "SZALLAS_NEV": "Gold Hotel",
                                    "SZOBA_ID": "206",
                                    "SZOBA_SZAMA": "42",
                                    "FEROHELY": "2",
                                    "FOGLALAS_PK": "951",
                                    "Panzió?": "Nem"
                                },
                                {
                                    "SZALLAS_NEV": "Gold Hotel",
                                    "SZOBA_ID": "206",
                                    "SZOBA_SZAMA": "42",
                                    "FEROHELY": "2",
                                    "FOGLALAS_PK": "970",
                                    "Panzió?": "Nem"
                                },
                                {
                                    "SZALLAS_NEV": "Gold Hotel",
                                    "SZOBA_ID": "206",
                                    "SZOBA_SZAMA": "42",
                                    "FEROHELY": "2",
                                    "FOGLALAS_PK": "1020",
                                    "Panzió?": "Nem"
                                },
                                {
                                    "SZALLAS_NEV": "Gold Hotel",
                                    "SZOBA_ID": "206",
                                    "SZOBA_SZAMA": "42",
                                    "FEROHELY": "2",
                                    "FOGLALAS_PK": "1140",
                                    "Panzió?": "Nem"
                                },
                                {
                                    "SZALLAS_NEV": "Gold Hotel",
                                    "SZOBA_ID": "206",
                                    "SZOBA_SZAMA": "42",
                                    "FEROHELY": "2",
                                    "FOGLALAS_PK": "1164",
                                    "Panzió?": "Nem"
                                },
                                {
                                    "SZALLAS_NEV": "Gold Hotel",
                                    "SZOBA_ID": "206",
                                    "SZOBA_SZAMA": "42",
                                    "FEROHELY": "2",
                                    "FOGLALAS_PK": "1430",
                                    "Panzió?": "Nem"
                                },
                                {
                                    "SZALLAS_NEV": "Gold Hotel",
                                    "SZOBA_ID": "207",
                                    "SZOBA_SZAMA": "43",
                                    "FEROHELY": "2",
                                    "FOGLALAS_PK": "697",
                                    "Panzió?": "Nem"
                                },
                                {
                                    "SZALLAS_NEV": "Gold Hotel",
                                    "SZOBA_ID": "207",
                                    "SZOBA_SZAMA": "43",
                                    "FEROHELY": "2",
                                    "FOGLALAS_PK": "775",
                                    "Panzió?": "Nem"
                                },
                                {
                                    "SZALLAS_NEV": "Gold Hotel",
                                    "SZOBA_ID": "207",
                                    "SZOBA_SZAMA": "43",
                                    "FEROHELY": "2",
                                    "FOGLALAS_PK": "876",
                                    "Panzió?": "Nem"
                                },
                                {
                                    "SZALLAS_NEV": "Gold Hotel",
                                    "SZOBA_ID": "207",
                                    "SZOBA_SZAMA": "43",
                                    "FEROHELY": "2",
                                    "FOGLALAS_PK": "951",
                                    "Panzió?": "Nem"
                                },
                                {
                                    "SZALLAS_NEV": "Gold Hotel",
                                    "SZOBA_ID": "207",
                                    "SZOBA_SZAMA": "43",
                                    "FEROHELY": "2",
                                    "FOGLALAS_PK": "970",
                                    "Panzió?": "Nem"
                                },
                                {
                                    "SZALLAS_NEV": "Gold Hotel",
                                    "SZOBA_ID": "207",
                                    "SZOBA_SZAMA": "43",
                                    "FEROHELY": "2",
                                    "FOGLALAS_PK": "1020",
                                    "Panzió?": "Nem"
                                },
                                {
                                    "SZALLAS_NEV": "Gold Hotel",
                                    "SZOBA_ID": "207",
                                    "SZOBA_SZAMA": "43",
                                    "FEROHELY": "2",
                                    "FOGLALAS_PK": "1140",
                                    "Panzió?": "Nem"
                                },
                                {
                                    "SZALLAS_NEV": "Gold Hotel",
                                    "SZOBA_ID": "207",
                                    "SZOBA_SZAMA": "43",
                                    "FEROHELY": "2",
                                    "FOGLALAS_PK": "1164",
                                    "Panzió?": "Nem"
                                },
                                {
                                    "SZALLAS_NEV": "Gold Hotel",
                                    "SZOBA_ID": "207",
                                    "SZOBA_SZAMA": "43",
                                    "FEROHELY": "2",
                                    "FOGLALAS_PK": "1430",
                                    "Panzió?": "Nem"
                                },
                                {
                                    "SZALLAS_NEV": "Gold Hotel",
                                    "SZOBA_ID": "208",
                                    "SZOBA_SZAMA": "44",
                                    "FEROHELY": "2",
                                    "FOGLALAS_PK": "697",
                                    "Panzió?": "Nem"
                                },
                                {
                                    "SZALLAS_NEV": "Gold Hotel",
                                    "SZOBA_ID": "208",
                                    "SZOBA_SZAMA": "44",
                                    "FEROHELY": "2",
                                    "FOGLALAS_PK": "775",
                                    "Panzió?": "Nem"
                                },
                                {
                                    "SZALLAS_NEV": "Gold Hotel",
                                    "SZOBA_ID": "208",
                                    "SZOBA_SZAMA": "44",
                                    "FEROHELY": "2",
                                    "FOGLALAS_PK": "876",
                                    "Panzió?": "Nem"
                                },
                                {
                                    "SZALLAS_NEV": "Gold Hotel",
                                    "SZOBA_ID": "208",
                                    "SZOBA_SZAMA": "44",
                                    "FEROHELY": "2",
                                    "FOGLALAS_PK": "951",
                                    "Panzió?": "Nem"
                                },
                                {
                                    "SZALLAS_NEV": "Gold Hotel",
                                    "SZOBA_ID": "208",
                                    "SZOBA_SZAMA": "44",
                                    "FEROHELY": "2",
                                    "FOGLALAS_PK": "970",
                                    "Panzió?": "Nem"
                                },
                                {
                                    "SZALLAS_NEV": "Gold Hotel",
                                    "SZOBA_ID": "208",
                                    "SZOBA_SZAMA": "44",
                                    "FEROHELY": "2",
                                    "FOGLALAS_PK": "1020",
                                    "Panzió?": "Nem"
                                },
                                {
                                    "SZALLAS_NEV": "Gold Hotel",
                                    "SZOBA_ID": "208",
                                    "SZOBA_SZAMA": "44",
                                    "FEROHELY": "2",
                                    "FOGLALAS_PK": "1140",
                                    "Panzió?": "Nem"
                                },
                                {
                                    "SZALLAS_NEV": "Gold Hotel",
                                    "SZOBA_ID": "208",
                                    "SZOBA_SZAMA": "44",
                                    "FEROHELY": "2",
                                    "FOGLALAS_PK": "1164",
                                    "Panzió?": "Nem"
                                },
                                {
                                    "SZALLAS_NEV": "Gold Hotel",
                                    "SZOBA_ID": "208",
                                    "SZOBA_SZAMA": "44",
                                    "FEROHELY": "2",
                                    "FOGLALAS_PK": "1430",
                                    "Panzió?": "Nem"
                                },
                                {
                                    "SZALLAS_NEV": "Gold Hotel",
                                    "SZOBA_ID": "209",
                                    "SZOBA_SZAMA": "45",
                                    "FEROHELY": "3",
                                    "FOGLALAS_PK": "697",
                                    "Panzió?": "Nem"
                                },
                                {
                                    "SZALLAS_NEV": "Gold Hotel",
                                    "SZOBA_ID": "209",
                                    "SZOBA_SZAMA": "45",
                                    "FEROHELY": "3",
                                    "FOGLALAS_PK": "775",
                                    "Panzió?": "Nem"
                                },
                                {
                                    "SZALLAS_NEV": "Gold Hotel",
                                    "SZOBA_ID": "209",
                                    "SZOBA_SZAMA": "45",
                                    "FEROHELY": "3",
                                    "FOGLALAS_PK": "876",
                                    "Panzió?": "Nem"
                                },
                                {
                                    "SZALLAS_NEV": "Gold Hotel",
                                    "SZOBA_ID": "209",
                                    "SZOBA_SZAMA": "45",
                                    "FEROHELY": "3",
                                    "FOGLALAS_PK": "951",
                                    "Panzió?": "Nem"
                                },
                                {
                                    "SZALLAS_NEV": "Gold Hotel",
                                    "SZOBA_ID": "209",
                                    "SZOBA_SZAMA": "45",
                                    "FEROHELY": "3",
                                    "FOGLALAS_PK": "970",
                                    "Panzió?": "Nem"
                                },
                                {
                                    "SZALLAS_NEV": "Gold Hotel",
                                    "SZOBA_ID": "209",
                                    "SZOBA_SZAMA": "45",
                                    "FEROHELY": "3",
                                    "FOGLALAS_PK": "1020",
                                    "Panzió?": "Nem"
                                },
                                {
                                    "SZALLAS_NEV": "Gold Hotel",
                                    "SZOBA_ID": "209",
                                    "SZOBA_SZAMA": "45",
                                    "FEROHELY": "3",
                                    "FOGLALAS_PK": "1140",
                                    "Panzió?": "Nem"
                                },
                                {
                                    "SZALLAS_NEV": "Gold Hotel",
                                    "SZOBA_ID": "209",
                                    "SZOBA_SZAMA": "45",
                                    "FEROHELY": "3",
                                    "FOGLALAS_PK": "1164",
                                    "Panzió?": "Nem"
                                },
                                {
                                    "SZALLAS_NEV": "Gold Hotel",
                                    "SZOBA_ID": "209",
                                    "SZOBA_SZAMA": "45",
                                    "FEROHELY": "3",
                                    "FOGLALAS_PK": "1430",
                                    "Panzió?": "Nem"
                                },
                                {
                                    "SZALLAS_NEV": "Gold Hotel",
                                    "SZOBA_ID": "210",
                                    "SZOBA_SZAMA": "46",
                                    "FEROHELY": "2",
                                    "FOGLALAS_PK": "697",
                                    "Panzió?": "Nem"
                                },
                                {
                                    "SZALLAS_NEV": "Gold Hotel",
                                    "SZOBA_ID": "210",
                                    "SZOBA_SZAMA": "46",
                                    "FEROHELY": "2",
                                    "FOGLALAS_PK": "775",
                                    "Panzió?": "Nem"
                                },
                                {
                                    "SZALLAS_NEV": "Gold Hotel",
                                    "SZOBA_ID": "210",
                                    "SZOBA_SZAMA": "46",
                                    "FEROHELY": "2",
                                    "FOGLALAS_PK": "876",
                                    "Panzió?": "Nem"
                                },
                                {
                                    "SZALLAS_NEV": "Gold Hotel",
                                    "SZOBA_ID": "210",
                                    "SZOBA_SZAMA": "46",
                                    "FEROHELY": "2",
                                    "FOGLALAS_PK": "951",
                                    "Panzió?": "Nem"
                                },
                                {
                                    "SZALLAS_NEV": "Gold Hotel",
                                    "SZOBA_ID": "210",
                                    "SZOBA_SZAMA": "46",
                                    "FEROHELY": "2",
                                    "FOGLALAS_PK": "970",
                                    "Panzió?": "Nem"
                                },
                                {
                                    "SZALLAS_NEV": "Gold Hotel",
                                    "SZOBA_ID": "210",
                                    "SZOBA_SZAMA": "46",
                                    "FEROHELY": "2",
                                    "FOGLALAS_PK": "1020",
                                    "Panzió?": "Nem"
                                },
                                {
                                    "SZALLAS_NEV": "Gold Hotel",
                                    "SZOBA_ID": "210",
                                    "SZOBA_SZAMA": "46",
                                    "FEROHELY": "2",
                                    "FOGLALAS_PK": "1140",
                                    "Panzió?": "Nem"
                                },
                                {
                                    "SZALLAS_NEV": "Gold Hotel",
                                    "SZOBA_ID": "210",
                                    "SZOBA_SZAMA": "46",
                                    "FEROHELY": "2",
                                    "FOGLALAS_PK": "1164",
                                    "Panzió?": "Nem"
                                },
                                {
                                    "SZALLAS_NEV": "Gold Hotel",
                                    "SZOBA_ID": "210",
                                    "SZOBA_SZAMA": "46",
                                    "FEROHELY": "2",
                                    "FOGLALAS_PK": "1430",
                                    "Panzió?": "Nem"
                                },
                                {
                                    "SZALLAS_NEV": "Gold Hotel",
                                    "SZOBA_ID": "211",
                                    "SZOBA_SZAMA": "47",
                                    "FEROHELY": "2",
                                    "FOGLALAS_PK": "697",
                                    "Panzió?": "Nem"
                                },
                                {
                                    "SZALLAS_NEV": "Gold Hotel",
                                    "SZOBA_ID": "211",
                                    "SZOBA_SZAMA": "47",
                                    "FEROHELY": "2",
                                    "FOGLALAS_PK": "775",
                                    "Panzió?": "Nem"
                                },
                                {
                                    "SZALLAS_NEV": "Gold Hotel",
                                    "SZOBA_ID": "211",
                                    "SZOBA_SZAMA": "47",
                                    "FEROHELY": "2",
                                    "FOGLALAS_PK": "876",
                                    "Panzió?": "Nem"
                                },
                                {
                                    "SZALLAS_NEV": "Gold Hotel",
                                    "SZOBA_ID": "211",
                                    "SZOBA_SZAMA": "47",
                                    "FEROHELY": "2",
                                    "FOGLALAS_PK": "951",
                                    "Panzió?": "Nem"
                                },
                                {
                                    "SZALLAS_NEV": "Gold Hotel",
                                    "SZOBA_ID": "211",
                                    "SZOBA_SZAMA": "47",
                                    "FEROHELY": "2",
                                    "FOGLALAS_PK": "970",
                                    "Panzió?": "Nem"
                                },
                                {
                                    "SZALLAS_NEV": "Gold Hotel",
                                    "SZOBA_ID": "211",
                                    "SZOBA_SZAMA": "47",
                                    "FEROHELY": "2",
                                    "FOGLALAS_PK": "1020",
                                    "Panzió?": "Nem"
                                },
                                {
                                    "SZALLAS_NEV": "Gold Hotel",
                                    "SZOBA_ID": "211",
                                    "SZOBA_SZAMA": "47",
                                    "FEROHELY": "2",
                                    "FOGLALAS_PK": "1140",
                                    "Panzió?": "Nem"
                                },
                                {
                                    "SZALLAS_NEV": "Gold Hotel",
                                    "SZOBA_ID": "211",
                                    "SZOBA_SZAMA": "47",
                                    "FEROHELY": "2",
                                    "FOGLALAS_PK": "1164",
                                    "Panzió?": "Nem"
                                },
                                {
                                    "SZALLAS_NEV": "Gold Hotel",
                                    "SZOBA_ID": "211",
                                    "SZOBA_SZAMA": "47",
                                    "FEROHELY": "2",
                                    "FOGLALAS_PK": "1430",
                                    "Panzió?": "Nem"
                                },
                                {
                                    "SZALLAS_NEV": "Gold Hotel",
                                    "SZOBA_ID": "212",
                                    "SZOBA_SZAMA": "48",
                                    "FEROHELY": "3",
                                    "FOGLALAS_PK": "697",
                                    "Panzió?": "Nem"
                                },
                                {
                                    "SZALLAS_NEV": "Gold Hotel",
                                    "SZOBA_ID": "212",
                                    "SZOBA_SZAMA": "48",
                                    "FEROHELY": "3",
                                    "FOGLALAS_PK": "775",
                                    "Panzió?": "Nem"
                                },
                                {
                                    "SZALLAS_NEV": "Gold Hotel",
                                    "SZOBA_ID": "212",
                                    "SZOBA_SZAMA": "48",
                                    "FEROHELY": "3",
                                    "FOGLALAS_PK": "876",
                                    "Panzió?": "Nem"
                                },
                                {
                                    "SZALLAS_NEV": "Gold Hotel",
                                    "SZOBA_ID": "212",
                                    "SZOBA_SZAMA": "48",
                                    "FEROHELY": "3",
                                    "FOGLALAS_PK": "951",
                                    "Panzió?": "Nem"
                                },
                                {
                                    "SZALLAS_NEV": "Gold Hotel",
                                    "SZOBA_ID": "212",
                                    "SZOBA_SZAMA": "48",
                                    "FEROHELY": "3",
                                    "FOGLALAS_PK": "970",
                                    "Panzió?": "Nem"
                                },
                                {
                                    "SZALLAS_NEV": "Gold Hotel",
                                    "SZOBA_ID": "212",
                                    "SZOBA_SZAMA": "48",
                                    "FEROHELY": "3",
                                    "FOGLALAS_PK": "1020",
                                    "Panzió?": "Nem"
                                },
                                {
                                    "SZALLAS_NEV": "Gold Hotel",
                                    "SZOBA_ID": "212",
                                    "SZOBA_SZAMA": "48",
                                    "FEROHELY": "3",
                                    "FOGLALAS_PK": "1140",
                                    "Panzió?": "Nem"
                                },
                                {
                                    "SZALLAS_NEV": "Gold Hotel",
                                    "SZOBA_ID": "212",
                                    "SZOBA_SZAMA": "48",
                                    "FEROHELY": "3",
                                    "FOGLALAS_PK": "1164",
                                    "Panzió?": "Nem"
                                },
                                {
                                    "SZALLAS_NEV": "Gold Hotel",
                                    "SZOBA_ID": "212",
                                    "SZOBA_SZAMA": "48",
                                    "FEROHELY": "3",
                                    "FOGLALAS_PK": "1430",
                                    "Panzió?": "Nem"
                                },
                                {
                                    "SZALLAS_NEV": "Gold Hotel",
                                    "SZOBA_ID": "213",
                                    "SZOBA_SZAMA": "49",
                                    "FEROHELY": "3",
                                    "FOGLALAS_PK": "697",
                                    "Panzió?": "Nem"
                                },
                                {
                                    "SZALLAS_NEV": "Gold Hotel",
                                    "SZOBA_ID": "213",
                                    "SZOBA_SZAMA": "49",
                                    "FEROHELY": "3",
                                    "FOGLALAS_PK": "775",
                                    "Panzió?": "Nem"
                                },
                                {
                                    "SZALLAS_NEV": "Gold Hotel",
                                    "SZOBA_ID": "213",
                                    "SZOBA_SZAMA": "49",
                                    "FEROHELY": "3",
                                    "FOGLALAS_PK": "876",
                                    "Panzió?": "Nem"
                                },
                                {
                                    "SZALLAS_NEV": "Gold Hotel",
                                    "SZOBA_ID": "213",
                                    "SZOBA_SZAMA": "49",
                                    "FEROHELY": "3",
                                    "FOGLALAS_PK": "951",
                                    "Panzió?": "Nem"
                                },
                                {
                                    "SZALLAS_NEV": "Gold Hotel",
                                    "SZOBA_ID": "213",
                                    "SZOBA_SZAMA": "49",
                                    "FEROHELY": "3",
                                    "FOGLALAS_PK": "970",
                                    "Panzió?": "Nem"
                                },
                                {
                                    "SZALLAS_NEV": "Gold Hotel",
                                    "SZOBA_ID": "213",
                                    "SZOBA_SZAMA": "49",
                                    "FEROHELY": "3",
                                    "FOGLALAS_PK": "1020",
                                    "Panzió?": "Nem"
                                },
                                {
                                    "SZALLAS_NEV": "Gold Hotel",
                                    "SZOBA_ID": "213",
                                    "SZOBA_SZAMA": "49",
                                    "FEROHELY": "3",
                                    "FOGLALAS_PK": "1140",
                                    "Panzió?": "Nem"
                                },
                                {
                                    "SZALLAS_NEV": "Gold Hotel",
                                    "SZOBA_ID": "213",
                                    "SZOBA_SZAMA": "49",
                                    "FEROHELY": "3",
                                    "FOGLALAS_PK": "1164",
                                    "Panzió?": "Nem"
                                },
                                {
                                    "SZALLAS_NEV": "Gold Hotel",
                                    "SZOBA_ID": "213",
                                    "SZOBA_SZAMA": "49",
                                    "FEROHELY": "3",
                                    "FOGLALAS_PK": "1430",
                                    "Panzió?": "Nem"
                                },
                                {
                                    "SZALLAS_NEV": "Gold Hotel",
                                    "SZOBA_ID": "214",
                                    "SZOBA_SZAMA": "50",
                                    "FEROHELY": "3",
                                    "FOGLALAS_PK": "697",
                                    "Panzió?": "Nem"
                                },
                                {
                                    "SZALLAS_NEV": "Gold Hotel",
                                    "SZOBA_ID": "214",
                                    "SZOBA_SZAMA": "50",
                                    "FEROHELY": "3",
                                    "FOGLALAS_PK": "775",
                                    "Panzió?": "Nem"
                                },
                                {
                                    "SZALLAS_NEV": "Gold Hotel",
                                    "SZOBA_ID": "214",
                                    "SZOBA_SZAMA": "50",
                                    "FEROHELY": "3",
                                    "FOGLALAS_PK": "876",
                                    "Panzió?": "Nem"
                                },
                                {
                                    "SZALLAS_NEV": "Gold Hotel",
                                    "SZOBA_ID": "214",
                                    "SZOBA_SZAMA": "50",
                                    "FEROHELY": "3",
                                    "FOGLALAS_PK": "951",
                                    "Panzió?": "Nem"
                                },
                                {
                                    "SZALLAS_NEV": "Gold Hotel",
                                    "SZOBA_ID": "214",
                                    "SZOBA_SZAMA": "50",
                                    "FEROHELY": "3",
                                    "FOGLALAS_PK": "970",
                                    "Panzió?": "Nem"
                                },
                                {
                                    "SZALLAS_NEV": "Gold Hotel",
                                    "SZOBA_ID": "214",
                                    "SZOBA_SZAMA": "50",
                                    "FEROHELY": "3",
                                    "FOGLALAS_PK": "1020",
                                    "Panzió?": "Nem"
                                },
                                {
                                    "SZALLAS_NEV": "Gold Hotel",
                                    "SZOBA_ID": "214",
                                    "SZOBA_SZAMA": "50",
                                    "FEROHELY": "3",
                                    "FOGLALAS_PK": "1140",
                                    "Panzió?": "Nem"
                                },
                                {
                                    "SZALLAS_NEV": "Gold Hotel",
                                    "SZOBA_ID": "214",
                                    "SZOBA_SZAMA": "50",
                                    "FEROHELY": "3",
                                    "FOGLALAS_PK": "1164",
                                    "Panzió?": "Nem"
                                },
                                {
                                    "SZALLAS_NEV": "Gold Hotel",
                                    "SZOBA_ID": "214",
                                    "SZOBA_SZAMA": "50",
                                    "FEROHELY": "3",
                                    "FOGLALAS_PK": "1430",
                                    "Panzió?": "Nem"
                                },
                                {
                                    "SZALLAS_NEV": "Riviéra Panzió",
                                    "SZOBA_ID": "215",
                                    "SZOBA_SZAMA": "1",
                                    "FEROHELY": "2",
                                    "FOGLALAS_PK": "763",
                                    "Panzió?": "Igen"
                                },
                                {
                                    "SZALLAS_NEV": "Riviéra Panzió",
                                    "SZOBA_ID": "215",
                                    "SZOBA_SZAMA": "1",
                                    "FEROHELY": "2",
                                    "FOGLALAS_PK": "1044",
                                    "Panzió?": "Igen"
                                },
                                {
                                    "SZALLAS_NEV": "Riviéra Panzió",
                                    "SZOBA_ID": "215",
                                    "SZOBA_SZAMA": "1",
                                    "FEROHELY": "2",
                                    "FOGLALAS_PK": "1347",
                                    "Panzió?": "Igen"
                                },
                                {
                                    "SZALLAS_NEV": "Riviéra Panzió",
                                    "SZOBA_ID": "215",
                                    "SZOBA_SZAMA": "1",
                                    "FEROHELY": "2",
                                    "FOGLALAS_PK": "1469",
                                    "Panzió?": "Igen"
                                },
                                {
                                    "SZALLAS_NEV": "Riviéra Panzió",
                                    "SZOBA_ID": "216",
                                    "SZOBA_SZAMA": "2",
                                    "FEROHELY": "3",
                                    "FOGLALAS_PK": "763",
                                    "Panzió?": "Igen"
                                },
                                {
                                    "SZALLAS_NEV": "Riviéra Panzió",
                                    "SZOBA_ID": "216",
                                    "SZOBA_SZAMA": "2",
                                    "FEROHELY": "3",
                                    "FOGLALAS_PK": "1044",
                                    "Panzió?": "Igen"
                                },
                                {
                                    "SZALLAS_NEV": "Riviéra Panzió",
                                    "SZOBA_ID": "216",
                                    "SZOBA_SZAMA": "2",
                                    "FEROHELY": "3",
                                    "FOGLALAS_PK": "1347",
                                    "Panzió?": "Igen"
                                },
                                {
                                    "SZALLAS_NEV": "Riviéra Panzió",
                                    "SZOBA_ID": "216",
                                    "SZOBA_SZAMA": "2",
                                    "FEROHELY": "3",
                                    "FOGLALAS_PK": "1469",
                                    "Panzió?": "Igen"
                                },
                                {
                                    "SZALLAS_NEV": "Riviéra Panzió",
                                    "SZOBA_ID": "217",
                                    "SZOBA_SZAMA": "3",
                                    "FEROHELY": "2",
                                    "FOGLALAS_PK": "763",
                                    "Panzió?": "Igen"
                                },
                                {
                                    "SZALLAS_NEV": "Riviéra Panzió",
                                    "SZOBA_ID": "217",
                                    "SZOBA_SZAMA": "3",
                                    "FEROHELY": "2",
                                    "FOGLALAS_PK": "1044",
                                    "Panzió?": "Igen"
                                },
                                {
                                    "SZALLAS_NEV": "Riviéra Panzió",
                                    "SZOBA_ID": "217",
                                    "SZOBA_SZAMA": "3",
                                    "FEROHELY": "2",
                                    "FOGLALAS_PK": "1347",
                                    "Panzió?": "Igen"
                                },
                                {
                                    "SZALLAS_NEV": "Riviéra Panzió",
                                    "SZOBA_ID": "217",
                                    "SZOBA_SZAMA": "3",
                                    "FEROHELY": "2",
                                    "FOGLALAS_PK": "1469",
                                    "Panzió?": "Igen"
                                },
                                {
                                    "SZALLAS_NEV": "Riviéra Panzió",
                                    "SZOBA_ID": "218",
                                    "SZOBA_SZAMA": "4",
                                    "FEROHELY": "3",
                                    "FOGLALAS_PK": "763",
                                    "Panzió?": "Igen"
                                },
                                {
                                    "SZALLAS_NEV": "Riviéra Panzió",
                                    "SZOBA_ID": "218",
                                    "SZOBA_SZAMA": "4",
                                    "FEROHELY": "3",
                                    "FOGLALAS_PK": "1044",
                                    "Panzió?": "Igen"
                                },
                                {
                                    "SZALLAS_NEV": "Riviéra Panzió",
                                    "SZOBA_ID": "218",
                                    "SZOBA_SZAMA": "4",
                                    "FEROHELY": "3",
                                    "FOGLALAS_PK": "1347",
                                    "Panzió?": "Igen"
                                },
                                {
                                    "SZALLAS_NEV": "Riviéra Panzió",
                                    "SZOBA_ID": "218",
                                    "SZOBA_SZAMA": "4",
                                    "FEROHELY": "3",
                                    "FOGLALAS_PK": "1469",
                                    "Panzió?": "Igen"
                                },
                                {
                                    "SZALLAS_NEV": "Riviéra Panzió",
                                    "SZOBA_ID": "219",
                                    "SZOBA_SZAMA": "5",
                                    "FEROHELY": "2",
                                    "FOGLALAS_PK": "763",
                                    "Panzió?": "Igen"
                                },
                                {
                                    "SZALLAS_NEV": "Riviéra Panzió",
                                    "SZOBA_ID": "219",
                                    "SZOBA_SZAMA": "5",
                                    "FEROHELY": "2",
                                    "FOGLALAS_PK": "1044",
                                    "Panzió?": "Igen"
                                },
                                {
                                    "SZALLAS_NEV": "Riviéra Panzió",
                                    "SZOBA_ID": "219",
                                    "SZOBA_SZAMA": "5",
                                    "FEROHELY": "2",
                                    "FOGLALAS_PK": "1347",
                                    "Panzió?": "Igen"
                                },
                                {
                                    "SZALLAS_NEV": "Riviéra Panzió",
                                    "SZOBA_ID": "219",
                                    "SZOBA_SZAMA": "5",
                                    "FEROHELY": "2",
                                    "FOGLALAS_PK": "1469",
                                    "Panzió?": "Igen"
                                },
                                {
                                    "SZALLAS_NEV": "Riviéra Panzió",
                                    "SZOBA_ID": "220",
                                    "SZOBA_SZAMA": "6",
                                    "FEROHELY": "3",
                                    "FOGLALAS_PK": "763",
                                    "Panzió?": "Igen"
                                },
                                {
                                    "SZALLAS_NEV": "Riviéra Panzió",
                                    "SZOBA_ID": "220",
                                    "SZOBA_SZAMA": "6",
                                    "FEROHELY": "3",
                                    "FOGLALAS_PK": "1044",
                                    "Panzió?": "Igen"
                                },
                                {
                                    "SZALLAS_NEV": "Riviéra Panzió",
                                    "SZOBA_ID": "220",
                                    "SZOBA_SZAMA": "6",
                                    "FEROHELY": "3",
                                    "FOGLALAS_PK": "1347",
                                    "Panzió?": "Igen"
                                },
                                {
                                    "SZALLAS_NEV": "Riviéra Panzió",
                                    "SZOBA_ID": "220",
                                    "SZOBA_SZAMA": "6",
                                    "FEROHELY": "3",
                                    "FOGLALAS_PK": "1469",
                                    "Panzió?": "Igen"
                                },
                                {
                                    "SZALLAS_NEV": "Riviéra Panzió",
                                    "SZOBA_ID": "221",
                                    "SZOBA_SZAMA": "7",
                                    "FEROHELY": "3",
                                    "FOGLALAS_PK": "763",
                                    "Panzió?": "Igen"
                                },
                                {
                                    "SZALLAS_NEV": "Riviéra Panzió",
                                    "SZOBA_ID": "221",
                                    "SZOBA_SZAMA": "7",
                                    "FEROHELY": "3",
                                    "FOGLALAS_PK": "1044",
                                    "Panzió?": "Igen"
                                },
                                {
                                    "SZALLAS_NEV": "Riviéra Panzió",
                                    "SZOBA_ID": "221",
                                    "SZOBA_SZAMA": "7",
                                    "FEROHELY": "3",
                                    "FOGLALAS_PK": "1347",
                                    "Panzió?": "Igen"
                                },
                                {
                                    "SZALLAS_NEV": "Riviéra Panzió",
                                    "SZOBA_ID": "221",
                                    "SZOBA_SZAMA": "7",
                                    "FEROHELY": "3",
                                    "FOGLALAS_PK": "1469",
                                    "Panzió?": "Igen"
                                },
                                {
                                    "SZALLAS_NEV": "Riviéra Panzió",
                                    "SZOBA_ID": "222",
                                    "SZOBA_SZAMA": "8",
                                    "FEROHELY": "2",
                                    "FOGLALAS_PK": "763",
                                    "Panzió?": "Igen"
                                },
                                {
                                    "SZALLAS_NEV": "Riviéra Panzió",
                                    "SZOBA_ID": "222",
                                    "SZOBA_SZAMA": "8",
                                    "FEROHELY": "2",
                                    "FOGLALAS_PK": "1044",
                                    "Panzió?": "Igen"
                                },
                                {
                                    "SZALLAS_NEV": "Riviéra Panzió",
                                    "SZOBA_ID": "222",
                                    "SZOBA_SZAMA": "8",
                                    "FEROHELY": "2",
                                    "FOGLALAS_PK": "1347",
                                    "Panzió?": "Igen"
                                },
                                {
                                    "SZALLAS_NEV": "Riviéra Panzió",
                                    "SZOBA_ID": "222",
                                    "SZOBA_SZAMA": "8",
                                    "FEROHELY": "2",
                                    "FOGLALAS_PK": "1469",
                                    "Panzió?": "Igen"
                                },
                                {
                                    "SZALLAS_NEV": "Riviéra Panzió",
                                    "SZOBA_ID": "223",
                                    "SZOBA_SZAMA": "9",
                                    "FEROHELY": "2",
                                    "FOGLALAS_PK": "763",
                                    "Panzió?": "Igen"
                                },
                                {
                                    "SZALLAS_NEV": "Riviéra Panzió",
                                    "SZOBA_ID": "223",
                                    "SZOBA_SZAMA": "9",
                                    "FEROHELY": "2",
                                    "FOGLALAS_PK": "1044",
                                    "Panzió?": "Igen"
                                },
                                {
                                    "SZALLAS_NEV": "Riviéra Panzió",
                                    "SZOBA_ID": "223",
                                    "SZOBA_SZAMA": "9",
                                    "FEROHELY": "2",
                                    "FOGLALAS_PK": "1347",
                                    "Panzió?": "Igen"
                                },
                                {
                                    "SZALLAS_NEV": "Riviéra Panzió",
                                    "SZOBA_ID": "223",
                                    "SZOBA_SZAMA": "9",
                                    "FEROHELY": "2",
                                    "FOGLALAS_PK": "1469",
                                    "Panzió?": "Igen"
                                },
                                {
                                    "SZALLAS_NEV": "Riviéra Panzió",
                                    "SZOBA_ID": "224",
                                    "SZOBA_SZAMA": "10",
                                    "FEROHELY": "2",
                                    "FOGLALAS_PK": "763",
                                    "Panzió?": "Igen"
                                },
                                {
                                    "SZALLAS_NEV": "Riviéra Panzió",
                                    "SZOBA_ID": "224",
                                    "SZOBA_SZAMA": "10",
                                    "FEROHELY": "2",
                                    "FOGLALAS_PK": "1044",
                                    "Panzió?": "Igen"
                                },
                                {
                                    "SZALLAS_NEV": "Riviéra Panzió",
                                    "SZOBA_ID": "224",
                                    "SZOBA_SZAMA": "10",
                                    "FEROHELY": "2",
                                    "FOGLALAS_PK": "1347",
                                    "Panzió?": "Igen"
                                },
                                {
                                    "SZALLAS_NEV": "Riviéra Panzió",
                                    "SZOBA_ID": "224",
                                    "SZOBA_SZAMA": "10",
                                    "FEROHELY": "2",
                                    "FOGLALAS_PK": "1469",
                                    "Panzió?": "Igen"
                                },
                                {
                                    "SZALLAS_NEV": "Riviéra Panzió",
                                    "SZOBA_ID": "225",
                                    "SZOBA_SZAMA": "11",
                                    "FEROHELY": "2",
                                    "FOGLALAS_PK": "763",
                                    "Panzió?": "Igen"
                                },
                                {
                                    "SZALLAS_NEV": "Riviéra Panzió",
                                    "SZOBA_ID": "225",
                                    "SZOBA_SZAMA": "11",
                                    "FEROHELY": "2",
                                    "FOGLALAS_PK": "1044",
                                    "Panzió?": "Igen"
                                },
                                {
                                    "SZALLAS_NEV": "Riviéra Panzió",
                                    "SZOBA_ID": "225",
                                    "SZOBA_SZAMA": "11",
                                    "FEROHELY": "2",
                                    "FOGLALAS_PK": "1347",
                                    "Panzió?": "Igen"
                                },
                                {
                                    "SZALLAS_NEV": "Riviéra Panzió",
                                    "SZOBA_ID": "225",
                                    "SZOBA_SZAMA": "11",
                                    "FEROHELY": "2",
                                    "FOGLALAS_PK": "1469",
                                    "Panzió?": "Igen"
                                },
                                {
                                    "SZALLAS_NEV": "Riviéra Panzió",
                                    "SZOBA_ID": "226",
                                    "SZOBA_SZAMA": "12",
                                    "FEROHELY": "3",
                                    "FOGLALAS_PK": "763",
                                    "Panzió?": "Igen"
                                },
                                {
                                    "SZALLAS_NEV": "Riviéra Panzió",
                                    "SZOBA_ID": "226",
                                    "SZOBA_SZAMA": "12",
                                    "FEROHELY": "3",
                                    "FOGLALAS_PK": "1044",
                                    "Panzió?": "Igen"
                                },
                                {
                                    "SZALLAS_NEV": "Riviéra Panzió",
                                    "SZOBA_ID": "226",
                                    "SZOBA_SZAMA": "12",
                                    "FEROHELY": "3",
                                    "FOGLALAS_PK": "1347",
                                    "Panzió?": "Igen"
                                },
                                {
                                    "SZALLAS_NEV": "Riviéra Panzió",
                                    "SZOBA_ID": "226",
                                    "SZOBA_SZAMA": "12",
                                    "FEROHELY": "3",
                                    "FOGLALAS_PK": "1469",
                                    "Panzió?": "Igen"
                                },
                                {
                                    "SZALLAS_NEV": "Nyárfás Vendégház",
                                    "SZOBA_ID": "227",
                                    "SZOBA_SZAMA": "1",
                                    "FEROHELY": "2",
                                    "FOGLALAS_PK": "663",
                                    "Panzió?": "Nem"
                                },
                                {
                                    "SZALLAS_NEV": "Nyárfás Vendégház",
                                    "SZOBA_ID": "227",
                                    "SZOBA_SZAMA": "1",
                                    "FEROHELY": "2",
                                    "FOGLALAS_PK": "813",
                                    "Panzió?": "Nem"
                                },
                                {
                                    "SZALLAS_NEV": "Nyárfás Vendégház",
                                    "SZOBA_ID": "227",
                                    "SZOBA_SZAMA": "1",
                                    "FEROHELY": "2",
                                    "FOGLALAS_PK": "1542",
                                    "Panzió?": "Nem"
                                },
                                {
                                    "SZALLAS_NEV": "Nyárfás Vendégház",
                                    "SZOBA_ID": "228",
                                    "SZOBA_SZAMA": "2",
                                    "FEROHELY": "3",
                                    "FOGLALAS_PK": "663",
                                    "Panzió?": "Nem"
                                },
                                {
                                    "SZALLAS_NEV": "Nyárfás Vendégház",
                                    "SZOBA_ID": "228",
                                    "SZOBA_SZAMA": "2",
                                    "FEROHELY": "3",
                                    "FOGLALAS_PK": "813",
                                    "Panzió?": "Nem"
                                },
                                {
                                    "SZALLAS_NEV": "Nyárfás Vendégház",
                                    "SZOBA_ID": "228",
                                    "SZOBA_SZAMA": "2",
                                    "FEROHELY": "3",
                                    "FOGLALAS_PK": "1542",
                                    "Panzió?": "Nem"
                                },
                                {
                                    "SZALLAS_NEV": "Nyárfás Vendégház",
                                    "SZOBA_ID": "229",
                                    "SZOBA_SZAMA": "3",
                                    "FEROHELY": "2",
                                    "FOGLALAS_PK": "663",
                                    "Panzió?": "Nem"
                                },
                                {
                                    "SZALLAS_NEV": "Nyárfás Vendégház",
                                    "SZOBA_ID": "229",
                                    "SZOBA_SZAMA": "3",
                                    "FEROHELY": "2",
                                    "FOGLALAS_PK": "813",
                                    "Panzió?": "Nem"
                                },
                                {
                                    "SZALLAS_NEV": "Nyárfás Vendégház",
                                    "SZOBA_ID": "229",
                                    "SZOBA_SZAMA": "3",
                                    "FEROHELY": "2",
                                    "FOGLALAS_PK": "1542",
                                    "Panzió?": "Nem"
                                },
                                {
                                    "SZALLAS_NEV": "Nyárfás Vendégház",
                                    "SZOBA_ID": "230",
                                    "SZOBA_SZAMA": "4",
                                    "FEROHELY": "3",
                                    "FOGLALAS_PK": "663",
                                    "Panzió?": "Nem"
                                },
                                {
                                    "SZALLAS_NEV": "Nyárfás Vendégház",
                                    "SZOBA_ID": "230",
                                    "SZOBA_SZAMA": "4",
                                    "FEROHELY": "3",
                                    "FOGLALAS_PK": "813",
                                    "Panzió?": "Nem"
                                },
                                {
                                    "SZALLAS_NEV": "Nyárfás Vendégház",
                                    "SZOBA_ID": "230",
                                    "SZOBA_SZAMA": "4",
                                    "FEROHELY": "3",
                                    "FOGLALAS_PK": "1542",
                                    "Panzió?": "Nem"
                                },
                                {
                                    "SZALLAS_NEV": "Tímárház Panzió",
                                    "SZOBA_ID": "231",
                                    "SZOBA_SZAMA": "1",
                                    "FEROHELY": "2",
                                    "FOGLALAS_PK": "791",
                                    "Panzió?": "Igen"
                                },
                                {
                                    "SZALLAS_NEV": "Tímárház Panzió",
                                    "SZOBA_ID": "231",
                                    "SZOBA_SZAMA": "1",
                                    "FEROHELY": "2",
                                    "FOGLALAS_PK": "1028",
                                    "Panzió?": "Igen"
                                },
                                {
                                    "SZALLAS_NEV": "Tímárház Panzió",
                                    "SZOBA_ID": "231",
                                    "SZOBA_SZAMA": "1",
                                    "FEROHELY": "2",
                                    "FOGLALAS_PK": "1129",
                                    "Panzió?": "Igen"
                                },
                                {
                                    "SZALLAS_NEV": "Tímárház Panzió",
                                    "SZOBA_ID": "231",
                                    "SZOBA_SZAMA": "1",
                                    "FEROHELY": "2",
                                    "FOGLALAS_PK": "1244",
                                    "Panzió?": "Igen"
                                },
                                {
                                    "SZALLAS_NEV": "Tímárház Panzió",
                                    "SZOBA_ID": "231",
                                    "SZOBA_SZAMA": "1",
                                    "FEROHELY": "2",
                                    "FOGLALAS_PK": "1418",
                                    "Panzió?": "Igen"
                                },
                                {
                                    "SZALLAS_NEV": "Tímárház Panzió",
                                    "SZOBA_ID": "231",
                                    "SZOBA_SZAMA": "1",
                                    "FEROHELY": "2",
                                    "FOGLALAS_PK": "1442",
                                    "Panzió?": "Igen"
                                },
                                {
                                    "SZALLAS_NEV": "Tímárház Panzió",
                                    "SZOBA_ID": "232",
                                    "SZOBA_SZAMA": "2",
                                    "FEROHELY": "2",
                                    "FOGLALAS_PK": "791",
                                    "Panzió?": "Igen"
                                },
                                {
                                    "SZALLAS_NEV": "Tímárház Panzió",
                                    "SZOBA_ID": "232",
                                    "SZOBA_SZAMA": "2",
                                    "FEROHELY": "2",
                                    "FOGLALAS_PK": "1028",
                                    "Panzió?": "Igen"
                                },
                                {
                                    "SZALLAS_NEV": "Tímárház Panzió",
                                    "SZOBA_ID": "232",
                                    "SZOBA_SZAMA": "2",
                                    "FEROHELY": "2",
                                    "FOGLALAS_PK": "1129",
                                    "Panzió?": "Igen"
                                },
                                {
                                    "SZALLAS_NEV": "Tímárház Panzió",
                                    "SZOBA_ID": "232",
                                    "SZOBA_SZAMA": "2",
                                    "FEROHELY": "2",
                                    "FOGLALAS_PK": "1244",
                                    "Panzió?": "Igen"
                                },
                                {
                                    "SZALLAS_NEV": "Tímárház Panzió",
                                    "SZOBA_ID": "232",
                                    "SZOBA_SZAMA": "2",
                                    "FEROHELY": "2",
                                    "FOGLALAS_PK": "1418",
                                    "Panzió?": "Igen"
                                },
                                {
                                    "SZALLAS_NEV": "Tímárház Panzió",
                                    "SZOBA_ID": "232",
                                    "SZOBA_SZAMA": "2",
                                    "FEROHELY": "2",
                                    "FOGLALAS_PK": "1442",
                                    "Panzió?": "Igen"
                                },
                                {
                                    "SZALLAS_NEV": "Tímárház Panzió",
                                    "SZOBA_ID": "233",
                                    "SZOBA_SZAMA": "3",
                                    "FEROHELY": "3",
                                    "FOGLALAS_PK": "791",
                                    "Panzió?": "Igen"
                                },
                                {
                                    "SZALLAS_NEV": "Tímárház Panzió",
                                    "SZOBA_ID": "233",
                                    "SZOBA_SZAMA": "3",
                                    "FEROHELY": "3",
                                    "FOGLALAS_PK": "1028",
                                    "Panzió?": "Igen"
                                },
                                {
                                    "SZALLAS_NEV": "Tímárház Panzió",
                                    "SZOBA_ID": "233",
                                    "SZOBA_SZAMA": "3",
                                    "FEROHELY": "3",
                                    "FOGLALAS_PK": "1129",
                                    "Panzió?": "Igen"
                                },
                                {
                                    "SZALLAS_NEV": "Tímárház Panzió",
                                    "SZOBA_ID": "233",
                                    "SZOBA_SZAMA": "3",
                                    "FEROHELY": "3",
                                    "FOGLALAS_PK": "1244",
                                    "Panzió?": "Igen"
                                },
                                {
                                    "SZALLAS_NEV": "Tímárház Panzió",
                                    "SZOBA_ID": "233",
                                    "SZOBA_SZAMA": "3",
                                    "FEROHELY": "3",
                                    "FOGLALAS_PK": "1418",
                                    "Panzió?": "Igen"
                                },
                                {
                                    "SZALLAS_NEV": "Tímárház Panzió",
                                    "SZOBA_ID": "233",
                                    "SZOBA_SZAMA": "3",
                                    "FEROHELY": "3",
                                    "FOGLALAS_PK": "1442",
                                    "Panzió?": "Igen"
                                },
                                {
                                    "SZALLAS_NEV": "Tímárház Panzió",
                                    "SZOBA_ID": "234",
                                    "SZOBA_SZAMA": "4",
                                    "FEROHELY": "3",
                                    "FOGLALAS_PK": "791",
                                    "Panzió?": "Igen"
                                },
                                {
                                    "SZALLAS_NEV": "Tímárház Panzió",
                                    "SZOBA_ID": "234",
                                    "SZOBA_SZAMA": "4",
                                    "FEROHELY": "3",
                                    "FOGLALAS_PK": "1028",
                                    "Panzió?": "Igen"
                                },
                                {
                                    "SZALLAS_NEV": "Tímárház Panzió",
                                    "SZOBA_ID": "234",
                                    "SZOBA_SZAMA": "4",
                                    "FEROHELY": "3",
                                    "FOGLALAS_PK": "1129",
                                    "Panzió?": "Igen"
                                },
                                {
                                    "SZALLAS_NEV": "Tímárház Panzió",
                                    "SZOBA_ID": "234",
                                    "SZOBA_SZAMA": "4",
                                    "FEROHELY": "3",
                                    "FOGLALAS_PK": "1244",
                                    "Panzió?": "Igen"
                                },
                                {
                                    "SZALLAS_NEV": "Tímárház Panzió",
                                    "SZOBA_ID": "234",
                                    "SZOBA_SZAMA": "4",
                                    "FEROHELY": "3",
                                    "FOGLALAS_PK": "1418",
                                    "Panzió?": "Igen"
                                },
                                {
                                    "SZALLAS_NEV": "Tímárház Panzió",
                                    "SZOBA_ID": "234",
                                    "SZOBA_SZAMA": "4",
                                    "FEROHELY": "3",
                                    "FOGLALAS_PK": "1442",
                                    "Panzió?": "Igen"
                                },
                                {
                                    "SZALLAS_NEV": "Tímárház Panzió",
                                    "SZOBA_ID": "235",
                                    "SZOBA_SZAMA": "5",
                                    "FEROHELY": "3",
                                    "FOGLALAS_PK": "791",
                                    "Panzió?": "Igen"
                                },
                                {
                                    "SZALLAS_NEV": "Tímárház Panzió",
                                    "SZOBA_ID": "235",
                                    "SZOBA_SZAMA": "5",
                                    "FEROHELY": "3",
                                    "FOGLALAS_PK": "1028",
                                    "Panzió?": "Igen"
                                },
                                {
                                    "SZALLAS_NEV": "Tímárház Panzió",
                                    "SZOBA_ID": "235",
                                    "SZOBA_SZAMA": "5",
                                    "FEROHELY": "3",
                                    "FOGLALAS_PK": "1129",
                                    "Panzió?": "Igen"
                                },
                                {
                                    "SZALLAS_NEV": "Tímárház Panzió",
                                    "SZOBA_ID": "235",
                                    "SZOBA_SZAMA": "5",
                                    "FEROHELY": "3",
                                    "FOGLALAS_PK": "1244",
                                    "Panzió?": "Igen"
                                },
                                {
                                    "SZALLAS_NEV": "Tímárház Panzió",
                                    "SZOBA_ID": "235",
                                    "SZOBA_SZAMA": "5",
                                    "FEROHELY": "3",
                                    "FOGLALAS_PK": "1418",
                                    "Panzió?": "Igen"
                                },
                                {
                                    "SZALLAS_NEV": "Tímárház Panzió",
                                    "SZOBA_ID": "235",
                                    "SZOBA_SZAMA": "5",
                                    "FEROHELY": "3",
                                    "FOGLALAS_PK": "1442",
                                    "Panzió?": "Igen"
                                },
                                {
                                    "SZALLAS_NEV": "Tímárház Panzió",
                                    "SZOBA_ID": "236",
                                    "SZOBA_SZAMA": "6",
                                    "FEROHELY": "3",
                                    "FOGLALAS_PK": "791",
                                    "Panzió?": "Igen"
                                },
                                {
                                    "SZALLAS_NEV": "Tímárház Panzió",
                                    "SZOBA_ID": "236",
                                    "SZOBA_SZAMA": "6",
                                    "FEROHELY": "3",
                                    "FOGLALAS_PK": "1028",
                                    "Panzió?": "Igen"
                                },
                                {
                                    "SZALLAS_NEV": "Tímárház Panzió",
                                    "SZOBA_ID": "236",
                                    "SZOBA_SZAMA": "6",
                                    "FEROHELY": "3",
                                    "FOGLALAS_PK": "1129",
                                    "Panzió?": "Igen"
                                },
                                {
                                    "SZALLAS_NEV": "Tímárház Panzió",
                                    "SZOBA_ID": "236",
                                    "SZOBA_SZAMA": "6",
                                    "FEROHELY": "3",
                                    "FOGLALAS_PK": "1244",
                                    "Panzió?": "Igen"
                                },
                                {
                                    "SZALLAS_NEV": "Tímárház Panzió",
                                    "SZOBA_ID": "236",
                                    "SZOBA_SZAMA": "6",
                                    "FEROHELY": "3",
                                    "FOGLALAS_PK": "1418",
                                    "Panzió?": "Igen"
                                },
                                {
                                    "SZALLAS_NEV": "Tímárház Panzió",
                                    "SZOBA_ID": "236",
                                    "SZOBA_SZAMA": "6",
                                    "FEROHELY": "3",
                                    "FOGLALAS_PK": "1442",
                                    "Panzió?": "Igen"
                                },
                                {
                                    "SZALLAS_NEV": "Tímárház Panzió",
                                    "SZOBA_ID": "237",
                                    "SZOBA_SZAMA": "7",
                                    "FEROHELY": "2",
                                    "FOGLALAS_PK": "791",
                                    "Panzió?": "Igen"
                                },
                                {
                                    "SZALLAS_NEV": "Tímárház Panzió",
                                    "SZOBA_ID": "237",
                                    "SZOBA_SZAMA": "7",
                                    "FEROHELY": "2",
                                    "FOGLALAS_PK": "1028",
                                    "Panzió?": "Igen"
                                },
                                {
                                    "SZALLAS_NEV": "Tímárház Panzió",
                                    "SZOBA_ID": "237",
                                    "SZOBA_SZAMA": "7",
                                    "FEROHELY": "2",
                                    "FOGLALAS_PK": "1129",
                                    "Panzió?": "Igen"
                                },
                                {
                                    "SZALLAS_NEV": "Tímárház Panzió",
                                    "SZOBA_ID": "237",
                                    "SZOBA_SZAMA": "7",
                                    "FEROHELY": "2",
                                    "FOGLALAS_PK": "1244",
                                    "Panzió?": "Igen"
                                },
                                {
                                    "SZALLAS_NEV": "Tímárház Panzió",
                                    "SZOBA_ID": "237",
                                    "SZOBA_SZAMA": "7",
                                    "FEROHELY": "2",
                                    "FOGLALAS_PK": "1418",
                                    "Panzió?": "Igen"
                                },
                                {
                                    "SZALLAS_NEV": "Tímárház Panzió",
                                    "SZOBA_ID": "237",
                                    "SZOBA_SZAMA": "7",
                                    "FEROHELY": "2",
                                    "FOGLALAS_PK": "1442",
                                    "Panzió?": "Igen"
                                },
                                {
                                    "SZALLAS_NEV": "Tímárház Panzió",
                                    "SZOBA_ID": "238",
                                    "SZOBA_SZAMA": "8",
                                    "FEROHELY": "3",
                                    "FOGLALAS_PK": "791",
                                    "Panzió?": "Igen"
                                },
                                {
                                    "SZALLAS_NEV": "Tímárház Panzió",
                                    "SZOBA_ID": "238",
                                    "SZOBA_SZAMA": "8",
                                    "FEROHELY": "3",
                                    "FOGLALAS_PK": "1028",
                                    "Panzió?": "Igen"
                                },
                                {
                                    "SZALLAS_NEV": "Tímárház Panzió",
                                    "SZOBA_ID": "238",
                                    "SZOBA_SZAMA": "8",
                                    "FEROHELY": "3",
                                    "FOGLALAS_PK": "1129",
                                    "Panzió?": "Igen"
                                },
                                {
                                    "SZALLAS_NEV": "Tímárház Panzió",
                                    "SZOBA_ID": "238",
                                    "SZOBA_SZAMA": "8",
                                    "FEROHELY": "3",
                                    "FOGLALAS_PK": "1244",
                                    "Panzió?": "Igen"
                                },
                                {
                                    "SZALLAS_NEV": "Tímárház Panzió",
                                    "SZOBA_ID": "238",
                                    "SZOBA_SZAMA": "8",
                                    "FEROHELY": "3",
                                    "FOGLALAS_PK": "1418",
                                    "Panzió?": "Igen"
                                },
                                {
                                    "SZALLAS_NEV": "Tímárház Panzió",
                                    "SZOBA_ID": "238",
                                    "SZOBA_SZAMA": "8",
                                    "FEROHELY": "3",
                                    "FOGLALAS_PK": "1442",
                                    "Panzió?": "Igen"
                                },
                                {
                                    "SZALLAS_NEV": "Tímárház Panzió",
                                    "SZOBA_ID": "239",
                                    "SZOBA_SZAMA": "9",
                                    "FEROHELY": "2",
                                    "FOGLALAS_PK": "791",
                                    "Panzió?": "Igen"
                                },
                                {
                                    "SZALLAS_NEV": "Tímárház Panzió",
                                    "SZOBA_ID": "239",
                                    "SZOBA_SZAMA": "9",
                                    "FEROHELY": "2",
                                    "FOGLALAS_PK": "1028",
                                    "Panzió?": "Igen"
                                },
                                {
                                    "SZALLAS_NEV": "Tímárház Panzió",
                                    "SZOBA_ID": "239",
                                    "SZOBA_SZAMA": "9",
                                    "FEROHELY": "2",
                                    "FOGLALAS_PK": "1129",
                                    "Panzió?": "Igen"
                                },
                                {
                                    "SZALLAS_NEV": "Tímárház Panzió",
                                    "SZOBA_ID": "239",
                                    "SZOBA_SZAMA": "9",
                                    "FEROHELY": "2",
                                    "FOGLALAS_PK": "1244",
                                    "Panzió?": "Igen"
                                },
                                {
                                    "SZALLAS_NEV": "Tímárház Panzió",
                                    "SZOBA_ID": "239",
                                    "SZOBA_SZAMA": "9",
                                    "FEROHELY": "2",
                                    "FOGLALAS_PK": "1418",
                                    "Panzió?": "Igen"
                                },
                                {
                                    "SZALLAS_NEV": "Tímárház Panzió",
                                    "SZOBA_ID": "239",
                                    "SZOBA_SZAMA": "9",
                                    "FEROHELY": "2",
                                    "FOGLALAS_PK": "1442",
                                    "Panzió?": "Igen"
                                },
                                {
                                    "SZALLAS_NEV": "Tímárház Panzió",
                                    "SZOBA_ID": "240",
                                    "SZOBA_SZAMA": "10",
                                    "FEROHELY": "3",
                                    "FOGLALAS_PK": "791",
                                    "Panzió?": "Igen"
                                },
                                {
                                    "SZALLAS_NEV": "Tímárház Panzió",
                                    "SZOBA_ID": "240",
                                    "SZOBA_SZAMA": "10",
                                    "FEROHELY": "3",
                                    "FOGLALAS_PK": "1028",
                                    "Panzió?": "Igen"
                                },
                                {
                                    "SZALLAS_NEV": "Tímárház Panzió",
                                    "SZOBA_ID": "240",
                                    "SZOBA_SZAMA": "10",
                                    "FEROHELY": "3",
                                    "FOGLALAS_PK": "1129",
                                    "Panzió?": "Igen"
                                },
                                {
                                    "SZALLAS_NEV": "Tímárház Panzió",
                                    "SZOBA_ID": "240",
                                    "SZOBA_SZAMA": "10",
                                    "FEROHELY": "3",
                                    "FOGLALAS_PK": "1244",
                                    "Panzió?": "Igen"
                                },
                                {
                                    "SZALLAS_NEV": "Tímárház Panzió",
                                    "SZOBA_ID": "240",
                                    "SZOBA_SZAMA": "10",
                                    "FEROHELY": "3",
                                    "FOGLALAS_PK": "1418",
                                    "Panzió?": "Igen"
                                },
                                {
                                    "SZALLAS_NEV": "Tímárház Panzió",
                                    "SZOBA_ID": "240",
                                    "SZOBA_SZAMA": "10",
                                    "FEROHELY": "3",
                                    "FOGLALAS_PK": "1442",
                                    "Panzió?": "Igen"
                                },
                                {
                                    "SZALLAS_NEV": "Tímárház Panzió",
                                    "SZOBA_ID": "241",
                                    "SZOBA_SZAMA": "11",
                                    "FEROHELY": "2",
                                    "FOGLALAS_PK": "791",
                                    "Panzió?": "Igen"
                                },
                                {
                                    "SZALLAS_NEV": "Tímárház Panzió",
                                    "SZOBA_ID": "241",
                                    "SZOBA_SZAMA": "11",
                                    "FEROHELY": "2",
                                    "FOGLALAS_PK": "1028",
                                    "Panzió?": "Igen"
                                },
                                {
                                    "SZALLAS_NEV": "Tímárház Panzió",
                                    "SZOBA_ID": "241",
                                    "SZOBA_SZAMA": "11",
                                    "FEROHELY": "2",
                                    "FOGLALAS_PK": "1129",
                                    "Panzió?": "Igen"
                                },
                                {
                                    "SZALLAS_NEV": "Tímárház Panzió",
                                    "SZOBA_ID": "241",
                                    "SZOBA_SZAMA": "11",
                                    "FEROHELY": "2",
                                    "FOGLALAS_PK": "1244",
                                    "Panzió?": "Igen"
                                },
                                {
                                    "SZALLAS_NEV": "Tímárház Panzió",
                                    "SZOBA_ID": "241",
                                    "SZOBA_SZAMA": "11",
                                    "FEROHELY": "2",
                                    "FOGLALAS_PK": "1418",
                                    "Panzió?": "Igen"
                                },
                                {
                                    "SZALLAS_NEV": "Tímárház Panzió",
                                    "SZOBA_ID": "241",
                                    "SZOBA_SZAMA": "11",
                                    "FEROHELY": "2",
                                    "FOGLALAS_PK": "1442",
                                    "Panzió?": "Igen"
                                },
                                {
                                    "SZALLAS_NEV": "Tímárház Panzió",
                                    "SZOBA_ID": "242",
                                    "SZOBA_SZAMA": "12",
                                    "FEROHELY": "2",
                                    "FOGLALAS_PK": "791",
                                    "Panzió?": "Igen"
                                },
                                {
                                    "SZALLAS_NEV": "Tímárház Panzió",
                                    "SZOBA_ID": "242",
                                    "SZOBA_SZAMA": "12",
                                    "FEROHELY": "2",
                                    "FOGLALAS_PK": "1028",
                                    "Panzió?": "Igen"
                                },
                                {
                                    "SZALLAS_NEV": "Tímárház Panzió",
                                    "SZOBA_ID": "242",
                                    "SZOBA_SZAMA": "12",
                                    "FEROHELY": "2",
                                    "FOGLALAS_PK": "1129",
                                    "Panzió?": "Igen"
                                },
                                {
                                    "SZALLAS_NEV": "Tímárház Panzió",
                                    "SZOBA_ID": "242",
                                    "SZOBA_SZAMA": "12",
                                    "FEROHELY": "2",
                                    "FOGLALAS_PK": "1244",
                                    "Panzió?": "Igen"
                                },
                                {
                                    "SZALLAS_NEV": "Tímárház Panzió",
                                    "SZOBA_ID": "242",
                                    "SZOBA_SZAMA": "12",
                                    "FEROHELY": "2",
                                    "FOGLALAS_PK": "1418",
                                    "Panzió?": "Igen"
                                },
                                {
                                    "SZALLAS_NEV": "Tímárház Panzió",
                                    "SZOBA_ID": "242",
                                    "SZOBA_SZAMA": "12",
                                    "FEROHELY": "2",
                                    "FOGLALAS_PK": "1442",
                                    "Panzió?": "Igen"
                                },
                                {
                                    "SZALLAS_NEV": "Bagoly Hotel",
                                    "SZOBA_ID": "243",
                                    "SZOBA_SZAMA": "1",
                                    "FEROHELY": "2",
                                    "FOGLALAS_PK": "687",
                                    "Panzió?": "Nem"
                                },
                                {
                                    "SZALLAS_NEV": "Bagoly Hotel",
                                    "SZOBA_ID": "243",
                                    "SZOBA_SZAMA": "1",
                                    "FEROHELY": "2",
                                    "FOGLALAS_PK": "856",
                                    "Panzió?": "Nem"
                                },
                                {
                                    "SZALLAS_NEV": "Bagoly Hotel",
                                    "SZOBA_ID": "243",
                                    "SZOBA_SZAMA": "1",
                                    "FEROHELY": "2",
                                    "FOGLALAS_PK": "896",
                                    "Panzió?": "Nem"
                                },
                                {
                                    "SZALLAS_NEV": "Bagoly Hotel",
                                    "SZOBA_ID": "243",
                                    "SZOBA_SZAMA": "1",
                                    "FEROHELY": "2",
                                    "FOGLALAS_PK": "973",
                                    "Panzió?": "Nem"
                                },
                                {
                                    "SZALLAS_NEV": "Bagoly Hotel",
                                    "SZOBA_ID": "243",
                                    "SZOBA_SZAMA": "1",
                                    "FEROHELY": "2",
                                    "FOGLALAS_PK": "1498",
                                    "Panzió?": "Nem"
                                },
                                {
                                    "SZALLAS_NEV": "Bagoly Hotel",
                                    "SZOBA_ID": "244",
                                    "SZOBA_SZAMA": "2",
                                    "FEROHELY": "2",
                                    "FOGLALAS_PK": "687",
                                    "Panzió?": "Nem"
                                },
                                {
                                    "SZALLAS_NEV": "Bagoly Hotel",
                                    "SZOBA_ID": "244",
                                    "SZOBA_SZAMA": "2",
                                    "FEROHELY": "2",
                                    "FOGLALAS_PK": "856",
                                    "Panzió?": "Nem"
                                },
                                {
                                    "SZALLAS_NEV": "Bagoly Hotel",
                                    "SZOBA_ID": "244",
                                    "SZOBA_SZAMA": "2",
                                    "FEROHELY": "2",
                                    "FOGLALAS_PK": "896",
                                    "Panzió?": "Nem"
                                },
                                {
                                    "SZALLAS_NEV": "Bagoly Hotel",
                                    "SZOBA_ID": "244",
                                    "SZOBA_SZAMA": "2",
                                    "FEROHELY": "2",
                                    "FOGLALAS_PK": "973",
                                    "Panzió?": "Nem"
                                },
                                {
                                    "SZALLAS_NEV": "Bagoly Hotel",
                                    "SZOBA_ID": "244",
                                    "SZOBA_SZAMA": "2",
                                    "FEROHELY": "2",
                                    "FOGLALAS_PK": "1498",
                                    "Panzió?": "Nem"
                                },
                                {
                                    "SZALLAS_NEV": "Bagoly Hotel",
                                    "SZOBA_ID": "245",
                                    "SZOBA_SZAMA": "3",
                                    "FEROHELY": "2",
                                    "FOGLALAS_PK": "687",
                                    "Panzió?": "Nem"
                                },
                                {
                                    "SZALLAS_NEV": "Bagoly Hotel",
                                    "SZOBA_ID": "245",
                                    "SZOBA_SZAMA": "3",
                                    "FEROHELY": "2",
                                    "FOGLALAS_PK": "856",
                                    "Panzió?": "Nem"
                                },
                                {
                                    "SZALLAS_NEV": "Bagoly Hotel",
                                    "SZOBA_ID": "245",
                                    "SZOBA_SZAMA": "3",
                                    "FEROHELY": "2",
                                    "FOGLALAS_PK": "896",
                                    "Panzió?": "Nem"
                                },
                                {
                                    "SZALLAS_NEV": "Bagoly Hotel",
                                    "SZOBA_ID": "245",
                                    "SZOBA_SZAMA": "3",
                                    "FEROHELY": "2",
                                    "FOGLALAS_PK": "973",
                                    "Panzió?": "Nem"
                                },
                                {
                                    "SZALLAS_NEV": "Bagoly Hotel",
                                    "SZOBA_ID": "245",
                                    "SZOBA_SZAMA": "3",
                                    "FEROHELY": "2",
                                    "FOGLALAS_PK": "1498",
                                    "Panzió?": "Nem"
                                },
                                {
                                    "SZALLAS_NEV": "Bagoly Hotel",
                                    "SZOBA_ID": "246",
                                    "SZOBA_SZAMA": "4",
                                    "FEROHELY": "2",
                                    "FOGLALAS_PK": "687",
                                    "Panzió?": "Nem"
                                },
                                {
                                    "SZALLAS_NEV": "Bagoly Hotel",
                                    "SZOBA_ID": "246",
                                    "SZOBA_SZAMA": "4",
                                    "FEROHELY": "2",
                                    "FOGLALAS_PK": "856",
                                    "Panzió?": "Nem"
                                },
                                {
                                    "SZALLAS_NEV": "Bagoly Hotel",
                                    "SZOBA_ID": "246",
                                    "SZOBA_SZAMA": "4",
                                    "FEROHELY": "2",
                                    "FOGLALAS_PK": "896",
                                    "Panzió?": "Nem"
                                },
                                {
                                    "SZALLAS_NEV": "Bagoly Hotel",
                                    "SZOBA_ID": "246",
                                    "SZOBA_SZAMA": "4",
                                    "FEROHELY": "2",
                                    "FOGLALAS_PK": "973",
                                    "Panzió?": "Nem"
                                },
                                {
                                    "SZALLAS_NEV": "Bagoly Hotel",
                                    "SZOBA_ID": "246",
                                    "SZOBA_SZAMA": "4",
                                    "FEROHELY": "2",
                                    "FOGLALAS_PK": "1498",
                                    "Panzió?": "Nem"
                                },
                                {
                                    "SZALLAS_NEV": "Bagoly Hotel",
                                    "SZOBA_ID": "247",
                                    "SZOBA_SZAMA": "5",
                                    "FEROHELY": "2",
                                    "FOGLALAS_PK": "687",
                                    "Panzió?": "Nem"
                                },
                                {
                                    "SZALLAS_NEV": "Bagoly Hotel",
                                    "SZOBA_ID": "247",
                                    "SZOBA_SZAMA": "5",
                                    "FEROHELY": "2",
                                    "FOGLALAS_PK": "856",
                                    "Panzió?": "Nem"
                                },
                                {
                                    "SZALLAS_NEV": "Bagoly Hotel",
                                    "SZOBA_ID": "247",
                                    "SZOBA_SZAMA": "5",
                                    "FEROHELY": "2",
                                    "FOGLALAS_PK": "896",
                                    "Panzió?": "Nem"
                                },
                                {
                                    "SZALLAS_NEV": "Bagoly Hotel",
                                    "SZOBA_ID": "247",
                                    "SZOBA_SZAMA": "5",
                                    "FEROHELY": "2",
                                    "FOGLALAS_PK": "973",
                                    "Panzió?": "Nem"
                                },
                                {
                                    "SZALLAS_NEV": "Bagoly Hotel",
                                    "SZOBA_ID": "247",
                                    "SZOBA_SZAMA": "5",
                                    "FEROHELY": "2",
                                    "FOGLALAS_PK": "1498",
                                    "Panzió?": "Nem"
                                },
                                {
                                    "SZALLAS_NEV": "Bagoly Hotel",
                                    "SZOBA_ID": "248",
                                    "SZOBA_SZAMA": "6",
                                    "FEROHELY": "2",
                                    "FOGLALAS_PK": "687",
                                    "Panzió?": "Nem"
                                },
                                {
                                    "SZALLAS_NEV": "Bagoly Hotel",
                                    "SZOBA_ID": "248",
                                    "SZOBA_SZAMA": "6",
                                    "FEROHELY": "2",
                                    "FOGLALAS_PK": "856",
                                    "Panzió?": "Nem"
                                },
                                {
                                    "SZALLAS_NEV": "Bagoly Hotel",
                                    "SZOBA_ID": "248",
                                    "SZOBA_SZAMA": "6",
                                    "FEROHELY": "2",
                                    "FOGLALAS_PK": "896",
                                    "Panzió?": "Nem"
                                },
                                {
                                    "SZALLAS_NEV": "Bagoly Hotel",
                                    "SZOBA_ID": "248",
                                    "SZOBA_SZAMA": "6",
                                    "FEROHELY": "2",
                                    "FOGLALAS_PK": "973",
                                    "Panzió?": "Nem"
                                },
                                {
                                    "SZALLAS_NEV": "Bagoly Hotel",
                                    "SZOBA_ID": "248",
                                    "SZOBA_SZAMA": "6",
                                    "FEROHELY": "2",
                                    "FOGLALAS_PK": "1498",
                                    "Panzió?": "Nem"
                                },
                                {
                                    "SZALLAS_NEV": "Bagoly Hotel",
                                    "SZOBA_ID": "249",
                                    "SZOBA_SZAMA": "7",
                                    "FEROHELY": "2",
                                    "FOGLALAS_PK": "687",
                                    "Panzió?": "Nem"
                                },
                                {
                                    "SZALLAS_NEV": "Bagoly Hotel",
                                    "SZOBA_ID": "249",
                                    "SZOBA_SZAMA": "7",
                                    "FEROHELY": "2",
                                    "FOGLALAS_PK": "856",
                                    "Panzió?": "Nem"
                                },
                                {
                                    "SZALLAS_NEV": "Bagoly Hotel",
                                    "SZOBA_ID": "249",
                                    "SZOBA_SZAMA": "7",
                                    "FEROHELY": "2",
                                    "FOGLALAS_PK": "896",
                                    "Panzió?": "Nem"
                                },
                                {
                                    "SZALLAS_NEV": "Bagoly Hotel",
                                    "SZOBA_ID": "249",
                                    "SZOBA_SZAMA": "7",
                                    "FEROHELY": "2",
                                    "FOGLALAS_PK": "973",
                                    "Panzió?": "Nem"
                                },
                                {
                                    "SZALLAS_NEV": "Bagoly Hotel",
                                    "SZOBA_ID": "249",
                                    "SZOBA_SZAMA": "7",
                                    "FEROHELY": "2",
                                    "FOGLALAS_PK": "1498",
                                    "Panzió?": "Nem"
                                },
                                {
                                    "SZALLAS_NEV": "Bagoly Hotel",
                                    "SZOBA_ID": "250",
                                    "SZOBA_SZAMA": "8",
                                    "FEROHELY": "3",
                                    "FOGLALAS_PK": "687",
                                    "Panzió?": "Nem"
                                },
                                {
                                    "SZALLAS_NEV": "Bagoly Hotel",
                                    "SZOBA_ID": "250",
                                    "SZOBA_SZAMA": "8",
                                    "FEROHELY": "3",
                                    "FOGLALAS_PK": "856",
                                    "Panzió?": "Nem"
                                },
                                {
                                    "SZALLAS_NEV": "Bagoly Hotel",
                                    "SZOBA_ID": "250",
                                    "SZOBA_SZAMA": "8",
                                    "FEROHELY": "3",
                                    "FOGLALAS_PK": "896",
                                    "Panzió?": "Nem"
                                },
                                {
                                    "SZALLAS_NEV": "Bagoly Hotel",
                                    "SZOBA_ID": "250",
                                    "SZOBA_SZAMA": "8",
                                    "FEROHELY": "3",
                                    "FOGLALAS_PK": "973",
                                    "Panzió?": "Nem"
                                },
                                {
                                    "SZALLAS_NEV": "Bagoly Hotel",
                                    "SZOBA_ID": "250",
                                    "SZOBA_SZAMA": "8",
                                    "FEROHELY": "3",
                                    "FOGLALAS_PK": "1498",
                                    "Panzió?": "Nem"
                                },
                                {
                                    "SZALLAS_NEV": "Bagoly Hotel",
                                    "SZOBA_ID": "251",
                                    "SZOBA_SZAMA": "9",
                                    "FEROHELY": "3",
                                    "FOGLALAS_PK": "687",
                                    "Panzió?": "Nem"
                                },
                                {
                                    "SZALLAS_NEV": "Bagoly Hotel",
                                    "SZOBA_ID": "251",
                                    "SZOBA_SZAMA": "9",
                                    "FEROHELY": "3",
                                    "FOGLALAS_PK": "856",
                                    "Panzió?": "Nem"
                                },
                                {
                                    "SZALLAS_NEV": "Bagoly Hotel",
                                    "SZOBA_ID": "251",
                                    "SZOBA_SZAMA": "9",
                                    "FEROHELY": "3",
                                    "FOGLALAS_PK": "896",
                                    "Panzió?": "Nem"
                                },
                                {
                                    "SZALLAS_NEV": "Bagoly Hotel",
                                    "SZOBA_ID": "251",
                                    "SZOBA_SZAMA": "9",
                                    "FEROHELY": "3",
                                    "FOGLALAS_PK": "973",
                                    "Panzió?": "Nem"
                                },
                                {
                                    "SZALLAS_NEV": "Bagoly Hotel",
                                    "SZOBA_ID": "251",
                                    "SZOBA_SZAMA": "9",
                                    "FEROHELY": "3",
                                    "FOGLALAS_PK": "1498",
                                    "Panzió?": "Nem"
                                },
                                {
                                    "SZALLAS_NEV": "Bagoly Hotel",
                                    "SZOBA_ID": "252",
                                    "SZOBA_SZAMA": "10",
                                    "FEROHELY": "3",
                                    "FOGLALAS_PK": "687",
                                    "Panzió?": "Nem"
                                },
                                {
                                    "SZALLAS_NEV": "Bagoly Hotel",
                                    "SZOBA_ID": "252",
                                    "SZOBA_SZAMA": "10",
                                    "FEROHELY": "3",
                                    "FOGLALAS_PK": "856",
                                    "Panzió?": "Nem"
                                },
                                {
                                    "SZALLAS_NEV": "Bagoly Hotel",
                                    "SZOBA_ID": "252",
                                    "SZOBA_SZAMA": "10",
                                    "FEROHELY": "3",
                                    "FOGLALAS_PK": "896",
                                    "Panzió?": "Nem"
                                },
                                {
                                    "SZALLAS_NEV": "Bagoly Hotel",
                                    "SZOBA_ID": "252",
                                    "SZOBA_SZAMA": "10",
                                    "FEROHELY": "3",
                                    "FOGLALAS_PK": "973",
                                    "Panzió?": "Nem"
                                },
                                {
                                    "SZALLAS_NEV": "Bagoly Hotel",
                                    "SZOBA_ID": "252",
                                    "SZOBA_SZAMA": "10",
                                    "FEROHELY": "3",
                                    "FOGLALAS_PK": "1498",
                                    "Panzió?": "Nem"
                                },
                                {
                                    "SZALLAS_NEV": "Bagoly Hotel",
                                    "SZOBA_ID": "253",
                                    "SZOBA_SZAMA": "11",
                                    "FEROHELY": "2",
                                    "FOGLALAS_PK": "687",
                                    "Panzió?": "Nem"
                                },
                                {
                                    "SZALLAS_NEV": "Bagoly Hotel",
                                    "SZOBA_ID": "253",
                                    "SZOBA_SZAMA": "11",
                                    "FEROHELY": "2",
                                    "FOGLALAS_PK": "856",
                                    "Panzió?": "Nem"
                                },
                                {
                                    "SZALLAS_NEV": "Bagoly Hotel",
                                    "SZOBA_ID": "253",
                                    "SZOBA_SZAMA": "11",
                                    "FEROHELY": "2",
                                    "FOGLALAS_PK": "896",
                                    "Panzió?": "Nem"
                                },
                                {
                                    "SZALLAS_NEV": "Bagoly Hotel",
                                    "SZOBA_ID": "253",
                                    "SZOBA_SZAMA": "11",
                                    "FEROHELY": "2",
                                    "FOGLALAS_PK": "973",
                                    "Panzió?": "Nem"
                                },
                                {
                                    "SZALLAS_NEV": "Bagoly Hotel",
                                    "SZOBA_ID": "253",
                                    "SZOBA_SZAMA": "11",
                                    "FEROHELY": "2",
                                    "FOGLALAS_PK": "1498",
                                    "Panzió?": "Nem"
                                },
                                {
                                    "SZALLAS_NEV": "Bagoly Hotel",
                                    "SZOBA_ID": "254",
                                    "SZOBA_SZAMA": "12",
                                    "FEROHELY": "2",
                                    "FOGLALAS_PK": "687",
                                    "Panzió?": "Nem"
                                },
                                {
                                    "SZALLAS_NEV": "Bagoly Hotel",
                                    "SZOBA_ID": "254",
                                    "SZOBA_SZAMA": "12",
                                    "FEROHELY": "2",
                                    "FOGLALAS_PK": "856",
                                    "Panzió?": "Nem"
                                },
                                {
                                    "SZALLAS_NEV": "Bagoly Hotel",
                                    "SZOBA_ID": "254",
                                    "SZOBA_SZAMA": "12",
                                    "FEROHELY": "2",
                                    "FOGLALAS_PK": "896",
                                    "Panzió?": "Nem"
                                },
                                {
                                    "SZALLAS_NEV": "Bagoly Hotel",
                                    "SZOBA_ID": "254",
                                    "SZOBA_SZAMA": "12",
                                    "FEROHELY": "2",
                                    "FOGLALAS_PK": "973",
                                    "Panzió?": "Nem"
                                },
                                {
                                    "SZALLAS_NEV": "Bagoly Hotel",
                                    "SZOBA_ID": "254",
                                    "SZOBA_SZAMA": "12",
                                    "FEROHELY": "2",
                                    "FOGLALAS_PK": "1498",
                                    "Panzió?": "Nem"
                                },
                                {
                                    "SZALLAS_NEV": "Bagoly Hotel",
                                    "SZOBA_ID": "255",
                                    "SZOBA_SZAMA": "13",
                                    "FEROHELY": "3",
                                    "FOGLALAS_PK": "687",
                                    "Panzió?": "Nem"
                                },
                                {
                                    "SZALLAS_NEV": "Bagoly Hotel",
                                    "SZOBA_ID": "255",
                                    "SZOBA_SZAMA": "13",
                                    "FEROHELY": "3",
                                    "FOGLALAS_PK": "856",
                                    "Panzió?": "Nem"
                                },
                                {
                                    "SZALLAS_NEV": "Bagoly Hotel",
                                    "SZOBA_ID": "255",
                                    "SZOBA_SZAMA": "13",
                                    "FEROHELY": "3",
                                    "FOGLALAS_PK": "896",
                                    "Panzió?": "Nem"
                                },
                                {
                                    "SZALLAS_NEV": "Bagoly Hotel",
                                    "SZOBA_ID": "255",
                                    "SZOBA_SZAMA": "13",
                                    "FEROHELY": "3",
                                    "FOGLALAS_PK": "973",
                                    "Panzió?": "Nem"
                                },
                                {
                                    "SZALLAS_NEV": "Bagoly Hotel",
                                    "SZOBA_ID": "255",
                                    "SZOBA_SZAMA": "13",
                                    "FEROHELY": "3",
                                    "FOGLALAS_PK": "1498",
                                    "Panzió?": "Nem"
                                },
                                {
                                    "SZALLAS_NEV": "Bagoly Hotel",
                                    "SZOBA_ID": "256",
                                    "SZOBA_SZAMA": "14",
                                    "FEROHELY": "3",
                                    "FOGLALAS_PK": "687",
                                    "Panzió?": "Nem"
                                },
                                {
                                    "SZALLAS_NEV": "Bagoly Hotel",
                                    "SZOBA_ID": "256",
                                    "SZOBA_SZAMA": "14",
                                    "FEROHELY": "3",
                                    "FOGLALAS_PK": "856",
                                    "Panzió?": "Nem"
                                },
                                {
                                    "SZALLAS_NEV": "Bagoly Hotel",
                                    "SZOBA_ID": "256",
                                    "SZOBA_SZAMA": "14",
                                    "FEROHELY": "3",
                                    "FOGLALAS_PK": "896",
                                    "Panzió?": "Nem"
                                },
                                {
                                    "SZALLAS_NEV": "Bagoly Hotel",
                                    "SZOBA_ID": "256",
                                    "SZOBA_SZAMA": "14",
                                    "FEROHELY": "3",
                                    "FOGLALAS_PK": "973",
                                    "Panzió?": "Nem"
                                },
                                {
                                    "SZALLAS_NEV": "Bagoly Hotel",
                                    "SZOBA_ID": "256",
                                    "SZOBA_SZAMA": "14",
                                    "FEROHELY": "3",
                                    "FOGLALAS_PK": "1498",
                                    "Panzió?": "Nem"
                                },
                                {
                                    "SZALLAS_NEV": "Bagoly Hotel",
                                    "SZOBA_ID": "257",
                                    "SZOBA_SZAMA": "15",
                                    "FEROHELY": "2",
                                    "FOGLALAS_PK": "687",
                                    "Panzió?": "Nem"
                                },
                                {
                                    "SZALLAS_NEV": "Bagoly Hotel",
                                    "SZOBA_ID": "257",
                                    "SZOBA_SZAMA": "15",
                                    "FEROHELY": "2",
                                    "FOGLALAS_PK": "856",
                                    "Panzió?": "Nem"
                                },
                                {
                                    "SZALLAS_NEV": "Bagoly Hotel",
                                    "SZOBA_ID": "257",
                                    "SZOBA_SZAMA": "15",
                                    "FEROHELY": "2",
                                    "FOGLALAS_PK": "896",
                                    "Panzió?": "Nem"
                                },
                                {
                                    "SZALLAS_NEV": "Bagoly Hotel",
                                    "SZOBA_ID": "257",
                                    "SZOBA_SZAMA": "15",
                                    "FEROHELY": "2",
                                    "FOGLALAS_PK": "973",
                                    "Panzió?": "Nem"
                                },
                                {
                                    "SZALLAS_NEV": "Bagoly Hotel",
                                    "SZOBA_ID": "257",
                                    "SZOBA_SZAMA": "15",
                                    "FEROHELY": "2",
                                    "FOGLALAS_PK": "1498",
                                    "Panzió?": "Nem"
                                },
                                {
                                    "SZALLAS_NEV": "Bagoly Hotel",
                                    "SZOBA_ID": "258",
                                    "SZOBA_SZAMA": "16",
                                    "FEROHELY": "2",
                                    "FOGLALAS_PK": "687",
                                    "Panzió?": "Nem"
                                },
                                {
                                    "SZALLAS_NEV": "Bagoly Hotel",
                                    "SZOBA_ID": "258",
                                    "SZOBA_SZAMA": "16",
                                    "FEROHELY": "2",
                                    "FOGLALAS_PK": "856",
                                    "Panzió?": "Nem"
                                },
                                {
                                    "SZALLAS_NEV": "Bagoly Hotel",
                                    "SZOBA_ID": "258",
                                    "SZOBA_SZAMA": "16",
                                    "FEROHELY": "2",
                                    "FOGLALAS_PK": "896",
                                    "Panzió?": "Nem"
                                },
                                {
                                    "SZALLAS_NEV": "Bagoly Hotel",
                                    "SZOBA_ID": "258",
                                    "SZOBA_SZAMA": "16",
                                    "FEROHELY": "2",
                                    "FOGLALAS_PK": "973",
                                    "Panzió?": "Nem"
                                },
                                {
                                    "SZALLAS_NEV": "Bagoly Hotel",
                                    "SZOBA_ID": "258",
                                    "SZOBA_SZAMA": "16",
                                    "FEROHELY": "2",
                                    "FOGLALAS_PK": "1498",
                                    "Panzió?": "Nem"
                                },
                                {
                                    "SZALLAS_NEV": "Bagoly Hotel",
                                    "SZOBA_ID": "259",
                                    "SZOBA_SZAMA": "17",
                                    "FEROHELY": "2",
                                    "FOGLALAS_PK": "687",
                                    "Panzió?": "Nem"
                                },
                                {
                                    "SZALLAS_NEV": "Bagoly Hotel",
                                    "SZOBA_ID": "259",
                                    "SZOBA_SZAMA": "17",
                                    "FEROHELY": "2",
                                    "FOGLALAS_PK": "856",
                                    "Panzió?": "Nem"
                                },
                                {
                                    "SZALLAS_NEV": "Bagoly Hotel",
                                    "SZOBA_ID": "259",
                                    "SZOBA_SZAMA": "17",
                                    "FEROHELY": "2",
                                    "FOGLALAS_PK": "896",
                                    "Panzió?": "Nem"
                                },
                                {
                                    "SZALLAS_NEV": "Bagoly Hotel",
                                    "SZOBA_ID": "259",
                                    "SZOBA_SZAMA": "17",
                                    "FEROHELY": "2",
                                    "FOGLALAS_PK": "973",
                                    "Panzió?": "Nem"
                                },
                                {
                                    "SZALLAS_NEV": "Bagoly Hotel",
                                    "SZOBA_ID": "259",
                                    "SZOBA_SZAMA": "17",
                                    "FEROHELY": "2",
                                    "FOGLALAS_PK": "1498",
                                    "Panzió?": "Nem"
                                },
                                {
                                    "SZALLAS_NEV": "Bagoly Hotel",
                                    "SZOBA_ID": "260",
                                    "SZOBA_SZAMA": "18",
                                    "FEROHELY": "2",
                                    "FOGLALAS_PK": "687",
                                    "Panzió?": "Nem"
                                },
                                {
                                    "SZALLAS_NEV": "Bagoly Hotel",
                                    "SZOBA_ID": "260",
                                    "SZOBA_SZAMA": "18",
                                    "FEROHELY": "2",
                                    "FOGLALAS_PK": "856",
                                    "Panzió?": "Nem"
                                },
                                {
                                    "SZALLAS_NEV": "Bagoly Hotel",
                                    "SZOBA_ID": "260",
                                    "SZOBA_SZAMA": "18",
                                    "FEROHELY": "2",
                                    "FOGLALAS_PK": "896",
                                    "Panzió?": "Nem"
                                },
                                {
                                    "SZALLAS_NEV": "Bagoly Hotel",
                                    "SZOBA_ID": "260",
                                    "SZOBA_SZAMA": "18",
                                    "FEROHELY": "2",
                                    "FOGLALAS_PK": "973",
                                    "Panzió?": "Nem"
                                },
                                {
                                    "SZALLAS_NEV": "Bagoly Hotel",
                                    "SZOBA_ID": "260",
                                    "SZOBA_SZAMA": "18",
                                    "FEROHELY": "2",
                                    "FOGLALAS_PK": "1498",
                                    "Panzió?": "Nem"
                                },
                                {
                                    "SZALLAS_NEV": "Bagoly Hotel",
                                    "SZOBA_ID": "261",
                                    "SZOBA_SZAMA": "19",
                                    "FEROHELY": "1",
                                    "FOGLALAS_PK": "687",
                                    "Panzió?": "Nem"
                                },
                                {
                                    "SZALLAS_NEV": "Bagoly Hotel",
                                    "SZOBA_ID": "261",
                                    "SZOBA_SZAMA": "19",
                                    "FEROHELY": "1",
                                    "FOGLALAS_PK": "856",
                                    "Panzió?": "Nem"
                                },
                                {
                                    "SZALLAS_NEV": "Bagoly Hotel",
                                    "SZOBA_ID": "261",
                                    "SZOBA_SZAMA": "19",
                                    "FEROHELY": "1",
                                    "FOGLALAS_PK": "896",
                                    "Panzió?": "Nem"
                                },
                                {
                                    "SZALLAS_NEV": "Bagoly Hotel",
                                    "SZOBA_ID": "261",
                                    "SZOBA_SZAMA": "19",
                                    "FEROHELY": "1",
                                    "FOGLALAS_PK": "973",
                                    "Panzió?": "Nem"
                                },
                                {
                                    "SZALLAS_NEV": "Bagoly Hotel",
                                    "SZOBA_ID": "261",
                                    "SZOBA_SZAMA": "19",
                                    "FEROHELY": "1",
                                    "FOGLALAS_PK": "1498",
                                    "Panzió?": "Nem"
                                },
                                {
                                    "SZALLAS_NEV": "Bagoly Hotel",
                                    "SZOBA_ID": "262",
                                    "SZOBA_SZAMA": "20",
                                    "FEROHELY": "1",
                                    "FOGLALAS_PK": "687",
                                    "Panzió?": "Nem"
                                },
                                {
                                    "SZALLAS_NEV": "Bagoly Hotel",
                                    "SZOBA_ID": "262",
                                    "SZOBA_SZAMA": "20",
                                    "FEROHELY": "1",
                                    "FOGLALAS_PK": "856",
                                    "Panzió?": "Nem"
                                },
                                {
                                    "SZALLAS_NEV": "Bagoly Hotel",
                                    "SZOBA_ID": "262",
                                    "SZOBA_SZAMA": "20",
                                    "FEROHELY": "1",
                                    "FOGLALAS_PK": "896",
                                    "Panzió?": "Nem"
                                },
                                {
                                    "SZALLAS_NEV": "Bagoly Hotel",
                                    "SZOBA_ID": "262",
                                    "SZOBA_SZAMA": "20",
                                    "FEROHELY": "1",
                                    "FOGLALAS_PK": "973",
                                    "Panzió?": "Nem"
                                },
                                {
                                    "SZALLAS_NEV": "Bagoly Hotel",
                                    "SZOBA_ID": "262",
                                    "SZOBA_SZAMA": "20",
                                    "FEROHELY": "1",
                                    "FOGLALAS_PK": "1498",
                                    "Panzió?": "Nem"
                                },
                                {
                                    "SZALLAS_NEV": "Szarvas Hotel",
                                    "SZOBA_ID": "263",
                                    "SZOBA_SZAMA": "1",
                                    "FEROHELY": "2",
                                    "FOGLALAS_PK": "602",
                                    "Panzió?": "Nem"
                                },
                                {
                                    "SZALLAS_NEV": "Szarvas Hotel",
                                    "SZOBA_ID": "263",
                                    "SZOBA_SZAMA": "1",
                                    "FEROHELY": "2",
                                    "FOGLALAS_PK": "713",
                                    "Panzió?": "Nem"
                                },
                                {
                                    "SZALLAS_NEV": "Szarvas Hotel",
                                    "SZOBA_ID": "263",
                                    "SZOBA_SZAMA": "1",
                                    "FEROHELY": "2",
                                    "FOGLALAS_PK": "744",
                                    "Panzió?": "Nem"
                                },
                                {
                                    "SZALLAS_NEV": "Szarvas Hotel",
                                    "SZOBA_ID": "263",
                                    "SZOBA_SZAMA": "1",
                                    "FEROHELY": "2",
                                    "FOGLALAS_PK": "916",
                                    "Panzió?": "Nem"
                                },
                                {
                                    "SZALLAS_NEV": "Szarvas Hotel",
                                    "SZOBA_ID": "263",
                                    "SZOBA_SZAMA": "1",
                                    "FEROHELY": "2",
                                    "FOGLALAS_PK": "1316",
                                    "Panzió?": "Nem"
                                },
                                {
                                    "SZALLAS_NEV": "Szarvas Hotel",
                                    "SZOBA_ID": "263",
                                    "SZOBA_SZAMA": "1",
                                    "FEROHELY": "2",
                                    "FOGLALAS_PK": "1549",
                                    "Panzió?": "Nem"
                                },
                                {
                                    "SZALLAS_NEV": "Szarvas Hotel",
                                    "SZOBA_ID": "264",
                                    "SZOBA_SZAMA": "2",
                                    "FEROHELY": "3",
                                    "FOGLALAS_PK": "602",
                                    "Panzió?": "Nem"
                                },
                                {
                                    "SZALLAS_NEV": "Szarvas Hotel",
                                    "SZOBA_ID": "264",
                                    "SZOBA_SZAMA": "2",
                                    "FEROHELY": "3",
                                    "FOGLALAS_PK": "713",
                                    "Panzió?": "Nem"
                                },
                                {
                                    "SZALLAS_NEV": "Szarvas Hotel",
                                    "SZOBA_ID": "264",
                                    "SZOBA_SZAMA": "2",
                                    "FEROHELY": "3",
                                    "FOGLALAS_PK": "744",
                                    "Panzió?": "Nem"
                                },
                                {
                                    "SZALLAS_NEV": "Szarvas Hotel",
                                    "SZOBA_ID": "264",
                                    "SZOBA_SZAMA": "2",
                                    "FEROHELY": "3",
                                    "FOGLALAS_PK": "916",
                                    "Panzió?": "Nem"
                                },
                                {
                                    "SZALLAS_NEV": "Szarvas Hotel",
                                    "SZOBA_ID": "264",
                                    "SZOBA_SZAMA": "2",
                                    "FEROHELY": "3",
                                    "FOGLALAS_PK": "1316",
                                    "Panzió?": "Nem"
                                },
                                {
                                    "SZALLAS_NEV": "Szarvas Hotel",
                                    "SZOBA_ID": "264",
                                    "SZOBA_SZAMA": "2",
                                    "FEROHELY": "3",
                                    "FOGLALAS_PK": "1549",
                                    "Panzió?": "Nem"
                                },
                                {
                                    "SZALLAS_NEV": "Szarvas Hotel",
                                    "SZOBA_ID": "265",
                                    "SZOBA_SZAMA": "3",
                                    "FEROHELY": "3",
                                    "FOGLALAS_PK": "602",
                                    "Panzió?": "Nem"
                                },
                                {
                                    "SZALLAS_NEV": "Szarvas Hotel",
                                    "SZOBA_ID": "265",
                                    "SZOBA_SZAMA": "3",
                                    "FEROHELY": "3",
                                    "FOGLALAS_PK": "713",
                                    "Panzió?": "Nem"
                                },
                                {
                                    "SZALLAS_NEV": "Szarvas Hotel",
                                    "SZOBA_ID": "265",
                                    "SZOBA_SZAMA": "3",
                                    "FEROHELY": "3",
                                    "FOGLALAS_PK": "744",
                                    "Panzió?": "Nem"
                                },
                                {
                                    "SZALLAS_NEV": "Szarvas Hotel",
                                    "SZOBA_ID": "265",
                                    "SZOBA_SZAMA": "3",
                                    "FEROHELY": "3",
                                    "FOGLALAS_PK": "916",
                                    "Panzió?": "Nem"
                                },
                                {
                                    "SZALLAS_NEV": "Szarvas Hotel",
                                    "SZOBA_ID": "265",
                                    "SZOBA_SZAMA": "3",
                                    "FEROHELY": "3",
                                    "FOGLALAS_PK": "1316",
                                    "Panzió?": "Nem"
                                },
                                {
                                    "SZALLAS_NEV": "Szarvas Hotel",
                                    "SZOBA_ID": "265",
                                    "SZOBA_SZAMA": "3",
                                    "FEROHELY": "3",
                                    "FOGLALAS_PK": "1549",
                                    "Panzió?": "Nem"
                                },
                                {
                                    "SZALLAS_NEV": "Szarvas Hotel",
                                    "SZOBA_ID": "266",
                                    "SZOBA_SZAMA": "4",
                                    "FEROHELY": "2",
                                    "FOGLALAS_PK": "602",
                                    "Panzió?": "Nem"
                                },
                                {
                                    "SZALLAS_NEV": "Szarvas Hotel",
                                    "SZOBA_ID": "266",
                                    "SZOBA_SZAMA": "4",
                                    "FEROHELY": "2",
                                    "FOGLALAS_PK": "713",
                                    "Panzió?": "Nem"
                                },
                                {
                                    "SZALLAS_NEV": "Szarvas Hotel",
                                    "SZOBA_ID": "266",
                                    "SZOBA_SZAMA": "4",
                                    "FEROHELY": "2",
                                    "FOGLALAS_PK": "744",
                                    "Panzió?": "Nem"
                                },
                                {
                                    "SZALLAS_NEV": "Szarvas Hotel",
                                    "SZOBA_ID": "266",
                                    "SZOBA_SZAMA": "4",
                                    "FEROHELY": "2",
                                    "FOGLALAS_PK": "916",
                                    "Panzió?": "Nem"
                                },
                                {
                                    "SZALLAS_NEV": "Szarvas Hotel",
                                    "SZOBA_ID": "266",
                                    "SZOBA_SZAMA": "4",
                                    "FEROHELY": "2",
                                    "FOGLALAS_PK": "1316",
                                    "Panzió?": "Nem"
                                },
                                {
                                    "SZALLAS_NEV": "Szarvas Hotel",
                                    "SZOBA_ID": "266",
                                    "SZOBA_SZAMA": "4",
                                    "FEROHELY": "2",
                                    "FOGLALAS_PK": "1549",
                                    "Panzió?": "Nem"
                                },
                                {
                                    "SZALLAS_NEV": "Szarvas Hotel",
                                    "SZOBA_ID": "267",
                                    "SZOBA_SZAMA": "5",
                                    "FEROHELY": "2",
                                    "FOGLALAS_PK": "602",
                                    "Panzió?": "Nem"
                                },
                                {
                                    "SZALLAS_NEV": "Szarvas Hotel",
                                    "SZOBA_ID": "267",
                                    "SZOBA_SZAMA": "5",
                                    "FEROHELY": "2",
                                    "FOGLALAS_PK": "713",
                                    "Panzió?": "Nem"
                                },
                                {
                                    "SZALLAS_NEV": "Szarvas Hotel",
                                    "SZOBA_ID": "267",
                                    "SZOBA_SZAMA": "5",
                                    "FEROHELY": "2",
                                    "FOGLALAS_PK": "744",
                                    "Panzió?": "Nem"
                                },
                                {
                                    "SZALLAS_NEV": "Szarvas Hotel",
                                    "SZOBA_ID": "267",
                                    "SZOBA_SZAMA": "5",
                                    "FEROHELY": "2",
                                    "FOGLALAS_PK": "916",
                                    "Panzió?": "Nem"
                                },
                                {
                                    "SZALLAS_NEV": "Szarvas Hotel",
                                    "SZOBA_ID": "267",
                                    "SZOBA_SZAMA": "5",
                                    "FEROHELY": "2",
                                    "FOGLALAS_PK": "1316",
                                    "Panzió?": "Nem"
                                },
                                {
                                    "SZALLAS_NEV": "Szarvas Hotel",
                                    "SZOBA_ID": "267",
                                    "SZOBA_SZAMA": "5",
                                    "FEROHELY": "2",
                                    "FOGLALAS_PK": "1549",
                                    "Panzió?": "Nem"
                                },
                                {
                                    "SZALLAS_NEV": "Szarvas Hotel",
                                    "SZOBA_ID": "268",
                                    "SZOBA_SZAMA": "6",
                                    "FEROHELY": "2",
                                    "FOGLALAS_PK": "602",
                                    "Panzió?": "Nem"
                                },
                                {
                                    "SZALLAS_NEV": "Szarvas Hotel",
                                    "SZOBA_ID": "268",
                                    "SZOBA_SZAMA": "6",
                                    "FEROHELY": "2",
                                    "FOGLALAS_PK": "713",
                                    "Panzió?": "Nem"
                                },
                                {
                                    "SZALLAS_NEV": "Szarvas Hotel",
                                    "SZOBA_ID": "268",
                                    "SZOBA_SZAMA": "6",
                                    "FEROHELY": "2",
                                    "FOGLALAS_PK": "744",
                                    "Panzió?": "Nem"
                                },
                                {
                                    "SZALLAS_NEV": "Szarvas Hotel",
                                    "SZOBA_ID": "268",
                                    "SZOBA_SZAMA": "6",
                                    "FEROHELY": "2",
                                    "FOGLALAS_PK": "916",
                                    "Panzió?": "Nem"
                                },
                                {
                                    "SZALLAS_NEV": "Szarvas Hotel",
                                    "SZOBA_ID": "268",
                                    "SZOBA_SZAMA": "6",
                                    "FEROHELY": "2",
                                    "FOGLALAS_PK": "1316",
                                    "Panzió?": "Nem"
                                },
                                {
                                    "SZALLAS_NEV": "Szarvas Hotel",
                                    "SZOBA_ID": "268",
                                    "SZOBA_SZAMA": "6",
                                    "FEROHELY": "2",
                                    "FOGLALAS_PK": "1549",
                                    "Panzió?": "Nem"
                                },
                                {
                                    "SZALLAS_NEV": "Szarvas Hotel",
                                    "SZOBA_ID": "269",
                                    "SZOBA_SZAMA": "7",
                                    "FEROHELY": "2",
                                    "FOGLALAS_PK": "602",
                                    "Panzió?": "Nem"
                                },
                                {
                                    "SZALLAS_NEV": "Szarvas Hotel",
                                    "SZOBA_ID": "269",
                                    "SZOBA_SZAMA": "7",
                                    "FEROHELY": "2",
                                    "FOGLALAS_PK": "713",
                                    "Panzió?": "Nem"
                                },
                                {
                                    "SZALLAS_NEV": "Szarvas Hotel",
                                    "SZOBA_ID": "269",
                                    "SZOBA_SZAMA": "7",
                                    "FEROHELY": "2",
                                    "FOGLALAS_PK": "744",
                                    "Panzió?": "Nem"
                                },
                                {
                                    "SZALLAS_NEV": "Szarvas Hotel",
                                    "SZOBA_ID": "269",
                                    "SZOBA_SZAMA": "7",
                                    "FEROHELY": "2",
                                    "FOGLALAS_PK": "916",
                                    "Panzió?": "Nem"
                                },
                                {
                                    "SZALLAS_NEV": "Szarvas Hotel",
                                    "SZOBA_ID": "269",
                                    "SZOBA_SZAMA": "7",
                                    "FEROHELY": "2",
                                    "FOGLALAS_PK": "1316",
                                    "Panzió?": "Nem"
                                },
                                {
                                    "SZALLAS_NEV": "Szarvas Hotel",
                                    "SZOBA_ID": "269",
                                    "SZOBA_SZAMA": "7",
                                    "FEROHELY": "2",
                                    "FOGLALAS_PK": "1549",
                                    "Panzió?": "Nem"
                                },
                                {
                                    "SZALLAS_NEV": "Szarvas Hotel",
                                    "SZOBA_ID": "270",
                                    "SZOBA_SZAMA": "8",
                                    "FEROHELY": "3",
                                    "FOGLALAS_PK": "602",
                                    "Panzió?": "Nem"
                                },
                                {
                                    "SZALLAS_NEV": "Szarvas Hotel",
                                    "SZOBA_ID": "270",
                                    "SZOBA_SZAMA": "8",
                                    "FEROHELY": "3",
                                    "FOGLALAS_PK": "713",
                                    "Panzió?": "Nem"
                                },
                                {
                                    "SZALLAS_NEV": "Szarvas Hotel",
                                    "SZOBA_ID": "270",
                                    "SZOBA_SZAMA": "8",
                                    "FEROHELY": "3",
                                    "FOGLALAS_PK": "744",
                                    "Panzió?": "Nem"
                                },
                                {
                                    "SZALLAS_NEV": "Szarvas Hotel",
                                    "SZOBA_ID": "270",
                                    "SZOBA_SZAMA": "8",
                                    "FEROHELY": "3",
                                    "FOGLALAS_PK": "916",
                                    "Panzió?": "Nem"
                                },
                                {
                                    "SZALLAS_NEV": "Szarvas Hotel",
                                    "SZOBA_ID": "270",
                                    "SZOBA_SZAMA": "8",
                                    "FEROHELY": "3",
                                    "FOGLALAS_PK": "1316",
                                    "Panzió?": "Nem"
                                },
                                {
                                    "SZALLAS_NEV": "Szarvas Hotel",
                                    "SZOBA_ID": "270",
                                    "SZOBA_SZAMA": "8",
                                    "FEROHELY": "3",
                                    "FOGLALAS_PK": "1549",
                                    "Panzió?": "Nem"
                                },
                                {
                                    "SZALLAS_NEV": "Szarvas Hotel",
                                    "SZOBA_ID": "271",
                                    "SZOBA_SZAMA": "9",
                                    "FEROHELY": "3",
                                    "FOGLALAS_PK": "602",
                                    "Panzió?": "Nem"
                                },
                                {
                                    "SZALLAS_NEV": "Szarvas Hotel",
                                    "SZOBA_ID": "271",
                                    "SZOBA_SZAMA": "9",
                                    "FEROHELY": "3",
                                    "FOGLALAS_PK": "713",
                                    "Panzió?": "Nem"
                                },
                                {
                                    "SZALLAS_NEV": "Szarvas Hotel",
                                    "SZOBA_ID": "271",
                                    "SZOBA_SZAMA": "9",
                                    "FEROHELY": "3",
                                    "FOGLALAS_PK": "744",
                                    "Panzió?": "Nem"
                                },
                                {
                                    "SZALLAS_NEV": "Szarvas Hotel",
                                    "SZOBA_ID": "271",
                                    "SZOBA_SZAMA": "9",
                                    "FEROHELY": "3",
                                    "FOGLALAS_PK": "916",
                                    "Panzió?": "Nem"
                                },
                                {
                                    "SZALLAS_NEV": "Szarvas Hotel",
                                    "SZOBA_ID": "271",
                                    "SZOBA_SZAMA": "9",
                                    "FEROHELY": "3",
                                    "FOGLALAS_PK": "1316",
                                    "Panzió?": "Nem"
                                },
                                {
                                    "SZALLAS_NEV": "Szarvas Hotel",
                                    "SZOBA_ID": "271",
                                    "SZOBA_SZAMA": "9",
                                    "FEROHELY": "3",
                                    "FOGLALAS_PK": "1549",
                                    "Panzió?": "Nem"
                                },
                                {
                                    "SZALLAS_NEV": "Szarvas Hotel",
                                    "SZOBA_ID": "272",
                                    "SZOBA_SZAMA": "10",
                                    "FEROHELY": "3",
                                    "FOGLALAS_PK": "602",
                                    "Panzió?": "Nem"
                                },
                                {
                                    "SZALLAS_NEV": "Szarvas Hotel",
                                    "SZOBA_ID": "272",
                                    "SZOBA_SZAMA": "10",
                                    "FEROHELY": "3",
                                    "FOGLALAS_PK": "713",
                                    "Panzió?": "Nem"
                                },
                                {
                                    "SZALLAS_NEV": "Szarvas Hotel",
                                    "SZOBA_ID": "272",
                                    "SZOBA_SZAMA": "10",
                                    "FEROHELY": "3",
                                    "FOGLALAS_PK": "744",
                                    "Panzió?": "Nem"
                                },
                                {
                                    "SZALLAS_NEV": "Szarvas Hotel",
                                    "SZOBA_ID": "272",
                                    "SZOBA_SZAMA": "10",
                                    "FEROHELY": "3",
                                    "FOGLALAS_PK": "916",
                                    "Panzió?": "Nem"
                                },
                                {
                                    "SZALLAS_NEV": "Szarvas Hotel",
                                    "SZOBA_ID": "272",
                                    "SZOBA_SZAMA": "10",
                                    "FEROHELY": "3",
                                    "FOGLALAS_PK": "1316",
                                    "Panzió?": "Nem"
                                },
                                {
                                    "SZALLAS_NEV": "Szarvas Hotel",
                                    "SZOBA_ID": "272",
                                    "SZOBA_SZAMA": "10",
                                    "FEROHELY": "3",
                                    "FOGLALAS_PK": "1549",
                                    "Panzió?": "Nem"
                                },
                                {
                                    "SZALLAS_NEV": "Szarvas Hotel",
                                    "SZOBA_ID": "273",
                                    "SZOBA_SZAMA": "11",
                                    "FEROHELY": "2",
                                    "FOGLALAS_PK": "602",
                                    "Panzió?": "Nem"
                                },
                                {
                                    "SZALLAS_NEV": "Szarvas Hotel",
                                    "SZOBA_ID": "273",
                                    "SZOBA_SZAMA": "11",
                                    "FEROHELY": "2",
                                    "FOGLALAS_PK": "713",
                                    "Panzió?": "Nem"
                                },
                                {
                                    "SZALLAS_NEV": "Szarvas Hotel",
                                    "SZOBA_ID": "273",
                                    "SZOBA_SZAMA": "11",
                                    "FEROHELY": "2",
                                    "FOGLALAS_PK": "744",
                                    "Panzió?": "Nem"
                                },
                                {
                                    "SZALLAS_NEV": "Szarvas Hotel",
                                    "SZOBA_ID": "273",
                                    "SZOBA_SZAMA": "11",
                                    "FEROHELY": "2",
                                    "FOGLALAS_PK": "916",
                                    "Panzió?": "Nem"
                                },
                                {
                                    "SZALLAS_NEV": "Szarvas Hotel",
                                    "SZOBA_ID": "273",
                                    "SZOBA_SZAMA": "11",
                                    "FEROHELY": "2",
                                    "FOGLALAS_PK": "1316",
                                    "Panzió?": "Nem"
                                },
                                {
                                    "SZALLAS_NEV": "Szarvas Hotel",
                                    "SZOBA_ID": "273",
                                    "SZOBA_SZAMA": "11",
                                    "FEROHELY": "2",
                                    "FOGLALAS_PK": "1549",
                                    "Panzió?": "Nem"
                                },
                                {
                                    "SZALLAS_NEV": "Szarvas Hotel",
                                    "SZOBA_ID": "274",
                                    "SZOBA_SZAMA": "12",
                                    "FEROHELY": "3",
                                    "FOGLALAS_PK": "602",
                                    "Panzió?": "Nem"
                                },
                                {
                                    "SZALLAS_NEV": "Szarvas Hotel",
                                    "SZOBA_ID": "274",
                                    "SZOBA_SZAMA": "12",
                                    "FEROHELY": "3",
                                    "FOGLALAS_PK": "713",
                                    "Panzió?": "Nem"
                                },
                                {
                                    "SZALLAS_NEV": "Szarvas Hotel",
                                    "SZOBA_ID": "274",
                                    "SZOBA_SZAMA": "12",
                                    "FEROHELY": "3",
                                    "FOGLALAS_PK": "744",
                                    "Panzió?": "Nem"
                                },
                                {
                                    "SZALLAS_NEV": "Szarvas Hotel",
                                    "SZOBA_ID": "274",
                                    "SZOBA_SZAMA": "12",
                                    "FEROHELY": "3",
                                    "FOGLALAS_PK": "916",
                                    "Panzió?": "Nem"
                                },
                                {
                                    "SZALLAS_NEV": "Szarvas Hotel",
                                    "SZOBA_ID": "274",
                                    "SZOBA_SZAMA": "12",
                                    "FEROHELY": "3",
                                    "FOGLALAS_PK": "1316",
                                    "Panzió?": "Nem"
                                },
                                {
                                    "SZALLAS_NEV": "Szarvas Hotel",
                                    "SZOBA_ID": "274",
                                    "SZOBA_SZAMA": "12",
                                    "FEROHELY": "3",
                                    "FOGLALAS_PK": "1549",
                                    "Panzió?": "Nem"
                                },
                                {
                                    "SZALLAS_NEV": "Szarvas Hotel",
                                    "SZOBA_ID": "275",
                                    "SZOBA_SZAMA": "13",
                                    "FEROHELY": "2",
                                    "FOGLALAS_PK": "602",
                                    "Panzió?": "Nem"
                                },
                                {
                                    "SZALLAS_NEV": "Szarvas Hotel",
                                    "SZOBA_ID": "275",
                                    "SZOBA_SZAMA": "13",
                                    "FEROHELY": "2",
                                    "FOGLALAS_PK": "713",
                                    "Panzió?": "Nem"
                                },
                                {
                                    "SZALLAS_NEV": "Szarvas Hotel",
                                    "SZOBA_ID": "275",
                                    "SZOBA_SZAMA": "13",
                                    "FEROHELY": "2",
                                    "FOGLALAS_PK": "744",
                                    "Panzió?": "Nem"
                                },
                                {
                                    "SZALLAS_NEV": "Szarvas Hotel",
                                    "SZOBA_ID": "275",
                                    "SZOBA_SZAMA": "13",
                                    "FEROHELY": "2",
                                    "FOGLALAS_PK": "916",
                                    "Panzió?": "Nem"
                                },
                                {
                                    "SZALLAS_NEV": "Szarvas Hotel",
                                    "SZOBA_ID": "275",
                                    "SZOBA_SZAMA": "13",
                                    "FEROHELY": "2",
                                    "FOGLALAS_PK": "1316",
                                    "Panzió?": "Nem"
                                },
                                {
                                    "SZALLAS_NEV": "Szarvas Hotel",
                                    "SZOBA_ID": "275",
                                    "SZOBA_SZAMA": "13",
                                    "FEROHELY": "2",
                                    "FOGLALAS_PK": "1549",
                                    "Panzió?": "Nem"
                                },
                                {
                                    "SZALLAS_NEV": "Szarvas Hotel",
                                    "SZOBA_ID": "276",
                                    "SZOBA_SZAMA": "14",
                                    "FEROHELY": "2",
                                    "FOGLALAS_PK": "602",
                                    "Panzió?": "Nem"
                                },
                                {
                                    "SZALLAS_NEV": "Szarvas Hotel",
                                    "SZOBA_ID": "276",
                                    "SZOBA_SZAMA": "14",
                                    "FEROHELY": "2",
                                    "FOGLALAS_PK": "713",
                                    "Panzió?": "Nem"
                                },
                                {
                                    "SZALLAS_NEV": "Szarvas Hotel",
                                    "SZOBA_ID": "276",
                                    "SZOBA_SZAMA": "14",
                                    "FEROHELY": "2",
                                    "FOGLALAS_PK": "744",
                                    "Panzió?": "Nem"
                                },
                                {
                                    "SZALLAS_NEV": "Szarvas Hotel",
                                    "SZOBA_ID": "276",
                                    "SZOBA_SZAMA": "14",
                                    "FEROHELY": "2",
                                    "FOGLALAS_PK": "916",
                                    "Panzió?": "Nem"
                                },
                                {
                                    "SZALLAS_NEV": "Szarvas Hotel",
                                    "SZOBA_ID": "276",
                                    "SZOBA_SZAMA": "14",
                                    "FEROHELY": "2",
                                    "FOGLALAS_PK": "1316",
                                    "Panzió?": "Nem"
                                },
                                {
                                    "SZALLAS_NEV": "Szarvas Hotel",
                                    "SZOBA_ID": "276",
                                    "SZOBA_SZAMA": "14",
                                    "FEROHELY": "2",
                                    "FOGLALAS_PK": "1549",
                                    "Panzió?": "Nem"
                                },
                                {
                                    "SZALLAS_NEV": "Szarvas Hotel",
                                    "SZOBA_ID": "277",
                                    "SZOBA_SZAMA": "15",
                                    "FEROHELY": "2",
                                    "FOGLALAS_PK": "602",
                                    "Panzió?": "Nem"
                                },
                                {
                                    "SZALLAS_NEV": "Szarvas Hotel",
                                    "SZOBA_ID": "277",
                                    "SZOBA_SZAMA": "15",
                                    "FEROHELY": "2",
                                    "FOGLALAS_PK": "713",
                                    "Panzió?": "Nem"
                                },
                                {
                                    "SZALLAS_NEV": "Szarvas Hotel",
                                    "SZOBA_ID": "277",
                                    "SZOBA_SZAMA": "15",
                                    "FEROHELY": "2",
                                    "FOGLALAS_PK": "744",
                                    "Panzió?": "Nem"
                                },
                                {
                                    "SZALLAS_NEV": "Szarvas Hotel",
                                    "SZOBA_ID": "277",
                                    "SZOBA_SZAMA": "15",
                                    "FEROHELY": "2",
                                    "FOGLALAS_PK": "916",
                                    "Panzió?": "Nem"
                                },
                                {
                                    "SZALLAS_NEV": "Szarvas Hotel",
                                    "SZOBA_ID": "277",
                                    "SZOBA_SZAMA": "15",
                                    "FEROHELY": "2",
                                    "FOGLALAS_PK": "1316",
                                    "Panzió?": "Nem"
                                },
                                {
                                    "SZALLAS_NEV": "Szarvas Hotel",
                                    "SZOBA_ID": "277",
                                    "SZOBA_SZAMA": "15",
                                    "FEROHELY": "2",
                                    "FOGLALAS_PK": "1549",
                                    "Panzió?": "Nem"
                                },
                                {
                                    "SZALLAS_NEV": "Fortuna Apartman",
                                    "SZOBA_ID": "278",
                                    "SZOBA_SZAMA": "1",
                                    "FEROHELY": "3",
                                    "FOGLALAS_PK": "626",
                                    "Panzió?": "Nem"
                                },
                                {
                                    "SZALLAS_NEV": "Fortuna Apartman",
                                    "SZOBA_ID": "278",
                                    "SZOBA_SZAMA": "1",
                                    "FEROHELY": "3",
                                    "FOGLALAS_PK": "767",
                                    "Panzió?": "Nem"
                                },
                                {
                                    "SZALLAS_NEV": "Fortuna Apartman",
                                    "SZOBA_ID": "278",
                                    "SZOBA_SZAMA": "1",
                                    "FEROHELY": "3",
                                    "FOGLALAS_PK": "1035",
                                    "Panzió?": "Nem"
                                },
                                {
                                    "SZALLAS_NEV": "Fortuna Apartman",
                                    "SZOBA_ID": "278",
                                    "SZOBA_SZAMA": "1",
                                    "FEROHELY": "3",
                                    "FOGLALAS_PK": "1173",
                                    "Panzió?": "Nem"
                                },
                                {
                                    "SZALLAS_NEV": "Fortuna Apartman",
                                    "SZOBA_ID": "278",
                                    "SZOBA_SZAMA": "1",
                                    "FEROHELY": "3",
                                    "FOGLALAS_PK": "1198",
                                    "Panzió?": "Nem"
                                },
                                {
                                    "SZALLAS_NEV": "Fortuna Apartman",
                                    "SZOBA_ID": "278",
                                    "SZOBA_SZAMA": "1",
                                    "FEROHELY": "3",
                                    "FOGLALAS_PK": "1505",
                                    "Panzió?": "Nem"
                                },
                                {
                                    "SZALLAS_NEV": "Fortuna Apartman",
                                    "SZOBA_ID": "279",
                                    "SZOBA_SZAMA": "2",
                                    "FEROHELY": "2",
                                    "FOGLALAS_PK": "626",
                                    "Panzió?": "Nem"
                                },
                                {
                                    "SZALLAS_NEV": "Fortuna Apartman",
                                    "SZOBA_ID": "279",
                                    "SZOBA_SZAMA": "2",
                                    "FEROHELY": "2",
                                    "FOGLALAS_PK": "767",
                                    "Panzió?": "Nem"
                                },
                                {
                                    "SZALLAS_NEV": "Fortuna Apartman",
                                    "SZOBA_ID": "279",
                                    "SZOBA_SZAMA": "2",
                                    "FEROHELY": "2",
                                    "FOGLALAS_PK": "1035",
                                    "Panzió?": "Nem"
                                },
                                {
                                    "SZALLAS_NEV": "Fortuna Apartman",
                                    "SZOBA_ID": "279",
                                    "SZOBA_SZAMA": "2",
                                    "FEROHELY": "2",
                                    "FOGLALAS_PK": "1173",
                                    "Panzió?": "Nem"
                                },
                                {
                                    "SZALLAS_NEV": "Fortuna Apartman",
                                    "SZOBA_ID": "279",
                                    "SZOBA_SZAMA": "2",
                                    "FEROHELY": "2",
                                    "FOGLALAS_PK": "1198",
                                    "Panzió?": "Nem"
                                },
                                {
                                    "SZALLAS_NEV": "Fortuna Apartman",
                                    "SZOBA_ID": "279",
                                    "SZOBA_SZAMA": "2",
                                    "FEROHELY": "2",
                                    "FOGLALAS_PK": "1505",
                                    "Panzió?": "Nem"
                                },
                                {
                                    "SZALLAS_NEV": "Fortuna Apartman",
                                    "SZOBA_ID": "280",
                                    "SZOBA_SZAMA": "3",
                                    "FEROHELY": "3",
                                    "FOGLALAS_PK": "626",
                                    "Panzió?": "Nem"
                                },
                                {
                                    "SZALLAS_NEV": "Fortuna Apartman",
                                    "SZOBA_ID": "280",
                                    "SZOBA_SZAMA": "3",
                                    "FEROHELY": "3",
                                    "FOGLALAS_PK": "767",
                                    "Panzió?": "Nem"
                                },
                                {
                                    "SZALLAS_NEV": "Fortuna Apartman",
                                    "SZOBA_ID": "280",
                                    "SZOBA_SZAMA": "3",
                                    "FEROHELY": "3",
                                    "FOGLALAS_PK": "1035",
                                    "Panzió?": "Nem"
                                },
                                {
                                    "SZALLAS_NEV": "Fortuna Apartman",
                                    "SZOBA_ID": "280",
                                    "SZOBA_SZAMA": "3",
                                    "FEROHELY": "3",
                                    "FOGLALAS_PK": "1173",
                                    "Panzió?": "Nem"
                                },
                                {
                                    "SZALLAS_NEV": "Fortuna Apartman",
                                    "SZOBA_ID": "280",
                                    "SZOBA_SZAMA": "3",
                                    "FEROHELY": "3",
                                    "FOGLALAS_PK": "1198",
                                    "Panzió?": "Nem"
                                },
                                {
                                    "SZALLAS_NEV": "Fortuna Apartman",
                                    "SZOBA_ID": "280",
                                    "SZOBA_SZAMA": "3",
                                    "FEROHELY": "3",
                                    "FOGLALAS_PK": "1505",
                                    "Panzió?": "Nem"
                                },
                                {
                                    "SZALLAS_NEV": "Nyárfás Vendégház",
                                    "SZOBA_ID": "281",
                                    "SZOBA_SZAMA": "1",
                                    "FEROHELY": "2",
                                    "FOGLALAS_PK": "696",
                                    "Panzió?": "Nem"
                                },
                                {
                                    "SZALLAS_NEV": "Nyárfás Vendégház",
                                    "SZOBA_ID": "281",
                                    "SZOBA_SZAMA": "1",
                                    "FEROHELY": "2",
                                    "FOGLALAS_PK": "778",
                                    "Panzió?": "Nem"
                                },
                                {
                                    "SZALLAS_NEV": "Nyárfás Vendégház",
                                    "SZOBA_ID": "281",
                                    "SZOBA_SZAMA": "1",
                                    "FEROHELY": "2",
                                    "FOGLALAS_PK": "948",
                                    "Panzió?": "Nem"
                                },
                                {
                                    "SZALLAS_NEV": "Nyárfás Vendégház",
                                    "SZOBA_ID": "281",
                                    "SZOBA_SZAMA": "1",
                                    "FEROHELY": "2",
                                    "FOGLALAS_PK": "1139",
                                    "Panzió?": "Nem"
                                },
                                {
                                    "SZALLAS_NEV": "Nyárfás Vendégház",
                                    "SZOBA_ID": "281",
                                    "SZOBA_SZAMA": "1",
                                    "FEROHELY": "2",
                                    "FOGLALAS_PK": "1237",
                                    "Panzió?": "Nem"
                                },
                                {
                                    "SZALLAS_NEV": "Nyárfás Vendégház",
                                    "SZOBA_ID": "281",
                                    "SZOBA_SZAMA": "1",
                                    "FEROHELY": "2",
                                    "FOGLALAS_PK": "1533",
                                    "Panzió?": "Nem"
                                },
                                {
                                    "SZALLAS_NEV": "Nyárfás Vendégház",
                                    "SZOBA_ID": "282",
                                    "SZOBA_SZAMA": "2",
                                    "FEROHELY": "2",
                                    "FOGLALAS_PK": "696",
                                    "Panzió?": "Nem"
                                },
                                {
                                    "SZALLAS_NEV": "Nyárfás Vendégház",
                                    "SZOBA_ID": "282",
                                    "SZOBA_SZAMA": "2",
                                    "FEROHELY": "2",
                                    "FOGLALAS_PK": "778",
                                    "Panzió?": "Nem"
                                },
                                {
                                    "SZALLAS_NEV": "Nyárfás Vendégház",
                                    "SZOBA_ID": "282",
                                    "SZOBA_SZAMA": "2",
                                    "FEROHELY": "2",
                                    "FOGLALAS_PK": "948",
                                    "Panzió?": "Nem"
                                },
                                {
                                    "SZALLAS_NEV": "Nyárfás Vendégház",
                                    "SZOBA_ID": "282",
                                    "SZOBA_SZAMA": "2",
                                    "FEROHELY": "2",
                                    "FOGLALAS_PK": "1139",
                                    "Panzió?": "Nem"
                                },
                                {
                                    "SZALLAS_NEV": "Nyárfás Vendégház",
                                    "SZOBA_ID": "282",
                                    "SZOBA_SZAMA": "2",
                                    "FEROHELY": "2",
                                    "FOGLALAS_PK": "1237",
                                    "Panzió?": "Nem"
                                },
                                {
                                    "SZALLAS_NEV": "Nyárfás Vendégház",
                                    "SZOBA_ID": "282",
                                    "SZOBA_SZAMA": "2",
                                    "FEROHELY": "2",
                                    "FOGLALAS_PK": "1533",
                                    "Panzió?": "Nem"
                                },
                                {
                                    "SZALLAS_NEV": "Nyárfás Vendégház",
                                    "SZOBA_ID": "283",
                                    "SZOBA_SZAMA": "3",
                                    "FEROHELY": "2",
                                    "FOGLALAS_PK": "696",
                                    "Panzió?": "Nem"
                                },
                                {
                                    "SZALLAS_NEV": "Nyárfás Vendégház",
                                    "SZOBA_ID": "283",
                                    "SZOBA_SZAMA": "3",
                                    "FEROHELY": "2",
                                    "FOGLALAS_PK": "778",
                                    "Panzió?": "Nem"
                                },
                                {
                                    "SZALLAS_NEV": "Nyárfás Vendégház",
                                    "SZOBA_ID": "283",
                                    "SZOBA_SZAMA": "3",
                                    "FEROHELY": "2",
                                    "FOGLALAS_PK": "948",
                                    "Panzió?": "Nem"
                                },
                                {
                                    "SZALLAS_NEV": "Nyárfás Vendégház",
                                    "SZOBA_ID": "283",
                                    "SZOBA_SZAMA": "3",
                                    "FEROHELY": "2",
                                    "FOGLALAS_PK": "1139",
                                    "Panzió?": "Nem"
                                },
                                {
                                    "SZALLAS_NEV": "Nyárfás Vendégház",
                                    "SZOBA_ID": "283",
                                    "SZOBA_SZAMA": "3",
                                    "FEROHELY": "2",
                                    "FOGLALAS_PK": "1237",
                                    "Panzió?": "Nem"
                                },
                                {
                                    "SZALLAS_NEV": "Nyárfás Vendégház",
                                    "SZOBA_ID": "283",
                                    "SZOBA_SZAMA": "3",
                                    "FEROHELY": "2",
                                    "FOGLALAS_PK": "1533",
                                    "Panzió?": "Nem"
                                },
                                {
                                    "SZALLAS_NEV": "Nyárfás Vendégház",
                                    "SZOBA_ID": "284",
                                    "SZOBA_SZAMA": "4",
                                    "FEROHELY": "2",
                                    "FOGLALAS_PK": "696",
                                    "Panzió?": "Nem"
                                },
                                {
                                    "SZALLAS_NEV": "Nyárfás Vendégház",
                                    "SZOBA_ID": "284",
                                    "SZOBA_SZAMA": "4",
                                    "FEROHELY": "2",
                                    "FOGLALAS_PK": "778",
                                    "Panzió?": "Nem"
                                },
                                {
                                    "SZALLAS_NEV": "Nyárfás Vendégház",
                                    "SZOBA_ID": "284",
                                    "SZOBA_SZAMA": "4",
                                    "FEROHELY": "2",
                                    "FOGLALAS_PK": "948",
                                    "Panzió?": "Nem"
                                },
                                {
                                    "SZALLAS_NEV": "Nyárfás Vendégház",
                                    "SZOBA_ID": "284",
                                    "SZOBA_SZAMA": "4",
                                    "FEROHELY": "2",
                                    "FOGLALAS_PK": "1139",
                                    "Panzió?": "Nem"
                                },
                                {
                                    "SZALLAS_NEV": "Nyárfás Vendégház",
                                    "SZOBA_ID": "284",
                                    "SZOBA_SZAMA": "4",
                                    "FEROHELY": "2",
                                    "FOGLALAS_PK": "1237",
                                    "Panzió?": "Nem"
                                },
                                {
                                    "SZALLAS_NEV": "Nyárfás Vendégház",
                                    "SZOBA_ID": "284",
                                    "SZOBA_SZAMA": "4",
                                    "FEROHELY": "2",
                                    "FOGLALAS_PK": "1533",
                                    "Panzió?": "Nem"
                                },
                                {
                                    "SZALLAS_NEV": "Kollégium",
                                    "SZOBA_ID": "285",
                                    "SZOBA_SZAMA": "1",
                                    "FEROHELY": "2",
                                    "FOGLALAS_PK": "755",
                                    "Panzió?": "Nem"
                                },
                                {
                                    "SZALLAS_NEV": "Kollégium",
                                    "SZOBA_ID": "285",
                                    "SZOBA_SZAMA": "1",
                                    "FEROHELY": "2",
                                    "FOGLALAS_PK": "820",
                                    "Panzió?": "Nem"
                                },
                                {
                                    "SZALLAS_NEV": "Kollégium",
                                    "SZOBA_ID": "285",
                                    "SZOBA_SZAMA": "1",
                                    "FEROHELY": "2",
                                    "FOGLALAS_PK": "1070",
                                    "Panzió?": "Nem"
                                },
                                {
                                    "SZALLAS_NEV": "Kollégium",
                                    "SZOBA_ID": "285",
                                    "SZOBA_SZAMA": "1",
                                    "FEROHELY": "2",
                                    "FOGLALAS_PK": "1106",
                                    "Panzió?": "Nem"
                                },
                                {
                                    "SZALLAS_NEV": "Kollégium",
                                    "SZOBA_ID": "285",
                                    "SZOBA_SZAMA": "1",
                                    "FEROHELY": "2",
                                    "FOGLALAS_PK": "1114",
                                    "Panzió?": "Nem"
                                },
                                {
                                    "SZALLAS_NEV": "Kollégium",
                                    "SZOBA_ID": "286",
                                    "SZOBA_SZAMA": "2",
                                    "FEROHELY": "3",
                                    "FOGLALAS_PK": "755",
                                    "Panzió?": "Nem"
                                },
                                {
                                    "SZALLAS_NEV": "Kollégium",
                                    "SZOBA_ID": "286",
                                    "SZOBA_SZAMA": "2",
                                    "FEROHELY": "3",
                                    "FOGLALAS_PK": "820",
                                    "Panzió?": "Nem"
                                },
                                {
                                    "SZALLAS_NEV": "Kollégium",
                                    "SZOBA_ID": "286",
                                    "SZOBA_SZAMA": "2",
                                    "FEROHELY": "3",
                                    "FOGLALAS_PK": "1070",
                                    "Panzió?": "Nem"
                                },
                                {
                                    "SZALLAS_NEV": "Kollégium",
                                    "SZOBA_ID": "286",
                                    "SZOBA_SZAMA": "2",
                                    "FEROHELY": "3",
                                    "FOGLALAS_PK": "1106",
                                    "Panzió?": "Nem"
                                },
                                {
                                    "SZALLAS_NEV": "Kollégium",
                                    "SZOBA_ID": "286",
                                    "SZOBA_SZAMA": "2",
                                    "FEROHELY": "3",
                                    "FOGLALAS_PK": "1114",
                                    "Panzió?": "Nem"
                                },
                                {
                                    "SZALLAS_NEV": "Kollégium",
                                    "SZOBA_ID": "287",
                                    "SZOBA_SZAMA": "3",
                                    "FEROHELY": "3",
                                    "FOGLALAS_PK": "755",
                                    "Panzió?": "Nem"
                                },
                                {
                                    "SZALLAS_NEV": "Kollégium",
                                    "SZOBA_ID": "287",
                                    "SZOBA_SZAMA": "3",
                                    "FEROHELY": "3",
                                    "FOGLALAS_PK": "820",
                                    "Panzió?": "Nem"
                                },
                                {
                                    "SZALLAS_NEV": "Kollégium",
                                    "SZOBA_ID": "287",
                                    "SZOBA_SZAMA": "3",
                                    "FEROHELY": "3",
                                    "FOGLALAS_PK": "1070",
                                    "Panzió?": "Nem"
                                },
                                {
                                    "SZALLAS_NEV": "Kollégium",
                                    "SZOBA_ID": "287",
                                    "SZOBA_SZAMA": "3",
                                    "FEROHELY": "3",
                                    "FOGLALAS_PK": "1106",
                                    "Panzió?": "Nem"
                                },
                                {
                                    "SZALLAS_NEV": "Kollégium",
                                    "SZOBA_ID": "287",
                                    "SZOBA_SZAMA": "3",
                                    "FEROHELY": "3",
                                    "FOGLALAS_PK": "1114",
                                    "Panzió?": "Nem"
                                },
                                {
                                    "SZALLAS_NEV": "Kollégium",
                                    "SZOBA_ID": "288",
                                    "SZOBA_SZAMA": "4",
                                    "FEROHELY": "2",
                                    "FOGLALAS_PK": "755",
                                    "Panzió?": "Nem"
                                },
                                {
                                    "SZALLAS_NEV": "Kollégium",
                                    "SZOBA_ID": "288",
                                    "SZOBA_SZAMA": "4",
                                    "FEROHELY": "2",
                                    "FOGLALAS_PK": "820",
                                    "Panzió?": "Nem"
                                },
                                {
                                    "SZALLAS_NEV": "Kollégium",
                                    "SZOBA_ID": "288",
                                    "SZOBA_SZAMA": "4",
                                    "FEROHELY": "2",
                                    "FOGLALAS_PK": "1070",
                                    "Panzió?": "Nem"
                                },
                                {
                                    "SZALLAS_NEV": "Kollégium",
                                    "SZOBA_ID": "288",
                                    "SZOBA_SZAMA": "4",
                                    "FEROHELY": "2",
                                    "FOGLALAS_PK": "1106",
                                    "Panzió?": "Nem"
                                },
                                {
                                    "SZALLAS_NEV": "Kollégium",
                                    "SZOBA_ID": "288",
                                    "SZOBA_SZAMA": "4",
                                    "FEROHELY": "2",
                                    "FOGLALAS_PK": "1114",
                                    "Panzió?": "Nem"
                                },
                                {
                                    "SZALLAS_NEV": "Kollégium",
                                    "SZOBA_ID": "289",
                                    "SZOBA_SZAMA": "5",
                                    "FEROHELY": "3",
                                    "FOGLALAS_PK": "755",
                                    "Panzió?": "Nem"
                                },
                                {
                                    "SZALLAS_NEV": "Kollégium",
                                    "SZOBA_ID": "289",
                                    "SZOBA_SZAMA": "5",
                                    "FEROHELY": "3",
                                    "FOGLALAS_PK": "820",
                                    "Panzió?": "Nem"
                                },
                                {
                                    "SZALLAS_NEV": "Kollégium",
                                    "SZOBA_ID": "289",
                                    "SZOBA_SZAMA": "5",
                                    "FEROHELY": "3",
                                    "FOGLALAS_PK": "1070",
                                    "Panzió?": "Nem"
                                },
                                {
                                    "SZALLAS_NEV": "Kollégium",
                                    "SZOBA_ID": "289",
                                    "SZOBA_SZAMA": "5",
                                    "FEROHELY": "3",
                                    "FOGLALAS_PK": "1106",
                                    "Panzió?": "Nem"
                                },
                                {
                                    "SZALLAS_NEV": "Kollégium",
                                    "SZOBA_ID": "289",
                                    "SZOBA_SZAMA": "5",
                                    "FEROHELY": "3",
                                    "FOGLALAS_PK": "1114",
                                    "Panzió?": "Nem"
                                },
                                {
                                    "SZALLAS_NEV": "Kollégium",
                                    "SZOBA_ID": "290",
                                    "SZOBA_SZAMA": "6",
                                    "FEROHELY": "2",
                                    "FOGLALAS_PK": "755",
                                    "Panzió?": "Nem"
                                },
                                {
                                    "SZALLAS_NEV": "Kollégium",
                                    "SZOBA_ID": "290",
                                    "SZOBA_SZAMA": "6",
                                    "FEROHELY": "2",
                                    "FOGLALAS_PK": "820",
                                    "Panzió?": "Nem"
                                },
                                {
                                    "SZALLAS_NEV": "Kollégium",
                                    "SZOBA_ID": "290",
                                    "SZOBA_SZAMA": "6",
                                    "FEROHELY": "2",
                                    "FOGLALAS_PK": "1070",
                                    "Panzió?": "Nem"
                                },
                                {
                                    "SZALLAS_NEV": "Kollégium",
                                    "SZOBA_ID": "290",
                                    "SZOBA_SZAMA": "6",
                                    "FEROHELY": "2",
                                    "FOGLALAS_PK": "1106",
                                    "Panzió?": "Nem"
                                },
                                {
                                    "SZALLAS_NEV": "Kollégium",
                                    "SZOBA_ID": "290",
                                    "SZOBA_SZAMA": "6",
                                    "FEROHELY": "2",
                                    "FOGLALAS_PK": "1114",
                                    "Panzió?": "Nem"
                                },
                                {
                                    "SZALLAS_NEV": "Kollégium",
                                    "SZOBA_ID": "291",
                                    "SZOBA_SZAMA": "7",
                                    "FEROHELY": "2",
                                    "FOGLALAS_PK": "755",
                                    "Panzió?": "Nem"
                                },
                                {
                                    "SZALLAS_NEV": "Kollégium",
                                    "SZOBA_ID": "291",
                                    "SZOBA_SZAMA": "7",
                                    "FEROHELY": "2",
                                    "FOGLALAS_PK": "820",
                                    "Panzió?": "Nem"
                                },
                                {
                                    "SZALLAS_NEV": "Kollégium",
                                    "SZOBA_ID": "291",
                                    "SZOBA_SZAMA": "7",
                                    "FEROHELY": "2",
                                    "FOGLALAS_PK": "1070",
                                    "Panzió?": "Nem"
                                },
                                {
                                    "SZALLAS_NEV": "Kollégium",
                                    "SZOBA_ID": "291",
                                    "SZOBA_SZAMA": "7",
                                    "FEROHELY": "2",
                                    "FOGLALAS_PK": "1106",
                                    "Panzió?": "Nem"
                                },
                                {
                                    "SZALLAS_NEV": "Kollégium",
                                    "SZOBA_ID": "291",
                                    "SZOBA_SZAMA": "7",
                                    "FEROHELY": "2",
                                    "FOGLALAS_PK": "1114",
                                    "Panzió?": "Nem"
                                },
                                {
                                    "SZALLAS_NEV": "Kollégium",
                                    "SZOBA_ID": "292",
                                    "SZOBA_SZAMA": "8",
                                    "FEROHELY": "2",
                                    "FOGLALAS_PK": "755",
                                    "Panzió?": "Nem"
                                },
                                {
                                    "SZALLAS_NEV": "Kollégium",
                                    "SZOBA_ID": "292",
                                    "SZOBA_SZAMA": "8",
                                    "FEROHELY": "2",
                                    "FOGLALAS_PK": "820",
                                    "Panzió?": "Nem"
                                },
                                {
                                    "SZALLAS_NEV": "Kollégium",
                                    "SZOBA_ID": "292",
                                    "SZOBA_SZAMA": "8",
                                    "FEROHELY": "2",
                                    "FOGLALAS_PK": "1070",
                                    "Panzió?": "Nem"
                                },
                                {
                                    "SZALLAS_NEV": "Kollégium",
                                    "SZOBA_ID": "292",
                                    "SZOBA_SZAMA": "8",
                                    "FEROHELY": "2",
                                    "FOGLALAS_PK": "1106",
                                    "Panzió?": "Nem"
                                },
                                {
                                    "SZALLAS_NEV": "Kollégium",
                                    "SZOBA_ID": "292",
                                    "SZOBA_SZAMA": "8",
                                    "FEROHELY": "2",
                                    "FOGLALAS_PK": "1114",
                                    "Panzió?": "Nem"
                                },
                                {
                                    "SZALLAS_NEV": "Kollégium",
                                    "SZOBA_ID": "293",
                                    "SZOBA_SZAMA": "9",
                                    "FEROHELY": "2",
                                    "FOGLALAS_PK": "755",
                                    "Panzió?": "Nem"
                                },
                                {
                                    "SZALLAS_NEV": "Kollégium",
                                    "SZOBA_ID": "293",
                                    "SZOBA_SZAMA": "9",
                                    "FEROHELY": "2",
                                    "FOGLALAS_PK": "820",
                                    "Panzió?": "Nem"
                                },
                                {
                                    "SZALLAS_NEV": "Kollégium",
                                    "SZOBA_ID": "293",
                                    "SZOBA_SZAMA": "9",
                                    "FEROHELY": "2",
                                    "FOGLALAS_PK": "1070",
                                    "Panzió?": "Nem"
                                },
                                {
                                    "SZALLAS_NEV": "Kollégium",
                                    "SZOBA_ID": "293",
                                    "SZOBA_SZAMA": "9",
                                    "FEROHELY": "2",
                                    "FOGLALAS_PK": "1106",
                                    "Panzió?": "Nem"
                                },
                                {
                                    "SZALLAS_NEV": "Kollégium",
                                    "SZOBA_ID": "293",
                                    "SZOBA_SZAMA": "9",
                                    "FEROHELY": "2",
                                    "FOGLALAS_PK": "1114",
                                    "Panzió?": "Nem"
                                },
                                {
                                    "SZALLAS_NEV": "Kollégium",
                                    "SZOBA_ID": "294",
                                    "SZOBA_SZAMA": "10",
                                    "FEROHELY": "3",
                                    "FOGLALAS_PK": "755",
                                    "Panzió?": "Nem"
                                },
                                {
                                    "SZALLAS_NEV": "Kollégium",
                                    "SZOBA_ID": "294",
                                    "SZOBA_SZAMA": "10",
                                    "FEROHELY": "3",
                                    "FOGLALAS_PK": "820",
                                    "Panzió?": "Nem"
                                },
                                {
                                    "SZALLAS_NEV": "Kollégium",
                                    "SZOBA_ID": "294",
                                    "SZOBA_SZAMA": "10",
                                    "FEROHELY": "3",
                                    "FOGLALAS_PK": "1070",
                                    "Panzió?": "Nem"
                                },
                                {
                                    "SZALLAS_NEV": "Kollégium",
                                    "SZOBA_ID": "294",
                                    "SZOBA_SZAMA": "10",
                                    "FEROHELY": "3",
                                    "FOGLALAS_PK": "1106",
                                    "Panzió?": "Nem"
                                },
                                {
                                    "SZALLAS_NEV": "Kollégium",
                                    "SZOBA_ID": "294",
                                    "SZOBA_SZAMA": "10",
                                    "FEROHELY": "3",
                                    "FOGLALAS_PK": "1114",
                                    "Panzió?": "Nem"
                                }
                            ]
                        },
                        "text/html": [
                            "<table>",
                            "<tr><th>SZALLAS_NEV</th><th>SZOBA_ID</th><th>SZOBA_SZAMA</th><th>FEROHELY</th><th>FOGLALAS_PK</th><th>Panzió?</th></tr>",
                            "<tr><td>Sába-Ház</td><td>1</td><td>1</td><td>3</td><td>620</td><td>Nem</td></tr>",
                            "<tr><td>Sába-Ház</td><td>1</td><td>1</td><td>3</td><td>738</td><td>Nem</td></tr>",
                            "<tr><td>Sába-Ház</td><td>1</td><td>1</td><td>3</td><td>803</td><td>Nem</td></tr>",
                            "<tr><td>Sába-Ház</td><td>1</td><td>1</td><td>3</td><td>949</td><td>Nem</td></tr>",
                            "<tr><td>Sába-Ház</td><td>1</td><td>1</td><td>3</td><td>1137</td><td>Nem</td></tr>",
                            "<tr><td>Sába-Ház</td><td>1</td><td>1</td><td>3</td><td>1152</td><td>Nem</td></tr>",
                            "<tr><td>Sába-Ház</td><td>1</td><td>1</td><td>3</td><td>1274</td><td>Nem</td></tr>",
                            "<tr><td>Sába-Ház</td><td>1</td><td>1</td><td>3</td><td>1334</td><td>Nem</td></tr>",
                            "<tr><td>Sába-Ház</td><td>2</td><td>2</td><td>3</td><td>620</td><td>Nem</td></tr>",
                            "<tr><td>Sába-Ház</td><td>2</td><td>2</td><td>3</td><td>738</td><td>Nem</td></tr>",
                            "<tr><td>Sába-Ház</td><td>2</td><td>2</td><td>3</td><td>803</td><td>Nem</td></tr>",
                            "<tr><td>Sába-Ház</td><td>2</td><td>2</td><td>3</td><td>949</td><td>Nem</td></tr>",
                            "<tr><td>Sába-Ház</td><td>2</td><td>2</td><td>3</td><td>1137</td><td>Nem</td></tr>",
                            "<tr><td>Sába-Ház</td><td>2</td><td>2</td><td>3</td><td>1152</td><td>Nem</td></tr>",
                            "<tr><td>Sába-Ház</td><td>2</td><td>2</td><td>3</td><td>1274</td><td>Nem</td></tr>",
                            "<tr><td>Sába-Ház</td><td>2</td><td>2</td><td>3</td><td>1334</td><td>Nem</td></tr>",
                            "<tr><td>Sába-Ház</td><td>3</td><td>3</td><td>3</td><td>620</td><td>Nem</td></tr>",
                            "<tr><td>Sába-Ház</td><td>3</td><td>3</td><td>3</td><td>738</td><td>Nem</td></tr>",
                            "<tr><td>Sába-Ház</td><td>3</td><td>3</td><td>3</td><td>803</td><td>Nem</td></tr>",
                            "<tr><td>Sába-Ház</td><td>3</td><td>3</td><td>3</td><td>949</td><td>Nem</td></tr>",
                            "<tr><td>Sába-Ház</td><td>3</td><td>3</td><td>3</td><td>1137</td><td>Nem</td></tr>",
                            "<tr><td>Sába-Ház</td><td>3</td><td>3</td><td>3</td><td>1152</td><td>Nem</td></tr>",
                            "<tr><td>Sába-Ház</td><td>3</td><td>3</td><td>3</td><td>1274</td><td>Nem</td></tr>",
                            "<tr><td>Sába-Ház</td><td>3</td><td>3</td><td>3</td><td>1334</td><td>Nem</td></tr>",
                            "<tr><td>Sába-Ház</td><td>4</td><td>4</td><td>2</td><td>620</td><td>Nem</td></tr>",
                            "<tr><td>Sába-Ház</td><td>4</td><td>4</td><td>2</td><td>738</td><td>Nem</td></tr>",
                            "<tr><td>Sába-Ház</td><td>4</td><td>4</td><td>2</td><td>803</td><td>Nem</td></tr>",
                            "<tr><td>Sába-Ház</td><td>4</td><td>4</td><td>2</td><td>949</td><td>Nem</td></tr>",
                            "<tr><td>Sába-Ház</td><td>4</td><td>4</td><td>2</td><td>1137</td><td>Nem</td></tr>",
                            "<tr><td>Sába-Ház</td><td>4</td><td>4</td><td>2</td><td>1152</td><td>Nem</td></tr>",
                            "<tr><td>Sába-Ház</td><td>4</td><td>4</td><td>2</td><td>1274</td><td>Nem</td></tr>",
                            "<tr><td>Sába-Ház</td><td>4</td><td>4</td><td>2</td><td>1334</td><td>Nem</td></tr>",
                            "<tr><td>Sába-Ház</td><td>5</td><td>5</td><td>2</td><td>620</td><td>Nem</td></tr>",
                            "<tr><td>Sába-Ház</td><td>5</td><td>5</td><td>2</td><td>738</td><td>Nem</td></tr>",
                            "<tr><td>Sába-Ház</td><td>5</td><td>5</td><td>2</td><td>803</td><td>Nem</td></tr>",
                            "<tr><td>Sába-Ház</td><td>5</td><td>5</td><td>2</td><td>949</td><td>Nem</td></tr>",
                            "<tr><td>Sába-Ház</td><td>5</td><td>5</td><td>2</td><td>1137</td><td>Nem</td></tr>",
                            "<tr><td>Sába-Ház</td><td>5</td><td>5</td><td>2</td><td>1152</td><td>Nem</td></tr>",
                            "<tr><td>Sába-Ház</td><td>5</td><td>5</td><td>2</td><td>1274</td><td>Nem</td></tr>",
                            "<tr><td>Sába-Ház</td><td>5</td><td>5</td><td>2</td><td>1334</td><td>Nem</td></tr>",
                            "<tr><td>Sába-Ház</td><td>6</td><td>6</td><td>3</td><td>620</td><td>Nem</td></tr>",
                            "<tr><td>Sába-Ház</td><td>6</td><td>6</td><td>3</td><td>738</td><td>Nem</td></tr>",
                            "<tr><td>Sába-Ház</td><td>6</td><td>6</td><td>3</td><td>803</td><td>Nem</td></tr>",
                            "<tr><td>Sába-Ház</td><td>6</td><td>6</td><td>3</td><td>949</td><td>Nem</td></tr>",
                            "<tr><td>Sába-Ház</td><td>6</td><td>6</td><td>3</td><td>1137</td><td>Nem</td></tr>",
                            "<tr><td>Sába-Ház</td><td>6</td><td>6</td><td>3</td><td>1152</td><td>Nem</td></tr>",
                            "<tr><td>Sába-Ház</td><td>6</td><td>6</td><td>3</td><td>1274</td><td>Nem</td></tr>",
                            "<tr><td>Sába-Ház</td><td>6</td><td>6</td><td>3</td><td>1334</td><td>Nem</td></tr>",
                            "<tr><td>Sába-Ház</td><td>7</td><td>7</td><td>2</td><td>620</td><td>Nem</td></tr>",
                            "<tr><td>Sába-Ház</td><td>7</td><td>7</td><td>2</td><td>738</td><td>Nem</td></tr>",
                            "<tr><td>Sába-Ház</td><td>7</td><td>7</td><td>2</td><td>803</td><td>Nem</td></tr>",
                            "<tr><td>Sába-Ház</td><td>7</td><td>7</td><td>2</td><td>949</td><td>Nem</td></tr>",
                            "<tr><td>Sába-Ház</td><td>7</td><td>7</td><td>2</td><td>1137</td><td>Nem</td></tr>",
                            "<tr><td>Sába-Ház</td><td>7</td><td>7</td><td>2</td><td>1152</td><td>Nem</td></tr>",
                            "<tr><td>Sába-Ház</td><td>7</td><td>7</td><td>2</td><td>1274</td><td>Nem</td></tr>",
                            "<tr><td>Sába-Ház</td><td>7</td><td>7</td><td>2</td><td>1334</td><td>Nem</td></tr>",
                            "<tr><td>Sába-Ház</td><td>8</td><td>8</td><td>3</td><td>620</td><td>Nem</td></tr>",
                            "<tr><td>Sába-Ház</td><td>8</td><td>8</td><td>3</td><td>738</td><td>Nem</td></tr>",
                            "<tr><td>Sába-Ház</td><td>8</td><td>8</td><td>3</td><td>803</td><td>Nem</td></tr>",
                            "<tr><td>Sába-Ház</td><td>8</td><td>8</td><td>3</td><td>949</td><td>Nem</td></tr>",
                            "<tr><td>Sába-Ház</td><td>8</td><td>8</td><td>3</td><td>1137</td><td>Nem</td></tr>",
                            "<tr><td>Sába-Ház</td><td>8</td><td>8</td><td>3</td><td>1152</td><td>Nem</td></tr>",
                            "<tr><td>Sába-Ház</td><td>8</td><td>8</td><td>3</td><td>1274</td><td>Nem</td></tr>",
                            "<tr><td>Sába-Ház</td><td>8</td><td>8</td><td>3</td><td>1334</td><td>Nem</td></tr>",
                            "<tr><td>Sába-Ház</td><td>9</td><td>9</td><td>3</td><td>620</td><td>Nem</td></tr>",
                            "<tr><td>Sába-Ház</td><td>9</td><td>9</td><td>3</td><td>738</td><td>Nem</td></tr>",
                            "<tr><td>Sába-Ház</td><td>9</td><td>9</td><td>3</td><td>803</td><td>Nem</td></tr>",
                            "<tr><td>Sába-Ház</td><td>9</td><td>9</td><td>3</td><td>949</td><td>Nem</td></tr>",
                            "<tr><td>Sába-Ház</td><td>9</td><td>9</td><td>3</td><td>1137</td><td>Nem</td></tr>",
                            "<tr><td>Sába-Ház</td><td>9</td><td>9</td><td>3</td><td>1152</td><td>Nem</td></tr>",
                            "<tr><td>Sába-Ház</td><td>9</td><td>9</td><td>3</td><td>1274</td><td>Nem</td></tr>",
                            "<tr><td>Sába-Ház</td><td>9</td><td>9</td><td>3</td><td>1334</td><td>Nem</td></tr>",
                            "<tr><td>Sába-Ház</td><td>10</td><td>10</td><td>3</td><td>620</td><td>Nem</td></tr>",
                            "<tr><td>Sába-Ház</td><td>10</td><td>10</td><td>3</td><td>738</td><td>Nem</td></tr>",
                            "<tr><td>Sába-Ház</td><td>10</td><td>10</td><td>3</td><td>803</td><td>Nem</td></tr>",
                            "<tr><td>Sába-Ház</td><td>10</td><td>10</td><td>3</td><td>949</td><td>Nem</td></tr>",
                            "<tr><td>Sába-Ház</td><td>10</td><td>10</td><td>3</td><td>1137</td><td>Nem</td></tr>",
                            "<tr><td>Sába-Ház</td><td>10</td><td>10</td><td>3</td><td>1152</td><td>Nem</td></tr>",
                            "<tr><td>Sába-Ház</td><td>10</td><td>10</td><td>3</td><td>1274</td><td>Nem</td></tr>",
                            "<tr><td>Sába-Ház</td><td>10</td><td>10</td><td>3</td><td>1334</td><td>Nem</td></tr>",
                            "<tr><td>Sába-Ház</td><td>11</td><td>11</td><td>2</td><td>620</td><td>Nem</td></tr>",
                            "<tr><td>Sába-Ház</td><td>11</td><td>11</td><td>2</td><td>738</td><td>Nem</td></tr>",
                            "<tr><td>Sába-Ház</td><td>11</td><td>11</td><td>2</td><td>803</td><td>Nem</td></tr>",
                            "<tr><td>Sába-Ház</td><td>11</td><td>11</td><td>2</td><td>949</td><td>Nem</td></tr>",
                            "<tr><td>Sába-Ház</td><td>11</td><td>11</td><td>2</td><td>1137</td><td>Nem</td></tr>",
                            "<tr><td>Sába-Ház</td><td>11</td><td>11</td><td>2</td><td>1152</td><td>Nem</td></tr>",
                            "<tr><td>Sába-Ház</td><td>11</td><td>11</td><td>2</td><td>1274</td><td>Nem</td></tr>",
                            "<tr><td>Sába-Ház</td><td>11</td><td>11</td><td>2</td><td>1334</td><td>Nem</td></tr>",
                            "<tr><td>Sába-Ház</td><td>12</td><td>12</td><td>2</td><td>620</td><td>Nem</td></tr>",
                            "<tr><td>Sába-Ház</td><td>12</td><td>12</td><td>2</td><td>738</td><td>Nem</td></tr>",
                            "<tr><td>Sába-Ház</td><td>12</td><td>12</td><td>2</td><td>803</td><td>Nem</td></tr>",
                            "<tr><td>Sába-Ház</td><td>12</td><td>12</td><td>2</td><td>949</td><td>Nem</td></tr>",
                            "<tr><td>Sába-Ház</td><td>12</td><td>12</td><td>2</td><td>1137</td><td>Nem</td></tr>",
                            "<tr><td>Sába-Ház</td><td>12</td><td>12</td><td>2</td><td>1152</td><td>Nem</td></tr>",
                            "<tr><td>Sába-Ház</td><td>12</td><td>12</td><td>2</td><td>1274</td><td>Nem</td></tr>",
                            "<tr><td>Sába-Ház</td><td>12</td><td>12</td><td>2</td><td>1334</td><td>Nem</td></tr>",
                            "<tr><td>Családi Ház</td><td>13</td><td>1</td><td>3</td><td>828</td><td>Nem</td></tr>",
                            "<tr><td>Családi Ház</td><td>13</td><td>1</td><td>3</td><td>1051</td><td>Nem</td></tr>",
                            "<tr><td>Családi Ház</td><td>13</td><td>1</td><td>3</td><td>1069</td><td>Nem</td></tr>",
                            "<tr><td>Családi Ház</td><td>13</td><td>1</td><td>3</td><td>1311</td><td>Nem</td></tr>",
                            "<tr><td>Családi Ház</td><td>14</td><td>2</td><td>3</td><td>828</td><td>Nem</td></tr>",
                            "<tr><td>Családi Ház</td><td>14</td><td>2</td><td>3</td><td>1051</td><td>Nem</td></tr>",
                            "<tr><td>Családi Ház</td><td>14</td><td>2</td><td>3</td><td>1069</td><td>Nem</td></tr>",
                            "<tr><td>Családi Ház</td><td>14</td><td>2</td><td>3</td><td>1311</td><td>Nem</td></tr>",
                            "<tr><td>Családi Ház</td><td>15</td><td>3</td><td>2</td><td>828</td><td>Nem</td></tr>",
                            "<tr><td>Családi Ház</td><td>15</td><td>3</td><td>2</td><td>1051</td><td>Nem</td></tr>",
                            "<tr><td>Családi Ház</td><td>15</td><td>3</td><td>2</td><td>1069</td><td>Nem</td></tr>",
                            "<tr><td>Családi Ház</td><td>15</td><td>3</td><td>2</td><td>1311</td><td>Nem</td></tr>",
                            "<tr><td>Családi Ház</td><td>16</td><td>4</td><td>3</td><td>828</td><td>Nem</td></tr>",
                            "<tr><td>Családi Ház</td><td>16</td><td>4</td><td>3</td><td>1051</td><td>Nem</td></tr>",
                            "<tr><td>Családi Ház</td><td>16</td><td>4</td><td>3</td><td>1069</td><td>Nem</td></tr>",
                            "<tr><td>Családi Ház</td><td>16</td><td>4</td><td>3</td><td>1311</td><td>Nem</td></tr>",
                            "<tr><td>Fortuna Apartman</td><td>17</td><td>1</td><td>3</td><td>629</td><td>Nem</td></tr>",
                            "<tr><td>Fortuna Apartman</td><td>17</td><td>1</td><td>3</td><td>666</td><td>Nem</td></tr>",
                            "<tr><td>Fortuna Apartman</td><td>17</td><td>1</td><td>3</td><td>788</td><td>Nem</td></tr>",
                            "<tr><td>Fortuna Apartman</td><td>17</td><td>1</td><td>3</td><td>1038</td><td>Nem</td></tr>",
                            "<tr><td>Fortuna Apartman</td><td>17</td><td>1</td><td>3</td><td>1110</td><td>Nem</td></tr>",
                            "<tr><td>Fortuna Apartman</td><td>17</td><td>1</td><td>3</td><td>1151</td><td>Nem</td></tr>",
                            "<tr><td>Fortuna Apartman</td><td>17</td><td>1</td><td>3</td><td>1434</td><td>Nem</td></tr>",
                            "<tr><td>Fortuna Apartman</td><td>17</td><td>1</td><td>3</td><td>1544</td><td>Nem</td></tr>",
                            "<tr><td>Fortuna Apartman</td><td>18</td><td>2</td><td>3</td><td>629</td><td>Nem</td></tr>",
                            "<tr><td>Fortuna Apartman</td><td>18</td><td>2</td><td>3</td><td>666</td><td>Nem</td></tr>",
                            "<tr><td>Fortuna Apartman</td><td>18</td><td>2</td><td>3</td><td>788</td><td>Nem</td></tr>",
                            "<tr><td>Fortuna Apartman</td><td>18</td><td>2</td><td>3</td><td>1038</td><td>Nem</td></tr>",
                            "<tr><td>Fortuna Apartman</td><td>18</td><td>2</td><td>3</td><td>1110</td><td>Nem</td></tr>",
                            "<tr><td>Fortuna Apartman</td><td>18</td><td>2</td><td>3</td><td>1151</td><td>Nem</td></tr>",
                            "<tr><td>Fortuna Apartman</td><td>18</td><td>2</td><td>3</td><td>1434</td><td>Nem</td></tr>",
                            "<tr><td>Fortuna Apartman</td><td>18</td><td>2</td><td>3</td><td>1544</td><td>Nem</td></tr>",
                            "<tr><td>Fortuna Apartman</td><td>19</td><td>3</td><td>2</td><td>629</td><td>Nem</td></tr>",
                            "<tr><td>Fortuna Apartman</td><td>19</td><td>3</td><td>2</td><td>666</td><td>Nem</td></tr>",
                            "<tr><td>Fortuna Apartman</td><td>19</td><td>3</td><td>2</td><td>788</td><td>Nem</td></tr>",
                            "<tr><td>Fortuna Apartman</td><td>19</td><td>3</td><td>2</td><td>1038</td><td>Nem</td></tr>",
                            "<tr><td>Fortuna Apartman</td><td>19</td><td>3</td><td>2</td><td>1110</td><td>Nem</td></tr>",
                            "<tr><td>Fortuna Apartman</td><td>19</td><td>3</td><td>2</td><td>1151</td><td>Nem</td></tr>",
                            "<tr><td>Fortuna Apartman</td><td>19</td><td>3</td><td>2</td><td>1434</td><td>Nem</td></tr>",
                            "<tr><td>Fortuna Apartman</td><td>19</td><td>3</td><td>2</td><td>1544</td><td>Nem</td></tr>",
                            "<tr><td>Fortuna Apartman</td><td>20</td><td>4</td><td>3</td><td>629</td><td>Nem</td></tr>",
                            "<tr><td>Fortuna Apartman</td><td>20</td><td>4</td><td>3</td><td>666</td><td>Nem</td></tr>",
                            "<tr><td>Fortuna Apartman</td><td>20</td><td>4</td><td>3</td><td>788</td><td>Nem</td></tr>",
                            "<tr><td>Fortuna Apartman</td><td>20</td><td>4</td><td>3</td><td>1038</td><td>Nem</td></tr>",
                            "<tr><td>Fortuna Apartman</td><td>20</td><td>4</td><td>3</td><td>1110</td><td>Nem</td></tr>",
                            "<tr><td>Fortuna Apartman</td><td>20</td><td>4</td><td>3</td><td>1151</td><td>Nem</td></tr>",
                            "<tr><td>Fortuna Apartman</td><td>20</td><td>4</td><td>3</td><td>1434</td><td>Nem</td></tr>",
                            "<tr><td>Fortuna Apartman</td><td>20</td><td>4</td><td>3</td><td>1544</td><td>Nem</td></tr>",
                            "<tr><td>Fortuna Apartman</td><td>21</td><td>5</td><td>2</td><td>629</td><td>Nem</td></tr>",
                            "<tr><td>Fortuna Apartman</td><td>21</td><td>5</td><td>2</td><td>666</td><td>Nem</td></tr>",
                            "<tr><td>Fortuna Apartman</td><td>21</td><td>5</td><td>2</td><td>788</td><td>Nem</td></tr>",
                            "<tr><td>Fortuna Apartman</td><td>21</td><td>5</td><td>2</td><td>1038</td><td>Nem</td></tr>",
                            "<tr><td>Fortuna Apartman</td><td>21</td><td>5</td><td>2</td><td>1110</td><td>Nem</td></tr>",
                            "<tr><td>Fortuna Apartman</td><td>21</td><td>5</td><td>2</td><td>1151</td><td>Nem</td></tr>",
                            "<tr><td>Fortuna Apartman</td><td>21</td><td>5</td><td>2</td><td>1434</td><td>Nem</td></tr>",
                            "<tr><td>Fortuna Apartman</td><td>21</td><td>5</td><td>2</td><td>1544</td><td>Nem</td></tr>",
                            "<tr><td>Fortuna Apartman</td><td>22</td><td>6</td><td>3</td><td>629</td><td>Nem</td></tr>",
                            "<tr><td>Fortuna Apartman</td><td>22</td><td>6</td><td>3</td><td>666</td><td>Nem</td></tr>",
                            "<tr><td>Fortuna Apartman</td><td>22</td><td>6</td><td>3</td><td>788</td><td>Nem</td></tr>",
                            "<tr><td>Fortuna Apartman</td><td>22</td><td>6</td><td>3</td><td>1038</td><td>Nem</td></tr>",
                            "<tr><td>Fortuna Apartman</td><td>22</td><td>6</td><td>3</td><td>1110</td><td>Nem</td></tr>",
                            "<tr><td>Fortuna Apartman</td><td>22</td><td>6</td><td>3</td><td>1151</td><td>Nem</td></tr>",
                            "<tr><td>Fortuna Apartman</td><td>22</td><td>6</td><td>3</td><td>1434</td><td>Nem</td></tr>",
                            "<tr><td>Fortuna Apartman</td><td>22</td><td>6</td><td>3</td><td>1544</td><td>Nem</td></tr>",
                            "<tr><td>Fortuna Apartman</td><td>23</td><td>7</td><td>2</td><td>629</td><td>Nem</td></tr>",
                            "<tr><td>Fortuna Apartman</td><td>23</td><td>7</td><td>2</td><td>666</td><td>Nem</td></tr>",
                            "<tr><td>Fortuna Apartman</td><td>23</td><td>7</td><td>2</td><td>788</td><td>Nem</td></tr>",
                            "<tr><td>Fortuna Apartman</td><td>23</td><td>7</td><td>2</td><td>1038</td><td>Nem</td></tr>",
                            "<tr><td>Fortuna Apartman</td><td>23</td><td>7</td><td>2</td><td>1110</td><td>Nem</td></tr>",
                            "<tr><td>Fortuna Apartman</td><td>23</td><td>7</td><td>2</td><td>1151</td><td>Nem</td></tr>",
                            "<tr><td>Fortuna Apartman</td><td>23</td><td>7</td><td>2</td><td>1434</td><td>Nem</td></tr>",
                            "<tr><td>Fortuna Apartman</td><td>23</td><td>7</td><td>2</td><td>1544</td><td>Nem</td></tr>",
                            "<tr><td>Fortuna Apartman</td><td>24</td><td>8</td><td>4</td><td>629</td><td>Nem</td></tr>",
                            "<tr><td>Fortuna Apartman</td><td>24</td><td>8</td><td>4</td><td>666</td><td>Nem</td></tr>",
                            "<tr><td>Fortuna Apartman</td><td>24</td><td>8</td><td>4</td><td>788</td><td>Nem</td></tr>",
                            "<tr><td>Fortuna Apartman</td><td>24</td><td>8</td><td>4</td><td>1038</td><td>Nem</td></tr>",
                            "<tr><td>Fortuna Apartman</td><td>24</td><td>8</td><td>4</td><td>1110</td><td>Nem</td></tr>",
                            "<tr><td>Fortuna Apartman</td><td>24</td><td>8</td><td>4</td><td>1151</td><td>Nem</td></tr>",
                            "<tr><td>Fortuna Apartman</td><td>24</td><td>8</td><td>4</td><td>1434</td><td>Nem</td></tr>",
                            "<tr><td>Fortuna Apartman</td><td>24</td><td>8</td><td>4</td><td>1544</td><td>Nem</td></tr>",
                            "<tr><td>Fortuna panzió</td><td>25</td><td>1</td><td>3</td><td>651</td><td>Igen</td></tr>",
                            "<tr><td>Fortuna panzió</td><td>25</td><td>1</td><td>3</td><td>946</td><td>Igen</td></tr>",
                            "<tr><td>Fortuna panzió</td><td>25</td><td>1</td><td>3</td><td>1001</td><td>Igen</td></tr>",
                            "<tr><td>Fortuna panzió</td><td>25</td><td>1</td><td>3</td><td>1127</td><td>Igen</td></tr>",
                            "<tr><td>Fortuna panzió</td><td>25</td><td>1</td><td>3</td><td>1132</td><td>Igen</td></tr>",
                            "<tr><td>Fortuna panzió</td><td>25</td><td>1</td><td>3</td><td>1492</td><td>Igen</td></tr>",
                            "<tr><td>Fortuna panzió</td><td>26</td><td>2</td><td>2</td><td>651</td><td>Igen</td></tr>",
                            "<tr><td>Fortuna panzió</td><td>26</td><td>2</td><td>2</td><td>946</td><td>Igen</td></tr>",
                            "<tr><td>Fortuna panzió</td><td>26</td><td>2</td><td>2</td><td>1001</td><td>Igen</td></tr>",
                            "<tr><td>Fortuna panzió</td><td>26</td><td>2</td><td>2</td><td>1127</td><td>Igen</td></tr>",
                            "<tr><td>Fortuna panzió</td><td>26</td><td>2</td><td>2</td><td>1132</td><td>Igen</td></tr>",
                            "<tr><td>Fortuna panzió</td><td>26</td><td>2</td><td>2</td><td>1492</td><td>Igen</td></tr>",
                            "<tr><td>Fortuna panzió</td><td>27</td><td>3</td><td>3</td><td>651</td><td>Igen</td></tr>",
                            "<tr><td>Fortuna panzió</td><td>27</td><td>3</td><td>3</td><td>946</td><td>Igen</td></tr>",
                            "<tr><td>Fortuna panzió</td><td>27</td><td>3</td><td>3</td><td>1001</td><td>Igen</td></tr>",
                            "<tr><td>Fortuna panzió</td><td>27</td><td>3</td><td>3</td><td>1127</td><td>Igen</td></tr>",
                            "<tr><td>Fortuna panzió</td><td>27</td><td>3</td><td>3</td><td>1132</td><td>Igen</td></tr>",
                            "<tr><td>Fortuna panzió</td><td>27</td><td>3</td><td>3</td><td>1492</td><td>Igen</td></tr>",
                            "<tr><td>Fortuna panzió</td><td>28</td><td>4</td><td>2</td><td>651</td><td>Igen</td></tr>",
                            "<tr><td>Fortuna panzió</td><td>28</td><td>4</td><td>2</td><td>946</td><td>Igen</td></tr>",
                            "<tr><td>Fortuna panzió</td><td>28</td><td>4</td><td>2</td><td>1001</td><td>Igen</td></tr>",
                            "<tr><td>Fortuna panzió</td><td>28</td><td>4</td><td>2</td><td>1127</td><td>Igen</td></tr>",
                            "<tr><td>Fortuna panzió</td><td>28</td><td>4</td><td>2</td><td>1132</td><td>Igen</td></tr>",
                            "<tr><td>Fortuna panzió</td><td>28</td><td>4</td><td>2</td><td>1492</td><td>Igen</td></tr>",
                            "<tr><td>Fortuna panzió</td><td>29</td><td>5</td><td>2</td><td>651</td><td>Igen</td></tr>",
                            "<tr><td>Fortuna panzió</td><td>29</td><td>5</td><td>2</td><td>946</td><td>Igen</td></tr>",
                            "<tr><td>Fortuna panzió</td><td>29</td><td>5</td><td>2</td><td>1001</td><td>Igen</td></tr>",
                            "<tr><td>Fortuna panzió</td><td>29</td><td>5</td><td>2</td><td>1127</td><td>Igen</td></tr>",
                            "<tr><td>Fortuna panzió</td><td>29</td><td>5</td><td>2</td><td>1132</td><td>Igen</td></tr>",
                            "<tr><td>Fortuna panzió</td><td>29</td><td>5</td><td>2</td><td>1492</td><td>Igen</td></tr>",
                            "<tr><td>Fortuna panzió</td><td>30</td><td>6</td><td>3</td><td>651</td><td>Igen</td></tr>",
                            "<tr><td>Fortuna panzió</td><td>30</td><td>6</td><td>3</td><td>946</td><td>Igen</td></tr>",
                            "<tr><td>Fortuna panzió</td><td>30</td><td>6</td><td>3</td><td>1001</td><td>Igen</td></tr>",
                            "<tr><td>Fortuna panzió</td><td>30</td><td>6</td><td>3</td><td>1127</td><td>Igen</td></tr>",
                            "<tr><td>Fortuna panzió</td><td>30</td><td>6</td><td>3</td><td>1132</td><td>Igen</td></tr>",
                            "<tr><td>Fortuna panzió</td><td>30</td><td>6</td><td>3</td><td>1492</td><td>Igen</td></tr>",
                            "<tr><td>Fortuna panzió</td><td>31</td><td>7</td><td>3</td><td>651</td><td>Igen</td></tr>",
                            "<tr><td>Fortuna panzió</td><td>31</td><td>7</td><td>3</td><td>946</td><td>Igen</td></tr>",
                            "<tr><td>Fortuna panzió</td><td>31</td><td>7</td><td>3</td><td>1001</td><td>Igen</td></tr>",
                            "<tr><td>Fortuna panzió</td><td>31</td><td>7</td><td>3</td><td>1127</td><td>Igen</td></tr>",
                            "<tr><td>Fortuna panzió</td><td>31</td><td>7</td><td>3</td><td>1132</td><td>Igen</td></tr>",
                            "<tr><td>Fortuna panzió</td><td>31</td><td>7</td><td>3</td><td>1492</td><td>Igen</td></tr>",
                            "<tr><td>Fortuna panzió</td><td>32</td><td>8</td><td>2</td><td>651</td><td>Igen</td></tr>",
                            "<tr><td>Fortuna panzió</td><td>32</td><td>8</td><td>2</td><td>946</td><td>Igen</td></tr>",
                            "<tr><td>Fortuna panzió</td><td>32</td><td>8</td><td>2</td><td>1001</td><td>Igen</td></tr>",
                            "<tr><td>Fortuna panzió</td><td>32</td><td>8</td><td>2</td><td>1127</td><td>Igen</td></tr>",
                            "<tr><td>Fortuna panzió</td><td>32</td><td>8</td><td>2</td><td>1132</td><td>Igen</td></tr>",
                            "<tr><td>Fortuna panzió</td><td>32</td><td>8</td><td>2</td><td>1492</td><td>Igen</td></tr>",
                            "<tr><td>Fortuna panzió</td><td>33</td><td>9</td><td>2</td><td>651</td><td>Igen</td></tr>",
                            "<tr><td>Fortuna panzió</td><td>33</td><td>9</td><td>2</td><td>946</td><td>Igen</td></tr>",
                            "<tr><td>Fortuna panzió</td><td>33</td><td>9</td><td>2</td><td>1001</td><td>Igen</td></tr>",
                            "<tr><td>Fortuna panzió</td><td>33</td><td>9</td><td>2</td><td>1127</td><td>Igen</td></tr>",
                            "<tr><td>Fortuna panzió</td><td>33</td><td>9</td><td>2</td><td>1132</td><td>Igen</td></tr>",
                            "<tr><td>Fortuna panzió</td><td>33</td><td>9</td><td>2</td><td>1492</td><td>Igen</td></tr>",
                            "<tr><td>Fortuna panzió</td><td>34</td><td>10</td><td>3</td><td>651</td><td>Igen</td></tr>",
                            "<tr><td>Fortuna panzió</td><td>34</td><td>10</td><td>3</td><td>946</td><td>Igen</td></tr>",
                            "<tr><td>Fortuna panzió</td><td>34</td><td>10</td><td>3</td><td>1001</td><td>Igen</td></tr>",
                            "<tr><td>Fortuna panzió</td><td>34</td><td>10</td><td>3</td><td>1127</td><td>Igen</td></tr>",
                            "<tr><td>Fortuna panzió</td><td>34</td><td>10</td><td>3</td><td>1132</td><td>Igen</td></tr>",
                            "<tr><td>Fortuna panzió</td><td>34</td><td>10</td><td>3</td><td>1492</td><td>Igen</td></tr>",
                            "<tr><td>Fortuna panzió</td><td>35</td><td>11</td><td>3</td><td>651</td><td>Igen</td></tr>",
                            "<tr><td>Fortuna panzió</td><td>35</td><td>11</td><td>3</td><td>946</td><td>Igen</td></tr>",
                            "<tr><td>Fortuna panzió</td><td>35</td><td>11</td><td>3</td><td>1001</td><td>Igen</td></tr>",
                            "<tr><td>Fortuna panzió</td><td>35</td><td>11</td><td>3</td><td>1127</td><td>Igen</td></tr>",
                            "<tr><td>Fortuna panzió</td><td>35</td><td>11</td><td>3</td><td>1132</td><td>Igen</td></tr>",
                            "<tr><td>Fortuna panzió</td><td>35</td><td>11</td><td>3</td><td>1492</td><td>Igen</td></tr>",
                            "<tr><td>Fortuna panzió</td><td>36</td><td>12</td><td>3</td><td>651</td><td>Igen</td></tr>",
                            "<tr><td>Fortuna panzió</td><td>36</td><td>12</td><td>3</td><td>946</td><td>Igen</td></tr>",
                            "<tr><td>Fortuna panzió</td><td>36</td><td>12</td><td>3</td><td>1001</td><td>Igen</td></tr>",
                            "<tr><td>Fortuna panzió</td><td>36</td><td>12</td><td>3</td><td>1127</td><td>Igen</td></tr>",
                            "<tr><td>Fortuna panzió</td><td>36</td><td>12</td><td>3</td><td>1132</td><td>Igen</td></tr>",
                            "<tr><td>Fortuna panzió</td><td>36</td><td>12</td><td>3</td><td>1492</td><td>Igen</td></tr>",
                            "<tr><td>Fortuna panzió</td><td>37</td><td>13</td><td>2</td><td>651</td><td>Igen</td></tr>",
                            "<tr><td>Fortuna panzió</td><td>37</td><td>13</td><td>2</td><td>946</td><td>Igen</td></tr>",
                            "<tr><td>Fortuna panzió</td><td>37</td><td>13</td><td>2</td><td>1001</td><td>Igen</td></tr>",
                            "<tr><td>Fortuna panzió</td><td>37</td><td>13</td><td>2</td><td>1127</td><td>Igen</td></tr>",
                            "<tr><td>Fortuna panzió</td><td>37</td><td>13</td><td>2</td><td>1132</td><td>Igen</td></tr>",
                            "<tr><td>Fortuna panzió</td><td>37</td><td>13</td><td>2</td><td>1492</td><td>Igen</td></tr>",
                            "<tr><td>Fortuna panzió</td><td>38</td><td>14</td><td>2</td><td>651</td><td>Igen</td></tr>",
                            "<tr><td>Fortuna panzió</td><td>38</td><td>14</td><td>2</td><td>946</td><td>Igen</td></tr>",
                            "<tr><td>Fortuna panzió</td><td>38</td><td>14</td><td>2</td><td>1001</td><td>Igen</td></tr>",
                            "<tr><td>Fortuna panzió</td><td>38</td><td>14</td><td>2</td><td>1127</td><td>Igen</td></tr>",
                            "<tr><td>Fortuna panzió</td><td>38</td><td>14</td><td>2</td><td>1132</td><td>Igen</td></tr>",
                            "<tr><td>Fortuna panzió</td><td>38</td><td>14</td><td>2</td><td>1492</td><td>Igen</td></tr>",
                            "<tr><td>Fortuna panzió</td><td>39</td><td>15</td><td>2</td><td>651</td><td>Igen</td></tr>",
                            "<tr><td>Fortuna panzió</td><td>39</td><td>15</td><td>2</td><td>946</td><td>Igen</td></tr>",
                            "<tr><td>Fortuna panzió</td><td>39</td><td>15</td><td>2</td><td>1001</td><td>Igen</td></tr>",
                            "<tr><td>Fortuna panzió</td><td>39</td><td>15</td><td>2</td><td>1127</td><td>Igen</td></tr>",
                            "<tr><td>Fortuna panzió</td><td>39</td><td>15</td><td>2</td><td>1132</td><td>Igen</td></tr>",
                            "<tr><td>Fortuna panzió</td><td>39</td><td>15</td><td>2</td><td>1492</td><td>Igen</td></tr>",
                            "<tr><td>Fortuna Panzió</td><td>40</td><td>1</td><td>3</td><td>564</td><td>Igen</td></tr>",
                            "<tr><td>Fortuna Panzió</td><td>40</td><td>1</td><td>3</td><td>965</td><td>Igen</td></tr>",
                            "<tr><td>Fortuna Panzió</td><td>40</td><td>1</td><td>3</td><td>1073</td><td>Igen</td></tr>",
                            "<tr><td>Fortuna Panzió</td><td>40</td><td>1</td><td>3</td><td>1257</td><td>Igen</td></tr>",
                            "<tr><td>Fortuna Panzió</td><td>41</td><td>2</td><td>3</td><td>564</td><td>Igen</td></tr>",
                            "<tr><td>Fortuna Panzió</td><td>41</td><td>2</td><td>3</td><td>965</td><td>Igen</td></tr>",
                            "<tr><td>Fortuna Panzió</td><td>41</td><td>2</td><td>3</td><td>1073</td><td>Igen</td></tr>",
                            "<tr><td>Fortuna Panzió</td><td>41</td><td>2</td><td>3</td><td>1257</td><td>Igen</td></tr>",
                            "<tr><td>Fortuna Panzió</td><td>42</td><td>3</td><td>2</td><td>564</td><td>Igen</td></tr>",
                            "<tr><td>Fortuna Panzió</td><td>42</td><td>3</td><td>2</td><td>965</td><td>Igen</td></tr>",
                            "<tr><td>Fortuna Panzió</td><td>42</td><td>3</td><td>2</td><td>1073</td><td>Igen</td></tr>",
                            "<tr><td>Fortuna Panzió</td><td>42</td><td>3</td><td>2</td><td>1257</td><td>Igen</td></tr>",
                            "<tr><td>Fortuna Panzió</td><td>43</td><td>4</td><td>3</td><td>564</td><td>Igen</td></tr>",
                            "<tr><td>Fortuna Panzió</td><td>43</td><td>4</td><td>3</td><td>965</td><td>Igen</td></tr>",
                            "<tr><td>Fortuna Panzió</td><td>43</td><td>4</td><td>3</td><td>1073</td><td>Igen</td></tr>",
                            "<tr><td>Fortuna Panzió</td><td>43</td><td>4</td><td>3</td><td>1257</td><td>Igen</td></tr>",
                            "<tr><td>Fortuna Panzió</td><td>44</td><td>5</td><td>3</td><td>564</td><td>Igen</td></tr>",
                            "<tr><td>Fortuna Panzió</td><td>44</td><td>5</td><td>3</td><td>965</td><td>Igen</td></tr>",
                            "<tr><td>Fortuna Panzió</td><td>44</td><td>5</td><td>3</td><td>1073</td><td>Igen</td></tr>",
                            "<tr><td>Fortuna Panzió</td><td>44</td><td>5</td><td>3</td><td>1257</td><td>Igen</td></tr>",
                            "<tr><td>Fortuna Panzió</td><td>45</td><td>6</td><td>2</td><td>564</td><td>Igen</td></tr>",
                            "<tr><td>Fortuna Panzió</td><td>45</td><td>6</td><td>2</td><td>965</td><td>Igen</td></tr>",
                            "<tr><td>Fortuna Panzió</td><td>45</td><td>6</td><td>2</td><td>1073</td><td>Igen</td></tr>",
                            "<tr><td>Fortuna Panzió</td><td>45</td><td>6</td><td>2</td><td>1257</td><td>Igen</td></tr>",
                            "<tr><td>Fortuna Panzió</td><td>46</td><td>7</td><td>3</td><td>564</td><td>Igen</td></tr>",
                            "<tr><td>Fortuna Panzió</td><td>46</td><td>7</td><td>3</td><td>965</td><td>Igen</td></tr>",
                            "<tr><td>Fortuna Panzió</td><td>46</td><td>7</td><td>3</td><td>1073</td><td>Igen</td></tr>",
                            "<tr><td>Fortuna Panzió</td><td>46</td><td>7</td><td>3</td><td>1257</td><td>Igen</td></tr>",
                            "<tr><td>Fortuna Panzió</td><td>47</td><td>8</td><td>2</td><td>564</td><td>Igen</td></tr>",
                            "<tr><td>Fortuna Panzió</td><td>47</td><td>8</td><td>2</td><td>965</td><td>Igen</td></tr>",
                            "<tr><td>Fortuna Panzió</td><td>47</td><td>8</td><td>2</td><td>1073</td><td>Igen</td></tr>",
                            "<tr><td>Fortuna Panzió</td><td>47</td><td>8</td><td>2</td><td>1257</td><td>Igen</td></tr>",
                            "<tr><td>Fortuna Panzió</td><td>48</td><td>9</td><td>3</td><td>564</td><td>Igen</td></tr>",
                            "<tr><td>Fortuna Panzió</td><td>48</td><td>9</td><td>3</td><td>965</td><td>Igen</td></tr>",
                            "<tr><td>Fortuna Panzió</td><td>48</td><td>9</td><td>3</td><td>1073</td><td>Igen</td></tr>",
                            "<tr><td>Fortuna Panzió</td><td>48</td><td>9</td><td>3</td><td>1257</td><td>Igen</td></tr>",
                            "<tr><td>Fortuna Panzió</td><td>49</td><td>10</td><td>3</td><td>564</td><td>Igen</td></tr>",
                            "<tr><td>Fortuna Panzió</td><td>49</td><td>10</td><td>3</td><td>965</td><td>Igen</td></tr>",
                            "<tr><td>Fortuna Panzió</td><td>49</td><td>10</td><td>3</td><td>1073</td><td>Igen</td></tr>",
                            "<tr><td>Fortuna Panzió</td><td>49</td><td>10</td><td>3</td><td>1257</td><td>Igen</td></tr>",
                            "<tr><td>Kentaur Hotel</td><td>50</td><td>1</td><td>2</td><td>560</td><td>Nem</td></tr>",
                            "<tr><td>Kentaur Hotel</td><td>50</td><td>1</td><td>2</td><td>772</td><td>Nem</td></tr>",
                            "<tr><td>Kentaur Hotel</td><td>50</td><td>1</td><td>2</td><td>850</td><td>Nem</td></tr>",
                            "<tr><td>Kentaur Hotel</td><td>50</td><td>1</td><td>2</td><td>873</td><td>Nem</td></tr>",
                            "<tr><td>Kentaur Hotel</td><td>50</td><td>1</td><td>2</td><td>990</td><td>Nem</td></tr>",
                            "<tr><td>Kentaur Hotel</td><td>50</td><td>1</td><td>2</td><td>1099</td><td>Nem</td></tr>",
                            "<tr><td>Kentaur Hotel</td><td>51</td><td>2</td><td>3</td><td>560</td><td>Nem</td></tr>",
                            "<tr><td>Kentaur Hotel</td><td>51</td><td>2</td><td>3</td><td>772</td><td>Nem</td></tr>",
                            "<tr><td>Kentaur Hotel</td><td>51</td><td>2</td><td>3</td><td>850</td><td>Nem</td></tr>",
                            "<tr><td>Kentaur Hotel</td><td>51</td><td>2</td><td>3</td><td>873</td><td>Nem</td></tr>",
                            "<tr><td>Kentaur Hotel</td><td>51</td><td>2</td><td>3</td><td>990</td><td>Nem</td></tr>",
                            "<tr><td>Kentaur Hotel</td><td>51</td><td>2</td><td>3</td><td>1099</td><td>Nem</td></tr>",
                            "<tr><td>Kentaur Hotel</td><td>52</td><td>3</td><td>2</td><td>560</td><td>Nem</td></tr>",
                            "<tr><td>Kentaur Hotel</td><td>52</td><td>3</td><td>2</td><td>772</td><td>Nem</td></tr>",
                            "<tr><td>Kentaur Hotel</td><td>52</td><td>3</td><td>2</td><td>850</td><td>Nem</td></tr>",
                            "<tr><td>Kentaur Hotel</td><td>52</td><td>3</td><td>2</td><td>873</td><td>Nem</td></tr>",
                            "<tr><td>Kentaur Hotel</td><td>52</td><td>3</td><td>2</td><td>990</td><td>Nem</td></tr>",
                            "<tr><td>Kentaur Hotel</td><td>52</td><td>3</td><td>2</td><td>1099</td><td>Nem</td></tr>",
                            "<tr><td>Kentaur Hotel</td><td>53</td><td>4</td><td>2</td><td>560</td><td>Nem</td></tr>",
                            "<tr><td>Kentaur Hotel</td><td>53</td><td>4</td><td>2</td><td>772</td><td>Nem</td></tr>",
                            "<tr><td>Kentaur Hotel</td><td>53</td><td>4</td><td>2</td><td>850</td><td>Nem</td></tr>",
                            "<tr><td>Kentaur Hotel</td><td>53</td><td>4</td><td>2</td><td>873</td><td>Nem</td></tr>",
                            "<tr><td>Kentaur Hotel</td><td>53</td><td>4</td><td>2</td><td>990</td><td>Nem</td></tr>",
                            "<tr><td>Kentaur Hotel</td><td>53</td><td>4</td><td>2</td><td>1099</td><td>Nem</td></tr>",
                            "<tr><td>Kentaur Hotel</td><td>54</td><td>5</td><td>3</td><td>560</td><td>Nem</td></tr>",
                            "<tr><td>Kentaur Hotel</td><td>54</td><td>5</td><td>3</td><td>772</td><td>Nem</td></tr>",
                            "<tr><td>Kentaur Hotel</td><td>54</td><td>5</td><td>3</td><td>850</td><td>Nem</td></tr>",
                            "<tr><td>Kentaur Hotel</td><td>54</td><td>5</td><td>3</td><td>873</td><td>Nem</td></tr>",
                            "<tr><td>Kentaur Hotel</td><td>54</td><td>5</td><td>3</td><td>990</td><td>Nem</td></tr>",
                            "<tr><td>Kentaur Hotel</td><td>54</td><td>5</td><td>3</td><td>1099</td><td>Nem</td></tr>",
                            "<tr><td>Kentaur Hotel</td><td>55</td><td>6</td><td>2</td><td>560</td><td>Nem</td></tr>",
                            "<tr><td>Kentaur Hotel</td><td>55</td><td>6</td><td>2</td><td>772</td><td>Nem</td></tr>",
                            "<tr><td>Kentaur Hotel</td><td>55</td><td>6</td><td>2</td><td>850</td><td>Nem</td></tr>",
                            "<tr><td>Kentaur Hotel</td><td>55</td><td>6</td><td>2</td><td>873</td><td>Nem</td></tr>",
                            "<tr><td>Kentaur Hotel</td><td>55</td><td>6</td><td>2</td><td>990</td><td>Nem</td></tr>",
                            "<tr><td>Kentaur Hotel</td><td>55</td><td>6</td><td>2</td><td>1099</td><td>Nem</td></tr>",
                            "<tr><td>Kentaur Hotel</td><td>56</td><td>7</td><td>2</td><td>560</td><td>Nem</td></tr>",
                            "<tr><td>Kentaur Hotel</td><td>56</td><td>7</td><td>2</td><td>772</td><td>Nem</td></tr>",
                            "<tr><td>Kentaur Hotel</td><td>56</td><td>7</td><td>2</td><td>850</td><td>Nem</td></tr>",
                            "<tr><td>Kentaur Hotel</td><td>56</td><td>7</td><td>2</td><td>873</td><td>Nem</td></tr>",
                            "<tr><td>Kentaur Hotel</td><td>56</td><td>7</td><td>2</td><td>990</td><td>Nem</td></tr>",
                            "<tr><td>Kentaur Hotel</td><td>56</td><td>7</td><td>2</td><td>1099</td><td>Nem</td></tr>",
                            "<tr><td>Kentaur Hotel</td><td>57</td><td>8</td><td>2</td><td>560</td><td>Nem</td></tr>",
                            "<tr><td>Kentaur Hotel</td><td>57</td><td>8</td><td>2</td><td>772</td><td>Nem</td></tr>",
                            "<tr><td>Kentaur Hotel</td><td>57</td><td>8</td><td>2</td><td>850</td><td>Nem</td></tr>",
                            "<tr><td>Kentaur Hotel</td><td>57</td><td>8</td><td>2</td><td>873</td><td>Nem</td></tr>",
                            "<tr><td>Kentaur Hotel</td><td>57</td><td>8</td><td>2</td><td>990</td><td>Nem</td></tr>",
                            "<tr><td>Kentaur Hotel</td><td>57</td><td>8</td><td>2</td><td>1099</td><td>Nem</td></tr>",
                            "<tr><td>Kentaur Hotel</td><td>58</td><td>9</td><td>2</td><td>560</td><td>Nem</td></tr>",
                            "<tr><td>Kentaur Hotel</td><td>58</td><td>9</td><td>2</td><td>772</td><td>Nem</td></tr>",
                            "<tr><td>Kentaur Hotel</td><td>58</td><td>9</td><td>2</td><td>850</td><td>Nem</td></tr>",
                            "<tr><td>Kentaur Hotel</td><td>58</td><td>9</td><td>2</td><td>873</td><td>Nem</td></tr>",
                            "<tr><td>Kentaur Hotel</td><td>58</td><td>9</td><td>2</td><td>990</td><td>Nem</td></tr>",
                            "<tr><td>Kentaur Hotel</td><td>58</td><td>9</td><td>2</td><td>1099</td><td>Nem</td></tr>",
                            "<tr><td>Kentaur Hotel</td><td>59</td><td>10</td><td>2</td><td>560</td><td>Nem</td></tr>",
                            "<tr><td>Kentaur Hotel</td><td>59</td><td>10</td><td>2</td><td>772</td><td>Nem</td></tr>",
                            "<tr><td>Kentaur Hotel</td><td>59</td><td>10</td><td>2</td><td>850</td><td>Nem</td></tr>",
                            "<tr><td>Kentaur Hotel</td><td>59</td><td>10</td><td>2</td><td>873</td><td>Nem</td></tr>",
                            "<tr><td>Kentaur Hotel</td><td>59</td><td>10</td><td>2</td><td>990</td><td>Nem</td></tr>",
                            "<tr><td>Kentaur Hotel</td><td>59</td><td>10</td><td>2</td><td>1099</td><td>Nem</td></tr>",
                            "<tr><td>Kentaur Hotel</td><td>60</td><td>11</td><td>3</td><td>560</td><td>Nem</td></tr>",
                            "<tr><td>Kentaur Hotel</td><td>60</td><td>11</td><td>3</td><td>772</td><td>Nem</td></tr>",
                            "<tr><td>Kentaur Hotel</td><td>60</td><td>11</td><td>3</td><td>850</td><td>Nem</td></tr>",
                            "<tr><td>Kentaur Hotel</td><td>60</td><td>11</td><td>3</td><td>873</td><td>Nem</td></tr>",
                            "<tr><td>Kentaur Hotel</td><td>60</td><td>11</td><td>3</td><td>990</td><td>Nem</td></tr>",
                            "<tr><td>Kentaur Hotel</td><td>60</td><td>11</td><td>3</td><td>1099</td><td>Nem</td></tr>",
                            "<tr><td>Kentaur Hotel</td><td>61</td><td>12</td><td>3</td><td>560</td><td>Nem</td></tr>",
                            "<tr><td>Kentaur Hotel</td><td>61</td><td>12</td><td>3</td><td>772</td><td>Nem</td></tr>",
                            "<tr><td>Kentaur Hotel</td><td>61</td><td>12</td><td>3</td><td>850</td><td>Nem</td></tr>",
                            "<tr><td>Kentaur Hotel</td><td>61</td><td>12</td><td>3</td><td>873</td><td>Nem</td></tr>",
                            "<tr><td>Kentaur Hotel</td><td>61</td><td>12</td><td>3</td><td>990</td><td>Nem</td></tr>",
                            "<tr><td>Kentaur Hotel</td><td>61</td><td>12</td><td>3</td><td>1099</td><td>Nem</td></tr>",
                            "<tr><td>Kentaur Hotel</td><td>62</td><td>13</td><td>2</td><td>560</td><td>Nem</td></tr>",
                            "<tr><td>Kentaur Hotel</td><td>62</td><td>13</td><td>2</td><td>772</td><td>Nem</td></tr>",
                            "<tr><td>Kentaur Hotel</td><td>62</td><td>13</td><td>2</td><td>850</td><td>Nem</td></tr>",
                            "<tr><td>Kentaur Hotel</td><td>62</td><td>13</td><td>2</td><td>873</td><td>Nem</td></tr>",
                            "<tr><td>Kentaur Hotel</td><td>62</td><td>13</td><td>2</td><td>990</td><td>Nem</td></tr>",
                            "<tr><td>Kentaur Hotel</td><td>62</td><td>13</td><td>2</td><td>1099</td><td>Nem</td></tr>",
                            "<tr><td>Kentaur Hotel</td><td>63</td><td>14</td><td>2</td><td>560</td><td>Nem</td></tr>",
                            "<tr><td>Kentaur Hotel</td><td>63</td><td>14</td><td>2</td><td>772</td><td>Nem</td></tr>",
                            "<tr><td>Kentaur Hotel</td><td>63</td><td>14</td><td>2</td><td>850</td><td>Nem</td></tr>",
                            "<tr><td>Kentaur Hotel</td><td>63</td><td>14</td><td>2</td><td>873</td><td>Nem</td></tr>",
                            "<tr><td>Kentaur Hotel</td><td>63</td><td>14</td><td>2</td><td>990</td><td>Nem</td></tr>",
                            "<tr><td>Kentaur Hotel</td><td>63</td><td>14</td><td>2</td><td>1099</td><td>Nem</td></tr>",
                            "<tr><td>Kentaur Hotel</td><td>64</td><td>15</td><td>2</td><td>560</td><td>Nem</td></tr>",
                            "<tr><td>Kentaur Hotel</td><td>64</td><td>15</td><td>2</td><td>772</td><td>Nem</td></tr>",
                            "<tr><td>Kentaur Hotel</td><td>64</td><td>15</td><td>2</td><td>850</td><td>Nem</td></tr>",
                            "<tr><td>Kentaur Hotel</td><td>64</td><td>15</td><td>2</td><td>873</td><td>Nem</td></tr>",
                            "<tr><td>Kentaur Hotel</td><td>64</td><td>15</td><td>2</td><td>990</td><td>Nem</td></tr>",
                            "<tr><td>Kentaur Hotel</td><td>64</td><td>15</td><td>2</td><td>1099</td><td>Nem</td></tr>",
                            "<tr><td>Kentaur Hotel</td><td>65</td><td>16</td><td>2</td><td>560</td><td>Nem</td></tr>",
                            "<tr><td>Kentaur Hotel</td><td>65</td><td>16</td><td>2</td><td>772</td><td>Nem</td></tr>",
                            "<tr><td>Kentaur Hotel</td><td>65</td><td>16</td><td>2</td><td>850</td><td>Nem</td></tr>",
                            "<tr><td>Kentaur Hotel</td><td>65</td><td>16</td><td>2</td><td>873</td><td>Nem</td></tr>",
                            "<tr><td>Kentaur Hotel</td><td>65</td><td>16</td><td>2</td><td>990</td><td>Nem</td></tr>",
                            "<tr><td>Kentaur Hotel</td><td>65</td><td>16</td><td>2</td><td>1099</td><td>Nem</td></tr>",
                            "<tr><td>Kentaur Hotel</td><td>66</td><td>17</td><td>3</td><td>560</td><td>Nem</td></tr>",
                            "<tr><td>Kentaur Hotel</td><td>66</td><td>17</td><td>3</td><td>772</td><td>Nem</td></tr>",
                            "<tr><td>Kentaur Hotel</td><td>66</td><td>17</td><td>3</td><td>850</td><td>Nem</td></tr>",
                            "<tr><td>Kentaur Hotel</td><td>66</td><td>17</td><td>3</td><td>873</td><td>Nem</td></tr>",
                            "<tr><td>Kentaur Hotel</td><td>66</td><td>17</td><td>3</td><td>990</td><td>Nem</td></tr>",
                            "<tr><td>Kentaur Hotel</td><td>66</td><td>17</td><td>3</td><td>1099</td><td>Nem</td></tr>",
                            "<tr><td>Kentaur Hotel</td><td>67</td><td>18</td><td>2</td><td>560</td><td>Nem</td></tr>",
                            "<tr><td>Kentaur Hotel</td><td>67</td><td>18</td><td>2</td><td>772</td><td>Nem</td></tr>",
                            "<tr><td>Kentaur Hotel</td><td>67</td><td>18</td><td>2</td><td>850</td><td>Nem</td></tr>",
                            "<tr><td>Kentaur Hotel</td><td>67</td><td>18</td><td>2</td><td>873</td><td>Nem</td></tr>",
                            "<tr><td>Kentaur Hotel</td><td>67</td><td>18</td><td>2</td><td>990</td><td>Nem</td></tr>",
                            "<tr><td>Kentaur Hotel</td><td>67</td><td>18</td><td>2</td><td>1099</td><td>Nem</td></tr>",
                            "<tr><td>Kentaur Hotel</td><td>68</td><td>19</td><td>2</td><td>560</td><td>Nem</td></tr>",
                            "<tr><td>Kentaur Hotel</td><td>68</td><td>19</td><td>2</td><td>772</td><td>Nem</td></tr>",
                            "<tr><td>Kentaur Hotel</td><td>68</td><td>19</td><td>2</td><td>850</td><td>Nem</td></tr>",
                            "<tr><td>Kentaur Hotel</td><td>68</td><td>19</td><td>2</td><td>873</td><td>Nem</td></tr>",
                            "<tr><td>Kentaur Hotel</td><td>68</td><td>19</td><td>2</td><td>990</td><td>Nem</td></tr>",
                            "<tr><td>Kentaur Hotel</td><td>68</td><td>19</td><td>2</td><td>1099</td><td>Nem</td></tr>",
                            "<tr><td>Kentaur Hotel</td><td>69</td><td>20</td><td>3</td><td>560</td><td>Nem</td></tr>",
                            "<tr><td>Kentaur Hotel</td><td>69</td><td>20</td><td>3</td><td>772</td><td>Nem</td></tr>",
                            "<tr><td>Kentaur Hotel</td><td>69</td><td>20</td><td>3</td><td>850</td><td>Nem</td></tr>",
                            "<tr><td>Kentaur Hotel</td><td>69</td><td>20</td><td>3</td><td>873</td><td>Nem</td></tr>",
                            "<tr><td>Kentaur Hotel</td><td>69</td><td>20</td><td>3</td><td>990</td><td>Nem</td></tr>",
                            "<tr><td>Kentaur Hotel</td><td>69</td><td>20</td><td>3</td><td>1099</td><td>Nem</td></tr>",
                            "<tr><td>Kentaur Hotel</td><td>70</td><td>21</td><td>2</td><td>560</td><td>Nem</td></tr>",
                            "<tr><td>Kentaur Hotel</td><td>70</td><td>21</td><td>2</td><td>772</td><td>Nem</td></tr>",
                            "<tr><td>Kentaur Hotel</td><td>70</td><td>21</td><td>2</td><td>850</td><td>Nem</td></tr>",
                            "<tr><td>Kentaur Hotel</td><td>70</td><td>21</td><td>2</td><td>873</td><td>Nem</td></tr>",
                            "<tr><td>Kentaur Hotel</td><td>70</td><td>21</td><td>2</td><td>990</td><td>Nem</td></tr>",
                            "<tr><td>Kentaur Hotel</td><td>70</td><td>21</td><td>2</td><td>1099</td><td>Nem</td></tr>",
                            "<tr><td>Kentaur Hotel</td><td>71</td><td>22</td><td>3</td><td>560</td><td>Nem</td></tr>",
                            "<tr><td>Kentaur Hotel</td><td>71</td><td>22</td><td>3</td><td>772</td><td>Nem</td></tr>",
                            "<tr><td>Kentaur Hotel</td><td>71</td><td>22</td><td>3</td><td>850</td><td>Nem</td></tr>",
                            "<tr><td>Kentaur Hotel</td><td>71</td><td>22</td><td>3</td><td>873</td><td>Nem</td></tr>",
                            "<tr><td>Kentaur Hotel</td><td>71</td><td>22</td><td>3</td><td>990</td><td>Nem</td></tr>",
                            "<tr><td>Kentaur Hotel</td><td>71</td><td>22</td><td>3</td><td>1099</td><td>Nem</td></tr>",
                            "<tr><td>Kentaur Hotel</td><td>72</td><td>23</td><td>2</td><td>560</td><td>Nem</td></tr>",
                            "<tr><td>Kentaur Hotel</td><td>72</td><td>23</td><td>2</td><td>772</td><td>Nem</td></tr>",
                            "<tr><td>Kentaur Hotel</td><td>72</td><td>23</td><td>2</td><td>850</td><td>Nem</td></tr>",
                            "<tr><td>Kentaur Hotel</td><td>72</td><td>23</td><td>2</td><td>873</td><td>Nem</td></tr>",
                            "<tr><td>Kentaur Hotel</td><td>72</td><td>23</td><td>2</td><td>990</td><td>Nem</td></tr>",
                            "<tr><td>Kentaur Hotel</td><td>72</td><td>23</td><td>2</td><td>1099</td><td>Nem</td></tr>",
                            "<tr><td>Kentaur Hotel</td><td>73</td><td>24</td><td>2</td><td>560</td><td>Nem</td></tr>",
                            "<tr><td>Kentaur Hotel</td><td>73</td><td>24</td><td>2</td><td>772</td><td>Nem</td></tr>",
                            "<tr><td>Kentaur Hotel</td><td>73</td><td>24</td><td>2</td><td>850</td><td>Nem</td></tr>",
                            "<tr><td>Kentaur Hotel</td><td>73</td><td>24</td><td>2</td><td>873</td><td>Nem</td></tr>",
                            "<tr><td>Kentaur Hotel</td><td>73</td><td>24</td><td>2</td><td>990</td><td>Nem</td></tr>",
                            "<tr><td>Kentaur Hotel</td><td>73</td><td>24</td><td>2</td><td>1099</td><td>Nem</td></tr>",
                            "<tr><td>Kentaur Hotel</td><td>74</td><td>25</td><td>3</td><td>560</td><td>Nem</td></tr>",
                            "<tr><td>Kentaur Hotel</td><td>74</td><td>25</td><td>3</td><td>772</td><td>Nem</td></tr>",
                            "<tr><td>Kentaur Hotel</td><td>74</td><td>25</td><td>3</td><td>850</td><td>Nem</td></tr>",
                            "<tr><td>Kentaur Hotel</td><td>74</td><td>25</td><td>3</td><td>873</td><td>Nem</td></tr>",
                            "<tr><td>Kentaur Hotel</td><td>74</td><td>25</td><td>3</td><td>990</td><td>Nem</td></tr>",
                            "<tr><td>Kentaur Hotel</td><td>74</td><td>25</td><td>3</td><td>1099</td><td>Nem</td></tr>",
                            "<tr><td>Kentaur Hotel</td><td>75</td><td>26</td><td>2</td><td>560</td><td>Nem</td></tr>",
                            "<tr><td>Kentaur Hotel</td><td>75</td><td>26</td><td>2</td><td>772</td><td>Nem</td></tr>",
                            "<tr><td>Kentaur Hotel</td><td>75</td><td>26</td><td>2</td><td>850</td><td>Nem</td></tr>",
                            "<tr><td>Kentaur Hotel</td><td>75</td><td>26</td><td>2</td><td>873</td><td>Nem</td></tr>",
                            "<tr><td>Kentaur Hotel</td><td>75</td><td>26</td><td>2</td><td>990</td><td>Nem</td></tr>",
                            "<tr><td>Kentaur Hotel</td><td>75</td><td>26</td><td>2</td><td>1099</td><td>Nem</td></tr>",
                            "<tr><td>Kentaur Hotel</td><td>76</td><td>27</td><td>2</td><td>560</td><td>Nem</td></tr>",
                            "<tr><td>Kentaur Hotel</td><td>76</td><td>27</td><td>2</td><td>772</td><td>Nem</td></tr>",
                            "<tr><td>Kentaur Hotel</td><td>76</td><td>27</td><td>2</td><td>850</td><td>Nem</td></tr>",
                            "<tr><td>Kentaur Hotel</td><td>76</td><td>27</td><td>2</td><td>873</td><td>Nem</td></tr>",
                            "<tr><td>Kentaur Hotel</td><td>76</td><td>27</td><td>2</td><td>990</td><td>Nem</td></tr>",
                            "<tr><td>Kentaur Hotel</td><td>76</td><td>27</td><td>2</td><td>1099</td><td>Nem</td></tr>",
                            "<tr><td>Kentaur Hotel</td><td>77</td><td>28</td><td>3</td><td>560</td><td>Nem</td></tr>",
                            "<tr><td>Kentaur Hotel</td><td>77</td><td>28</td><td>3</td><td>772</td><td>Nem</td></tr>",
                            "<tr><td>Kentaur Hotel</td><td>77</td><td>28</td><td>3</td><td>850</td><td>Nem</td></tr>",
                            "<tr><td>Kentaur Hotel</td><td>77</td><td>28</td><td>3</td><td>873</td><td>Nem</td></tr>",
                            "<tr><td>Kentaur Hotel</td><td>77</td><td>28</td><td>3</td><td>990</td><td>Nem</td></tr>",
                            "<tr><td>Kentaur Hotel</td><td>77</td><td>28</td><td>3</td><td>1099</td><td>Nem</td></tr>",
                            "<tr><td>Kentaur Hotel</td><td>78</td><td>29</td><td>2</td><td>560</td><td>Nem</td></tr>",
                            "<tr><td>Kentaur Hotel</td><td>78</td><td>29</td><td>2</td><td>772</td><td>Nem</td></tr>",
                            "<tr><td>Kentaur Hotel</td><td>78</td><td>29</td><td>2</td><td>850</td><td>Nem</td></tr>",
                            "<tr><td>Kentaur Hotel</td><td>78</td><td>29</td><td>2</td><td>873</td><td>Nem</td></tr>",
                            "<tr><td>Kentaur Hotel</td><td>78</td><td>29</td><td>2</td><td>990</td><td>Nem</td></tr>",
                            "<tr><td>Kentaur Hotel</td><td>78</td><td>29</td><td>2</td><td>1099</td><td>Nem</td></tr>",
                            "<tr><td>Kentaur Hotel</td><td>79</td><td>30</td><td>3</td><td>560</td><td>Nem</td></tr>",
                            "<tr><td>Kentaur Hotel</td><td>79</td><td>30</td><td>3</td><td>772</td><td>Nem</td></tr>",
                            "<tr><td>Kentaur Hotel</td><td>79</td><td>30</td><td>3</td><td>850</td><td>Nem</td></tr>",
                            "<tr><td>Kentaur Hotel</td><td>79</td><td>30</td><td>3</td><td>873</td><td>Nem</td></tr>",
                            "<tr><td>Kentaur Hotel</td><td>79</td><td>30</td><td>3</td><td>990</td><td>Nem</td></tr>",
                            "<tr><td>Kentaur Hotel</td><td>79</td><td>30</td><td>3</td><td>1099</td><td>Nem</td></tr>",
                            "<tr><td>Kentaur Hotel</td><td>80</td><td>31</td><td>2</td><td>560</td><td>Nem</td></tr>",
                            "<tr><td>Kentaur Hotel</td><td>80</td><td>31</td><td>2</td><td>772</td><td>Nem</td></tr>",
                            "<tr><td>Kentaur Hotel</td><td>80</td><td>31</td><td>2</td><td>850</td><td>Nem</td></tr>",
                            "<tr><td>Kentaur Hotel</td><td>80</td><td>31</td><td>2</td><td>873</td><td>Nem</td></tr>",
                            "<tr><td>Kentaur Hotel</td><td>80</td><td>31</td><td>2</td><td>990</td><td>Nem</td></tr>",
                            "<tr><td>Kentaur Hotel</td><td>80</td><td>31</td><td>2</td><td>1099</td><td>Nem</td></tr>",
                            "<tr><td>Kentaur Hotel</td><td>81</td><td>32</td><td>2</td><td>560</td><td>Nem</td></tr>",
                            "<tr><td>Kentaur Hotel</td><td>81</td><td>32</td><td>2</td><td>772</td><td>Nem</td></tr>",
                            "<tr><td>Kentaur Hotel</td><td>81</td><td>32</td><td>2</td><td>850</td><td>Nem</td></tr>",
                            "<tr><td>Kentaur Hotel</td><td>81</td><td>32</td><td>2</td><td>873</td><td>Nem</td></tr>",
                            "<tr><td>Kentaur Hotel</td><td>81</td><td>32</td><td>2</td><td>990</td><td>Nem</td></tr>",
                            "<tr><td>Kentaur Hotel</td><td>81</td><td>32</td><td>2</td><td>1099</td><td>Nem</td></tr>",
                            "<tr><td>Kentaur Hotel</td><td>82</td><td>33</td><td>3</td><td>560</td><td>Nem</td></tr>",
                            "<tr><td>Kentaur Hotel</td><td>82</td><td>33</td><td>3</td><td>772</td><td>Nem</td></tr>",
                            "<tr><td>Kentaur Hotel</td><td>82</td><td>33</td><td>3</td><td>850</td><td>Nem</td></tr>",
                            "<tr><td>Kentaur Hotel</td><td>82</td><td>33</td><td>3</td><td>873</td><td>Nem</td></tr>",
                            "<tr><td>Kentaur Hotel</td><td>82</td><td>33</td><td>3</td><td>990</td><td>Nem</td></tr>",
                            "<tr><td>Kentaur Hotel</td><td>82</td><td>33</td><td>3</td><td>1099</td><td>Nem</td></tr>",
                            "<tr><td>Kentaur Hotel</td><td>83</td><td>34</td><td>3</td><td>560</td><td>Nem</td></tr>",
                            "<tr><td>Kentaur Hotel</td><td>83</td><td>34</td><td>3</td><td>772</td><td>Nem</td></tr>",
                            "<tr><td>Kentaur Hotel</td><td>83</td><td>34</td><td>3</td><td>850</td><td>Nem</td></tr>",
                            "<tr><td>Kentaur Hotel</td><td>83</td><td>34</td><td>3</td><td>873</td><td>Nem</td></tr>",
                            "<tr><td>Kentaur Hotel</td><td>83</td><td>34</td><td>3</td><td>990</td><td>Nem</td></tr>",
                            "<tr><td>Kentaur Hotel</td><td>83</td><td>34</td><td>3</td><td>1099</td><td>Nem</td></tr>",
                            "<tr><td>Kentaur Hotel</td><td>84</td><td>35</td><td>3</td><td>560</td><td>Nem</td></tr>",
                            "<tr><td>Kentaur Hotel</td><td>84</td><td>35</td><td>3</td><td>772</td><td>Nem</td></tr>",
                            "<tr><td>Kentaur Hotel</td><td>84</td><td>35</td><td>3</td><td>850</td><td>Nem</td></tr>",
                            "<tr><td>Kentaur Hotel</td><td>84</td><td>35</td><td>3</td><td>873</td><td>Nem</td></tr>",
                            "<tr><td>Kentaur Hotel</td><td>84</td><td>35</td><td>3</td><td>990</td><td>Nem</td></tr>",
                            "<tr><td>Kentaur Hotel</td><td>84</td><td>35</td><td>3</td><td>1099</td><td>Nem</td></tr>",
                            "<tr><td>Szieszta Apartmanház</td><td>85</td><td>1</td><td>2</td><td>562</td><td>Nem</td></tr>",
                            "<tr><td>Szieszta Apartmanház</td><td>85</td><td>1</td><td>2</td><td>759</td><td>Nem</td></tr>",
                            "<tr><td>Szieszta Apartmanház</td><td>85</td><td>1</td><td>2</td><td>1131</td><td>Nem</td></tr>",
                            "<tr><td>Szieszta Apartmanház</td><td>85</td><td>1</td><td>2</td><td>1175</td><td>Nem</td></tr>",
                            "<tr><td>Szieszta Apartmanház</td><td>85</td><td>1</td><td>2</td><td>1182</td><td>Nem</td></tr>",
                            "<tr><td>Szieszta Apartmanház</td><td>85</td><td>1</td><td>2</td><td>1252</td><td>Nem</td></tr>",
                            "<tr><td>Szieszta Apartmanház</td><td>86</td><td>2</td><td>2</td><td>562</td><td>Nem</td></tr>",
                            "<tr><td>Szieszta Apartmanház</td><td>86</td><td>2</td><td>2</td><td>759</td><td>Nem</td></tr>",
                            "<tr><td>Szieszta Apartmanház</td><td>86</td><td>2</td><td>2</td><td>1131</td><td>Nem</td></tr>",
                            "<tr><td>Szieszta Apartmanház</td><td>86</td><td>2</td><td>2</td><td>1175</td><td>Nem</td></tr>",
                            "<tr><td>Szieszta Apartmanház</td><td>86</td><td>2</td><td>2</td><td>1182</td><td>Nem</td></tr>",
                            "<tr><td>Szieszta Apartmanház</td><td>86</td><td>2</td><td>2</td><td>1252</td><td>Nem</td></tr>",
                            "<tr><td>Szieszta Apartmanház</td><td>87</td><td>3</td><td>3</td><td>562</td><td>Nem</td></tr>",
                            "<tr><td>Szieszta Apartmanház</td><td>87</td><td>3</td><td>3</td><td>759</td><td>Nem</td></tr>",
                            "<tr><td>Szieszta Apartmanház</td><td>87</td><td>3</td><td>3</td><td>1131</td><td>Nem</td></tr>",
                            "<tr><td>Szieszta Apartmanház</td><td>87</td><td>3</td><td>3</td><td>1175</td><td>Nem</td></tr>",
                            "<tr><td>Szieszta Apartmanház</td><td>87</td><td>3</td><td>3</td><td>1182</td><td>Nem</td></tr>",
                            "<tr><td>Szieszta Apartmanház</td><td>87</td><td>3</td><td>3</td><td>1252</td><td>Nem</td></tr>",
                            "<tr><td>Szieszta Apartmanház</td><td>88</td><td>4</td><td>3</td><td>562</td><td>Nem</td></tr>",
                            "<tr><td>Szieszta Apartmanház</td><td>88</td><td>4</td><td>3</td><td>759</td><td>Nem</td></tr>",
                            "<tr><td>Szieszta Apartmanház</td><td>88</td><td>4</td><td>3</td><td>1131</td><td>Nem</td></tr>",
                            "<tr><td>Szieszta Apartmanház</td><td>88</td><td>4</td><td>3</td><td>1175</td><td>Nem</td></tr>",
                            "<tr><td>Szieszta Apartmanház</td><td>88</td><td>4</td><td>3</td><td>1182</td><td>Nem</td></tr>",
                            "<tr><td>Szieszta Apartmanház</td><td>88</td><td>4</td><td>3</td><td>1252</td><td>Nem</td></tr>",
                            "<tr><td>Szieszta Apartmanház</td><td>89</td><td>5</td><td>3</td><td>562</td><td>Nem</td></tr>",
                            "<tr><td>Szieszta Apartmanház</td><td>89</td><td>5</td><td>3</td><td>759</td><td>Nem</td></tr>",
                            "<tr><td>Szieszta Apartmanház</td><td>89</td><td>5</td><td>3</td><td>1131</td><td>Nem</td></tr>",
                            "<tr><td>Szieszta Apartmanház</td><td>89</td><td>5</td><td>3</td><td>1175</td><td>Nem</td></tr>",
                            "<tr><td>Szieszta Apartmanház</td><td>89</td><td>5</td><td>3</td><td>1182</td><td>Nem</td></tr>",
                            "<tr><td>Szieszta Apartmanház</td><td>89</td><td>5</td><td>3</td><td>1252</td><td>Nem</td></tr>",
                            "<tr><td>Szieszta Apartmanház</td><td>90</td><td>6</td><td>3</td><td>562</td><td>Nem</td></tr>",
                            "<tr><td>Szieszta Apartmanház</td><td>90</td><td>6</td><td>3</td><td>759</td><td>Nem</td></tr>",
                            "<tr><td>Szieszta Apartmanház</td><td>90</td><td>6</td><td>3</td><td>1131</td><td>Nem</td></tr>",
                            "<tr><td>Szieszta Apartmanház</td><td>90</td><td>6</td><td>3</td><td>1175</td><td>Nem</td></tr>",
                            "<tr><td>Szieszta Apartmanház</td><td>90</td><td>6</td><td>3</td><td>1182</td><td>Nem</td></tr>",
                            "<tr><td>Szieszta Apartmanház</td><td>90</td><td>6</td><td>3</td><td>1252</td><td>Nem</td></tr>",
                            "<tr><td>Hotel Három Hattyú</td><td>91</td><td>1</td><td>2</td><td>694</td><td>Nem</td></tr>",
                            "<tr><td>Hotel Három Hattyú</td><td>91</td><td>1</td><td>2</td><td>818</td><td>Nem</td></tr>",
                            "<tr><td>Hotel Három Hattyú</td><td>91</td><td>1</td><td>2</td><td>832</td><td>Nem</td></tr>",
                            "<tr><td>Hotel Három Hattyú</td><td>91</td><td>1</td><td>2</td><td>882</td><td>Nem</td></tr>",
                            "<tr><td>Hotel Három Hattyú</td><td>91</td><td>1</td><td>2</td><td>947</td><td>Nem</td></tr>",
                            "<tr><td>Hotel Három Hattyú</td><td>92</td><td>2</td><td>3</td><td>694</td><td>Nem</td></tr>",
                            "<tr><td>Hotel Három Hattyú</td><td>92</td><td>2</td><td>3</td><td>818</td><td>Nem</td></tr>",
                            "<tr><td>Hotel Három Hattyú</td><td>92</td><td>2</td><td>3</td><td>832</td><td>Nem</td></tr>",
                            "<tr><td>Hotel Három Hattyú</td><td>92</td><td>2</td><td>3</td><td>882</td><td>Nem</td></tr>",
                            "<tr><td>Hotel Három Hattyú</td><td>92</td><td>2</td><td>3</td><td>947</td><td>Nem</td></tr>",
                            "<tr><td>Hotel Három Hattyú</td><td>93</td><td>3</td><td>3</td><td>694</td><td>Nem</td></tr>",
                            "<tr><td>Hotel Három Hattyú</td><td>93</td><td>3</td><td>3</td><td>818</td><td>Nem</td></tr>",
                            "<tr><td>Hotel Három Hattyú</td><td>93</td><td>3</td><td>3</td><td>832</td><td>Nem</td></tr>",
                            "<tr><td>Hotel Három Hattyú</td><td>93</td><td>3</td><td>3</td><td>882</td><td>Nem</td></tr>",
                            "<tr><td>Hotel Három Hattyú</td><td>93</td><td>3</td><td>3</td><td>947</td><td>Nem</td></tr>",
                            "<tr><td>Hotel Három Hattyú</td><td>94</td><td>4</td><td>2</td><td>694</td><td>Nem</td></tr>",
                            "<tr><td>Hotel Három Hattyú</td><td>94</td><td>4</td><td>2</td><td>818</td><td>Nem</td></tr>",
                            "<tr><td>Hotel Három Hattyú</td><td>94</td><td>4</td><td>2</td><td>832</td><td>Nem</td></tr>",
                            "<tr><td>Hotel Három Hattyú</td><td>94</td><td>4</td><td>2</td><td>882</td><td>Nem</td></tr>",
                            "<tr><td>Hotel Három Hattyú</td><td>94</td><td>4</td><td>2</td><td>947</td><td>Nem</td></tr>",
                            "<tr><td>Hotel Három Hattyú</td><td>95</td><td>5</td><td>3</td><td>694</td><td>Nem</td></tr>",
                            "<tr><td>Hotel Három Hattyú</td><td>95</td><td>5</td><td>3</td><td>818</td><td>Nem</td></tr>",
                            "<tr><td>Hotel Három Hattyú</td><td>95</td><td>5</td><td>3</td><td>832</td><td>Nem</td></tr>",
                            "<tr><td>Hotel Három Hattyú</td><td>95</td><td>5</td><td>3</td><td>882</td><td>Nem</td></tr>",
                            "<tr><td>Hotel Három Hattyú</td><td>95</td><td>5</td><td>3</td><td>947</td><td>Nem</td></tr>",
                            "<tr><td>Hotel Három Hattyú</td><td>96</td><td>6</td><td>3</td><td>694</td><td>Nem</td></tr>",
                            "<tr><td>Hotel Három Hattyú</td><td>96</td><td>6</td><td>3</td><td>818</td><td>Nem</td></tr>",
                            "<tr><td>Hotel Három Hattyú</td><td>96</td><td>6</td><td>3</td><td>832</td><td>Nem</td></tr>",
                            "<tr><td>Hotel Három Hattyú</td><td>96</td><td>6</td><td>3</td><td>882</td><td>Nem</td></tr>",
                            "<tr><td>Hotel Három Hattyú</td><td>96</td><td>6</td><td>3</td><td>947</td><td>Nem</td></tr>",
                            "<tr><td>Hotel Három Hattyú</td><td>97</td><td>7</td><td>3</td><td>694</td><td>Nem</td></tr>",
                            "<tr><td>Hotel Három Hattyú</td><td>97</td><td>7</td><td>3</td><td>818</td><td>Nem</td></tr>",
                            "<tr><td>Hotel Három Hattyú</td><td>97</td><td>7</td><td>3</td><td>832</td><td>Nem</td></tr>",
                            "<tr><td>Hotel Három Hattyú</td><td>97</td><td>7</td><td>3</td><td>882</td><td>Nem</td></tr>",
                            "<tr><td>Hotel Három Hattyú</td><td>97</td><td>7</td><td>3</td><td>947</td><td>Nem</td></tr>",
                            "<tr><td>Hotel Három Hattyú</td><td>98</td><td>8</td><td>2</td><td>694</td><td>Nem</td></tr>",
                            "<tr><td>Hotel Három Hattyú</td><td>98</td><td>8</td><td>2</td><td>818</td><td>Nem</td></tr>",
                            "<tr><td>Hotel Három Hattyú</td><td>98</td><td>8</td><td>2</td><td>832</td><td>Nem</td></tr>",
                            "<tr><td>Hotel Három Hattyú</td><td>98</td><td>8</td><td>2</td><td>882</td><td>Nem</td></tr>",
                            "<tr><td>Hotel Három Hattyú</td><td>98</td><td>8</td><td>2</td><td>947</td><td>Nem</td></tr>",
                            "<tr><td>Hotel Három Hattyú</td><td>99</td><td>9</td><td>2</td><td>694</td><td>Nem</td></tr>",
                            "<tr><td>Hotel Három Hattyú</td><td>99</td><td>9</td><td>2</td><td>818</td><td>Nem</td></tr>",
                            "<tr><td>Hotel Három Hattyú</td><td>99</td><td>9</td><td>2</td><td>832</td><td>Nem</td></tr>",
                            "<tr><td>Hotel Három Hattyú</td><td>99</td><td>9</td><td>2</td><td>882</td><td>Nem</td></tr>",
                            "<tr><td>Hotel Három Hattyú</td><td>99</td><td>9</td><td>2</td><td>947</td><td>Nem</td></tr>",
                            "<tr><td>Hotel Három Hattyú</td><td>100</td><td>10</td><td>2</td><td>694</td><td>Nem</td></tr>",
                            "<tr><td>Hotel Három Hattyú</td><td>100</td><td>10</td><td>2</td><td>818</td><td>Nem</td></tr>",
                            "<tr><td>Hotel Három Hattyú</td><td>100</td><td>10</td><td>2</td><td>832</td><td>Nem</td></tr>",
                            "<tr><td>Hotel Három Hattyú</td><td>100</td><td>10</td><td>2</td><td>882</td><td>Nem</td></tr>",
                            "<tr><td>Hotel Három Hattyú</td><td>100</td><td>10</td><td>2</td><td>947</td><td>Nem</td></tr>",
                            "<tr><td>Hotel Három Hattyú</td><td>101</td><td>11</td><td>2</td><td>694</td><td>Nem</td></tr>",
                            "<tr><td>Hotel Három Hattyú</td><td>101</td><td>11</td><td>2</td><td>818</td><td>Nem</td></tr>",
                            "<tr><td>Hotel Három Hattyú</td><td>101</td><td>11</td><td>2</td><td>832</td><td>Nem</td></tr>",
                            "<tr><td>Hotel Három Hattyú</td><td>101</td><td>11</td><td>2</td><td>882</td><td>Nem</td></tr>",
                            "<tr><td>Hotel Három Hattyú</td><td>101</td><td>11</td><td>2</td><td>947</td><td>Nem</td></tr>",
                            "<tr><td>Hotel Három Hattyú</td><td>102</td><td>12</td><td>2</td><td>694</td><td>Nem</td></tr>",
                            "<tr><td>Hotel Három Hattyú</td><td>102</td><td>12</td><td>2</td><td>818</td><td>Nem</td></tr>",
                            "<tr><td>Hotel Három Hattyú</td><td>102</td><td>12</td><td>2</td><td>832</td><td>Nem</td></tr>",
                            "<tr><td>Hotel Három Hattyú</td><td>102</td><td>12</td><td>2</td><td>882</td><td>Nem</td></tr>",
                            "<tr><td>Hotel Három Hattyú</td><td>102</td><td>12</td><td>2</td><td>947</td><td>Nem</td></tr>",
                            "<tr><td>Hotel Három Hattyú</td><td>103</td><td>13</td><td>2</td><td>694</td><td>Nem</td></tr>",
                            "<tr><td>Hotel Három Hattyú</td><td>103</td><td>13</td><td>2</td><td>818</td><td>Nem</td></tr>",
                            "<tr><td>Hotel Három Hattyú</td><td>103</td><td>13</td><td>2</td><td>832</td><td>Nem</td></tr>",
                            "<tr><td>Hotel Három Hattyú</td><td>103</td><td>13</td><td>2</td><td>882</td><td>Nem</td></tr>",
                            "<tr><td>Hotel Három Hattyú</td><td>103</td><td>13</td><td>2</td><td>947</td><td>Nem</td></tr>",
                            "<tr><td>Hotel Három Hattyú</td><td>104</td><td>14</td><td>3</td><td>694</td><td>Nem</td></tr>",
                            "<tr><td>Hotel Három Hattyú</td><td>104</td><td>14</td><td>3</td><td>818</td><td>Nem</td></tr>",
                            "<tr><td>Hotel Három Hattyú</td><td>104</td><td>14</td><td>3</td><td>832</td><td>Nem</td></tr>",
                            "<tr><td>Hotel Három Hattyú</td><td>104</td><td>14</td><td>3</td><td>882</td><td>Nem</td></tr>",
                            "<tr><td>Hotel Három Hattyú</td><td>104</td><td>14</td><td>3</td><td>947</td><td>Nem</td></tr>",
                            "<tr><td>Hotel Három Hattyú</td><td>105</td><td>15</td><td>2</td><td>694</td><td>Nem</td></tr>",
                            "<tr><td>Hotel Három Hattyú</td><td>105</td><td>15</td><td>2</td><td>818</td><td>Nem</td></tr>",
                            "<tr><td>Hotel Három Hattyú</td><td>105</td><td>15</td><td>2</td><td>832</td><td>Nem</td></tr>",
                            "<tr><td>Hotel Három Hattyú</td><td>105</td><td>15</td><td>2</td><td>882</td><td>Nem</td></tr>",
                            "<tr><td>Hotel Három Hattyú</td><td>105</td><td>15</td><td>2</td><td>947</td><td>Nem</td></tr>",
                            "<tr><td>Hotel Három Hattyú</td><td>106</td><td>16</td><td>2</td><td>694</td><td>Nem</td></tr>",
                            "<tr><td>Hotel Három Hattyú</td><td>106</td><td>16</td><td>2</td><td>818</td><td>Nem</td></tr>",
                            "<tr><td>Hotel Három Hattyú</td><td>106</td><td>16</td><td>2</td><td>832</td><td>Nem</td></tr>",
                            "<tr><td>Hotel Három Hattyú</td><td>106</td><td>16</td><td>2</td><td>882</td><td>Nem</td></tr>",
                            "<tr><td>Hotel Három Hattyú</td><td>106</td><td>16</td><td>2</td><td>947</td><td>Nem</td></tr>",
                            "<tr><td>Hotel Három Hattyú</td><td>107</td><td>17</td><td>2</td><td>694</td><td>Nem</td></tr>",
                            "<tr><td>Hotel Három Hattyú</td><td>107</td><td>17</td><td>2</td><td>818</td><td>Nem</td></tr>",
                            "<tr><td>Hotel Három Hattyú</td><td>107</td><td>17</td><td>2</td><td>832</td><td>Nem</td></tr>",
                            "<tr><td>Hotel Három Hattyú</td><td>107</td><td>17</td><td>2</td><td>882</td><td>Nem</td></tr>",
                            "<tr><td>Hotel Három Hattyú</td><td>107</td><td>17</td><td>2</td><td>947</td><td>Nem</td></tr>",
                            "<tr><td>Hotel Három Hattyú</td><td>108</td><td>18</td><td>2</td><td>694</td><td>Nem</td></tr>",
                            "<tr><td>Hotel Három Hattyú</td><td>108</td><td>18</td><td>2</td><td>818</td><td>Nem</td></tr>",
                            "<tr><td>Hotel Három Hattyú</td><td>108</td><td>18</td><td>2</td><td>832</td><td>Nem</td></tr>",
                            "<tr><td>Hotel Három Hattyú</td><td>108</td><td>18</td><td>2</td><td>882</td><td>Nem</td></tr>",
                            "<tr><td>Hotel Három Hattyú</td><td>108</td><td>18</td><td>2</td><td>947</td><td>Nem</td></tr>",
                            "<tr><td>Hotel Három Hattyú</td><td>109</td><td>19</td><td>2</td><td>694</td><td>Nem</td></tr>",
                            "<tr><td>Hotel Három Hattyú</td><td>109</td><td>19</td><td>2</td><td>818</td><td>Nem</td></tr>",
                            "<tr><td>Hotel Három Hattyú</td><td>109</td><td>19</td><td>2</td><td>832</td><td>Nem</td></tr>",
                            "<tr><td>Hotel Három Hattyú</td><td>109</td><td>19</td><td>2</td><td>882</td><td>Nem</td></tr>",
                            "<tr><td>Hotel Három Hattyú</td><td>109</td><td>19</td><td>2</td><td>947</td><td>Nem</td></tr>",
                            "<tr><td>Hotel Három Hattyú</td><td>110</td><td>20</td><td>2</td><td>694</td><td>Nem</td></tr>",
                            "<tr><td>Hotel Három Hattyú</td><td>110</td><td>20</td><td>2</td><td>818</td><td>Nem</td></tr>",
                            "<tr><td>Hotel Három Hattyú</td><td>110</td><td>20</td><td>2</td><td>832</td><td>Nem</td></tr>",
                            "<tr><td>Hotel Három Hattyú</td><td>110</td><td>20</td><td>2</td><td>882</td><td>Nem</td></tr>",
                            "<tr><td>Hotel Három Hattyú</td><td>110</td><td>20</td><td>2</td><td>947</td><td>Nem</td></tr>",
                            "<tr><td>Hotel Három Hattyú</td><td>111</td><td>21</td><td>2</td><td>694</td><td>Nem</td></tr>",
                            "<tr><td>Hotel Három Hattyú</td><td>111</td><td>21</td><td>2</td><td>818</td><td>Nem</td></tr>",
                            "<tr><td>Hotel Három Hattyú</td><td>111</td><td>21</td><td>2</td><td>832</td><td>Nem</td></tr>",
                            "<tr><td>Hotel Három Hattyú</td><td>111</td><td>21</td><td>2</td><td>882</td><td>Nem</td></tr>",
                            "<tr><td>Hotel Három Hattyú</td><td>111</td><td>21</td><td>2</td><td>947</td><td>Nem</td></tr>",
                            "<tr><td>Hotel Három Hattyú</td><td>112</td><td>22</td><td>3</td><td>694</td><td>Nem</td></tr>",
                            "<tr><td>Hotel Három Hattyú</td><td>112</td><td>22</td><td>3</td><td>818</td><td>Nem</td></tr>",
                            "<tr><td>Hotel Három Hattyú</td><td>112</td><td>22</td><td>3</td><td>832</td><td>Nem</td></tr>",
                            "<tr><td>Hotel Három Hattyú</td><td>112</td><td>22</td><td>3</td><td>882</td><td>Nem</td></tr>",
                            "<tr><td>Hotel Három Hattyú</td><td>112</td><td>22</td><td>3</td><td>947</td><td>Nem</td></tr>",
                            "<tr><td>Hotel Három Hattyú</td><td>113</td><td>23</td><td>3</td><td>694</td><td>Nem</td></tr>",
                            "<tr><td>Hotel Három Hattyú</td><td>113</td><td>23</td><td>3</td><td>818</td><td>Nem</td></tr>",
                            "<tr><td>Hotel Három Hattyú</td><td>113</td><td>23</td><td>3</td><td>832</td><td>Nem</td></tr>",
                            "<tr><td>Hotel Három Hattyú</td><td>113</td><td>23</td><td>3</td><td>882</td><td>Nem</td></tr>",
                            "<tr><td>Hotel Három Hattyú</td><td>113</td><td>23</td><td>3</td><td>947</td><td>Nem</td></tr>",
                            "<tr><td>Hotel Három Hattyú</td><td>114</td><td>24</td><td>2</td><td>694</td><td>Nem</td></tr>",
                            "<tr><td>Hotel Három Hattyú</td><td>114</td><td>24</td><td>2</td><td>818</td><td>Nem</td></tr>",
                            "<tr><td>Hotel Három Hattyú</td><td>114</td><td>24</td><td>2</td><td>832</td><td>Nem</td></tr>",
                            "<tr><td>Hotel Három Hattyú</td><td>114</td><td>24</td><td>2</td><td>882</td><td>Nem</td></tr>",
                            "<tr><td>Hotel Három Hattyú</td><td>114</td><td>24</td><td>2</td><td>947</td><td>Nem</td></tr>",
                            "<tr><td>Hotel Három Hattyú</td><td>115</td><td>25</td><td>3</td><td>694</td><td>Nem</td></tr>",
                            "<tr><td>Hotel Három Hattyú</td><td>115</td><td>25</td><td>3</td><td>818</td><td>Nem</td></tr>",
                            "<tr><td>Hotel Három Hattyú</td><td>115</td><td>25</td><td>3</td><td>832</td><td>Nem</td></tr>",
                            "<tr><td>Hotel Három Hattyú</td><td>115</td><td>25</td><td>3</td><td>882</td><td>Nem</td></tr>",
                            "<tr><td>Hotel Három Hattyú</td><td>115</td><td>25</td><td>3</td><td>947</td><td>Nem</td></tr>",
                            "<tr><td>Hotel Három Hattyú</td><td>116</td><td>26</td><td>3</td><td>694</td><td>Nem</td></tr>",
                            "<tr><td>Hotel Három Hattyú</td><td>116</td><td>26</td><td>3</td><td>818</td><td>Nem</td></tr>",
                            "<tr><td>Hotel Három Hattyú</td><td>116</td><td>26</td><td>3</td><td>832</td><td>Nem</td></tr>",
                            "<tr><td>Hotel Három Hattyú</td><td>116</td><td>26</td><td>3</td><td>882</td><td>Nem</td></tr>",
                            "<tr><td>Hotel Három Hattyú</td><td>116</td><td>26</td><td>3</td><td>947</td><td>Nem</td></tr>",
                            "<tr><td>Hotel Három Hattyú</td><td>117</td><td>27</td><td>3</td><td>694</td><td>Nem</td></tr>",
                            "<tr><td>Hotel Három Hattyú</td><td>117</td><td>27</td><td>3</td><td>818</td><td>Nem</td></tr>",
                            "<tr><td>Hotel Három Hattyú</td><td>117</td><td>27</td><td>3</td><td>832</td><td>Nem</td></tr>",
                            "<tr><td>Hotel Három Hattyú</td><td>117</td><td>27</td><td>3</td><td>882</td><td>Nem</td></tr>",
                            "<tr><td>Hotel Három Hattyú</td><td>117</td><td>27</td><td>3</td><td>947</td><td>Nem</td></tr>",
                            "<tr><td>Hotel Három Hattyú</td><td>118</td><td>28</td><td>2</td><td>694</td><td>Nem</td></tr>",
                            "<tr><td>Hotel Három Hattyú</td><td>118</td><td>28</td><td>2</td><td>818</td><td>Nem</td></tr>",
                            "<tr><td>Hotel Három Hattyú</td><td>118</td><td>28</td><td>2</td><td>832</td><td>Nem</td></tr>",
                            "<tr><td>Hotel Három Hattyú</td><td>118</td><td>28</td><td>2</td><td>882</td><td>Nem</td></tr>",
                            "<tr><td>Hotel Három Hattyú</td><td>118</td><td>28</td><td>2</td><td>947</td><td>Nem</td></tr>",
                            "<tr><td>Hotel Három Hattyú</td><td>119</td><td>29</td><td>2</td><td>694</td><td>Nem</td></tr>",
                            "<tr><td>Hotel Három Hattyú</td><td>119</td><td>29</td><td>2</td><td>818</td><td>Nem</td></tr>",
                            "<tr><td>Hotel Három Hattyú</td><td>119</td><td>29</td><td>2</td><td>832</td><td>Nem</td></tr>",
                            "<tr><td>Hotel Három Hattyú</td><td>119</td><td>29</td><td>2</td><td>882</td><td>Nem</td></tr>",
                            "<tr><td>Hotel Három Hattyú</td><td>119</td><td>29</td><td>2</td><td>947</td><td>Nem</td></tr>",
                            "<tr><td>Hotel Három Hattyú</td><td>120</td><td>30</td><td>3</td><td>694</td><td>Nem</td></tr>",
                            "<tr><td>Hotel Három Hattyú</td><td>120</td><td>30</td><td>3</td><td>818</td><td>Nem</td></tr>",
                            "<tr><td>Hotel Három Hattyú</td><td>120</td><td>30</td><td>3</td><td>832</td><td>Nem</td></tr>",
                            "<tr><td>Hotel Három Hattyú</td><td>120</td><td>30</td><td>3</td><td>882</td><td>Nem</td></tr>",
                            "<tr><td>Hotel Három Hattyú</td><td>120</td><td>30</td><td>3</td><td>947</td><td>Nem</td></tr>",
                            "<tr><td>Hotel Három Hattyú</td><td>121</td><td>31</td><td>2</td><td>694</td><td>Nem</td></tr>",
                            "<tr><td>Hotel Három Hattyú</td><td>121</td><td>31</td><td>2</td><td>818</td><td>Nem</td></tr>",
                            "<tr><td>Hotel Három Hattyú</td><td>121</td><td>31</td><td>2</td><td>832</td><td>Nem</td></tr>",
                            "<tr><td>Hotel Három Hattyú</td><td>121</td><td>31</td><td>2</td><td>882</td><td>Nem</td></tr>",
                            "<tr><td>Hotel Három Hattyú</td><td>121</td><td>31</td><td>2</td><td>947</td><td>Nem</td></tr>",
                            "<tr><td>Hotel Három Hattyú</td><td>122</td><td>32</td><td>3</td><td>694</td><td>Nem</td></tr>",
                            "<tr><td>Hotel Három Hattyú</td><td>122</td><td>32</td><td>3</td><td>818</td><td>Nem</td></tr>",
                            "<tr><td>Hotel Három Hattyú</td><td>122</td><td>32</td><td>3</td><td>832</td><td>Nem</td></tr>",
                            "<tr><td>Hotel Három Hattyú</td><td>122</td><td>32</td><td>3</td><td>882</td><td>Nem</td></tr>",
                            "<tr><td>Hotel Három Hattyú</td><td>122</td><td>32</td><td>3</td><td>947</td><td>Nem</td></tr>",
                            "<tr><td>Hotel Három Hattyú</td><td>123</td><td>33</td><td>3</td><td>694</td><td>Nem</td></tr>",
                            "<tr><td>Hotel Három Hattyú</td><td>123</td><td>33</td><td>3</td><td>818</td><td>Nem</td></tr>",
                            "<tr><td>Hotel Három Hattyú</td><td>123</td><td>33</td><td>3</td><td>832</td><td>Nem</td></tr>",
                            "<tr><td>Hotel Három Hattyú</td><td>123</td><td>33</td><td>3</td><td>882</td><td>Nem</td></tr>",
                            "<tr><td>Hotel Három Hattyú</td><td>123</td><td>33</td><td>3</td><td>947</td><td>Nem</td></tr>",
                            "<tr><td>Hotel Három Hattyú</td><td>124</td><td>34</td><td>3</td><td>694</td><td>Nem</td></tr>",
                            "<tr><td>Hotel Három Hattyú</td><td>124</td><td>34</td><td>3</td><td>818</td><td>Nem</td></tr>",
                            "<tr><td>Hotel Három Hattyú</td><td>124</td><td>34</td><td>3</td><td>832</td><td>Nem</td></tr>",
                            "<tr><td>Hotel Három Hattyú</td><td>124</td><td>34</td><td>3</td><td>882</td><td>Nem</td></tr>",
                            "<tr><td>Hotel Három Hattyú</td><td>124</td><td>34</td><td>3</td><td>947</td><td>Nem</td></tr>",
                            "<tr><td>Hotel Három Hattyú</td><td>125</td><td>35</td><td>2</td><td>694</td><td>Nem</td></tr>",
                            "<tr><td>Hotel Három Hattyú</td><td>125</td><td>35</td><td>2</td><td>818</td><td>Nem</td></tr>",
                            "<tr><td>Hotel Három Hattyú</td><td>125</td><td>35</td><td>2</td><td>832</td><td>Nem</td></tr>",
                            "<tr><td>Hotel Három Hattyú</td><td>125</td><td>35</td><td>2</td><td>882</td><td>Nem</td></tr>",
                            "<tr><td>Hotel Három Hattyú</td><td>125</td><td>35</td><td>2</td><td>947</td><td>Nem</td></tr>",
                            "<tr><td>Hotel Három Hattyú</td><td>126</td><td>36</td><td>2</td><td>694</td><td>Nem</td></tr>",
                            "<tr><td>Hotel Három Hattyú</td><td>126</td><td>36</td><td>2</td><td>818</td><td>Nem</td></tr>",
                            "<tr><td>Hotel Három Hattyú</td><td>126</td><td>36</td><td>2</td><td>832</td><td>Nem</td></tr>",
                            "<tr><td>Hotel Három Hattyú</td><td>126</td><td>36</td><td>2</td><td>882</td><td>Nem</td></tr>",
                            "<tr><td>Hotel Három Hattyú</td><td>126</td><td>36</td><td>2</td><td>947</td><td>Nem</td></tr>",
                            "<tr><td>Hotel Három Hattyú</td><td>127</td><td>37</td><td>2</td><td>694</td><td>Nem</td></tr>",
                            "<tr><td>Hotel Három Hattyú</td><td>127</td><td>37</td><td>2</td><td>818</td><td>Nem</td></tr>",
                            "<tr><td>Hotel Három Hattyú</td><td>127</td><td>37</td><td>2</td><td>832</td><td>Nem</td></tr>",
                            "<tr><td>Hotel Három Hattyú</td><td>127</td><td>37</td><td>2</td><td>882</td><td>Nem</td></tr>",
                            "<tr><td>Hotel Három Hattyú</td><td>127</td><td>37</td><td>2</td><td>947</td><td>Nem</td></tr>",
                            "<tr><td>Hotel Három Hattyú</td><td>128</td><td>38</td><td>2</td><td>694</td><td>Nem</td></tr>",
                            "<tr><td>Hotel Három Hattyú</td><td>128</td><td>38</td><td>2</td><td>818</td><td>Nem</td></tr>",
                            "<tr><td>Hotel Három Hattyú</td><td>128</td><td>38</td><td>2</td><td>832</td><td>Nem</td></tr>",
                            "<tr><td>Hotel Három Hattyú</td><td>128</td><td>38</td><td>2</td><td>882</td><td>Nem</td></tr>",
                            "<tr><td>Hotel Három Hattyú</td><td>128</td><td>38</td><td>2</td><td>947</td><td>Nem</td></tr>",
                            "<tr><td>Hotel Három Hattyú</td><td>129</td><td>39</td><td>2</td><td>694</td><td>Nem</td></tr>",
                            "<tr><td>Hotel Három Hattyú</td><td>129</td><td>39</td><td>2</td><td>818</td><td>Nem</td></tr>",
                            "<tr><td>Hotel Három Hattyú</td><td>129</td><td>39</td><td>2</td><td>832</td><td>Nem</td></tr>",
                            "<tr><td>Hotel Három Hattyú</td><td>129</td><td>39</td><td>2</td><td>882</td><td>Nem</td></tr>",
                            "<tr><td>Hotel Három Hattyú</td><td>129</td><td>39</td><td>2</td><td>947</td><td>Nem</td></tr>",
                            "<tr><td>Jáde panzió</td><td>130</td><td>1</td><td>2</td><td>609</td><td>Igen</td></tr>",
                            "<tr><td>Jáde panzió</td><td>130</td><td>1</td><td>2</td><td>1157</td><td>Igen</td></tr>",
                            "<tr><td>Jáde panzió</td><td>130</td><td>1</td><td>2</td><td>1220</td><td>Igen</td></tr>",
                            "<tr><td>Jáde panzió</td><td>130</td><td>1</td><td>2</td><td>1260</td><td>Igen</td></tr>",
                            "<tr><td>Jáde panzió</td><td>130</td><td>1</td><td>2</td><td>1423</td><td>Igen</td></tr>",
                            "<tr><td>Jáde panzió</td><td>130</td><td>1</td><td>2</td><td>1537</td><td>Igen</td></tr>",
                            "<tr><td>Jáde panzió</td><td>131</td><td>2</td><td>2</td><td>609</td><td>Igen</td></tr>",
                            "<tr><td>Jáde panzió</td><td>131</td><td>2</td><td>2</td><td>1157</td><td>Igen</td></tr>",
                            "<tr><td>Jáde panzió</td><td>131</td><td>2</td><td>2</td><td>1220</td><td>Igen</td></tr>",
                            "<tr><td>Jáde panzió</td><td>131</td><td>2</td><td>2</td><td>1260</td><td>Igen</td></tr>",
                            "<tr><td>Jáde panzió</td><td>131</td><td>2</td><td>2</td><td>1423</td><td>Igen</td></tr>",
                            "<tr><td>Jáde panzió</td><td>131</td><td>2</td><td>2</td><td>1537</td><td>Igen</td></tr>",
                            "<tr><td>Jáde panzió</td><td>132</td><td>3</td><td>3</td><td>609</td><td>Igen</td></tr>",
                            "<tr><td>Jáde panzió</td><td>132</td><td>3</td><td>3</td><td>1157</td><td>Igen</td></tr>",
                            "<tr><td>Jáde panzió</td><td>132</td><td>3</td><td>3</td><td>1220</td><td>Igen</td></tr>",
                            "<tr><td>Jáde panzió</td><td>132</td><td>3</td><td>3</td><td>1260</td><td>Igen</td></tr>",
                            "<tr><td>Jáde panzió</td><td>132</td><td>3</td><td>3</td><td>1423</td><td>Igen</td></tr>",
                            "<tr><td>Jáde panzió</td><td>132</td><td>3</td><td>3</td><td>1537</td><td>Igen</td></tr>",
                            "<tr><td>Jáde panzió</td><td>133</td><td>4</td><td>3</td><td>609</td><td>Igen</td></tr>",
                            "<tr><td>Jáde panzió</td><td>133</td><td>4</td><td>3</td><td>1157</td><td>Igen</td></tr>",
                            "<tr><td>Jáde panzió</td><td>133</td><td>4</td><td>3</td><td>1220</td><td>Igen</td></tr>",
                            "<tr><td>Jáde panzió</td><td>133</td><td>4</td><td>3</td><td>1260</td><td>Igen</td></tr>",
                            "<tr><td>Jáde panzió</td><td>133</td><td>4</td><td>3</td><td>1423</td><td>Igen</td></tr>",
                            "<tr><td>Jáde panzió</td><td>133</td><td>4</td><td>3</td><td>1537</td><td>Igen</td></tr>",
                            "<tr><td>Jáde panzió</td><td>134</td><td>5</td><td>3</td><td>609</td><td>Igen</td></tr>",
                            "<tr><td>Jáde panzió</td><td>134</td><td>5</td><td>3</td><td>1157</td><td>Igen</td></tr>",
                            "<tr><td>Jáde panzió</td><td>134</td><td>5</td><td>3</td><td>1220</td><td>Igen</td></tr>",
                            "<tr><td>Jáde panzió</td><td>134</td><td>5</td><td>3</td><td>1260</td><td>Igen</td></tr>",
                            "<tr><td>Jáde panzió</td><td>134</td><td>5</td><td>3</td><td>1423</td><td>Igen</td></tr>",
                            "<tr><td>Jáde panzió</td><td>134</td><td>5</td><td>3</td><td>1537</td><td>Igen</td></tr>",
                            "<tr><td>Lagúna Hotel</td><td>135</td><td>1</td><td>3</td><td>569</td><td>Nem</td></tr>",
                            "<tr><td>Lagúna Hotel</td><td>135</td><td>1</td><td>3</td><td>790</td><td>Nem</td></tr>",
                            "<tr><td>Lagúna Hotel</td><td>135</td><td>1</td><td>3</td><td>795</td><td>Nem</td></tr>",
                            "<tr><td>Lagúna Hotel</td><td>135</td><td>1</td><td>3</td><td>1319</td><td>Nem</td></tr>",
                            "<tr><td>Lagúna Hotel</td><td>136</td><td>2</td><td>2</td><td>569</td><td>Nem</td></tr>",
                            "<tr><td>Lagúna Hotel</td><td>136</td><td>2</td><td>2</td><td>790</td><td>Nem</td></tr>",
                            "<tr><td>Lagúna Hotel</td><td>136</td><td>2</td><td>2</td><td>795</td><td>Nem</td></tr>",
                            "<tr><td>Lagúna Hotel</td><td>136</td><td>2</td><td>2</td><td>1319</td><td>Nem</td></tr>",
                            "<tr><td>Lagúna Hotel</td><td>137</td><td>3</td><td>2</td><td>569</td><td>Nem</td></tr>",
                            "<tr><td>Lagúna Hotel</td><td>137</td><td>3</td><td>2</td><td>790</td><td>Nem</td></tr>",
                            "<tr><td>Lagúna Hotel</td><td>137</td><td>3</td><td>2</td><td>795</td><td>Nem</td></tr>",
                            "<tr><td>Lagúna Hotel</td><td>137</td><td>3</td><td>2</td><td>1319</td><td>Nem</td></tr>",
                            "<tr><td>Lagúna Hotel</td><td>138</td><td>4</td><td>3</td><td>569</td><td>Nem</td></tr>",
                            "<tr><td>Lagúna Hotel</td><td>138</td><td>4</td><td>3</td><td>790</td><td>Nem</td></tr>",
                            "<tr><td>Lagúna Hotel</td><td>138</td><td>4</td><td>3</td><td>795</td><td>Nem</td></tr>",
                            "<tr><td>Lagúna Hotel</td><td>138</td><td>4</td><td>3</td><td>1319</td><td>Nem</td></tr>",
                            "<tr><td>Lagúna Hotel</td><td>139</td><td>5</td><td>2</td><td>569</td><td>Nem</td></tr>",
                            "<tr><td>Lagúna Hotel</td><td>139</td><td>5</td><td>2</td><td>790</td><td>Nem</td></tr>",
                            "<tr><td>Lagúna Hotel</td><td>139</td><td>5</td><td>2</td><td>795</td><td>Nem</td></tr>",
                            "<tr><td>Lagúna Hotel</td><td>139</td><td>5</td><td>2</td><td>1319</td><td>Nem</td></tr>",
                            "<tr><td>Lagúna Hotel</td><td>140</td><td>6</td><td>2</td><td>569</td><td>Nem</td></tr>",
                            "<tr><td>Lagúna Hotel</td><td>140</td><td>6</td><td>2</td><td>790</td><td>Nem</td></tr>",
                            "<tr><td>Lagúna Hotel</td><td>140</td><td>6</td><td>2</td><td>795</td><td>Nem</td></tr>",
                            "<tr><td>Lagúna Hotel</td><td>140</td><td>6</td><td>2</td><td>1319</td><td>Nem</td></tr>",
                            "<tr><td>Lagúna Hotel</td><td>141</td><td>7</td><td>2</td><td>569</td><td>Nem</td></tr>",
                            "<tr><td>Lagúna Hotel</td><td>141</td><td>7</td><td>2</td><td>790</td><td>Nem</td></tr>",
                            "<tr><td>Lagúna Hotel</td><td>141</td><td>7</td><td>2</td><td>795</td><td>Nem</td></tr>",
                            "<tr><td>Lagúna Hotel</td><td>141</td><td>7</td><td>2</td><td>1319</td><td>Nem</td></tr>",
                            "<tr><td>Lagúna Hotel</td><td>142</td><td>8</td><td>3</td><td>569</td><td>Nem</td></tr>",
                            "<tr><td>Lagúna Hotel</td><td>142</td><td>8</td><td>3</td><td>790</td><td>Nem</td></tr>",
                            "<tr><td>Lagúna Hotel</td><td>142</td><td>8</td><td>3</td><td>795</td><td>Nem</td></tr>",
                            "<tr><td>Lagúna Hotel</td><td>142</td><td>8</td><td>3</td><td>1319</td><td>Nem</td></tr>",
                            "<tr><td>Lagúna Hotel</td><td>143</td><td>9</td><td>3</td><td>569</td><td>Nem</td></tr>",
                            "<tr><td>Lagúna Hotel</td><td>143</td><td>9</td><td>3</td><td>790</td><td>Nem</td></tr>",
                            "<tr><td>Lagúna Hotel</td><td>143</td><td>9</td><td>3</td><td>795</td><td>Nem</td></tr>",
                            "<tr><td>Lagúna Hotel</td><td>143</td><td>9</td><td>3</td><td>1319</td><td>Nem</td></tr>",
                            "<tr><td>Lagúna Hotel</td><td>144</td><td>10</td><td>3</td><td>569</td><td>Nem</td></tr>",
                            "<tr><td>Lagúna Hotel</td><td>144</td><td>10</td><td>3</td><td>790</td><td>Nem</td></tr>",
                            "<tr><td>Lagúna Hotel</td><td>144</td><td>10</td><td>3</td><td>795</td><td>Nem</td></tr>",
                            "<tr><td>Lagúna Hotel</td><td>144</td><td>10</td><td>3</td><td>1319</td><td>Nem</td></tr>",
                            "<tr><td>Lagúna Hotel</td><td>145</td><td>11</td><td>2</td><td>569</td><td>Nem</td></tr>",
                            "<tr><td>Lagúna Hotel</td><td>145</td><td>11</td><td>2</td><td>790</td><td>Nem</td></tr>",
                            "<tr><td>Lagúna Hotel</td><td>145</td><td>11</td><td>2</td><td>795</td><td>Nem</td></tr>",
                            "<tr><td>Lagúna Hotel</td><td>145</td><td>11</td><td>2</td><td>1319</td><td>Nem</td></tr>",
                            "<tr><td>Lagúna Hotel</td><td>146</td><td>12</td><td>3</td><td>569</td><td>Nem</td></tr>",
                            "<tr><td>Lagúna Hotel</td><td>146</td><td>12</td><td>3</td><td>790</td><td>Nem</td></tr>",
                            "<tr><td>Lagúna Hotel</td><td>146</td><td>12</td><td>3</td><td>795</td><td>Nem</td></tr>",
                            "<tr><td>Lagúna Hotel</td><td>146</td><td>12</td><td>3</td><td>1319</td><td>Nem</td></tr>",
                            "<tr><td>Lagúna Hotel</td><td>147</td><td>13</td><td>2</td><td>569</td><td>Nem</td></tr>",
                            "<tr><td>Lagúna Hotel</td><td>147</td><td>13</td><td>2</td><td>790</td><td>Nem</td></tr>",
                            "<tr><td>Lagúna Hotel</td><td>147</td><td>13</td><td>2</td><td>795</td><td>Nem</td></tr>",
                            "<tr><td>Lagúna Hotel</td><td>147</td><td>13</td><td>2</td><td>1319</td><td>Nem</td></tr>",
                            "<tr><td>Lagúna Hotel</td><td>148</td><td>14</td><td>2</td><td>569</td><td>Nem</td></tr>",
                            "<tr><td>Lagúna Hotel</td><td>148</td><td>14</td><td>2</td><td>790</td><td>Nem</td></tr>",
                            "<tr><td>Lagúna Hotel</td><td>148</td><td>14</td><td>2</td><td>795</td><td>Nem</td></tr>",
                            "<tr><td>Lagúna Hotel</td><td>148</td><td>14</td><td>2</td><td>1319</td><td>Nem</td></tr>",
                            "<tr><td>Lagúna Hotel</td><td>149</td><td>15</td><td>2</td><td>569</td><td>Nem</td></tr>",
                            "<tr><td>Lagúna Hotel</td><td>149</td><td>15</td><td>2</td><td>790</td><td>Nem</td></tr>",
                            "<tr><td>Lagúna Hotel</td><td>149</td><td>15</td><td>2</td><td>795</td><td>Nem</td></tr>",
                            "<tr><td>Lagúna Hotel</td><td>149</td><td>15</td><td>2</td><td>1319</td><td>Nem</td></tr>",
                            "<tr><td>Lagúna Hotel</td><td>150</td><td>16</td><td>2</td><td>569</td><td>Nem</td></tr>",
                            "<tr><td>Lagúna Hotel</td><td>150</td><td>16</td><td>2</td><td>790</td><td>Nem</td></tr>",
                            "<tr><td>Lagúna Hotel</td><td>150</td><td>16</td><td>2</td><td>795</td><td>Nem</td></tr>",
                            "<tr><td>Lagúna Hotel</td><td>150</td><td>16</td><td>2</td><td>1319</td><td>Nem</td></tr>",
                            "<tr><td>Lagúna Hotel</td><td>151</td><td>17</td><td>2</td><td>569</td><td>Nem</td></tr>",
                            "<tr><td>Lagúna Hotel</td><td>151</td><td>17</td><td>2</td><td>790</td><td>Nem</td></tr>",
                            "<tr><td>Lagúna Hotel</td><td>151</td><td>17</td><td>2</td><td>795</td><td>Nem</td></tr>",
                            "<tr><td>Lagúna Hotel</td><td>151</td><td>17</td><td>2</td><td>1319</td><td>Nem</td></tr>",
                            "<tr><td>Lagúna Hotel</td><td>152</td><td>18</td><td>2</td><td>569</td><td>Nem</td></tr>",
                            "<tr><td>Lagúna Hotel</td><td>152</td><td>18</td><td>2</td><td>790</td><td>Nem</td></tr>",
                            "<tr><td>Lagúna Hotel</td><td>152</td><td>18</td><td>2</td><td>795</td><td>Nem</td></tr>",
                            "<tr><td>Lagúna Hotel</td><td>152</td><td>18</td><td>2</td><td>1319</td><td>Nem</td></tr>",
                            "<tr><td>Lagúna Hotel</td><td>153</td><td>19</td><td>3</td><td>569</td><td>Nem</td></tr>",
                            "<tr><td>Lagúna Hotel</td><td>153</td><td>19</td><td>3</td><td>790</td><td>Nem</td></tr>",
                            "<tr><td>Lagúna Hotel</td><td>153</td><td>19</td><td>3</td><td>795</td><td>Nem</td></tr>",
                            "<tr><td>Lagúna Hotel</td><td>153</td><td>19</td><td>3</td><td>1319</td><td>Nem</td></tr>",
                            "<tr><td>Lagúna Hotel</td><td>154</td><td>20</td><td>2</td><td>569</td><td>Nem</td></tr>",
                            "<tr><td>Lagúna Hotel</td><td>154</td><td>20</td><td>2</td><td>790</td><td>Nem</td></tr>",
                            "<tr><td>Lagúna Hotel</td><td>154</td><td>20</td><td>2</td><td>795</td><td>Nem</td></tr>",
                            "<tr><td>Lagúna Hotel</td><td>154</td><td>20</td><td>2</td><td>1319</td><td>Nem</td></tr>",
                            "<tr><td>Lagúna Hotel</td><td>155</td><td>21</td><td>3</td><td>569</td><td>Nem</td></tr>",
                            "<tr><td>Lagúna Hotel</td><td>155</td><td>21</td><td>3</td><td>790</td><td>Nem</td></tr>",
                            "<tr><td>Lagúna Hotel</td><td>155</td><td>21</td><td>3</td><td>795</td><td>Nem</td></tr>",
                            "<tr><td>Lagúna Hotel</td><td>155</td><td>21</td><td>3</td><td>1319</td><td>Nem</td></tr>",
                            "<tr><td>Lagúna Hotel</td><td>156</td><td>22</td><td>2</td><td>569</td><td>Nem</td></tr>",
                            "<tr><td>Lagúna Hotel</td><td>156</td><td>22</td><td>2</td><td>790</td><td>Nem</td></tr>",
                            "<tr><td>Lagúna Hotel</td><td>156</td><td>22</td><td>2</td><td>795</td><td>Nem</td></tr>",
                            "<tr><td>Lagúna Hotel</td><td>156</td><td>22</td><td>2</td><td>1319</td><td>Nem</td></tr>",
                            "<tr><td>Lagúna Hotel</td><td>157</td><td>23</td><td>2</td><td>569</td><td>Nem</td></tr>",
                            "<tr><td>Lagúna Hotel</td><td>157</td><td>23</td><td>2</td><td>790</td><td>Nem</td></tr>",
                            "<tr><td>Lagúna Hotel</td><td>157</td><td>23</td><td>2</td><td>795</td><td>Nem</td></tr>",
                            "<tr><td>Lagúna Hotel</td><td>157</td><td>23</td><td>2</td><td>1319</td><td>Nem</td></tr>",
                            "<tr><td>Lagúna Hotel</td><td>158</td><td>24</td><td>2</td><td>569</td><td>Nem</td></tr>",
                            "<tr><td>Lagúna Hotel</td><td>158</td><td>24</td><td>2</td><td>790</td><td>Nem</td></tr>",
                            "<tr><td>Lagúna Hotel</td><td>158</td><td>24</td><td>2</td><td>795</td><td>Nem</td></tr>",
                            "<tr><td>Lagúna Hotel</td><td>158</td><td>24</td><td>2</td><td>1319</td><td>Nem</td></tr>",
                            "<tr><td>Lagúna Hotel</td><td>159</td><td>25</td><td>3</td><td>569</td><td>Nem</td></tr>",
                            "<tr><td>Lagúna Hotel</td><td>159</td><td>25</td><td>3</td><td>790</td><td>Nem</td></tr>",
                            "<tr><td>Lagúna Hotel</td><td>159</td><td>25</td><td>3</td><td>795</td><td>Nem</td></tr>",
                            "<tr><td>Lagúna Hotel</td><td>159</td><td>25</td><td>3</td><td>1319</td><td>Nem</td></tr>",
                            "<tr><td>Partiszél Vendégház</td><td>160</td><td>1</td><td>3</td><td>918</td><td>Nem</td></tr>",
                            "<tr><td>Partiszél Vendégház</td><td>160</td><td>1</td><td>3</td><td>1123</td><td>Nem</td></tr>",
                            "<tr><td>Partiszél Vendégház</td><td>160</td><td>1</td><td>3</td><td>1236</td><td>Nem</td></tr>",
                            "<tr><td>Partiszél Vendégház</td><td>160</td><td>1</td><td>3</td><td>1523</td><td>Nem</td></tr>",
                            "<tr><td>Partiszél Vendégház</td><td>161</td><td>2</td><td>2</td><td>918</td><td>Nem</td></tr>",
                            "<tr><td>Partiszél Vendégház</td><td>161</td><td>2</td><td>2</td><td>1123</td><td>Nem</td></tr>",
                            "<tr><td>Partiszél Vendégház</td><td>161</td><td>2</td><td>2</td><td>1236</td><td>Nem</td></tr>",
                            "<tr><td>Partiszél Vendégház</td><td>161</td><td>2</td><td>2</td><td>1523</td><td>Nem</td></tr>",
                            "<tr><td>Partiszél Vendégház</td><td>162</td><td>3</td><td>3</td><td>918</td><td>Nem</td></tr>",
                            "<tr><td>Partiszél Vendégház</td><td>162</td><td>3</td><td>3</td><td>1123</td><td>Nem</td></tr>",
                            "<tr><td>Partiszél Vendégház</td><td>162</td><td>3</td><td>3</td><td>1236</td><td>Nem</td></tr>",
                            "<tr><td>Partiszél Vendégház</td><td>162</td><td>3</td><td>3</td><td>1523</td><td>Nem</td></tr>",
                            "<tr><td>Partiszél Vendégház</td><td>163</td><td>4</td><td>2</td><td>918</td><td>Nem</td></tr>",
                            "<tr><td>Partiszél Vendégház</td><td>163</td><td>4</td><td>2</td><td>1123</td><td>Nem</td></tr>",
                            "<tr><td>Partiszél Vendégház</td><td>163</td><td>4</td><td>2</td><td>1236</td><td>Nem</td></tr>",
                            "<tr><td>Partiszél Vendégház</td><td>163</td><td>4</td><td>2</td><td>1523</td><td>Nem</td></tr>",
                            "<tr><td>Partiszél Vendégház</td><td>164</td><td>5</td><td>2</td><td>918</td><td>Nem</td></tr>",
                            "<tr><td>Partiszél Vendégház</td><td>164</td><td>5</td><td>2</td><td>1123</td><td>Nem</td></tr>",
                            "<tr><td>Partiszél Vendégház</td><td>164</td><td>5</td><td>2</td><td>1236</td><td>Nem</td></tr>",
                            "<tr><td>Partiszél Vendégház</td><td>164</td><td>5</td><td>2</td><td>1523</td><td>Nem</td></tr>",
                            "<tr><td>Gold Hotel</td><td>165</td><td>1</td><td>2</td><td>697</td><td>Nem</td></tr>",
                            "<tr><td>Gold Hotel</td><td>165</td><td>1</td><td>2</td><td>775</td><td>Nem</td></tr>",
                            "<tr><td>Gold Hotel</td><td>165</td><td>1</td><td>2</td><td>876</td><td>Nem</td></tr>",
                            "<tr><td>Gold Hotel</td><td>165</td><td>1</td><td>2</td><td>951</td><td>Nem</td></tr>",
                            "<tr><td>Gold Hotel</td><td>165</td><td>1</td><td>2</td><td>970</td><td>Nem</td></tr>",
                            "<tr><td>Gold Hotel</td><td>165</td><td>1</td><td>2</td><td>1020</td><td>Nem</td></tr>",
                            "<tr><td>Gold Hotel</td><td>165</td><td>1</td><td>2</td><td>1140</td><td>Nem</td></tr>",
                            "<tr><td>Gold Hotel</td><td>165</td><td>1</td><td>2</td><td>1164</td><td>Nem</td></tr>",
                            "<tr><td>Gold Hotel</td><td>165</td><td>1</td><td>2</td><td>1430</td><td>Nem</td></tr>",
                            "<tr><td>Gold Hotel</td><td>166</td><td>2</td><td>2</td><td>697</td><td>Nem</td></tr>",
                            "<tr><td>Gold Hotel</td><td>166</td><td>2</td><td>2</td><td>775</td><td>Nem</td></tr>",
                            "<tr><td>Gold Hotel</td><td>166</td><td>2</td><td>2</td><td>876</td><td>Nem</td></tr>",
                            "<tr><td>Gold Hotel</td><td>166</td><td>2</td><td>2</td><td>951</td><td>Nem</td></tr>",
                            "<tr><td>Gold Hotel</td><td>166</td><td>2</td><td>2</td><td>970</td><td>Nem</td></tr>",
                            "<tr><td>Gold Hotel</td><td>166</td><td>2</td><td>2</td><td>1020</td><td>Nem</td></tr>",
                            "<tr><td>Gold Hotel</td><td>166</td><td>2</td><td>2</td><td>1140</td><td>Nem</td></tr>",
                            "<tr><td>Gold Hotel</td><td>166</td><td>2</td><td>2</td><td>1164</td><td>Nem</td></tr>",
                            "<tr><td>Gold Hotel</td><td>166</td><td>2</td><td>2</td><td>1430</td><td>Nem</td></tr>",
                            "<tr><td>Gold Hotel</td><td>167</td><td>3</td><td>3</td><td>697</td><td>Nem</td></tr>",
                            "<tr><td>Gold Hotel</td><td>167</td><td>3</td><td>3</td><td>775</td><td>Nem</td></tr>",
                            "<tr><td>Gold Hotel</td><td>167</td><td>3</td><td>3</td><td>876</td><td>Nem</td></tr>",
                            "<tr><td>Gold Hotel</td><td>167</td><td>3</td><td>3</td><td>951</td><td>Nem</td></tr>",
                            "<tr><td>Gold Hotel</td><td>167</td><td>3</td><td>3</td><td>970</td><td>Nem</td></tr>",
                            "<tr><td>Gold Hotel</td><td>167</td><td>3</td><td>3</td><td>1020</td><td>Nem</td></tr>",
                            "<tr><td>Gold Hotel</td><td>167</td><td>3</td><td>3</td><td>1140</td><td>Nem</td></tr>",
                            "<tr><td>Gold Hotel</td><td>167</td><td>3</td><td>3</td><td>1164</td><td>Nem</td></tr>",
                            "<tr><td>Gold Hotel</td><td>167</td><td>3</td><td>3</td><td>1430</td><td>Nem</td></tr>",
                            "<tr><td>Gold Hotel</td><td>168</td><td>4</td><td>2</td><td>697</td><td>Nem</td></tr>",
                            "<tr><td>Gold Hotel</td><td>168</td><td>4</td><td>2</td><td>775</td><td>Nem</td></tr>",
                            "<tr><td>Gold Hotel</td><td>168</td><td>4</td><td>2</td><td>876</td><td>Nem</td></tr>",
                            "<tr><td>Gold Hotel</td><td>168</td><td>4</td><td>2</td><td>951</td><td>Nem</td></tr>",
                            "<tr><td>Gold Hotel</td><td>168</td><td>4</td><td>2</td><td>970</td><td>Nem</td></tr>",
                            "<tr><td>Gold Hotel</td><td>168</td><td>4</td><td>2</td><td>1020</td><td>Nem</td></tr>",
                            "<tr><td>Gold Hotel</td><td>168</td><td>4</td><td>2</td><td>1140</td><td>Nem</td></tr>",
                            "<tr><td>Gold Hotel</td><td>168</td><td>4</td><td>2</td><td>1164</td><td>Nem</td></tr>",
                            "<tr><td>Gold Hotel</td><td>168</td><td>4</td><td>2</td><td>1430</td><td>Nem</td></tr>",
                            "<tr><td>Gold Hotel</td><td>169</td><td>5</td><td>2</td><td>697</td><td>Nem</td></tr>",
                            "<tr><td>Gold Hotel</td><td>169</td><td>5</td><td>2</td><td>775</td><td>Nem</td></tr>",
                            "<tr><td>Gold Hotel</td><td>169</td><td>5</td><td>2</td><td>876</td><td>Nem</td></tr>",
                            "<tr><td>Gold Hotel</td><td>169</td><td>5</td><td>2</td><td>951</td><td>Nem</td></tr>",
                            "<tr><td>Gold Hotel</td><td>169</td><td>5</td><td>2</td><td>970</td><td>Nem</td></tr>",
                            "<tr><td>Gold Hotel</td><td>169</td><td>5</td><td>2</td><td>1020</td><td>Nem</td></tr>",
                            "<tr><td>Gold Hotel</td><td>169</td><td>5</td><td>2</td><td>1140</td><td>Nem</td></tr>",
                            "<tr><td>Gold Hotel</td><td>169</td><td>5</td><td>2</td><td>1164</td><td>Nem</td></tr>",
                            "<tr><td>Gold Hotel</td><td>169</td><td>5</td><td>2</td><td>1430</td><td>Nem</td></tr>",
                            "<tr><td>Gold Hotel</td><td>170</td><td>6</td><td>2</td><td>697</td><td>Nem</td></tr>",
                            "<tr><td>Gold Hotel</td><td>170</td><td>6</td><td>2</td><td>775</td><td>Nem</td></tr>",
                            "<tr><td>Gold Hotel</td><td>170</td><td>6</td><td>2</td><td>876</td><td>Nem</td></tr>",
                            "<tr><td>Gold Hotel</td><td>170</td><td>6</td><td>2</td><td>951</td><td>Nem</td></tr>",
                            "<tr><td>Gold Hotel</td><td>170</td><td>6</td><td>2</td><td>970</td><td>Nem</td></tr>",
                            "<tr><td>Gold Hotel</td><td>170</td><td>6</td><td>2</td><td>1020</td><td>Nem</td></tr>",
                            "<tr><td>Gold Hotel</td><td>170</td><td>6</td><td>2</td><td>1140</td><td>Nem</td></tr>",
                            "<tr><td>Gold Hotel</td><td>170</td><td>6</td><td>2</td><td>1164</td><td>Nem</td></tr>",
                            "<tr><td>Gold Hotel</td><td>170</td><td>6</td><td>2</td><td>1430</td><td>Nem</td></tr>",
                            "<tr><td>Gold Hotel</td><td>171</td><td>7</td><td>2</td><td>697</td><td>Nem</td></tr>",
                            "<tr><td>Gold Hotel</td><td>171</td><td>7</td><td>2</td><td>775</td><td>Nem</td></tr>",
                            "<tr><td>Gold Hotel</td><td>171</td><td>7</td><td>2</td><td>876</td><td>Nem</td></tr>",
                            "<tr><td>Gold Hotel</td><td>171</td><td>7</td><td>2</td><td>951</td><td>Nem</td></tr>",
                            "<tr><td>Gold Hotel</td><td>171</td><td>7</td><td>2</td><td>970</td><td>Nem</td></tr>",
                            "<tr><td>Gold Hotel</td><td>171</td><td>7</td><td>2</td><td>1020</td><td>Nem</td></tr>",
                            "<tr><td>Gold Hotel</td><td>171</td><td>7</td><td>2</td><td>1140</td><td>Nem</td></tr>",
                            "<tr><td>Gold Hotel</td><td>171</td><td>7</td><td>2</td><td>1164</td><td>Nem</td></tr>",
                            "<tr><td>Gold Hotel</td><td>171</td><td>7</td><td>2</td><td>1430</td><td>Nem</td></tr>",
                            "<tr><td>Gold Hotel</td><td>172</td><td>8</td><td>2</td><td>697</td><td>Nem</td></tr>",
                            "<tr><td>Gold Hotel</td><td>172</td><td>8</td><td>2</td><td>775</td><td>Nem</td></tr>",
                            "<tr><td>Gold Hotel</td><td>172</td><td>8</td><td>2</td><td>876</td><td>Nem</td></tr>",
                            "<tr><td>Gold Hotel</td><td>172</td><td>8</td><td>2</td><td>951</td><td>Nem</td></tr>",
                            "<tr><td>Gold Hotel</td><td>172</td><td>8</td><td>2</td><td>970</td><td>Nem</td></tr>",
                            "<tr><td>Gold Hotel</td><td>172</td><td>8</td><td>2</td><td>1020</td><td>Nem</td></tr>",
                            "<tr><td>Gold Hotel</td><td>172</td><td>8</td><td>2</td><td>1140</td><td>Nem</td></tr>",
                            "<tr><td>Gold Hotel</td><td>172</td><td>8</td><td>2</td><td>1164</td><td>Nem</td></tr>",
                            "<tr><td>Gold Hotel</td><td>172</td><td>8</td><td>2</td><td>1430</td><td>Nem</td></tr>",
                            "<tr><td>Gold Hotel</td><td>173</td><td>9</td><td>2</td><td>697</td><td>Nem</td></tr>",
                            "<tr><td>Gold Hotel</td><td>173</td><td>9</td><td>2</td><td>775</td><td>Nem</td></tr>",
                            "<tr><td>Gold Hotel</td><td>173</td><td>9</td><td>2</td><td>876</td><td>Nem</td></tr>",
                            "<tr><td>Gold Hotel</td><td>173</td><td>9</td><td>2</td><td>951</td><td>Nem</td></tr>",
                            "<tr><td>Gold Hotel</td><td>173</td><td>9</td><td>2</td><td>970</td><td>Nem</td></tr>",
                            "<tr><td>Gold Hotel</td><td>173</td><td>9</td><td>2</td><td>1020</td><td>Nem</td></tr>",
                            "<tr><td>Gold Hotel</td><td>173</td><td>9</td><td>2</td><td>1140</td><td>Nem</td></tr>",
                            "<tr><td>Gold Hotel</td><td>173</td><td>9</td><td>2</td><td>1164</td><td>Nem</td></tr>",
                            "<tr><td>Gold Hotel</td><td>173</td><td>9</td><td>2</td><td>1430</td><td>Nem</td></tr>",
                            "<tr><td>Gold Hotel</td><td>174</td><td>10</td><td>2</td><td>697</td><td>Nem</td></tr>",
                            "<tr><td>Gold Hotel</td><td>174</td><td>10</td><td>2</td><td>775</td><td>Nem</td></tr>",
                            "<tr><td>Gold Hotel</td><td>174</td><td>10</td><td>2</td><td>876</td><td>Nem</td></tr>",
                            "<tr><td>Gold Hotel</td><td>174</td><td>10</td><td>2</td><td>951</td><td>Nem</td></tr>",
                            "<tr><td>Gold Hotel</td><td>174</td><td>10</td><td>2</td><td>970</td><td>Nem</td></tr>",
                            "<tr><td>Gold Hotel</td><td>174</td><td>10</td><td>2</td><td>1020</td><td>Nem</td></tr>",
                            "<tr><td>Gold Hotel</td><td>174</td><td>10</td><td>2</td><td>1140</td><td>Nem</td></tr>",
                            "<tr><td>Gold Hotel</td><td>174</td><td>10</td><td>2</td><td>1164</td><td>Nem</td></tr>",
                            "<tr><td>Gold Hotel</td><td>174</td><td>10</td><td>2</td><td>1430</td><td>Nem</td></tr>",
                            "<tr><td>Gold Hotel</td><td>175</td><td>11</td><td>2</td><td>697</td><td>Nem</td></tr>",
                            "<tr><td>Gold Hotel</td><td>175</td><td>11</td><td>2</td><td>775</td><td>Nem</td></tr>",
                            "<tr><td>Gold Hotel</td><td>175</td><td>11</td><td>2</td><td>876</td><td>Nem</td></tr>",
                            "<tr><td>Gold Hotel</td><td>175</td><td>11</td><td>2</td><td>951</td><td>Nem</td></tr>",
                            "<tr><td>Gold Hotel</td><td>175</td><td>11</td><td>2</td><td>970</td><td>Nem</td></tr>",
                            "<tr><td>Gold Hotel</td><td>175</td><td>11</td><td>2</td><td>1020</td><td>Nem</td></tr>",
                            "<tr><td>Gold Hotel</td><td>175</td><td>11</td><td>2</td><td>1140</td><td>Nem</td></tr>",
                            "<tr><td>Gold Hotel</td><td>175</td><td>11</td><td>2</td><td>1164</td><td>Nem</td></tr>",
                            "<tr><td>Gold Hotel</td><td>175</td><td>11</td><td>2</td><td>1430</td><td>Nem</td></tr>",
                            "<tr><td>Gold Hotel</td><td>176</td><td>12</td><td>3</td><td>697</td><td>Nem</td></tr>",
                            "<tr><td>Gold Hotel</td><td>176</td><td>12</td><td>3</td><td>775</td><td>Nem</td></tr>",
                            "<tr><td>Gold Hotel</td><td>176</td><td>12</td><td>3</td><td>876</td><td>Nem</td></tr>",
                            "<tr><td>Gold Hotel</td><td>176</td><td>12</td><td>3</td><td>951</td><td>Nem</td></tr>",
                            "<tr><td>Gold Hotel</td><td>176</td><td>12</td><td>3</td><td>970</td><td>Nem</td></tr>",
                            "<tr><td>Gold Hotel</td><td>176</td><td>12</td><td>3</td><td>1020</td><td>Nem</td></tr>",
                            "<tr><td>Gold Hotel</td><td>176</td><td>12</td><td>3</td><td>1140</td><td>Nem</td></tr>",
                            "<tr><td>Gold Hotel</td><td>176</td><td>12</td><td>3</td><td>1164</td><td>Nem</td></tr>",
                            "<tr><td>Gold Hotel</td><td>176</td><td>12</td><td>3</td><td>1430</td><td>Nem</td></tr>",
                            "<tr><td>Gold Hotel</td><td>177</td><td>13</td><td>3</td><td>697</td><td>Nem</td></tr>",
                            "<tr><td>Gold Hotel</td><td>177</td><td>13</td><td>3</td><td>775</td><td>Nem</td></tr>",
                            "<tr><td>Gold Hotel</td><td>177</td><td>13</td><td>3</td><td>876</td><td>Nem</td></tr>",
                            "<tr><td>Gold Hotel</td><td>177</td><td>13</td><td>3</td><td>951</td><td>Nem</td></tr>",
                            "<tr><td>Gold Hotel</td><td>177</td><td>13</td><td>3</td><td>970</td><td>Nem</td></tr>",
                            "<tr><td>Gold Hotel</td><td>177</td><td>13</td><td>3</td><td>1020</td><td>Nem</td></tr>",
                            "<tr><td>Gold Hotel</td><td>177</td><td>13</td><td>3</td><td>1140</td><td>Nem</td></tr>",
                            "<tr><td>Gold Hotel</td><td>177</td><td>13</td><td>3</td><td>1164</td><td>Nem</td></tr>",
                            "<tr><td>Gold Hotel</td><td>177</td><td>13</td><td>3</td><td>1430</td><td>Nem</td></tr>",
                            "<tr><td>Gold Hotel</td><td>178</td><td>14</td><td>3</td><td>697</td><td>Nem</td></tr>",
                            "<tr><td>Gold Hotel</td><td>178</td><td>14</td><td>3</td><td>775</td><td>Nem</td></tr>",
                            "<tr><td>Gold Hotel</td><td>178</td><td>14</td><td>3</td><td>876</td><td>Nem</td></tr>",
                            "<tr><td>Gold Hotel</td><td>178</td><td>14</td><td>3</td><td>951</td><td>Nem</td></tr>",
                            "<tr><td>Gold Hotel</td><td>178</td><td>14</td><td>3</td><td>970</td><td>Nem</td></tr>",
                            "<tr><td>Gold Hotel</td><td>178</td><td>14</td><td>3</td><td>1020</td><td>Nem</td></tr>",
                            "<tr><td>Gold Hotel</td><td>178</td><td>14</td><td>3</td><td>1140</td><td>Nem</td></tr>",
                            "<tr><td>Gold Hotel</td><td>178</td><td>14</td><td>3</td><td>1164</td><td>Nem</td></tr>",
                            "<tr><td>Gold Hotel</td><td>178</td><td>14</td><td>3</td><td>1430</td><td>Nem</td></tr>",
                            "<tr><td>Gold Hotel</td><td>179</td><td>15</td><td>3</td><td>697</td><td>Nem</td></tr>",
                            "<tr><td>Gold Hotel</td><td>179</td><td>15</td><td>3</td><td>775</td><td>Nem</td></tr>",
                            "<tr><td>Gold Hotel</td><td>179</td><td>15</td><td>3</td><td>876</td><td>Nem</td></tr>",
                            "<tr><td>Gold Hotel</td><td>179</td><td>15</td><td>3</td><td>951</td><td>Nem</td></tr>",
                            "<tr><td>Gold Hotel</td><td>179</td><td>15</td><td>3</td><td>970</td><td>Nem</td></tr>",
                            "<tr><td>Gold Hotel</td><td>179</td><td>15</td><td>3</td><td>1020</td><td>Nem</td></tr>",
                            "<tr><td>Gold Hotel</td><td>179</td><td>15</td><td>3</td><td>1140</td><td>Nem</td></tr>",
                            "<tr><td>Gold Hotel</td><td>179</td><td>15</td><td>3</td><td>1164</td><td>Nem</td></tr>",
                            "<tr><td>Gold Hotel</td><td>179</td><td>15</td><td>3</td><td>1430</td><td>Nem</td></tr>",
                            "<tr><td>Gold Hotel</td><td>180</td><td>16</td><td>2</td><td>697</td><td>Nem</td></tr>",
                            "<tr><td>Gold Hotel</td><td>180</td><td>16</td><td>2</td><td>775</td><td>Nem</td></tr>",
                            "<tr><td>Gold Hotel</td><td>180</td><td>16</td><td>2</td><td>876</td><td>Nem</td></tr>",
                            "<tr><td>Gold Hotel</td><td>180</td><td>16</td><td>2</td><td>951</td><td>Nem</td></tr>",
                            "<tr><td>Gold Hotel</td><td>180</td><td>16</td><td>2</td><td>970</td><td>Nem</td></tr>",
                            "<tr><td>Gold Hotel</td><td>180</td><td>16</td><td>2</td><td>1020</td><td>Nem</td></tr>",
                            "<tr><td>Gold Hotel</td><td>180</td><td>16</td><td>2</td><td>1140</td><td>Nem</td></tr>",
                            "<tr><td>Gold Hotel</td><td>180</td><td>16</td><td>2</td><td>1164</td><td>Nem</td></tr>",
                            "<tr><td>Gold Hotel</td><td>180</td><td>16</td><td>2</td><td>1430</td><td>Nem</td></tr>",
                            "<tr><td>Gold Hotel</td><td>181</td><td>17</td><td>3</td><td>697</td><td>Nem</td></tr>",
                            "<tr><td>Gold Hotel</td><td>181</td><td>17</td><td>3</td><td>775</td><td>Nem</td></tr>",
                            "<tr><td>Gold Hotel</td><td>181</td><td>17</td><td>3</td><td>876</td><td>Nem</td></tr>",
                            "<tr><td>Gold Hotel</td><td>181</td><td>17</td><td>3</td><td>951</td><td>Nem</td></tr>",
                            "<tr><td>Gold Hotel</td><td>181</td><td>17</td><td>3</td><td>970</td><td>Nem</td></tr>",
                            "<tr><td>Gold Hotel</td><td>181</td><td>17</td><td>3</td><td>1020</td><td>Nem</td></tr>",
                            "<tr><td>Gold Hotel</td><td>181</td><td>17</td><td>3</td><td>1140</td><td>Nem</td></tr>",
                            "<tr><td>Gold Hotel</td><td>181</td><td>17</td><td>3</td><td>1164</td><td>Nem</td></tr>",
                            "<tr><td>Gold Hotel</td><td>181</td><td>17</td><td>3</td><td>1430</td><td>Nem</td></tr>",
                            "<tr><td>Gold Hotel</td><td>182</td><td>18</td><td>2</td><td>697</td><td>Nem</td></tr>",
                            "<tr><td>Gold Hotel</td><td>182</td><td>18</td><td>2</td><td>775</td><td>Nem</td></tr>",
                            "<tr><td>Gold Hotel</td><td>182</td><td>18</td><td>2</td><td>876</td><td>Nem</td></tr>",
                            "<tr><td>Gold Hotel</td><td>182</td><td>18</td><td>2</td><td>951</td><td>Nem</td></tr>",
                            "<tr><td>Gold Hotel</td><td>182</td><td>18</td><td>2</td><td>970</td><td>Nem</td></tr>",
                            "<tr><td>Gold Hotel</td><td>182</td><td>18</td><td>2</td><td>1020</td><td>Nem</td></tr>",
                            "<tr><td>Gold Hotel</td><td>182</td><td>18</td><td>2</td><td>1140</td><td>Nem</td></tr>",
                            "<tr><td>Gold Hotel</td><td>182</td><td>18</td><td>2</td><td>1164</td><td>Nem</td></tr>",
                            "<tr><td>Gold Hotel</td><td>182</td><td>18</td><td>2</td><td>1430</td><td>Nem</td></tr>",
                            "<tr><td>Gold Hotel</td><td>183</td><td>19</td><td>3</td><td>697</td><td>Nem</td></tr>",
                            "<tr><td>Gold Hotel</td><td>183</td><td>19</td><td>3</td><td>775</td><td>Nem</td></tr>",
                            "<tr><td>Gold Hotel</td><td>183</td><td>19</td><td>3</td><td>876</td><td>Nem</td></tr>",
                            "<tr><td>Gold Hotel</td><td>183</td><td>19</td><td>3</td><td>951</td><td>Nem</td></tr>",
                            "<tr><td>Gold Hotel</td><td>183</td><td>19</td><td>3</td><td>970</td><td>Nem</td></tr>",
                            "<tr><td>Gold Hotel</td><td>183</td><td>19</td><td>3</td><td>1020</td><td>Nem</td></tr>",
                            "<tr><td>Gold Hotel</td><td>183</td><td>19</td><td>3</td><td>1140</td><td>Nem</td></tr>",
                            "<tr><td>Gold Hotel</td><td>183</td><td>19</td><td>3</td><td>1164</td><td>Nem</td></tr>",
                            "<tr><td>Gold Hotel</td><td>183</td><td>19</td><td>3</td><td>1430</td><td>Nem</td></tr>",
                            "<tr><td>Gold Hotel</td><td>184</td><td>20</td><td>2</td><td>697</td><td>Nem</td></tr>",
                            "<tr><td>Gold Hotel</td><td>184</td><td>20</td><td>2</td><td>775</td><td>Nem</td></tr>",
                            "<tr><td>Gold Hotel</td><td>184</td><td>20</td><td>2</td><td>876</td><td>Nem</td></tr>",
                            "<tr><td>Gold Hotel</td><td>184</td><td>20</td><td>2</td><td>951</td><td>Nem</td></tr>",
                            "<tr><td>Gold Hotel</td><td>184</td><td>20</td><td>2</td><td>970</td><td>Nem</td></tr>",
                            "<tr><td>Gold Hotel</td><td>184</td><td>20</td><td>2</td><td>1020</td><td>Nem</td></tr>",
                            "<tr><td>Gold Hotel</td><td>184</td><td>20</td><td>2</td><td>1140</td><td>Nem</td></tr>",
                            "<tr><td>Gold Hotel</td><td>184</td><td>20</td><td>2</td><td>1164</td><td>Nem</td></tr>",
                            "<tr><td>Gold Hotel</td><td>184</td><td>20</td><td>2</td><td>1430</td><td>Nem</td></tr>",
                            "<tr><td>Gold Hotel</td><td>185</td><td>21</td><td>3</td><td>697</td><td>Nem</td></tr>",
                            "<tr><td>Gold Hotel</td><td>185</td><td>21</td><td>3</td><td>775</td><td>Nem</td></tr>",
                            "<tr><td>Gold Hotel</td><td>185</td><td>21</td><td>3</td><td>876</td><td>Nem</td></tr>",
                            "<tr><td>Gold Hotel</td><td>185</td><td>21</td><td>3</td><td>951</td><td>Nem</td></tr>",
                            "<tr><td>Gold Hotel</td><td>185</td><td>21</td><td>3</td><td>970</td><td>Nem</td></tr>",
                            "<tr><td>Gold Hotel</td><td>185</td><td>21</td><td>3</td><td>1020</td><td>Nem</td></tr>",
                            "<tr><td>Gold Hotel</td><td>185</td><td>21</td><td>3</td><td>1140</td><td>Nem</td></tr>",
                            "<tr><td>Gold Hotel</td><td>185</td><td>21</td><td>3</td><td>1164</td><td>Nem</td></tr>",
                            "<tr><td>Gold Hotel</td><td>185</td><td>21</td><td>3</td><td>1430</td><td>Nem</td></tr>",
                            "<tr><td>Gold Hotel</td><td>186</td><td>22</td><td>2</td><td>697</td><td>Nem</td></tr>",
                            "<tr><td>Gold Hotel</td><td>186</td><td>22</td><td>2</td><td>775</td><td>Nem</td></tr>",
                            "<tr><td>Gold Hotel</td><td>186</td><td>22</td><td>2</td><td>876</td><td>Nem</td></tr>",
                            "<tr><td>Gold Hotel</td><td>186</td><td>22</td><td>2</td><td>951</td><td>Nem</td></tr>",
                            "<tr><td>Gold Hotel</td><td>186</td><td>22</td><td>2</td><td>970</td><td>Nem</td></tr>",
                            "<tr><td>Gold Hotel</td><td>186</td><td>22</td><td>2</td><td>1020</td><td>Nem</td></tr>",
                            "<tr><td>Gold Hotel</td><td>186</td><td>22</td><td>2</td><td>1140</td><td>Nem</td></tr>",
                            "<tr><td>Gold Hotel</td><td>186</td><td>22</td><td>2</td><td>1164</td><td>Nem</td></tr>",
                            "<tr><td>Gold Hotel</td><td>186</td><td>22</td><td>2</td><td>1430</td><td>Nem</td></tr>",
                            "<tr><td>Gold Hotel</td><td>187</td><td>23</td><td>3</td><td>697</td><td>Nem</td></tr>",
                            "<tr><td>Gold Hotel</td><td>187</td><td>23</td><td>3</td><td>775</td><td>Nem</td></tr>",
                            "<tr><td>Gold Hotel</td><td>187</td><td>23</td><td>3</td><td>876</td><td>Nem</td></tr>",
                            "<tr><td>Gold Hotel</td><td>187</td><td>23</td><td>3</td><td>951</td><td>Nem</td></tr>",
                            "<tr><td>Gold Hotel</td><td>187</td><td>23</td><td>3</td><td>970</td><td>Nem</td></tr>",
                            "<tr><td>Gold Hotel</td><td>187</td><td>23</td><td>3</td><td>1020</td><td>Nem</td></tr>",
                            "<tr><td>Gold Hotel</td><td>187</td><td>23</td><td>3</td><td>1140</td><td>Nem</td></tr>",
                            "<tr><td>Gold Hotel</td><td>187</td><td>23</td><td>3</td><td>1164</td><td>Nem</td></tr>",
                            "<tr><td>Gold Hotel</td><td>187</td><td>23</td><td>3</td><td>1430</td><td>Nem</td></tr>",
                            "<tr><td>Gold Hotel</td><td>188</td><td>24</td><td>3</td><td>697</td><td>Nem</td></tr>",
                            "<tr><td>Gold Hotel</td><td>188</td><td>24</td><td>3</td><td>775</td><td>Nem</td></tr>",
                            "<tr><td>Gold Hotel</td><td>188</td><td>24</td><td>3</td><td>876</td><td>Nem</td></tr>",
                            "<tr><td>Gold Hotel</td><td>188</td><td>24</td><td>3</td><td>951</td><td>Nem</td></tr>",
                            "<tr><td>Gold Hotel</td><td>188</td><td>24</td><td>3</td><td>970</td><td>Nem</td></tr>",
                            "<tr><td>Gold Hotel</td><td>188</td><td>24</td><td>3</td><td>1020</td><td>Nem</td></tr>",
                            "<tr><td>Gold Hotel</td><td>188</td><td>24</td><td>3</td><td>1140</td><td>Nem</td></tr>",
                            "<tr><td>Gold Hotel</td><td>188</td><td>24</td><td>3</td><td>1164</td><td>Nem</td></tr>",
                            "<tr><td>Gold Hotel</td><td>188</td><td>24</td><td>3</td><td>1430</td><td>Nem</td></tr>",
                            "<tr><td>Gold Hotel</td><td>189</td><td>25</td><td>2</td><td>697</td><td>Nem</td></tr>",
                            "<tr><td>Gold Hotel</td><td>189</td><td>25</td><td>2</td><td>775</td><td>Nem</td></tr>",
                            "<tr><td>Gold Hotel</td><td>189</td><td>25</td><td>2</td><td>876</td><td>Nem</td></tr>",
                            "<tr><td>Gold Hotel</td><td>189</td><td>25</td><td>2</td><td>951</td><td>Nem</td></tr>",
                            "<tr><td>Gold Hotel</td><td>189</td><td>25</td><td>2</td><td>970</td><td>Nem</td></tr>",
                            "<tr><td>Gold Hotel</td><td>189</td><td>25</td><td>2</td><td>1020</td><td>Nem</td></tr>",
                            "<tr><td>Gold Hotel</td><td>189</td><td>25</td><td>2</td><td>1140</td><td>Nem</td></tr>",
                            "<tr><td>Gold Hotel</td><td>189</td><td>25</td><td>2</td><td>1164</td><td>Nem</td></tr>",
                            "<tr><td>Gold Hotel</td><td>189</td><td>25</td><td>2</td><td>1430</td><td>Nem</td></tr>",
                            "<tr><td>Gold Hotel</td><td>190</td><td>26</td><td>2</td><td>697</td><td>Nem</td></tr>",
                            "<tr><td>Gold Hotel</td><td>190</td><td>26</td><td>2</td><td>775</td><td>Nem</td></tr>",
                            "<tr><td>Gold Hotel</td><td>190</td><td>26</td><td>2</td><td>876</td><td>Nem</td></tr>",
                            "<tr><td>Gold Hotel</td><td>190</td><td>26</td><td>2</td><td>951</td><td>Nem</td></tr>",
                            "<tr><td>Gold Hotel</td><td>190</td><td>26</td><td>2</td><td>970</td><td>Nem</td></tr>",
                            "<tr><td>Gold Hotel</td><td>190</td><td>26</td><td>2</td><td>1020</td><td>Nem</td></tr>",
                            "<tr><td>Gold Hotel</td><td>190</td><td>26</td><td>2</td><td>1140</td><td>Nem</td></tr>",
                            "<tr><td>Gold Hotel</td><td>190</td><td>26</td><td>2</td><td>1164</td><td>Nem</td></tr>",
                            "<tr><td>Gold Hotel</td><td>190</td><td>26</td><td>2</td><td>1430</td><td>Nem</td></tr>",
                            "<tr><td>Gold Hotel</td><td>191</td><td>27</td><td>2</td><td>697</td><td>Nem</td></tr>",
                            "<tr><td>Gold Hotel</td><td>191</td><td>27</td><td>2</td><td>775</td><td>Nem</td></tr>",
                            "<tr><td>Gold Hotel</td><td>191</td><td>27</td><td>2</td><td>876</td><td>Nem</td></tr>",
                            "<tr><td>Gold Hotel</td><td>191</td><td>27</td><td>2</td><td>951</td><td>Nem</td></tr>",
                            "<tr><td>Gold Hotel</td><td>191</td><td>27</td><td>2</td><td>970</td><td>Nem</td></tr>",
                            "<tr><td>Gold Hotel</td><td>191</td><td>27</td><td>2</td><td>1020</td><td>Nem</td></tr>",
                            "<tr><td>Gold Hotel</td><td>191</td><td>27</td><td>2</td><td>1140</td><td>Nem</td></tr>",
                            "<tr><td>Gold Hotel</td><td>191</td><td>27</td><td>2</td><td>1164</td><td>Nem</td></tr>",
                            "<tr><td>Gold Hotel</td><td>191</td><td>27</td><td>2</td><td>1430</td><td>Nem</td></tr>",
                            "<tr><td>Gold Hotel</td><td>192</td><td>28</td><td>2</td><td>697</td><td>Nem</td></tr>",
                            "<tr><td>Gold Hotel</td><td>192</td><td>28</td><td>2</td><td>775</td><td>Nem</td></tr>",
                            "<tr><td>Gold Hotel</td><td>192</td><td>28</td><td>2</td><td>876</td><td>Nem</td></tr>",
                            "<tr><td>Gold Hotel</td><td>192</td><td>28</td><td>2</td><td>951</td><td>Nem</td></tr>",
                            "<tr><td>Gold Hotel</td><td>192</td><td>28</td><td>2</td><td>970</td><td>Nem</td></tr>",
                            "<tr><td>Gold Hotel</td><td>192</td><td>28</td><td>2</td><td>1020</td><td>Nem</td></tr>",
                            "<tr><td>Gold Hotel</td><td>192</td><td>28</td><td>2</td><td>1140</td><td>Nem</td></tr>",
                            "<tr><td>Gold Hotel</td><td>192</td><td>28</td><td>2</td><td>1164</td><td>Nem</td></tr>",
                            "<tr><td>Gold Hotel</td><td>192</td><td>28</td><td>2</td><td>1430</td><td>Nem</td></tr>",
                            "<tr><td>Gold Hotel</td><td>193</td><td>29</td><td>3</td><td>697</td><td>Nem</td></tr>",
                            "<tr><td>Gold Hotel</td><td>193</td><td>29</td><td>3</td><td>775</td><td>Nem</td></tr>",
                            "<tr><td>Gold Hotel</td><td>193</td><td>29</td><td>3</td><td>876</td><td>Nem</td></tr>",
                            "<tr><td>Gold Hotel</td><td>193</td><td>29</td><td>3</td><td>951</td><td>Nem</td></tr>",
                            "<tr><td>Gold Hotel</td><td>193</td><td>29</td><td>3</td><td>970</td><td>Nem</td></tr>",
                            "<tr><td>Gold Hotel</td><td>193</td><td>29</td><td>3</td><td>1020</td><td>Nem</td></tr>",
                            "<tr><td>Gold Hotel</td><td>193</td><td>29</td><td>3</td><td>1140</td><td>Nem</td></tr>",
                            "<tr><td>Gold Hotel</td><td>193</td><td>29</td><td>3</td><td>1164</td><td>Nem</td></tr>",
                            "<tr><td>Gold Hotel</td><td>193</td><td>29</td><td>3</td><td>1430</td><td>Nem</td></tr>",
                            "<tr><td>Gold Hotel</td><td>194</td><td>30</td><td>2</td><td>697</td><td>Nem</td></tr>",
                            "<tr><td>Gold Hotel</td><td>194</td><td>30</td><td>2</td><td>775</td><td>Nem</td></tr>",
                            "<tr><td>Gold Hotel</td><td>194</td><td>30</td><td>2</td><td>876</td><td>Nem</td></tr>",
                            "<tr><td>Gold Hotel</td><td>194</td><td>30</td><td>2</td><td>951</td><td>Nem</td></tr>",
                            "<tr><td>Gold Hotel</td><td>194</td><td>30</td><td>2</td><td>970</td><td>Nem</td></tr>",
                            "<tr><td>Gold Hotel</td><td>194</td><td>30</td><td>2</td><td>1020</td><td>Nem</td></tr>",
                            "<tr><td>Gold Hotel</td><td>194</td><td>30</td><td>2</td><td>1140</td><td>Nem</td></tr>",
                            "<tr><td>Gold Hotel</td><td>194</td><td>30</td><td>2</td><td>1164</td><td>Nem</td></tr>",
                            "<tr><td>Gold Hotel</td><td>194</td><td>30</td><td>2</td><td>1430</td><td>Nem</td></tr>",
                            "<tr><td>Gold Hotel</td><td>195</td><td>31</td><td>2</td><td>697</td><td>Nem</td></tr>",
                            "<tr><td>Gold Hotel</td><td>195</td><td>31</td><td>2</td><td>775</td><td>Nem</td></tr>",
                            "<tr><td>Gold Hotel</td><td>195</td><td>31</td><td>2</td><td>876</td><td>Nem</td></tr>",
                            "<tr><td>Gold Hotel</td><td>195</td><td>31</td><td>2</td><td>951</td><td>Nem</td></tr>",
                            "<tr><td>Gold Hotel</td><td>195</td><td>31</td><td>2</td><td>970</td><td>Nem</td></tr>",
                            "<tr><td>Gold Hotel</td><td>195</td><td>31</td><td>2</td><td>1020</td><td>Nem</td></tr>",
                            "<tr><td>Gold Hotel</td><td>195</td><td>31</td><td>2</td><td>1140</td><td>Nem</td></tr>",
                            "<tr><td>Gold Hotel</td><td>195</td><td>31</td><td>2</td><td>1164</td><td>Nem</td></tr>",
                            "<tr><td>Gold Hotel</td><td>195</td><td>31</td><td>2</td><td>1430</td><td>Nem</td></tr>",
                            "<tr><td>Gold Hotel</td><td>196</td><td>32</td><td>2</td><td>697</td><td>Nem</td></tr>",
                            "<tr><td>Gold Hotel</td><td>196</td><td>32</td><td>2</td><td>775</td><td>Nem</td></tr>",
                            "<tr><td>Gold Hotel</td><td>196</td><td>32</td><td>2</td><td>876</td><td>Nem</td></tr>",
                            "<tr><td>Gold Hotel</td><td>196</td><td>32</td><td>2</td><td>951</td><td>Nem</td></tr>",
                            "<tr><td>Gold Hotel</td><td>196</td><td>32</td><td>2</td><td>970</td><td>Nem</td></tr>",
                            "<tr><td>Gold Hotel</td><td>196</td><td>32</td><td>2</td><td>1020</td><td>Nem</td></tr>",
                            "<tr><td>Gold Hotel</td><td>196</td><td>32</td><td>2</td><td>1140</td><td>Nem</td></tr>",
                            "<tr><td>Gold Hotel</td><td>196</td><td>32</td><td>2</td><td>1164</td><td>Nem</td></tr>",
                            "<tr><td>Gold Hotel</td><td>196</td><td>32</td><td>2</td><td>1430</td><td>Nem</td></tr>",
                            "<tr><td>Gold Hotel</td><td>197</td><td>33</td><td>3</td><td>697</td><td>Nem</td></tr>",
                            "<tr><td>Gold Hotel</td><td>197</td><td>33</td><td>3</td><td>775</td><td>Nem</td></tr>",
                            "<tr><td>Gold Hotel</td><td>197</td><td>33</td><td>3</td><td>876</td><td>Nem</td></tr>",
                            "<tr><td>Gold Hotel</td><td>197</td><td>33</td><td>3</td><td>951</td><td>Nem</td></tr>",
                            "<tr><td>Gold Hotel</td><td>197</td><td>33</td><td>3</td><td>970</td><td>Nem</td></tr>",
                            "<tr><td>Gold Hotel</td><td>197</td><td>33</td><td>3</td><td>1020</td><td>Nem</td></tr>",
                            "<tr><td>Gold Hotel</td><td>197</td><td>33</td><td>3</td><td>1140</td><td>Nem</td></tr>",
                            "<tr><td>Gold Hotel</td><td>197</td><td>33</td><td>3</td><td>1164</td><td>Nem</td></tr>",
                            "<tr><td>Gold Hotel</td><td>197</td><td>33</td><td>3</td><td>1430</td><td>Nem</td></tr>",
                            "<tr><td>Gold Hotel</td><td>198</td><td>34</td><td>3</td><td>697</td><td>Nem</td></tr>",
                            "<tr><td>Gold Hotel</td><td>198</td><td>34</td><td>3</td><td>775</td><td>Nem</td></tr>",
                            "<tr><td>Gold Hotel</td><td>198</td><td>34</td><td>3</td><td>876</td><td>Nem</td></tr>",
                            "<tr><td>Gold Hotel</td><td>198</td><td>34</td><td>3</td><td>951</td><td>Nem</td></tr>",
                            "<tr><td>Gold Hotel</td><td>198</td><td>34</td><td>3</td><td>970</td><td>Nem</td></tr>",
                            "<tr><td>Gold Hotel</td><td>198</td><td>34</td><td>3</td><td>1020</td><td>Nem</td></tr>",
                            "<tr><td>Gold Hotel</td><td>198</td><td>34</td><td>3</td><td>1140</td><td>Nem</td></tr>",
                            "<tr><td>Gold Hotel</td><td>198</td><td>34</td><td>3</td><td>1164</td><td>Nem</td></tr>",
                            "<tr><td>Gold Hotel</td><td>198</td><td>34</td><td>3</td><td>1430</td><td>Nem</td></tr>",
                            "<tr><td>Gold Hotel</td><td>199</td><td>35</td><td>3</td><td>697</td><td>Nem</td></tr>",
                            "<tr><td>Gold Hotel</td><td>199</td><td>35</td><td>3</td><td>775</td><td>Nem</td></tr>",
                            "<tr><td>Gold Hotel</td><td>199</td><td>35</td><td>3</td><td>876</td><td>Nem</td></tr>",
                            "<tr><td>Gold Hotel</td><td>199</td><td>35</td><td>3</td><td>951</td><td>Nem</td></tr>",
                            "<tr><td>Gold Hotel</td><td>199</td><td>35</td><td>3</td><td>970</td><td>Nem</td></tr>",
                            "<tr><td>Gold Hotel</td><td>199</td><td>35</td><td>3</td><td>1020</td><td>Nem</td></tr>",
                            "<tr><td>Gold Hotel</td><td>199</td><td>35</td><td>3</td><td>1140</td><td>Nem</td></tr>",
                            "<tr><td>Gold Hotel</td><td>199</td><td>35</td><td>3</td><td>1164</td><td>Nem</td></tr>",
                            "<tr><td>Gold Hotel</td><td>199</td><td>35</td><td>3</td><td>1430</td><td>Nem</td></tr>",
                            "<tr><td>Gold Hotel</td><td>200</td><td>36</td><td>2</td><td>697</td><td>Nem</td></tr>",
                            "<tr><td>Gold Hotel</td><td>200</td><td>36</td><td>2</td><td>775</td><td>Nem</td></tr>",
                            "<tr><td>Gold Hotel</td><td>200</td><td>36</td><td>2</td><td>876</td><td>Nem</td></tr>",
                            "<tr><td>Gold Hotel</td><td>200</td><td>36</td><td>2</td><td>951</td><td>Nem</td></tr>",
                            "<tr><td>Gold Hotel</td><td>200</td><td>36</td><td>2</td><td>970</td><td>Nem</td></tr>",
                            "<tr><td>Gold Hotel</td><td>200</td><td>36</td><td>2</td><td>1020</td><td>Nem</td></tr>",
                            "<tr><td>Gold Hotel</td><td>200</td><td>36</td><td>2</td><td>1140</td><td>Nem</td></tr>",
                            "<tr><td>Gold Hotel</td><td>200</td><td>36</td><td>2</td><td>1164</td><td>Nem</td></tr>",
                            "<tr><td>Gold Hotel</td><td>200</td><td>36</td><td>2</td><td>1430</td><td>Nem</td></tr>",
                            "<tr><td>Gold Hotel</td><td>201</td><td>37</td><td>3</td><td>697</td><td>Nem</td></tr>",
                            "<tr><td>Gold Hotel</td><td>201</td><td>37</td><td>3</td><td>775</td><td>Nem</td></tr>",
                            "<tr><td>Gold Hotel</td><td>201</td><td>37</td><td>3</td><td>876</td><td>Nem</td></tr>",
                            "<tr><td>Gold Hotel</td><td>201</td><td>37</td><td>3</td><td>951</td><td>Nem</td></tr>",
                            "<tr><td>Gold Hotel</td><td>201</td><td>37</td><td>3</td><td>970</td><td>Nem</td></tr>",
                            "<tr><td>Gold Hotel</td><td>201</td><td>37</td><td>3</td><td>1020</td><td>Nem</td></tr>",
                            "<tr><td>Gold Hotel</td><td>201</td><td>37</td><td>3</td><td>1140</td><td>Nem</td></tr>",
                            "<tr><td>Gold Hotel</td><td>201</td><td>37</td><td>3</td><td>1164</td><td>Nem</td></tr>",
                            "<tr><td>Gold Hotel</td><td>201</td><td>37</td><td>3</td><td>1430</td><td>Nem</td></tr>",
                            "<tr><td>Gold Hotel</td><td>202</td><td>38</td><td>3</td><td>697</td><td>Nem</td></tr>",
                            "<tr><td>Gold Hotel</td><td>202</td><td>38</td><td>3</td><td>775</td><td>Nem</td></tr>",
                            "<tr><td>Gold Hotel</td><td>202</td><td>38</td><td>3</td><td>876</td><td>Nem</td></tr>",
                            "<tr><td>Gold Hotel</td><td>202</td><td>38</td><td>3</td><td>951</td><td>Nem</td></tr>",
                            "<tr><td>Gold Hotel</td><td>202</td><td>38</td><td>3</td><td>970</td><td>Nem</td></tr>",
                            "<tr><td>Gold Hotel</td><td>202</td><td>38</td><td>3</td><td>1020</td><td>Nem</td></tr>",
                            "<tr><td>Gold Hotel</td><td>202</td><td>38</td><td>3</td><td>1140</td><td>Nem</td></tr>",
                            "<tr><td>Gold Hotel</td><td>202</td><td>38</td><td>3</td><td>1164</td><td>Nem</td></tr>",
                            "<tr><td>Gold Hotel</td><td>202</td><td>38</td><td>3</td><td>1430</td><td>Nem</td></tr>",
                            "<tr><td>Gold Hotel</td><td>203</td><td>39</td><td>3</td><td>697</td><td>Nem</td></tr>",
                            "<tr><td>Gold Hotel</td><td>203</td><td>39</td><td>3</td><td>775</td><td>Nem</td></tr>",
                            "<tr><td>Gold Hotel</td><td>203</td><td>39</td><td>3</td><td>876</td><td>Nem</td></tr>",
                            "<tr><td>Gold Hotel</td><td>203</td><td>39</td><td>3</td><td>951</td><td>Nem</td></tr>",
                            "<tr><td>Gold Hotel</td><td>203</td><td>39</td><td>3</td><td>970</td><td>Nem</td></tr>",
                            "<tr><td>Gold Hotel</td><td>203</td><td>39</td><td>3</td><td>1020</td><td>Nem</td></tr>",
                            "<tr><td>Gold Hotel</td><td>203</td><td>39</td><td>3</td><td>1140</td><td>Nem</td></tr>",
                            "<tr><td>Gold Hotel</td><td>203</td><td>39</td><td>3</td><td>1164</td><td>Nem</td></tr>",
                            "<tr><td>Gold Hotel</td><td>203</td><td>39</td><td>3</td><td>1430</td><td>Nem</td></tr>",
                            "<tr><td>Gold Hotel</td><td>204</td><td>40</td><td>3</td><td>697</td><td>Nem</td></tr>",
                            "<tr><td>Gold Hotel</td><td>204</td><td>40</td><td>3</td><td>775</td><td>Nem</td></tr>",
                            "<tr><td>Gold Hotel</td><td>204</td><td>40</td><td>3</td><td>876</td><td>Nem</td></tr>",
                            "<tr><td>Gold Hotel</td><td>204</td><td>40</td><td>3</td><td>951</td><td>Nem</td></tr>",
                            "<tr><td>Gold Hotel</td><td>204</td><td>40</td><td>3</td><td>970</td><td>Nem</td></tr>",
                            "<tr><td>Gold Hotel</td><td>204</td><td>40</td><td>3</td><td>1020</td><td>Nem</td></tr>",
                            "<tr><td>Gold Hotel</td><td>204</td><td>40</td><td>3</td><td>1140</td><td>Nem</td></tr>",
                            "<tr><td>Gold Hotel</td><td>204</td><td>40</td><td>3</td><td>1164</td><td>Nem</td></tr>",
                            "<tr><td>Gold Hotel</td><td>204</td><td>40</td><td>3</td><td>1430</td><td>Nem</td></tr>",
                            "<tr><td>Gold Hotel</td><td>205</td><td>41</td><td>3</td><td>697</td><td>Nem</td></tr>",
                            "<tr><td>Gold Hotel</td><td>205</td><td>41</td><td>3</td><td>775</td><td>Nem</td></tr>",
                            "<tr><td>Gold Hotel</td><td>205</td><td>41</td><td>3</td><td>876</td><td>Nem</td></tr>",
                            "<tr><td>Gold Hotel</td><td>205</td><td>41</td><td>3</td><td>951</td><td>Nem</td></tr>",
                            "<tr><td>Gold Hotel</td><td>205</td><td>41</td><td>3</td><td>970</td><td>Nem</td></tr>",
                            "<tr><td>Gold Hotel</td><td>205</td><td>41</td><td>3</td><td>1020</td><td>Nem</td></tr>",
                            "<tr><td>Gold Hotel</td><td>205</td><td>41</td><td>3</td><td>1140</td><td>Nem</td></tr>",
                            "<tr><td>Gold Hotel</td><td>205</td><td>41</td><td>3</td><td>1164</td><td>Nem</td></tr>",
                            "<tr><td>Gold Hotel</td><td>205</td><td>41</td><td>3</td><td>1430</td><td>Nem</td></tr>",
                            "<tr><td>Gold Hotel</td><td>206</td><td>42</td><td>2</td><td>697</td><td>Nem</td></tr>",
                            "<tr><td>Gold Hotel</td><td>206</td><td>42</td><td>2</td><td>775</td><td>Nem</td></tr>",
                            "<tr><td>Gold Hotel</td><td>206</td><td>42</td><td>2</td><td>876</td><td>Nem</td></tr>",
                            "<tr><td>Gold Hotel</td><td>206</td><td>42</td><td>2</td><td>951</td><td>Nem</td></tr>",
                            "<tr><td>Gold Hotel</td><td>206</td><td>42</td><td>2</td><td>970</td><td>Nem</td></tr>",
                            "<tr><td>Gold Hotel</td><td>206</td><td>42</td><td>2</td><td>1020</td><td>Nem</td></tr>",
                            "<tr><td>Gold Hotel</td><td>206</td><td>42</td><td>2</td><td>1140</td><td>Nem</td></tr>",
                            "<tr><td>Gold Hotel</td><td>206</td><td>42</td><td>2</td><td>1164</td><td>Nem</td></tr>",
                            "<tr><td>Gold Hotel</td><td>206</td><td>42</td><td>2</td><td>1430</td><td>Nem</td></tr>",
                            "<tr><td>Gold Hotel</td><td>207</td><td>43</td><td>2</td><td>697</td><td>Nem</td></tr>",
                            "<tr><td>Gold Hotel</td><td>207</td><td>43</td><td>2</td><td>775</td><td>Nem</td></tr>",
                            "<tr><td>Gold Hotel</td><td>207</td><td>43</td><td>2</td><td>876</td><td>Nem</td></tr>",
                            "<tr><td>Gold Hotel</td><td>207</td><td>43</td><td>2</td><td>951</td><td>Nem</td></tr>",
                            "<tr><td>Gold Hotel</td><td>207</td><td>43</td><td>2</td><td>970</td><td>Nem</td></tr>",
                            "<tr><td>Gold Hotel</td><td>207</td><td>43</td><td>2</td><td>1020</td><td>Nem</td></tr>",
                            "<tr><td>Gold Hotel</td><td>207</td><td>43</td><td>2</td><td>1140</td><td>Nem</td></tr>",
                            "<tr><td>Gold Hotel</td><td>207</td><td>43</td><td>2</td><td>1164</td><td>Nem</td></tr>",
                            "<tr><td>Gold Hotel</td><td>207</td><td>43</td><td>2</td><td>1430</td><td>Nem</td></tr>",
                            "<tr><td>Gold Hotel</td><td>208</td><td>44</td><td>2</td><td>697</td><td>Nem</td></tr>",
                            "<tr><td>Gold Hotel</td><td>208</td><td>44</td><td>2</td><td>775</td><td>Nem</td></tr>",
                            "<tr><td>Gold Hotel</td><td>208</td><td>44</td><td>2</td><td>876</td><td>Nem</td></tr>",
                            "<tr><td>Gold Hotel</td><td>208</td><td>44</td><td>2</td><td>951</td><td>Nem</td></tr>",
                            "<tr><td>Gold Hotel</td><td>208</td><td>44</td><td>2</td><td>970</td><td>Nem</td></tr>",
                            "<tr><td>Gold Hotel</td><td>208</td><td>44</td><td>2</td><td>1020</td><td>Nem</td></tr>",
                            "<tr><td>Gold Hotel</td><td>208</td><td>44</td><td>2</td><td>1140</td><td>Nem</td></tr>",
                            "<tr><td>Gold Hotel</td><td>208</td><td>44</td><td>2</td><td>1164</td><td>Nem</td></tr>",
                            "<tr><td>Gold Hotel</td><td>208</td><td>44</td><td>2</td><td>1430</td><td>Nem</td></tr>",
                            "<tr><td>Gold Hotel</td><td>209</td><td>45</td><td>3</td><td>697</td><td>Nem</td></tr>",
                            "<tr><td>Gold Hotel</td><td>209</td><td>45</td><td>3</td><td>775</td><td>Nem</td></tr>",
                            "<tr><td>Gold Hotel</td><td>209</td><td>45</td><td>3</td><td>876</td><td>Nem</td></tr>",
                            "<tr><td>Gold Hotel</td><td>209</td><td>45</td><td>3</td><td>951</td><td>Nem</td></tr>",
                            "<tr><td>Gold Hotel</td><td>209</td><td>45</td><td>3</td><td>970</td><td>Nem</td></tr>",
                            "<tr><td>Gold Hotel</td><td>209</td><td>45</td><td>3</td><td>1020</td><td>Nem</td></tr>",
                            "<tr><td>Gold Hotel</td><td>209</td><td>45</td><td>3</td><td>1140</td><td>Nem</td></tr>",
                            "<tr><td>Gold Hotel</td><td>209</td><td>45</td><td>3</td><td>1164</td><td>Nem</td></tr>",
                            "<tr><td>Gold Hotel</td><td>209</td><td>45</td><td>3</td><td>1430</td><td>Nem</td></tr>",
                            "<tr><td>Gold Hotel</td><td>210</td><td>46</td><td>2</td><td>697</td><td>Nem</td></tr>",
                            "<tr><td>Gold Hotel</td><td>210</td><td>46</td><td>2</td><td>775</td><td>Nem</td></tr>",
                            "<tr><td>Gold Hotel</td><td>210</td><td>46</td><td>2</td><td>876</td><td>Nem</td></tr>",
                            "<tr><td>Gold Hotel</td><td>210</td><td>46</td><td>2</td><td>951</td><td>Nem</td></tr>",
                            "<tr><td>Gold Hotel</td><td>210</td><td>46</td><td>2</td><td>970</td><td>Nem</td></tr>",
                            "<tr><td>Gold Hotel</td><td>210</td><td>46</td><td>2</td><td>1020</td><td>Nem</td></tr>",
                            "<tr><td>Gold Hotel</td><td>210</td><td>46</td><td>2</td><td>1140</td><td>Nem</td></tr>",
                            "<tr><td>Gold Hotel</td><td>210</td><td>46</td><td>2</td><td>1164</td><td>Nem</td></tr>",
                            "<tr><td>Gold Hotel</td><td>210</td><td>46</td><td>2</td><td>1430</td><td>Nem</td></tr>",
                            "<tr><td>Gold Hotel</td><td>211</td><td>47</td><td>2</td><td>697</td><td>Nem</td></tr>",
                            "<tr><td>Gold Hotel</td><td>211</td><td>47</td><td>2</td><td>775</td><td>Nem</td></tr>",
                            "<tr><td>Gold Hotel</td><td>211</td><td>47</td><td>2</td><td>876</td><td>Nem</td></tr>",
                            "<tr><td>Gold Hotel</td><td>211</td><td>47</td><td>2</td><td>951</td><td>Nem</td></tr>",
                            "<tr><td>Gold Hotel</td><td>211</td><td>47</td><td>2</td><td>970</td><td>Nem</td></tr>",
                            "<tr><td>Gold Hotel</td><td>211</td><td>47</td><td>2</td><td>1020</td><td>Nem</td></tr>",
                            "<tr><td>Gold Hotel</td><td>211</td><td>47</td><td>2</td><td>1140</td><td>Nem</td></tr>",
                            "<tr><td>Gold Hotel</td><td>211</td><td>47</td><td>2</td><td>1164</td><td>Nem</td></tr>",
                            "<tr><td>Gold Hotel</td><td>211</td><td>47</td><td>2</td><td>1430</td><td>Nem</td></tr>",
                            "<tr><td>Gold Hotel</td><td>212</td><td>48</td><td>3</td><td>697</td><td>Nem</td></tr>",
                            "<tr><td>Gold Hotel</td><td>212</td><td>48</td><td>3</td><td>775</td><td>Nem</td></tr>",
                            "<tr><td>Gold Hotel</td><td>212</td><td>48</td><td>3</td><td>876</td><td>Nem</td></tr>",
                            "<tr><td>Gold Hotel</td><td>212</td><td>48</td><td>3</td><td>951</td><td>Nem</td></tr>",
                            "<tr><td>Gold Hotel</td><td>212</td><td>48</td><td>3</td><td>970</td><td>Nem</td></tr>",
                            "<tr><td>Gold Hotel</td><td>212</td><td>48</td><td>3</td><td>1020</td><td>Nem</td></tr>",
                            "<tr><td>Gold Hotel</td><td>212</td><td>48</td><td>3</td><td>1140</td><td>Nem</td></tr>",
                            "<tr><td>Gold Hotel</td><td>212</td><td>48</td><td>3</td><td>1164</td><td>Nem</td></tr>",
                            "<tr><td>Gold Hotel</td><td>212</td><td>48</td><td>3</td><td>1430</td><td>Nem</td></tr>",
                            "<tr><td>Gold Hotel</td><td>213</td><td>49</td><td>3</td><td>697</td><td>Nem</td></tr>",
                            "<tr><td>Gold Hotel</td><td>213</td><td>49</td><td>3</td><td>775</td><td>Nem</td></tr>",
                            "<tr><td>Gold Hotel</td><td>213</td><td>49</td><td>3</td><td>876</td><td>Nem</td></tr>",
                            "<tr><td>Gold Hotel</td><td>213</td><td>49</td><td>3</td><td>951</td><td>Nem</td></tr>",
                            "<tr><td>Gold Hotel</td><td>213</td><td>49</td><td>3</td><td>970</td><td>Nem</td></tr>",
                            "<tr><td>Gold Hotel</td><td>213</td><td>49</td><td>3</td><td>1020</td><td>Nem</td></tr>",
                            "<tr><td>Gold Hotel</td><td>213</td><td>49</td><td>3</td><td>1140</td><td>Nem</td></tr>",
                            "<tr><td>Gold Hotel</td><td>213</td><td>49</td><td>3</td><td>1164</td><td>Nem</td></tr>",
                            "<tr><td>Gold Hotel</td><td>213</td><td>49</td><td>3</td><td>1430</td><td>Nem</td></tr>",
                            "<tr><td>Gold Hotel</td><td>214</td><td>50</td><td>3</td><td>697</td><td>Nem</td></tr>",
                            "<tr><td>Gold Hotel</td><td>214</td><td>50</td><td>3</td><td>775</td><td>Nem</td></tr>",
                            "<tr><td>Gold Hotel</td><td>214</td><td>50</td><td>3</td><td>876</td><td>Nem</td></tr>",
                            "<tr><td>Gold Hotel</td><td>214</td><td>50</td><td>3</td><td>951</td><td>Nem</td></tr>",
                            "<tr><td>Gold Hotel</td><td>214</td><td>50</td><td>3</td><td>970</td><td>Nem</td></tr>",
                            "<tr><td>Gold Hotel</td><td>214</td><td>50</td><td>3</td><td>1020</td><td>Nem</td></tr>",
                            "<tr><td>Gold Hotel</td><td>214</td><td>50</td><td>3</td><td>1140</td><td>Nem</td></tr>",
                            "<tr><td>Gold Hotel</td><td>214</td><td>50</td><td>3</td><td>1164</td><td>Nem</td></tr>",
                            "<tr><td>Gold Hotel</td><td>214</td><td>50</td><td>3</td><td>1430</td><td>Nem</td></tr>",
                            "<tr><td>Riviéra Panzió</td><td>215</td><td>1</td><td>2</td><td>763</td><td>Igen</td></tr>",
                            "<tr><td>Riviéra Panzió</td><td>215</td><td>1</td><td>2</td><td>1044</td><td>Igen</td></tr>",
                            "<tr><td>Riviéra Panzió</td><td>215</td><td>1</td><td>2</td><td>1347</td><td>Igen</td></tr>",
                            "<tr><td>Riviéra Panzió</td><td>215</td><td>1</td><td>2</td><td>1469</td><td>Igen</td></tr>",
                            "<tr><td>Riviéra Panzió</td><td>216</td><td>2</td><td>3</td><td>763</td><td>Igen</td></tr>",
                            "<tr><td>Riviéra Panzió</td><td>216</td><td>2</td><td>3</td><td>1044</td><td>Igen</td></tr>",
                            "<tr><td>Riviéra Panzió</td><td>216</td><td>2</td><td>3</td><td>1347</td><td>Igen</td></tr>",
                            "<tr><td>Riviéra Panzió</td><td>216</td><td>2</td><td>3</td><td>1469</td><td>Igen</td></tr>",
                            "<tr><td>Riviéra Panzió</td><td>217</td><td>3</td><td>2</td><td>763</td><td>Igen</td></tr>",
                            "<tr><td>Riviéra Panzió</td><td>217</td><td>3</td><td>2</td><td>1044</td><td>Igen</td></tr>",
                            "<tr><td>Riviéra Panzió</td><td>217</td><td>3</td><td>2</td><td>1347</td><td>Igen</td></tr>",
                            "<tr><td>Riviéra Panzió</td><td>217</td><td>3</td><td>2</td><td>1469</td><td>Igen</td></tr>",
                            "<tr><td>Riviéra Panzió</td><td>218</td><td>4</td><td>3</td><td>763</td><td>Igen</td></tr>",
                            "<tr><td>Riviéra Panzió</td><td>218</td><td>4</td><td>3</td><td>1044</td><td>Igen</td></tr>",
                            "<tr><td>Riviéra Panzió</td><td>218</td><td>4</td><td>3</td><td>1347</td><td>Igen</td></tr>",
                            "<tr><td>Riviéra Panzió</td><td>218</td><td>4</td><td>3</td><td>1469</td><td>Igen</td></tr>",
                            "<tr><td>Riviéra Panzió</td><td>219</td><td>5</td><td>2</td><td>763</td><td>Igen</td></tr>",
                            "<tr><td>Riviéra Panzió</td><td>219</td><td>5</td><td>2</td><td>1044</td><td>Igen</td></tr>",
                            "<tr><td>Riviéra Panzió</td><td>219</td><td>5</td><td>2</td><td>1347</td><td>Igen</td></tr>",
                            "<tr><td>Riviéra Panzió</td><td>219</td><td>5</td><td>2</td><td>1469</td><td>Igen</td></tr>",
                            "<tr><td>Riviéra Panzió</td><td>220</td><td>6</td><td>3</td><td>763</td><td>Igen</td></tr>",
                            "<tr><td>Riviéra Panzió</td><td>220</td><td>6</td><td>3</td><td>1044</td><td>Igen</td></tr>",
                            "<tr><td>Riviéra Panzió</td><td>220</td><td>6</td><td>3</td><td>1347</td><td>Igen</td></tr>",
                            "<tr><td>Riviéra Panzió</td><td>220</td><td>6</td><td>3</td><td>1469</td><td>Igen</td></tr>",
                            "<tr><td>Riviéra Panzió</td><td>221</td><td>7</td><td>3</td><td>763</td><td>Igen</td></tr>",
                            "<tr><td>Riviéra Panzió</td><td>221</td><td>7</td><td>3</td><td>1044</td><td>Igen</td></tr>",
                            "<tr><td>Riviéra Panzió</td><td>221</td><td>7</td><td>3</td><td>1347</td><td>Igen</td></tr>",
                            "<tr><td>Riviéra Panzió</td><td>221</td><td>7</td><td>3</td><td>1469</td><td>Igen</td></tr>",
                            "<tr><td>Riviéra Panzió</td><td>222</td><td>8</td><td>2</td><td>763</td><td>Igen</td></tr>",
                            "<tr><td>Riviéra Panzió</td><td>222</td><td>8</td><td>2</td><td>1044</td><td>Igen</td></tr>",
                            "<tr><td>Riviéra Panzió</td><td>222</td><td>8</td><td>2</td><td>1347</td><td>Igen</td></tr>",
                            "<tr><td>Riviéra Panzió</td><td>222</td><td>8</td><td>2</td><td>1469</td><td>Igen</td></tr>",
                            "<tr><td>Riviéra Panzió</td><td>223</td><td>9</td><td>2</td><td>763</td><td>Igen</td></tr>",
                            "<tr><td>Riviéra Panzió</td><td>223</td><td>9</td><td>2</td><td>1044</td><td>Igen</td></tr>",
                            "<tr><td>Riviéra Panzió</td><td>223</td><td>9</td><td>2</td><td>1347</td><td>Igen</td></tr>",
                            "<tr><td>Riviéra Panzió</td><td>223</td><td>9</td><td>2</td><td>1469</td><td>Igen</td></tr>",
                            "<tr><td>Riviéra Panzió</td><td>224</td><td>10</td><td>2</td><td>763</td><td>Igen</td></tr>",
                            "<tr><td>Riviéra Panzió</td><td>224</td><td>10</td><td>2</td><td>1044</td><td>Igen</td></tr>",
                            "<tr><td>Riviéra Panzió</td><td>224</td><td>10</td><td>2</td><td>1347</td><td>Igen</td></tr>",
                            "<tr><td>Riviéra Panzió</td><td>224</td><td>10</td><td>2</td><td>1469</td><td>Igen</td></tr>",
                            "<tr><td>Riviéra Panzió</td><td>225</td><td>11</td><td>2</td><td>763</td><td>Igen</td></tr>",
                            "<tr><td>Riviéra Panzió</td><td>225</td><td>11</td><td>2</td><td>1044</td><td>Igen</td></tr>",
                            "<tr><td>Riviéra Panzió</td><td>225</td><td>11</td><td>2</td><td>1347</td><td>Igen</td></tr>",
                            "<tr><td>Riviéra Panzió</td><td>225</td><td>11</td><td>2</td><td>1469</td><td>Igen</td></tr>",
                            "<tr><td>Riviéra Panzió</td><td>226</td><td>12</td><td>3</td><td>763</td><td>Igen</td></tr>",
                            "<tr><td>Riviéra Panzió</td><td>226</td><td>12</td><td>3</td><td>1044</td><td>Igen</td></tr>",
                            "<tr><td>Riviéra Panzió</td><td>226</td><td>12</td><td>3</td><td>1347</td><td>Igen</td></tr>",
                            "<tr><td>Riviéra Panzió</td><td>226</td><td>12</td><td>3</td><td>1469</td><td>Igen</td></tr>",
                            "<tr><td>Nyárfás Vendégház</td><td>227</td><td>1</td><td>2</td><td>663</td><td>Nem</td></tr>",
                            "<tr><td>Nyárfás Vendégház</td><td>227</td><td>1</td><td>2</td><td>813</td><td>Nem</td></tr>",
                            "<tr><td>Nyárfás Vendégház</td><td>227</td><td>1</td><td>2</td><td>1542</td><td>Nem</td></tr>",
                            "<tr><td>Nyárfás Vendégház</td><td>228</td><td>2</td><td>3</td><td>663</td><td>Nem</td></tr>",
                            "<tr><td>Nyárfás Vendégház</td><td>228</td><td>2</td><td>3</td><td>813</td><td>Nem</td></tr>",
                            "<tr><td>Nyárfás Vendégház</td><td>228</td><td>2</td><td>3</td><td>1542</td><td>Nem</td></tr>",
                            "<tr><td>Nyárfás Vendégház</td><td>229</td><td>3</td><td>2</td><td>663</td><td>Nem</td></tr>",
                            "<tr><td>Nyárfás Vendégház</td><td>229</td><td>3</td><td>2</td><td>813</td><td>Nem</td></tr>",
                            "<tr><td>Nyárfás Vendégház</td><td>229</td><td>3</td><td>2</td><td>1542</td><td>Nem</td></tr>",
                            "<tr><td>Nyárfás Vendégház</td><td>230</td><td>4</td><td>3</td><td>663</td><td>Nem</td></tr>",
                            "<tr><td>Nyárfás Vendégház</td><td>230</td><td>4</td><td>3</td><td>813</td><td>Nem</td></tr>",
                            "<tr><td>Nyárfás Vendégház</td><td>230</td><td>4</td><td>3</td><td>1542</td><td>Nem</td></tr>",
                            "<tr><td>Tímárház Panzió</td><td>231</td><td>1</td><td>2</td><td>791</td><td>Igen</td></tr>",
                            "<tr><td>Tímárház Panzió</td><td>231</td><td>1</td><td>2</td><td>1028</td><td>Igen</td></tr>",
                            "<tr><td>Tímárház Panzió</td><td>231</td><td>1</td><td>2</td><td>1129</td><td>Igen</td></tr>",
                            "<tr><td>Tímárház Panzió</td><td>231</td><td>1</td><td>2</td><td>1244</td><td>Igen</td></tr>",
                            "<tr><td>Tímárház Panzió</td><td>231</td><td>1</td><td>2</td><td>1418</td><td>Igen</td></tr>",
                            "<tr><td>Tímárház Panzió</td><td>231</td><td>1</td><td>2</td><td>1442</td><td>Igen</td></tr>",
                            "<tr><td>Tímárház Panzió</td><td>232</td><td>2</td><td>2</td><td>791</td><td>Igen</td></tr>",
                            "<tr><td>Tímárház Panzió</td><td>232</td><td>2</td><td>2</td><td>1028</td><td>Igen</td></tr>",
                            "<tr><td>Tímárház Panzió</td><td>232</td><td>2</td><td>2</td><td>1129</td><td>Igen</td></tr>",
                            "<tr><td>Tímárház Panzió</td><td>232</td><td>2</td><td>2</td><td>1244</td><td>Igen</td></tr>",
                            "<tr><td>Tímárház Panzió</td><td>232</td><td>2</td><td>2</td><td>1418</td><td>Igen</td></tr>",
                            "<tr><td>Tímárház Panzió</td><td>232</td><td>2</td><td>2</td><td>1442</td><td>Igen</td></tr>",
                            "<tr><td>Tímárház Panzió</td><td>233</td><td>3</td><td>3</td><td>791</td><td>Igen</td></tr>",
                            "<tr><td>Tímárház Panzió</td><td>233</td><td>3</td><td>3</td><td>1028</td><td>Igen</td></tr>",
                            "<tr><td>Tímárház Panzió</td><td>233</td><td>3</td><td>3</td><td>1129</td><td>Igen</td></tr>",
                            "<tr><td>Tímárház Panzió</td><td>233</td><td>3</td><td>3</td><td>1244</td><td>Igen</td></tr>",
                            "<tr><td>Tímárház Panzió</td><td>233</td><td>3</td><td>3</td><td>1418</td><td>Igen</td></tr>",
                            "<tr><td>Tímárház Panzió</td><td>233</td><td>3</td><td>3</td><td>1442</td><td>Igen</td></tr>",
                            "<tr><td>Tímárház Panzió</td><td>234</td><td>4</td><td>3</td><td>791</td><td>Igen</td></tr>",
                            "<tr><td>Tímárház Panzió</td><td>234</td><td>4</td><td>3</td><td>1028</td><td>Igen</td></tr>",
                            "<tr><td>Tímárház Panzió</td><td>234</td><td>4</td><td>3</td><td>1129</td><td>Igen</td></tr>",
                            "<tr><td>Tímárház Panzió</td><td>234</td><td>4</td><td>3</td><td>1244</td><td>Igen</td></tr>",
                            "<tr><td>Tímárház Panzió</td><td>234</td><td>4</td><td>3</td><td>1418</td><td>Igen</td></tr>",
                            "<tr><td>Tímárház Panzió</td><td>234</td><td>4</td><td>3</td><td>1442</td><td>Igen</td></tr>",
                            "<tr><td>Tímárház Panzió</td><td>235</td><td>5</td><td>3</td><td>791</td><td>Igen</td></tr>",
                            "<tr><td>Tímárház Panzió</td><td>235</td><td>5</td><td>3</td><td>1028</td><td>Igen</td></tr>",
                            "<tr><td>Tímárház Panzió</td><td>235</td><td>5</td><td>3</td><td>1129</td><td>Igen</td></tr>",
                            "<tr><td>Tímárház Panzió</td><td>235</td><td>5</td><td>3</td><td>1244</td><td>Igen</td></tr>",
                            "<tr><td>Tímárház Panzió</td><td>235</td><td>5</td><td>3</td><td>1418</td><td>Igen</td></tr>",
                            "<tr><td>Tímárház Panzió</td><td>235</td><td>5</td><td>3</td><td>1442</td><td>Igen</td></tr>",
                            "<tr><td>Tímárház Panzió</td><td>236</td><td>6</td><td>3</td><td>791</td><td>Igen</td></tr>",
                            "<tr><td>Tímárház Panzió</td><td>236</td><td>6</td><td>3</td><td>1028</td><td>Igen</td></tr>",
                            "<tr><td>Tímárház Panzió</td><td>236</td><td>6</td><td>3</td><td>1129</td><td>Igen</td></tr>",
                            "<tr><td>Tímárház Panzió</td><td>236</td><td>6</td><td>3</td><td>1244</td><td>Igen</td></tr>",
                            "<tr><td>Tímárház Panzió</td><td>236</td><td>6</td><td>3</td><td>1418</td><td>Igen</td></tr>",
                            "<tr><td>Tímárház Panzió</td><td>236</td><td>6</td><td>3</td><td>1442</td><td>Igen</td></tr>",
                            "<tr><td>Tímárház Panzió</td><td>237</td><td>7</td><td>2</td><td>791</td><td>Igen</td></tr>",
                            "<tr><td>Tímárház Panzió</td><td>237</td><td>7</td><td>2</td><td>1028</td><td>Igen</td></tr>",
                            "<tr><td>Tímárház Panzió</td><td>237</td><td>7</td><td>2</td><td>1129</td><td>Igen</td></tr>",
                            "<tr><td>Tímárház Panzió</td><td>237</td><td>7</td><td>2</td><td>1244</td><td>Igen</td></tr>",
                            "<tr><td>Tímárház Panzió</td><td>237</td><td>7</td><td>2</td><td>1418</td><td>Igen</td></tr>",
                            "<tr><td>Tímárház Panzió</td><td>237</td><td>7</td><td>2</td><td>1442</td><td>Igen</td></tr>",
                            "<tr><td>Tímárház Panzió</td><td>238</td><td>8</td><td>3</td><td>791</td><td>Igen</td></tr>",
                            "<tr><td>Tímárház Panzió</td><td>238</td><td>8</td><td>3</td><td>1028</td><td>Igen</td></tr>",
                            "<tr><td>Tímárház Panzió</td><td>238</td><td>8</td><td>3</td><td>1129</td><td>Igen</td></tr>",
                            "<tr><td>Tímárház Panzió</td><td>238</td><td>8</td><td>3</td><td>1244</td><td>Igen</td></tr>",
                            "<tr><td>Tímárház Panzió</td><td>238</td><td>8</td><td>3</td><td>1418</td><td>Igen</td></tr>",
                            "<tr><td>Tímárház Panzió</td><td>238</td><td>8</td><td>3</td><td>1442</td><td>Igen</td></tr>",
                            "<tr><td>Tímárház Panzió</td><td>239</td><td>9</td><td>2</td><td>791</td><td>Igen</td></tr>",
                            "<tr><td>Tímárház Panzió</td><td>239</td><td>9</td><td>2</td><td>1028</td><td>Igen</td></tr>",
                            "<tr><td>Tímárház Panzió</td><td>239</td><td>9</td><td>2</td><td>1129</td><td>Igen</td></tr>",
                            "<tr><td>Tímárház Panzió</td><td>239</td><td>9</td><td>2</td><td>1244</td><td>Igen</td></tr>",
                            "<tr><td>Tímárház Panzió</td><td>239</td><td>9</td><td>2</td><td>1418</td><td>Igen</td></tr>",
                            "<tr><td>Tímárház Panzió</td><td>239</td><td>9</td><td>2</td><td>1442</td><td>Igen</td></tr>",
                            "<tr><td>Tímárház Panzió</td><td>240</td><td>10</td><td>3</td><td>791</td><td>Igen</td></tr>",
                            "<tr><td>Tímárház Panzió</td><td>240</td><td>10</td><td>3</td><td>1028</td><td>Igen</td></tr>",
                            "<tr><td>Tímárház Panzió</td><td>240</td><td>10</td><td>3</td><td>1129</td><td>Igen</td></tr>",
                            "<tr><td>Tímárház Panzió</td><td>240</td><td>10</td><td>3</td><td>1244</td><td>Igen</td></tr>",
                            "<tr><td>Tímárház Panzió</td><td>240</td><td>10</td><td>3</td><td>1418</td><td>Igen</td></tr>",
                            "<tr><td>Tímárház Panzió</td><td>240</td><td>10</td><td>3</td><td>1442</td><td>Igen</td></tr>",
                            "<tr><td>Tímárház Panzió</td><td>241</td><td>11</td><td>2</td><td>791</td><td>Igen</td></tr>",
                            "<tr><td>Tímárház Panzió</td><td>241</td><td>11</td><td>2</td><td>1028</td><td>Igen</td></tr>",
                            "<tr><td>Tímárház Panzió</td><td>241</td><td>11</td><td>2</td><td>1129</td><td>Igen</td></tr>",
                            "<tr><td>Tímárház Panzió</td><td>241</td><td>11</td><td>2</td><td>1244</td><td>Igen</td></tr>",
                            "<tr><td>Tímárház Panzió</td><td>241</td><td>11</td><td>2</td><td>1418</td><td>Igen</td></tr>",
                            "<tr><td>Tímárház Panzió</td><td>241</td><td>11</td><td>2</td><td>1442</td><td>Igen</td></tr>",
                            "<tr><td>Tímárház Panzió</td><td>242</td><td>12</td><td>2</td><td>791</td><td>Igen</td></tr>",
                            "<tr><td>Tímárház Panzió</td><td>242</td><td>12</td><td>2</td><td>1028</td><td>Igen</td></tr>",
                            "<tr><td>Tímárház Panzió</td><td>242</td><td>12</td><td>2</td><td>1129</td><td>Igen</td></tr>",
                            "<tr><td>Tímárház Panzió</td><td>242</td><td>12</td><td>2</td><td>1244</td><td>Igen</td></tr>",
                            "<tr><td>Tímárház Panzió</td><td>242</td><td>12</td><td>2</td><td>1418</td><td>Igen</td></tr>",
                            "<tr><td>Tímárház Panzió</td><td>242</td><td>12</td><td>2</td><td>1442</td><td>Igen</td></tr>",
                            "<tr><td>Bagoly Hotel</td><td>243</td><td>1</td><td>2</td><td>687</td><td>Nem</td></tr>",
                            "<tr><td>Bagoly Hotel</td><td>243</td><td>1</td><td>2</td><td>856</td><td>Nem</td></tr>",
                            "<tr><td>Bagoly Hotel</td><td>243</td><td>1</td><td>2</td><td>896</td><td>Nem</td></tr>",
                            "<tr><td>Bagoly Hotel</td><td>243</td><td>1</td><td>2</td><td>973</td><td>Nem</td></tr>",
                            "<tr><td>Bagoly Hotel</td><td>243</td><td>1</td><td>2</td><td>1498</td><td>Nem</td></tr>",
                            "<tr><td>Bagoly Hotel</td><td>244</td><td>2</td><td>2</td><td>687</td><td>Nem</td></tr>",
                            "<tr><td>Bagoly Hotel</td><td>244</td><td>2</td><td>2</td><td>856</td><td>Nem</td></tr>",
                            "<tr><td>Bagoly Hotel</td><td>244</td><td>2</td><td>2</td><td>896</td><td>Nem</td></tr>",
                            "<tr><td>Bagoly Hotel</td><td>244</td><td>2</td><td>2</td><td>973</td><td>Nem</td></tr>",
                            "<tr><td>Bagoly Hotel</td><td>244</td><td>2</td><td>2</td><td>1498</td><td>Nem</td></tr>",
                            "<tr><td>Bagoly Hotel</td><td>245</td><td>3</td><td>2</td><td>687</td><td>Nem</td></tr>",
                            "<tr><td>Bagoly Hotel</td><td>245</td><td>3</td><td>2</td><td>856</td><td>Nem</td></tr>",
                            "<tr><td>Bagoly Hotel</td><td>245</td><td>3</td><td>2</td><td>896</td><td>Nem</td></tr>",
                            "<tr><td>Bagoly Hotel</td><td>245</td><td>3</td><td>2</td><td>973</td><td>Nem</td></tr>",
                            "<tr><td>Bagoly Hotel</td><td>245</td><td>3</td><td>2</td><td>1498</td><td>Nem</td></tr>",
                            "<tr><td>Bagoly Hotel</td><td>246</td><td>4</td><td>2</td><td>687</td><td>Nem</td></tr>",
                            "<tr><td>Bagoly Hotel</td><td>246</td><td>4</td><td>2</td><td>856</td><td>Nem</td></tr>",
                            "<tr><td>Bagoly Hotel</td><td>246</td><td>4</td><td>2</td><td>896</td><td>Nem</td></tr>",
                            "<tr><td>Bagoly Hotel</td><td>246</td><td>4</td><td>2</td><td>973</td><td>Nem</td></tr>",
                            "<tr><td>Bagoly Hotel</td><td>246</td><td>4</td><td>2</td><td>1498</td><td>Nem</td></tr>",
                            "<tr><td>Bagoly Hotel</td><td>247</td><td>5</td><td>2</td><td>687</td><td>Nem</td></tr>",
                            "<tr><td>Bagoly Hotel</td><td>247</td><td>5</td><td>2</td><td>856</td><td>Nem</td></tr>",
                            "<tr><td>Bagoly Hotel</td><td>247</td><td>5</td><td>2</td><td>896</td><td>Nem</td></tr>",
                            "<tr><td>Bagoly Hotel</td><td>247</td><td>5</td><td>2</td><td>973</td><td>Nem</td></tr>",
                            "<tr><td>Bagoly Hotel</td><td>247</td><td>5</td><td>2</td><td>1498</td><td>Nem</td></tr>",
                            "<tr><td>Bagoly Hotel</td><td>248</td><td>6</td><td>2</td><td>687</td><td>Nem</td></tr>",
                            "<tr><td>Bagoly Hotel</td><td>248</td><td>6</td><td>2</td><td>856</td><td>Nem</td></tr>",
                            "<tr><td>Bagoly Hotel</td><td>248</td><td>6</td><td>2</td><td>896</td><td>Nem</td></tr>",
                            "<tr><td>Bagoly Hotel</td><td>248</td><td>6</td><td>2</td><td>973</td><td>Nem</td></tr>",
                            "<tr><td>Bagoly Hotel</td><td>248</td><td>6</td><td>2</td><td>1498</td><td>Nem</td></tr>",
                            "<tr><td>Bagoly Hotel</td><td>249</td><td>7</td><td>2</td><td>687</td><td>Nem</td></tr>",
                            "<tr><td>Bagoly Hotel</td><td>249</td><td>7</td><td>2</td><td>856</td><td>Nem</td></tr>",
                            "<tr><td>Bagoly Hotel</td><td>249</td><td>7</td><td>2</td><td>896</td><td>Nem</td></tr>",
                            "<tr><td>Bagoly Hotel</td><td>249</td><td>7</td><td>2</td><td>973</td><td>Nem</td></tr>",
                            "<tr><td>Bagoly Hotel</td><td>249</td><td>7</td><td>2</td><td>1498</td><td>Nem</td></tr>",
                            "<tr><td>Bagoly Hotel</td><td>250</td><td>8</td><td>3</td><td>687</td><td>Nem</td></tr>",
                            "<tr><td>Bagoly Hotel</td><td>250</td><td>8</td><td>3</td><td>856</td><td>Nem</td></tr>",
                            "<tr><td>Bagoly Hotel</td><td>250</td><td>8</td><td>3</td><td>896</td><td>Nem</td></tr>",
                            "<tr><td>Bagoly Hotel</td><td>250</td><td>8</td><td>3</td><td>973</td><td>Nem</td></tr>",
                            "<tr><td>Bagoly Hotel</td><td>250</td><td>8</td><td>3</td><td>1498</td><td>Nem</td></tr>",
                            "<tr><td>Bagoly Hotel</td><td>251</td><td>9</td><td>3</td><td>687</td><td>Nem</td></tr>",
                            "<tr><td>Bagoly Hotel</td><td>251</td><td>9</td><td>3</td><td>856</td><td>Nem</td></tr>",
                            "<tr><td>Bagoly Hotel</td><td>251</td><td>9</td><td>3</td><td>896</td><td>Nem</td></tr>",
                            "<tr><td>Bagoly Hotel</td><td>251</td><td>9</td><td>3</td><td>973</td><td>Nem</td></tr>",
                            "<tr><td>Bagoly Hotel</td><td>251</td><td>9</td><td>3</td><td>1498</td><td>Nem</td></tr>",
                            "<tr><td>Bagoly Hotel</td><td>252</td><td>10</td><td>3</td><td>687</td><td>Nem</td></tr>",
                            "<tr><td>Bagoly Hotel</td><td>252</td><td>10</td><td>3</td><td>856</td><td>Nem</td></tr>",
                            "<tr><td>Bagoly Hotel</td><td>252</td><td>10</td><td>3</td><td>896</td><td>Nem</td></tr>",
                            "<tr><td>Bagoly Hotel</td><td>252</td><td>10</td><td>3</td><td>973</td><td>Nem</td></tr>",
                            "<tr><td>Bagoly Hotel</td><td>252</td><td>10</td><td>3</td><td>1498</td><td>Nem</td></tr>",
                            "<tr><td>Bagoly Hotel</td><td>253</td><td>11</td><td>2</td><td>687</td><td>Nem</td></tr>",
                            "<tr><td>Bagoly Hotel</td><td>253</td><td>11</td><td>2</td><td>856</td><td>Nem</td></tr>",
                            "<tr><td>Bagoly Hotel</td><td>253</td><td>11</td><td>2</td><td>896</td><td>Nem</td></tr>",
                            "<tr><td>Bagoly Hotel</td><td>253</td><td>11</td><td>2</td><td>973</td><td>Nem</td></tr>",
                            "<tr><td>Bagoly Hotel</td><td>253</td><td>11</td><td>2</td><td>1498</td><td>Nem</td></tr>",
                            "<tr><td>Bagoly Hotel</td><td>254</td><td>12</td><td>2</td><td>687</td><td>Nem</td></tr>",
                            "<tr><td>Bagoly Hotel</td><td>254</td><td>12</td><td>2</td><td>856</td><td>Nem</td></tr>",
                            "<tr><td>Bagoly Hotel</td><td>254</td><td>12</td><td>2</td><td>896</td><td>Nem</td></tr>",
                            "<tr><td>Bagoly Hotel</td><td>254</td><td>12</td><td>2</td><td>973</td><td>Nem</td></tr>",
                            "<tr><td>Bagoly Hotel</td><td>254</td><td>12</td><td>2</td><td>1498</td><td>Nem</td></tr>",
                            "<tr><td>Bagoly Hotel</td><td>255</td><td>13</td><td>3</td><td>687</td><td>Nem</td></tr>",
                            "<tr><td>Bagoly Hotel</td><td>255</td><td>13</td><td>3</td><td>856</td><td>Nem</td></tr>",
                            "<tr><td>Bagoly Hotel</td><td>255</td><td>13</td><td>3</td><td>896</td><td>Nem</td></tr>",
                            "<tr><td>Bagoly Hotel</td><td>255</td><td>13</td><td>3</td><td>973</td><td>Nem</td></tr>",
                            "<tr><td>Bagoly Hotel</td><td>255</td><td>13</td><td>3</td><td>1498</td><td>Nem</td></tr>",
                            "<tr><td>Bagoly Hotel</td><td>256</td><td>14</td><td>3</td><td>687</td><td>Nem</td></tr>",
                            "<tr><td>Bagoly Hotel</td><td>256</td><td>14</td><td>3</td><td>856</td><td>Nem</td></tr>",
                            "<tr><td>Bagoly Hotel</td><td>256</td><td>14</td><td>3</td><td>896</td><td>Nem</td></tr>",
                            "<tr><td>Bagoly Hotel</td><td>256</td><td>14</td><td>3</td><td>973</td><td>Nem</td></tr>",
                            "<tr><td>Bagoly Hotel</td><td>256</td><td>14</td><td>3</td><td>1498</td><td>Nem</td></tr>",
                            "<tr><td>Bagoly Hotel</td><td>257</td><td>15</td><td>2</td><td>687</td><td>Nem</td></tr>",
                            "<tr><td>Bagoly Hotel</td><td>257</td><td>15</td><td>2</td><td>856</td><td>Nem</td></tr>",
                            "<tr><td>Bagoly Hotel</td><td>257</td><td>15</td><td>2</td><td>896</td><td>Nem</td></tr>",
                            "<tr><td>Bagoly Hotel</td><td>257</td><td>15</td><td>2</td><td>973</td><td>Nem</td></tr>",
                            "<tr><td>Bagoly Hotel</td><td>257</td><td>15</td><td>2</td><td>1498</td><td>Nem</td></tr>",
                            "<tr><td>Bagoly Hotel</td><td>258</td><td>16</td><td>2</td><td>687</td><td>Nem</td></tr>",
                            "<tr><td>Bagoly Hotel</td><td>258</td><td>16</td><td>2</td><td>856</td><td>Nem</td></tr>",
                            "<tr><td>Bagoly Hotel</td><td>258</td><td>16</td><td>2</td><td>896</td><td>Nem</td></tr>",
                            "<tr><td>Bagoly Hotel</td><td>258</td><td>16</td><td>2</td><td>973</td><td>Nem</td></tr>",
                            "<tr><td>Bagoly Hotel</td><td>258</td><td>16</td><td>2</td><td>1498</td><td>Nem</td></tr>",
                            "<tr><td>Bagoly Hotel</td><td>259</td><td>17</td><td>2</td><td>687</td><td>Nem</td></tr>",
                            "<tr><td>Bagoly Hotel</td><td>259</td><td>17</td><td>2</td><td>856</td><td>Nem</td></tr>",
                            "<tr><td>Bagoly Hotel</td><td>259</td><td>17</td><td>2</td><td>896</td><td>Nem</td></tr>",
                            "<tr><td>Bagoly Hotel</td><td>259</td><td>17</td><td>2</td><td>973</td><td>Nem</td></tr>",
                            "<tr><td>Bagoly Hotel</td><td>259</td><td>17</td><td>2</td><td>1498</td><td>Nem</td></tr>",
                            "<tr><td>Bagoly Hotel</td><td>260</td><td>18</td><td>2</td><td>687</td><td>Nem</td></tr>",
                            "<tr><td>Bagoly Hotel</td><td>260</td><td>18</td><td>2</td><td>856</td><td>Nem</td></tr>",
                            "<tr><td>Bagoly Hotel</td><td>260</td><td>18</td><td>2</td><td>896</td><td>Nem</td></tr>",
                            "<tr><td>Bagoly Hotel</td><td>260</td><td>18</td><td>2</td><td>973</td><td>Nem</td></tr>",
                            "<tr><td>Bagoly Hotel</td><td>260</td><td>18</td><td>2</td><td>1498</td><td>Nem</td></tr>",
                            "<tr><td>Bagoly Hotel</td><td>261</td><td>19</td><td>1</td><td>687</td><td>Nem</td></tr>",
                            "<tr><td>Bagoly Hotel</td><td>261</td><td>19</td><td>1</td><td>856</td><td>Nem</td></tr>",
                            "<tr><td>Bagoly Hotel</td><td>261</td><td>19</td><td>1</td><td>896</td><td>Nem</td></tr>",
                            "<tr><td>Bagoly Hotel</td><td>261</td><td>19</td><td>1</td><td>973</td><td>Nem</td></tr>",
                            "<tr><td>Bagoly Hotel</td><td>261</td><td>19</td><td>1</td><td>1498</td><td>Nem</td></tr>",
                            "<tr><td>Bagoly Hotel</td><td>262</td><td>20</td><td>1</td><td>687</td><td>Nem</td></tr>",
                            "<tr><td>Bagoly Hotel</td><td>262</td><td>20</td><td>1</td><td>856</td><td>Nem</td></tr>",
                            "<tr><td>Bagoly Hotel</td><td>262</td><td>20</td><td>1</td><td>896</td><td>Nem</td></tr>",
                            "<tr><td>Bagoly Hotel</td><td>262</td><td>20</td><td>1</td><td>973</td><td>Nem</td></tr>",
                            "<tr><td>Bagoly Hotel</td><td>262</td><td>20</td><td>1</td><td>1498</td><td>Nem</td></tr>",
                            "<tr><td>Szarvas Hotel</td><td>263</td><td>1</td><td>2</td><td>602</td><td>Nem</td></tr>",
                            "<tr><td>Szarvas Hotel</td><td>263</td><td>1</td><td>2</td><td>713</td><td>Nem</td></tr>",
                            "<tr><td>Szarvas Hotel</td><td>263</td><td>1</td><td>2</td><td>744</td><td>Nem</td></tr>",
                            "<tr><td>Szarvas Hotel</td><td>263</td><td>1</td><td>2</td><td>916</td><td>Nem</td></tr>",
                            "<tr><td>Szarvas Hotel</td><td>263</td><td>1</td><td>2</td><td>1316</td><td>Nem</td></tr>",
                            "<tr><td>Szarvas Hotel</td><td>263</td><td>1</td><td>2</td><td>1549</td><td>Nem</td></tr>",
                            "<tr><td>Szarvas Hotel</td><td>264</td><td>2</td><td>3</td><td>602</td><td>Nem</td></tr>",
                            "<tr><td>Szarvas Hotel</td><td>264</td><td>2</td><td>3</td><td>713</td><td>Nem</td></tr>",
                            "<tr><td>Szarvas Hotel</td><td>264</td><td>2</td><td>3</td><td>744</td><td>Nem</td></tr>",
                            "<tr><td>Szarvas Hotel</td><td>264</td><td>2</td><td>3</td><td>916</td><td>Nem</td></tr>",
                            "<tr><td>Szarvas Hotel</td><td>264</td><td>2</td><td>3</td><td>1316</td><td>Nem</td></tr>",
                            "<tr><td>Szarvas Hotel</td><td>264</td><td>2</td><td>3</td><td>1549</td><td>Nem</td></tr>",
                            "<tr><td>Szarvas Hotel</td><td>265</td><td>3</td><td>3</td><td>602</td><td>Nem</td></tr>",
                            "<tr><td>Szarvas Hotel</td><td>265</td><td>3</td><td>3</td><td>713</td><td>Nem</td></tr>",
                            "<tr><td>Szarvas Hotel</td><td>265</td><td>3</td><td>3</td><td>744</td><td>Nem</td></tr>",
                            "<tr><td>Szarvas Hotel</td><td>265</td><td>3</td><td>3</td><td>916</td><td>Nem</td></tr>",
                            "<tr><td>Szarvas Hotel</td><td>265</td><td>3</td><td>3</td><td>1316</td><td>Nem</td></tr>",
                            "<tr><td>Szarvas Hotel</td><td>265</td><td>3</td><td>3</td><td>1549</td><td>Nem</td></tr>",
                            "<tr><td>Szarvas Hotel</td><td>266</td><td>4</td><td>2</td><td>602</td><td>Nem</td></tr>",
                            "<tr><td>Szarvas Hotel</td><td>266</td><td>4</td><td>2</td><td>713</td><td>Nem</td></tr>",
                            "<tr><td>Szarvas Hotel</td><td>266</td><td>4</td><td>2</td><td>744</td><td>Nem</td></tr>",
                            "<tr><td>Szarvas Hotel</td><td>266</td><td>4</td><td>2</td><td>916</td><td>Nem</td></tr>",
                            "<tr><td>Szarvas Hotel</td><td>266</td><td>4</td><td>2</td><td>1316</td><td>Nem</td></tr>",
                            "<tr><td>Szarvas Hotel</td><td>266</td><td>4</td><td>2</td><td>1549</td><td>Nem</td></tr>",
                            "<tr><td>Szarvas Hotel</td><td>267</td><td>5</td><td>2</td><td>602</td><td>Nem</td></tr>",
                            "<tr><td>Szarvas Hotel</td><td>267</td><td>5</td><td>2</td><td>713</td><td>Nem</td></tr>",
                            "<tr><td>Szarvas Hotel</td><td>267</td><td>5</td><td>2</td><td>744</td><td>Nem</td></tr>",
                            "<tr><td>Szarvas Hotel</td><td>267</td><td>5</td><td>2</td><td>916</td><td>Nem</td></tr>",
                            "<tr><td>Szarvas Hotel</td><td>267</td><td>5</td><td>2</td><td>1316</td><td>Nem</td></tr>",
                            "<tr><td>Szarvas Hotel</td><td>267</td><td>5</td><td>2</td><td>1549</td><td>Nem</td></tr>",
                            "<tr><td>Szarvas Hotel</td><td>268</td><td>6</td><td>2</td><td>602</td><td>Nem</td></tr>",
                            "<tr><td>Szarvas Hotel</td><td>268</td><td>6</td><td>2</td><td>713</td><td>Nem</td></tr>",
                            "<tr><td>Szarvas Hotel</td><td>268</td><td>6</td><td>2</td><td>744</td><td>Nem</td></tr>",
                            "<tr><td>Szarvas Hotel</td><td>268</td><td>6</td><td>2</td><td>916</td><td>Nem</td></tr>",
                            "<tr><td>Szarvas Hotel</td><td>268</td><td>6</td><td>2</td><td>1316</td><td>Nem</td></tr>",
                            "<tr><td>Szarvas Hotel</td><td>268</td><td>6</td><td>2</td><td>1549</td><td>Nem</td></tr>",
                            "<tr><td>Szarvas Hotel</td><td>269</td><td>7</td><td>2</td><td>602</td><td>Nem</td></tr>",
                            "<tr><td>Szarvas Hotel</td><td>269</td><td>7</td><td>2</td><td>713</td><td>Nem</td></tr>",
                            "<tr><td>Szarvas Hotel</td><td>269</td><td>7</td><td>2</td><td>744</td><td>Nem</td></tr>",
                            "<tr><td>Szarvas Hotel</td><td>269</td><td>7</td><td>2</td><td>916</td><td>Nem</td></tr>",
                            "<tr><td>Szarvas Hotel</td><td>269</td><td>7</td><td>2</td><td>1316</td><td>Nem</td></tr>",
                            "<tr><td>Szarvas Hotel</td><td>269</td><td>7</td><td>2</td><td>1549</td><td>Nem</td></tr>",
                            "<tr><td>Szarvas Hotel</td><td>270</td><td>8</td><td>3</td><td>602</td><td>Nem</td></tr>",
                            "<tr><td>Szarvas Hotel</td><td>270</td><td>8</td><td>3</td><td>713</td><td>Nem</td></tr>",
                            "<tr><td>Szarvas Hotel</td><td>270</td><td>8</td><td>3</td><td>744</td><td>Nem</td></tr>",
                            "<tr><td>Szarvas Hotel</td><td>270</td><td>8</td><td>3</td><td>916</td><td>Nem</td></tr>",
                            "<tr><td>Szarvas Hotel</td><td>270</td><td>8</td><td>3</td><td>1316</td><td>Nem</td></tr>",
                            "<tr><td>Szarvas Hotel</td><td>270</td><td>8</td><td>3</td><td>1549</td><td>Nem</td></tr>",
                            "<tr><td>Szarvas Hotel</td><td>271</td><td>9</td><td>3</td><td>602</td><td>Nem</td></tr>",
                            "<tr><td>Szarvas Hotel</td><td>271</td><td>9</td><td>3</td><td>713</td><td>Nem</td></tr>",
                            "<tr><td>Szarvas Hotel</td><td>271</td><td>9</td><td>3</td><td>744</td><td>Nem</td></tr>",
                            "<tr><td>Szarvas Hotel</td><td>271</td><td>9</td><td>3</td><td>916</td><td>Nem</td></tr>",
                            "<tr><td>Szarvas Hotel</td><td>271</td><td>9</td><td>3</td><td>1316</td><td>Nem</td></tr>",
                            "<tr><td>Szarvas Hotel</td><td>271</td><td>9</td><td>3</td><td>1549</td><td>Nem</td></tr>",
                            "<tr><td>Szarvas Hotel</td><td>272</td><td>10</td><td>3</td><td>602</td><td>Nem</td></tr>",
                            "<tr><td>Szarvas Hotel</td><td>272</td><td>10</td><td>3</td><td>713</td><td>Nem</td></tr>",
                            "<tr><td>Szarvas Hotel</td><td>272</td><td>10</td><td>3</td><td>744</td><td>Nem</td></tr>",
                            "<tr><td>Szarvas Hotel</td><td>272</td><td>10</td><td>3</td><td>916</td><td>Nem</td></tr>",
                            "<tr><td>Szarvas Hotel</td><td>272</td><td>10</td><td>3</td><td>1316</td><td>Nem</td></tr>",
                            "<tr><td>Szarvas Hotel</td><td>272</td><td>10</td><td>3</td><td>1549</td><td>Nem</td></tr>",
                            "<tr><td>Szarvas Hotel</td><td>273</td><td>11</td><td>2</td><td>602</td><td>Nem</td></tr>",
                            "<tr><td>Szarvas Hotel</td><td>273</td><td>11</td><td>2</td><td>713</td><td>Nem</td></tr>",
                            "<tr><td>Szarvas Hotel</td><td>273</td><td>11</td><td>2</td><td>744</td><td>Nem</td></tr>",
                            "<tr><td>Szarvas Hotel</td><td>273</td><td>11</td><td>2</td><td>916</td><td>Nem</td></tr>",
                            "<tr><td>Szarvas Hotel</td><td>273</td><td>11</td><td>2</td><td>1316</td><td>Nem</td></tr>",
                            "<tr><td>Szarvas Hotel</td><td>273</td><td>11</td><td>2</td><td>1549</td><td>Nem</td></tr>",
                            "<tr><td>Szarvas Hotel</td><td>274</td><td>12</td><td>3</td><td>602</td><td>Nem</td></tr>",
                            "<tr><td>Szarvas Hotel</td><td>274</td><td>12</td><td>3</td><td>713</td><td>Nem</td></tr>",
                            "<tr><td>Szarvas Hotel</td><td>274</td><td>12</td><td>3</td><td>744</td><td>Nem</td></tr>",
                            "<tr><td>Szarvas Hotel</td><td>274</td><td>12</td><td>3</td><td>916</td><td>Nem</td></tr>",
                            "<tr><td>Szarvas Hotel</td><td>274</td><td>12</td><td>3</td><td>1316</td><td>Nem</td></tr>",
                            "<tr><td>Szarvas Hotel</td><td>274</td><td>12</td><td>3</td><td>1549</td><td>Nem</td></tr>",
                            "<tr><td>Szarvas Hotel</td><td>275</td><td>13</td><td>2</td><td>602</td><td>Nem</td></tr>",
                            "<tr><td>Szarvas Hotel</td><td>275</td><td>13</td><td>2</td><td>713</td><td>Nem</td></tr>",
                            "<tr><td>Szarvas Hotel</td><td>275</td><td>13</td><td>2</td><td>744</td><td>Nem</td></tr>",
                            "<tr><td>Szarvas Hotel</td><td>275</td><td>13</td><td>2</td><td>916</td><td>Nem</td></tr>",
                            "<tr><td>Szarvas Hotel</td><td>275</td><td>13</td><td>2</td><td>1316</td><td>Nem</td></tr>",
                            "<tr><td>Szarvas Hotel</td><td>275</td><td>13</td><td>2</td><td>1549</td><td>Nem</td></tr>",
                            "<tr><td>Szarvas Hotel</td><td>276</td><td>14</td><td>2</td><td>602</td><td>Nem</td></tr>",
                            "<tr><td>Szarvas Hotel</td><td>276</td><td>14</td><td>2</td><td>713</td><td>Nem</td></tr>",
                            "<tr><td>Szarvas Hotel</td><td>276</td><td>14</td><td>2</td><td>744</td><td>Nem</td></tr>",
                            "<tr><td>Szarvas Hotel</td><td>276</td><td>14</td><td>2</td><td>916</td><td>Nem</td></tr>",
                            "<tr><td>Szarvas Hotel</td><td>276</td><td>14</td><td>2</td><td>1316</td><td>Nem</td></tr>",
                            "<tr><td>Szarvas Hotel</td><td>276</td><td>14</td><td>2</td><td>1549</td><td>Nem</td></tr>",
                            "<tr><td>Szarvas Hotel</td><td>277</td><td>15</td><td>2</td><td>602</td><td>Nem</td></tr>",
                            "<tr><td>Szarvas Hotel</td><td>277</td><td>15</td><td>2</td><td>713</td><td>Nem</td></tr>",
                            "<tr><td>Szarvas Hotel</td><td>277</td><td>15</td><td>2</td><td>744</td><td>Nem</td></tr>",
                            "<tr><td>Szarvas Hotel</td><td>277</td><td>15</td><td>2</td><td>916</td><td>Nem</td></tr>",
                            "<tr><td>Szarvas Hotel</td><td>277</td><td>15</td><td>2</td><td>1316</td><td>Nem</td></tr>",
                            "<tr><td>Szarvas Hotel</td><td>277</td><td>15</td><td>2</td><td>1549</td><td>Nem</td></tr>",
                            "<tr><td>Fortuna Apartman</td><td>278</td><td>1</td><td>3</td><td>626</td><td>Nem</td></tr>",
                            "<tr><td>Fortuna Apartman</td><td>278</td><td>1</td><td>3</td><td>767</td><td>Nem</td></tr>",
                            "<tr><td>Fortuna Apartman</td><td>278</td><td>1</td><td>3</td><td>1035</td><td>Nem</td></tr>",
                            "<tr><td>Fortuna Apartman</td><td>278</td><td>1</td><td>3</td><td>1173</td><td>Nem</td></tr>",
                            "<tr><td>Fortuna Apartman</td><td>278</td><td>1</td><td>3</td><td>1198</td><td>Nem</td></tr>",
                            "<tr><td>Fortuna Apartman</td><td>278</td><td>1</td><td>3</td><td>1505</td><td>Nem</td></tr>",
                            "<tr><td>Fortuna Apartman</td><td>279</td><td>2</td><td>2</td><td>626</td><td>Nem</td></tr>",
                            "<tr><td>Fortuna Apartman</td><td>279</td><td>2</td><td>2</td><td>767</td><td>Nem</td></tr>",
                            "<tr><td>Fortuna Apartman</td><td>279</td><td>2</td><td>2</td><td>1035</td><td>Nem</td></tr>",
                            "<tr><td>Fortuna Apartman</td><td>279</td><td>2</td><td>2</td><td>1173</td><td>Nem</td></tr>",
                            "<tr><td>Fortuna Apartman</td><td>279</td><td>2</td><td>2</td><td>1198</td><td>Nem</td></tr>",
                            "<tr><td>Fortuna Apartman</td><td>279</td><td>2</td><td>2</td><td>1505</td><td>Nem</td></tr>",
                            "<tr><td>Fortuna Apartman</td><td>280</td><td>3</td><td>3</td><td>626</td><td>Nem</td></tr>",
                            "<tr><td>Fortuna Apartman</td><td>280</td><td>3</td><td>3</td><td>767</td><td>Nem</td></tr>",
                            "<tr><td>Fortuna Apartman</td><td>280</td><td>3</td><td>3</td><td>1035</td><td>Nem</td></tr>",
                            "<tr><td>Fortuna Apartman</td><td>280</td><td>3</td><td>3</td><td>1173</td><td>Nem</td></tr>",
                            "<tr><td>Fortuna Apartman</td><td>280</td><td>3</td><td>3</td><td>1198</td><td>Nem</td></tr>",
                            "<tr><td>Fortuna Apartman</td><td>280</td><td>3</td><td>3</td><td>1505</td><td>Nem</td></tr>",
                            "<tr><td>Nyárfás Vendégház</td><td>281</td><td>1</td><td>2</td><td>696</td><td>Nem</td></tr>",
                            "<tr><td>Nyárfás Vendégház</td><td>281</td><td>1</td><td>2</td><td>778</td><td>Nem</td></tr>",
                            "<tr><td>Nyárfás Vendégház</td><td>281</td><td>1</td><td>2</td><td>948</td><td>Nem</td></tr>",
                            "<tr><td>Nyárfás Vendégház</td><td>281</td><td>1</td><td>2</td><td>1139</td><td>Nem</td></tr>",
                            "<tr><td>Nyárfás Vendégház</td><td>281</td><td>1</td><td>2</td><td>1237</td><td>Nem</td></tr>",
                            "<tr><td>Nyárfás Vendégház</td><td>281</td><td>1</td><td>2</td><td>1533</td><td>Nem</td></tr>",
                            "<tr><td>Nyárfás Vendégház</td><td>282</td><td>2</td><td>2</td><td>696</td><td>Nem</td></tr>",
                            "<tr><td>Nyárfás Vendégház</td><td>282</td><td>2</td><td>2</td><td>778</td><td>Nem</td></tr>",
                            "<tr><td>Nyárfás Vendégház</td><td>282</td><td>2</td><td>2</td><td>948</td><td>Nem</td></tr>",
                            "<tr><td>Nyárfás Vendégház</td><td>282</td><td>2</td><td>2</td><td>1139</td><td>Nem</td></tr>",
                            "<tr><td>Nyárfás Vendégház</td><td>282</td><td>2</td><td>2</td><td>1237</td><td>Nem</td></tr>",
                            "<tr><td>Nyárfás Vendégház</td><td>282</td><td>2</td><td>2</td><td>1533</td><td>Nem</td></tr>",
                            "<tr><td>Nyárfás Vendégház</td><td>283</td><td>3</td><td>2</td><td>696</td><td>Nem</td></tr>",
                            "<tr><td>Nyárfás Vendégház</td><td>283</td><td>3</td><td>2</td><td>778</td><td>Nem</td></tr>",
                            "<tr><td>Nyárfás Vendégház</td><td>283</td><td>3</td><td>2</td><td>948</td><td>Nem</td></tr>",
                            "<tr><td>Nyárfás Vendégház</td><td>283</td><td>3</td><td>2</td><td>1139</td><td>Nem</td></tr>",
                            "<tr><td>Nyárfás Vendégház</td><td>283</td><td>3</td><td>2</td><td>1237</td><td>Nem</td></tr>",
                            "<tr><td>Nyárfás Vendégház</td><td>283</td><td>3</td><td>2</td><td>1533</td><td>Nem</td></tr>",
                            "<tr><td>Nyárfás Vendégház</td><td>284</td><td>4</td><td>2</td><td>696</td><td>Nem</td></tr>",
                            "<tr><td>Nyárfás Vendégház</td><td>284</td><td>4</td><td>2</td><td>778</td><td>Nem</td></tr>",
                            "<tr><td>Nyárfás Vendégház</td><td>284</td><td>4</td><td>2</td><td>948</td><td>Nem</td></tr>",
                            "<tr><td>Nyárfás Vendégház</td><td>284</td><td>4</td><td>2</td><td>1139</td><td>Nem</td></tr>",
                            "<tr><td>Nyárfás Vendégház</td><td>284</td><td>4</td><td>2</td><td>1237</td><td>Nem</td></tr>",
                            "<tr><td>Nyárfás Vendégház</td><td>284</td><td>4</td><td>2</td><td>1533</td><td>Nem</td></tr>",
                            "<tr><td>Kollégium</td><td>285</td><td>1</td><td>2</td><td>755</td><td>Nem</td></tr>",
                            "<tr><td>Kollégium</td><td>285</td><td>1</td><td>2</td><td>820</td><td>Nem</td></tr>",
                            "<tr><td>Kollégium</td><td>285</td><td>1</td><td>2</td><td>1070</td><td>Nem</td></tr>",
                            "<tr><td>Kollégium</td><td>285</td><td>1</td><td>2</td><td>1106</td><td>Nem</td></tr>",
                            "<tr><td>Kollégium</td><td>285</td><td>1</td><td>2</td><td>1114</td><td>Nem</td></tr>",
                            "<tr><td>Kollégium</td><td>286</td><td>2</td><td>3</td><td>755</td><td>Nem</td></tr>",
                            "<tr><td>Kollégium</td><td>286</td><td>2</td><td>3</td><td>820</td><td>Nem</td></tr>",
                            "<tr><td>Kollégium</td><td>286</td><td>2</td><td>3</td><td>1070</td><td>Nem</td></tr>",
                            "<tr><td>Kollégium</td><td>286</td><td>2</td><td>3</td><td>1106</td><td>Nem</td></tr>",
                            "<tr><td>Kollégium</td><td>286</td><td>2</td><td>3</td><td>1114</td><td>Nem</td></tr>",
                            "<tr><td>Kollégium</td><td>287</td><td>3</td><td>3</td><td>755</td><td>Nem</td></tr>",
                            "<tr><td>Kollégium</td><td>287</td><td>3</td><td>3</td><td>820</td><td>Nem</td></tr>",
                            "<tr><td>Kollégium</td><td>287</td><td>3</td><td>3</td><td>1070</td><td>Nem</td></tr>",
                            "<tr><td>Kollégium</td><td>287</td><td>3</td><td>3</td><td>1106</td><td>Nem</td></tr>",
                            "<tr><td>Kollégium</td><td>287</td><td>3</td><td>3</td><td>1114</td><td>Nem</td></tr>",
                            "<tr><td>Kollégium</td><td>288</td><td>4</td><td>2</td><td>755</td><td>Nem</td></tr>",
                            "<tr><td>Kollégium</td><td>288</td><td>4</td><td>2</td><td>820</td><td>Nem</td></tr>",
                            "<tr><td>Kollégium</td><td>288</td><td>4</td><td>2</td><td>1070</td><td>Nem</td></tr>",
                            "<tr><td>Kollégium</td><td>288</td><td>4</td><td>2</td><td>1106</td><td>Nem</td></tr>",
                            "<tr><td>Kollégium</td><td>288</td><td>4</td><td>2</td><td>1114</td><td>Nem</td></tr>",
                            "<tr><td>Kollégium</td><td>289</td><td>5</td><td>3</td><td>755</td><td>Nem</td></tr>",
                            "<tr><td>Kollégium</td><td>289</td><td>5</td><td>3</td><td>820</td><td>Nem</td></tr>",
                            "<tr><td>Kollégium</td><td>289</td><td>5</td><td>3</td><td>1070</td><td>Nem</td></tr>",
                            "<tr><td>Kollégium</td><td>289</td><td>5</td><td>3</td><td>1106</td><td>Nem</td></tr>",
                            "<tr><td>Kollégium</td><td>289</td><td>5</td><td>3</td><td>1114</td><td>Nem</td></tr>",
                            "<tr><td>Kollégium</td><td>290</td><td>6</td><td>2</td><td>755</td><td>Nem</td></tr>",
                            "<tr><td>Kollégium</td><td>290</td><td>6</td><td>2</td><td>820</td><td>Nem</td></tr>",
                            "<tr><td>Kollégium</td><td>290</td><td>6</td><td>2</td><td>1070</td><td>Nem</td></tr>",
                            "<tr><td>Kollégium</td><td>290</td><td>6</td><td>2</td><td>1106</td><td>Nem</td></tr>",
                            "<tr><td>Kollégium</td><td>290</td><td>6</td><td>2</td><td>1114</td><td>Nem</td></tr>",
                            "<tr><td>Kollégium</td><td>291</td><td>7</td><td>2</td><td>755</td><td>Nem</td></tr>",
                            "<tr><td>Kollégium</td><td>291</td><td>7</td><td>2</td><td>820</td><td>Nem</td></tr>",
                            "<tr><td>Kollégium</td><td>291</td><td>7</td><td>2</td><td>1070</td><td>Nem</td></tr>",
                            "<tr><td>Kollégium</td><td>291</td><td>7</td><td>2</td><td>1106</td><td>Nem</td></tr>",
                            "<tr><td>Kollégium</td><td>291</td><td>7</td><td>2</td><td>1114</td><td>Nem</td></tr>",
                            "<tr><td>Kollégium</td><td>292</td><td>8</td><td>2</td><td>755</td><td>Nem</td></tr>",
                            "<tr><td>Kollégium</td><td>292</td><td>8</td><td>2</td><td>820</td><td>Nem</td></tr>",
                            "<tr><td>Kollégium</td><td>292</td><td>8</td><td>2</td><td>1070</td><td>Nem</td></tr>",
                            "<tr><td>Kollégium</td><td>292</td><td>8</td><td>2</td><td>1106</td><td>Nem</td></tr>",
                            "<tr><td>Kollégium</td><td>292</td><td>8</td><td>2</td><td>1114</td><td>Nem</td></tr>",
                            "<tr><td>Kollégium</td><td>293</td><td>9</td><td>2</td><td>755</td><td>Nem</td></tr>",
                            "<tr><td>Kollégium</td><td>293</td><td>9</td><td>2</td><td>820</td><td>Nem</td></tr>",
                            "<tr><td>Kollégium</td><td>293</td><td>9</td><td>2</td><td>1070</td><td>Nem</td></tr>",
                            "<tr><td>Kollégium</td><td>293</td><td>9</td><td>2</td><td>1106</td><td>Nem</td></tr>",
                            "<tr><td>Kollégium</td><td>293</td><td>9</td><td>2</td><td>1114</td><td>Nem</td></tr>",
                            "<tr><td>Kollégium</td><td>294</td><td>10</td><td>3</td><td>755</td><td>Nem</td></tr>",
                            "<tr><td>Kollégium</td><td>294</td><td>10</td><td>3</td><td>820</td><td>Nem</td></tr>",
                            "<tr><td>Kollégium</td><td>294</td><td>10</td><td>3</td><td>1070</td><td>Nem</td></tr>",
                            "<tr><td>Kollégium</td><td>294</td><td>10</td><td>3</td><td>1106</td><td>Nem</td></tr>",
                            "<tr><td>Kollégium</td><td>294</td><td>10</td><td>3</td><td>1114</td><td>Nem</td></tr>",
                            "</table>"
                        ]
                    }
                }
            ],
            "execution_count": 16
        }
    ]
}