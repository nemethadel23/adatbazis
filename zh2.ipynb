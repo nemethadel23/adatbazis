{
    "metadata": {
        "kernelspec": {
            "name": "SQL",
            "display_name": "SQL",
            "language": "sql"
        },
        "language_info": {
            "name": "sql",
            "version": ""
        }
    },
    "nbformat_minor": 2,
    "nbformat": 4,
    "cells": [
        {
            "cell_type": "code",
            "source": [
                "SELECT IIF(GROUPING_ID(szoba_fk)=1, 'Szoba összesen', CAST(szoba_fk AS nvarchar(4))),\r\n",
                "        CASE \r\n",
                "        WHEN GROUPING_ID (YEAR(METTOL))= 1 THEN 'Részösszeg'\r\n",
                "        WHEN GROUPING_ID (YEAR(METTOL),SZOBA_FK)= 3 THEN 'Szoba összesen'\r\n",
                "        ELSE CAST(YEAR(mettol) AS nvarchar(4))\r\n",
                "        END ,\r\n",
                "        COUNT(*)\r\n",
                "\r\n",
                "FROM Foglalas\r\n",
                "GROUP BY ROLLUP(szoba_fk, YEAR(METTOL))"
            ],
            "metadata": {
                "azdata_cell_guid": "e2d1e3bf-66d2-4ec2-ad34-9359ba27f01a",
                "language": "sql",
                "tags": []
            },
            "outputs": [
                {
                    "output_type": "display_data",
                    "data": {
                        "text/html": "(513 rows affected)"
                    },
                    "metadata": {}
                },
                {
                    "output_type": "display_data",
                    "data": {
                        "text/html": "Total execution time: 00:00:00.009"
                    },
                    "metadata": {}
                },
                {
                    "output_type": "execute_result",
                    "metadata": {},
                    "execution_count": 28,
                    "data": {
                        "application/vnd.dataresource+json": {
                            "schema": {
                                "fields": [
                                    {
                                        "name": "(No column name)"
                                    },
                                    {
                                        "name": "(No column name)"
                                    },
                                    {
                                        "name": "(No column name)"
                                    }
                                ]
                            },
                            "data": [
                                {
                                    "(No column name)": "8"
                                },
                                {
                                    "(No column name)": "8"
                                },
                                {
                                    "(No column name)": "4"
                                },
                                {
                                    "(No column name)": "4"
                                },
                                {
                                    "(No column name)": "6"
                                },
                                {
                                    "(No column name)": "2"
                                },
                                {
                                    "(No column name)": "8"
                                },
                                {
                                    "(No column name)": "5"
                                },
                                {
                                    "(No column name)": "1"
                                },
                                {
                                    "(No column name)": "6"
                                },
                                {
                                    "(No column name)": "4"
                                },
                                {
                                    "(No column name)": "4"
                                },
                                {
                                    "(No column name)": "6"
                                },
                                {
                                    "(No column name)": "6"
                                },
                                {
                                    "(No column name)": "6"
                                },
                                {
                                    "(No column name)": "6"
                                },
                                {
                                    "(No column name)": "5"
                                },
                                {
                                    "(No column name)": "5"
                                },
                                {
                                    "(No column name)": "4"
                                },
                                {
                                    "(No column name)": "2"
                                },
                                {
                                    "(No column name)": "6"
                                },
                                {
                                    "(No column name)": "4"
                                },
                                {
                                    "(No column name)": "4"
                                },
                                {
                                    "(No column name)": "3"
                                },
                                {
                                    "(No column name)": "1"
                                },
                                {
                                    "(No column name)": "4"
                                },
                                {
                                    "(No column name)": "8"
                                },
                                {
                                    "(No column name)": "1"
                                },
                                {
                                    "(No column name)": "9"
                                },
                                {
                                    "(No column name)": "3"
                                },
                                {
                                    "(No column name)": "1"
                                },
                                {
                                    "(No column name)": "4"
                                },
                                {
                                    "(No column name)": "2"
                                },
                                {
                                    "(No column name)": "1"
                                },
                                {
                                    "(No column name)": "3"
                                },
                                {
                                    "(No column name)": "4"
                                },
                                {
                                    "(No column name)": "2"
                                },
                                {
                                    "(No column name)": "6"
                                },
                                {
                                    "(No column name)": "4"
                                },
                                {
                                    "(No column name)": "1"
                                },
                                {
                                    "(No column name)": "5"
                                },
                                {
                                    "(No column name)": "5"
                                },
                                {
                                    "(No column name)": "1"
                                },
                                {
                                    "(No column name)": "6"
                                },
                                {
                                    "(No column name)": "5"
                                },
                                {
                                    "(No column name)": "1"
                                },
                                {
                                    "(No column name)": "6"
                                },
                                {
                                    "(No column name)": "5"
                                },
                                {
                                    "(No column name)": "1"
                                },
                                {
                                    "(No column name)": "6"
                                },
                                {
                                    "(No column name)": "5"
                                },
                                {
                                    "(No column name)": "5"
                                },
                                {
                                    "(No column name)": "4"
                                },
                                {
                                    "(No column name)": "4"
                                },
                                {
                                    "(No column name)": "6"
                                },
                                {
                                    "(No column name)": "6"
                                },
                                {
                                    "(No column name)": "3"
                                },
                                {
                                    "(No column name)": "3"
                                },
                                {
                                    "(No column name)": "2"
                                },
                                {
                                    "(No column name)": "1"
                                },
                                {
                                    "(No column name)": "3"
                                },
                                {
                                    "(No column name)": "2"
                                },
                                {
                                    "(No column name)": "2"
                                },
                                {
                                    "(No column name)": "2"
                                },
                                {
                                    "(No column name)": "2"
                                },
                                {
                                    "(No column name)": "6"
                                },
                                {
                                    "(No column name)": "1"
                                },
                                {
                                    "(No column name)": "7"
                                },
                                {
                                    "(No column name)": "5"
                                },
                                {
                                    "(No column name)": "1"
                                },
                                {
                                    "(No column name)": "6"
                                },
                                {
                                    "(No column name)": "5"
                                },
                                {
                                    "(No column name)": "1"
                                },
                                {
                                    "(No column name)": "6"
                                },
                                {
                                    "(No column name)": "3"
                                },
                                {
                                    "(No column name)": "3"
                                },
                                {
                                    "(No column name)": "3"
                                },
                                {
                                    "(No column name)": "3"
                                },
                                {
                                    "(No column name)": "1"
                                },
                                {
                                    "(No column name)": "1"
                                },
                                {
                                    "(No column name)": "6"
                                },
                                {
                                    "(No column name)": "6"
                                },
                                {
                                    "(No column name)": "4"
                                },
                                {
                                    "(No column name)": "4"
                                },
                                {
                                    "(No column name)": "6"
                                },
                                {
                                    "(No column name)": "3"
                                },
                                {
                                    "(No column name)": "9"
                                },
                                {
                                    "(No column name)": "6"
                                },
                                {
                                    "(No column name)": "6"
                                },
                                {
                                    "(No column name)": "3"
                                },
                                {
                                    "(No column name)": "3"
                                },
                                {
                                    "(No column name)": "5"
                                },
                                {
                                    "(No column name)": "3"
                                },
                                {
                                    "(No column name)": "8"
                                },
                                {
                                    "(No column name)": "4"
                                },
                                {
                                    "(No column name)": "3"
                                },
                                {
                                    "(No column name)": "7"
                                },
                                {
                                    "(No column name)": "4"
                                },
                                {
                                    "(No column name)": "4"
                                },
                                {
                                    "(No column name)": "2"
                                },
                                {
                                    "(No column name)": "2"
                                },
                                {
                                    "(No column name)": "5"
                                },
                                {
                                    "(No column name)": "1"
                                },
                                {
                                    "(No column name)": "6"
                                },
                                {
                                    "(No column name)": "6"
                                },
                                {
                                    "(No column name)": "2"
                                },
                                {
                                    "(No column name)": "8"
                                },
                                {
                                    "(No column name)": "4"
                                },
                                {
                                    "(No column name)": "2"
                                },
                                {
                                    "(No column name)": "6"
                                },
                                {
                                    "(No column name)": "5"
                                },
                                {
                                    "(No column name)": "5"
                                },
                                {
                                    "(No column name)": "3"
                                },
                                {
                                    "(No column name)": "1"
                                },
                                {
                                    "(No column name)": "4"
                                },
                                {
                                    "(No column name)": "2"
                                },
                                {
                                    "(No column name)": "2"
                                },
                                {
                                    "(No column name)": "6"
                                },
                                {
                                    "(No column name)": "3"
                                },
                                {
                                    "(No column name)": "9"
                                },
                                {
                                    "(No column name)": "6"
                                },
                                {
                                    "(No column name)": "1"
                                },
                                {
                                    "(No column name)": "7"
                                },
                                {
                                    "(No column name)": "4"
                                },
                                {
                                    "(No column name)": "4"
                                },
                                {
                                    "(No column name)": "3"
                                },
                                {
                                    "(No column name)": "2"
                                },
                                {
                                    "(No column name)": "5"
                                },
                                {
                                    "(No column name)": "3"
                                },
                                {
                                    "(No column name)": "2"
                                },
                                {
                                    "(No column name)": "5"
                                },
                                {
                                    "(No column name)": "2"
                                },
                                {
                                    "(No column name)": "2"
                                },
                                {
                                    "(No column name)": "6"
                                },
                                {
                                    "(No column name)": "6"
                                },
                                {
                                    "(No column name)": "6"
                                },
                                {
                                    "(No column name)": "2"
                                },
                                {
                                    "(No column name)": "8"
                                },
                                {
                                    "(No column name)": "2"
                                },
                                {
                                    "(No column name)": "2"
                                },
                                {
                                    "(No column name)": "2"
                                },
                                {
                                    "(No column name)": "2"
                                },
                                {
                                    "(No column name)": "4"
                                },
                                {
                                    "(No column name)": "12"
                                },
                                {
                                    "(No column name)": "1"
                                },
                                {
                                    "(No column name)": "13"
                                },
                                {
                                    "(No column name)": "6"
                                },
                                {
                                    "(No column name)": "1"
                                },
                                {
                                    "(No column name)": "7"
                                },
                                {
                                    "(No column name)": "1"
                                },
                                {
                                    "(No column name)": "1"
                                },
                                {
                                    "(No column name)": "4"
                                },
                                {
                                    "(No column name)": "1"
                                },
                                {
                                    "(No column name)": "5"
                                },
                                {
                                    "(No column name)": "4"
                                },
                                {
                                    "(No column name)": "1"
                                },
                                {
                                    "(No column name)": "5"
                                },
                                {
                                    "(No column name)": "4"
                                },
                                {
                                    "(No column name)": "4"
                                },
                                {
                                    "(No column name)": "3"
                                },
                                {
                                    "(No column name)": "3"
                                },
                                {
                                    "(No column name)": "6"
                                },
                                {
                                    "(No column name)": "1"
                                },
                                {
                                    "(No column name)": "1"
                                },
                                {
                                    "(No column name)": "4"
                                },
                                {
                                    "(No column name)": "4"
                                },
                                {
                                    "(No column name)": "4"
                                },
                                {
                                    "(No column name)": "2"
                                },
                                {
                                    "(No column name)": "6"
                                },
                                {
                                    "(No column name)": "3"
                                },
                                {
                                    "(No column name)": "3"
                                },
                                {
                                    "(No column name)": "4"
                                },
                                {
                                    "(No column name)": "4"
                                },
                                {
                                    "(No column name)": "10"
                                },
                                {
                                    "(No column name)": "1"
                                },
                                {
                                    "(No column name)": "11"
                                },
                                {
                                    "(No column name)": "3"
                                },
                                {
                                    "(No column name)": "3"
                                },
                                {
                                    "(No column name)": "4"
                                },
                                {
                                    "(No column name)": "4"
                                },
                                {
                                    "(No column name)": "4"
                                },
                                {
                                    "(No column name)": "4"
                                },
                                {
                                    "(No column name)": "9"
                                },
                                {
                                    "(No column name)": "9"
                                },
                                {
                                    "(No column name)": "1"
                                },
                                {
                                    "(No column name)": "2"
                                },
                                {
                                    "(No column name)": "3"
                                },
                                {
                                    "(No column name)": "2"
                                },
                                {
                                    "(No column name)": "1"
                                },
                                {
                                    "(No column name)": "3"
                                },
                                {
                                    "(No column name)": "4"
                                },
                                {
                                    "(No column name)": "2"
                                },
                                {
                                    "(No column name)": "6"
                                },
                                {
                                    "(No column name)": "5"
                                },
                                {
                                    "(No column name)": "1"
                                },
                                {
                                    "(No column name)": "6"
                                },
                                {
                                    "(No column name)": "4"
                                },
                                {
                                    "(No column name)": "1"
                                },
                                {
                                    "(No column name)": "5"
                                },
                                {
                                    "(No column name)": "7"
                                },
                                {
                                    "(No column name)": "7"
                                },
                                {
                                    "(No column name)": "1"
                                },
                                {
                                    "(No column name)": "4"
                                },
                                {
                                    "(No column name)": "5"
                                },
                                {
                                    "(No column name)": "6"
                                },
                                {
                                    "(No column name)": "6"
                                },
                                {
                                    "(No column name)": "8"
                                },
                                {
                                    "(No column name)": "8"
                                },
                                {
                                    "(No column name)": "4"
                                },
                                {
                                    "(No column name)": "4"
                                },
                                {
                                    "(No column name)": "3"
                                },
                                {
                                    "(No column name)": "1"
                                },
                                {
                                    "(No column name)": "4"
                                },
                                {
                                    "(No column name)": "4"
                                },
                                {
                                    "(No column name)": "1"
                                },
                                {
                                    "(No column name)": "5"
                                },
                                {
                                    "(No column name)": "4"
                                },
                                {
                                    "(No column name)": "1"
                                },
                                {
                                    "(No column name)": "5"
                                },
                                {
                                    "(No column name)": "6"
                                },
                                {
                                    "(No column name)": "2"
                                },
                                {
                                    "(No column name)": "8"
                                },
                                {
                                    "(No column name)": "7"
                                },
                                {
                                    "(No column name)": "1"
                                },
                                {
                                    "(No column name)": "8"
                                },
                                {
                                    "(No column name)": "4"
                                },
                                {
                                    "(No column name)": "4"
                                },
                                {
                                    "(No column name)": "4"
                                },
                                {
                                    "(No column name)": "4"
                                },
                                {
                                    "(No column name)": "4"
                                },
                                {
                                    "(No column name)": "2"
                                },
                                {
                                    "(No column name)": "6"
                                },
                                {
                                    "(No column name)": "5"
                                },
                                {
                                    "(No column name)": "5"
                                },
                                {
                                    "(No column name)": "8"
                                },
                                {
                                    "(No column name)": "2"
                                },
                                {
                                    "(No column name)": "10"
                                },
                                {
                                    "(No column name)": "3"
                                },
                                {
                                    "(No column name)": "1"
                                },
                                {
                                    "(No column name)": "4"
                                },
                                {
                                    "(No column name)": "5"
                                },
                                {
                                    "(No column name)": "2"
                                },
                                {
                                    "(No column name)": "7"
                                },
                                {
                                    "(No column name)": "5"
                                },
                                {
                                    "(No column name)": "2"
                                },
                                {
                                    "(No column name)": "7"
                                },
                                {
                                    "(No column name)": "4"
                                },
                                {
                                    "(No column name)": "4"
                                },
                                {
                                    "(No column name)": "4"
                                },
                                {
                                    "(No column name)": "1"
                                },
                                {
                                    "(No column name)": "5"
                                },
                                {
                                    "(No column name)": "3"
                                },
                                {
                                    "(No column name)": "1"
                                },
                                {
                                    "(No column name)": "4"
                                },
                                {
                                    "(No column name)": "2"
                                },
                                {
                                    "(No column name)": "1"
                                },
                                {
                                    "(No column name)": "3"
                                },
                                {
                                    "(No column name)": "2"
                                },
                                {
                                    "(No column name)": "2"
                                },
                                {
                                    "(No column name)": "3"
                                },
                                {
                                    "(No column name)": "1"
                                },
                                {
                                    "(No column name)": "4"
                                },
                                {
                                    "(No column name)": "2"
                                },
                                {
                                    "(No column name)": "2"
                                },
                                {
                                    "(No column name)": "4"
                                },
                                {
                                    "(No column name)": "1"
                                },
                                {
                                    "(No column name)": "1"
                                },
                                {
                                    "(No column name)": "2"
                                },
                                {
                                    "(No column name)": "5"
                                },
                                {
                                    "(No column name)": "1"
                                },
                                {
                                    "(No column name)": "6"
                                },
                                {
                                    "(No column name)": "3"
                                },
                                {
                                    "(No column name)": "2"
                                },
                                {
                                    "(No column name)": "5"
                                },
                                {
                                    "(No column name)": "2"
                                },
                                {
                                    "(No column name)": "2"
                                },
                                {
                                    "(No column name)": "6"
                                },
                                {
                                    "(No column name)": "1"
                                },
                                {
                                    "(No column name)": "7"
                                },
                                {
                                    "(No column name)": "6"
                                },
                                {
                                    "(No column name)": "2"
                                },
                                {
                                    "(No column name)": "8"
                                },
                                {
                                    "(No column name)": "5"
                                },
                                {
                                    "(No column name)": "5"
                                },
                                {
                                    "(No column name)": "4"
                                },
                                {
                                    "(No column name)": "1"
                                },
                                {
                                    "(No column name)": "5"
                                },
                                {
                                    "(No column name)": "3"
                                },
                                {
                                    "(No column name)": "2"
                                },
                                {
                                    "(No column name)": "5"
                                },
                                {
                                    "(No column name)": "3"
                                },
                                {
                                    "(No column name)": "1"
                                },
                                {
                                    "(No column name)": "4"
                                },
                                {
                                    "(No column name)": "5"
                                },
                                {
                                    "(No column name)": "2"
                                },
                                {
                                    "(No column name)": "7"
                                },
                                {
                                    "(No column name)": "2"
                                },
                                {
                                    "(No column name)": "2"
                                },
                                {
                                    "(No column name)": "7"
                                },
                                {
                                    "(No column name)": "1"
                                },
                                {
                                    "(No column name)": "8"
                                },
                                {
                                    "(No column name)": "5"
                                },
                                {
                                    "(No column name)": "2"
                                },
                                {
                                    "(No column name)": "7"
                                },
                                {
                                    "(No column name)": "3"
                                },
                                {
                                    "(No column name)": "2"
                                },
                                {
                                    "(No column name)": "5"
                                },
                                {
                                    "(No column name)": "4"
                                },
                                {
                                    "(No column name)": "2"
                                },
                                {
                                    "(No column name)": "6"
                                },
                                {
                                    "(No column name)": "8"
                                },
                                {
                                    "(No column name)": "8"
                                },
                                {
                                    "(No column name)": "8"
                                },
                                {
                                    "(No column name)": "1"
                                },
                                {
                                    "(No column name)": "9"
                                },
                                {
                                    "(No column name)": "5"
                                },
                                {
                                    "(No column name)": "5"
                                },
                                {
                                    "(No column name)": "4"
                                },
                                {
                                    "(No column name)": "2"
                                },
                                {
                                    "(No column name)": "6"
                                },
                                {
                                    "(No column name)": "1"
                                },
                                {
                                    "(No column name)": "1"
                                },
                                {
                                    "(No column name)": "4"
                                },
                                {
                                    "(No column name)": "2"
                                },
                                {
                                    "(No column name)": "6"
                                },
                                {
                                    "(No column name)": "6"
                                },
                                {
                                    "(No column name)": "1"
                                },
                                {
                                    "(No column name)": "7"
                                },
                                {
                                    "(No column name)": "3"
                                },
                                {
                                    "(No column name)": "2"
                                },
                                {
                                    "(No column name)": "5"
                                },
                                {
                                    "(No column name)": "2"
                                },
                                {
                                    "(No column name)": "2"
                                },
                                {
                                    "(No column name)": "4"
                                },
                                {
                                    "(No column name)": "5"
                                },
                                {
                                    "(No column name)": "1"
                                },
                                {
                                    "(No column name)": "6"
                                },
                                {
                                    "(No column name)": "4"
                                },
                                {
                                    "(No column name)": "1"
                                },
                                {
                                    "(No column name)": "5"
                                },
                                {
                                    "(No column name)": "5"
                                },
                                {
                                    "(No column name)": "1"
                                },
                                {
                                    "(No column name)": "6"
                                },
                                {
                                    "(No column name)": "5"
                                },
                                {
                                    "(No column name)": "1"
                                },
                                {
                                    "(No column name)": "6"
                                },
                                {
                                    "(No column name)": "5"
                                },
                                {
                                    "(No column name)": "1"
                                },
                                {
                                    "(No column name)": "6"
                                },
                                {
                                    "(No column name)": "3"
                                },
                                {
                                    "(No column name)": "3"
                                },
                                {
                                    "(No column name)": "3"
                                },
                                {
                                    "(No column name)": "3"
                                },
                                {
                                    "(No column name)": "6"
                                },
                                {
                                    "(No column name)": "6"
                                },
                                {
                                    "(No column name)": "7"
                                },
                                {
                                    "(No column name)": "7"
                                },
                                {
                                    "(No column name)": "5"
                                },
                                {
                                    "(No column name)": "2"
                                },
                                {
                                    "(No column name)": "7"
                                },
                                {
                                    "(No column name)": "8"
                                },
                                {
                                    "(No column name)": "8"
                                },
                                {
                                    "(No column name)": "6"
                                },
                                {
                                    "(No column name)": "6"
                                },
                                {
                                    "(No column name)": "1"
                                },
                                {
                                    "(No column name)": "1"
                                },
                                {
                                    "(No column name)": "2"
                                },
                                {
                                    "(No column name)": "6"
                                },
                                {
                                    "(No column name)": "1"
                                },
                                {
                                    "(No column name)": "7"
                                },
                                {
                                    "(No column name)": "4"
                                },
                                {
                                    "(No column name)": "1"
                                },
                                {
                                    "(No column name)": "5"
                                },
                                {
                                    "(No column name)": "5"
                                },
                                {
                                    "(No column name)": "1"
                                },
                                {
                                    "(No column name)": "6"
                                },
                                {
                                    "(No column name)": "5"
                                },
                                {
                                    "(No column name)": "1"
                                },
                                {
                                    "(No column name)": "6"
                                },
                                {
                                    "(No column name)": "1"
                                },
                                {
                                    "(No column name)": "1"
                                },
                                {
                                    "(No column name)": "5"
                                },
                                {
                                    "(No column name)": "1"
                                },
                                {
                                    "(No column name)": "6"
                                },
                                {
                                    "(No column name)": "6"
                                },
                                {
                                    "(No column name)": "1"
                                },
                                {
                                    "(No column name)": "7"
                                },
                                {
                                    "(No column name)": "5"
                                },
                                {
                                    "(No column name)": "1"
                                },
                                {
                                    "(No column name)": "6"
                                },
                                {
                                    "(No column name)": "3"
                                },
                                {
                                    "(No column name)": "3"
                                },
                                {
                                    "(No column name)": "3"
                                },
                                {
                                    "(No column name)": "1"
                                },
                                {
                                    "(No column name)": "4"
                                },
                                {
                                    "(No column name)": "2"
                                },
                                {
                                    "(No column name)": "3"
                                },
                                {
                                    "(No column name)": "5"
                                },
                                {
                                    "(No column name)": "4"
                                },
                                {
                                    "(No column name)": "1"
                                },
                                {
                                    "(No column name)": "5"
                                },
                                {
                                    "(No column name)": "4"
                                },
                                {
                                    "(No column name)": "1"
                                },
                                {
                                    "(No column name)": "5"
                                },
                                {
                                    "(No column name)": "4"
                                },
                                {
                                    "(No column name)": "3"
                                },
                                {
                                    "(No column name)": "7"
                                },
                                {
                                    "(No column name)": "4"
                                },
                                {
                                    "(No column name)": "1"
                                },
                                {
                                    "(No column name)": "5"
                                },
                                {
                                    "(No column name)": "3"
                                },
                                {
                                    "(No column name)": "3"
                                },
                                {
                                    "(No column name)": "4"
                                },
                                {
                                    "(No column name)": "1"
                                },
                                {
                                    "(No column name)": "5"
                                },
                                {
                                    "(No column name)": "5"
                                },
                                {
                                    "(No column name)": "1"
                                },
                                {
                                    "(No column name)": "6"
                                },
                                {
                                    "(No column name)": "3"
                                },
                                {
                                    "(No column name)": "3"
                                },
                                {
                                    "(No column name)": "6"
                                },
                                {
                                    "(No column name)": "1"
                                },
                                {
                                    "(No column name)": "7"
                                },
                                {
                                    "(No column name)": "5"
                                },
                                {
                                    "(No column name)": "5"
                                },
                                {
                                    "(No column name)": "7"
                                },
                                {
                                    "(No column name)": "7"
                                },
                                {
                                    "(No column name)": "2"
                                },
                                {
                                    "(No column name)": "1"
                                },
                                {
                                    "(No column name)": "3"
                                },
                                {
                                    "(No column name)": "1"
                                },
                                {
                                    "(No column name)": "1"
                                },
                                {
                                    "(No column name)": "2"
                                },
                                {
                                    "(No column name)": "5"
                                },
                                {
                                    "(No column name)": "5"
                                },
                                {
                                    "(No column name)": "5"
                                },
                                {
                                    "(No column name)": "1"
                                },
                                {
                                    "(No column name)": "6"
                                },
                                {
                                    "(No column name)": "5"
                                },
                                {
                                    "(No column name)": "5"
                                },
                                {
                                    "(No column name)": "4"
                                },
                                {
                                    "(No column name)": "1"
                                },
                                {
                                    "(No column name)": "5"
                                },
                                {
                                    "(No column name)": "7"
                                },
                                {
                                    "(No column name)": "2"
                                },
                                {
                                    "(No column name)": "9"
                                },
                                {
                                    "(No column name)": "3"
                                },
                                {
                                    "(No column name)": "1"
                                },
                                {
                                    "(No column name)": "4"
                                },
                                {
                                    "(No column name)": "4"
                                },
                                {
                                    "(No column name)": "4"
                                },
                                {
                                    "(No column name)": "5"
                                },
                                {
                                    "(No column name)": "5"
                                },
                                {
                                    "(No column name)": "4"
                                },
                                {
                                    "(No column name)": "2"
                                },
                                {
                                    "(No column name)": "6"
                                },
                                {
                                    "(No column name)": "3"
                                },
                                {
                                    "(No column name)": "1"
                                },
                                {
                                    "(No column name)": "4"
                                },
                                {
                                    "(No column name)": "4"
                                },
                                {
                                    "(No column name)": "4"
                                },
                                {
                                    "(No column name)": "2"
                                },
                                {
                                    "(No column name)": "1"
                                },
                                {
                                    "(No column name)": "3"
                                },
                                {
                                    "(No column name)": "1"
                                },
                                {
                                    "(No column name)": "2"
                                },
                                {
                                    "(No column name)": "3"
                                },
                                {
                                    "(No column name)": "6"
                                },
                                {
                                    "(No column name)": "6"
                                },
                                {
                                    "(No column name)": "10"
                                },
                                {
                                    "(No column name)": "2"
                                },
                                {
                                    "(No column name)": "12"
                                },
                                {
                                    "(No column name)": "3"
                                },
                                {
                                    "(No column name)": "1"
                                },
                                {
                                    "(No column name)": "4"
                                },
                                {
                                    "(No column name)": "4"
                                },
                                {
                                    "(No column name)": "4"
                                },
                                {
                                    "(No column name)": "10"
                                },
                                {
                                    "(No column name)": "2"
                                },
                                {
                                    "(No column name)": "12"
                                },
                                {
                                    "(No column name)": "3"
                                },
                                {
                                    "(No column name)": "1"
                                },
                                {
                                    "(No column name)": "4"
                                },
                                {
                                    "(No column name)": "7"
                                },
                                {
                                    "(No column name)": "7"
                                },
                                {
                                    "(No column name)": "6"
                                },
                                {
                                    "(No column name)": "6"
                                },
                                {
                                    "(No column name)": "3"
                                },
                                {
                                    "(No column name)": "2"
                                },
                                {
                                    "(No column name)": "5"
                                },
                                {
                                    "(No column name)": "4"
                                },
                                {
                                    "(No column name)": "1"
                                },
                                {
                                    "(No column name)": "5"
                                },
                                {
                                    "(No column name)": "3"
                                },
                                {
                                    "(No column name)": "2"
                                },
                                {
                                    "(No column name)": "5"
                                },
                                {
                                    "(No column name)": "2"
                                },
                                {
                                    "(No column name)": "2"
                                },
                                {
                                    "(No column name)": "7"
                                },
                                {
                                    "(No column name)": "7"
                                },
                                {
                                    "(No column name)": "1"
                                },
                                {
                                    "(No column name)": "1"
                                },
                                {
                                    "(No column name)": "4"
                                },
                                {
                                    "(No column name)": "2"
                                },
                                {
                                    "(No column name)": "6"
                                },
                                {
                                    "(No column name)": "4"
                                },
                                {
                                    "(No column name)": "4"
                                },
                                {
                                    "(No column name)": "6"
                                },
                                {
                                    "(No column name)": "6"
                                },
                                {
                                    "(No column name)": "7"
                                },
                                {
                                    "(No column name)": "1"
                                },
                                {
                                    "(No column name)": "8"
                                },
                                {
                                    "(No column name)": "1027"
                                }
                            ]
                        },
                        "text/html": [
                            "<table>",
                            "<tr><th>(No column name)</th><th>(No column name)</th><th>(No column name)</th></tr>",
                            "<tr><td>1</td><td>2016</td><td>8</td></tr>",
                            "<tr><td>1</td><td>Részösszeg</td><td>8</td></tr>",
                            "<tr><td>2</td><td>2016</td><td>4</td></tr>",
                            "<tr><td>2</td><td>Részösszeg</td><td>4</td></tr>",
                            "<tr><td>3</td><td>2016</td><td>6</td></tr>",
                            "<tr><td>3</td><td>2017</td><td>2</td></tr>",
                            "<tr><td>3</td><td>Részösszeg</td><td>8</td></tr>",
                            "<tr><td>4</td><td>2016</td><td>5</td></tr>",
                            "<tr><td>4</td><td>2017</td><td>1</td></tr>",
                            "<tr><td>4</td><td>Részösszeg</td><td>6</td></tr>",
                            "<tr><td>5</td><td>2016</td><td>4</td></tr>",
                            "<tr><td>5</td><td>Részösszeg</td><td>4</td></tr>",
                            "<tr><td>6</td><td>2016</td><td>6</td></tr>",
                            "<tr><td>6</td><td>Részösszeg</td><td>6</td></tr>",
                            "<tr><td>7</td><td>2016</td><td>6</td></tr>",
                            "<tr><td>7</td><td>Részösszeg</td><td>6</td></tr>",
                            "<tr><td>8</td><td>2016</td><td>5</td></tr>",
                            "<tr><td>8</td><td>Részösszeg</td><td>5</td></tr>",
                            "<tr><td>9</td><td>2016</td><td>4</td></tr>",
                            "<tr><td>9</td><td>2017</td><td>2</td></tr>",
                            "<tr><td>9</td><td>Részösszeg</td><td>6</td></tr>",
                            "<tr><td>10</td><td>2016</td><td>4</td></tr>",
                            "<tr><td>10</td><td>Részösszeg</td><td>4</td></tr>",
                            "<tr><td>11</td><td>2016</td><td>3</td></tr>",
                            "<tr><td>11</td><td>2017</td><td>1</td></tr>",
                            "<tr><td>11</td><td>Részösszeg</td><td>4</td></tr>",
                            "<tr><td>12</td><td>2016</td><td>8</td></tr>",
                            "<tr><td>12</td><td>2017</td><td>1</td></tr>",
                            "<tr><td>12</td><td>Részösszeg</td><td>9</td></tr>",
                            "<tr><td>13</td><td>2016</td><td>3</td></tr>",
                            "<tr><td>13</td><td>2017</td><td>1</td></tr>",
                            "<tr><td>13</td><td>Részösszeg</td><td>4</td></tr>",
                            "<tr><td>14</td><td>2016</td><td>2</td></tr>",
                            "<tr><td>14</td><td>2017</td><td>1</td></tr>",
                            "<tr><td>14</td><td>Részösszeg</td><td>3</td></tr>",
                            "<tr><td>15</td><td>2016</td><td>4</td></tr>",
                            "<tr><td>15</td><td>2017</td><td>2</td></tr>",
                            "<tr><td>15</td><td>Részösszeg</td><td>6</td></tr>",
                            "<tr><td>16</td><td>2016</td><td>4</td></tr>",
                            "<tr><td>16</td><td>2017</td><td>1</td></tr>",
                            "<tr><td>16</td><td>Részösszeg</td><td>5</td></tr>",
                            "<tr><td>17</td><td>2016</td><td>5</td></tr>",
                            "<tr><td>17</td><td>2017</td><td>1</td></tr>",
                            "<tr><td>17</td><td>Részösszeg</td><td>6</td></tr>",
                            "<tr><td>18</td><td>2016</td><td>5</td></tr>",
                            "<tr><td>18</td><td>2017</td><td>1</td></tr>",
                            "<tr><td>18</td><td>Részösszeg</td><td>6</td></tr>",
                            "<tr><td>19</td><td>2016</td><td>5</td></tr>",
                            "<tr><td>19</td><td>2017</td><td>1</td></tr>",
                            "<tr><td>19</td><td>Részösszeg</td><td>6</td></tr>",
                            "<tr><td>20</td><td>2016</td><td>5</td></tr>",
                            "<tr><td>20</td><td>Részösszeg</td><td>5</td></tr>",
                            "<tr><td>21</td><td>2016</td><td>4</td></tr>",
                            "<tr><td>21</td><td>Részösszeg</td><td>4</td></tr>",
                            "<tr><td>22</td><td>2016</td><td>6</td></tr>",
                            "<tr><td>22</td><td>Részösszeg</td><td>6</td></tr>",
                            "<tr><td>23</td><td>2016</td><td>3</td></tr>",
                            "<tr><td>23</td><td>Részösszeg</td><td>3</td></tr>",
                            "<tr><td>24</td><td>2016</td><td>2</td></tr>",
                            "<tr><td>24</td><td>2017</td><td>1</td></tr>",
                            "<tr><td>24</td><td>Részösszeg</td><td>3</td></tr>",
                            "<tr><td>25</td><td>2016</td><td>2</td></tr>",
                            "<tr><td>25</td><td>Részösszeg</td><td>2</td></tr>",
                            "<tr><td>26</td><td>2016</td><td>2</td></tr>",
                            "<tr><td>26</td><td>Részösszeg</td><td>2</td></tr>",
                            "<tr><td>27</td><td>2016</td><td>6</td></tr>",
                            "<tr><td>27</td><td>2017</td><td>1</td></tr>",
                            "<tr><td>27</td><td>Részösszeg</td><td>7</td></tr>",
                            "<tr><td>28</td><td>2016</td><td>5</td></tr>",
                            "<tr><td>28</td><td>2017</td><td>1</td></tr>",
                            "<tr><td>28</td><td>Részösszeg</td><td>6</td></tr>",
                            "<tr><td>29</td><td>2016</td><td>5</td></tr>",
                            "<tr><td>29</td><td>2017</td><td>1</td></tr>",
                            "<tr><td>29</td><td>Részösszeg</td><td>6</td></tr>",
                            "<tr><td>30</td><td>2016</td><td>3</td></tr>",
                            "<tr><td>30</td><td>Részösszeg</td><td>3</td></tr>",
                            "<tr><td>31</td><td>2016</td><td>3</td></tr>",
                            "<tr><td>31</td><td>Részösszeg</td><td>3</td></tr>",
                            "<tr><td>32</td><td>2016</td><td>1</td></tr>",
                            "<tr><td>32</td><td>Részösszeg</td><td>1</td></tr>",
                            "<tr><td>33</td><td>2016</td><td>6</td></tr>",
                            "<tr><td>33</td><td>Részösszeg</td><td>6</td></tr>",
                            "<tr><td>34</td><td>2016</td><td>4</td></tr>",
                            "<tr><td>34</td><td>Részösszeg</td><td>4</td></tr>",
                            "<tr><td>35</td><td>2016</td><td>6</td></tr>",
                            "<tr><td>35</td><td>2017</td><td>3</td></tr>",
                            "<tr><td>35</td><td>Részösszeg</td><td>9</td></tr>",
                            "<tr><td>36</td><td>2016</td><td>6</td></tr>",
                            "<tr><td>36</td><td>Részösszeg</td><td>6</td></tr>",
                            "<tr><td>37</td><td>2016</td><td>3</td></tr>",
                            "<tr><td>37</td><td>Részösszeg</td><td>3</td></tr>",
                            "<tr><td>38</td><td>2016</td><td>5</td></tr>",
                            "<tr><td>38</td><td>2017</td><td>3</td></tr>",
                            "<tr><td>38</td><td>Részösszeg</td><td>8</td></tr>",
                            "<tr><td>39</td><td>2016</td><td>4</td></tr>",
                            "<tr><td>39</td><td>2017</td><td>3</td></tr>",
                            "<tr><td>39</td><td>Részösszeg</td><td>7</td></tr>",
                            "<tr><td>40</td><td>2016</td><td>4</td></tr>",
                            "<tr><td>40</td><td>Részösszeg</td><td>4</td></tr>",
                            "<tr><td>41</td><td>2016</td><td>2</td></tr>",
                            "<tr><td>41</td><td>Részösszeg</td><td>2</td></tr>",
                            "<tr><td>42</td><td>2016</td><td>5</td></tr>",
                            "<tr><td>42</td><td>2017</td><td>1</td></tr>",
                            "<tr><td>42</td><td>Részösszeg</td><td>6</td></tr>",
                            "<tr><td>43</td><td>2016</td><td>6</td></tr>",
                            "<tr><td>43</td><td>2017</td><td>2</td></tr>",
                            "<tr><td>43</td><td>Részösszeg</td><td>8</td></tr>",
                            "<tr><td>44</td><td>2016</td><td>4</td></tr>",
                            "<tr><td>44</td><td>2017</td><td>2</td></tr>",
                            "<tr><td>44</td><td>Részösszeg</td><td>6</td></tr>",
                            "<tr><td>45</td><td>2016</td><td>5</td></tr>",
                            "<tr><td>45</td><td>Részösszeg</td><td>5</td></tr>",
                            "<tr><td>46</td><td>2016</td><td>3</td></tr>",
                            "<tr><td>46</td><td>2017</td><td>1</td></tr>",
                            "<tr><td>46</td><td>Részösszeg</td><td>4</td></tr>",
                            "<tr><td>47</td><td>2016</td><td>2</td></tr>",
                            "<tr><td>47</td><td>Részösszeg</td><td>2</td></tr>",
                            "<tr><td>48</td><td>2016</td><td>6</td></tr>",
                            "<tr><td>48</td><td>2017</td><td>3</td></tr>",
                            "<tr><td>48</td><td>Részösszeg</td><td>9</td></tr>",
                            "<tr><td>49</td><td>2016</td><td>6</td></tr>",
                            "<tr><td>49</td><td>2017</td><td>1</td></tr>",
                            "<tr><td>49</td><td>Részösszeg</td><td>7</td></tr>",
                            "<tr><td>50</td><td>2016</td><td>4</td></tr>",
                            "<tr><td>50</td><td>Részösszeg</td><td>4</td></tr>",
                            "<tr><td>51</td><td>2016</td><td>3</td></tr>",
                            "<tr><td>51</td><td>2017</td><td>2</td></tr>",
                            "<tr><td>51</td><td>Részösszeg</td><td>5</td></tr>",
                            "<tr><td>52</td><td>2016</td><td>3</td></tr>",
                            "<tr><td>52</td><td>2017</td><td>2</td></tr>",
                            "<tr><td>52</td><td>Részösszeg</td><td>5</td></tr>",
                            "<tr><td>53</td><td>2016</td><td>2</td></tr>",
                            "<tr><td>53</td><td>Részösszeg</td><td>2</td></tr>",
                            "<tr><td>54</td><td>2016</td><td>6</td></tr>",
                            "<tr><td>54</td><td>Részösszeg</td><td>6</td></tr>",
                            "<tr><td>55</td><td>2016</td><td>6</td></tr>",
                            "<tr><td>55</td><td>2017</td><td>2</td></tr>",
                            "<tr><td>55</td><td>Részösszeg</td><td>8</td></tr>",
                            "<tr><td>56</td><td>2016</td><td>2</td></tr>",
                            "<tr><td>56</td><td>Részösszeg</td><td>2</td></tr>",
                            "<tr><td>57</td><td>2016</td><td>2</td></tr>",
                            "<tr><td>57</td><td>2017</td><td>2</td></tr>",
                            "<tr><td>57</td><td>Részösszeg</td><td>4</td></tr>",
                            "<tr><td>58</td><td>2016</td><td>12</td></tr>",
                            "<tr><td>58</td><td>2017</td><td>1</td></tr>",
                            "<tr><td>58</td><td>Részösszeg</td><td>13</td></tr>",
                            "<tr><td>59</td><td>2016</td><td>6</td></tr>",
                            "<tr><td>59</td><td>2017</td><td>1</td></tr>",
                            "<tr><td>59</td><td>Részösszeg</td><td>7</td></tr>",
                            "<tr><td>60</td><td>2016</td><td>1</td></tr>",
                            "<tr><td>60</td><td>Részösszeg</td><td>1</td></tr>",
                            "<tr><td>61</td><td>2016</td><td>4</td></tr>",
                            "<tr><td>61</td><td>2017</td><td>1</td></tr>",
                            "<tr><td>61</td><td>Részösszeg</td><td>5</td></tr>",
                            "<tr><td>62</td><td>2016</td><td>4</td></tr>",
                            "<tr><td>62</td><td>2017</td><td>1</td></tr>",
                            "<tr><td>62</td><td>Részösszeg</td><td>5</td></tr>",
                            "<tr><td>63</td><td>2016</td><td>4</td></tr>",
                            "<tr><td>63</td><td>Részösszeg</td><td>4</td></tr>",
                            "<tr><td>64</td><td>2016</td><td>3</td></tr>",
                            "<tr><td>64</td><td>2017</td><td>3</td></tr>",
                            "<tr><td>64</td><td>Részösszeg</td><td>6</td></tr>",
                            "<tr><td>65</td><td>2016</td><td>1</td></tr>",
                            "<tr><td>65</td><td>Részösszeg</td><td>1</td></tr>",
                            "<tr><td>66</td><td>2016</td><td>4</td></tr>",
                            "<tr><td>66</td><td>Részösszeg</td><td>4</td></tr>",
                            "<tr><td>67</td><td>2016</td><td>4</td></tr>",
                            "<tr><td>67</td><td>2017</td><td>2</td></tr>",
                            "<tr><td>67</td><td>Részösszeg</td><td>6</td></tr>",
                            "<tr><td>68</td><td>2016</td><td>3</td></tr>",
                            "<tr><td>68</td><td>Részösszeg</td><td>3</td></tr>",
                            "<tr><td>69</td><td>2016</td><td>4</td></tr>",
                            "<tr><td>69</td><td>Részösszeg</td><td>4</td></tr>",
                            "<tr><td>70</td><td>2016</td><td>10</td></tr>",
                            "<tr><td>70</td><td>2017</td><td>1</td></tr>",
                            "<tr><td>70</td><td>Részösszeg</td><td>11</td></tr>",
                            "<tr><td>71</td><td>2016</td><td>3</td></tr>",
                            "<tr><td>71</td><td>Részösszeg</td><td>3</td></tr>",
                            "<tr><td>72</td><td>2016</td><td>4</td></tr>",
                            "<tr><td>72</td><td>Részösszeg</td><td>4</td></tr>",
                            "<tr><td>73</td><td>2016</td><td>4</td></tr>",
                            "<tr><td>73</td><td>Részösszeg</td><td>4</td></tr>",
                            "<tr><td>74</td><td>2016</td><td>9</td></tr>",
                            "<tr><td>74</td><td>Részösszeg</td><td>9</td></tr>",
                            "<tr><td>75</td><td>2016</td><td>1</td></tr>",
                            "<tr><td>75</td><td>2017</td><td>2</td></tr>",
                            "<tr><td>75</td><td>Részösszeg</td><td>3</td></tr>",
                            "<tr><td>76</td><td>2016</td><td>2</td></tr>",
                            "<tr><td>76</td><td>2017</td><td>1</td></tr>",
                            "<tr><td>76</td><td>Részösszeg</td><td>3</td></tr>",
                            "<tr><td>77</td><td>2016</td><td>4</td></tr>",
                            "<tr><td>77</td><td>2017</td><td>2</td></tr>",
                            "<tr><td>77</td><td>Részösszeg</td><td>6</td></tr>",
                            "<tr><td>78</td><td>2016</td><td>5</td></tr>",
                            "<tr><td>78</td><td>2017</td><td>1</td></tr>",
                            "<tr><td>78</td><td>Részösszeg</td><td>6</td></tr>",
                            "<tr><td>79</td><td>2016</td><td>4</td></tr>",
                            "<tr><td>79</td><td>2017</td><td>1</td></tr>",
                            "<tr><td>79</td><td>Részösszeg</td><td>5</td></tr>",
                            "<tr><td>80</td><td>2016</td><td>7</td></tr>",
                            "<tr><td>80</td><td>Részösszeg</td><td>7</td></tr>",
                            "<tr><td>81</td><td>2016</td><td>1</td></tr>",
                            "<tr><td>81</td><td>2017</td><td>4</td></tr>",
                            "<tr><td>81</td><td>Részösszeg</td><td>5</td></tr>",
                            "<tr><td>82</td><td>2016</td><td>6</td></tr>",
                            "<tr><td>82</td><td>Részösszeg</td><td>6</td></tr>",
                            "<tr><td>83</td><td>2016</td><td>8</td></tr>",
                            "<tr><td>83</td><td>Részösszeg</td><td>8</td></tr>",
                            "<tr><td>84</td><td>2016</td><td>4</td></tr>",
                            "<tr><td>84</td><td>Részösszeg</td><td>4</td></tr>",
                            "<tr><td>85</td><td>2016</td><td>3</td></tr>",
                            "<tr><td>85</td><td>2017</td><td>1</td></tr>",
                            "<tr><td>85</td><td>Részösszeg</td><td>4</td></tr>",
                            "<tr><td>86</td><td>2016</td><td>4</td></tr>",
                            "<tr><td>86</td><td>2017</td><td>1</td></tr>",
                            "<tr><td>86</td><td>Részösszeg</td><td>5</td></tr>",
                            "<tr><td>87</td><td>2016</td><td>4</td></tr>",
                            "<tr><td>87</td><td>2017</td><td>1</td></tr>",
                            "<tr><td>87</td><td>Részösszeg</td><td>5</td></tr>",
                            "<tr><td>88</td><td>2016</td><td>6</td></tr>",
                            "<tr><td>88</td><td>2017</td><td>2</td></tr>",
                            "<tr><td>88</td><td>Részösszeg</td><td>8</td></tr>",
                            "<tr><td>89</td><td>2016</td><td>7</td></tr>",
                            "<tr><td>89</td><td>2017</td><td>1</td></tr>",
                            "<tr><td>89</td><td>Részösszeg</td><td>8</td></tr>",
                            "<tr><td>90</td><td>2016</td><td>4</td></tr>",
                            "<tr><td>90</td><td>Részösszeg</td><td>4</td></tr>",
                            "<tr><td>91</td><td>2016</td><td>4</td></tr>",
                            "<tr><td>91</td><td>Részösszeg</td><td>4</td></tr>",
                            "<tr><td>92</td><td>2016</td><td>4</td></tr>",
                            "<tr><td>92</td><td>2017</td><td>2</td></tr>",
                            "<tr><td>92</td><td>Részösszeg</td><td>6</td></tr>",
                            "<tr><td>93</td><td>2016</td><td>5</td></tr>",
                            "<tr><td>93</td><td>Részösszeg</td><td>5</td></tr>",
                            "<tr><td>94</td><td>2016</td><td>8</td></tr>",
                            "<tr><td>94</td><td>2017</td><td>2</td></tr>",
                            "<tr><td>94</td><td>Részösszeg</td><td>10</td></tr>",
                            "<tr><td>95</td><td>2016</td><td>3</td></tr>",
                            "<tr><td>95</td><td>2017</td><td>1</td></tr>",
                            "<tr><td>95</td><td>Részösszeg</td><td>4</td></tr>",
                            "<tr><td>96</td><td>2016</td><td>5</td></tr>",
                            "<tr><td>96</td><td>2017</td><td>2</td></tr>",
                            "<tr><td>96</td><td>Részösszeg</td><td>7</td></tr>",
                            "<tr><td>97</td><td>2016</td><td>5</td></tr>",
                            "<tr><td>97</td><td>2017</td><td>2</td></tr>",
                            "<tr><td>97</td><td>Részösszeg</td><td>7</td></tr>",
                            "<tr><td>98</td><td>2016</td><td>4</td></tr>",
                            "<tr><td>98</td><td>Részösszeg</td><td>4</td></tr>",
                            "<tr><td>99</td><td>2016</td><td>4</td></tr>",
                            "<tr><td>99</td><td>2017</td><td>1</td></tr>",
                            "<tr><td>99</td><td>Részösszeg</td><td>5</td></tr>",
                            "<tr><td>100</td><td>2016</td><td>3</td></tr>",
                            "<tr><td>100</td><td>2017</td><td>1</td></tr>",
                            "<tr><td>100</td><td>Részösszeg</td><td>4</td></tr>",
                            "<tr><td>101</td><td>2016</td><td>2</td></tr>",
                            "<tr><td>101</td><td>2017</td><td>1</td></tr>",
                            "<tr><td>101</td><td>Részösszeg</td><td>3</td></tr>",
                            "<tr><td>102</td><td>2016</td><td>2</td></tr>",
                            "<tr><td>102</td><td>Részösszeg</td><td>2</td></tr>",
                            "<tr><td>103</td><td>2016</td><td>3</td></tr>",
                            "<tr><td>103</td><td>2017</td><td>1</td></tr>",
                            "<tr><td>103</td><td>Részösszeg</td><td>4</td></tr>",
                            "<tr><td>104</td><td>2016</td><td>2</td></tr>",
                            "<tr><td>104</td><td>2017</td><td>2</td></tr>",
                            "<tr><td>104</td><td>Részösszeg</td><td>4</td></tr>",
                            "<tr><td>105</td><td>2016</td><td>1</td></tr>",
                            "<tr><td>105</td><td>2017</td><td>1</td></tr>",
                            "<tr><td>105</td><td>Részösszeg</td><td>2</td></tr>",
                            "<tr><td>106</td><td>2016</td><td>5</td></tr>",
                            "<tr><td>106</td><td>2017</td><td>1</td></tr>",
                            "<tr><td>106</td><td>Részösszeg</td><td>6</td></tr>",
                            "<tr><td>107</td><td>2016</td><td>3</td></tr>",
                            "<tr><td>107</td><td>2017</td><td>2</td></tr>",
                            "<tr><td>107</td><td>Részösszeg</td><td>5</td></tr>",
                            "<tr><td>108</td><td>2016</td><td>2</td></tr>",
                            "<tr><td>108</td><td>Részösszeg</td><td>2</td></tr>",
                            "<tr><td>109</td><td>2016</td><td>6</td></tr>",
                            "<tr><td>109</td><td>2017</td><td>1</td></tr>",
                            "<tr><td>109</td><td>Részösszeg</td><td>7</td></tr>",
                            "<tr><td>110</td><td>2016</td><td>6</td></tr>",
                            "<tr><td>110</td><td>2017</td><td>2</td></tr>",
                            "<tr><td>110</td><td>Részösszeg</td><td>8</td></tr>",
                            "<tr><td>111</td><td>2016</td><td>5</td></tr>",
                            "<tr><td>111</td><td>Részösszeg</td><td>5</td></tr>",
                            "<tr><td>112</td><td>2016</td><td>4</td></tr>",
                            "<tr><td>112</td><td>2017</td><td>1</td></tr>",
                            "<tr><td>112</td><td>Részösszeg</td><td>5</td></tr>",
                            "<tr><td>113</td><td>2016</td><td>3</td></tr>",
                            "<tr><td>113</td><td>2017</td><td>2</td></tr>",
                            "<tr><td>113</td><td>Részösszeg</td><td>5</td></tr>",
                            "<tr><td>114</td><td>2016</td><td>3</td></tr>",
                            "<tr><td>114</td><td>2017</td><td>1</td></tr>",
                            "<tr><td>114</td><td>Részösszeg</td><td>4</td></tr>",
                            "<tr><td>115</td><td>2016</td><td>5</td></tr>",
                            "<tr><td>115</td><td>2017</td><td>2</td></tr>",
                            "<tr><td>115</td><td>Részösszeg</td><td>7</td></tr>",
                            "<tr><td>116</td><td>2017</td><td>2</td></tr>",
                            "<tr><td>116</td><td>Részösszeg</td><td>2</td></tr>",
                            "<tr><td>117</td><td>2016</td><td>7</td></tr>",
                            "<tr><td>117</td><td>2017</td><td>1</td></tr>",
                            "<tr><td>117</td><td>Részösszeg</td><td>8</td></tr>",
                            "<tr><td>118</td><td>2016</td><td>5</td></tr>",
                            "<tr><td>118</td><td>2017</td><td>2</td></tr>",
                            "<tr><td>118</td><td>Részösszeg</td><td>7</td></tr>",
                            "<tr><td>119</td><td>2016</td><td>3</td></tr>",
                            "<tr><td>119</td><td>2017</td><td>2</td></tr>",
                            "<tr><td>119</td><td>Részösszeg</td><td>5</td></tr>",
                            "<tr><td>120</td><td>2016</td><td>4</td></tr>",
                            "<tr><td>120</td><td>2017</td><td>2</td></tr>",
                            "<tr><td>120</td><td>Részösszeg</td><td>6</td></tr>",
                            "<tr><td>121</td><td>2016</td><td>8</td></tr>",
                            "<tr><td>121</td><td>Részösszeg</td><td>8</td></tr>",
                            "<tr><td>122</td><td>2016</td><td>8</td></tr>",
                            "<tr><td>122</td><td>2017</td><td>1</td></tr>",
                            "<tr><td>122</td><td>Részösszeg</td><td>9</td></tr>",
                            "<tr><td>123</td><td>2016</td><td>5</td></tr>",
                            "<tr><td>123</td><td>Részösszeg</td><td>5</td></tr>",
                            "<tr><td>124</td><td>2016</td><td>4</td></tr>",
                            "<tr><td>124</td><td>2017</td><td>2</td></tr>",
                            "<tr><td>124</td><td>Részösszeg</td><td>6</td></tr>",
                            "<tr><td>125</td><td>2016</td><td>1</td></tr>",
                            "<tr><td>125</td><td>Részösszeg</td><td>1</td></tr>",
                            "<tr><td>126</td><td>2016</td><td>4</td></tr>",
                            "<tr><td>126</td><td>2017</td><td>2</td></tr>",
                            "<tr><td>126</td><td>Részösszeg</td><td>6</td></tr>",
                            "<tr><td>127</td><td>2016</td><td>6</td></tr>",
                            "<tr><td>127</td><td>2017</td><td>1</td></tr>",
                            "<tr><td>127</td><td>Részösszeg</td><td>7</td></tr>",
                            "<tr><td>128</td><td>2016</td><td>3</td></tr>",
                            "<tr><td>128</td><td>2017</td><td>2</td></tr>",
                            "<tr><td>128</td><td>Részösszeg</td><td>5</td></tr>",
                            "<tr><td>129</td><td>2016</td><td>2</td></tr>",
                            "<tr><td>129</td><td>2017</td><td>2</td></tr>",
                            "<tr><td>129</td><td>Részösszeg</td><td>4</td></tr>",
                            "<tr><td>130</td><td>2016</td><td>5</td></tr>",
                            "<tr><td>130</td><td>2017</td><td>1</td></tr>",
                            "<tr><td>130</td><td>Részösszeg</td><td>6</td></tr>",
                            "<tr><td>131</td><td>2016</td><td>4</td></tr>",
                            "<tr><td>131</td><td>2017</td><td>1</td></tr>",
                            "<tr><td>131</td><td>Részösszeg</td><td>5</td></tr>",
                            "<tr><td>132</td><td>2016</td><td>5</td></tr>",
                            "<tr><td>132</td><td>2017</td><td>1</td></tr>",
                            "<tr><td>132</td><td>Részösszeg</td><td>6</td></tr>",
                            "<tr><td>133</td><td>2016</td><td>5</td></tr>",
                            "<tr><td>133</td><td>2017</td><td>1</td></tr>",
                            "<tr><td>133</td><td>Részösszeg</td><td>6</td></tr>",
                            "<tr><td>134</td><td>2016</td><td>5</td></tr>",
                            "<tr><td>134</td><td>2017</td><td>1</td></tr>",
                            "<tr><td>134</td><td>Részösszeg</td><td>6</td></tr>",
                            "<tr><td>135</td><td>2016</td><td>3</td></tr>",
                            "<tr><td>135</td><td>Részösszeg</td><td>3</td></tr>",
                            "<tr><td>136</td><td>2016</td><td>3</td></tr>",
                            "<tr><td>136</td><td>Részösszeg</td><td>3</td></tr>",
                            "<tr><td>137</td><td>2016</td><td>6</td></tr>",
                            "<tr><td>137</td><td>Részösszeg</td><td>6</td></tr>",
                            "<tr><td>138</td><td>2016</td><td>7</td></tr>",
                            "<tr><td>138</td><td>Részösszeg</td><td>7</td></tr>",
                            "<tr><td>139</td><td>2016</td><td>5</td></tr>",
                            "<tr><td>139</td><td>2017</td><td>2</td></tr>",
                            "<tr><td>139</td><td>Részösszeg</td><td>7</td></tr>",
                            "<tr><td>140</td><td>2016</td><td>8</td></tr>",
                            "<tr><td>140</td><td>Részösszeg</td><td>8</td></tr>",
                            "<tr><td>141</td><td>2016</td><td>6</td></tr>",
                            "<tr><td>141</td><td>Részösszeg</td><td>6</td></tr>",
                            "<tr><td>142</td><td>2016</td><td>1</td></tr>",
                            "<tr><td>142</td><td>2017</td><td>1</td></tr>",
                            "<tr><td>142</td><td>Részösszeg</td><td>2</td></tr>",
                            "<tr><td>143</td><td>2016</td><td>6</td></tr>",
                            "<tr><td>143</td><td>2017</td><td>1</td></tr>",
                            "<tr><td>143</td><td>Részösszeg</td><td>7</td></tr>",
                            "<tr><td>144</td><td>2016</td><td>4</td></tr>",
                            "<tr><td>144</td><td>2017</td><td>1</td></tr>",
                            "<tr><td>144</td><td>Részösszeg</td><td>5</td></tr>",
                            "<tr><td>145</td><td>2016</td><td>5</td></tr>",
                            "<tr><td>145</td><td>2017</td><td>1</td></tr>",
                            "<tr><td>145</td><td>Részösszeg</td><td>6</td></tr>",
                            "<tr><td>146</td><td>2016</td><td>5</td></tr>",
                            "<tr><td>146</td><td>2017</td><td>1</td></tr>",
                            "<tr><td>146</td><td>Részösszeg</td><td>6</td></tr>",
                            "<tr><td>147</td><td>2016</td><td>1</td></tr>",
                            "<tr><td>147</td><td>Részösszeg</td><td>1</td></tr>",
                            "<tr><td>148</td><td>2016</td><td>5</td></tr>",
                            "<tr><td>148</td><td>2017</td><td>1</td></tr>",
                            "<tr><td>148</td><td>Részösszeg</td><td>6</td></tr>",
                            "<tr><td>149</td><td>2016</td><td>6</td></tr>",
                            "<tr><td>149</td><td>2017</td><td>1</td></tr>",
                            "<tr><td>149</td><td>Részösszeg</td><td>7</td></tr>",
                            "<tr><td>150</td><td>2016</td><td>5</td></tr>",
                            "<tr><td>150</td><td>2017</td><td>1</td></tr>",
                            "<tr><td>150</td><td>Részösszeg</td><td>6</td></tr>",
                            "<tr><td>151</td><td>2016</td><td>3</td></tr>",
                            "<tr><td>151</td><td>Részösszeg</td><td>3</td></tr>",
                            "<tr><td>152</td><td>2016</td><td>3</td></tr>",
                            "<tr><td>152</td><td>2017</td><td>1</td></tr>",
                            "<tr><td>152</td><td>Részösszeg</td><td>4</td></tr>",
                            "<tr><td>153</td><td>2016</td><td>2</td></tr>",
                            "<tr><td>153</td><td>2017</td><td>3</td></tr>",
                            "<tr><td>153</td><td>Részösszeg</td><td>5</td></tr>",
                            "<tr><td>154</td><td>2016</td><td>4</td></tr>",
                            "<tr><td>154</td><td>2017</td><td>1</td></tr>",
                            "<tr><td>154</td><td>Részösszeg</td><td>5</td></tr>",
                            "<tr><td>155</td><td>2016</td><td>4</td></tr>",
                            "<tr><td>155</td><td>2017</td><td>1</td></tr>",
                            "<tr><td>155</td><td>Részösszeg</td><td>5</td></tr>",
                            "<tr><td>156</td><td>2016</td><td>4</td></tr>",
                            "<tr><td>156</td><td>2017</td><td>3</td></tr>",
                            "<tr><td>156</td><td>Részösszeg</td><td>7</td></tr>",
                            "<tr><td>157</td><td>2016</td><td>4</td></tr>",
                            "<tr><td>157</td><td>2017</td><td>1</td></tr>",
                            "<tr><td>157</td><td>Részösszeg</td><td>5</td></tr>",
                            "<tr><td>158</td><td>2016</td><td>3</td></tr>",
                            "<tr><td>158</td><td>Részösszeg</td><td>3</td></tr>",
                            "<tr><td>160</td><td>2016</td><td>4</td></tr>",
                            "<tr><td>160</td><td>2017</td><td>1</td></tr>",
                            "<tr><td>160</td><td>Részösszeg</td><td>5</td></tr>",
                            "<tr><td>161</td><td>2016</td><td>5</td></tr>",
                            "<tr><td>161</td><td>2017</td><td>1</td></tr>",
                            "<tr><td>161</td><td>Részösszeg</td><td>6</td></tr>",
                            "<tr><td>162</td><td>2016</td><td>3</td></tr>",
                            "<tr><td>162</td><td>Részösszeg</td><td>3</td></tr>",
                            "<tr><td>163</td><td>2016</td><td>6</td></tr>",
                            "<tr><td>163</td><td>2017</td><td>1</td></tr>",
                            "<tr><td>163</td><td>Részösszeg</td><td>7</td></tr>",
                            "<tr><td>164</td><td>2016</td><td>5</td></tr>",
                            "<tr><td>164</td><td>Részösszeg</td><td>5</td></tr>",
                            "<tr><td>165</td><td>2016</td><td>7</td></tr>",
                            "<tr><td>165</td><td>Részösszeg</td><td>7</td></tr>",
                            "<tr><td>166</td><td>2016</td><td>2</td></tr>",
                            "<tr><td>166</td><td>2017</td><td>1</td></tr>",
                            "<tr><td>166</td><td>Részösszeg</td><td>3</td></tr>",
                            "<tr><td>167</td><td>2016</td><td>1</td></tr>",
                            "<tr><td>167</td><td>2017</td><td>1</td></tr>",
                            "<tr><td>167</td><td>Részösszeg</td><td>2</td></tr>",
                            "<tr><td>168</td><td>2016</td><td>5</td></tr>",
                            "<tr><td>168</td><td>Részösszeg</td><td>5</td></tr>",
                            "<tr><td>169</td><td>2016</td><td>5</td></tr>",
                            "<tr><td>169</td><td>2017</td><td>1</td></tr>",
                            "<tr><td>169</td><td>Részösszeg</td><td>6</td></tr>",
                            "<tr><td>170</td><td>2016</td><td>5</td></tr>",
                            "<tr><td>170</td><td>Részösszeg</td><td>5</td></tr>",
                            "<tr><td>171</td><td>2016</td><td>4</td></tr>",
                            "<tr><td>171</td><td>2017</td><td>1</td></tr>",
                            "<tr><td>171</td><td>Részösszeg</td><td>5</td></tr>",
                            "<tr><td>172</td><td>2016</td><td>7</td></tr>",
                            "<tr><td>172</td><td>2017</td><td>2</td></tr>",
                            "<tr><td>172</td><td>Részösszeg</td><td>9</td></tr>",
                            "<tr><td>173</td><td>2016</td><td>3</td></tr>",
                            "<tr><td>173</td><td>2017</td><td>1</td></tr>",
                            "<tr><td>173</td><td>Részösszeg</td><td>4</td></tr>",
                            "<tr><td>174</td><td>2016</td><td>4</td></tr>",
                            "<tr><td>174</td><td>Részösszeg</td><td>4</td></tr>",
                            "<tr><td>175</td><td>2016</td><td>5</td></tr>",
                            "<tr><td>175</td><td>Részösszeg</td><td>5</td></tr>",
                            "<tr><td>176</td><td>2016</td><td>4</td></tr>",
                            "<tr><td>176</td><td>2017</td><td>2</td></tr>",
                            "<tr><td>176</td><td>Részösszeg</td><td>6</td></tr>",
                            "<tr><td>177</td><td>2016</td><td>3</td></tr>",
                            "<tr><td>177</td><td>2017</td><td>1</td></tr>",
                            "<tr><td>177</td><td>Részösszeg</td><td>4</td></tr>",
                            "<tr><td>178</td><td>2016</td><td>4</td></tr>",
                            "<tr><td>178</td><td>Részösszeg</td><td>4</td></tr>",
                            "<tr><td>179</td><td>2016</td><td>2</td></tr>",
                            "<tr><td>179</td><td>2017</td><td>1</td></tr>",
                            "<tr><td>179</td><td>Részösszeg</td><td>3</td></tr>",
                            "<tr><td>180</td><td>2016</td><td>1</td></tr>",
                            "<tr><td>180</td><td>2017</td><td>2</td></tr>",
                            "<tr><td>180</td><td>Részösszeg</td><td>3</td></tr>",
                            "<tr><td>181</td><td>2016</td><td>6</td></tr>",
                            "<tr><td>181</td><td>Részösszeg</td><td>6</td></tr>",
                            "<tr><td>182</td><td>2016</td><td>10</td></tr>",
                            "<tr><td>182</td><td>2017</td><td>2</td></tr>",
                            "<tr><td>182</td><td>Részösszeg</td><td>12</td></tr>",
                            "<tr><td>183</td><td>2016</td><td>3</td></tr>",
                            "<tr><td>183</td><td>2017</td><td>1</td></tr>",
                            "<tr><td>183</td><td>Részösszeg</td><td>4</td></tr>",
                            "<tr><td>184</td><td>2016</td><td>4</td></tr>",
                            "<tr><td>184</td><td>Részösszeg</td><td>4</td></tr>",
                            "<tr><td>185</td><td>2016</td><td>10</td></tr>",
                            "<tr><td>185</td><td>2017</td><td>2</td></tr>",
                            "<tr><td>185</td><td>Részösszeg</td><td>12</td></tr>",
                            "<tr><td>186</td><td>2016</td><td>3</td></tr>",
                            "<tr><td>186</td><td>2017</td><td>1</td></tr>",
                            "<tr><td>186</td><td>Részösszeg</td><td>4</td></tr>",
                            "<tr><td>187</td><td>2016</td><td>7</td></tr>",
                            "<tr><td>187</td><td>Részösszeg</td><td>7</td></tr>",
                            "<tr><td>188</td><td>2016</td><td>6</td></tr>",
                            "<tr><td>188</td><td>Részösszeg</td><td>6</td></tr>",
                            "<tr><td>189</td><td>2016</td><td>3</td></tr>",
                            "<tr><td>189</td><td>2017</td><td>2</td></tr>",
                            "<tr><td>189</td><td>Részösszeg</td><td>5</td></tr>",
                            "<tr><td>190</td><td>2016</td><td>4</td></tr>",
                            "<tr><td>190</td><td>2017</td><td>1</td></tr>",
                            "<tr><td>190</td><td>Részösszeg</td><td>5</td></tr>",
                            "<tr><td>191</td><td>2016</td><td>3</td></tr>",
                            "<tr><td>191</td><td>2017</td><td>2</td></tr>",
                            "<tr><td>191</td><td>Részösszeg</td><td>5</td></tr>",
                            "<tr><td>192</td><td>2016</td><td>2</td></tr>",
                            "<tr><td>192</td><td>Részösszeg</td><td>2</td></tr>",
                            "<tr><td>193</td><td>2016</td><td>7</td></tr>",
                            "<tr><td>193</td><td>Részösszeg</td><td>7</td></tr>",
                            "<tr><td>194</td><td>2016</td><td>1</td></tr>",
                            "<tr><td>194</td><td>Részösszeg</td><td>1</td></tr>",
                            "<tr><td>195</td><td>2016</td><td>4</td></tr>",
                            "<tr><td>195</td><td>2017</td><td>2</td></tr>",
                            "<tr><td>195</td><td>Részösszeg</td><td>6</td></tr>",
                            "<tr><td>196</td><td>2016</td><td>4</td></tr>",
                            "<tr><td>196</td><td>Részösszeg</td><td>4</td></tr>",
                            "<tr><td>197</td><td>2016</td><td>6</td></tr>",
                            "<tr><td>197</td><td>Részösszeg</td><td>6</td></tr>",
                            "<tr><td>198</td><td>2016</td><td>7</td></tr>",
                            "<tr><td>198</td><td>2017</td><td>1</td></tr>",
                            "<tr><td>198</td><td>Részösszeg</td><td>8</td></tr>",
                            "<tr><td>Szoba összesen</td><td>Részösszeg</td><td>1027</td></tr>",
                            "</table>"
                        ]
                    }
                }
            ],
            "execution_count": 28
        },
        {
            "cell_type": "code",
            "source": [
                "SELECT sz.SZOBA_ID,\r\n",
                "        f.FOgLALAS_pk,\r\n",
                "        DATEDIFF(day, METTOL,MEDDIG),\r\n",
                "        LAG(DATEDIFF(day, METTOL,MEDDIG),1,'0') OVER (PARTITION BY SZOBA_ID ORDER BY METTOL)\r\n",
                "FROM Szoba sz JOIN Foglalas f ON sz.SZOBA_ID=f.SZOBA_FK"
            ],
            "metadata": {
                "azdata_cell_guid": "496d9328-d53f-4944-add0-ae42a1757039",
                "language": "sql"
            },
            "outputs": [
                {
                    "output_type": "display_data",
                    "data": {
                        "text/html": "(1027 rows affected)"
                    },
                    "metadata": {}
                },
                {
                    "output_type": "display_data",
                    "data": {
                        "text/html": "Total execution time: 00:00:00.020"
                    },
                    "metadata": {}
                },
                {
                    "output_type": "execute_result",
                    "metadata": {},
                    "execution_count": 13,
                    "data": {
                        "application/vnd.dataresource+json": {
                            "schema": {
                                "fields": [
                                    {
                                        "name": "SZOBA_ID"
                                    },
                                    {
                                        "name": "FOgLALAS_pk"
                                    },
                                    {
                                        "name": "(No column name)"
                                    },
                                    {
                                        "name": "(No column name)"
                                    }
                                ]
                            },
                            "data": [
                                {
                                    "SZOBA_ID": "1",
                                    "FOgLALAS_pk": "620",
                                    "(No column name)": "0"
                                },
                                {
                                    "SZOBA_ID": "1",
                                    "FOgLALAS_pk": "949",
                                    "(No column name)": "5"
                                },
                                {
                                    "SZOBA_ID": "1",
                                    "FOgLALAS_pk": "738",
                                    "(No column name)": "1"
                                },
                                {
                                    "SZOBA_ID": "1",
                                    "FOgLALAS_pk": "803",
                                    "(No column name)": "7"
                                },
                                {
                                    "SZOBA_ID": "1",
                                    "FOgLALAS_pk": "1137",
                                    "(No column name)": "4"
                                },
                                {
                                    "SZOBA_ID": "1",
                                    "FOgLALAS_pk": "1152",
                                    "(No column name)": "2"
                                },
                                {
                                    "SZOBA_ID": "1",
                                    "FOgLALAS_pk": "1274",
                                    "(No column name)": "1"
                                },
                                {
                                    "SZOBA_ID": "1",
                                    "FOgLALAS_pk": "1334",
                                    "(No column name)": "1"
                                },
                                {
                                    "SZOBA_ID": "2",
                                    "FOgLALAS_pk": "828",
                                    "(No column name)": "0"
                                },
                                {
                                    "SZOBA_ID": "2",
                                    "FOgLALAS_pk": "1051",
                                    "(No column name)": "3"
                                },
                                {
                                    "SZOBA_ID": "2",
                                    "FOgLALAS_pk": "1069",
                                    "(No column name)": "1"
                                },
                                {
                                    "SZOBA_ID": "2",
                                    "FOgLALAS_pk": "1311",
                                    "(No column name)": "7"
                                },
                                {
                                    "SZOBA_ID": "3",
                                    "FOgLALAS_pk": "629",
                                    "(No column name)": "0"
                                },
                                {
                                    "SZOBA_ID": "3",
                                    "FOgLALAS_pk": "666",
                                    "(No column name)": "4"
                                },
                                {
                                    "SZOBA_ID": "3",
                                    "FOgLALAS_pk": "788",
                                    "(No column name)": "6"
                                },
                                {
                                    "SZOBA_ID": "3",
                                    "FOgLALAS_pk": "1038",
                                    "(No column name)": "6"
                                },
                                {
                                    "SZOBA_ID": "3",
                                    "FOgLALAS_pk": "1110",
                                    "(No column name)": "3"
                                },
                                {
                                    "SZOBA_ID": "3",
                                    "FOgLALAS_pk": "1151",
                                    "(No column name)": "7"
                                },
                                {
                                    "SZOBA_ID": "3",
                                    "FOgLALAS_pk": "1434",
                                    "(No column name)": "1"
                                },
                                {
                                    "SZOBA_ID": "3",
                                    "FOgLALAS_pk": "1544",
                                    "(No column name)": "5"
                                },
                                {
                                    "SZOBA_ID": "4",
                                    "FOgLALAS_pk": "651",
                                    "(No column name)": "0"
                                },
                                {
                                    "SZOBA_ID": "4",
                                    "FOgLALAS_pk": "946",
                                    "(No column name)": "7"
                                },
                                {
                                    "SZOBA_ID": "4",
                                    "FOgLALAS_pk": "1001",
                                    "(No column name)": "5"
                                },
                                {
                                    "SZOBA_ID": "4",
                                    "FOgLALAS_pk": "1127",
                                    "(No column name)": "7"
                                },
                                {
                                    "SZOBA_ID": "4",
                                    "FOgLALAS_pk": "1132",
                                    "(No column name)": "3"
                                },
                                {
                                    "SZOBA_ID": "4",
                                    "FOgLALAS_pk": "1492",
                                    "(No column name)": "6"
                                },
                                {
                                    "SZOBA_ID": "5",
                                    "FOgLALAS_pk": "564",
                                    "(No column name)": "0"
                                },
                                {
                                    "SZOBA_ID": "5",
                                    "FOgLALAS_pk": "965",
                                    "(No column name)": "2"
                                },
                                {
                                    "SZOBA_ID": "5",
                                    "FOgLALAS_pk": "1073",
                                    "(No column name)": "7"
                                },
                                {
                                    "SZOBA_ID": "5",
                                    "FOgLALAS_pk": "1257",
                                    "(No column name)": "5"
                                },
                                {
                                    "SZOBA_ID": "6",
                                    "FOgLALAS_pk": "560",
                                    "(No column name)": "0"
                                },
                                {
                                    "SZOBA_ID": "6",
                                    "FOgLALAS_pk": "873",
                                    "(No column name)": "6"
                                },
                                {
                                    "SZOBA_ID": "6",
                                    "FOgLALAS_pk": "990",
                                    "(No column name)": "3"
                                },
                                {
                                    "SZOBA_ID": "6",
                                    "FOgLALAS_pk": "772",
                                    "(No column name)": "4"
                                },
                                {
                                    "SZOBA_ID": "6",
                                    "FOgLALAS_pk": "850",
                                    "(No column name)": "6"
                                },
                                {
                                    "SZOBA_ID": "6",
                                    "FOgLALAS_pk": "1099",
                                    "(No column name)": "2"
                                },
                                {
                                    "SZOBA_ID": "7",
                                    "FOgLALAS_pk": "562",
                                    "(No column name)": "0"
                                },
                                {
                                    "SZOBA_ID": "7",
                                    "FOgLALAS_pk": "759",
                                    "(No column name)": "4"
                                },
                                {
                                    "SZOBA_ID": "7",
                                    "FOgLALAS_pk": "1131",
                                    "(No column name)": "7"
                                },
                                {
                                    "SZOBA_ID": "7",
                                    "FOgLALAS_pk": "1175",
                                    "(No column name)": "1"
                                },
                                {
                                    "SZOBA_ID": "7",
                                    "FOgLALAS_pk": "1182",
                                    "(No column name)": "4"
                                },
                                {
                                    "SZOBA_ID": "7",
                                    "FOgLALAS_pk": "1252",
                                    "(No column name)": "4"
                                },
                                {
                                    "SZOBA_ID": "8",
                                    "FOgLALAS_pk": "882",
                                    "(No column name)": "0"
                                },
                                {
                                    "SZOBA_ID": "8",
                                    "FOgLALAS_pk": "947",
                                    "(No column name)": "1"
                                },
                                {
                                    "SZOBA_ID": "8",
                                    "FOgLALAS_pk": "694",
                                    "(No column name)": "3"
                                },
                                {
                                    "SZOBA_ID": "8",
                                    "FOgLALAS_pk": "818",
                                    "(No column name)": "4"
                                },
                                {
                                    "SZOBA_ID": "8",
                                    "FOgLALAS_pk": "832",
                                    "(No column name)": "4"
                                },
                                {
                                    "SZOBA_ID": "9",
                                    "FOgLALAS_pk": "609",
                                    "(No column name)": "0"
                                },
                                {
                                    "SZOBA_ID": "9",
                                    "FOgLALAS_pk": "1157",
                                    "(No column name)": "2"
                                },
                                {
                                    "SZOBA_ID": "9",
                                    "FOgLALAS_pk": "1220",
                                    "(No column name)": "6"
                                },
                                {
                                    "SZOBA_ID": "9",
                                    "FOgLALAS_pk": "1260",
                                    "(No column name)": "3"
                                },
                                {
                                    "SZOBA_ID": "9",
                                    "FOgLALAS_pk": "1423",
                                    "(No column name)": "6"
                                },
                                {
                                    "SZOBA_ID": "9",
                                    "FOgLALAS_pk": "1537",
                                    "(No column name)": "3"
                                },
                                {
                                    "SZOBA_ID": "10",
                                    "FOgLALAS_pk": "569",
                                    "(No column name)": "0"
                                },
                                {
                                    "SZOBA_ID": "10",
                                    "FOgLALAS_pk": "790",
                                    "(No column name)": "3"
                                },
                                {
                                    "SZOBA_ID": "10",
                                    "FOgLALAS_pk": "795",
                                    "(No column name)": "5"
                                },
                                {
                                    "SZOBA_ID": "10",
                                    "FOgLALAS_pk": "1319",
                                    "(No column name)": "4"
                                },
                                {
                                    "SZOBA_ID": "11",
                                    "FOgLALAS_pk": "918",
                                    "(No column name)": "0"
                                },
                                {
                                    "SZOBA_ID": "11",
                                    "FOgLALAS_pk": "1123",
                                    "(No column name)": "6"
                                },
                                {
                                    "SZOBA_ID": "11",
                                    "FOgLALAS_pk": "1236",
                                    "(No column name)": "5"
                                },
                                {
                                    "SZOBA_ID": "11",
                                    "FOgLALAS_pk": "1523",
                                    "(No column name)": "1"
                                },
                                {
                                    "SZOBA_ID": "12",
                                    "FOgLALAS_pk": "876",
                                    "(No column name)": "0"
                                },
                                {
                                    "SZOBA_ID": "12",
                                    "FOgLALAS_pk": "951",
                                    "(No column name)": "7"
                                },
                                {
                                    "SZOBA_ID": "12",
                                    "FOgLALAS_pk": "970",
                                    "(No column name)": "3"
                                },
                                {
                                    "SZOBA_ID": "12",
                                    "FOgLALAS_pk": "1020",
                                    "(No column name)": "2"
                                },
                                {
                                    "SZOBA_ID": "12",
                                    "FOgLALAS_pk": "697",
                                    "(No column name)": "5"
                                },
                                {
                                    "SZOBA_ID": "12",
                                    "FOgLALAS_pk": "775",
                                    "(No column name)": "2"
                                },
                                {
                                    "SZOBA_ID": "12",
                                    "FOgLALAS_pk": "1140",
                                    "(No column name)": "4"
                                },
                                {
                                    "SZOBA_ID": "12",
                                    "FOgLALAS_pk": "1164",
                                    "(No column name)": "3"
                                },
                                {
                                    "SZOBA_ID": "12",
                                    "FOgLALAS_pk": "1430",
                                    "(No column name)": "5"
                                },
                                {
                                    "SZOBA_ID": "13",
                                    "FOgLALAS_pk": "763",
                                    "(No column name)": "0"
                                },
                                {
                                    "SZOBA_ID": "13",
                                    "FOgLALAS_pk": "1044",
                                    "(No column name)": "4"
                                },
                                {
                                    "SZOBA_ID": "13",
                                    "FOgLALAS_pk": "1347",
                                    "(No column name)": "6"
                                },
                                {
                                    "SZOBA_ID": "13",
                                    "FOgLALAS_pk": "1469",
                                    "(No column name)": "3"
                                },
                                {
                                    "SZOBA_ID": "14",
                                    "FOgLALAS_pk": "663",
                                    "(No column name)": "0"
                                },
                                {
                                    "SZOBA_ID": "14",
                                    "FOgLALAS_pk": "813",
                                    "(No column name)": "1"
                                },
                                {
                                    "SZOBA_ID": "14",
                                    "FOgLALAS_pk": "1542",
                                    "(No column name)": "3"
                                },
                                {
                                    "SZOBA_ID": "15",
                                    "FOgLALAS_pk": "1028",
                                    "(No column name)": "0"
                                },
                                {
                                    "SZOBA_ID": "15",
                                    "FOgLALAS_pk": "791",
                                    "(No column name)": "2"
                                },
                                {
                                    "SZOBA_ID": "15",
                                    "FOgLALAS_pk": "1129",
                                    "(No column name)": "5"
                                },
                                {
                                    "SZOBA_ID": "15",
                                    "FOgLALAS_pk": "1244",
                                    "(No column name)": "4"
                                },
                                {
                                    "SZOBA_ID": "15",
                                    "FOgLALAS_pk": "1418",
                                    "(No column name)": "1"
                                },
                                {
                                    "SZOBA_ID": "15",
                                    "FOgLALAS_pk": "1442",
                                    "(No column name)": "4"
                                },
                                {
                                    "SZOBA_ID": "16",
                                    "FOgLALAS_pk": "856",
                                    "(No column name)": "0"
                                },
                                {
                                    "SZOBA_ID": "16",
                                    "FOgLALAS_pk": "896",
                                    "(No column name)": "6"
                                },
                                {
                                    "SZOBA_ID": "16",
                                    "FOgLALAS_pk": "973",
                                    "(No column name)": "1"
                                },
                                {
                                    "SZOBA_ID": "16",
                                    "FOgLALAS_pk": "687",
                                    "(No column name)": "1"
                                },
                                {
                                    "SZOBA_ID": "16",
                                    "FOgLALAS_pk": "1498",
                                    "(No column name)": "3"
                                },
                                {
                                    "SZOBA_ID": "17",
                                    "FOgLALAS_pk": "602",
                                    "(No column name)": "0"
                                },
                                {
                                    "SZOBA_ID": "17",
                                    "FOgLALAS_pk": "916",
                                    "(No column name)": "6"
                                },
                                {
                                    "SZOBA_ID": "17",
                                    "FOgLALAS_pk": "713",
                                    "(No column name)": "2"
                                },
                                {
                                    "SZOBA_ID": "17",
                                    "FOgLALAS_pk": "744",
                                    "(No column name)": "6"
                                },
                                {
                                    "SZOBA_ID": "17",
                                    "FOgLALAS_pk": "1316",
                                    "(No column name)": "1"
                                },
                                {
                                    "SZOBA_ID": "17",
                                    "FOgLALAS_pk": "1549",
                                    "(No column name)": "5"
                                },
                                {
                                    "SZOBA_ID": "18",
                                    "FOgLALAS_pk": "626",
                                    "(No column name)": "0"
                                },
                                {
                                    "SZOBA_ID": "18",
                                    "FOgLALAS_pk": "767",
                                    "(No column name)": "3"
                                },
                                {
                                    "SZOBA_ID": "18",
                                    "FOgLALAS_pk": "1035",
                                    "(No column name)": "3"
                                },
                                {
                                    "SZOBA_ID": "18",
                                    "FOgLALAS_pk": "1173",
                                    "(No column name)": "6"
                                },
                                {
                                    "SZOBA_ID": "18",
                                    "FOgLALAS_pk": "1198",
                                    "(No column name)": "6"
                                },
                                {
                                    "SZOBA_ID": "18",
                                    "FOgLALAS_pk": "1505",
                                    "(No column name)": "4"
                                },
                                {
                                    "SZOBA_ID": "19",
                                    "FOgLALAS_pk": "948",
                                    "(No column name)": "0"
                                },
                                {
                                    "SZOBA_ID": "19",
                                    "FOgLALAS_pk": "696",
                                    "(No column name)": "2"
                                },
                                {
                                    "SZOBA_ID": "19",
                                    "FOgLALAS_pk": "778",
                                    "(No column name)": "1"
                                },
                                {
                                    "SZOBA_ID": "19",
                                    "FOgLALAS_pk": "1139",
                                    "(No column name)": "1"
                                },
                                {
                                    "SZOBA_ID": "19",
                                    "FOgLALAS_pk": "1237",
                                    "(No column name)": "7"
                                },
                                {
                                    "SZOBA_ID": "19",
                                    "FOgLALAS_pk": "1533",
                                    "(No column name)": "1"
                                },
                                {
                                    "SZOBA_ID": "20",
                                    "FOgLALAS_pk": "755",
                                    "(No column name)": "0"
                                },
                                {
                                    "SZOBA_ID": "20",
                                    "FOgLALAS_pk": "820",
                                    "(No column name)": "6"
                                },
                                {
                                    "SZOBA_ID": "20",
                                    "FOgLALAS_pk": "1070",
                                    "(No column name)": "1"
                                },
                                {
                                    "SZOBA_ID": "20",
                                    "FOgLALAS_pk": "1114",
                                    "(No column name)": "1"
                                },
                                {
                                    "SZOBA_ID": "20",
                                    "FOgLALAS_pk": "1106",
                                    "(No column name)": "5"
                                },
                                {
                                    "SZOBA_ID": "21",
                                    "FOgLALAS_pk": "566",
                                    "(No column name)": "0"
                                },
                                {
                                    "SZOBA_ID": "21",
                                    "FOgLALAS_pk": "660",
                                    "(No column name)": "6"
                                },
                                {
                                    "SZOBA_ID": "21",
                                    "FOgLALAS_pk": "805",
                                    "(No column name)": "5"
                                },
                                {
                                    "SZOBA_ID": "21",
                                    "FOgLALAS_pk": "1212",
                                    "(No column name)": "1"
                                },
                                {
                                    "SZOBA_ID": "22",
                                    "FOgLALAS_pk": "906",
                                    "(No column name)": "0"
                                },
                                {
                                    "SZOBA_ID": "22",
                                    "FOgLALAS_pk": "1005",
                                    "(No column name)": "1"
                                },
                                {
                                    "SZOBA_ID": "22",
                                    "FOgLALAS_pk": "1130",
                                    "(No column name)": "3"
                                },
                                {
                                    "SZOBA_ID": "22",
                                    "FOgLALAS_pk": "1195",
                                    "(No column name)": "1"
                                },
                                {
                                    "SZOBA_ID": "22",
                                    "FOgLALAS_pk": "1206",
                                    "(No column name)": "6"
                                },
                                {
                                    "SZOBA_ID": "22",
                                    "FOgLALAS_pk": "1287",
                                    "(No column name)": "7"
                                },
                                {
                                    "SZOBA_ID": "23",
                                    "FOgLALAS_pk": "934",
                                    "(No column name)": "0"
                                },
                                {
                                    "SZOBA_ID": "23",
                                    "FOgLALAS_pk": "945",
                                    "(No column name)": "1"
                                },
                                {
                                    "SZOBA_ID": "23",
                                    "FOgLALAS_pk": "848",
                                    "(No column name)": "7"
                                },
                                {
                                    "SZOBA_ID": "24",
                                    "FOgLALAS_pk": "852",
                                    "(No column name)": "0"
                                },
                                {
                                    "SZOBA_ID": "24",
                                    "FOgLALAS_pk": "1167",
                                    "(No column name)": "2"
                                },
                                {
                                    "SZOBA_ID": "24",
                                    "FOgLALAS_pk": "1415",
                                    "(No column name)": "1"
                                },
                                {
                                    "SZOBA_ID": "25",
                                    "FOgLALAS_pk": "1052",
                                    "(No column name)": "0"
                                },
                                {
                                    "SZOBA_ID": "25",
                                    "FOgLALAS_pk": "1362",
                                    "(No column name)": "3"
                                },
                                {
                                    "SZOBA_ID": "26",
                                    "FOgLALAS_pk": "1158",
                                    "(No column name)": "0"
                                },
                                {
                                    "SZOBA_ID": "26",
                                    "FOgLALAS_pk": "1388",
                                    "(No column name)": "2"
                                },
                                {
                                    "SZOBA_ID": "27",
                                    "FOgLALAS_pk": "758",
                                    "(No column name)": "0"
                                },
                                {
                                    "SZOBA_ID": "27",
                                    "FOgLALAS_pk": "807",
                                    "(No column name)": "3"
                                },
                                {
                                    "SZOBA_ID": "27",
                                    "FOgLALAS_pk": "1031",
                                    "(No column name)": "2"
                                },
                                {
                                    "SZOBA_ID": "27",
                                    "FOgLALAS_pk": "1082",
                                    "(No column name)": "2"
                                },
                                {
                                    "SZOBA_ID": "27",
                                    "FOgLALAS_pk": "1275",
                                    "(No column name)": "5"
                                },
                                {
                                    "SZOBA_ID": "27",
                                    "FOgLALAS_pk": "1377",
                                    "(No column name)": "6"
                                },
                                {
                                    "SZOBA_ID": "27",
                                    "FOgLALAS_pk": "1476",
                                    "(No column name)": "1"
                                },
                                {
                                    "SZOBA_ID": "28",
                                    "FOgLALAS_pk": "872",
                                    "(No column name)": "0"
                                },
                                {
                                    "SZOBA_ID": "28",
                                    "FOgLALAS_pk": "886",
                                    "(No column name)": "5"
                                },
                                {
                                    "SZOBA_ID": "28",
                                    "FOgLALAS_pk": "901",
                                    "(No column name)": "4"
                                },
                                {
                                    "SZOBA_ID": "28",
                                    "FOgLALAS_pk": "725",
                                    "(No column name)": "4"
                                },
                                {
                                    "SZOBA_ID": "28",
                                    "FOgLALAS_pk": "1150",
                                    "(No column name)": "5"
                                },
                                {
                                    "SZOBA_ID": "28",
                                    "FOgLALAS_pk": "1459",
                                    "(No column name)": "6"
                                },
                                {
                                    "SZOBA_ID": "29",
                                    "FOgLALAS_pk": "611",
                                    "(No column name)": "0"
                                },
                                {
                                    "SZOBA_ID": "29",
                                    "FOgLALAS_pk": "894",
                                    "(No column name)": "5"
                                },
                                {
                                    "SZOBA_ID": "29",
                                    "FOgLALAS_pk": "1076",
                                    "(No column name)": "1"
                                },
                                {
                                    "SZOBA_ID": "29",
                                    "FOgLALAS_pk": "1185",
                                    "(No column name)": "7"
                                },
                                {
                                    "SZOBA_ID": "29",
                                    "FOgLALAS_pk": "1235",
                                    "(No column name)": "5"
                                },
                                {
                                    "SZOBA_ID": "29",
                                    "FOgLALAS_pk": "1568",
                                    "(No column name)": "7"
                                },
                                {
                                    "SZOBA_ID": "30",
                                    "FOgLALAS_pk": "604",
                                    "(No column name)": "0"
                                },
                                {
                                    "SZOBA_ID": "30",
                                    "FOgLALAS_pk": "1023",
                                    "(No column name)": "2"
                                },
                                {
                                    "SZOBA_ID": "30",
                                    "FOgLALAS_pk": "1136",
                                    "(No column name)": "7"
                                },
                                {
                                    "SZOBA_ID": "31",
                                    "FOgLALAS_pk": "598",
                                    "(No column name)": "0"
                                },
                                {
                                    "SZOBA_ID": "31",
                                    "FOgLALAS_pk": "606",
                                    "(No column name)": "2"
                                },
                                {
                                    "SZOBA_ID": "31",
                                    "FOgLALAS_pk": "728",
                                    "(No column name)": "1"
                                },
                                {
                                    "SZOBA_ID": "32",
                                    "FOgLALAS_pk": "920",
                                    "(No column name)": "0"
                                },
                                {
                                    "SZOBA_ID": "33",
                                    "FOgLALAS_pk": "624",
                                    "(No column name)": "0"
                                },
                                {
                                    "SZOBA_ID": "33",
                                    "FOgLALAS_pk": "1012",
                                    "(No column name)": "6"
                                },
                                {
                                    "SZOBA_ID": "33",
                                    "FOgLALAS_pk": "1053",
                                    "(No column name)": "7"
                                },
                                {
                                    "SZOBA_ID": "33",
                                    "FOgLALAS_pk": "1321",
                                    "(No column name)": "1"
                                },
                                {
                                    "SZOBA_ID": "33",
                                    "FOgLALAS_pk": "1344",
                                    "(No column name)": "4"
                                },
                                {
                                    "SZOBA_ID": "33",
                                    "FOgLALAS_pk": "1381",
                                    "(No column name)": "5"
                                },
                                {
                                    "SZOBA_ID": "34",
                                    "FOgLALAS_pk": "870",
                                    "(No column name)": "0"
                                },
                                {
                                    "SZOBA_ID": "34",
                                    "FOgLALAS_pk": "904",
                                    "(No column name)": "6"
                                },
                                {
                                    "SZOBA_ID": "34",
                                    "FOgLALAS_pk": "777",
                                    "(No column name)": "2"
                                },
                                {
                                    "SZOBA_ID": "34",
                                    "FOgLALAS_pk": "821",
                                    "(No column name)": "3"
                                },
                                {
                                    "SZOBA_ID": "35",
                                    "FOgLALAS_pk": "971",
                                    "(No column name)": "0"
                                },
                                {
                                    "SZOBA_ID": "35",
                                    "FOgLALAS_pk": "979",
                                    "(No column name)": "3"
                                },
                                {
                                    "SZOBA_ID": "35",
                                    "FOgLALAS_pk": "686",
                                    "(No column name)": "7"
                                },
                                {
                                    "SZOBA_ID": "35",
                                    "FOgLALAS_pk": "707",
                                    "(No column name)": "6"
                                },
                                {
                                    "SZOBA_ID": "35",
                                    "FOgLALAS_pk": "829",
                                    "(No column name)": "2"
                                },
                                {
                                    "SZOBA_ID": "35",
                                    "FOgLALAS_pk": "1480",
                                    "(No column name)": "2"
                                },
                                {
                                    "SZOBA_ID": "35",
                                    "FOgLALAS_pk": "1411",
                                    "(No column name)": "37"
                                },
                                {
                                    "SZOBA_ID": "35",
                                    "FOgLALAS_pk": "1436",
                                    "(No column name)": "1"
                                },
                                {
                                    "SZOBA_ID": "35",
                                    "FOgLALAS_pk": "1529",
                                    "(No column name)": "1"
                                },
                                {
                                    "SZOBA_ID": "36",
                                    "FOgLALAS_pk": "895",
                                    "(No column name)": "0"
                                },
                                {
                                    "SZOBA_ID": "36",
                                    "FOgLALAS_pk": "919",
                                    "(No column name)": "5"
                                },
                                {
                                    "SZOBA_ID": "36",
                                    "FOgLALAS_pk": "985",
                                    "(No column name)": "1"
                                },
                                {
                                    "SZOBA_ID": "36",
                                    "FOgLALAS_pk": "1003",
                                    "(No column name)": "6"
                                },
                                {
                                    "SZOBA_ID": "36",
                                    "FOgLALAS_pk": "748",
                                    "(No column name)": "4"
                                },
                                {
                                    "SZOBA_ID": "36",
                                    "FOgLALAS_pk": "750",
                                    "(No column name)": "2"
                                },
                                {
                                    "SZOBA_ID": "37",
                                    "FOgLALAS_pk": "688",
                                    "(No column name)": "0"
                                },
                                {
                                    "SZOBA_ID": "37",
                                    "FOgLALAS_pk": "705",
                                    "(No column name)": "2"
                                },
                                {
                                    "SZOBA_ID": "37",
                                    "FOgLALAS_pk": "1335",
                                    "(No column name)": "4"
                                },
                                {
                                    "SZOBA_ID": "38",
                                    "FOgLALAS_pk": "627",
                                    "(No column name)": "0"
                                },
                                {
                                    "SZOBA_ID": "38",
                                    "FOgLALAS_pk": "1033",
                                    "(No column name)": "6"
                                },
                                {
                                    "SZOBA_ID": "38",
                                    "FOgLALAS_pk": "1060",
                                    "(No column name)": "2"
                                },
                                {
                                    "SZOBA_ID": "38",
                                    "FOgLALAS_pk": "1078",
                                    "(No column name)": "2"
                                },
                                {
                                    "SZOBA_ID": "38",
                                    "FOgLALAS_pk": "1351",
                                    "(No column name)": "7"
                                },
                                {
                                    "SZOBA_ID": "38",
                                    "FOgLALAS_pk": "1416",
                                    "(No column name)": "4"
                                },
                                {
                                    "SZOBA_ID": "38",
                                    "FOgLALAS_pk": "1478",
                                    "(No column name)": "5"
                                },
                                {
                                    "SZOBA_ID": "38",
                                    "FOgLALAS_pk": "1556",
                                    "(No column name)": "4"
                                },
                                {
                                    "SZOBA_ID": "39",
                                    "FOgLALAS_pk": "601",
                                    "(No column name)": "0"
                                },
                                {
                                    "SZOBA_ID": "39",
                                    "FOgLALAS_pk": "899",
                                    "(No column name)": "6"
                                },
                                {
                                    "SZOBA_ID": "39",
                                    "FOgLALAS_pk": "1214",
                                    "(No column name)": "6"
                                },
                                {
                                    "SZOBA_ID": "39",
                                    "FOgLALAS_pk": "1380",
                                    "(No column name)": "5"
                                },
                                {
                                    "SZOBA_ID": "39",
                                    "FOgLALAS_pk": "1435",
                                    "(No column name)": "5"
                                },
                                {
                                    "SZOBA_ID": "39",
                                    "FOgLALAS_pk": "1454",
                                    "(No column name)": "7"
                                },
                                {
                                    "SZOBA_ID": "39",
                                    "FOgLALAS_pk": "1538",
                                    "(No column name)": "1"
                                },
                                {
                                    "SZOBA_ID": "40",
                                    "FOgLALAS_pk": "924",
                                    "(No column name)": "0"
                                },
                                {
                                    "SZOBA_ID": "40",
                                    "FOgLALAS_pk": "932",
                                    "(No column name)": "5"
                                },
                                {
                                    "SZOBA_ID": "40",
                                    "FOgLALAS_pk": "1018",
                                    "(No column name)": "6"
                                },
                                {
                                    "SZOBA_ID": "40",
                                    "FOgLALAS_pk": "1118",
                                    "(No column name)": "5"
                                },
                                {
                                    "SZOBA_ID": "41",
                                    "FOgLALAS_pk": "960",
                                    "(No column name)": "0"
                                },
                                {
                                    "SZOBA_ID": "41",
                                    "FOgLALAS_pk": "1144",
                                    "(No column name)": "6"
                                },
                                {
                                    "SZOBA_ID": "42",
                                    "FOgLALAS_pk": "561",
                                    "(No column name)": "0"
                                },
                                {
                                    "SZOBA_ID": "42",
                                    "FOgLALAS_pk": "590",
                                    "(No column name)": "4"
                                },
                                {
                                    "SZOBA_ID": "42",
                                    "FOgLALAS_pk": "851",
                                    "(No column name)": "5"
                                },
                                {
                                    "SZOBA_ID": "42",
                                    "FOgLALAS_pk": "770",
                                    "(No column name)": "7"
                                },
                                {
                                    "SZOBA_ID": "42",
                                    "FOgLALAS_pk": "1309",
                                    "(No column name)": "3"
                                },
                                {
                                    "SZOBA_ID": "42",
                                    "FOgLALAS_pk": "1444",
                                    "(No column name)": "2"
                                },
                                {
                                    "SZOBA_ID": "43",
                                    "FOgLALAS_pk": "1019",
                                    "(No column name)": "0"
                                },
                                {
                                    "SZOBA_ID": "43",
                                    "FOgLALAS_pk": "670",
                                    "(No column name)": "4"
                                },
                                {
                                    "SZOBA_ID": "43",
                                    "FOgLALAS_pk": "1088",
                                    "(No column name)": "4"
                                },
                                {
                                    "SZOBA_ID": "43",
                                    "FOgLALAS_pk": "1207",
                                    "(No column name)": "2"
                                },
                                {
                                    "SZOBA_ID": "43",
                                    "FOgLALAS_pk": "1227",
                                    "(No column name)": "1"
                                },
                                {
                                    "SZOBA_ID": "43",
                                    "FOgLALAS_pk": "1270",
                                    "(No column name)": "5"
                                },
                                {
                                    "SZOBA_ID": "43",
                                    "FOgLALAS_pk": "1524",
                                    "(No column name)": "4"
                                },
                                {
                                    "SZOBA_ID": "43",
                                    "FOgLALAS_pk": "1553",
                                    "(No column name)": "1"
                                },
                                {
                                    "SZOBA_ID": "44",
                                    "FOgLALAS_pk": "589",
                                    "(No column name)": "0"
                                },
                                {
                                    "SZOBA_ID": "44",
                                    "FOgLALAS_pk": "658",
                                    "(No column name)": "2"
                                },
                                {
                                    "SZOBA_ID": "44",
                                    "FOgLALAS_pk": "823",
                                    "(No column name)": "6"
                                },
                                {
                                    "SZOBA_ID": "44",
                                    "FOgLALAS_pk": "1295",
                                    "(No column name)": "2"
                                },
                                {
                                    "SZOBA_ID": "44",
                                    "FOgLALAS_pk": "1425",
                                    "(No column name)": "2"
                                },
                                {
                                    "SZOBA_ID": "44",
                                    "FOgLALAS_pk": "1552",
                                    "(No column name)": "2"
                                },
                                {
                                    "SZOBA_ID": "45",
                                    "FOgLALAS_pk": "802",
                                    "(No column name)": "0"
                                },
                                {
                                    "SZOBA_ID": "45",
                                    "FOgLALAS_pk": "800",
                                    "(No column name)": "7"
                                },
                                {
                                    "SZOBA_ID": "45",
                                    "FOgLALAS_pk": "846",
                                    "(No column name)": "5"
                                },
                                {
                                    "SZOBA_ID": "45",
                                    "FOgLALAS_pk": "1135",
                                    "(No column name)": "3"
                                },
                                {
                                    "SZOBA_ID": "45",
                                    "FOgLALAS_pk": "1303",
                                    "(No column name)": "3"
                                },
                                {
                                    "SZOBA_ID": "46",
                                    "FOgLALAS_pk": "752",
                                    "(No column name)": "0"
                                },
                                {
                                    "SZOBA_ID": "46",
                                    "FOgLALAS_pk": "1187",
                                    "(No column name)": "5"
                                },
                                {
                                    "SZOBA_ID": "46",
                                    "FOgLALAS_pk": "1291",
                                    "(No column name)": "7"
                                },
                                {
                                    "SZOBA_ID": "46",
                                    "FOgLALAS_pk": "1515",
                                    "(No column name)": "3"
                                },
                                {
                                    "SZOBA_ID": "47",
                                    "FOgLALAS_pk": "955",
                                    "(No column name)": "0"
                                },
                                {
                                    "SZOBA_ID": "47",
                                    "FOgLALAS_pk": "1056",
                                    "(No column name)": "1"
                                },
                                {
                                    "SZOBA_ID": "48",
                                    "FOgLALAS_pk": "603",
                                    "(No column name)": "0"
                                },
                                {
                                    "SZOBA_ID": "48",
                                    "FOgLALAS_pk": "628",
                                    "(No column name)": "3"
                                },
                                {
                                    "SZOBA_ID": "48",
                                    "FOgLALAS_pk": "914",
                                    "(No column name)": "2"
                                },
                                {
                                    "SZOBA_ID": "48",
                                    "FOgLALAS_pk": "986",
                                    "(No column name)": "5"
                                },
                                {
                                    "SZOBA_ID": "48",
                                    "FOgLALAS_pk": "824",
                                    "(No column name)": "5"
                                },
                                {
                                    "SZOBA_ID": "48",
                                    "FOgLALAS_pk": "1243",
                                    "(No column name)": "2"
                                },
                                {
                                    "SZOBA_ID": "48",
                                    "FOgLALAS_pk": "1546",
                                    "(No column name)": "6"
                                },
                                {
                                    "SZOBA_ID": "48",
                                    "FOgLALAS_pk": "1547",
                                    "(No column name)": "3"
                                },
                                {
                                    "SZOBA_ID": "48",
                                    "FOgLALAS_pk": "1581",
                                    "(No column name)": "1"
                                },
                                {
                                    "SZOBA_ID": "49",
                                    "FOgLALAS_pk": "888",
                                    "(No column name)": "0"
                                },
                                {
                                    "SZOBA_ID": "49",
                                    "FOgLALAS_pk": "793",
                                    "(No column name)": "7"
                                },
                                {
                                    "SZOBA_ID": "49",
                                    "FOgLALAS_pk": "826",
                                    "(No column name)": "6"
                                },
                                {
                                    "SZOBA_ID": "49",
                                    "FOgLALAS_pk": "1066",
                                    "(No column name)": "4"
                                },
                                {
                                    "SZOBA_ID": "49",
                                    "FOgLALAS_pk": "1200",
                                    "(No column name)": "7"
                                },
                                {
                                    "SZOBA_ID": "49",
                                    "FOgLALAS_pk": "1221",
                                    "(No column name)": "7"
                                },
                                {
                                    "SZOBA_ID": "49",
                                    "FOgLALAS_pk": "1536",
                                    "(No column name)": "2"
                                },
                                {
                                    "SZOBA_ID": "50",
                                    "FOgLALAS_pk": "787",
                                    "(No column name)": "0"
                                },
                                {
                                    "SZOBA_ID": "50",
                                    "FOgLALAS_pk": "1063",
                                    "(No column name)": "3"
                                },
                                {
                                    "SZOBA_ID": "50",
                                    "FOgLALAS_pk": "1224",
                                    "(No column name)": "2"
                                },
                                {
                                    "SZOBA_ID": "50",
                                    "FOgLALAS_pk": "1272",
                                    "(No column name)": "1"
                                },
                                {
                                    "SZOBA_ID": "51",
                                    "FOgLALAS_pk": "865",
                                    "(No column name)": "0"
                                },
                                {
                                    "SZOBA_ID": "51",
                                    "FOgLALAS_pk": "811",
                                    "(No column name)": "7"
                                },
                                {
                                    "SZOBA_ID": "51",
                                    "FOgLALAS_pk": "1165",
                                    "(No column name)": "2"
                                },
                                {
                                    "SZOBA_ID": "51",
                                    "FOgLALAS_pk": "1477",
                                    "(No column name)": "5"
                                },
                                {
                                    "SZOBA_ID": "51",
                                    "FOgLALAS_pk": "1550",
                                    "(No column name)": "6"
                                },
                                {
                                    "SZOBA_ID": "52",
                                    "FOgLALAS_pk": "822",
                                    "(No column name)": "0"
                                },
                                {
                                    "SZOBA_ID": "52",
                                    "FOgLALAS_pk": "1202",
                                    "(No column name)": "7"
                                },
                                {
                                    "SZOBA_ID": "52",
                                    "FOgLALAS_pk": "1258",
                                    "(No column name)": "2"
                                },
                                {
                                    "SZOBA_ID": "52",
                                    "FOgLALAS_pk": "1431",
                                    "(No column name)": "5"
                                },
                                {
                                    "SZOBA_ID": "52",
                                    "FOgLALAS_pk": "1534",
                                    "(No column name)": "5"
                                },
                                {
                                    "SZOBA_ID": "53",
                                    "FOgLALAS_pk": "855",
                                    "(No column name)": "0"
                                },
                                {
                                    "SZOBA_ID": "53",
                                    "FOgLALAS_pk": "987",
                                    "(No column name)": "1"
                                },
                                {
                                    "SZOBA_ID": "54",
                                    "FOgLALAS_pk": "622",
                                    "(No column name)": "0"
                                },
                                {
                                    "SZOBA_ID": "54",
                                    "FOgLALAS_pk": "642",
                                    "(No column name)": "7"
                                },
                                {
                                    "SZOBA_ID": "54",
                                    "FOgLALAS_pk": "889",
                                    "(No column name)": "5"
                                },
                                {
                                    "SZOBA_ID": "54",
                                    "FOgLALAS_pk": "668",
                                    "(No column name)": "2"
                                },
                                {
                                    "SZOBA_ID": "54",
                                    "FOgLALAS_pk": "1096",
                                    "(No column name)": "1"
                                },
                                {
                                    "SZOBA_ID": "54",
                                    "FOgLALAS_pk": "1328",
                                    "(No column name)": "4"
                                },
                                {
                                    "SZOBA_ID": "55",
                                    "FOgLALAS_pk": "734",
                                    "(No column name)": "0"
                                },
                                {
                                    "SZOBA_ID": "55",
                                    "FOgLALAS_pk": "1086",
                                    "(No column name)": "6"
                                },
                                {
                                    "SZOBA_ID": "55",
                                    "FOgLALAS_pk": "1163",
                                    "(No column name)": "5"
                                },
                                {
                                    "SZOBA_ID": "55",
                                    "FOgLALAS_pk": "1232",
                                    "(No column name)": "2"
                                },
                                {
                                    "SZOBA_ID": "55",
                                    "FOgLALAS_pk": "1327",
                                    "(No column name)": "7"
                                },
                                {
                                    "SZOBA_ID": "55",
                                    "FOgLALAS_pk": "1386",
                                    "(No column name)": "6"
                                },
                                {
                                    "SZOBA_ID": "55",
                                    "FOgLALAS_pk": "1512",
                                    "(No column name)": "2"
                                },
                                {
                                    "SZOBA_ID": "55",
                                    "FOgLALAS_pk": "1520",
                                    "(No column name)": "1"
                                },
                                {
                                    "SZOBA_ID": "56",
                                    "FOgLALAS_pk": "935",
                                    "(No column name)": "0"
                                },
                                {
                                    "SZOBA_ID": "56",
                                    "FOgLALAS_pk": "838",
                                    "(No column name)": "4"
                                },
                                {
                                    "SZOBA_ID": "57",
                                    "FOgLALAS_pk": "1348",
                                    "(No column name)": "0"
                                },
                                {
                                    "SZOBA_ID": "57",
                                    "FOgLALAS_pk": "1389",
                                    "(No column name)": "1"
                                },
                                {
                                    "SZOBA_ID": "57",
                                    "FOgLALAS_pk": "1466",
                                    "(No column name)": "1"
                                },
                                {
                                    "SZOBA_ID": "57",
                                    "FOgLALAS_pk": "1504",
                                    "(No column name)": "7"
                                },
                                {
                                    "SZOBA_ID": "58",
                                    "FOgLALAS_pk": "883",
                                    "(No column name)": "0"
                                },
                                {
                                    "SZOBA_ID": "58",
                                    "FOgLALAS_pk": "719",
                                    "(No column name)": "5"
                                },
                                {
                                    "SZOBA_ID": "58",
                                    "FOgLALAS_pk": "773",
                                    "(No column name)": "3"
                                },
                                {
                                    "SZOBA_ID": "58",
                                    "FOgLALAS_pk": "1113",
                                    "(No column name)": "2"
                                },
                                {
                                    "SZOBA_ID": "58",
                                    "FOgLALAS_pk": "1186",
                                    "(No column name)": "3"
                                },
                                {
                                    "SZOBA_ID": "58",
                                    "FOgLALAS_pk": "1208",
                                    "(No column name)": "6"
                                },
                                {
                                    "SZOBA_ID": "58",
                                    "FOgLALAS_pk": "1255",
                                    "(No column name)": "6"
                                },
                                {
                                    "SZOBA_ID": "58",
                                    "FOgLALAS_pk": "1261",
                                    "(No column name)": "7"
                                },
                                {
                                    "SZOBA_ID": "58",
                                    "FOgLALAS_pk": "1285",
                                    "(No column name)": "6"
                                },
                                {
                                    "SZOBA_ID": "58",
                                    "FOgLALAS_pk": "1293",
                                    "(No column name)": "7"
                                },
                                {
                                    "SZOBA_ID": "58",
                                    "FOgLALAS_pk": "1307",
                                    "(No column name)": "3"
                                },
                                {
                                    "SZOBA_ID": "58",
                                    "FOgLALAS_pk": "1322",
                                    "(No column name)": "6"
                                },
                                {
                                    "SZOBA_ID": "58",
                                    "FOgLALAS_pk": "1451",
                                    "(No column name)": "3"
                                },
                                {
                                    "SZOBA_ID": "59",
                                    "FOgLALAS_pk": "1080",
                                    "(No column name)": "0"
                                },
                                {
                                    "SZOBA_ID": "59",
                                    "FOgLALAS_pk": "1084",
                                    "(No column name)": "1"
                                },
                                {
                                    "SZOBA_ID": "59",
                                    "FOgLALAS_pk": "1170",
                                    "(No column name)": "2"
                                },
                                {
                                    "SZOBA_ID": "59",
                                    "FOgLALAS_pk": "1191",
                                    "(No column name)": "5"
                                },
                                {
                                    "SZOBA_ID": "59",
                                    "FOgLALAS_pk": "1239",
                                    "(No column name)": "6"
                                },
                                {
                                    "SZOBA_ID": "59",
                                    "FOgLALAS_pk": "1288",
                                    "(No column name)": "2"
                                },
                                {
                                    "SZOBA_ID": "59",
                                    "FOgLALAS_pk": "1573",
                                    "(No column name)": "3"
                                },
                                {
                                    "SZOBA_ID": "60",
                                    "FOgLALAS_pk": "676",
                                    "(No column name)": "0"
                                },
                                {
                                    "SZOBA_ID": "61",
                                    "FOgLALAS_pk": "701",
                                    "(No column name)": "0"
                                },
                                {
                                    "SZOBA_ID": "61",
                                    "FOgLALAS_pk": "756",
                                    "(No column name)": "2"
                                },
                                {
                                    "SZOBA_ID": "61",
                                    "FOgLALAS_pk": "1148",
                                    "(No column name)": "6"
                                },
                                {
                                    "SZOBA_ID": "61",
                                    "FOgLALAS_pk": "1218",
                                    "(No column name)": "3"
                                },
                                {
                                    "SZOBA_ID": "61",
                                    "FOgLALAS_pk": "1496",
                                    "(No column name)": "2"
                                },
                                {
                                    "SZOBA_ID": "62",
                                    "FOgLALAS_pk": "936",
                                    "(No column name)": "0"
                                },
                                {
                                    "SZOBA_ID": "62",
                                    "FOgLALAS_pk": "938",
                                    "(No column name)": "3"
                                },
                                {
                                    "SZOBA_ID": "62",
                                    "FOgLALAS_pk": "702",
                                    "(No column name)": "1"
                                },
                                {
                                    "SZOBA_ID": "62",
                                    "FOgLALAS_pk": "1081",
                                    "(No column name)": "5"
                                },
                                {
                                    "SZOBA_ID": "62",
                                    "FOgLALAS_pk": "1426",
                                    "(No column name)": "7"
                                },
                                {
                                    "SZOBA_ID": "63",
                                    "FOgLALAS_pk": "625",
                                    "(No column name)": "0"
                                },
                                {
                                    "SZOBA_ID": "63",
                                    "FOgLALAS_pk": "891",
                                    "(No column name)": "3"
                                },
                                {
                                    "SZOBA_ID": "63",
                                    "FOgLALAS_pk": "769",
                                    "(No column name)": "6"
                                },
                                {
                                    "SZOBA_ID": "63",
                                    "FOgLALAS_pk": "845",
                                    "(No column name)": "5"
                                },
                                {
                                    "SZOBA_ID": "64",
                                    "FOgLALAS_pk": "875",
                                    "(No column name)": "0"
                                },
                                {
                                    "SZOBA_ID": "64",
                                    "FOgLALAS_pk": "1122",
                                    "(No column name)": "2"
                                },
                                {
                                    "SZOBA_ID": "64",
                                    "FOgLALAS_pk": "1233",
                                    "(No column name)": "4"
                                },
                                {
                                    "SZOBA_ID": "64",
                                    "FOgLALAS_pk": "1446",
                                    "(No column name)": "7"
                                },
                                {
                                    "SZOBA_ID": "64",
                                    "FOgLALAS_pk": "1465",
                                    "(No column name)": "6"
                                },
                                {
                                    "SZOBA_ID": "64",
                                    "FOgLALAS_pk": "1582",
                                    "(No column name)": "4"
                                },
                                {
                                    "SZOBA_ID": "65",
                                    "FOgLALAS_pk": "650",
                                    "(No column name)": "0"
                                },
                                {
                                    "SZOBA_ID": "66",
                                    "FOgLALAS_pk": "950",
                                    "(No column name)": "0"
                                },
                                {
                                    "SZOBA_ID": "66",
                                    "FOgLALAS_pk": "736",
                                    "(No column name)": "3"
                                },
                                {
                                    "SZOBA_ID": "66",
                                    "FOgLALAS_pk": "1234",
                                    "(No column name)": "3"
                                },
                                {
                                    "SZOBA_ID": "66",
                                    "FOgLALAS_pk": "1264",
                                    "(No column name)": "3"
                                },
                                {
                                    "SZOBA_ID": "67",
                                    "FOgLALAS_pk": "638",
                                    "(No column name)": "0"
                                },
                                {
                                    "SZOBA_ID": "67",
                                    "FOgLALAS_pk": "645",
                                    "(No column name)": "5"
                                },
                                {
                                    "SZOBA_ID": "67",
                                    "FOgLALAS_pk": "874",
                                    "(No column name)": "6"
                                },
                                {
                                    "SZOBA_ID": "67",
                                    "FOgLALAS_pk": "1382",
                                    "(No column name)": "6"
                                },
                                {
                                    "SZOBA_ID": "67",
                                    "FOgLALAS_pk": "1580",
                                    "(No column name)": "1"
                                },
                                {
                                    "SZOBA_ID": "67",
                                    "FOgLALAS_pk": "1584",
                                    "(No column name)": "5"
                                },
                                {
                                    "SZOBA_ID": "68",
                                    "FOgLALAS_pk": "563",
                                    "(No column name)": "0"
                                },
                                {
                                    "SZOBA_ID": "68",
                                    "FOgLALAS_pk": "1027",
                                    "(No column name)": "5"
                                },
                                {
                                    "SZOBA_ID": "68",
                                    "FOgLALAS_pk": "1324",
                                    "(No column name)": "7"
                                },
                                {
                                    "SZOBA_ID": "69",
                                    "FOgLALAS_pk": "885",
                                    "(No column name)": "0"
                                },
                                {
                                    "SZOBA_ID": "69",
                                    "FOgLALAS_pk": "1055",
                                    "(No column name)": "1"
                                },
                                {
                                    "SZOBA_ID": "69",
                                    "FOgLALAS_pk": "1225",
                                    "(No column name)": "5"
                                },
                                {
                                    "SZOBA_ID": "69",
                                    "FOgLALAS_pk": "1246",
                                    "(No column name)": "5"
                                },
                                {
                                    "SZOBA_ID": "70",
                                    "FOgLALAS_pk": "585",
                                    "(No column name)": "0"
                                },
                                {
                                    "SZOBA_ID": "70",
                                    "FOgLALAS_pk": "860",
                                    "(No column name)": "5"
                                },
                                {
                                    "SZOBA_ID": "70",
                                    "FOgLALAS_pk": "1006",
                                    "(No column name)": "2"
                                },
                                {
                                    "SZOBA_ID": "70",
                                    "FOgLALAS_pk": "704",
                                    "(No column name)": "3"
                                },
                                {
                                    "SZOBA_ID": "70",
                                    "FOgLALAS_pk": "814",
                                    "(No column name)": "3"
                                },
                                {
                                    "SZOBA_ID": "70",
                                    "FOgLALAS_pk": "1092",
                                    "(No column name)": "3"
                                },
                                {
                                    "SZOBA_ID": "70",
                                    "FOgLALAS_pk": "1126",
                                    "(No column name)": "3"
                                },
                                {
                                    "SZOBA_ID": "70",
                                    "FOgLALAS_pk": "1325",
                                    "(No column name)": "3"
                                },
                                {
                                    "SZOBA_ID": "70",
                                    "FOgLALAS_pk": "1333",
                                    "(No column name)": "7"
                                },
                                {
                                    "SZOBA_ID": "70",
                                    "FOgLALAS_pk": "1365",
                                    "(No column name)": "6"
                                },
                                {
                                    "SZOBA_ID": "70",
                                    "FOgLALAS_pk": "1457",
                                    "(No column name)": "3"
                                },
                                {
                                    "SZOBA_ID": "71",
                                    "FOgLALAS_pk": "1009",
                                    "(No column name)": "0"
                                },
                                {
                                    "SZOBA_ID": "71",
                                    "FOgLALAS_pk": "681",
                                    "(No column name)": "1"
                                },
                                {
                                    "SZOBA_ID": "71",
                                    "FOgLALAS_pk": "712",
                                    "(No column name)": "3"
                                },
                                {
                                    "SZOBA_ID": "72",
                                    "FOgLALAS_pk": "902",
                                    "(No column name)": "0"
                                },
                                {
                                    "SZOBA_ID": "72",
                                    "FOgLALAS_pk": "961",
                                    "(No column name)": "5"
                                },
                                {
                                    "SZOBA_ID": "72",
                                    "FOgLALAS_pk": "1318",
                                    "(No column name)": "6"
                                },
                                {
                                    "SZOBA_ID": "72",
                                    "FOgLALAS_pk": "1396",
                                    "(No column name)": "2"
                                },
                                {
                                    "SZOBA_ID": "73",
                                    "FOgLALAS_pk": "1000",
                                    "(No column name)": "0"
                                },
                                {
                                    "SZOBA_ID": "73",
                                    "FOgLALAS_pk": "714",
                                    "(No column name)": "4"
                                },
                                {
                                    "SZOBA_ID": "73",
                                    "FOgLALAS_pk": "1159",
                                    "(No column name)": "7"
                                },
                                {
                                    "SZOBA_ID": "73",
                                    "FOgLALAS_pk": "1331",
                                    "(No column name)": "5"
                                },
                                {
                                    "SZOBA_ID": "74",
                                    "FOgLALAS_pk": "595",
                                    "(No column name)": "0"
                                },
                                {
                                    "SZOBA_ID": "74",
                                    "FOgLALAS_pk": "877",
                                    "(No column name)": "7"
                                },
                                {
                                    "SZOBA_ID": "74",
                                    "FOgLALAS_pk": "940",
                                    "(No column name)": "4"
                                },
                                {
                                    "SZOBA_ID": "74",
                                    "FOgLALAS_pk": "963",
                                    "(No column name)": "5"
                                },
                                {
                                    "SZOBA_ID": "74",
                                    "FOgLALAS_pk": "797",
                                    "(No column name)": "1"
                                },
                                {
                                    "SZOBA_ID": "74",
                                    "FOgLALAS_pk": "830",
                                    "(No column name)": "5"
                                },
                                {
                                    "SZOBA_ID": "74",
                                    "FOgLALAS_pk": "847",
                                    "(No column name)": "1"
                                },
                                {
                                    "SZOBA_ID": "74",
                                    "FOgLALAS_pk": "1093",
                                    "(No column name)": "3"
                                },
                                {
                                    "SZOBA_ID": "74",
                                    "FOgLALAS_pk": "1179",
                                    "(No column name)": "6"
                                },
                                {
                                    "SZOBA_ID": "75",
                                    "FOgLALAS_pk": "1013",
                                    "(No column name)": "0"
                                },
                                {
                                    "SZOBA_ID": "75",
                                    "FOgLALAS_pk": "1412",
                                    "(No column name)": "5"
                                },
                                {
                                    "SZOBA_ID": "75",
                                    "FOgLALAS_pk": "1458",
                                    "(No column name)": "2"
                                },
                                {
                                    "SZOBA_ID": "76",
                                    "FOgLALAS_pk": "976",
                                    "(No column name)": "0"
                                },
                                {
                                    "SZOBA_ID": "76",
                                    "FOgLALAS_pk": "683",
                                    "(No column name)": "2"
                                },
                                {
                                    "SZOBA_ID": "76",
                                    "FOgLALAS_pk": "1557",
                                    "(No column name)": "7"
                                },
                                {
                                    "SZOBA_ID": "77",
                                    "FOgLALAS_pk": "593",
                                    "(No column name)": "0"
                                },
                                {
                                    "SZOBA_ID": "77",
                                    "FOgLALAS_pk": "982",
                                    "(No column name)": "3"
                                },
                                {
                                    "SZOBA_ID": "77",
                                    "FOgLALAS_pk": "698",
                                    "(No column name)": "3"
                                },
                                {
                                    "SZOBA_ID": "77",
                                    "FOgLALAS_pk": "1104",
                                    "(No column name)": "4"
                                },
                                {
                                    "SZOBA_ID": "77",
                                    "FOgLALAS_pk": "1439",
                                    "(No column name)": "1"
                                },
                                {
                                    "SZOBA_ID": "77",
                                    "FOgLALAS_pk": "1461",
                                    "(No column name)": "6"
                                },
                                {
                                    "SZOBA_ID": "78",
                                    "FOgLALAS_pk": "568",
                                    "(No column name)": "0"
                                },
                                {
                                    "SZOBA_ID": "78",
                                    "FOgLALAS_pk": "646",
                                    "(No column name)": "1"
                                },
                                {
                                    "SZOBA_ID": "78",
                                    "FOgLALAS_pk": "700",
                                    "(No column name)": "3"
                                },
                                {
                                    "SZOBA_ID": "78",
                                    "FOgLALAS_pk": "1268",
                                    "(No column name)": "5"
                                },
                                {
                                    "SZOBA_ID": "78",
                                    "FOgLALAS_pk": "1281",
                                    "(No column name)": "2"
                                },
                                {
                                    "SZOBA_ID": "78",
                                    "FOgLALAS_pk": "1577",
                                    "(No column name)": "3"
                                },
                                {
                                    "SZOBA_ID": "79",
                                    "FOgLALAS_pk": "583",
                                    "(No column name)": "0"
                                },
                                {
                                    "SZOBA_ID": "79",
                                    "FOgLALAS_pk": "1054",
                                    "(No column name)": "6"
                                },
                                {
                                    "SZOBA_ID": "79",
                                    "FOgLALAS_pk": "1229",
                                    "(No column name)": "1"
                                },
                                {
                                    "SZOBA_ID": "79",
                                    "FOgLALAS_pk": "1345",
                                    "(No column name)": "7"
                                },
                                {
                                    "SZOBA_ID": "79",
                                    "FOgLALAS_pk": "1447",
                                    "(No column name)": "3"
                                },
                                {
                                    "SZOBA_ID": "80",
                                    "FOgLALAS_pk": "887",
                                    "(No column name)": "0"
                                },
                                {
                                    "SZOBA_ID": "80",
                                    "FOgLALAS_pk": "929",
                                    "(No column name)": "6"
                                },
                                {
                                    "SZOBA_ID": "80",
                                    "FOgLALAS_pk": "983",
                                    "(No column name)": "2"
                                },
                                {
                                    "SZOBA_ID": "80",
                                    "FOgLALAS_pk": "667",
                                    "(No column name)": "6"
                                },
                                {
                                    "SZOBA_ID": "80",
                                    "FOgLALAS_pk": "1071",
                                    "(No column name)": "6"
                                },
                                {
                                    "SZOBA_ID": "80",
                                    "FOgLALAS_pk": "1279",
                                    "(No column name)": "4"
                                },
                                {
                                    "SZOBA_ID": "80",
                                    "FOgLALAS_pk": "1367",
                                    "(No column name)": "5"
                                },
                                {
                                    "SZOBA_ID": "81",
                                    "FOgLALAS_pk": "1366",
                                    "(No column name)": "0"
                                },
                                {
                                    "SZOBA_ID": "81",
                                    "FOgLALAS_pk": "1443",
                                    "(No column name)": "5"
                                },
                                {
                                    "SZOBA_ID": "81",
                                    "FOgLALAS_pk": "1464",
                                    "(No column name)": "7"
                                },
                                {
                                    "SZOBA_ID": "81",
                                    "FOgLALAS_pk": "1506",
                                    "(No column name)": "7"
                                },
                                {
                                    "SZOBA_ID": "81",
                                    "FOgLALAS_pk": "1562",
                                    "(No column name)": "3"
                                },
                                {
                                    "SZOBA_ID": "82",
                                    "FOgLALAS_pk": "862",
                                    "(No column name)": "0"
                                },
                                {
                                    "SZOBA_ID": "82",
                                    "FOgLALAS_pk": "871",
                                    "(No column name)": "4"
                                },
                                {
                                    "SZOBA_ID": "82",
                                    "FOgLALAS_pk": "997",
                                    "(No column name)": "5"
                                },
                                {
                                    "SZOBA_ID": "82",
                                    "FOgLALAS_pk": "1277",
                                    "(No column name)": "6"
                                },
                                {
                                    "SZOBA_ID": "82",
                                    "FOgLALAS_pk": "1341",
                                    "(No column name)": "5"
                                },
                                {
                                    "SZOBA_ID": "82",
                                    "FOgLALAS_pk": "1406",
                                    "(No column name)": "2"
                                },
                                {
                                    "SZOBA_ID": "83",
                                    "FOgLALAS_pk": "572",
                                    "(No column name)": "0"
                                },
                                {
                                    "SZOBA_ID": "83",
                                    "FOgLALAS_pk": "869",
                                    "(No column name)": "7"
                                },
                                {
                                    "SZOBA_ID": "83",
                                    "FOgLALAS_pk": "878",
                                    "(No column name)": "6"
                                },
                                {
                                    "SZOBA_ID": "83",
                                    "FOgLALAS_pk": "995",
                                    "(No column name)": "6"
                                },
                                {
                                    "SZOBA_ID": "83",
                                    "FOgLALAS_pk": "674",
                                    "(No column name)": "5"
                                },
                                {
                                    "SZOBA_ID": "83",
                                    "FOgLALAS_pk": "798",
                                    "(No column name)": "4"
                                },
                                {
                                    "SZOBA_ID": "83",
                                    "FOgLALAS_pk": "1119",
                                    "(No column name)": "4"
                                },
                                {
                                    "SZOBA_ID": "83",
                                    "FOgLALAS_pk": "1379",
                                    "(No column name)": "6"
                                },
                                {
                                    "SZOBA_ID": "84",
                                    "FOgLALAS_pk": "954",
                                    "(No column name)": "0"
                                },
                                {
                                    "SZOBA_ID": "84",
                                    "FOgLALAS_pk": "819",
                                    "(No column name)": "5"
                                },
                                {
                                    "SZOBA_ID": "84",
                                    "FOgLALAS_pk": "1376",
                                    "(No column name)": "2"
                                },
                                {
                                    "SZOBA_ID": "84",
                                    "FOgLALAS_pk": "1384",
                                    "(No column name)": "5"
                                },
                                {
                                    "SZOBA_ID": "85",
                                    "FOgLALAS_pk": "647",
                                    "(No column name)": "0"
                                },
                                {
                                    "SZOBA_ID": "85",
                                    "FOgLALAS_pk": "1059",
                                    "(No column name)": "3"
                                },
                                {
                                    "SZOBA_ID": "85",
                                    "FOgLALAS_pk": "1320",
                                    "(No column name)": "3"
                                },
                                {
                                    "SZOBA_ID": "85",
                                    "FOgLALAS_pk": "1513",
                                    "(No column name)": "1"
                                },
                                {
                                    "SZOBA_ID": "86",
                                    "FOgLALAS_pk": "859",
                                    "(No column name)": "0"
                                },
                                {
                                    "SZOBA_ID": "86",
                                    "FOgLALAS_pk": "1057",
                                    "(No column name)": "1"
                                },
                                {
                                    "SZOBA_ID": "86",
                                    "FOgLALAS_pk": "1079",
                                    "(No column name)": "5"
                                },
                                {
                                    "SZOBA_ID": "86",
                                    "FOgLALAS_pk": "1108",
                                    "(No column name)": "4"
                                },
                                {
                                    "SZOBA_ID": "86",
                                    "FOgLALAS_pk": "1453",
                                    "(No column name)": "1"
                                },
                                {
                                    "SZOBA_ID": "87",
                                    "FOgLALAS_pk": "558",
                                    "(No column name)": "0"
                                },
                                {
                                    "SZOBA_ID": "87",
                                    "FOgLALAS_pk": "844",
                                    "(No column name)": "4"
                                },
                                {
                                    "SZOBA_ID": "87",
                                    "FOgLALAS_pk": "1103",
                                    "(No column name)": "1"
                                },
                                {
                                    "SZOBA_ID": "87",
                                    "FOgLALAS_pk": "1349",
                                    "(No column name)": "3"
                                },
                                {
                                    "SZOBA_ID": "87",
                                    "FOgLALAS_pk": "1456",
                                    "(No column name)": "5"
                                },
                                {
                                    "SZOBA_ID": "88",
                                    "FOgLALAS_pk": "866",
                                    "(No column name)": "0"
                                },
                                {
                                    "SZOBA_ID": "88",
                                    "FOgLALAS_pk": "757",
                                    "(No column name)": "2"
                                },
                                {
                                    "SZOBA_ID": "88",
                                    "FOgLALAS_pk": "1196",
                                    "(No column name)": "7"
                                },
                                {
                                    "SZOBA_ID": "88",
                                    "FOgLALAS_pk": "1273",
                                    "(No column name)": "3"
                                },
                                {
                                    "SZOBA_ID": "88",
                                    "FOgLALAS_pk": "1300",
                                    "(No column name)": "7"
                                },
                                {
                                    "SZOBA_ID": "88",
                                    "FOgLALAS_pk": "1359",
                                    "(No column name)": "3"
                                },
                                {
                                    "SZOBA_ID": "88",
                                    "FOgLALAS_pk": "1548",
                                    "(No column name)": "2"
                                },
                                {
                                    "SZOBA_ID": "88",
                                    "FOgLALAS_pk": "1575",
                                    "(No column name)": "7"
                                },
                                {
                                    "SZOBA_ID": "89",
                                    "FOgLALAS_pk": "817",
                                    "(No column name)": "0"
                                },
                                {
                                    "SZOBA_ID": "89",
                                    "FOgLALAS_pk": "1037",
                                    "(No column name)": "3"
                                },
                                {
                                    "SZOBA_ID": "89",
                                    "FOgLALAS_pk": "1101",
                                    "(No column name)": "7"
                                },
                                {
                                    "SZOBA_ID": "89",
                                    "FOgLALAS_pk": "1189",
                                    "(No column name)": "5"
                                },
                                {
                                    "SZOBA_ID": "89",
                                    "FOgLALAS_pk": "1253",
                                    "(No column name)": "6"
                                },
                                {
                                    "SZOBA_ID": "89",
                                    "FOgLALAS_pk": "1269",
                                    "(No column name)": "2"
                                },
                                {
                                    "SZOBA_ID": "89",
                                    "FOgLALAS_pk": "1399",
                                    "(No column name)": "2"
                                },
                                {
                                    "SZOBA_ID": "89",
                                    "FOgLALAS_pk": "1521",
                                    "(No column name)": "2"
                                },
                                {
                                    "SZOBA_ID": "90",
                                    "FOgLALAS_pk": "729",
                                    "(No column name)": "0"
                                },
                                {
                                    "SZOBA_ID": "90",
                                    "FOgLALAS_pk": "1174",
                                    "(No column name)": "2"
                                },
                                {
                                    "SZOBA_ID": "90",
                                    "FOgLALAS_pk": "1299",
                                    "(No column name)": "7"
                                },
                                {
                                    "SZOBA_ID": "90",
                                    "FOgLALAS_pk": "1405",
                                    "(No column name)": "6"
                                },
                                {
                                    "SZOBA_ID": "91",
                                    "FOgLALAS_pk": "636",
                                    "(No column name)": "0"
                                },
                                {
                                    "SZOBA_ID": "91",
                                    "FOgLALAS_pk": "732",
                                    "(No column name)": "6"
                                },
                                {
                                    "SZOBA_ID": "91",
                                    "FOgLALAS_pk": "1213",
                                    "(No column name)": "4"
                                },
                                {
                                    "SZOBA_ID": "91",
                                    "FOgLALAS_pk": "1397",
                                    "(No column name)": "3"
                                },
                                {
                                    "SZOBA_ID": "92",
                                    "FOgLALAS_pk": "942",
                                    "(No column name)": "0"
                                },
                                {
                                    "SZOBA_ID": "92",
                                    "FOgLALAS_pk": "1016",
                                    "(No column name)": "6"
                                },
                                {
                                    "SZOBA_ID": "92",
                                    "FOgLALAS_pk": "809",
                                    "(No column name)": "2"
                                },
                                {
                                    "SZOBA_ID": "92",
                                    "FOgLALAS_pk": "841",
                                    "(No column name)": "3"
                                },
                                {
                                    "SZOBA_ID": "92",
                                    "FOgLALAS_pk": "1527",
                                    "(No column name)": "6"
                                },
                                {
                                    "SZOBA_ID": "92",
                                    "FOgLALAS_pk": "1555",
                                    "(No column name)": "2"
                                },
                                {
                                    "SZOBA_ID": "93",
                                    "FOgLALAS_pk": "741",
                                    "(No column name)": "0"
                                },
                                {
                                    "SZOBA_ID": "93",
                                    "FOgLALAS_pk": "1169",
                                    "(No column name)": "7"
                                },
                                {
                                    "SZOBA_ID": "93",
                                    "FOgLALAS_pk": "1217",
                                    "(No column name)": "4"
                                },
                                {
                                    "SZOBA_ID": "93",
                                    "FOgLALAS_pk": "1355",
                                    "(No column name)": "1"
                                },
                                {
                                    "SZOBA_ID": "93",
                                    "FOgLALAS_pk": "1391",
                                    "(No column name)": "2"
                                },
                                {
                                    "SZOBA_ID": "94",
                                    "FOgLALAS_pk": "616",
                                    "(No column name)": "0"
                                },
                                {
                                    "SZOBA_ID": "94",
                                    "FOgLALAS_pk": "975",
                                    "(No column name)": "4"
                                },
                                {
                                    "SZOBA_ID": "94",
                                    "FOgLALAS_pk": "665",
                                    "(No column name)": "5"
                                },
                                {
                                    "SZOBA_ID": "94",
                                    "FOgLALAS_pk": "727",
                                    "(No column name)": "7"
                                },
                                {
                                    "SZOBA_ID": "94",
                                    "FOgLALAS_pk": "1241",
                                    "(No column name)": "3"
                                },
                                {
                                    "SZOBA_ID": "94",
                                    "FOgLALAS_pk": "1305",
                                    "(No column name)": "7"
                                },
                                {
                                    "SZOBA_ID": "94",
                                    "FOgLALAS_pk": "1312",
                                    "(No column name)": "2"
                                },
                                {
                                    "SZOBA_ID": "94",
                                    "FOgLALAS_pk": "1368",
                                    "(No column name)": "3"
                                },
                                {
                                    "SZOBA_ID": "94",
                                    "FOgLALAS_pk": "1518",
                                    "(No column name)": "1"
                                },
                                {
                                    "SZOBA_ID": "94",
                                    "FOgLALAS_pk": "1564",
                                    "(No column name)": "2"
                                },
                                {
                                    "SZOBA_ID": "95",
                                    "FOgLALAS_pk": "656",
                                    "(No column name)": "0"
                                },
                                {
                                    "SZOBA_ID": "95",
                                    "FOgLALAS_pk": "1048",
                                    "(No column name)": "7"
                                },
                                {
                                    "SZOBA_ID": "95",
                                    "FOgLALAS_pk": "1097",
                                    "(No column name)": "3"
                                },
                                {
                                    "SZOBA_ID": "95",
                                    "FOgLALAS_pk": "1543",
                                    "(No column name)": "4"
                                },
                                {
                                    "SZOBA_ID": "96",
                                    "FOgLALAS_pk": "607",
                                    "(No column name)": "0"
                                },
                                {
                                    "SZOBA_ID": "96",
                                    "FOgLALAS_pk": "623",
                                    "(No column name)": "4"
                                },
                                {
                                    "SZOBA_ID": "96",
                                    "FOgLALAS_pk": "671",
                                    "(No column name)": "7"
                                },
                                {
                                    "SZOBA_ID": "96",
                                    "FOgLALAS_pk": "780",
                                    "(No column name)": "4"
                                },
                                {
                                    "SZOBA_ID": "96",
                                    "FOgLALAS_pk": "1378",
                                    "(No column name)": "1"
                                },
                                {
                                    "SZOBA_ID": "96",
                                    "FOgLALAS_pk": "1438",
                                    "(No column name)": "3"
                                },
                                {
                                    "SZOBA_ID": "96",
                                    "FOgLALAS_pk": "1569",
                                    "(No column name)": "2"
                                },
                                {
                                    "SZOBA_ID": "97",
                                    "FOgLALAS_pk": "635",
                                    "(No column name)": "0"
                                },
                                {
                                    "SZOBA_ID": "97",
                                    "FOgLALAS_pk": "726",
                                    "(No column name)": "3"
                                },
                                {
                                    "SZOBA_ID": "97",
                                    "FOgLALAS_pk": "718",
                                    "(No column name)": "4"
                                },
                                {
                                    "SZOBA_ID": "97",
                                    "FOgLALAS_pk": "836",
                                    "(No column name)": "7"
                                },
                                {
                                    "SZOBA_ID": "97",
                                    "FOgLALAS_pk": "1395",
                                    "(No column name)": "2"
                                },
                                {
                                    "SZOBA_ID": "97",
                                    "FOgLALAS_pk": "1417",
                                    "(No column name)": "1"
                                },
                                {
                                    "SZOBA_ID": "97",
                                    "FOgLALAS_pk": "1528",
                                    "(No column name)": "7"
                                },
                                {
                                    "SZOBA_ID": "98",
                                    "FOgLALAS_pk": "631",
                                    "(No column name)": "0"
                                },
                                {
                                    "SZOBA_ID": "98",
                                    "FOgLALAS_pk": "884",
                                    "(No column name)": "6"
                                },
                                {
                                    "SZOBA_ID": "98",
                                    "FOgLALAS_pk": "1050",
                                    "(No column name)": "5"
                                },
                                {
                                    "SZOBA_ID": "98",
                                    "FOgLALAS_pk": "1402",
                                    "(No column name)": "6"
                                },
                                {
                                    "SZOBA_ID": "99",
                                    "FOgLALAS_pk": "632",
                                    "(No column name)": "0"
                                },
                                {
                                    "SZOBA_ID": "99",
                                    "FOgLALAS_pk": "691",
                                    "(No column name)": "1"
                                },
                                {
                                    "SZOBA_ID": "99",
                                    "FOgLALAS_pk": "1072",
                                    "(No column name)": "5"
                                },
                                {
                                    "SZOBA_ID": "99",
                                    "FOgLALAS_pk": "1408",
                                    "(No column name)": "1"
                                },
                                {
                                    "SZOBA_ID": "99",
                                    "FOgLALAS_pk": "1486",
                                    "(No column name)": "1"
                                },
                                {
                                    "SZOBA_ID": "100",
                                    "FOgLALAS_pk": "597",
                                    "(No column name)": "0"
                                },
                                {
                                    "SZOBA_ID": "100",
                                    "FOgLALAS_pk": "637",
                                    "(No column name)": "1"
                                },
                                {
                                    "SZOBA_ID": "100",
                                    "FOgLALAS_pk": "1315",
                                    "(No column name)": "5"
                                },
                                {
                                    "SZOBA_ID": "100",
                                    "FOgLALAS_pk": "1482",
                                    "(No column name)": "5"
                                },
                                {
                                    "SZOBA_ID": "101",
                                    "FOgLALAS_pk": "715",
                                    "(No column name)": "0"
                                },
                                {
                                    "SZOBA_ID": "101",
                                    "FOgLALAS_pk": "1332",
                                    "(No column name)": "3"
                                },
                                {
                                    "SZOBA_ID": "101",
                                    "FOgLALAS_pk": "1516",
                                    "(No column name)": "6"
                                },
                                {
                                    "SZOBA_ID": "102",
                                    "FOgLALAS_pk": "689",
                                    "(No column name)": "0"
                                },
                                {
                                    "SZOBA_ID": "102",
                                    "FOgLALAS_pk": "1343",
                                    "(No column name)": "5"
                                },
                                {
                                    "SZOBA_ID": "103",
                                    "FOgLALAS_pk": "972",
                                    "(No column name)": "0"
                                },
                                {
                                    "SZOBA_ID": "103",
                                    "FOgLALAS_pk": "992",
                                    "(No column name)": "2"
                                },
                                {
                                    "SZOBA_ID": "103",
                                    "FOgLALAS_pk": "1398",
                                    "(No column name)": "7"
                                },
                                {
                                    "SZOBA_ID": "103",
                                    "FOgLALAS_pk": "1485",
                                    "(No column name)": "1"
                                },
                                {
                                    "SZOBA_ID": "104",
                                    "FOgLALAS_pk": "837",
                                    "(No column name)": "0"
                                },
                                {
                                    "SZOBA_ID": "104",
                                    "FOgLALAS_pk": "1180",
                                    "(No column name)": "4"
                                },
                                {
                                    "SZOBA_ID": "104",
                                    "FOgLALAS_pk": "1522",
                                    "(No column name)": "1"
                                },
                                {
                                    "SZOBA_ID": "104",
                                    "FOgLALAS_pk": "1532",
                                    "(No column name)": "2"
                                },
                                {
                                    "SZOBA_ID": "105",
                                    "FOgLALAS_pk": "618",
                                    "(No column name)": "0"
                                },
                                {
                                    "SZOBA_ID": "105",
                                    "FOgLALAS_pk": "1525",
                                    "(No column name)": "1"
                                },
                                {
                                    "SZOBA_ID": "106",
                                    "FOgLALAS_pk": "610",
                                    "(No column name)": "0"
                                },
                                {
                                    "SZOBA_ID": "106",
                                    "FOgLALAS_pk": "708",
                                    "(No column name)": "3"
                                },
                                {
                                    "SZOBA_ID": "106",
                                    "FOgLALAS_pk": "1228",
                                    "(No column name)": "7"
                                },
                                {
                                    "SZOBA_ID": "106",
                                    "FOgLALAS_pk": "1271",
                                    "(No column name)": "7"
                                },
                                {
                                    "SZOBA_ID": "106",
                                    "FOgLALAS_pk": "1372",
                                    "(No column name)": "5"
                                },
                                {
                                    "SZOBA_ID": "106",
                                    "FOgLALAS_pk": "1510",
                                    "(No column name)": "7"
                                },
                                {
                                    "SZOBA_ID": "107",
                                    "FOgLALAS_pk": "586",
                                    "(No column name)": "0"
                                },
                                {
                                    "SZOBA_ID": "107",
                                    "FOgLALAS_pk": "1250",
                                    "(No column name)": "6"
                                },
                                {
                                    "SZOBA_ID": "107",
                                    "FOgLALAS_pk": "1354",
                                    "(No column name)": "4"
                                },
                                {
                                    "SZOBA_ID": "107",
                                    "FOgLALAS_pk": "1452",
                                    "(No column name)": "1"
                                },
                                {
                                    "SZOBA_ID": "107",
                                    "FOgLALAS_pk": "1494",
                                    "(No column name)": "6"
                                },
                                {
                                    "SZOBA_ID": "108",
                                    "FOgLALAS_pk": "1102",
                                    "(No column name)": "0"
                                },
                                {
                                    "SZOBA_ID": "108",
                                    "FOgLALAS_pk": "1392",
                                    "(No column name)": "1"
                                },
                                {
                                    "SZOBA_ID": "109",
                                    "FOgLALAS_pk": "614",
                                    "(No column name)": "0"
                                },
                                {
                                    "SZOBA_ID": "109",
                                    "FOgLALAS_pk": "621",
                                    "(No column name)": "4"
                                },
                                {
                                    "SZOBA_ID": "109",
                                    "FOgLALAS_pk": "654",
                                    "(No column name)": "7"
                                },
                                {
                                    "SZOBA_ID": "109",
                                    "FOgLALAS_pk": "810",
                                    "(No column name)": "5"
                                },
                                {
                                    "SZOBA_ID": "109",
                                    "FOgLALAS_pk": "1083",
                                    "(No column name)": "2"
                                },
                                {
                                    "SZOBA_ID": "109",
                                    "FOgLALAS_pk": "1298",
                                    "(No column name)": "1"
                                },
                                {
                                    "SZOBA_ID": "109",
                                    "FOgLALAS_pk": "1560",
                                    "(No column name)": "4"
                                },
                                {
                                    "SZOBA_ID": "110",
                                    "FOgLALAS_pk": "931",
                                    "(No column name)": "0"
                                },
                                {
                                    "SZOBA_ID": "110",
                                    "FOgLALAS_pk": "964",
                                    "(No column name)": "5"
                                },
                                {
                                    "SZOBA_ID": "110",
                                    "FOgLALAS_pk": "685",
                                    "(No column name)": "6"
                                },
                                {
                                    "SZOBA_ID": "110",
                                    "FOgLALAS_pk": "1041",
                                    "(No column name)": "1"
                                },
                                {
                                    "SZOBA_ID": "110",
                                    "FOgLALAS_pk": "1109",
                                    "(No column name)": "3"
                                },
                                {
                                    "SZOBA_ID": "110",
                                    "FOgLALAS_pk": "1162",
                                    "(No column name)": "5"
                                },
                                {
                                    "SZOBA_ID": "110",
                                    "FOgLALAS_pk": "1424",
                                    "(No column name)": "2"
                                },
                                {
                                    "SZOBA_ID": "110",
                                    "FOgLALAS_pk": "1489",
                                    "(No column name)": "1"
                                },
                                {
                                    "SZOBA_ID": "111",
                                    "FOgLALAS_pk": "605",
                                    "(No column name)": "0"
                                },
                                {
                                    "SZOBA_ID": "111",
                                    "FOgLALAS_pk": "959",
                                    "(No column name)": "7"
                                },
                                {
                                    "SZOBA_ID": "111",
                                    "FOgLALAS_pk": "786",
                                    "(No column name)": "7"
                                },
                                {
                                    "SZOBA_ID": "111",
                                    "FOgLALAS_pk": "1296",
                                    "(No column name)": "4"
                                },
                                {
                                    "SZOBA_ID": "111",
                                    "FOgLALAS_pk": "1353",
                                    "(No column name)": "3"
                                },
                                {
                                    "SZOBA_ID": "112",
                                    "FOgLALAS_pk": "921",
                                    "(No column name)": "0"
                                },
                                {
                                    "SZOBA_ID": "112",
                                    "FOgLALAS_pk": "776",
                                    "(No column name)": "1"
                                },
                                {
                                    "SZOBA_ID": "112",
                                    "FOgLALAS_pk": "801",
                                    "(No column name)": "4"
                                },
                                {
                                    "SZOBA_ID": "112",
                                    "FOgLALAS_pk": "1124",
                                    "(No column name)": "5"
                                },
                                {
                                    "SZOBA_ID": "112",
                                    "FOgLALAS_pk": "1530",
                                    "(No column name)": "6"
                                },
                                {
                                    "SZOBA_ID": "113",
                                    "FOgLALAS_pk": "1029",
                                    "(No column name)": "0"
                                },
                                {
                                    "SZOBA_ID": "113",
                                    "FOgLALAS_pk": "1085",
                                    "(No column name)": "5"
                                },
                                {
                                    "SZOBA_ID": "113",
                                    "FOgLALAS_pk": "1263",
                                    "(No column name)": "4"
                                },
                                {
                                    "SZOBA_ID": "113",
                                    "FOgLALAS_pk": "1495",
                                    "(No column name)": "1"
                                },
                                {
                                    "SZOBA_ID": "113",
                                    "FOgLALAS_pk": "1499",
                                    "(No column name)": "7"
                                },
                                {
                                    "SZOBA_ID": "114",
                                    "FOgLALAS_pk": "966",
                                    "(No column name)": "0"
                                },
                                {
                                    "SZOBA_ID": "114",
                                    "FOgLALAS_pk": "737",
                                    "(No column name)": "6"
                                },
                                {
                                    "SZOBA_ID": "114",
                                    "FOgLALAS_pk": "827",
                                    "(No column name)": "2"
                                },
                                {
                                    "SZOBA_ID": "114",
                                    "FOgLALAS_pk": "1540",
                                    "(No column name)": "7"
                                },
                                {
                                    "SZOBA_ID": "115",
                                    "FOgLALAS_pk": "596",
                                    "(No column name)": "0"
                                },
                                {
                                    "SZOBA_ID": "115",
                                    "FOgLALAS_pk": "943",
                                    "(No column name)": "7"
                                },
                                {
                                    "SZOBA_ID": "115",
                                    "FOgLALAS_pk": "1121",
                                    "(No column name)": "7"
                                },
                                {
                                    "SZOBA_ID": "115",
                                    "FOgLALAS_pk": "1154",
                                    "(No column name)": "7"
                                },
                                {
                                    "SZOBA_ID": "115",
                                    "FOgLALAS_pk": "1352",
                                    "(No column name)": "4"
                                },
                                {
                                    "SZOBA_ID": "115",
                                    "FOgLALAS_pk": "1554",
                                    "(No column name)": "3"
                                },
                                {
                                    "SZOBA_ID": "115",
                                    "FOgLALAS_pk": "1566",
                                    "(No column name)": "3"
                                },
                                {
                                    "SZOBA_ID": "116",
                                    "FOgLALAS_pk": "1455",
                                    "(No column name)": "0"
                                },
                                {
                                    "SZOBA_ID": "116",
                                    "FOgLALAS_pk": "1501",
                                    "(No column name)": "2"
                                },
                                {
                                    "SZOBA_ID": "117",
                                    "FOgLALAS_pk": "612",
                                    "(No column name)": "0"
                                },
                                {
                                    "SZOBA_ID": "117",
                                    "FOgLALAS_pk": "617",
                                    "(No column name)": "2"
                                },
                                {
                                    "SZOBA_ID": "117",
                                    "FOgLALAS_pk": "953",
                                    "(No column name)": "3"
                                },
                                {
                                    "SZOBA_ID": "117",
                                    "FOgLALAS_pk": "962",
                                    "(No column name)": "5"
                                },
                                {
                                    "SZOBA_ID": "117",
                                    "FOgLALAS_pk": "1002",
                                    "(No column name)": "4"
                                },
                                {
                                    "SZOBA_ID": "117",
                                    "FOgLALAS_pk": "1192",
                                    "(No column name)": "1"
                                },
                                {
                                    "SZOBA_ID": "117",
                                    "FOgLALAS_pk": "1247",
                                    "(No column name)": "2"
                                },
                                {
                                    "SZOBA_ID": "117",
                                    "FOgLALAS_pk": "1468",
                                    "(No column name)": "3"
                                },
                                {
                                    "SZOBA_ID": "118",
                                    "FOgLALAS_pk": "864",
                                    "(No column name)": "0"
                                },
                                {
                                    "SZOBA_ID": "118",
                                    "FOgLALAS_pk": "994",
                                    "(No column name)": "6"
                                },
                                {
                                    "SZOBA_ID": "118",
                                    "FOgLALAS_pk": "996",
                                    "(No column name)": "7"
                                },
                                {
                                    "SZOBA_ID": "118",
                                    "FOgLALAS_pk": "716",
                                    "(No column name)": "3"
                                },
                                {
                                    "SZOBA_ID": "118",
                                    "FOgLALAS_pk": "1374",
                                    "(No column name)": "1"
                                },
                                {
                                    "SZOBA_ID": "118",
                                    "FOgLALAS_pk": "1472",
                                    "(No column name)": "5"
                                },
                                {
                                    "SZOBA_ID": "118",
                                    "FOgLALAS_pk": "1481",
                                    "(No column name)": "6"
                                },
                                {
                                    "SZOBA_ID": "119",
                                    "FOgLALAS_pk": "1026",
                                    "(No column name)": "0"
                                },
                                {
                                    "SZOBA_ID": "119",
                                    "FOgLALAS_pk": "706",
                                    "(No column name)": "3"
                                },
                                {
                                    "SZOBA_ID": "119",
                                    "FOgLALAS_pk": "722",
                                    "(No column name)": "2"
                                },
                                {
                                    "SZOBA_ID": "119",
                                    "FOgLALAS_pk": "1413",
                                    "(No column name)": "1"
                                },
                                {
                                    "SZOBA_ID": "119",
                                    "FOgLALAS_pk": "1488",
                                    "(No column name)": "3"
                                },
                                {
                                    "SZOBA_ID": "120",
                                    "FOgLALAS_pk": "998",
                                    "(No column name)": "0"
                                },
                                {
                                    "SZOBA_ID": "120",
                                    "FOgLALAS_pk": "762",
                                    "(No column name)": "3"
                                },
                                {
                                    "SZOBA_ID": "120",
                                    "FOgLALAS_pk": "1089",
                                    "(No column name)": "3"
                                },
                                {
                                    "SZOBA_ID": "120",
                                    "FOgLALAS_pk": "1339",
                                    "(No column name)": "6"
                                },
                                {
                                    "SZOBA_ID": "120",
                                    "FOgLALAS_pk": "1483",
                                    "(No column name)": "6"
                                },
                                {
                                    "SZOBA_ID": "120",
                                    "FOgLALAS_pk": "1493",
                                    "(No column name)": "1"
                                },
                                {
                                    "SZOBA_ID": "121",
                                    "FOgLALAS_pk": "858",
                                    "(No column name)": "0"
                                },
                                {
                                    "SZOBA_ID": "121",
                                    "FOgLALAS_pk": "735",
                                    "(No column name)": "5"
                                },
                                {
                                    "SZOBA_ID": "121",
                                    "FOgLALAS_pk": "739",
                                    "(No column name)": "6"
                                },
                                {
                                    "SZOBA_ID": "121",
                                    "FOgLALAS_pk": "1049",
                                    "(No column name)": "6"
                                },
                                {
                                    "SZOBA_ID": "121",
                                    "FOgLALAS_pk": "1128",
                                    "(No column name)": "3"
                                },
                                {
                                    "SZOBA_ID": "121",
                                    "FOgLALAS_pk": "1215",
                                    "(No column name)": "4"
                                },
                                {
                                    "SZOBA_ID": "121",
                                    "FOgLALAS_pk": "1373",
                                    "(No column name)": "4"
                                },
                                {
                                    "SZOBA_ID": "121",
                                    "FOgLALAS_pk": "1393",
                                    "(No column name)": "5"
                                },
                                {
                                    "SZOBA_ID": "122",
                                    "FOgLALAS_pk": "1007",
                                    "(No column name)": "0"
                                },
                                {
                                    "SZOBA_ID": "122",
                                    "FOgLALAS_pk": "1036",
                                    "(No column name)": "2"
                                },
                                {
                                    "SZOBA_ID": "122",
                                    "FOgLALAS_pk": "1062",
                                    "(No column name)": "2"
                                },
                                {
                                    "SZOBA_ID": "122",
                                    "FOgLALAS_pk": "1166",
                                    "(No column name)": "3"
                                },
                                {
                                    "SZOBA_ID": "122",
                                    "FOgLALAS_pk": "1209",
                                    "(No column name)": "4"
                                },
                                {
                                    "SZOBA_ID": "122",
                                    "FOgLALAS_pk": "1245",
                                    "(No column name)": "1"
                                },
                                {
                                    "SZOBA_ID": "122",
                                    "FOgLALAS_pk": "1337",
                                    "(No column name)": "2"
                                },
                                {
                                    "SZOBA_ID": "122",
                                    "FOgLALAS_pk": "1385",
                                    "(No column name)": "2"
                                },
                                {
                                    "SZOBA_ID": "122",
                                    "FOgLALAS_pk": "1440",
                                    "(No column name)": "5"
                                },
                                {
                                    "SZOBA_ID": "123",
                                    "FOgLALAS_pk": "587",
                                    "(No column name)": "0"
                                },
                                {
                                    "SZOBA_ID": "123",
                                    "FOgLALAS_pk": "923",
                                    "(No column name)": "7"
                                },
                                {
                                    "SZOBA_ID": "123",
                                    "FOgLALAS_pk": "967",
                                    "(No column name)": "4"
                                },
                                {
                                    "SZOBA_ID": "123",
                                    "FOgLALAS_pk": "1223",
                                    "(No column name)": "5"
                                },
                                {
                                    "SZOBA_ID": "123",
                                    "FOgLALAS_pk": "1282",
                                    "(No column name)": "1"
                                },
                                {
                                    "SZOBA_ID": "124",
                                    "FOgLALAS_pk": "861",
                                    "(No column name)": "0"
                                },
                                {
                                    "SZOBA_ID": "124",
                                    "FOgLALAS_pk": "1210",
                                    "(No column name)": "1"
                                },
                                {
                                    "SZOBA_ID": "124",
                                    "FOgLALAS_pk": "1330",
                                    "(No column name)": "4"
                                },
                                {
                                    "SZOBA_ID": "124",
                                    "FOgLALAS_pk": "1403",
                                    "(No column name)": "7"
                                },
                                {
                                    "SZOBA_ID": "124",
                                    "FOgLALAS_pk": "1419",
                                    "(No column name)": "6"
                                },
                                {
                                    "SZOBA_ID": "124",
                                    "FOgLALAS_pk": "1531",
                                    "(No column name)": "3"
                                },
                                {
                                    "SZOBA_ID": "125",
                                    "FOgLALAS_pk": "576",
                                    "(No column name)": "0"
                                },
                                {
                                    "SZOBA_ID": "126",
                                    "FOgLALAS_pk": "754",
                                    "(No column name)": "0"
                                },
                                {
                                    "SZOBA_ID": "126",
                                    "FOgLALAS_pk": "806",
                                    "(No column name)": "4"
                                },
                                {
                                    "SZOBA_ID": "126",
                                    "FOgLALAS_pk": "1134",
                                    "(No column name)": "6"
                                },
                                {
                                    "SZOBA_ID": "126",
                                    "FOgLALAS_pk": "1364",
                                    "(No column name)": "1"
                                },
                                {
                                    "SZOBA_ID": "126",
                                    "FOgLALAS_pk": "1428",
                                    "(No column name)": "6"
                                },
                                {
                                    "SZOBA_ID": "126",
                                    "FOgLALAS_pk": "1500",
                                    "(No column name)": "7"
                                },
                                {
                                    "SZOBA_ID": "127",
                                    "FOgLALAS_pk": "643",
                                    "(No column name)": "0"
                                },
                                {
                                    "SZOBA_ID": "127",
                                    "FOgLALAS_pk": "853",
                                    "(No column name)": "2"
                                },
                                {
                                    "SZOBA_ID": "127",
                                    "FOgLALAS_pk": "879",
                                    "(No column name)": "5"
                                },
                                {
                                    "SZOBA_ID": "127",
                                    "FOgLALAS_pk": "1034",
                                    "(No column name)": "2"
                                },
                                {
                                    "SZOBA_ID": "127",
                                    "FOgLALAS_pk": "1226",
                                    "(No column name)": "6"
                                },
                                {
                                    "SZOBA_ID": "127",
                                    "FOgLALAS_pk": "1286",
                                    "(No column name)": "5"
                                },
                                {
                                    "SZOBA_ID": "127",
                                    "FOgLALAS_pk": "1579",
                                    "(No column name)": "1"
                                },
                                {
                                    "SZOBA_ID": "128",
                                    "FOgLALAS_pk": "717",
                                    "(No column name)": "0"
                                },
                                {
                                    "SZOBA_ID": "128",
                                    "FOgLALAS_pk": "815",
                                    "(No column name)": "2"
                                },
                                {
                                    "SZOBA_ID": "128",
                                    "FOgLALAS_pk": "1290",
                                    "(No column name)": "1"
                                },
                                {
                                    "SZOBA_ID": "128",
                                    "FOgLALAS_pk": "1574",
                                    "(No column name)": "1"
                                },
                                {
                                    "SZOBA_ID": "128",
                                    "FOgLALAS_pk": "1583",
                                    "(No column name)": "1"
                                },
                                {
                                    "SZOBA_ID": "129",
                                    "FOgLALAS_pk": "723",
                                    "(No column name)": "0"
                                },
                                {
                                    "SZOBA_ID": "129",
                                    "FOgLALAS_pk": "1360",
                                    "(No column name)": "7"
                                },
                                {
                                    "SZOBA_ID": "129",
                                    "FOgLALAS_pk": "1445",
                                    "(No column name)": "6"
                                },
                                {
                                    "SZOBA_ID": "129",
                                    "FOgLALAS_pk": "1509",
                                    "(No column name)": "7"
                                },
                                {
                                    "SZOBA_ID": "130",
                                    "FOgLALAS_pk": "580",
                                    "(No column name)": "0"
                                },
                                {
                                    "SZOBA_ID": "130",
                                    "FOgLALAS_pk": "613",
                                    "(No column name)": "3"
                                },
                                {
                                    "SZOBA_ID": "130",
                                    "FOgLALAS_pk": "910",
                                    "(No column name)": "3"
                                },
                                {
                                    "SZOBA_ID": "130",
                                    "FOgLALAS_pk": "779",
                                    "(No column name)": "2"
                                },
                                {
                                    "SZOBA_ID": "130",
                                    "FOgLALAS_pk": "1040",
                                    "(No column name)": "6"
                                },
                                {
                                    "SZOBA_ID": "130",
                                    "FOgLALAS_pk": "1475",
                                    "(No column name)": "1"
                                },
                                {
                                    "SZOBA_ID": "131",
                                    "FOgLALAS_pk": "559",
                                    "(No column name)": "0"
                                },
                                {
                                    "SZOBA_ID": "131",
                                    "FOgLALAS_pk": "655",
                                    "(No column name)": "2"
                                },
                                {
                                    "SZOBA_ID": "131",
                                    "FOgLALAS_pk": "881",
                                    "(No column name)": "1"
                                },
                                {
                                    "SZOBA_ID": "131",
                                    "FOgLALAS_pk": "760",
                                    "(No column name)": "6"
                                },
                                {
                                    "SZOBA_ID": "131",
                                    "FOgLALAS_pk": "1474",
                                    "(No column name)": "4"
                                },
                                {
                                    "SZOBA_ID": "132",
                                    "FOgLALAS_pk": "619",
                                    "(No column name)": "0"
                                },
                                {
                                    "SZOBA_ID": "132",
                                    "FOgLALAS_pk": "999",
                                    "(No column name)": "7"
                                },
                                {
                                    "SZOBA_ID": "132",
                                    "FOgLALAS_pk": "1090",
                                    "(No column name)": "6"
                                },
                                {
                                    "SZOBA_ID": "132",
                                    "FOgLALAS_pk": "1111",
                                    "(No column name)": "7"
                                },
                                {
                                    "SZOBA_ID": "132",
                                    "FOgLALAS_pk": "1301",
                                    "(No column name)": "3"
                                },
                                {
                                    "SZOBA_ID": "132",
                                    "FOgLALAS_pk": "1519",
                                    "(No column name)": "2"
                                },
                                {
                                    "SZOBA_ID": "133",
                                    "FOgLALAS_pk": "909",
                                    "(No column name)": "0"
                                },
                                {
                                    "SZOBA_ID": "133",
                                    "FOgLALAS_pk": "988",
                                    "(No column name)": "4"
                                },
                                {
                                    "SZOBA_ID": "133",
                                    "FOgLALAS_pk": "1149",
                                    "(No column name)": "3"
                                },
                                {
                                    "SZOBA_ID": "133",
                                    "FOgLALAS_pk": "1306",
                                    "(No column name)": "7"
                                },
                                {
                                    "SZOBA_ID": "133",
                                    "FOgLALAS_pk": "1363",
                                    "(No column name)": "3"
                                },
                                {
                                    "SZOBA_ID": "133",
                                    "FOgLALAS_pk": "1409",
                                    "(No column name)": "5"
                                },
                                {
                                    "SZOBA_ID": "134",
                                    "FOgLALAS_pk": "1004",
                                    "(No column name)": "0"
                                },
                                {
                                    "SZOBA_ID": "134",
                                    "FOgLALAS_pk": "1024",
                                    "(No column name)": "5"
                                },
                                {
                                    "SZOBA_ID": "134",
                                    "FOgLALAS_pk": "1045",
                                    "(No column name)": "1"
                                },
                                {
                                    "SZOBA_ID": "134",
                                    "FOgLALAS_pk": "1178",
                                    "(No column name)": "2"
                                },
                                {
                                    "SZOBA_ID": "134",
                                    "FOgLALAS_pk": "1219",
                                    "(No column name)": "7"
                                },
                                {
                                    "SZOBA_ID": "134",
                                    "FOgLALAS_pk": "1535",
                                    "(No column name)": "6"
                                },
                                {
                                    "SZOBA_ID": "135",
                                    "FOgLALAS_pk": "724",
                                    "(No column name)": "0"
                                },
                                {
                                    "SZOBA_ID": "135",
                                    "FOgLALAS_pk": "849",
                                    "(No column name)": "6"
                                },
                                {
                                    "SZOBA_ID": "135",
                                    "FOgLALAS_pk": "1289",
                                    "(No column name)": "7"
                                },
                                {
                                    "SZOBA_ID": "136",
                                    "FOgLALAS_pk": "584",
                                    "(No column name)": "0"
                                },
                                {
                                    "SZOBA_ID": "136",
                                    "FOgLALAS_pk": "661",
                                    "(No column name)": "2"
                                },
                                {
                                    "SZOBA_ID": "136",
                                    "FOgLALAS_pk": "1046",
                                    "(No column name)": "5"
                                },
                                {
                                    "SZOBA_ID": "137",
                                    "FOgLALAS_pk": "582",
                                    "(No column name)": "0"
                                },
                                {
                                    "SZOBA_ID": "137",
                                    "FOgLALAS_pk": "649",
                                    "(No column name)": "3"
                                },
                                {
                                    "SZOBA_ID": "137",
                                    "FOgLALAS_pk": "657",
                                    "(No column name)": "5"
                                },
                                {
                                    "SZOBA_ID": "137",
                                    "FOgLALAS_pk": "1014",
                                    "(No column name)": "6"
                                },
                                {
                                    "SZOBA_ID": "137",
                                    "FOgLALAS_pk": "1201",
                                    "(No column name)": "1"
                                },
                                {
                                    "SZOBA_ID": "137",
                                    "FOgLALAS_pk": "1280",
                                    "(No column name)": "6"
                                },
                                {
                                    "SZOBA_ID": "138",
                                    "FOgLALAS_pk": "768",
                                    "(No column name)": "0"
                                },
                                {
                                    "SZOBA_ID": "138",
                                    "FOgLALAS_pk": "796",
                                    "(No column name)": "6"
                                },
                                {
                                    "SZOBA_ID": "138",
                                    "FOgLALAS_pk": "1256",
                                    "(No column name)": "4"
                                },
                                {
                                    "SZOBA_ID": "138",
                                    "FOgLALAS_pk": "1283",
                                    "(No column name)": "4"
                                },
                                {
                                    "SZOBA_ID": "138",
                                    "FOgLALAS_pk": "1294",
                                    "(No column name)": "2"
                                },
                                {
                                    "SZOBA_ID": "138",
                                    "FOgLALAS_pk": "1358",
                                    "(No column name)": "5"
                                },
                                {
                                    "SZOBA_ID": "138",
                                    "FOgLALAS_pk": "1370",
                                    "(No column name)": "7"
                                },
                                {
                                    "SZOBA_ID": "139",
                                    "FOgLALAS_pk": "579",
                                    "(No column name)": "0"
                                },
                                {
                                    "SZOBA_ID": "139",
                                    "FOgLALAS_pk": "745",
                                    "(No column name)": "2"
                                },
                                {
                                    "SZOBA_ID": "139",
                                    "FOgLALAS_pk": "751",
                                    "(No column name)": "1"
                                },
                                {
                                    "SZOBA_ID": "139",
                                    "FOgLALAS_pk": "1042",
                                    "(No column name)": "4"
                                },
                                {
                                    "SZOBA_ID": "139",
                                    "FOgLALAS_pk": "1064",
                                    "(No column name)": "2"
                                },
                                {
                                    "SZOBA_ID": "139",
                                    "FOgLALAS_pk": "1433",
                                    "(No column name)": "6"
                                },
                                {
                                    "SZOBA_ID": "139",
                                    "FOgLALAS_pk": "1450",
                                    "(No column name)": "6"
                                },
                                {
                                    "SZOBA_ID": "140",
                                    "FOgLALAS_pk": "915",
                                    "(No column name)": "0"
                                },
                                {
                                    "SZOBA_ID": "140",
                                    "FOgLALAS_pk": "733",
                                    "(No column name)": "2"
                                },
                                {
                                    "SZOBA_ID": "140",
                                    "FOgLALAS_pk": "1098",
                                    "(No column name)": "1"
                                },
                                {
                                    "SZOBA_ID": "140",
                                    "FOgLALAS_pk": "1156",
                                    "(No column name)": "2"
                                },
                                {
                                    "SZOBA_ID": "140",
                                    "FOgLALAS_pk": "1259",
                                    "(No column name)": "3"
                                },
                                {
                                    "SZOBA_ID": "140",
                                    "FOgLALAS_pk": "1357",
                                    "(No column name)": "7"
                                },
                                {
                                    "SZOBA_ID": "140",
                                    "FOgLALAS_pk": "1361",
                                    "(No column name)": "4"
                                },
                                {
                                    "SZOBA_ID": "140",
                                    "FOgLALAS_pk": "1371",
                                    "(No column name)": "3"
                                },
                                {
                                    "SZOBA_ID": "141",
                                    "FOgLALAS_pk": "565",
                                    "(No column name)": "0"
                                },
                                {
                                    "SZOBA_ID": "141",
                                    "FOgLALAS_pk": "908",
                                    "(No column name)": "6"
                                },
                                {
                                    "SZOBA_ID": "141",
                                    "FOgLALAS_pk": "761",
                                    "(No column name)": "2"
                                },
                                {
                                    "SZOBA_ID": "141",
                                    "FOgLALAS_pk": "784",
                                    "(No column name)": "3"
                                },
                                {
                                    "SZOBA_ID": "141",
                                    "FOgLALAS_pk": "1254",
                                    "(No column name)": "7"
                                },
                                {
                                    "SZOBA_ID": "141",
                                    "FOgLALAS_pk": "1401",
                                    "(No column name)": "4"
                                },
                                {
                                    "SZOBA_ID": "142",
                                    "FOgLALAS_pk": "1369",
                                    "(No column name)": "0"
                                },
                                {
                                    "SZOBA_ID": "142",
                                    "FOgLALAS_pk": "1545",
                                    "(No column name)": "6"
                                },
                                {
                                    "SZOBA_ID": "143",
                                    "FOgLALAS_pk": "980",
                                    "(No column name)": "0"
                                },
                                {
                                    "SZOBA_ID": "143",
                                    "FOgLALAS_pk": "1155",
                                    "(No column name)": "3"
                                },
                                {
                                    "SZOBA_ID": "143",
                                    "FOgLALAS_pk": "1193",
                                    "(No column name)": "7"
                                },
                                {
                                    "SZOBA_ID": "143",
                                    "FOgLALAS_pk": "1222",
                                    "(No column name)": "6"
                                },
                                {
                                    "SZOBA_ID": "143",
                                    "FOgLALAS_pk": "1313",
                                    "(No column name)": "2"
                                },
                                {
                                    "SZOBA_ID": "143",
                                    "FOgLALAS_pk": "1394",
                                    "(No column name)": "4"
                                },
                                {
                                    "SZOBA_ID": "143",
                                    "FOgLALAS_pk": "1448",
                                    "(No column name)": "3"
                                },
                                {
                                    "SZOBA_ID": "144",
                                    "FOgLALAS_pk": "581",
                                    "(No column name)": "0"
                                },
                                {
                                    "SZOBA_ID": "144",
                                    "FOgLALAS_pk": "1087",
                                    "(No column name)": "4"
                                },
                                {
                                    "SZOBA_ID": "144",
                                    "FOgLALAS_pk": "1199",
                                    "(No column name)": "2"
                                },
                                {
                                    "SZOBA_ID": "144",
                                    "FOgLALAS_pk": "1297",
                                    "(No column name)": "7"
                                },
                                {
                                    "SZOBA_ID": "144",
                                    "FOgLALAS_pk": "1572",
                                    "(No column name)": "1"
                                },
                                {
                                    "SZOBA_ID": "145",
                                    "FOgLALAS_pk": "703",
                                    "(No column name)": "0"
                                },
                                {
                                    "SZOBA_ID": "145",
                                    "FOgLALAS_pk": "1077",
                                    "(No column name)": "4"
                                },
                                {
                                    "SZOBA_ID": "145",
                                    "FOgLALAS_pk": "1120",
                                    "(No column name)": "1"
                                },
                                {
                                    "SZOBA_ID": "145",
                                    "FOgLALAS_pk": "1145",
                                    "(No column name)": "1"
                                },
                                {
                                    "SZOBA_ID": "145",
                                    "FOgLALAS_pk": "1338",
                                    "(No column name)": "4"
                                },
                                {
                                    "SZOBA_ID": "145",
                                    "FOgLALAS_pk": "1471",
                                    "(No column name)": "2"
                                },
                                {
                                    "SZOBA_ID": "146",
                                    "FOgLALAS_pk": "890",
                                    "(No column name)": "0"
                                },
                                {
                                    "SZOBA_ID": "146",
                                    "FOgLALAS_pk": "664",
                                    "(No column name)": "3"
                                },
                                {
                                    "SZOBA_ID": "146",
                                    "FOgLALAS_pk": "789",
                                    "(No column name)": "3"
                                },
                                {
                                    "SZOBA_ID": "146",
                                    "FOgLALAS_pk": "804",
                                    "(No column name)": "7"
                                },
                                {
                                    "SZOBA_ID": "146",
                                    "FOgLALAS_pk": "1032",
                                    "(No column name)": "7"
                                },
                                {
                                    "SZOBA_ID": "146",
                                    "FOgLALAS_pk": "1479",
                                    "(No column name)": "5"
                                },
                                {
                                    "SZOBA_ID": "147",
                                    "FOgLALAS_pk": "771",
                                    "(No column name)": "0"
                                },
                                {
                                    "SZOBA_ID": "148",
                                    "FOgLALAS_pk": "678",
                                    "(No column name)": "0"
                                },
                                {
                                    "SZOBA_ID": "148",
                                    "FOgLALAS_pk": "765",
                                    "(No column name)": "4"
                                },
                                {
                                    "SZOBA_ID": "148",
                                    "FOgLALAS_pk": "783",
                                    "(No column name)": "3"
                                },
                                {
                                    "SZOBA_ID": "148",
                                    "FOgLALAS_pk": "808",
                                    "(No column name)": "7"
                                },
                                {
                                    "SZOBA_ID": "148",
                                    "FOgLALAS_pk": "812",
                                    "(No column name)": "2"
                                },
                                {
                                    "SZOBA_ID": "148",
                                    "FOgLALAS_pk": "1578",
                                    "(No column name)": "6"
                                },
                                {
                                    "SZOBA_ID": "149",
                                    "FOgLALAS_pk": "591",
                                    "(No column name)": "0"
                                },
                                {
                                    "SZOBA_ID": "149",
                                    "FOgLALAS_pk": "652",
                                    "(No column name)": "1"
                                },
                                {
                                    "SZOBA_ID": "149",
                                    "FOgLALAS_pk": "833",
                                    "(No column name)": "1"
                                },
                                {
                                    "SZOBA_ID": "149",
                                    "FOgLALAS_pk": "834",
                                    "(No column name)": "2"
                                },
                                {
                                    "SZOBA_ID": "149",
                                    "FOgLALAS_pk": "843",
                                    "(No column name)": "5"
                                },
                                {
                                    "SZOBA_ID": "149",
                                    "FOgLALAS_pk": "1146",
                                    "(No column name)": "4"
                                },
                                {
                                    "SZOBA_ID": "149",
                                    "FOgLALAS_pk": "1514",
                                    "(No column name)": "6"
                                },
                                {
                                    "SZOBA_ID": "150",
                                    "FOgLALAS_pk": "641",
                                    "(No column name)": "0"
                                },
                                {
                                    "SZOBA_ID": "150",
                                    "FOgLALAS_pk": "1100",
                                    "(No column name)": "3"
                                },
                                {
                                    "SZOBA_ID": "150",
                                    "FOgLALAS_pk": "1105",
                                    "(No column name)": "5"
                                },
                                {
                                    "SZOBA_ID": "150",
                                    "FOgLALAS_pk": "1177",
                                    "(No column name)": "1"
                                },
                                {
                                    "SZOBA_ID": "150",
                                    "FOgLALAS_pk": "1203",
                                    "(No column name)": "1"
                                },
                                {
                                    "SZOBA_ID": "150",
                                    "FOgLALAS_pk": "1432",
                                    "(No column name)": "4"
                                },
                                {
                                    "SZOBA_ID": "151",
                                    "FOgLALAS_pk": "893",
                                    "(No column name)": "0"
                                },
                                {
                                    "SZOBA_ID": "151",
                                    "FOgLALAS_pk": "1058",
                                    "(No column name)": "3"
                                },
                                {
                                    "SZOBA_ID": "151",
                                    "FOgLALAS_pk": "1115",
                                    "(No column name)": "3"
                                },
                                {
                                    "SZOBA_ID": "152",
                                    "FOgLALAS_pk": "730",
                                    "(No column name)": "0"
                                },
                                {
                                    "SZOBA_ID": "152",
                                    "FOgLALAS_pk": "1160",
                                    "(No column name)": "2"
                                },
                                {
                                    "SZOBA_ID": "152",
                                    "FOgLALAS_pk": "1197",
                                    "(No column name)": "7"
                                },
                                {
                                    "SZOBA_ID": "152",
                                    "FOgLALAS_pk": "1558",
                                    "(No column name)": "6"
                                },
                                {
                                    "SZOBA_ID": "153",
                                    "FOgLALAS_pk": "594",
                                    "(No column name)": "0"
                                },
                                {
                                    "SZOBA_ID": "153",
                                    "FOgLALAS_pk": "969",
                                    "(No column name)": "3"
                                },
                                {
                                    "SZOBA_ID": "153",
                                    "FOgLALAS_pk": "1460",
                                    "(No column name)": "6"
                                },
                                {
                                    "SZOBA_ID": "153",
                                    "FOgLALAS_pk": "1470",
                                    "(No column name)": "3"
                                },
                                {
                                    "SZOBA_ID": "153",
                                    "FOgLALAS_pk": "1507",
                                    "(No column name)": "5"
                                },
                                {
                                    "SZOBA_ID": "154",
                                    "FOgLALAS_pk": "968",
                                    "(No column name)": "0"
                                },
                                {
                                    "SZOBA_ID": "154",
                                    "FOgLALAS_pk": "1061",
                                    "(No column name)": "1"
                                },
                                {
                                    "SZOBA_ID": "154",
                                    "FOgLALAS_pk": "1168",
                                    "(No column name)": "7"
                                },
                                {
                                    "SZOBA_ID": "154",
                                    "FOgLALAS_pk": "1262",
                                    "(No column name)": "6"
                                },
                                {
                                    "SZOBA_ID": "154",
                                    "FOgLALAS_pk": "1539",
                                    "(No column name)": "1"
                                },
                                {
                                    "SZOBA_ID": "155",
                                    "FOgLALAS_pk": "575",
                                    "(No column name)": "0"
                                },
                                {
                                    "SZOBA_ID": "155",
                                    "FOgLALAS_pk": "577",
                                    "(No column name)": "1"
                                },
                                {
                                    "SZOBA_ID": "155",
                                    "FOgLALAS_pk": "1112",
                                    "(No column name)": "3"
                                },
                                {
                                    "SZOBA_ID": "155",
                                    "FOgLALAS_pk": "1310",
                                    "(No column name)": "4"
                                },
                                {
                                    "SZOBA_ID": "155",
                                    "FOgLALAS_pk": "1541",
                                    "(No column name)": "1"
                                },
                                {
                                    "SZOBA_ID": "156",
                                    "FOgLALAS_pk": "588",
                                    "(No column name)": "0"
                                },
                                {
                                    "SZOBA_ID": "156",
                                    "FOgLALAS_pk": "907",
                                    "(No column name)": "7"
                                },
                                {
                                    "SZOBA_ID": "156",
                                    "FOgLALAS_pk": "956",
                                    "(No column name)": "3"
                                },
                                {
                                    "SZOBA_ID": "156",
                                    "FOgLALAS_pk": "692",
                                    "(No column name)": "6"
                                },
                                {
                                    "SZOBA_ID": "156",
                                    "FOgLALAS_pk": "1462",
                                    "(No column name)": "6"
                                },
                                {
                                    "SZOBA_ID": "156",
                                    "FOgLALAS_pk": "1490",
                                    "(No column name)": "7"
                                },
                                {
                                    "SZOBA_ID": "156",
                                    "FOgLALAS_pk": "1561",
                                    "(No column name)": "1"
                                },
                                {
                                    "SZOBA_ID": "157",
                                    "FOgLALAS_pk": "648",
                                    "(No column name)": "0"
                                },
                                {
                                    "SZOBA_ID": "157",
                                    "FOgLALAS_pk": "1025",
                                    "(No column name)": "4"
                                },
                                {
                                    "SZOBA_ID": "157",
                                    "FOgLALAS_pk": "1047",
                                    "(No column name)": "3"
                                },
                                {
                                    "SZOBA_ID": "157",
                                    "FOgLALAS_pk": "1240",
                                    "(No column name)": "4"
                                },
                                {
                                    "SZOBA_ID": "157",
                                    "FOgLALAS_pk": "1551",
                                    "(No column name)": "7"
                                },
                                {
                                    "SZOBA_ID": "158",
                                    "FOgLALAS_pk": "825",
                                    "(No column name)": "0"
                                },
                                {
                                    "SZOBA_ID": "158",
                                    "FOgLALAS_pk": "840",
                                    "(No column name)": "4"
                                },
                                {
                                    "SZOBA_ID": "158",
                                    "FOgLALAS_pk": "1117",
                                    "(No column name)": "4"
                                },
                                {
                                    "SZOBA_ID": "160",
                                    "FOgLALAS_pk": "922",
                                    "(No column name)": "0"
                                },
                                {
                                    "SZOBA_ID": "160",
                                    "FOgLALAS_pk": "927",
                                    "(No column name)": "2"
                                },
                                {
                                    "SZOBA_ID": "160",
                                    "FOgLALAS_pk": "933",
                                    "(No column name)": "4"
                                },
                                {
                                    "SZOBA_ID": "160",
                                    "FOgLALAS_pk": "720",
                                    "(No column name)": "4"
                                },
                                {
                                    "SZOBA_ID": "160",
                                    "FOgLALAS_pk": "1565",
                                    "(No column name)": "2"
                                },
                                {
                                    "SZOBA_ID": "161",
                                    "FOgLALAS_pk": "639",
                                    "(No column name)": "0"
                                },
                                {
                                    "SZOBA_ID": "161",
                                    "FOgLALAS_pk": "653",
                                    "(No column name)": "4"
                                },
                                {
                                    "SZOBA_ID": "161",
                                    "FOgLALAS_pk": "911",
                                    "(No column name)": "7"
                                },
                                {
                                    "SZOBA_ID": "161",
                                    "FOgLALAS_pk": "1068",
                                    "(No column name)": "4"
                                },
                                {
                                    "SZOBA_ID": "161",
                                    "FOgLALAS_pk": "1190",
                                    "(No column name)": "6"
                                },
                                {
                                    "SZOBA_ID": "161",
                                    "FOgLALAS_pk": "1571",
                                    "(No column name)": "7"
                                },
                                {
                                    "SZOBA_ID": "162",
                                    "FOgLALAS_pk": "599",
                                    "(No column name)": "0"
                                },
                                {
                                    "SZOBA_ID": "162",
                                    "FOgLALAS_pk": "1205",
                                    "(No column name)": "4"
                                },
                                {
                                    "SZOBA_ID": "162",
                                    "FOgLALAS_pk": "1400",
                                    "(No column name)": "6"
                                },
                                {
                                    "SZOBA_ID": "163",
                                    "FOgLALAS_pk": "630",
                                    "(No column name)": "0"
                                },
                                {
                                    "SZOBA_ID": "163",
                                    "FOgLALAS_pk": "941",
                                    "(No column name)": "2"
                                },
                                {
                                    "SZOBA_ID": "163",
                                    "FOgLALAS_pk": "782",
                                    "(No column name)": "1"
                                },
                                {
                                    "SZOBA_ID": "163",
                                    "FOgLALAS_pk": "1075",
                                    "(No column name)": "3"
                                },
                                {
                                    "SZOBA_ID": "163",
                                    "FOgLALAS_pk": "1107",
                                    "(No column name)": "4"
                                },
                                {
                                    "SZOBA_ID": "163",
                                    "FOgLALAS_pk": "1265",
                                    "(No column name)": "3"
                                },
                                {
                                    "SZOBA_ID": "163",
                                    "FOgLALAS_pk": "1487",
                                    "(No column name)": "5"
                                },
                                {
                                    "SZOBA_ID": "164",
                                    "FOgLALAS_pk": "570",
                                    "(No column name)": "0"
                                },
                                {
                                    "SZOBA_ID": "164",
                                    "FOgLALAS_pk": "1010",
                                    "(No column name)": "7"
                                },
                                {
                                    "SZOBA_ID": "164",
                                    "FOgLALAS_pk": "742",
                                    "(No column name)": "2"
                                },
                                {
                                    "SZOBA_ID": "164",
                                    "FOgLALAS_pk": "1284",
                                    "(No column name)": "6"
                                },
                                {
                                    "SZOBA_ID": "164",
                                    "FOgLALAS_pk": "1292",
                                    "(No column name)": "4"
                                },
                                {
                                    "SZOBA_ID": "165",
                                    "FOgLALAS_pk": "640",
                                    "(No column name)": "0"
                                },
                                {
                                    "SZOBA_ID": "165",
                                    "FOgLALAS_pk": "857",
                                    "(No column name)": "3"
                                },
                                {
                                    "SZOBA_ID": "165",
                                    "FOgLALAS_pk": "900",
                                    "(No column name)": "5"
                                },
                                {
                                    "SZOBA_ID": "165",
                                    "FOgLALAS_pk": "897",
                                    "(No column name)": "6"
                                },
                                {
                                    "SZOBA_ID": "165",
                                    "FOgLALAS_pk": "892",
                                    "(No column name)": "6"
                                },
                                {
                                    "SZOBA_ID": "165",
                                    "FOgLALAS_pk": "1141",
                                    "(No column name)": "3"
                                },
                                {
                                    "SZOBA_ID": "165",
                                    "FOgLALAS_pk": "1375",
                                    "(No column name)": "1"
                                },
                                {
                                    "SZOBA_ID": "166",
                                    "FOgLALAS_pk": "644",
                                    "(No column name)": "0"
                                },
                                {
                                    "SZOBA_ID": "166",
                                    "FOgLALAS_pk": "781",
                                    "(No column name)": "7"
                                },
                                {
                                    "SZOBA_ID": "166",
                                    "FOgLALAS_pk": "1526",
                                    "(No column name)": "7"
                                },
                                {
                                    "SZOBA_ID": "167",
                                    "FOgLALAS_pk": "854",
                                    "(No column name)": "0"
                                },
                                {
                                    "SZOBA_ID": "167",
                                    "FOgLALAS_pk": "1414",
                                    "(No column name)": "7"
                                },
                                {
                                    "SZOBA_ID": "168",
                                    "FOgLALAS_pk": "930",
                                    "(No column name)": "0"
                                },
                                {
                                    "SZOBA_ID": "168",
                                    "FOgLALAS_pk": "792",
                                    "(No column name)": "3"
                                },
                                {
                                    "SZOBA_ID": "168",
                                    "FOgLALAS_pk": "794",
                                    "(No column name)": "3"
                                },
                                {
                                    "SZOBA_ID": "168",
                                    "FOgLALAS_pk": "1249",
                                    "(No column name)": "4"
                                },
                                {
                                    "SZOBA_ID": "168",
                                    "FOgLALAS_pk": "1266",
                                    "(No column name)": "4"
                                },
                                {
                                    "SZOBA_ID": "169",
                                    "FOgLALAS_pk": "573",
                                    "(No column name)": "0"
                                },
                                {
                                    "SZOBA_ID": "169",
                                    "FOgLALAS_pk": "659",
                                    "(No column name)": "5"
                                },
                                {
                                    "SZOBA_ID": "169",
                                    "FOgLALAS_pk": "974",
                                    "(No column name)": "6"
                                },
                                {
                                    "SZOBA_ID": "169",
                                    "FOgLALAS_pk": "746",
                                    "(No column name)": "1"
                                },
                                {
                                    "SZOBA_ID": "169",
                                    "FOgLALAS_pk": "1356",
                                    "(No column name)": "7"
                                },
                                {
                                    "SZOBA_ID": "169",
                                    "FOgLALAS_pk": "1427",
                                    "(No column name)": "4"
                                },
                                {
                                    "SZOBA_ID": "170",
                                    "FOgLALAS_pk": "567",
                                    "(No column name)": "0"
                                },
                                {
                                    "SZOBA_ID": "170",
                                    "FOgLALAS_pk": "944",
                                    "(No column name)": "7"
                                },
                                {
                                    "SZOBA_ID": "170",
                                    "FOgLALAS_pk": "1194",
                                    "(No column name)": "4"
                                },
                                {
                                    "SZOBA_ID": "170",
                                    "FOgLALAS_pk": "1267",
                                    "(No column name)": "4"
                                },
                                {
                                    "SZOBA_ID": "170",
                                    "FOgLALAS_pk": "1342",
                                    "(No column name)": "7"
                                },
                                {
                                    "SZOBA_ID": "171",
                                    "FOgLALAS_pk": "574",
                                    "(No column name)": "0"
                                },
                                {
                                    "SZOBA_ID": "171",
                                    "FOgLALAS_pk": "981",
                                    "(No column name)": "2"
                                },
                                {
                                    "SZOBA_ID": "171",
                                    "FOgLALAS_pk": "1181",
                                    "(No column name)": "4"
                                },
                                {
                                    "SZOBA_ID": "171",
                                    "FOgLALAS_pk": "1329",
                                    "(No column name)": "6"
                                },
                                {
                                    "SZOBA_ID": "171",
                                    "FOgLALAS_pk": "1567",
                                    "(No column name)": "5"
                                },
                                {
                                    "SZOBA_ID": "172",
                                    "FOgLALAS_pk": "984",
                                    "(No column name)": "0"
                                },
                                {
                                    "SZOBA_ID": "172",
                                    "FOgLALAS_pk": "709",
                                    "(No column name)": "4"
                                },
                                {
                                    "SZOBA_ID": "172",
                                    "FOgLALAS_pk": "749",
                                    "(No column name)": "5"
                                },
                                {
                                    "SZOBA_ID": "172",
                                    "FOgLALAS_pk": "839",
                                    "(No column name)": "6"
                                },
                                {
                                    "SZOBA_ID": "172",
                                    "FOgLALAS_pk": "1142",
                                    "(No column name)": "5"
                                },
                                {
                                    "SZOBA_ID": "172",
                                    "FOgLALAS_pk": "1171",
                                    "(No column name)": "4"
                                },
                                {
                                    "SZOBA_ID": "172",
                                    "FOgLALAS_pk": "1336",
                                    "(No column name)": "5"
                                },
                                {
                                    "SZOBA_ID": "172",
                                    "FOgLALAS_pk": "1421",
                                    "(No column name)": "5"
                                },
                                {
                                    "SZOBA_ID": "172",
                                    "FOgLALAS_pk": "1491",
                                    "(No column name)": "5"
                                },
                                {
                                    "SZOBA_ID": "173",
                                    "FOgLALAS_pk": "913",
                                    "(No column name)": "0"
                                },
                                {
                                    "SZOBA_ID": "173",
                                    "FOgLALAS_pk": "669",
                                    "(No column name)": "1"
                                },
                                {
                                    "SZOBA_ID": "173",
                                    "FOgLALAS_pk": "1350",
                                    "(No column name)": "7"
                                },
                                {
                                    "SZOBA_ID": "173",
                                    "FOgLALAS_pk": "1429",
                                    "(No column name)": "3"
                                },
                                {
                                    "SZOBA_ID": "174",
                                    "FOgLALAS_pk": "917",
                                    "(No column name)": "0"
                                },
                                {
                                    "SZOBA_ID": "174",
                                    "FOgLALAS_pk": "1015",
                                    "(No column name)": "2"
                                },
                                {
                                    "SZOBA_ID": "174",
                                    "FOgLALAS_pk": "682",
                                    "(No column name)": "5"
                                },
                                {
                                    "SZOBA_ID": "174",
                                    "FOgLALAS_pk": "1276",
                                    "(No column name)": "3"
                                },
                                {
                                    "SZOBA_ID": "175",
                                    "FOgLALAS_pk": "867",
                                    "(No column name)": "0"
                                },
                                {
                                    "SZOBA_ID": "175",
                                    "FOgLALAS_pk": "799",
                                    "(No column name)": "6"
                                },
                                {
                                    "SZOBA_ID": "175",
                                    "FOgLALAS_pk": "1094",
                                    "(No column name)": "4"
                                },
                                {
                                    "SZOBA_ID": "175",
                                    "FOgLALAS_pk": "1133",
                                    "(No column name)": "5"
                                },
                                {
                                    "SZOBA_ID": "175",
                                    "FOgLALAS_pk": "1407",
                                    "(No column name)": "2"
                                },
                                {
                                    "SZOBA_ID": "176",
                                    "FOgLALAS_pk": "592",
                                    "(No column name)": "0"
                                },
                                {
                                    "SZOBA_ID": "176",
                                    "FOgLALAS_pk": "1143",
                                    "(No column name)": "5"
                                },
                                {
                                    "SZOBA_ID": "176",
                                    "FOgLALAS_pk": "1278",
                                    "(No column name)": "6"
                                },
                                {
                                    "SZOBA_ID": "176",
                                    "FOgLALAS_pk": "1383",
                                    "(No column name)": "6"
                                },
                                {
                                    "SZOBA_ID": "176",
                                    "FOgLALAS_pk": "1511",
                                    "(No column name)": "4"
                                },
                                {
                                    "SZOBA_ID": "176",
                                    "FOgLALAS_pk": "1570",
                                    "(No column name)": "2"
                                },
                                {
                                    "SZOBA_ID": "177",
                                    "FOgLALAS_pk": "785",
                                    "(No column name)": "0"
                                },
                                {
                                    "SZOBA_ID": "177",
                                    "FOgLALAS_pk": "831",
                                    "(No column name)": "3"
                                },
                                {
                                    "SZOBA_ID": "177",
                                    "FOgLALAS_pk": "1176",
                                    "(No column name)": "7"
                                },
                                {
                                    "SZOBA_ID": "177",
                                    "FOgLALAS_pk": "1503",
                                    "(No column name)": "3"
                                },
                                {
                                    "SZOBA_ID": "178",
                                    "FOgLALAS_pk": "991",
                                    "(No column name)": "0"
                                },
                                {
                                    "SZOBA_ID": "178",
                                    "FOgLALAS_pk": "816",
                                    "(No column name)": "7"
                                },
                                {
                                    "SZOBA_ID": "178",
                                    "FOgLALAS_pk": "1211",
                                    "(No column name)": "4"
                                },
                                {
                                    "SZOBA_ID": "178",
                                    "FOgLALAS_pk": "1242",
                                    "(No column name)": "3"
                                },
                                {
                                    "SZOBA_ID": "179",
                                    "FOgLALAS_pk": "662",
                                    "(No column name)": "0"
                                },
                                {
                                    "SZOBA_ID": "179",
                                    "FOgLALAS_pk": "1021",
                                    "(No column name)": "2"
                                },
                                {
                                    "SZOBA_ID": "179",
                                    "FOgLALAS_pk": "1497",
                                    "(No column name)": "1"
                                },
                                {
                                    "SZOBA_ID": "180",
                                    "FOgLALAS_pk": "905",
                                    "(No column name)": "0"
                                },
                                {
                                    "SZOBA_ID": "180",
                                    "FOgLALAS_pk": "1559",
                                    "(No column name)": "5"
                                },
                                {
                                    "SZOBA_ID": "180",
                                    "FOgLALAS_pk": "1563",
                                    "(No column name)": "3"
                                },
                                {
                                    "SZOBA_ID": "181",
                                    "FOgLALAS_pk": "937",
                                    "(No column name)": "0"
                                },
                                {
                                    "SZOBA_ID": "181",
                                    "FOgLALAS_pk": "958",
                                    "(No column name)": "3"
                                },
                                {
                                    "SZOBA_ID": "181",
                                    "FOgLALAS_pk": "1022",
                                    "(No column name)": "5"
                                },
                                {
                                    "SZOBA_ID": "181",
                                    "FOgLALAS_pk": "677",
                                    "(No column name)": "1"
                                },
                                {
                                    "SZOBA_ID": "181",
                                    "FOgLALAS_pk": "731",
                                    "(No column name)": "4"
                                },
                                {
                                    "SZOBA_ID": "181",
                                    "FOgLALAS_pk": "1346",
                                    "(No column name)": "6"
                                },
                                {
                                    "SZOBA_ID": "182",
                                    "FOgLALAS_pk": "571",
                                    "(No column name)": "0"
                                },
                                {
                                    "SZOBA_ID": "182",
                                    "FOgLALAS_pk": "928",
                                    "(No column name)": "2"
                                },
                                {
                                    "SZOBA_ID": "182",
                                    "FOgLALAS_pk": "1008",
                                    "(No column name)": "2"
                                },
                                {
                                    "SZOBA_ID": "182",
                                    "FOgLALAS_pk": "740",
                                    "(No column name)": "6"
                                },
                                {
                                    "SZOBA_ID": "182",
                                    "FOgLALAS_pk": "1188",
                                    "(No column name)": "3"
                                },
                                {
                                    "SZOBA_ID": "182",
                                    "FOgLALAS_pk": "1230",
                                    "(No column name)": "1"
                                },
                                {
                                    "SZOBA_ID": "182",
                                    "FOgLALAS_pk": "1231",
                                    "(No column name)": "7"
                                },
                                {
                                    "SZOBA_ID": "182",
                                    "FOgLALAS_pk": "1308",
                                    "(No column name)": "4"
                                },
                                {
                                    "SZOBA_ID": "182",
                                    "FOgLALAS_pk": "1317",
                                    "(No column name)": "1"
                                },
                                {
                                    "SZOBA_ID": "182",
                                    "FOgLALAS_pk": "1326",
                                    "(No column name)": "3"
                                },
                                {
                                    "SZOBA_ID": "182",
                                    "FOgLALAS_pk": "1410",
                                    "(No column name)": "4"
                                },
                                {
                                    "SZOBA_ID": "182",
                                    "FOgLALAS_pk": "1422",
                                    "(No column name)": "4"
                                },
                                {
                                    "SZOBA_ID": "183",
                                    "FOgLALAS_pk": "939",
                                    "(No column name)": "0"
                                },
                                {
                                    "SZOBA_ID": "183",
                                    "FOgLALAS_pk": "1067",
                                    "(No column name)": "4"
                                },
                                {
                                    "SZOBA_ID": "183",
                                    "FOgLALAS_pk": "1147",
                                    "(No column name)": "7"
                                },
                                {
                                    "SZOBA_ID": "183",
                                    "FOgLALAS_pk": "1437",
                                    "(No column name)": "4"
                                },
                                {
                                    "SZOBA_ID": "184",
                                    "FOgLALAS_pk": "608",
                                    "(No column name)": "0"
                                },
                                {
                                    "SZOBA_ID": "184",
                                    "FOgLALAS_pk": "880",
                                    "(No column name)": "2"
                                },
                                {
                                    "SZOBA_ID": "184",
                                    "FOgLALAS_pk": "684",
                                    "(No column name)": "4"
                                },
                                {
                                    "SZOBA_ID": "184",
                                    "FOgLALAS_pk": "1251",
                                    "(No column name)": "3"
                                },
                                {
                                    "SZOBA_ID": "185",
                                    "FOgLALAS_pk": "578",
                                    "(No column name)": "0"
                                },
                                {
                                    "SZOBA_ID": "185",
                                    "FOgLALAS_pk": "863",
                                    "(No column name)": "6"
                                },
                                {
                                    "SZOBA_ID": "185",
                                    "FOgLALAS_pk": "898",
                                    "(No column name)": "4"
                                },
                                {
                                    "SZOBA_ID": "185",
                                    "FOgLALAS_pk": "925",
                                    "(No column name)": "4"
                                },
                                {
                                    "SZOBA_ID": "185",
                                    "FOgLALAS_pk": "672",
                                    "(No column name)": "6"
                                },
                                {
                                    "SZOBA_ID": "185",
                                    "FOgLALAS_pk": "679",
                                    "(No column name)": "3"
                                },
                                {
                                    "SZOBA_ID": "185",
                                    "FOgLALAS_pk": "693",
                                    "(No column name)": "5"
                                },
                                {
                                    "SZOBA_ID": "185",
                                    "FOgLALAS_pk": "711",
                                    "(No column name)": "2"
                                },
                                {
                                    "SZOBA_ID": "185",
                                    "FOgLALAS_pk": "1125",
                                    "(No column name)": "3"
                                },
                                {
                                    "SZOBA_ID": "185",
                                    "FOgLALAS_pk": "1183",
                                    "(No column name)": "3"
                                },
                                {
                                    "SZOBA_ID": "185",
                                    "FOgLALAS_pk": "1441",
                                    "(No column name)": "5"
                                },
                                {
                                    "SZOBA_ID": "185",
                                    "FOgLALAS_pk": "1463",
                                    "(No column name)": "7"
                                },
                                {
                                    "SZOBA_ID": "186",
                                    "FOgLALAS_pk": "615",
                                    "(No column name)": "0"
                                },
                                {
                                    "SZOBA_ID": "186",
                                    "FOgLALAS_pk": "1153",
                                    "(No column name)": "3"
                                },
                                {
                                    "SZOBA_ID": "186",
                                    "FOgLALAS_pk": "1248",
                                    "(No column name)": "3"
                                },
                                {
                                    "SZOBA_ID": "186",
                                    "FOgLALAS_pk": "1467",
                                    "(No column name)": "2"
                                },
                                {
                                    "SZOBA_ID": "187",
                                    "FOgLALAS_pk": "633",
                                    "(No column name)": "0"
                                },
                                {
                                    "SZOBA_ID": "187",
                                    "FOgLALAS_pk": "868",
                                    "(No column name)": "6"
                                },
                                {
                                    "SZOBA_ID": "187",
                                    "FOgLALAS_pk": "957",
                                    "(No column name)": "4"
                                },
                                {
                                    "SZOBA_ID": "187",
                                    "FOgLALAS_pk": "695",
                                    "(No column name)": "4"
                                },
                                {
                                    "SZOBA_ID": "187",
                                    "FOgLALAS_pk": "743",
                                    "(No column name)": "6"
                                },
                                {
                                    "SZOBA_ID": "187",
                                    "FOgLALAS_pk": "766",
                                    "(No column name)": "2"
                                },
                                {
                                    "SZOBA_ID": "187",
                                    "FOgLALAS_pk": "1404",
                                    "(No column name)": "1"
                                },
                                {
                                    "SZOBA_ID": "188",
                                    "FOgLALAS_pk": "912",
                                    "(No column name)": "0"
                                },
                                {
                                    "SZOBA_ID": "188",
                                    "FOgLALAS_pk": "690",
                                    "(No column name)": "1"
                                },
                                {
                                    "SZOBA_ID": "188",
                                    "FOgLALAS_pk": "710",
                                    "(No column name)": "4"
                                },
                                {
                                    "SZOBA_ID": "188",
                                    "FOgLALAS_pk": "747",
                                    "(No column name)": "7"
                                },
                                {
                                    "SZOBA_ID": "188",
                                    "FOgLALAS_pk": "1030",
                                    "(No column name)": "3"
                                },
                                {
                                    "SZOBA_ID": "188",
                                    "FOgLALAS_pk": "1390",
                                    "(No column name)": "4"
                                },
                                {
                                    "SZOBA_ID": "189",
                                    "FOgLALAS_pk": "699",
                                    "(No column name)": "0"
                                },
                                {
                                    "SZOBA_ID": "189",
                                    "FOgLALAS_pk": "753",
                                    "(No column name)": "2"
                                },
                                {
                                    "SZOBA_ID": "189",
                                    "FOgLALAS_pk": "1204",
                                    "(No column name)": "1"
                                },
                                {
                                    "SZOBA_ID": "189",
                                    "FOgLALAS_pk": "1449",
                                    "(No column name)": "2"
                                },
                                {
                                    "SZOBA_ID": "189",
                                    "FOgLALAS_pk": "1576",
                                    "(No column name)": "2"
                                },
                                {
                                    "SZOBA_ID": "190",
                                    "FOgLALAS_pk": "600",
                                    "(No column name)": "0"
                                },
                                {
                                    "SZOBA_ID": "190",
                                    "FOgLALAS_pk": "989",
                                    "(No column name)": "7"
                                },
                                {
                                    "SZOBA_ID": "190",
                                    "FOgLALAS_pk": "1017",
                                    "(No column name)": "1"
                                },
                                {
                                    "SZOBA_ID": "190",
                                    "FOgLALAS_pk": "774",
                                    "(No column name)": "1"
                                },
                                {
                                    "SZOBA_ID": "190",
                                    "FOgLALAS_pk": "1517",
                                    "(No column name)": "5"
                                },
                                {
                                    "SZOBA_ID": "191",
                                    "FOgLALAS_pk": "1039",
                                    "(No column name)": "0"
                                },
                                {
                                    "SZOBA_ID": "191",
                                    "FOgLALAS_pk": "1302",
                                    "(No column name)": "6"
                                },
                                {
                                    "SZOBA_ID": "191",
                                    "FOgLALAS_pk": "1323",
                                    "(No column name)": "1"
                                },
                                {
                                    "SZOBA_ID": "191",
                                    "FOgLALAS_pk": "1502",
                                    "(No column name)": "7"
                                },
                                {
                                    "SZOBA_ID": "191",
                                    "FOgLALAS_pk": "1508",
                                    "(No column name)": "2"
                                },
                                {
                                    "SZOBA_ID": "192",
                                    "FOgLALAS_pk": "903",
                                    "(No column name)": "0"
                                },
                                {
                                    "SZOBA_ID": "192",
                                    "FOgLALAS_pk": "680",
                                    "(No column name)": "7"
                                },
                                {
                                    "SZOBA_ID": "193",
                                    "FOgLALAS_pk": "634",
                                    "(No column name)": "0"
                                },
                                {
                                    "SZOBA_ID": "193",
                                    "FOgLALAS_pk": "926",
                                    "(No column name)": "6"
                                },
                                {
                                    "SZOBA_ID": "193",
                                    "FOgLALAS_pk": "977",
                                    "(No column name)": "1"
                                },
                                {
                                    "SZOBA_ID": "193",
                                    "FOgLALAS_pk": "675",
                                    "(No column name)": "2"
                                },
                                {
                                    "SZOBA_ID": "193",
                                    "FOgLALAS_pk": "835",
                                    "(No column name)": "2"
                                },
                                {
                                    "SZOBA_ID": "193",
                                    "FOgLALAS_pk": "1043",
                                    "(No column name)": "2"
                                },
                                {
                                    "SZOBA_ID": "193",
                                    "FOgLALAS_pk": "1238",
                                    "(No column name)": "6"
                                },
                                {
                                    "SZOBA_ID": "194",
                                    "FOgLALAS_pk": "1095",
                                    "(No column name)": "0"
                                },
                                {
                                    "SZOBA_ID": "195",
                                    "FOgLALAS_pk": "721",
                                    "(No column name)": "0"
                                },
                                {
                                    "SZOBA_ID": "195",
                                    "FOgLALAS_pk": "842",
                                    "(No column name)": "4"
                                },
                                {
                                    "SZOBA_ID": "195",
                                    "FOgLALAS_pk": "1074",
                                    "(No column name)": "4"
                                },
                                {
                                    "SZOBA_ID": "195",
                                    "FOgLALAS_pk": "1184",
                                    "(No column name)": "7"
                                },
                                {
                                    "SZOBA_ID": "195",
                                    "FOgLALAS_pk": "1473",
                                    "(No column name)": "5"
                                },
                                {
                                    "SZOBA_ID": "195",
                                    "FOgLALAS_pk": "1484",
                                    "(No column name)": "7"
                                },
                                {
                                    "SZOBA_ID": "196",
                                    "FOgLALAS_pk": "952",
                                    "(No column name)": "0"
                                },
                                {
                                    "SZOBA_ID": "196",
                                    "FOgLALAS_pk": "673",
                                    "(No column name)": "3"
                                },
                                {
                                    "SZOBA_ID": "196",
                                    "FOgLALAS_pk": "1314",
                                    "(No column name)": "5"
                                },
                                {
                                    "SZOBA_ID": "196",
                                    "FOgLALAS_pk": "1340",
                                    "(No column name)": "5"
                                },
                                {
                                    "SZOBA_ID": "197",
                                    "FOgLALAS_pk": "993",
                                    "(No column name)": "0"
                                },
                                {
                                    "SZOBA_ID": "197",
                                    "FOgLALAS_pk": "764",
                                    "(No column name)": "7"
                                },
                                {
                                    "SZOBA_ID": "197",
                                    "FOgLALAS_pk": "1091",
                                    "(No column name)": "7"
                                },
                                {
                                    "SZOBA_ID": "197",
                                    "FOgLALAS_pk": "1172",
                                    "(No column name)": "7"
                                },
                                {
                                    "SZOBA_ID": "197",
                                    "FOgLALAS_pk": "1304",
                                    "(No column name)": "7"
                                },
                                {
                                    "SZOBA_ID": "197",
                                    "FOgLALAS_pk": "1387",
                                    "(No column name)": "7"
                                },
                                {
                                    "SZOBA_ID": "198",
                                    "FOgLALAS_pk": "978",
                                    "(No column name)": "0"
                                },
                                {
                                    "SZOBA_ID": "198",
                                    "FOgLALAS_pk": "1011",
                                    "(No column name)": "1"
                                },
                                {
                                    "SZOBA_ID": "198",
                                    "FOgLALAS_pk": "1065",
                                    "(No column name)": "7"
                                },
                                {
                                    "SZOBA_ID": "198",
                                    "FOgLALAS_pk": "1116",
                                    "(No column name)": "3"
                                },
                                {
                                    "SZOBA_ID": "198",
                                    "FOgLALAS_pk": "1138",
                                    "(No column name)": "1"
                                },
                                {
                                    "SZOBA_ID": "198",
                                    "FOgLALAS_pk": "1161",
                                    "(No column name)": "5"
                                },
                                {
                                    "SZOBA_ID": "198",
                                    "FOgLALAS_pk": "1216",
                                    "(No column name)": "5"
                                },
                                {
                                    "SZOBA_ID": "198",
                                    "FOgLALAS_pk": "1420",
                                    "(No column name)": "7"
                                }
                            ]
                        },
                        "text/html": [
                            "<table>",
                            "<tr><th>SZOBA_ID</th><th>FOgLALAS_pk</th><th>(No column name)</th><th>(No column name)</th></tr>",
                            "<tr><td>1</td><td>620</td><td>5</td><td>0</td></tr>",
                            "<tr><td>1</td><td>949</td><td>1</td><td>5</td></tr>",
                            "<tr><td>1</td><td>738</td><td>7</td><td>1</td></tr>",
                            "<tr><td>1</td><td>803</td><td>4</td><td>7</td></tr>",
                            "<tr><td>1</td><td>1137</td><td>2</td><td>4</td></tr>",
                            "<tr><td>1</td><td>1152</td><td>1</td><td>2</td></tr>",
                            "<tr><td>1</td><td>1274</td><td>1</td><td>1</td></tr>",
                            "<tr><td>1</td><td>1334</td><td>4</td><td>1</td></tr>",
                            "<tr><td>2</td><td>828</td><td>3</td><td>0</td></tr>",
                            "<tr><td>2</td><td>1051</td><td>1</td><td>3</td></tr>",
                            "<tr><td>2</td><td>1069</td><td>7</td><td>1</td></tr>",
                            "<tr><td>2</td><td>1311</td><td>7</td><td>7</td></tr>",
                            "<tr><td>3</td><td>629</td><td>4</td><td>0</td></tr>",
                            "<tr><td>3</td><td>666</td><td>6</td><td>4</td></tr>",
                            "<tr><td>3</td><td>788</td><td>6</td><td>6</td></tr>",
                            "<tr><td>3</td><td>1038</td><td>3</td><td>6</td></tr>",
                            "<tr><td>3</td><td>1110</td><td>7</td><td>3</td></tr>",
                            "<tr><td>3</td><td>1151</td><td>1</td><td>7</td></tr>",
                            "<tr><td>3</td><td>1434</td><td>5</td><td>1</td></tr>",
                            "<tr><td>3</td><td>1544</td><td>5</td><td>5</td></tr>",
                            "<tr><td>4</td><td>651</td><td>7</td><td>0</td></tr>",
                            "<tr><td>4</td><td>946</td><td>5</td><td>7</td></tr>",
                            "<tr><td>4</td><td>1001</td><td>7</td><td>5</td></tr>",
                            "<tr><td>4</td><td>1127</td><td>3</td><td>7</td></tr>",
                            "<tr><td>4</td><td>1132</td><td>6</td><td>3</td></tr>",
                            "<tr><td>4</td><td>1492</td><td>6</td><td>6</td></tr>",
                            "<tr><td>5</td><td>564</td><td>2</td><td>0</td></tr>",
                            "<tr><td>5</td><td>965</td><td>7</td><td>2</td></tr>",
                            "<tr><td>5</td><td>1073</td><td>5</td><td>7</td></tr>",
                            "<tr><td>5</td><td>1257</td><td>3</td><td>5</td></tr>",
                            "<tr><td>6</td><td>560</td><td>6</td><td>0</td></tr>",
                            "<tr><td>6</td><td>873</td><td>3</td><td>6</td></tr>",
                            "<tr><td>6</td><td>990</td><td>4</td><td>3</td></tr>",
                            "<tr><td>6</td><td>772</td><td>6</td><td>4</td></tr>",
                            "<tr><td>6</td><td>850</td><td>2</td><td>6</td></tr>",
                            "<tr><td>6</td><td>1099</td><td>4</td><td>2</td></tr>",
                            "<tr><td>7</td><td>562</td><td>4</td><td>0</td></tr>",
                            "<tr><td>7</td><td>759</td><td>7</td><td>4</td></tr>",
                            "<tr><td>7</td><td>1131</td><td>1</td><td>7</td></tr>",
                            "<tr><td>7</td><td>1175</td><td>4</td><td>1</td></tr>",
                            "<tr><td>7</td><td>1182</td><td>4</td><td>4</td></tr>",
                            "<tr><td>7</td><td>1252</td><td>2</td><td>4</td></tr>",
                            "<tr><td>8</td><td>882</td><td>1</td><td>0</td></tr>",
                            "<tr><td>8</td><td>947</td><td>3</td><td>1</td></tr>",
                            "<tr><td>8</td><td>694</td><td>4</td><td>3</td></tr>",
                            "<tr><td>8</td><td>818</td><td>4</td><td>4</td></tr>",
                            "<tr><td>8</td><td>832</td><td>4</td><td>4</td></tr>",
                            "<tr><td>9</td><td>609</td><td>2</td><td>0</td></tr>",
                            "<tr><td>9</td><td>1157</td><td>6</td><td>2</td></tr>",
                            "<tr><td>9</td><td>1220</td><td>3</td><td>6</td></tr>",
                            "<tr><td>9</td><td>1260</td><td>6</td><td>3</td></tr>",
                            "<tr><td>9</td><td>1423</td><td>3</td><td>6</td></tr>",
                            "<tr><td>9</td><td>1537</td><td>3</td><td>3</td></tr>",
                            "<tr><td>10</td><td>569</td><td>3</td><td>0</td></tr>",
                            "<tr><td>10</td><td>790</td><td>5</td><td>3</td></tr>",
                            "<tr><td>10</td><td>795</td><td>4</td><td>5</td></tr>",
                            "<tr><td>10</td><td>1319</td><td>6</td><td>4</td></tr>",
                            "<tr><td>11</td><td>918</td><td>6</td><td>0</td></tr>",
                            "<tr><td>11</td><td>1123</td><td>5</td><td>6</td></tr>",
                            "<tr><td>11</td><td>1236</td><td>1</td><td>5</td></tr>",
                            "<tr><td>11</td><td>1523</td><td>1</td><td>1</td></tr>",
                            "<tr><td>12</td><td>876</td><td>7</td><td>0</td></tr>",
                            "<tr><td>12</td><td>951</td><td>3</td><td>7</td></tr>",
                            "<tr><td>12</td><td>970</td><td>2</td><td>3</td></tr>",
                            "<tr><td>12</td><td>1020</td><td>5</td><td>2</td></tr>",
                            "<tr><td>12</td><td>697</td><td>2</td><td>5</td></tr>",
                            "<tr><td>12</td><td>775</td><td>4</td><td>2</td></tr>",
                            "<tr><td>12</td><td>1140</td><td>3</td><td>4</td></tr>",
                            "<tr><td>12</td><td>1164</td><td>5</td><td>3</td></tr>",
                            "<tr><td>12</td><td>1430</td><td>2</td><td>5</td></tr>",
                            "<tr><td>13</td><td>763</td><td>4</td><td>0</td></tr>",
                            "<tr><td>13</td><td>1044</td><td>6</td><td>4</td></tr>",
                            "<tr><td>13</td><td>1347</td><td>3</td><td>6</td></tr>",
                            "<tr><td>13</td><td>1469</td><td>2</td><td>3</td></tr>",
                            "<tr><td>14</td><td>663</td><td>1</td><td>0</td></tr>",
                            "<tr><td>14</td><td>813</td><td>3</td><td>1</td></tr>",
                            "<tr><td>14</td><td>1542</td><td>4</td><td>3</td></tr>",
                            "<tr><td>15</td><td>1028</td><td>2</td><td>0</td></tr>",
                            "<tr><td>15</td><td>791</td><td>5</td><td>2</td></tr>",
                            "<tr><td>15</td><td>1129</td><td>4</td><td>5</td></tr>",
                            "<tr><td>15</td><td>1244</td><td>1</td><td>4</td></tr>",
                            "<tr><td>15</td><td>1418</td><td>4</td><td>1</td></tr>",
                            "<tr><td>15</td><td>1442</td><td>3</td><td>4</td></tr>",
                            "<tr><td>16</td><td>856</td><td>6</td><td>0</td></tr>",
                            "<tr><td>16</td><td>896</td><td>1</td><td>6</td></tr>",
                            "<tr><td>16</td><td>973</td><td>1</td><td>1</td></tr>",
                            "<tr><td>16</td><td>687</td><td>3</td><td>1</td></tr>",
                            "<tr><td>16</td><td>1498</td><td>7</td><td>3</td></tr>",
                            "<tr><td>17</td><td>602</td><td>6</td><td>0</td></tr>",
                            "<tr><td>17</td><td>916</td><td>2</td><td>6</td></tr>",
                            "<tr><td>17</td><td>713</td><td>6</td><td>2</td></tr>",
                            "<tr><td>17</td><td>744</td><td>1</td><td>6</td></tr>",
                            "<tr><td>17</td><td>1316</td><td>5</td><td>1</td></tr>",
                            "<tr><td>17</td><td>1549</td><td>3</td><td>5</td></tr>",
                            "<tr><td>18</td><td>626</td><td>3</td><td>0</td></tr>",
                            "<tr><td>18</td><td>767</td><td>3</td><td>3</td></tr>",
                            "<tr><td>18</td><td>1035</td><td>6</td><td>3</td></tr>",
                            "<tr><td>18</td><td>1173</td><td>6</td><td>6</td></tr>",
                            "<tr><td>18</td><td>1198</td><td>4</td><td>6</td></tr>",
                            "<tr><td>18</td><td>1505</td><td>6</td><td>4</td></tr>",
                            "<tr><td>19</td><td>948</td><td>2</td><td>0</td></tr>",
                            "<tr><td>19</td><td>696</td><td>1</td><td>2</td></tr>",
                            "<tr><td>19</td><td>778</td><td>1</td><td>1</td></tr>",
                            "<tr><td>19</td><td>1139</td><td>7</td><td>1</td></tr>",
                            "<tr><td>19</td><td>1237</td><td>1</td><td>7</td></tr>",
                            "<tr><td>19</td><td>1533</td><td>1</td><td>1</td></tr>",
                            "<tr><td>20</td><td>755</td><td>6</td><td>0</td></tr>",
                            "<tr><td>20</td><td>820</td><td>1</td><td>6</td></tr>",
                            "<tr><td>20</td><td>1070</td><td>1</td><td>1</td></tr>",
                            "<tr><td>20</td><td>1114</td><td>5</td><td>1</td></tr>",
                            "<tr><td>20</td><td>1106</td><td>2</td><td>5</td></tr>",
                            "<tr><td>21</td><td>566</td><td>6</td><td>0</td></tr>",
                            "<tr><td>21</td><td>660</td><td>5</td><td>6</td></tr>",
                            "<tr><td>21</td><td>805</td><td>1</td><td>5</td></tr>",
                            "<tr><td>21</td><td>1212</td><td>6</td><td>1</td></tr>",
                            "<tr><td>22</td><td>906</td><td>1</td><td>0</td></tr>",
                            "<tr><td>22</td><td>1005</td><td>3</td><td>1</td></tr>",
                            "<tr><td>22</td><td>1130</td><td>1</td><td>3</td></tr>",
                            "<tr><td>22</td><td>1195</td><td>6</td><td>1</td></tr>",
                            "<tr><td>22</td><td>1206</td><td>7</td><td>6</td></tr>",
                            "<tr><td>22</td><td>1287</td><td>3</td><td>7</td></tr>",
                            "<tr><td>23</td><td>934</td><td>1</td><td>0</td></tr>",
                            "<tr><td>23</td><td>945</td><td>7</td><td>1</td></tr>",
                            "<tr><td>23</td><td>848</td><td>1</td><td>7</td></tr>",
                            "<tr><td>24</td><td>852</td><td>2</td><td>0</td></tr>",
                            "<tr><td>24</td><td>1167</td><td>1</td><td>2</td></tr>",
                            "<tr><td>24</td><td>1415</td><td>3</td><td>1</td></tr>",
                            "<tr><td>25</td><td>1052</td><td>3</td><td>0</td></tr>",
                            "<tr><td>25</td><td>1362</td><td>2</td><td>3</td></tr>",
                            "<tr><td>26</td><td>1158</td><td>2</td><td>0</td></tr>",
                            "<tr><td>26</td><td>1388</td><td>3</td><td>2</td></tr>",
                            "<tr><td>27</td><td>758</td><td>3</td><td>0</td></tr>",
                            "<tr><td>27</td><td>807</td><td>2</td><td>3</td></tr>",
                            "<tr><td>27</td><td>1031</td><td>2</td><td>2</td></tr>",
                            "<tr><td>27</td><td>1082</td><td>5</td><td>2</td></tr>",
                            "<tr><td>27</td><td>1275</td><td>6</td><td>5</td></tr>",
                            "<tr><td>27</td><td>1377</td><td>1</td><td>6</td></tr>",
                            "<tr><td>27</td><td>1476</td><td>1</td><td>1</td></tr>",
                            "<tr><td>28</td><td>872</td><td>5</td><td>0</td></tr>",
                            "<tr><td>28</td><td>886</td><td>4</td><td>5</td></tr>",
                            "<tr><td>28</td><td>901</td><td>4</td><td>4</td></tr>",
                            "<tr><td>28</td><td>725</td><td>5</td><td>4</td></tr>",
                            "<tr><td>28</td><td>1150</td><td>6</td><td>5</td></tr>",
                            "<tr><td>28</td><td>1459</td><td>2</td><td>6</td></tr>",
                            "<tr><td>29</td><td>611</td><td>5</td><td>0</td></tr>",
                            "<tr><td>29</td><td>894</td><td>1</td><td>5</td></tr>",
                            "<tr><td>29</td><td>1076</td><td>7</td><td>1</td></tr>",
                            "<tr><td>29</td><td>1185</td><td>5</td><td>7</td></tr>",
                            "<tr><td>29</td><td>1235</td><td>7</td><td>5</td></tr>",
                            "<tr><td>29</td><td>1568</td><td>7</td><td>7</td></tr>",
                            "<tr><td>30</td><td>604</td><td>2</td><td>0</td></tr>",
                            "<tr><td>30</td><td>1023</td><td>7</td><td>2</td></tr>",
                            "<tr><td>30</td><td>1136</td><td>5</td><td>7</td></tr>",
                            "<tr><td>31</td><td>598</td><td>2</td><td>0</td></tr>",
                            "<tr><td>31</td><td>606</td><td>1</td><td>2</td></tr>",
                            "<tr><td>31</td><td>728</td><td>4</td><td>1</td></tr>",
                            "<tr><td>32</td><td>920</td><td>4</td><td>0</td></tr>",
                            "<tr><td>33</td><td>624</td><td>6</td><td>0</td></tr>",
                            "<tr><td>33</td><td>1012</td><td>7</td><td>6</td></tr>",
                            "<tr><td>33</td><td>1053</td><td>1</td><td>7</td></tr>",
                            "<tr><td>33</td><td>1321</td><td>4</td><td>1</td></tr>",
                            "<tr><td>33</td><td>1344</td><td>5</td><td>4</td></tr>",
                            "<tr><td>33</td><td>1381</td><td>6</td><td>5</td></tr>",
                            "<tr><td>34</td><td>870</td><td>6</td><td>0</td></tr>",
                            "<tr><td>34</td><td>904</td><td>2</td><td>6</td></tr>",
                            "<tr><td>34</td><td>777</td><td>3</td><td>2</td></tr>",
                            "<tr><td>34</td><td>821</td><td>1</td><td>3</td></tr>",
                            "<tr><td>35</td><td>971</td><td>3</td><td>0</td></tr>",
                            "<tr><td>35</td><td>979</td><td>7</td><td>3</td></tr>",
                            "<tr><td>35</td><td>686</td><td>6</td><td>7</td></tr>",
                            "<tr><td>35</td><td>707</td><td>2</td><td>6</td></tr>",
                            "<tr><td>35</td><td>829</td><td>2</td><td>2</td></tr>",
                            "<tr><td>35</td><td>1480</td><td>37</td><td>2</td></tr>",
                            "<tr><td>35</td><td>1411</td><td>1</td><td>37</td></tr>",
                            "<tr><td>35</td><td>1436</td><td>1</td><td>1</td></tr>",
                            "<tr><td>35</td><td>1529</td><td>4</td><td>1</td></tr>",
                            "<tr><td>36</td><td>895</td><td>5</td><td>0</td></tr>",
                            "<tr><td>36</td><td>919</td><td>1</td><td>5</td></tr>",
                            "<tr><td>36</td><td>985</td><td>6</td><td>1</td></tr>",
                            "<tr><td>36</td><td>1003</td><td>4</td><td>6</td></tr>",
                            "<tr><td>36</td><td>748</td><td>2</td><td>4</td></tr>",
                            "<tr><td>36</td><td>750</td><td>6</td><td>2</td></tr>",
                            "<tr><td>37</td><td>688</td><td>2</td><td>0</td></tr>",
                            "<tr><td>37</td><td>705</td><td>4</td><td>2</td></tr>",
                            "<tr><td>37</td><td>1335</td><td>7</td><td>4</td></tr>",
                            "<tr><td>38</td><td>627</td><td>6</td><td>0</td></tr>",
                            "<tr><td>38</td><td>1033</td><td>2</td><td>6</td></tr>",
                            "<tr><td>38</td><td>1060</td><td>2</td><td>2</td></tr>",
                            "<tr><td>38</td><td>1078</td><td>7</td><td>2</td></tr>",
                            "<tr><td>38</td><td>1351</td><td>4</td><td>7</td></tr>",
                            "<tr><td>38</td><td>1416</td><td>5</td><td>4</td></tr>",
                            "<tr><td>38</td><td>1478</td><td>4</td><td>5</td></tr>",
                            "<tr><td>38</td><td>1556</td><td>6</td><td>4</td></tr>",
                            "<tr><td>39</td><td>601</td><td>6</td><td>0</td></tr>",
                            "<tr><td>39</td><td>899</td><td>6</td><td>6</td></tr>",
                            "<tr><td>39</td><td>1214</td><td>5</td><td>6</td></tr>",
                            "<tr><td>39</td><td>1380</td><td>5</td><td>5</td></tr>",
                            "<tr><td>39</td><td>1435</td><td>7</td><td>5</td></tr>",
                            "<tr><td>39</td><td>1454</td><td>1</td><td>7</td></tr>",
                            "<tr><td>39</td><td>1538</td><td>2</td><td>1</td></tr>",
                            "<tr><td>40</td><td>924</td><td>5</td><td>0</td></tr>",
                            "<tr><td>40</td><td>932</td><td>6</td><td>5</td></tr>",
                            "<tr><td>40</td><td>1018</td><td>5</td><td>6</td></tr>",
                            "<tr><td>40</td><td>1118</td><td>5</td><td>5</td></tr>",
                            "<tr><td>41</td><td>960</td><td>6</td><td>0</td></tr>",
                            "<tr><td>41</td><td>1144</td><td>1</td><td>6</td></tr>",
                            "<tr><td>42</td><td>561</td><td>4</td><td>0</td></tr>",
                            "<tr><td>42</td><td>590</td><td>5</td><td>4</td></tr>",
                            "<tr><td>42</td><td>851</td><td>7</td><td>5</td></tr>",
                            "<tr><td>42</td><td>770</td><td>3</td><td>7</td></tr>",
                            "<tr><td>42</td><td>1309</td><td>2</td><td>3</td></tr>",
                            "<tr><td>42</td><td>1444</td><td>6</td><td>2</td></tr>",
                            "<tr><td>43</td><td>1019</td><td>4</td><td>0</td></tr>",
                            "<tr><td>43</td><td>670</td><td>4</td><td>4</td></tr>",
                            "<tr><td>43</td><td>1088</td><td>2</td><td>4</td></tr>",
                            "<tr><td>43</td><td>1207</td><td>1</td><td>2</td></tr>",
                            "<tr><td>43</td><td>1227</td><td>5</td><td>1</td></tr>",
                            "<tr><td>43</td><td>1270</td><td>4</td><td>5</td></tr>",
                            "<tr><td>43</td><td>1524</td><td>1</td><td>4</td></tr>",
                            "<tr><td>43</td><td>1553</td><td>5</td><td>1</td></tr>",
                            "<tr><td>44</td><td>589</td><td>2</td><td>0</td></tr>",
                            "<tr><td>44</td><td>658</td><td>6</td><td>2</td></tr>",
                            "<tr><td>44</td><td>823</td><td>2</td><td>6</td></tr>",
                            "<tr><td>44</td><td>1295</td><td>2</td><td>2</td></tr>",
                            "<tr><td>44</td><td>1425</td><td>2</td><td>2</td></tr>",
                            "<tr><td>44</td><td>1552</td><td>2</td><td>2</td></tr>",
                            "<tr><td>45</td><td>802</td><td>7</td><td>0</td></tr>",
                            "<tr><td>45</td><td>800</td><td>5</td><td>7</td></tr>",
                            "<tr><td>45</td><td>846</td><td>3</td><td>5</td></tr>",
                            "<tr><td>45</td><td>1135</td><td>3</td><td>3</td></tr>",
                            "<tr><td>45</td><td>1303</td><td>2</td><td>3</td></tr>",
                            "<tr><td>46</td><td>752</td><td>5</td><td>0</td></tr>",
                            "<tr><td>46</td><td>1187</td><td>7</td><td>5</td></tr>",
                            "<tr><td>46</td><td>1291</td><td>3</td><td>7</td></tr>",
                            "<tr><td>46</td><td>1515</td><td>4</td><td>3</td></tr>",
                            "<tr><td>47</td><td>955</td><td>1</td><td>0</td></tr>",
                            "<tr><td>47</td><td>1056</td><td>7</td><td>1</td></tr>",
                            "<tr><td>48</td><td>603</td><td>3</td><td>0</td></tr>",
                            "<tr><td>48</td><td>628</td><td>2</td><td>3</td></tr>",
                            "<tr><td>48</td><td>914</td><td>5</td><td>2</td></tr>",
                            "<tr><td>48</td><td>986</td><td>5</td><td>5</td></tr>",
                            "<tr><td>48</td><td>824</td><td>2</td><td>5</td></tr>",
                            "<tr><td>48</td><td>1243</td><td>6</td><td>2</td></tr>",
                            "<tr><td>48</td><td>1546</td><td>3</td><td>6</td></tr>",
                            "<tr><td>48</td><td>1547</td><td>1</td><td>3</td></tr>",
                            "<tr><td>48</td><td>1581</td><td>5</td><td>1</td></tr>",
                            "<tr><td>49</td><td>888</td><td>7</td><td>0</td></tr>",
                            "<tr><td>49</td><td>793</td><td>6</td><td>7</td></tr>",
                            "<tr><td>49</td><td>826</td><td>4</td><td>6</td></tr>",
                            "<tr><td>49</td><td>1066</td><td>7</td><td>4</td></tr>",
                            "<tr><td>49</td><td>1200</td><td>7</td><td>7</td></tr>",
                            "<tr><td>49</td><td>1221</td><td>2</td><td>7</td></tr>",
                            "<tr><td>49</td><td>1536</td><td>6</td><td>2</td></tr>",
                            "<tr><td>50</td><td>787</td><td>3</td><td>0</td></tr>",
                            "<tr><td>50</td><td>1063</td><td>2</td><td>3</td></tr>",
                            "<tr><td>50</td><td>1224</td><td>1</td><td>2</td></tr>",
                            "<tr><td>50</td><td>1272</td><td>1</td><td>1</td></tr>",
                            "<tr><td>51</td><td>865</td><td>7</td><td>0</td></tr>",
                            "<tr><td>51</td><td>811</td><td>2</td><td>7</td></tr>",
                            "<tr><td>51</td><td>1165</td><td>5</td><td>2</td></tr>",
                            "<tr><td>51</td><td>1477</td><td>6</td><td>5</td></tr>",
                            "<tr><td>51</td><td>1550</td><td>1</td><td>6</td></tr>",
                            "<tr><td>52</td><td>822</td><td>7</td><td>0</td></tr>",
                            "<tr><td>52</td><td>1202</td><td>2</td><td>7</td></tr>",
                            "<tr><td>52</td><td>1258</td><td>5</td><td>2</td></tr>",
                            "<tr><td>52</td><td>1431</td><td>5</td><td>5</td></tr>",
                            "<tr><td>52</td><td>1534</td><td>5</td><td>5</td></tr>",
                            "<tr><td>53</td><td>855</td><td>1</td><td>0</td></tr>",
                            "<tr><td>53</td><td>987</td><td>4</td><td>1</td></tr>",
                            "<tr><td>54</td><td>622</td><td>7</td><td>0</td></tr>",
                            "<tr><td>54</td><td>642</td><td>5</td><td>7</td></tr>",
                            "<tr><td>54</td><td>889</td><td>2</td><td>5</td></tr>",
                            "<tr><td>54</td><td>668</td><td>1</td><td>2</td></tr>",
                            "<tr><td>54</td><td>1096</td><td>4</td><td>1</td></tr>",
                            "<tr><td>54</td><td>1328</td><td>4</td><td>4</td></tr>",
                            "<tr><td>55</td><td>734</td><td>6</td><td>0</td></tr>",
                            "<tr><td>55</td><td>1086</td><td>5</td><td>6</td></tr>",
                            "<tr><td>55</td><td>1163</td><td>2</td><td>5</td></tr>",
                            "<tr><td>55</td><td>1232</td><td>7</td><td>2</td></tr>",
                            "<tr><td>55</td><td>1327</td><td>6</td><td>7</td></tr>",
                            "<tr><td>55</td><td>1386</td><td>2</td><td>6</td></tr>",
                            "<tr><td>55</td><td>1512</td><td>1</td><td>2</td></tr>",
                            "<tr><td>55</td><td>1520</td><td>1</td><td>1</td></tr>",
                            "<tr><td>56</td><td>935</td><td>4</td><td>0</td></tr>",
                            "<tr><td>56</td><td>838</td><td>2</td><td>4</td></tr>",
                            "<tr><td>57</td><td>1348</td><td>1</td><td>0</td></tr>",
                            "<tr><td>57</td><td>1389</td><td>1</td><td>1</td></tr>",
                            "<tr><td>57</td><td>1466</td><td>7</td><td>1</td></tr>",
                            "<tr><td>57</td><td>1504</td><td>4</td><td>7</td></tr>",
                            "<tr><td>58</td><td>883</td><td>5</td><td>0</td></tr>",
                            "<tr><td>58</td><td>719</td><td>3</td><td>5</td></tr>",
                            "<tr><td>58</td><td>773</td><td>2</td><td>3</td></tr>",
                            "<tr><td>58</td><td>1113</td><td>3</td><td>2</td></tr>",
                            "<tr><td>58</td><td>1186</td><td>6</td><td>3</td></tr>",
                            "<tr><td>58</td><td>1208</td><td>6</td><td>6</td></tr>",
                            "<tr><td>58</td><td>1255</td><td>7</td><td>6</td></tr>",
                            "<tr><td>58</td><td>1261</td><td>6</td><td>7</td></tr>",
                            "<tr><td>58</td><td>1285</td><td>7</td><td>6</td></tr>",
                            "<tr><td>58</td><td>1293</td><td>3</td><td>7</td></tr>",
                            "<tr><td>58</td><td>1307</td><td>6</td><td>3</td></tr>",
                            "<tr><td>58</td><td>1322</td><td>3</td><td>6</td></tr>",
                            "<tr><td>58</td><td>1451</td><td>6</td><td>3</td></tr>",
                            "<tr><td>59</td><td>1080</td><td>1</td><td>0</td></tr>",
                            "<tr><td>59</td><td>1084</td><td>2</td><td>1</td></tr>",
                            "<tr><td>59</td><td>1170</td><td>5</td><td>2</td></tr>",
                            "<tr><td>59</td><td>1191</td><td>6</td><td>5</td></tr>",
                            "<tr><td>59</td><td>1239</td><td>2</td><td>6</td></tr>",
                            "<tr><td>59</td><td>1288</td><td>3</td><td>2</td></tr>",
                            "<tr><td>59</td><td>1573</td><td>1</td><td>3</td></tr>",
                            "<tr><td>60</td><td>676</td><td>2</td><td>0</td></tr>",
                            "<tr><td>61</td><td>701</td><td>2</td><td>0</td></tr>",
                            "<tr><td>61</td><td>756</td><td>6</td><td>2</td></tr>",
                            "<tr><td>61</td><td>1148</td><td>3</td><td>6</td></tr>",
                            "<tr><td>61</td><td>1218</td><td>2</td><td>3</td></tr>",
                            "<tr><td>61</td><td>1496</td><td>7</td><td>2</td></tr>",
                            "<tr><td>62</td><td>936</td><td>3</td><td>0</td></tr>",
                            "<tr><td>62</td><td>938</td><td>1</td><td>3</td></tr>",
                            "<tr><td>62</td><td>702</td><td>5</td><td>1</td></tr>",
                            "<tr><td>62</td><td>1081</td><td>7</td><td>5</td></tr>",
                            "<tr><td>62</td><td>1426</td><td>4</td><td>7</td></tr>",
                            "<tr><td>63</td><td>625</td><td>3</td><td>0</td></tr>",
                            "<tr><td>63</td><td>891</td><td>6</td><td>3</td></tr>",
                            "<tr><td>63</td><td>769</td><td>5</td><td>6</td></tr>",
                            "<tr><td>63</td><td>845</td><td>1</td><td>5</td></tr>",
                            "<tr><td>64</td><td>875</td><td>2</td><td>0</td></tr>",
                            "<tr><td>64</td><td>1122</td><td>4</td><td>2</td></tr>",
                            "<tr><td>64</td><td>1233</td><td>7</td><td>4</td></tr>",
                            "<tr><td>64</td><td>1446</td><td>6</td><td>7</td></tr>",
                            "<tr><td>64</td><td>1465</td><td>4</td><td>6</td></tr>",
                            "<tr><td>64</td><td>1582</td><td>1</td><td>4</td></tr>",
                            "<tr><td>65</td><td>650</td><td>6</td><td>0</td></tr>",
                            "<tr><td>66</td><td>950</td><td>3</td><td>0</td></tr>",
                            "<tr><td>66</td><td>736</td><td>3</td><td>3</td></tr>",
                            "<tr><td>66</td><td>1234</td><td>3</td><td>3</td></tr>",
                            "<tr><td>66</td><td>1264</td><td>4</td><td>3</td></tr>",
                            "<tr><td>67</td><td>638</td><td>5</td><td>0</td></tr>",
                            "<tr><td>67</td><td>645</td><td>6</td><td>5</td></tr>",
                            "<tr><td>67</td><td>874</td><td>6</td><td>6</td></tr>",
                            "<tr><td>67</td><td>1382</td><td>1</td><td>6</td></tr>",
                            "<tr><td>67</td><td>1580</td><td>5</td><td>1</td></tr>",
                            "<tr><td>67</td><td>1584</td><td>1</td><td>5</td></tr>",
                            "<tr><td>68</td><td>563</td><td>5</td><td>0</td></tr>",
                            "<tr><td>68</td><td>1027</td><td>7</td><td>5</td></tr>",
                            "<tr><td>68</td><td>1324</td><td>4</td><td>7</td></tr>",
                            "<tr><td>69</td><td>885</td><td>1</td><td>0</td></tr>",
                            "<tr><td>69</td><td>1055</td><td>5</td><td>1</td></tr>",
                            "<tr><td>69</td><td>1225</td><td>5</td><td>5</td></tr>",
                            "<tr><td>69</td><td>1246</td><td>7</td><td>5</td></tr>",
                            "<tr><td>70</td><td>585</td><td>5</td><td>0</td></tr>",
                            "<tr><td>70</td><td>860</td><td>2</td><td>5</td></tr>",
                            "<tr><td>70</td><td>1006</td><td>3</td><td>2</td></tr>",
                            "<tr><td>70</td><td>704</td><td>3</td><td>3</td></tr>",
                            "<tr><td>70</td><td>814</td><td>3</td><td>3</td></tr>",
                            "<tr><td>70</td><td>1092</td><td>3</td><td>3</td></tr>",
                            "<tr><td>70</td><td>1126</td><td>3</td><td>3</td></tr>",
                            "<tr><td>70</td><td>1325</td><td>7</td><td>3</td></tr>",
                            "<tr><td>70</td><td>1333</td><td>6</td><td>7</td></tr>",
                            "<tr><td>70</td><td>1365</td><td>3</td><td>6</td></tr>",
                            "<tr><td>70</td><td>1457</td><td>7</td><td>3</td></tr>",
                            "<tr><td>71</td><td>1009</td><td>1</td><td>0</td></tr>",
                            "<tr><td>71</td><td>681</td><td>3</td><td>1</td></tr>",
                            "<tr><td>71</td><td>712</td><td>1</td><td>3</td></tr>",
                            "<tr><td>72</td><td>902</td><td>5</td><td>0</td></tr>",
                            "<tr><td>72</td><td>961</td><td>6</td><td>5</td></tr>",
                            "<tr><td>72</td><td>1318</td><td>2</td><td>6</td></tr>",
                            "<tr><td>72</td><td>1396</td><td>3</td><td>2</td></tr>",
                            "<tr><td>73</td><td>1000</td><td>4</td><td>0</td></tr>",
                            "<tr><td>73</td><td>714</td><td>7</td><td>4</td></tr>",
                            "<tr><td>73</td><td>1159</td><td>5</td><td>7</td></tr>",
                            "<tr><td>73</td><td>1331</td><td>4</td><td>5</td></tr>",
                            "<tr><td>74</td><td>595</td><td>7</td><td>0</td></tr>",
                            "<tr><td>74</td><td>877</td><td>4</td><td>7</td></tr>",
                            "<tr><td>74</td><td>940</td><td>5</td><td>4</td></tr>",
                            "<tr><td>74</td><td>963</td><td>1</td><td>5</td></tr>",
                            "<tr><td>74</td><td>797</td><td>5</td><td>1</td></tr>",
                            "<tr><td>74</td><td>830</td><td>1</td><td>5</td></tr>",
                            "<tr><td>74</td><td>847</td><td>3</td><td>1</td></tr>",
                            "<tr><td>74</td><td>1093</td><td>6</td><td>3</td></tr>",
                            "<tr><td>74</td><td>1179</td><td>7</td><td>6</td></tr>",
                            "<tr><td>75</td><td>1013</td><td>5</td><td>0</td></tr>",
                            "<tr><td>75</td><td>1412</td><td>2</td><td>5</td></tr>",
                            "<tr><td>75</td><td>1458</td><td>1</td><td>2</td></tr>",
                            "<tr><td>76</td><td>976</td><td>2</td><td>0</td></tr>",
                            "<tr><td>76</td><td>683</td><td>7</td><td>2</td></tr>",
                            "<tr><td>76</td><td>1557</td><td>3</td><td>7</td></tr>",
                            "<tr><td>77</td><td>593</td><td>3</td><td>0</td></tr>",
                            "<tr><td>77</td><td>982</td><td>3</td><td>3</td></tr>",
                            "<tr><td>77</td><td>698</td><td>4</td><td>3</td></tr>",
                            "<tr><td>77</td><td>1104</td><td>1</td><td>4</td></tr>",
                            "<tr><td>77</td><td>1439</td><td>6</td><td>1</td></tr>",
                            "<tr><td>77</td><td>1461</td><td>4</td><td>6</td></tr>",
                            "<tr><td>78</td><td>568</td><td>1</td><td>0</td></tr>",
                            "<tr><td>78</td><td>646</td><td>3</td><td>1</td></tr>",
                            "<tr><td>78</td><td>700</td><td>5</td><td>3</td></tr>",
                            "<tr><td>78</td><td>1268</td><td>2</td><td>5</td></tr>",
                            "<tr><td>78</td><td>1281</td><td>3</td><td>2</td></tr>",
                            "<tr><td>78</td><td>1577</td><td>7</td><td>3</td></tr>",
                            "<tr><td>79</td><td>583</td><td>6</td><td>0</td></tr>",
                            "<tr><td>79</td><td>1054</td><td>1</td><td>6</td></tr>",
                            "<tr><td>79</td><td>1229</td><td>7</td><td>1</td></tr>",
                            "<tr><td>79</td><td>1345</td><td>3</td><td>7</td></tr>",
                            "<tr><td>79</td><td>1447</td><td>4</td><td>3</td></tr>",
                            "<tr><td>80</td><td>887</td><td>6</td><td>0</td></tr>",
                            "<tr><td>80</td><td>929</td><td>2</td><td>6</td></tr>",
                            "<tr><td>80</td><td>983</td><td>6</td><td>2</td></tr>",
                            "<tr><td>80</td><td>667</td><td>6</td><td>6</td></tr>",
                            "<tr><td>80</td><td>1071</td><td>4</td><td>6</td></tr>",
                            "<tr><td>80</td><td>1279</td><td>5</td><td>4</td></tr>",
                            "<tr><td>80</td><td>1367</td><td>3</td><td>5</td></tr>",
                            "<tr><td>81</td><td>1366</td><td>5</td><td>0</td></tr>",
                            "<tr><td>81</td><td>1443</td><td>7</td><td>5</td></tr>",
                            "<tr><td>81</td><td>1464</td><td>7</td><td>7</td></tr>",
                            "<tr><td>81</td><td>1506</td><td>3</td><td>7</td></tr>",
                            "<tr><td>81</td><td>1562</td><td>3</td><td>3</td></tr>",
                            "<tr><td>82</td><td>862</td><td>4</td><td>0</td></tr>",
                            "<tr><td>82</td><td>871</td><td>5</td><td>4</td></tr>",
                            "<tr><td>82</td><td>997</td><td>6</td><td>5</td></tr>",
                            "<tr><td>82</td><td>1277</td><td>5</td><td>6</td></tr>",
                            "<tr><td>82</td><td>1341</td><td>2</td><td>5</td></tr>",
                            "<tr><td>82</td><td>1406</td><td>1</td><td>2</td></tr>",
                            "<tr><td>83</td><td>572</td><td>7</td><td>0</td></tr>",
                            "<tr><td>83</td><td>869</td><td>6</td><td>7</td></tr>",
                            "<tr><td>83</td><td>878</td><td>6</td><td>6</td></tr>",
                            "<tr><td>83</td><td>995</td><td>5</td><td>6</td></tr>",
                            "<tr><td>83</td><td>674</td><td>4</td><td>5</td></tr>",
                            "<tr><td>83</td><td>798</td><td>4</td><td>4</td></tr>",
                            "<tr><td>83</td><td>1119</td><td>6</td><td>4</td></tr>",
                            "<tr><td>83</td><td>1379</td><td>7</td><td>6</td></tr>",
                            "<tr><td>84</td><td>954</td><td>5</td><td>0</td></tr>",
                            "<tr><td>84</td><td>819</td><td>2</td><td>5</td></tr>",
                            "<tr><td>84</td><td>1376</td><td>5</td><td>2</td></tr>",
                            "<tr><td>84</td><td>1384</td><td>7</td><td>5</td></tr>",
                            "<tr><td>85</td><td>647</td><td>3</td><td>0</td></tr>",
                            "<tr><td>85</td><td>1059</td><td>3</td><td>3</td></tr>",
                            "<tr><td>85</td><td>1320</td><td>1</td><td>3</td></tr>",
                            "<tr><td>85</td><td>1513</td><td>7</td><td>1</td></tr>",
                            "<tr><td>86</td><td>859</td><td>1</td><td>0</td></tr>",
                            "<tr><td>86</td><td>1057</td><td>5</td><td>1</td></tr>",
                            "<tr><td>86</td><td>1079</td><td>4</td><td>5</td></tr>",
                            "<tr><td>86</td><td>1108</td><td>1</td><td>4</td></tr>",
                            "<tr><td>86</td><td>1453</td><td>1</td><td>1</td></tr>",
                            "<tr><td>87</td><td>558</td><td>4</td><td>0</td></tr>",
                            "<tr><td>87</td><td>844</td><td>1</td><td>4</td></tr>",
                            "<tr><td>87</td><td>1103</td><td>3</td><td>1</td></tr>",
                            "<tr><td>87</td><td>1349</td><td>5</td><td>3</td></tr>",
                            "<tr><td>87</td><td>1456</td><td>5</td><td>5</td></tr>",
                            "<tr><td>88</td><td>866</td><td>2</td><td>0</td></tr>",
                            "<tr><td>88</td><td>757</td><td>7</td><td>2</td></tr>",
                            "<tr><td>88</td><td>1196</td><td>3</td><td>7</td></tr>",
                            "<tr><td>88</td><td>1273</td><td>7</td><td>3</td></tr>",
                            "<tr><td>88</td><td>1300</td><td>3</td><td>7</td></tr>",
                            "<tr><td>88</td><td>1359</td><td>2</td><td>3</td></tr>",
                            "<tr><td>88</td><td>1548</td><td>7</td><td>2</td></tr>",
                            "<tr><td>88</td><td>1575</td><td>6</td><td>7</td></tr>",
                            "<tr><td>89</td><td>817</td><td>3</td><td>0</td></tr>",
                            "<tr><td>89</td><td>1037</td><td>7</td><td>3</td></tr>",
                            "<tr><td>89</td><td>1101</td><td>5</td><td>7</td></tr>",
                            "<tr><td>89</td><td>1189</td><td>6</td><td>5</td></tr>",
                            "<tr><td>89</td><td>1253</td><td>2</td><td>6</td></tr>",
                            "<tr><td>89</td><td>1269</td><td>2</td><td>2</td></tr>",
                            "<tr><td>89</td><td>1399</td><td>2</td><td>2</td></tr>",
                            "<tr><td>89</td><td>1521</td><td>7</td><td>2</td></tr>",
                            "<tr><td>90</td><td>729</td><td>2</td><td>0</td></tr>",
                            "<tr><td>90</td><td>1174</td><td>7</td><td>2</td></tr>",
                            "<tr><td>90</td><td>1299</td><td>6</td><td>7</td></tr>",
                            "<tr><td>90</td><td>1405</td><td>5</td><td>6</td></tr>",
                            "<tr><td>91</td><td>636</td><td>6</td><td>0</td></tr>",
                            "<tr><td>91</td><td>732</td><td>4</td><td>6</td></tr>",
                            "<tr><td>91</td><td>1213</td><td>3</td><td>4</td></tr>",
                            "<tr><td>91</td><td>1397</td><td>4</td><td>3</td></tr>",
                            "<tr><td>92</td><td>942</td><td>6</td><td>0</td></tr>",
                            "<tr><td>92</td><td>1016</td><td>2</td><td>6</td></tr>",
                            "<tr><td>92</td><td>809</td><td>3</td><td>2</td></tr>",
                            "<tr><td>92</td><td>841</td><td>6</td><td>3</td></tr>",
                            "<tr><td>92</td><td>1527</td><td>2</td><td>6</td></tr>",
                            "<tr><td>92</td><td>1555</td><td>4</td><td>2</td></tr>",
                            "<tr><td>93</td><td>741</td><td>7</td><td>0</td></tr>",
                            "<tr><td>93</td><td>1169</td><td>4</td><td>7</td></tr>",
                            "<tr><td>93</td><td>1217</td><td>1</td><td>4</td></tr>",
                            "<tr><td>93</td><td>1355</td><td>2</td><td>1</td></tr>",
                            "<tr><td>93</td><td>1391</td><td>4</td><td>2</td></tr>",
                            "<tr><td>94</td><td>616</td><td>4</td><td>0</td></tr>",
                            "<tr><td>94</td><td>975</td><td>5</td><td>4</td></tr>",
                            "<tr><td>94</td><td>665</td><td>7</td><td>5</td></tr>",
                            "<tr><td>94</td><td>727</td><td>3</td><td>7</td></tr>",
                            "<tr><td>94</td><td>1241</td><td>7</td><td>3</td></tr>",
                            "<tr><td>94</td><td>1305</td><td>2</td><td>7</td></tr>",
                            "<tr><td>94</td><td>1312</td><td>3</td><td>2</td></tr>",
                            "<tr><td>94</td><td>1368</td><td>1</td><td>3</td></tr>",
                            "<tr><td>94</td><td>1518</td><td>2</td><td>1</td></tr>",
                            "<tr><td>94</td><td>1564</td><td>7</td><td>2</td></tr>",
                            "<tr><td>95</td><td>656</td><td>7</td><td>0</td></tr>",
                            "<tr><td>95</td><td>1048</td><td>3</td><td>7</td></tr>",
                            "<tr><td>95</td><td>1097</td><td>4</td><td>3</td></tr>",
                            "<tr><td>95</td><td>1543</td><td>7</td><td>4</td></tr>",
                            "<tr><td>96</td><td>607</td><td>4</td><td>0</td></tr>",
                            "<tr><td>96</td><td>623</td><td>7</td><td>4</td></tr>",
                            "<tr><td>96</td><td>671</td><td>4</td><td>7</td></tr>",
                            "<tr><td>96</td><td>780</td><td>1</td><td>4</td></tr>",
                            "<tr><td>96</td><td>1378</td><td>3</td><td>1</td></tr>",
                            "<tr><td>96</td><td>1438</td><td>2</td><td>3</td></tr>",
                            "<tr><td>96</td><td>1569</td><td>7</td><td>2</td></tr>",
                            "<tr><td>97</td><td>635</td><td>3</td><td>0</td></tr>",
                            "<tr><td>97</td><td>726</td><td>4</td><td>3</td></tr>",
                            "<tr><td>97</td><td>718</td><td>7</td><td>4</td></tr>",
                            "<tr><td>97</td><td>836</td><td>2</td><td>7</td></tr>",
                            "<tr><td>97</td><td>1395</td><td>1</td><td>2</td></tr>",
                            "<tr><td>97</td><td>1417</td><td>7</td><td>1</td></tr>",
                            "<tr><td>97</td><td>1528</td><td>2</td><td>7</td></tr>",
                            "<tr><td>98</td><td>631</td><td>6</td><td>0</td></tr>",
                            "<tr><td>98</td><td>884</td><td>5</td><td>6</td></tr>",
                            "<tr><td>98</td><td>1050</td><td>6</td><td>5</td></tr>",
                            "<tr><td>98</td><td>1402</td><td>2</td><td>6</td></tr>",
                            "<tr><td>99</td><td>632</td><td>1</td><td>0</td></tr>",
                            "<tr><td>99</td><td>691</td><td>5</td><td>1</td></tr>",
                            "<tr><td>99</td><td>1072</td><td>1</td><td>5</td></tr>",
                            "<tr><td>99</td><td>1408</td><td>1</td><td>1</td></tr>",
                            "<tr><td>99</td><td>1486</td><td>5</td><td>1</td></tr>",
                            "<tr><td>100</td><td>597</td><td>1</td><td>0</td></tr>",
                            "<tr><td>100</td><td>637</td><td>5</td><td>1</td></tr>",
                            "<tr><td>100</td><td>1315</td><td>5</td><td>5</td></tr>",
                            "<tr><td>100</td><td>1482</td><td>7</td><td>5</td></tr>",
                            "<tr><td>101</td><td>715</td><td>3</td><td>0</td></tr>",
                            "<tr><td>101</td><td>1332</td><td>6</td><td>3</td></tr>",
                            "<tr><td>101</td><td>1516</td><td>4</td><td>6</td></tr>",
                            "<tr><td>102</td><td>689</td><td>5</td><td>0</td></tr>",
                            "<tr><td>102</td><td>1343</td><td>2</td><td>5</td></tr>",
                            "<tr><td>103</td><td>972</td><td>2</td><td>0</td></tr>",
                            "<tr><td>103</td><td>992</td><td>7</td><td>2</td></tr>",
                            "<tr><td>103</td><td>1398</td><td>1</td><td>7</td></tr>",
                            "<tr><td>103</td><td>1485</td><td>4</td><td>1</td></tr>",
                            "<tr><td>104</td><td>837</td><td>4</td><td>0</td></tr>",
                            "<tr><td>104</td><td>1180</td><td>1</td><td>4</td></tr>",
                            "<tr><td>104</td><td>1522</td><td>2</td><td>1</td></tr>",
                            "<tr><td>104</td><td>1532</td><td>3</td><td>2</td></tr>",
                            "<tr><td>105</td><td>618</td><td>1</td><td>0</td></tr>",
                            "<tr><td>105</td><td>1525</td><td>5</td><td>1</td></tr>",
                            "<tr><td>106</td><td>610</td><td>3</td><td>0</td></tr>",
                            "<tr><td>106</td><td>708</td><td>7</td><td>3</td></tr>",
                            "<tr><td>106</td><td>1228</td><td>7</td><td>7</td></tr>",
                            "<tr><td>106</td><td>1271</td><td>5</td><td>7</td></tr>",
                            "<tr><td>106</td><td>1372</td><td>7</td><td>5</td></tr>",
                            "<tr><td>106</td><td>1510</td><td>6</td><td>7</td></tr>",
                            "<tr><td>107</td><td>586</td><td>6</td><td>0</td></tr>",
                            "<tr><td>107</td><td>1250</td><td>4</td><td>6</td></tr>",
                            "<tr><td>107</td><td>1354</td><td>1</td><td>4</td></tr>",
                            "<tr><td>107</td><td>1452</td><td>6</td><td>1</td></tr>",
                            "<tr><td>107</td><td>1494</td><td>2</td><td>6</td></tr>",
                            "<tr><td>108</td><td>1102</td><td>1</td><td>0</td></tr>",
                            "<tr><td>108</td><td>1392</td><td>6</td><td>1</td></tr>",
                            "<tr><td>109</td><td>614</td><td>4</td><td>0</td></tr>",
                            "<tr><td>109</td><td>621</td><td>7</td><td>4</td></tr>",
                            "<tr><td>109</td><td>654</td><td>5</td><td>7</td></tr>",
                            "<tr><td>109</td><td>810</td><td>2</td><td>5</td></tr>",
                            "<tr><td>109</td><td>1083</td><td>1</td><td>2</td></tr>",
                            "<tr><td>109</td><td>1298</td><td>4</td><td>1</td></tr>",
                            "<tr><td>109</td><td>1560</td><td>1</td><td>4</td></tr>",
                            "<tr><td>110</td><td>931</td><td>5</td><td>0</td></tr>",
                            "<tr><td>110</td><td>964</td><td>6</td><td>5</td></tr>",
                            "<tr><td>110</td><td>685</td><td>1</td><td>6</td></tr>",
                            "<tr><td>110</td><td>1041</td><td>3</td><td>1</td></tr>",
                            "<tr><td>110</td><td>1109</td><td>5</td><td>3</td></tr>",
                            "<tr><td>110</td><td>1162</td><td>2</td><td>5</td></tr>",
                            "<tr><td>110</td><td>1424</td><td>1</td><td>2</td></tr>",
                            "<tr><td>110</td><td>1489</td><td>6</td><td>1</td></tr>",
                            "<tr><td>111</td><td>605</td><td>7</td><td>0</td></tr>",
                            "<tr><td>111</td><td>959</td><td>7</td><td>7</td></tr>",
                            "<tr><td>111</td><td>786</td><td>4</td><td>7</td></tr>",
                            "<tr><td>111</td><td>1296</td><td>3</td><td>4</td></tr>",
                            "<tr><td>111</td><td>1353</td><td>5</td><td>3</td></tr>",
                            "<tr><td>112</td><td>921</td><td>1</td><td>0</td></tr>",
                            "<tr><td>112</td><td>776</td><td>4</td><td>1</td></tr>",
                            "<tr><td>112</td><td>801</td><td>5</td><td>4</td></tr>",
                            "<tr><td>112</td><td>1124</td><td>6</td><td>5</td></tr>",
                            "<tr><td>112</td><td>1530</td><td>6</td><td>6</td></tr>",
                            "<tr><td>113</td><td>1029</td><td>5</td><td>0</td></tr>",
                            "<tr><td>113</td><td>1085</td><td>4</td><td>5</td></tr>",
                            "<tr><td>113</td><td>1263</td><td>1</td><td>4</td></tr>",
                            "<tr><td>113</td><td>1495</td><td>7</td><td>1</td></tr>",
                            "<tr><td>113</td><td>1499</td><td>2</td><td>7</td></tr>",
                            "<tr><td>114</td><td>966</td><td>6</td><td>0</td></tr>",
                            "<tr><td>114</td><td>737</td><td>2</td><td>6</td></tr>",
                            "<tr><td>114</td><td>827</td><td>7</td><td>2</td></tr>",
                            "<tr><td>114</td><td>1540</td><td>3</td><td>7</td></tr>",
                            "<tr><td>115</td><td>596</td><td>7</td><td>0</td></tr>",
                            "<tr><td>115</td><td>943</td><td>7</td><td>7</td></tr>",
                            "<tr><td>115</td><td>1121</td><td>7</td><td>7</td></tr>",
                            "<tr><td>115</td><td>1154</td><td>4</td><td>7</td></tr>",
                            "<tr><td>115</td><td>1352</td><td>3</td><td>4</td></tr>",
                            "<tr><td>115</td><td>1554</td><td>3</td><td>3</td></tr>",
                            "<tr><td>115</td><td>1566</td><td>1</td><td>3</td></tr>",
                            "<tr><td>116</td><td>1455</td><td>2</td><td>0</td></tr>",
                            "<tr><td>116</td><td>1501</td><td>4</td><td>2</td></tr>",
                            "<tr><td>117</td><td>612</td><td>2</td><td>0</td></tr>",
                            "<tr><td>117</td><td>617</td><td>3</td><td>2</td></tr>",
                            "<tr><td>117</td><td>953</td><td>5</td><td>3</td></tr>",
                            "<tr><td>117</td><td>962</td><td>4</td><td>5</td></tr>",
                            "<tr><td>117</td><td>1002</td><td>1</td><td>4</td></tr>",
                            "<tr><td>117</td><td>1192</td><td>2</td><td>1</td></tr>",
                            "<tr><td>117</td><td>1247</td><td>3</td><td>2</td></tr>",
                            "<tr><td>117</td><td>1468</td><td>7</td><td>3</td></tr>",
                            "<tr><td>118</td><td>864</td><td>6</td><td>0</td></tr>",
                            "<tr><td>118</td><td>994</td><td>7</td><td>6</td></tr>",
                            "<tr><td>118</td><td>996</td><td>3</td><td>7</td></tr>",
                            "<tr><td>118</td><td>716</td><td>1</td><td>3</td></tr>",
                            "<tr><td>118</td><td>1374</td><td>5</td><td>1</td></tr>",
                            "<tr><td>118</td><td>1472</td><td>6</td><td>5</td></tr>",
                            "<tr><td>118</td><td>1481</td><td>3</td><td>6</td></tr>",
                            "<tr><td>119</td><td>1026</td><td>3</td><td>0</td></tr>",
                            "<tr><td>119</td><td>706</td><td>2</td><td>3</td></tr>",
                            "<tr><td>119</td><td>722</td><td>1</td><td>2</td></tr>",
                            "<tr><td>119</td><td>1413</td><td>3</td><td>1</td></tr>",
                            "<tr><td>119</td><td>1488</td><td>3</td><td>3</td></tr>",
                            "<tr><td>120</td><td>998</td><td>3</td><td>0</td></tr>",
                            "<tr><td>120</td><td>762</td><td>3</td><td>3</td></tr>",
                            "<tr><td>120</td><td>1089</td><td>6</td><td>3</td></tr>",
                            "<tr><td>120</td><td>1339</td><td>6</td><td>6</td></tr>",
                            "<tr><td>120</td><td>1483</td><td>1</td><td>6</td></tr>",
                            "<tr><td>120</td><td>1493</td><td>7</td><td>1</td></tr>",
                            "<tr><td>121</td><td>858</td><td>5</td><td>0</td></tr>",
                            "<tr><td>121</td><td>735</td><td>6</td><td>5</td></tr>",
                            "<tr><td>121</td><td>739</td><td>6</td><td>6</td></tr>",
                            "<tr><td>121</td><td>1049</td><td>3</td><td>6</td></tr>",
                            "<tr><td>121</td><td>1128</td><td>4</td><td>3</td></tr>",
                            "<tr><td>121</td><td>1215</td><td>4</td><td>4</td></tr>",
                            "<tr><td>121</td><td>1373</td><td>5</td><td>4</td></tr>",
                            "<tr><td>121</td><td>1393</td><td>6</td><td>5</td></tr>",
                            "<tr><td>122</td><td>1007</td><td>2</td><td>0</td></tr>",
                            "<tr><td>122</td><td>1036</td><td>2</td><td>2</td></tr>",
                            "<tr><td>122</td><td>1062</td><td>3</td><td>2</td></tr>",
                            "<tr><td>122</td><td>1166</td><td>4</td><td>3</td></tr>",
                            "<tr><td>122</td><td>1209</td><td>1</td><td>4</td></tr>",
                            "<tr><td>122</td><td>1245</td><td>2</td><td>1</td></tr>",
                            "<tr><td>122</td><td>1337</td><td>2</td><td>2</td></tr>",
                            "<tr><td>122</td><td>1385</td><td>5</td><td>2</td></tr>",
                            "<tr><td>122</td><td>1440</td><td>3</td><td>5</td></tr>",
                            "<tr><td>123</td><td>587</td><td>7</td><td>0</td></tr>",
                            "<tr><td>123</td><td>923</td><td>4</td><td>7</td></tr>",
                            "<tr><td>123</td><td>967</td><td>5</td><td>4</td></tr>",
                            "<tr><td>123</td><td>1223</td><td>1</td><td>5</td></tr>",
                            "<tr><td>123</td><td>1282</td><td>6</td><td>1</td></tr>",
                            "<tr><td>124</td><td>861</td><td>1</td><td>0</td></tr>",
                            "<tr><td>124</td><td>1210</td><td>4</td><td>1</td></tr>",
                            "<tr><td>124</td><td>1330</td><td>7</td><td>4</td></tr>",
                            "<tr><td>124</td><td>1403</td><td>6</td><td>7</td></tr>",
                            "<tr><td>124</td><td>1419</td><td>3</td><td>6</td></tr>",
                            "<tr><td>124</td><td>1531</td><td>6</td><td>3</td></tr>",
                            "<tr><td>125</td><td>576</td><td>1</td><td>0</td></tr>",
                            "<tr><td>126</td><td>754</td><td>4</td><td>0</td></tr>",
                            "<tr><td>126</td><td>806</td><td>6</td><td>4</td></tr>",
                            "<tr><td>126</td><td>1134</td><td>1</td><td>6</td></tr>",
                            "<tr><td>126</td><td>1364</td><td>6</td><td>1</td></tr>",
                            "<tr><td>126</td><td>1428</td><td>7</td><td>6</td></tr>",
                            "<tr><td>126</td><td>1500</td><td>4</td><td>7</td></tr>",
                            "<tr><td>127</td><td>643</td><td>2</td><td>0</td></tr>",
                            "<tr><td>127</td><td>853</td><td>5</td><td>2</td></tr>",
                            "<tr><td>127</td><td>879</td><td>2</td><td>5</td></tr>",
                            "<tr><td>127</td><td>1034</td><td>6</td><td>2</td></tr>",
                            "<tr><td>127</td><td>1226</td><td>5</td><td>6</td></tr>",
                            "<tr><td>127</td><td>1286</td><td>1</td><td>5</td></tr>",
                            "<tr><td>127</td><td>1579</td><td>5</td><td>1</td></tr>",
                            "<tr><td>128</td><td>717</td><td>2</td><td>0</td></tr>",
                            "<tr><td>128</td><td>815</td><td>1</td><td>2</td></tr>",
                            "<tr><td>128</td><td>1290</td><td>1</td><td>1</td></tr>",
                            "<tr><td>128</td><td>1574</td><td>1</td><td>1</td></tr>",
                            "<tr><td>128</td><td>1583</td><td>4</td><td>1</td></tr>",
                            "<tr><td>129</td><td>723</td><td>7</td><td>0</td></tr>",
                            "<tr><td>129</td><td>1360</td><td>6</td><td>7</td></tr>",
                            "<tr><td>129</td><td>1445</td><td>7</td><td>6</td></tr>",
                            "<tr><td>129</td><td>1509</td><td>6</td><td>7</td></tr>",
                            "<tr><td>130</td><td>580</td><td>3</td><td>0</td></tr>",
                            "<tr><td>130</td><td>613</td><td>3</td><td>3</td></tr>",
                            "<tr><td>130</td><td>910</td><td>2</td><td>3</td></tr>",
                            "<tr><td>130</td><td>779</td><td>6</td><td>2</td></tr>",
                            "<tr><td>130</td><td>1040</td><td>1</td><td>6</td></tr>",
                            "<tr><td>130</td><td>1475</td><td>7</td><td>1</td></tr>",
                            "<tr><td>131</td><td>559</td><td>2</td><td>0</td></tr>",
                            "<tr><td>131</td><td>655</td><td>1</td><td>2</td></tr>",
                            "<tr><td>131</td><td>881</td><td>6</td><td>1</td></tr>",
                            "<tr><td>131</td><td>760</td><td>4</td><td>6</td></tr>",
                            "<tr><td>131</td><td>1474</td><td>5</td><td>4</td></tr>",
                            "<tr><td>132</td><td>619</td><td>7</td><td>0</td></tr>",
                            "<tr><td>132</td><td>999</td><td>6</td><td>7</td></tr>",
                            "<tr><td>132</td><td>1090</td><td>7</td><td>6</td></tr>",
                            "<tr><td>132</td><td>1111</td><td>3</td><td>7</td></tr>",
                            "<tr><td>132</td><td>1301</td><td>2</td><td>3</td></tr>",
                            "<tr><td>132</td><td>1519</td><td>2</td><td>2</td></tr>",
                            "<tr><td>133</td><td>909</td><td>4</td><td>0</td></tr>",
                            "<tr><td>133</td><td>988</td><td>3</td><td>4</td></tr>",
                            "<tr><td>133</td><td>1149</td><td>7</td><td>3</td></tr>",
                            "<tr><td>133</td><td>1306</td><td>3</td><td>7</td></tr>",
                            "<tr><td>133</td><td>1363</td><td>5</td><td>3</td></tr>",
                            "<tr><td>133</td><td>1409</td><td>1</td><td>5</td></tr>",
                            "<tr><td>134</td><td>1004</td><td>5</td><td>0</td></tr>",
                            "<tr><td>134</td><td>1024</td><td>1</td><td>5</td></tr>",
                            "<tr><td>134</td><td>1045</td><td>2</td><td>1</td></tr>",
                            "<tr><td>134</td><td>1178</td><td>7</td><td>2</td></tr>",
                            "<tr><td>134</td><td>1219</td><td>6</td><td>7</td></tr>",
                            "<tr><td>134</td><td>1535</td><td>7</td><td>6</td></tr>",
                            "<tr><td>135</td><td>724</td><td>6</td><td>0</td></tr>",
                            "<tr><td>135</td><td>849</td><td>7</td><td>6</td></tr>",
                            "<tr><td>135</td><td>1289</td><td>3</td><td>7</td></tr>",
                            "<tr><td>136</td><td>584</td><td>2</td><td>0</td></tr>",
                            "<tr><td>136</td><td>661</td><td>5</td><td>2</td></tr>",
                            "<tr><td>136</td><td>1046</td><td>4</td><td>5</td></tr>",
                            "<tr><td>137</td><td>582</td><td>3</td><td>0</td></tr>",
                            "<tr><td>137</td><td>649</td><td>5</td><td>3</td></tr>",
                            "<tr><td>137</td><td>657</td><td>6</td><td>5</td></tr>",
                            "<tr><td>137</td><td>1014</td><td>1</td><td>6</td></tr>",
                            "<tr><td>137</td><td>1201</td><td>6</td><td>1</td></tr>",
                            "<tr><td>137</td><td>1280</td><td>3</td><td>6</td></tr>",
                            "<tr><td>138</td><td>768</td><td>6</td><td>0</td></tr>",
                            "<tr><td>138</td><td>796</td><td>4</td><td>6</td></tr>",
                            "<tr><td>138</td><td>1256</td><td>4</td><td>4</td></tr>",
                            "<tr><td>138</td><td>1283</td><td>2</td><td>4</td></tr>",
                            "<tr><td>138</td><td>1294</td><td>5</td><td>2</td></tr>",
                            "<tr><td>138</td><td>1358</td><td>7</td><td>5</td></tr>",
                            "<tr><td>138</td><td>1370</td><td>5</td><td>7</td></tr>",
                            "<tr><td>139</td><td>579</td><td>2</td><td>0</td></tr>",
                            "<tr><td>139</td><td>745</td><td>1</td><td>2</td></tr>",
                            "<tr><td>139</td><td>751</td><td>4</td><td>1</td></tr>",
                            "<tr><td>139</td><td>1042</td><td>2</td><td>4</td></tr>",
                            "<tr><td>139</td><td>1064</td><td>6</td><td>2</td></tr>",
                            "<tr><td>139</td><td>1433</td><td>6</td><td>6</td></tr>",
                            "<tr><td>139</td><td>1450</td><td>7</td><td>6</td></tr>",
                            "<tr><td>140</td><td>915</td><td>2</td><td>0</td></tr>",
                            "<tr><td>140</td><td>733</td><td>1</td><td>2</td></tr>",
                            "<tr><td>140</td><td>1098</td><td>2</td><td>1</td></tr>",
                            "<tr><td>140</td><td>1156</td><td>3</td><td>2</td></tr>",
                            "<tr><td>140</td><td>1259</td><td>7</td><td>3</td></tr>",
                            "<tr><td>140</td><td>1357</td><td>4</td><td>7</td></tr>",
                            "<tr><td>140</td><td>1361</td><td>3</td><td>4</td></tr>",
                            "<tr><td>140</td><td>1371</td><td>1</td><td>3</td></tr>",
                            "<tr><td>141</td><td>565</td><td>6</td><td>0</td></tr>",
                            "<tr><td>141</td><td>908</td><td>2</td><td>6</td></tr>",
                            "<tr><td>141</td><td>761</td><td>3</td><td>2</td></tr>",
                            "<tr><td>141</td><td>784</td><td>7</td><td>3</td></tr>",
                            "<tr><td>141</td><td>1254</td><td>4</td><td>7</td></tr>",
                            "<tr><td>141</td><td>1401</td><td>6</td><td>4</td></tr>",
                            "<tr><td>142</td><td>1369</td><td>6</td><td>0</td></tr>",
                            "<tr><td>142</td><td>1545</td><td>3</td><td>6</td></tr>",
                            "<tr><td>143</td><td>980</td><td>3</td><td>0</td></tr>",
                            "<tr><td>143</td><td>1155</td><td>7</td><td>3</td></tr>",
                            "<tr><td>143</td><td>1193</td><td>6</td><td>7</td></tr>",
                            "<tr><td>143</td><td>1222</td><td>2</td><td>6</td></tr>",
                            "<tr><td>143</td><td>1313</td><td>4</td><td>2</td></tr>",
                            "<tr><td>143</td><td>1394</td><td>3</td><td>4</td></tr>",
                            "<tr><td>143</td><td>1448</td><td>6</td><td>3</td></tr>",
                            "<tr><td>144</td><td>581</td><td>4</td><td>0</td></tr>",
                            "<tr><td>144</td><td>1087</td><td>2</td><td>4</td></tr>",
                            "<tr><td>144</td><td>1199</td><td>7</td><td>2</td></tr>",
                            "<tr><td>144</td><td>1297</td><td>1</td><td>7</td></tr>",
                            "<tr><td>144</td><td>1572</td><td>2</td><td>1</td></tr>",
                            "<tr><td>145</td><td>703</td><td>4</td><td>0</td></tr>",
                            "<tr><td>145</td><td>1077</td><td>1</td><td>4</td></tr>",
                            "<tr><td>145</td><td>1120</td><td>1</td><td>1</td></tr>",
                            "<tr><td>145</td><td>1145</td><td>4</td><td>1</td></tr>",
                            "<tr><td>145</td><td>1338</td><td>2</td><td>4</td></tr>",
                            "<tr><td>145</td><td>1471</td><td>1</td><td>2</td></tr>",
                            "<tr><td>146</td><td>890</td><td>3</td><td>0</td></tr>",
                            "<tr><td>146</td><td>664</td><td>3</td><td>3</td></tr>",
                            "<tr><td>146</td><td>789</td><td>7</td><td>3</td></tr>",
                            "<tr><td>146</td><td>804</td><td>7</td><td>7</td></tr>",
                            "<tr><td>146</td><td>1032</td><td>5</td><td>7</td></tr>",
                            "<tr><td>146</td><td>1479</td><td>6</td><td>5</td></tr>",
                            "<tr><td>147</td><td>771</td><td>4</td><td>0</td></tr>",
                            "<tr><td>148</td><td>678</td><td>4</td><td>0</td></tr>",
                            "<tr><td>148</td><td>765</td><td>3</td><td>4</td></tr>",
                            "<tr><td>148</td><td>783</td><td>7</td><td>3</td></tr>",
                            "<tr><td>148</td><td>808</td><td>2</td><td>7</td></tr>",
                            "<tr><td>148</td><td>812</td><td>6</td><td>2</td></tr>",
                            "<tr><td>148</td><td>1578</td><td>7</td><td>6</td></tr>",
                            "<tr><td>149</td><td>591</td><td>1</td><td>0</td></tr>",
                            "<tr><td>149</td><td>652</td><td>1</td><td>1</td></tr>",
                            "<tr><td>149</td><td>833</td><td>2</td><td>1</td></tr>",
                            "<tr><td>149</td><td>834</td><td>5</td><td>2</td></tr>",
                            "<tr><td>149</td><td>843</td><td>4</td><td>5</td></tr>",
                            "<tr><td>149</td><td>1146</td><td>6</td><td>4</td></tr>",
                            "<tr><td>149</td><td>1514</td><td>5</td><td>6</td></tr>",
                            "<tr><td>150</td><td>641</td><td>3</td><td>0</td></tr>",
                            "<tr><td>150</td><td>1100</td><td>5</td><td>3</td></tr>",
                            "<tr><td>150</td><td>1105</td><td>1</td><td>5</td></tr>",
                            "<tr><td>150</td><td>1177</td><td>1</td><td>1</td></tr>",
                            "<tr><td>150</td><td>1203</td><td>4</td><td>1</td></tr>",
                            "<tr><td>150</td><td>1432</td><td>3</td><td>4</td></tr>",
                            "<tr><td>151</td><td>893</td><td>3</td><td>0</td></tr>",
                            "<tr><td>151</td><td>1058</td><td>3</td><td>3</td></tr>",
                            "<tr><td>151</td><td>1115</td><td>3</td><td>3</td></tr>",
                            "<tr><td>152</td><td>730</td><td>2</td><td>0</td></tr>",
                            "<tr><td>152</td><td>1160</td><td>7</td><td>2</td></tr>",
                            "<tr><td>152</td><td>1197</td><td>6</td><td>7</td></tr>",
                            "<tr><td>152</td><td>1558</td><td>2</td><td>6</td></tr>",
                            "<tr><td>153</td><td>594</td><td>3</td><td>0</td></tr>",
                            "<tr><td>153</td><td>969</td><td>6</td><td>3</td></tr>",
                            "<tr><td>153</td><td>1460</td><td>3</td><td>6</td></tr>",
                            "<tr><td>153</td><td>1470</td><td>5</td><td>3</td></tr>",
                            "<tr><td>153</td><td>1507</td><td>3</td><td>5</td></tr>",
                            "<tr><td>154</td><td>968</td><td>1</td><td>0</td></tr>",
                            "<tr><td>154</td><td>1061</td><td>7</td><td>1</td></tr>",
                            "<tr><td>154</td><td>1168</td><td>6</td><td>7</td></tr>",
                            "<tr><td>154</td><td>1262</td><td>1</td><td>6</td></tr>",
                            "<tr><td>154</td><td>1539</td><td>2</td><td>1</td></tr>",
                            "<tr><td>155</td><td>575</td><td>1</td><td>0</td></tr>",
                            "<tr><td>155</td><td>577</td><td>3</td><td>1</td></tr>",
                            "<tr><td>155</td><td>1112</td><td>4</td><td>3</td></tr>",
                            "<tr><td>155</td><td>1310</td><td>1</td><td>4</td></tr>",
                            "<tr><td>155</td><td>1541</td><td>1</td><td>1</td></tr>",
                            "<tr><td>156</td><td>588</td><td>7</td><td>0</td></tr>",
                            "<tr><td>156</td><td>907</td><td>3</td><td>7</td></tr>",
                            "<tr><td>156</td><td>956</td><td>6</td><td>3</td></tr>",
                            "<tr><td>156</td><td>692</td><td>6</td><td>6</td></tr>",
                            "<tr><td>156</td><td>1462</td><td>7</td><td>6</td></tr>",
                            "<tr><td>156</td><td>1490</td><td>1</td><td>7</td></tr>",
                            "<tr><td>156</td><td>1561</td><td>4</td><td>1</td></tr>",
                            "<tr><td>157</td><td>648</td><td>4</td><td>0</td></tr>",
                            "<tr><td>157</td><td>1025</td><td>3</td><td>4</td></tr>",
                            "<tr><td>157</td><td>1047</td><td>4</td><td>3</td></tr>",
                            "<tr><td>157</td><td>1240</td><td>7</td><td>4</td></tr>",
                            "<tr><td>157</td><td>1551</td><td>3</td><td>7</td></tr>",
                            "<tr><td>158</td><td>825</td><td>4</td><td>0</td></tr>",
                            "<tr><td>158</td><td>840</td><td>4</td><td>4</td></tr>",
                            "<tr><td>158</td><td>1117</td><td>3</td><td>4</td></tr>",
                            "<tr><td>160</td><td>922</td><td>2</td><td>0</td></tr>",
                            "<tr><td>160</td><td>927</td><td>4</td><td>2</td></tr>",
                            "<tr><td>160</td><td>933</td><td>4</td><td>4</td></tr>",
                            "<tr><td>160</td><td>720</td><td>2</td><td>4</td></tr>",
                            "<tr><td>160</td><td>1565</td><td>3</td><td>2</td></tr>",
                            "<tr><td>161</td><td>639</td><td>4</td><td>0</td></tr>",
                            "<tr><td>161</td><td>653</td><td>7</td><td>4</td></tr>",
                            "<tr><td>161</td><td>911</td><td>4</td><td>7</td></tr>",
                            "<tr><td>161</td><td>1068</td><td>6</td><td>4</td></tr>",
                            "<tr><td>161</td><td>1190</td><td>7</td><td>6</td></tr>",
                            "<tr><td>161</td><td>1571</td><td>4</td><td>7</td></tr>",
                            "<tr><td>162</td><td>599</td><td>4</td><td>0</td></tr>",
                            "<tr><td>162</td><td>1205</td><td>6</td><td>4</td></tr>",
                            "<tr><td>162</td><td>1400</td><td>1</td><td>6</td></tr>",
                            "<tr><td>163</td><td>630</td><td>2</td><td>0</td></tr>",
                            "<tr><td>163</td><td>941</td><td>1</td><td>2</td></tr>",
                            "<tr><td>163</td><td>782</td><td>3</td><td>1</td></tr>",
                            "<tr><td>163</td><td>1075</td><td>4</td><td>3</td></tr>",
                            "<tr><td>163</td><td>1107</td><td>3</td><td>4</td></tr>",
                            "<tr><td>163</td><td>1265</td><td>5</td><td>3</td></tr>",
                            "<tr><td>163</td><td>1487</td><td>3</td><td>5</td></tr>",
                            "<tr><td>164</td><td>570</td><td>7</td><td>0</td></tr>",
                            "<tr><td>164</td><td>1010</td><td>2</td><td>7</td></tr>",
                            "<tr><td>164</td><td>742</td><td>6</td><td>2</td></tr>",
                            "<tr><td>164</td><td>1284</td><td>4</td><td>6</td></tr>",
                            "<tr><td>164</td><td>1292</td><td>2</td><td>4</td></tr>",
                            "<tr><td>165</td><td>640</td><td>3</td><td>0</td></tr>",
                            "<tr><td>165</td><td>857</td><td>5</td><td>3</td></tr>",
                            "<tr><td>165</td><td>900</td><td>6</td><td>5</td></tr>",
                            "<tr><td>165</td><td>897</td><td>6</td><td>6</td></tr>",
                            "<tr><td>165</td><td>892</td><td>3</td><td>6</td></tr>",
                            "<tr><td>165</td><td>1141</td><td>1</td><td>3</td></tr>",
                            "<tr><td>165</td><td>1375</td><td>4</td><td>1</td></tr>",
                            "<tr><td>166</td><td>644</td><td>7</td><td>0</td></tr>",
                            "<tr><td>166</td><td>781</td><td>7</td><td>7</td></tr>",
                            "<tr><td>166</td><td>1526</td><td>2</td><td>7</td></tr>",
                            "<tr><td>167</td><td>854</td><td>7</td><td>0</td></tr>",
                            "<tr><td>167</td><td>1414</td><td>3</td><td>7</td></tr>",
                            "<tr><td>168</td><td>930</td><td>3</td><td>0</td></tr>",
                            "<tr><td>168</td><td>792</td><td>3</td><td>3</td></tr>",
                            "<tr><td>168</td><td>794</td><td>4</td><td>3</td></tr>",
                            "<tr><td>168</td><td>1249</td><td>4</td><td>4</td></tr>",
                            "<tr><td>168</td><td>1266</td><td>4</td><td>4</td></tr>",
                            "<tr><td>169</td><td>573</td><td>5</td><td>0</td></tr>",
                            "<tr><td>169</td><td>659</td><td>6</td><td>5</td></tr>",
                            "<tr><td>169</td><td>974</td><td>1</td><td>6</td></tr>",
                            "<tr><td>169</td><td>746</td><td>7</td><td>1</td></tr>",
                            "<tr><td>169</td><td>1356</td><td>4</td><td>7</td></tr>",
                            "<tr><td>169</td><td>1427</td><td>1</td><td>4</td></tr>",
                            "<tr><td>170</td><td>567</td><td>7</td><td>0</td></tr>",
                            "<tr><td>170</td><td>944</td><td>4</td><td>7</td></tr>",
                            "<tr><td>170</td><td>1194</td><td>4</td><td>4</td></tr>",
                            "<tr><td>170</td><td>1267</td><td>7</td><td>4</td></tr>",
                            "<tr><td>170</td><td>1342</td><td>6</td><td>7</td></tr>",
                            "<tr><td>171</td><td>574</td><td>2</td><td>0</td></tr>",
                            "<tr><td>171</td><td>981</td><td>4</td><td>2</td></tr>",
                            "<tr><td>171</td><td>1181</td><td>6</td><td>4</td></tr>",
                            "<tr><td>171</td><td>1329</td><td>5</td><td>6</td></tr>",
                            "<tr><td>171</td><td>1567</td><td>6</td><td>5</td></tr>",
                            "<tr><td>172</td><td>984</td><td>4</td><td>0</td></tr>",
                            "<tr><td>172</td><td>709</td><td>5</td><td>4</td></tr>",
                            "<tr><td>172</td><td>749</td><td>6</td><td>5</td></tr>",
                            "<tr><td>172</td><td>839</td><td>5</td><td>6</td></tr>",
                            "<tr><td>172</td><td>1142</td><td>4</td><td>5</td></tr>",
                            "<tr><td>172</td><td>1171</td><td>5</td><td>4</td></tr>",
                            "<tr><td>172</td><td>1336</td><td>5</td><td>5</td></tr>",
                            "<tr><td>172</td><td>1421</td><td>5</td><td>5</td></tr>",
                            "<tr><td>172</td><td>1491</td><td>2</td><td>5</td></tr>",
                            "<tr><td>173</td><td>913</td><td>1</td><td>0</td></tr>",
                            "<tr><td>173</td><td>669</td><td>7</td><td>1</td></tr>",
                            "<tr><td>173</td><td>1350</td><td>3</td><td>7</td></tr>",
                            "<tr><td>173</td><td>1429</td><td>4</td><td>3</td></tr>",
                            "<tr><td>174</td><td>917</td><td>2</td><td>0</td></tr>",
                            "<tr><td>174</td><td>1015</td><td>5</td><td>2</td></tr>",
                            "<tr><td>174</td><td>682</td><td>3</td><td>5</td></tr>",
                            "<tr><td>174</td><td>1276</td><td>1</td><td>3</td></tr>",
                            "<tr><td>175</td><td>867</td><td>6</td><td>0</td></tr>",
                            "<tr><td>175</td><td>799</td><td>4</td><td>6</td></tr>",
                            "<tr><td>175</td><td>1094</td><td>5</td><td>4</td></tr>",
                            "<tr><td>175</td><td>1133</td><td>2</td><td>5</td></tr>",
                            "<tr><td>175</td><td>1407</td><td>7</td><td>2</td></tr>",
                            "<tr><td>176</td><td>592</td><td>5</td><td>0</td></tr>",
                            "<tr><td>176</td><td>1143</td><td>6</td><td>5</td></tr>",
                            "<tr><td>176</td><td>1278</td><td>6</td><td>6</td></tr>",
                            "<tr><td>176</td><td>1383</td><td>4</td><td>6</td></tr>",
                            "<tr><td>176</td><td>1511</td><td>2</td><td>4</td></tr>",
                            "<tr><td>176</td><td>1570</td><td>3</td><td>2</td></tr>",
                            "<tr><td>177</td><td>785</td><td>3</td><td>0</td></tr>",
                            "<tr><td>177</td><td>831</td><td>7</td><td>3</td></tr>",
                            "<tr><td>177</td><td>1176</td><td>3</td><td>7</td></tr>",
                            "<tr><td>177</td><td>1503</td><td>3</td><td>3</td></tr>",
                            "<tr><td>178</td><td>991</td><td>7</td><td>0</td></tr>",
                            "<tr><td>178</td><td>816</td><td>4</td><td>7</td></tr>",
                            "<tr><td>178</td><td>1211</td><td>3</td><td>4</td></tr>",
                            "<tr><td>178</td><td>1242</td><td>1</td><td>3</td></tr>",
                            "<tr><td>179</td><td>662</td><td>2</td><td>0</td></tr>",
                            "<tr><td>179</td><td>1021</td><td>1</td><td>2</td></tr>",
                            "<tr><td>179</td><td>1497</td><td>1</td><td>1</td></tr>",
                            "<tr><td>180</td><td>905</td><td>5</td><td>0</td></tr>",
                            "<tr><td>180</td><td>1559</td><td>3</td><td>5</td></tr>",
                            "<tr><td>180</td><td>1563</td><td>6</td><td>3</td></tr>",
                            "<tr><td>181</td><td>937</td><td>3</td><td>0</td></tr>",
                            "<tr><td>181</td><td>958</td><td>5</td><td>3</td></tr>",
                            "<tr><td>181</td><td>1022</td><td>1</td><td>5</td></tr>",
                            "<tr><td>181</td><td>677</td><td>4</td><td>1</td></tr>",
                            "<tr><td>181</td><td>731</td><td>6</td><td>4</td></tr>",
                            "<tr><td>181</td><td>1346</td><td>6</td><td>6</td></tr>",
                            "<tr><td>182</td><td>571</td><td>2</td><td>0</td></tr>",
                            "<tr><td>182</td><td>928</td><td>2</td><td>2</td></tr>",
                            "<tr><td>182</td><td>1008</td><td>6</td><td>2</td></tr>",
                            "<tr><td>182</td><td>740</td><td>3</td><td>6</td></tr>",
                            "<tr><td>182</td><td>1188</td><td>1</td><td>3</td></tr>",
                            "<tr><td>182</td><td>1230</td><td>7</td><td>1</td></tr>",
                            "<tr><td>182</td><td>1231</td><td>4</td><td>7</td></tr>",
                            "<tr><td>182</td><td>1308</td><td>1</td><td>4</td></tr>",
                            "<tr><td>182</td><td>1317</td><td>3</td><td>1</td></tr>",
                            "<tr><td>182</td><td>1326</td><td>4</td><td>3</td></tr>",
                            "<tr><td>182</td><td>1410</td><td>4</td><td>4</td></tr>",
                            "<tr><td>182</td><td>1422</td><td>3</td><td>4</td></tr>",
                            "<tr><td>183</td><td>939</td><td>4</td><td>0</td></tr>",
                            "<tr><td>183</td><td>1067</td><td>7</td><td>4</td></tr>",
                            "<tr><td>183</td><td>1147</td><td>4</td><td>7</td></tr>",
                            "<tr><td>183</td><td>1437</td><td>4</td><td>4</td></tr>",
                            "<tr><td>184</td><td>608</td><td>2</td><td>0</td></tr>",
                            "<tr><td>184</td><td>880</td><td>4</td><td>2</td></tr>",
                            "<tr><td>184</td><td>684</td><td>3</td><td>4</td></tr>",
                            "<tr><td>184</td><td>1251</td><td>4</td><td>3</td></tr>",
                            "<tr><td>185</td><td>578</td><td>6</td><td>0</td></tr>",
                            "<tr><td>185</td><td>863</td><td>4</td><td>6</td></tr>",
                            "<tr><td>185</td><td>898</td><td>4</td><td>4</td></tr>",
                            "<tr><td>185</td><td>925</td><td>6</td><td>4</td></tr>",
                            "<tr><td>185</td><td>672</td><td>3</td><td>6</td></tr>",
                            "<tr><td>185</td><td>679</td><td>5</td><td>3</td></tr>",
                            "<tr><td>185</td><td>693</td><td>2</td><td>5</td></tr>",
                            "<tr><td>185</td><td>711</td><td>3</td><td>2</td></tr>",
                            "<tr><td>185</td><td>1125</td><td>3</td><td>3</td></tr>",
                            "<tr><td>185</td><td>1183</td><td>5</td><td>3</td></tr>",
                            "<tr><td>185</td><td>1441</td><td>7</td><td>5</td></tr>",
                            "<tr><td>185</td><td>1463</td><td>7</td><td>7</td></tr>",
                            "<tr><td>186</td><td>615</td><td>3</td><td>0</td></tr>",
                            "<tr><td>186</td><td>1153</td><td>3</td><td>3</td></tr>",
                            "<tr><td>186</td><td>1248</td><td>2</td><td>3</td></tr>",
                            "<tr><td>186</td><td>1467</td><td>3</td><td>2</td></tr>",
                            "<tr><td>187</td><td>633</td><td>6</td><td>0</td></tr>",
                            "<tr><td>187</td><td>868</td><td>4</td><td>6</td></tr>",
                            "<tr><td>187</td><td>957</td><td>4</td><td>4</td></tr>",
                            "<tr><td>187</td><td>695</td><td>6</td><td>4</td></tr>",
                            "<tr><td>187</td><td>743</td><td>2</td><td>6</td></tr>",
                            "<tr><td>187</td><td>766</td><td>1</td><td>2</td></tr>",
                            "<tr><td>187</td><td>1404</td><td>2</td><td>1</td></tr>",
                            "<tr><td>188</td><td>912</td><td>1</td><td>0</td></tr>",
                            "<tr><td>188</td><td>690</td><td>4</td><td>1</td></tr>",
                            "<tr><td>188</td><td>710</td><td>7</td><td>4</td></tr>",
                            "<tr><td>188</td><td>747</td><td>3</td><td>7</td></tr>",
                            "<tr><td>188</td><td>1030</td><td>4</td><td>3</td></tr>",
                            "<tr><td>188</td><td>1390</td><td>5</td><td>4</td></tr>",
                            "<tr><td>189</td><td>699</td><td>2</td><td>0</td></tr>",
                            "<tr><td>189</td><td>753</td><td>1</td><td>2</td></tr>",
                            "<tr><td>189</td><td>1204</td><td>2</td><td>1</td></tr>",
                            "<tr><td>189</td><td>1449</td><td>2</td><td>2</td></tr>",
                            "<tr><td>189</td><td>1576</td><td>3</td><td>2</td></tr>",
                            "<tr><td>190</td><td>600</td><td>7</td><td>0</td></tr>",
                            "<tr><td>190</td><td>989</td><td>1</td><td>7</td></tr>",
                            "<tr><td>190</td><td>1017</td><td>1</td><td>1</td></tr>",
                            "<tr><td>190</td><td>774</td><td>5</td><td>1</td></tr>",
                            "<tr><td>190</td><td>1517</td><td>5</td><td>5</td></tr>",
                            "<tr><td>191</td><td>1039</td><td>6</td><td>0</td></tr>",
                            "<tr><td>191</td><td>1302</td><td>1</td><td>6</td></tr>",
                            "<tr><td>191</td><td>1323</td><td>7</td><td>1</td></tr>",
                            "<tr><td>191</td><td>1502</td><td>2</td><td>7</td></tr>",
                            "<tr><td>191</td><td>1508</td><td>7</td><td>2</td></tr>",
                            "<tr><td>192</td><td>903</td><td>7</td><td>0</td></tr>",
                            "<tr><td>192</td><td>680</td><td>4</td><td>7</td></tr>",
                            "<tr><td>193</td><td>634</td><td>6</td><td>0</td></tr>",
                            "<tr><td>193</td><td>926</td><td>1</td><td>6</td></tr>",
                            "<tr><td>193</td><td>977</td><td>2</td><td>1</td></tr>",
                            "<tr><td>193</td><td>675</td><td>2</td><td>2</td></tr>",
                            "<tr><td>193</td><td>835</td><td>2</td><td>2</td></tr>",
                            "<tr><td>193</td><td>1043</td><td>6</td><td>2</td></tr>",
                            "<tr><td>193</td><td>1238</td><td>6</td><td>6</td></tr>",
                            "<tr><td>194</td><td>1095</td><td>5</td><td>0</td></tr>",
                            "<tr><td>195</td><td>721</td><td>4</td><td>0</td></tr>",
                            "<tr><td>195</td><td>842</td><td>4</td><td>4</td></tr>",
                            "<tr><td>195</td><td>1074</td><td>7</td><td>4</td></tr>",
                            "<tr><td>195</td><td>1184</td><td>5</td><td>7</td></tr>",
                            "<tr><td>195</td><td>1473</td><td>7</td><td>5</td></tr>",
                            "<tr><td>195</td><td>1484</td><td>1</td><td>7</td></tr>",
                            "<tr><td>196</td><td>952</td><td>3</td><td>0</td></tr>",
                            "<tr><td>196</td><td>673</td><td>5</td><td>3</td></tr>",
                            "<tr><td>196</td><td>1314</td><td>5</td><td>5</td></tr>",
                            "<tr><td>196</td><td>1340</td><td>5</td><td>5</td></tr>",
                            "<tr><td>197</td><td>993</td><td>7</td><td>0</td></tr>",
                            "<tr><td>197</td><td>764</td><td>7</td><td>7</td></tr>",
                            "<tr><td>197</td><td>1091</td><td>7</td><td>7</td></tr>",
                            "<tr><td>197</td><td>1172</td><td>7</td><td>7</td></tr>",
                            "<tr><td>197</td><td>1304</td><td>7</td><td>7</td></tr>",
                            "<tr><td>197</td><td>1387</td><td>3</td><td>7</td></tr>",
                            "<tr><td>198</td><td>978</td><td>1</td><td>0</td></tr>",
                            "<tr><td>198</td><td>1011</td><td>7</td><td>1</td></tr>",
                            "<tr><td>198</td><td>1065</td><td>3</td><td>7</td></tr>",
                            "<tr><td>198</td><td>1116</td><td>1</td><td>3</td></tr>",
                            "<tr><td>198</td><td>1138</td><td>5</td><td>1</td></tr>",
                            "<tr><td>198</td><td>1161</td><td>5</td><td>5</td></tr>",
                            "<tr><td>198</td><td>1216</td><td>7</td><td>5</td></tr>",
                            "<tr><td>198</td><td>1420</td><td>5</td><td>7</td></tr>",
                            "</table>"
                        ]
                    }
                }
            ],
            "execution_count": 13
        },
        {
            "cell_type": "code",
            "source": [
                "SELECT szh.szallas_nev,\r\n",
                "        COUNT(*)\r\n",
                "FROM szoba sz  JOIN szallashely szh ON szh.SZALLAS_ID=sz.SZALLAS_FK\r\n",
                "                 JOIN Foglalas f ON sz.SZOBA_ID=f.SZOBA_FK\r\n",
                "GROUP BY szh.szallas_nev\r\n",
                "HAVING COUNT(*)>\r\n",
                "(SELECT szh.szallas_nev,\r\n",
                "COUNT(*)\r\n",
                "FROM szoba sz  JOIN szallashely szh ON szh.SZALLAS_ID=sz.SZALLAS_FK\r\n",
                "                 JOIN Foglalas f ON sz.SZOBA_ID=f.SZOBA_FK\r\n",
                "GROUP BY szh.szallas_nev\r\n",
                "HAVING szh.szallas_nev='Fortuna panzió')"
            ],
            "metadata": {
                "azdata_cell_guid": "c6a8f74e-5ea8-447a-8a76-85d5576a21a0",
                "language": "sql"
            },
            "outputs": [
                {
                    "output_type": "error",
                    "evalue": "Msg 116, Level 16, State 1, Line 12\r\nOnly one expression can be specified in the select list when the subquery is not introduced with EXISTS.",
                    "ename": "",
                    "traceback": []
                },
                {
                    "output_type": "display_data",
                    "data": {
                        "text/html": "Total execution time: 00:00:00.001"
                    },
                    "metadata": {}
                }
            ],
            "execution_count": 24
        }
    ]
}