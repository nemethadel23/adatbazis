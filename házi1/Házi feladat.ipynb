{
    "metadata": {
        "kernelspec": {
            "name": "SQL",
            "display_name": "SQL",
            "language": "sql"
        },
        "language_info": {
            "name": "sql",
            "version": ""
        }
    },
    "nbformat_minor": 2,
    "nbformat": 4,
    "cells": [
        {
            "cell_type": "code",
            "source": [
                "SELECT nettoar\r\n",
                "FROM dvd\r\n",
                "WHERE cim IS NOT NULL AND cim LIKE 'A%'"
            ],
            "metadata": {
                "azdata_cell_guid": "93e116ee-6de9-44c2-9bc1-83a0781a54d5",
                "language": "sql"
            },
            "outputs": [
                {
                    "output_type": "display_data",
                    "data": {
                        "text/html": "(42 rows affected)"
                    },
                    "metadata": {}
                },
                {
                    "output_type": "display_data",
                    "data": {
                        "text/html": "Total execution time: 00:00:00.019"
                    },
                    "metadata": {}
                },
                {
                    "output_type": "execute_result",
                    "metadata": {},
                    "execution_count": 10,
                    "data": {
                        "application/vnd.dataresource+json": {
                            "schema": {
                                "fields": [
                                    {
                                        "name": "nettoar"
                                    }
                                ]
                            },
                            "data": [
                                {
                                    "nettoar": "4244"
                                },
                                {
                                    "nettoar": "5700"
                                },
                                {
                                    "nettoar": "3540"
                                },
                                {
                                    "nettoar": "4241"
                                },
                                {
                                    "nettoar": "5318"
                                },
                                {
                                    "nettoar": "4482"
                                },
                                {
                                    "nettoar": "4311"
                                },
                                {
                                    "nettoar": "5591"
                                },
                                {
                                    "nettoar": "4853"
                                },
                                {
                                    "nettoar": "4906"
                                },
                                {
                                    "nettoar": "4449"
                                },
                                {
                                    "nettoar": "4444"
                                },
                                {
                                    "nettoar": "3509"
                                },
                                {
                                    "nettoar": "5151"
                                },
                                {
                                    "nettoar": "5638"
                                },
                                {
                                    "nettoar": "5706"
                                },
                                {
                                    "nettoar": "3391"
                                },
                                {
                                    "nettoar": "5022"
                                },
                                {
                                    "nettoar": "3914"
                                },
                                {
                                    "nettoar": "5786"
                                },
                                {
                                    "nettoar": "5624"
                                },
                                {
                                    "nettoar": "5326"
                                },
                                {
                                    "nettoar": "4463"
                                },
                                {
                                    "nettoar": "4295"
                                },
                                {
                                    "nettoar": "5900"
                                },
                                {
                                    "nettoar": "3162"
                                },
                                {
                                    "nettoar": "5082"
                                },
                                {
                                    "nettoar": "6072"
                                },
                                {
                                    "nettoar": "5845"
                                },
                                {
                                    "nettoar": "5538"
                                },
                                {
                                    "nettoar": "4963"
                                },
                                {
                                    "nettoar": "4122"
                                },
                                {
                                    "nettoar": "4877"
                                },
                                {
                                    "nettoar": "5833"
                                },
                                {
                                    "nettoar": "4753"
                                },
                                {
                                    "nettoar": "4359"
                                },
                                {
                                    "nettoar": "5187"
                                },
                                {
                                    "nettoar": "5461"
                                },
                                {
                                    "nettoar": "3654"
                                },
                                {
                                    "nettoar": "4863"
                                },
                                {
                                    "nettoar": "5749"
                                },
                                {
                                    "nettoar": "4060"
                                }
                            ]
                        },
                        "text/html": [
                            "<table>",
                            "<tr><th>nettoar</th></tr>",
                            "<tr><td>4244</td></tr>",
                            "<tr><td>5700</td></tr>",
                            "<tr><td>3540</td></tr>",
                            "<tr><td>4241</td></tr>",
                            "<tr><td>5318</td></tr>",
                            "<tr><td>4482</td></tr>",
                            "<tr><td>4311</td></tr>",
                            "<tr><td>5591</td></tr>",
                            "<tr><td>4853</td></tr>",
                            "<tr><td>4906</td></tr>",
                            "<tr><td>4449</td></tr>",
                            "<tr><td>4444</td></tr>",
                            "<tr><td>3509</td></tr>",
                            "<tr><td>5151</td></tr>",
                            "<tr><td>5638</td></tr>",
                            "<tr><td>5706</td></tr>",
                            "<tr><td>3391</td></tr>",
                            "<tr><td>5022</td></tr>",
                            "<tr><td>3914</td></tr>",
                            "<tr><td>5786</td></tr>",
                            "<tr><td>5624</td></tr>",
                            "<tr><td>5326</td></tr>",
                            "<tr><td>4463</td></tr>",
                            "<tr><td>4295</td></tr>",
                            "<tr><td>5900</td></tr>",
                            "<tr><td>3162</td></tr>",
                            "<tr><td>5082</td></tr>",
                            "<tr><td>6072</td></tr>",
                            "<tr><td>5845</td></tr>",
                            "<tr><td>5538</td></tr>",
                            "<tr><td>4963</td></tr>",
                            "<tr><td>4122</td></tr>",
                            "<tr><td>4877</td></tr>",
                            "<tr><td>5833</td></tr>",
                            "<tr><td>4753</td></tr>",
                            "<tr><td>4359</td></tr>",
                            "<tr><td>5187</td></tr>",
                            "<tr><td>5461</td></tr>",
                            "<tr><td>3654</td></tr>",
                            "<tr><td>4863</td></tr>",
                            "<tr><td>5749</td></tr>",
                            "<tr><td>4060</td></tr>",
                            "</table>"
                        ]
                    }
                }
            ],
            "execution_count": 10
        },
        {
            "cell_type": "code",
            "source": [
                "SELECT AVG(nettoar) AS 'DVD-k átlagos ára',\r\n",
                "        MIN(nettoar) AS 'A legolcsóbb DVD',\r\n",
                "        MAX(nettoar) AS 'A legdrágább DVD'\r\n",
                "FROM dvd\r\n",
                "WHERE cim IS NOT NULL AND cim LIKE 'A%'"
            ],
            "metadata": {
                "azdata_cell_guid": "de7136a8-34af-4c49-9bc3-1d965a7140ed",
                "language": "sql",
                "tags": []
            },
            "outputs": [
                {
                    "output_type": "display_data",
                    "data": {
                        "text/html": "(1 row affected)"
                    },
                    "metadata": {}
                },
                {
                    "output_type": "display_data",
                    "data": {
                        "text/html": "Total execution time: 00:00:00.019"
                    },
                    "metadata": {}
                },
                {
                    "output_type": "execute_result",
                    "metadata": {},
                    "execution_count": 11,
                    "data": {
                        "application/vnd.dataresource+json": {
                            "schema": {
                                "fields": [
                                    {
                                        "name": "DVD-k átlagos ára"
                                    },
                                    {
                                        "name": "A legolcsóbb DVD"
                                    },
                                    {
                                        "name": "A legdrágább DVD"
                                    }
                                ]
                            },
                            "data": [
                                {
                                    "DVD-k átlagos ára": "4842,476190476191",
                                    "A legolcsóbb DVD": "3162",
                                    "A legdrágább DVD": "6072"
                                }
                            ]
                        },
                        "text/html": [
                            "<table>",
                            "<tr><th>DVD-k átlagos ára</th><th>A legolcsóbb DVD</th><th>A legdrágább DVD</th></tr>",
                            "<tr><td>4842,476190476191</td><td>3162</td><td>6072</td></tr>",
                            "</table>"
                        ]
                    }
                }
            ],
            "execution_count": 11
        },
        {
            "cell_type": "code",
            "source": [
                "SELECT LEN(cim) AS 'DVD-k címének hossza',\r\n",
                "       count(*) AS 'Darabszám'\r\n",
                "FROM dvd\r\n",
                "WHERE cim IS NOT NULL\r\n",
                "GROUP BY LEN(cim)\r\n",
                "ORDER BY 1"
            ],
            "metadata": {
                "azdata_cell_guid": "8517177e-7927-438b-8b10-6b3494000165",
                "language": "sql"
            },
            "outputs": [
                {
                    "output_type": "display_data",
                    "data": {
                        "text/html": "(51 rows affected)"
                    },
                    "metadata": {}
                },
                {
                    "output_type": "display_data",
                    "data": {
                        "text/html": "Total execution time: 00:00:00.019"
                    },
                    "metadata": {}
                },
                {
                    "output_type": "execute_result",
                    "metadata": {},
                    "execution_count": 17,
                    "data": {
                        "application/vnd.dataresource+json": {
                            "schema": {
                                "fields": [
                                    {
                                        "name": "DVD-k címének hossza"
                                    },
                                    {
                                        "name": "Darabszám"
                                    }
                                ]
                            },
                            "data": [
                                {
                                    "DVD-k címének hossza": "5",
                                    "Darabszám": "2"
                                },
                                {
                                    "DVD-k címének hossza": "6",
                                    "Darabszám": "5"
                                },
                                {
                                    "DVD-k címének hossza": "7",
                                    "Darabszám": "2"
                                },
                                {
                                    "DVD-k címének hossza": "8",
                                    "Darabszám": "3"
                                },
                                {
                                    "DVD-k címének hossza": "10",
                                    "Darabszám": "3"
                                },
                                {
                                    "DVD-k címének hossza": "11",
                                    "Darabszám": "4"
                                },
                                {
                                    "DVD-k címének hossza": "12",
                                    "Darabszám": "8"
                                },
                                {
                                    "DVD-k címének hossza": "13",
                                    "Darabszám": "15"
                                },
                                {
                                    "DVD-k címének hossza": "14",
                                    "Darabszám": "6"
                                },
                                {
                                    "DVD-k címének hossza": "15",
                                    "Darabszám": "17"
                                },
                                {
                                    "DVD-k címének hossza": "16",
                                    "Darabszám": "4"
                                },
                                {
                                    "DVD-k címének hossza": "17",
                                    "Darabszám": "10"
                                },
                                {
                                    "DVD-k címének hossza": "18",
                                    "Darabszám": "9"
                                },
                                {
                                    "DVD-k címének hossza": "19",
                                    "Darabszám": "3"
                                },
                                {
                                    "DVD-k címének hossza": "20",
                                    "Darabszám": "14"
                                },
                                {
                                    "DVD-k címének hossza": "21",
                                    "Darabszám": "14"
                                },
                                {
                                    "DVD-k címének hossza": "22",
                                    "Darabszám": "17"
                                },
                                {
                                    "DVD-k címének hossza": "23",
                                    "Darabszám": "12"
                                },
                                {
                                    "DVD-k címének hossza": "24",
                                    "Darabszám": "16"
                                },
                                {
                                    "DVD-k címének hossza": "25",
                                    "Darabszám": "2"
                                },
                                {
                                    "DVD-k címének hossza": "26",
                                    "Darabszám": "14"
                                },
                                {
                                    "DVD-k címének hossza": "27",
                                    "Darabszám": "8"
                                },
                                {
                                    "DVD-k címének hossza": "28",
                                    "Darabszám": "10"
                                },
                                {
                                    "DVD-k címének hossza": "29",
                                    "Darabszám": "13"
                                },
                                {
                                    "DVD-k címének hossza": "30",
                                    "Darabszám": "7"
                                },
                                {
                                    "DVD-k címének hossza": "31",
                                    "Darabszám": "8"
                                },
                                {
                                    "DVD-k címének hossza": "32",
                                    "Darabszám": "11"
                                },
                                {
                                    "DVD-k címének hossza": "33",
                                    "Darabszám": "4"
                                },
                                {
                                    "DVD-k címének hossza": "34",
                                    "Darabszám": "7"
                                },
                                {
                                    "DVD-k címének hossza": "35",
                                    "Darabszám": "5"
                                },
                                {
                                    "DVD-k címének hossza": "36",
                                    "Darabszám": "9"
                                },
                                {
                                    "DVD-k címének hossza": "37",
                                    "Darabszám": "5"
                                },
                                {
                                    "DVD-k címének hossza": "38",
                                    "Darabszám": "2"
                                },
                                {
                                    "DVD-k címének hossza": "39",
                                    "Darabszám": "5"
                                },
                                {
                                    "DVD-k címének hossza": "40",
                                    "Darabszám": "3"
                                },
                                {
                                    "DVD-k címének hossza": "41",
                                    "Darabszám": "3"
                                },
                                {
                                    "DVD-k címének hossza": "42",
                                    "Darabszám": "5"
                                },
                                {
                                    "DVD-k címének hossza": "43",
                                    "Darabszám": "7"
                                },
                                {
                                    "DVD-k címének hossza": "44",
                                    "Darabszám": "4"
                                },
                                {
                                    "DVD-k címének hossza": "45",
                                    "Darabszám": "1"
                                },
                                {
                                    "DVD-k címének hossza": "47",
                                    "Darabszám": "3"
                                },
                                {
                                    "DVD-k címének hossza": "49",
                                    "Darabszám": "3"
                                },
                                {
                                    "DVD-k címének hossza": "50",
                                    "Darabszám": "2"
                                },
                                {
                                    "DVD-k címének hossza": "51",
                                    "Darabszám": "1"
                                },
                                {
                                    "DVD-k címének hossza": "52",
                                    "Darabszám": "2"
                                },
                                {
                                    "DVD-k címének hossza": "53",
                                    "Darabszám": "1"
                                },
                                {
                                    "DVD-k címének hossza": "54",
                                    "Darabszám": "1"
                                },
                                {
                                    "DVD-k címének hossza": "55",
                                    "Darabszám": "2"
                                },
                                {
                                    "DVD-k címének hossza": "56",
                                    "Darabszám": "2"
                                },
                                {
                                    "DVD-k címének hossza": "57",
                                    "Darabszám": "2"
                                },
                                {
                                    "DVD-k címének hossza": "63",
                                    "Darabszám": "1"
                                }
                            ]
                        },
                        "text/html": [
                            "<table>",
                            "<tr><th>DVD-k címének hossza</th><th>Darabszám</th></tr>",
                            "<tr><td>5</td><td>2</td></tr>",
                            "<tr><td>6</td><td>5</td></tr>",
                            "<tr><td>7</td><td>2</td></tr>",
                            "<tr><td>8</td><td>3</td></tr>",
                            "<tr><td>10</td><td>3</td></tr>",
                            "<tr><td>11</td><td>4</td></tr>",
                            "<tr><td>12</td><td>8</td></tr>",
                            "<tr><td>13</td><td>15</td></tr>",
                            "<tr><td>14</td><td>6</td></tr>",
                            "<tr><td>15</td><td>17</td></tr>",
                            "<tr><td>16</td><td>4</td></tr>",
                            "<tr><td>17</td><td>10</td></tr>",
                            "<tr><td>18</td><td>9</td></tr>",
                            "<tr><td>19</td><td>3</td></tr>",
                            "<tr><td>20</td><td>14</td></tr>",
                            "<tr><td>21</td><td>14</td></tr>",
                            "<tr><td>22</td><td>17</td></tr>",
                            "<tr><td>23</td><td>12</td></tr>",
                            "<tr><td>24</td><td>16</td></tr>",
                            "<tr><td>25</td><td>2</td></tr>",
                            "<tr><td>26</td><td>14</td></tr>",
                            "<tr><td>27</td><td>8</td></tr>",
                            "<tr><td>28</td><td>10</td></tr>",
                            "<tr><td>29</td><td>13</td></tr>",
                            "<tr><td>30</td><td>7</td></tr>",
                            "<tr><td>31</td><td>8</td></tr>",
                            "<tr><td>32</td><td>11</td></tr>",
                            "<tr><td>33</td><td>4</td></tr>",
                            "<tr><td>34</td><td>7</td></tr>",
                            "<tr><td>35</td><td>5</td></tr>",
                            "<tr><td>36</td><td>9</td></tr>",
                            "<tr><td>37</td><td>5</td></tr>",
                            "<tr><td>38</td><td>2</td></tr>",
                            "<tr><td>39</td><td>5</td></tr>",
                            "<tr><td>40</td><td>3</td></tr>",
                            "<tr><td>41</td><td>3</td></tr>",
                            "<tr><td>42</td><td>5</td></tr>",
                            "<tr><td>43</td><td>7</td></tr>",
                            "<tr><td>44</td><td>4</td></tr>",
                            "<tr><td>45</td><td>1</td></tr>",
                            "<tr><td>47</td><td>3</td></tr>",
                            "<tr><td>49</td><td>3</td></tr>",
                            "<tr><td>50</td><td>2</td></tr>",
                            "<tr><td>51</td><td>1</td></tr>",
                            "<tr><td>52</td><td>2</td></tr>",
                            "<tr><td>53</td><td>1</td></tr>",
                            "<tr><td>54</td><td>1</td></tr>",
                            "<tr><td>55</td><td>2</td></tr>",
                            "<tr><td>56</td><td>2</td></tr>",
                            "<tr><td>57</td><td>2</td></tr>",
                            "<tr><td>63</td><td>1</td></tr>",
                            "</table>"
                        ]
                    }
                }
            ],
            "execution_count": 17
        },
        {
            "cell_type": "code",
            "source": [
                "SELECT TOP 5 cim AS 'DVD-k címe', \r\n",
                "        LEN(cim) AS 'A DVD-k címének hossza'\r\n",
                "FROM dvd\r\n",
                "WHERE cim IS NOT NULL\r\n",
                "GROUP BY cim\r\n",
                "ORDER BY 2 DESC"
            ],
            "metadata": {
                "azdata_cell_guid": "fba415bf-1c2e-43dc-addf-50b20f5ae784",
                "language": "sql"
            },
            "outputs": [
                {
                    "output_type": "display_data",
                    "data": {
                        "text/html": "(5 rows affected)"
                    },
                    "metadata": {}
                },
                {
                    "output_type": "display_data",
                    "data": {
                        "text/html": "Total execution time: 00:00:00.021"
                    },
                    "metadata": {}
                },
                {
                    "output_type": "execute_result",
                    "metadata": {},
                    "execution_count": 21,
                    "data": {
                        "application/vnd.dataresource+json": {
                            "schema": {
                                "fields": [
                                    {
                                        "name": "DVD-k címe"
                                    },
                                    {
                                        "name": "A DVD-k címének hossza"
                                    }
                                ]
                            },
                            "data": [
                                {
                                    "DVD-k címe": "Dicső napok és hétköznapok 1848 - Digitális forrásgyűjtemény 1.",
                                    "A DVD-k címének hossza": "63"
                                },
                                {
                                    "DVD-k címe": "Kétfejű sas: A Habsburg-uralom Magyarországon (1699-1790)",
                                    "A DVD-k címének hossza": "57"
                                },
                                {
                                    "DVD-k címe": "Multimédiás Menedzsment Könyvtár 1. - Változásmenedzsment",
                                    "A DVD-k címének hossza": "57"
                                },
                                {
                                    "DVD-k címe": "Madárdalos kirándulások - Madártani oktató CD-ROM (1999)",
                                    "A DVD-k címének hossza": "56"
                                },
                                {
                                    "DVD-k címe": "Matematika felkészítő az érettségi és felvételi vizsgára",
                                    "A DVD-k címének hossza": "56"
                                }
                            ]
                        },
                        "text/html": [
                            "<table>",
                            "<tr><th>DVD-k címe</th><th>A DVD-k címének hossza</th></tr>",
                            "<tr><td>Dicső napok és hétköznapok 1848 - Digitális forrásgyűjtemény 1.</td><td>63</td></tr>",
                            "<tr><td>Kétfejű sas: A Habsburg-uralom Magyarországon (1699-1790)</td><td>57</td></tr>",
                            "<tr><td>Multimédiás Menedzsment Könyvtár 1. - Változásmenedzsment</td><td>57</td></tr>",
                            "<tr><td>Madárdalos kirándulások - Madártani oktató CD-ROM (1999)</td><td>56</td></tr>",
                            "<tr><td>Matematika felkészítő az érettségi és felvételi vizsgára</td><td>56</td></tr>",
                            "</table>"
                        ]
                    }
                }
            ],
            "execution_count": 21
        },
        {
            "cell_type": "code",
            "source": [
                "SELECT TOP 1 LEN(cim) AS 'DVD-k címének hossza',\r\n",
                "       count(*) AS 'Darabszám'\r\n",
                "FROM dvd\r\n",
                "WHERE cim IS NOT NULL\r\n",
                "GROUP BY LEN(cim)\r\n",
                "ORDER BY 2 DESC\r\n",
                ""
            ],
            "metadata": {
                "azdata_cell_guid": "39906dcf-b166-413f-8e13-a7db9ebd4752",
                "language": "sql"
            },
            "outputs": [
                {
                    "output_type": "display_data",
                    "data": {
                        "text/html": "(1 row affected)"
                    },
                    "metadata": {}
                },
                {
                    "output_type": "display_data",
                    "data": {
                        "text/html": "Total execution time: 00:00:00.028"
                    },
                    "metadata": {}
                },
                {
                    "output_type": "execute_result",
                    "metadata": {},
                    "execution_count": 25,
                    "data": {
                        "application/vnd.dataresource+json": {
                            "schema": {
                                "fields": [
                                    {
                                        "name": "DVD-k címének hossza"
                                    },
                                    {
                                        "name": "Darabszám"
                                    }
                                ]
                            },
                            "data": [
                                {
                                    "DVD-k címének hossza": "15",
                                    "Darabszám": "17"
                                }
                            ]
                        },
                        "text/html": [
                            "<table>",
                            "<tr><th>DVD-k címének hossza</th><th>Darabszám</th></tr>",
                            "<tr><td>15</td><td>17</td></tr>",
                            "</table>"
                        ]
                    }
                }
            ],
            "execution_count": 25
        },
        {
            "cell_type": "code",
            "source": [
                "SELECT n.lang AS 'Nyelvek',\r\n",
                "        COUNT(*) AS 'Darabszám'\r\n",
                "FROM dvd d JOIN nyelvek n ON d.lang=n.id\r\n",
                "WHERE d.lang IS NOT NULL\r\n",
                "GROUP BY n.lang\r\n",
                "\r\n",
                ""
            ],
            "metadata": {
                "azdata_cell_guid": "4506cb46-09be-451e-be41-135cedf30789",
                "language": "sql"
            },
            "outputs": [
                {
                    "output_type": "display_data",
                    "data": {
                        "text/html": "(8 rows affected)"
                    },
                    "metadata": {}
                },
                {
                    "output_type": "display_data",
                    "data": {
                        "text/html": "Total execution time: 00:00:00.032"
                    },
                    "metadata": {}
                },
                {
                    "output_type": "execute_result",
                    "metadata": {},
                    "execution_count": 37,
                    "data": {
                        "application/vnd.dataresource+json": {
                            "schema": {
                                "fields": [
                                    {
                                        "name": "lang"
                                    },
                                    {
                                        "name": "Darabszám"
                                    }
                                ]
                            },
                            "data": [
                                {
                                    "lang": "angol",
                                    "Darabszám": "90"
                                },
                                {
                                    "lang": "angol/német",
                                    "Darabszám": "5"
                                },
                                {
                                    "lang": "francia",
                                    "Darabszám": "5"
                                },
                                {
                                    "lang": "magyar",
                                    "Darabszám": "196"
                                },
                                {
                                    "lang": "magyar/angol",
                                    "Darabszám": "1"
                                },
                                {
                                    "lang": "német",
                                    "Darabszám": "11"
                                },
                                {
                                    "lang": "olasz",
                                    "Darabszám": "5"
                                },
                                {
                                    "lang": "orosz",
                                    "Darabszám": "2"
                                }
                            ]
                        },
                        "text/html": [
                            "<table>",
                            "<tr><th>lang</th><th>Darabszám</th></tr>",
                            "<tr><td>angol</td><td>90</td></tr>",
                            "<tr><td>angol/német</td><td>5</td></tr>",
                            "<tr><td>francia</td><td>5</td></tr>",
                            "<tr><td>magyar</td><td>196</td></tr>",
                            "<tr><td>magyar/angol</td><td>1</td></tr>",
                            "<tr><td>német</td><td>11</td></tr>",
                            "<tr><td>olasz</td><td>5</td></tr>",
                            "<tr><td>orosz</td><td>2</td></tr>",
                            "</table>"
                        ]
                    }
                }
            ],
            "execution_count": 37
        }
    ]
}